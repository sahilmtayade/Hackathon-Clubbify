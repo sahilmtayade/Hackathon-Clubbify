{
 "cells": [
  {
   "cell_type": "code",
   "execution_count": 71,
   "metadata": {},
   "outputs": [],
   "source": [
    "import pandas as pd\n",
    "import requests\n",
    "from bs4 import BeautifulSoup\n",
    "import re\n"
   ]
  },
  {
   "cell_type": "code",
   "execution_count": 22,
   "metadata": {},
   "outputs": [],
   "source": [
    "\n",
    "club = \"computer\"\n",
    "campus = \"Columbus\"\n",
    "\n",
    "d = requests.get(\n",
    "    #f'https://activities.osu.edu/involvement/student_organizations/find_a_student_org?v=list&s={club}&c={campus}'\n",
    "    'https://activities.osu.edu/involvement/student_organizations/find_a_student_org?v=list&l=ALL&c=Columbus')\n",
    "data = d.text\n",
    "# print(data)\n"
   ]
  },
  {
   "cell_type": "code",
   "execution_count": 223,
   "metadata": {},
   "outputs": [],
   "source": [
    "def date_parse(input_str):\n",
    "    days = [\"Sundays\", \"Mondays\", \"Tuesdays\", \"Wednesdays\", \"Thursdays\", \"Fridays\", \"Saturdays\"]\n",
    "    regex = \"(?:^|\\s)((?:(?:M|Mo|T|Tu|Tue|W|We|Wed|Wedn|Wedne|T|Th|Thu|Thur|F|Fr|S|Sa|Sat|Satu|S|Su)|(?:Mon|Tues|Wednes|Thurs|Fri|Satur|Sun)(?:d|da|day)?)s?)\\.?,?\\s*?(?:@|at)?\\s?(\\d{3,4}|(?:\\d{1,2}:?(?:\\d{2})?))\\s?(pm|am)?\"\n",
    "    result = re.search(regex, input_str, re.I)\n",
    "\n",
    "    if result == None:\n",
    "        parsed_day = 3\n",
    "        parsed_time = 700\n",
    "    else:\n",
    "        day = result.group(1)\n",
    "        time = result.group(2)\n",
    "        meridian = result.group(3)\n",
    "        print(day, time, meridian)\n",
    "\n",
    "        # So, if there is no day list the default will be 4\n",
    "        # parsed_day = 4\n",
    "        for i in range(len(days)):\n",
    "            if days[i].__contains__(day):\n",
    "                parsed_day = i\n",
    "                print(\"test\")\n",
    "                break\n",
    "\n",
    "        # 7 = 0700\n",
    "        # 7:20 = 0720\n",
    "        # 720 = 0720\n",
    "        # 12 = 1200\n",
    "        # 7am = 0700\n",
    "        # 7pm = 1900\n",
    "        # 7:20am = 0720\n",
    "        # 7:20pm = 1920\n",
    "\n",
    "        # Default time is 700\n",
    "        # parsed_time = 700\n",
    "        if meridian == None:\n",
    "            if not time.__contains__(\":\"):\n",
    "                if len(time) < 3:\n",
    "                    parsed_time = int(time) * 100\n",
    "                else:\n",
    "                    parsed_time = int(time)\n",
    "            else:\n",
    "                time = time.replace(\":\", \"\")\n",
    "                parsed_time = int(time)\n",
    "        else:   # There is a meridian\n",
    "            if meridian == \"am\":\n",
    "                time = time.replace(\":\", \"\")\n",
    "                if len(time) < 3:\n",
    "                    parsed_time = int(time) * 100\n",
    "                else:\n",
    "                    parsed_time = int(time)\n",
    "            else:\n",
    "                time = time.replace(\":\", \"\")\n",
    "                if len(time) < 3:\n",
    "                    # 700\n",
    "                    parsed_time = int(time) * 100 + 1200\n",
    "                else:\n",
    "                    #UNTESTED\n",
    "                    parsed_time = int(time) + 1200\n",
    "            \n",
    "            if time[0:2] == \"12\": # and meridian == \"am\":\n",
    "                parsed_time -= 1200\n",
    "            # elif time[0:2] == \"12\" and meridian == \"pm\":\n",
    "            #     parsed_time -= 1200\n",
    "    \n",
    "    return parsed_day, parsed_time"
   ]
  },
  {
   "cell_type": "code",
   "execution_count": 225,
   "metadata": {},
   "outputs": [
    {
     "name": "stdout",
     "output_type": "stream",
     "text": [
      "Mon 12:50 pm\n",
      "test\n",
      "(1, 1250)\n"
     ]
    }
   ],
   "source": [
    "# Testing if the date parser works correctly\n",
    "print(date_parse(\"Mon 12:50pm\")) #Tuesday @ 12:00pm Columbus, OH 43210\"))\n",
    "#print(date_parse(\"Monday @ 7Columbus, OH 43210\"))"
   ]
  },
  {
   "cell_type": "code",
   "execution_count": 227,
   "metadata": {},
   "outputs": [
    {
     "name": "stdout",
     "output_type": "stream",
     "text": [
      "Sundays at 17002121 Tuttle Park PlaceColumbus, OH 43210\n",
      "Sundays 1700 None\n",
      "test\n",
      "TEST\n",
      "Monday @ 7pmColumbus, OH 43210\n",
      "Monday 7 pm\n",
      "test\n",
      "TEST\n"
     ]
    },
    {
     "name": "stderr",
     "output_type": "stream",
     "text": [
      "C:\\Users\\lando\\AppData\\Local\\Temp\\ipykernel_34800\\3465631864.py:63: FutureWarning: The frame.append method is deprecated and will be removed from pandas in a future version. Use pandas.concat instead.\n",
      "  df = df.append(datarow, ignore_index=True)\n",
      "C:\\Users\\lando\\AppData\\Local\\Temp\\ipykernel_34800\\3465631864.py:63: FutureWarning: The frame.append method is deprecated and will be removed from pandas in a future version. Use pandas.concat instead.\n",
      "  df = df.append(datarow, ignore_index=True)\n"
     ]
    },
    {
     "name": "stdout",
     "output_type": "stream",
     "text": [
      "Wednesdays @ 7pm (bi-weekly)Enarson Classroom Building2009 Millikin RdColumbus, OH 43210\n",
      "Wednesdays 7 pm\n",
      "test\n",
      "TEST\n",
      "Columbus, OH 43210\n",
      "TEST\n"
     ]
    },
    {
     "name": "stderr",
     "output_type": "stream",
     "text": [
      "C:\\Users\\lando\\AppData\\Local\\Temp\\ipykernel_34800\\3465631864.py:63: FutureWarning: The frame.append method is deprecated and will be removed from pandas in a future version. Use pandas.concat instead.\n",
      "  df = df.append(datarow, ignore_index=True)\n",
      "C:\\Users\\lando\\AppData\\Local\\Temp\\ipykernel_34800\\3465631864.py:63: FutureWarning: The frame.append method is deprecated and will be removed from pandas in a future version. Use pandas.concat instead.\n",
      "  df = df.append(datarow, ignore_index=True)\n"
     ]
    },
    {
     "name": "stdout",
     "output_type": "stream",
     "text": [
      "Sunday 6pmColumbus, OH 43210\n",
      "Sunday 6 pm\n",
      "test\n",
      "TEST\n",
      "Mondays and Thursdays 9-11pmColumbus, OH 43210\n",
      "Thursdays 9 None\n",
      "test\n",
      "TEST\n"
     ]
    },
    {
     "name": "stderr",
     "output_type": "stream",
     "text": [
      "C:\\Users\\lando\\AppData\\Local\\Temp\\ipykernel_34800\\3465631864.py:63: FutureWarning: The frame.append method is deprecated and will be removed from pandas in a future version. Use pandas.concat instead.\n",
      "  df = df.append(datarow, ignore_index=True)\n",
      "C:\\Users\\lando\\AppData\\Local\\Temp\\ipykernel_34800\\3465631864.py:63: FutureWarning: The frame.append method is deprecated and will be removed from pandas in a future version. Use pandas.concat instead.\n",
      "  df = df.append(datarow, ignore_index=True)\n"
     ]
    },
    {
     "name": "stdout",
     "output_type": "stream",
     "text": [
      "Thursdays 7pm-8pm1739 N High StColumbus, OH 43210\n",
      "Thursdays 7 pm\n",
      "test\n",
      "TEST\n",
      "Monday and Thursday 7-9 P.M.337 W. 17th Ave.Columbus, OH 43210\n",
      "Thursday 7 None\n",
      "test\n",
      "TEST\n"
     ]
    },
    {
     "name": "stderr",
     "output_type": "stream",
     "text": [
      "C:\\Users\\lando\\AppData\\Local\\Temp\\ipykernel_34800\\3465631864.py:63: FutureWarning: The frame.append method is deprecated and will be removed from pandas in a future version. Use pandas.concat instead.\n",
      "  df = df.append(datarow, ignore_index=True)\n",
      "C:\\Users\\lando\\AppData\\Local\\Temp\\ipykernel_34800\\3465631864.py:63: FutureWarning: The frame.append method is deprecated and will be removed from pandas in a future version. Use pandas.concat instead.\n",
      "  df = df.append(datarow, ignore_index=True)\n"
     ]
    },
    {
     "name": "stdout",
     "output_type": "stream",
     "text": [
      "Tuesdays at 8pmpassword: CEOColumbus, OH 43210\n",
      "Tuesdays 8 pm\n",
      "test\n",
      "TEST\n",
      "1st Monday of the month at 11:30am370 W Ninth AveColumbus, OH 43210\n",
      "TEST\n"
     ]
    },
    {
     "name": "stderr",
     "output_type": "stream",
     "text": [
      "C:\\Users\\lando\\AppData\\Local\\Temp\\ipykernel_34800\\3465631864.py:63: FutureWarning: The frame.append method is deprecated and will be removed from pandas in a future version. Use pandas.concat instead.\n",
      "  df = df.append(datarow, ignore_index=True)\n",
      "C:\\Users\\lando\\AppData\\Local\\Temp\\ipykernel_34800\\3465631864.py:63: FutureWarning: The frame.append method is deprecated and will be removed from pandas in a future version. Use pandas.concat instead.\n",
      "  df = df.append(datarow, ignore_index=True)\n"
     ]
    },
    {
     "name": "stdout",
     "output_type": "stream",
     "text": [
      "Friday 7:00-10 (you may come late or leave early)Columbus, OH 43210\n",
      "Friday 7:00 None\n",
      "test\n",
      "TEST\n",
      "Tuesdays, Thursdays and Sundays at 7pm2070 Neil AveColumbus, OH 43210\n",
      "Sundays 7 pm\n",
      "test\n",
      "TEST\n"
     ]
    },
    {
     "name": "stderr",
     "output_type": "stream",
     "text": [
      "C:\\Users\\lando\\AppData\\Local\\Temp\\ipykernel_34800\\3465631864.py:63: FutureWarning: The frame.append method is deprecated and will be removed from pandas in a future version. Use pandas.concat instead.\n",
      "  df = df.append(datarow, ignore_index=True)\n",
      "C:\\Users\\lando\\AppData\\Local\\Temp\\ipykernel_34800\\3465631864.py:63: FutureWarning: The frame.append method is deprecated and will be removed from pandas in a future version. Use pandas.concat instead.\n",
      "  df = df.append(datarow, ignore_index=True)\n"
     ]
    },
    {
     "name": "stdout",
     "output_type": "stream",
     "text": [
      "Varies2009 Millikin Rd Columbus, OH 43210Columbus, OH 43210\n",
      "TEST\n",
      "Thursdays 6pm1739 N High StTanya Rutner Hartman RoomColumbus, OH 43210\n",
      "Thursdays 6 pm\n",
      "test\n",
      "TEST\n"
     ]
    },
    {
     "name": "stderr",
     "output_type": "stream",
     "text": [
      "C:\\Users\\lando\\AppData\\Local\\Temp\\ipykernel_34800\\3465631864.py:63: FutureWarning: The frame.append method is deprecated and will be removed from pandas in a future version. Use pandas.concat instead.\n",
      "  df = df.append(datarow, ignore_index=True)\n",
      "C:\\Users\\lando\\AppData\\Local\\Temp\\ipykernel_34800\\3465631864.py:63: FutureWarning: The frame.append method is deprecated and will be removed from pandas in a future version. Use pandas.concat instead.\n",
      "  df = df.append(datarow, ignore_index=True)\n"
     ]
    },
    {
     "name": "stdout",
     "output_type": "stream",
     "text": [
      "Columbus, OH 43210\n",
      "TEST\n",
      "Tuesdays and Thursdays, 6 to 9 PM2009 Millikin RdColumbus, OH 43210\n",
      "Thursdays 6 None\n",
      "test\n",
      "TEST\n"
     ]
    },
    {
     "name": "stderr",
     "output_type": "stream",
     "text": [
      "C:\\Users\\lando\\AppData\\Local\\Temp\\ipykernel_34800\\3465631864.py:63: FutureWarning: The frame.append method is deprecated and will be removed from pandas in a future version. Use pandas.concat instead.\n",
      "  df = df.append(datarow, ignore_index=True)\n",
      "C:\\Users\\lando\\AppData\\Local\\Temp\\ipykernel_34800\\3465631864.py:63: FutureWarning: The frame.append method is deprecated and will be removed from pandas in a future version. Use pandas.concat instead.\n",
      "  df = df.append(datarow, ignore_index=True)\n"
     ]
    },
    {
     "name": "stdout",
     "output_type": "stream",
     "text": [
      "Weekly Depending of Members SchedulesColumbus, OH 43210\n",
      "TEST\n",
      "Biweekly - Friday 11:30 AM - 12:30 PM500 W 12th AveColumbus, OH 43201Columbus, OH 43210\n",
      "Friday 11:30 AM\n",
      "test\n",
      "TEST\n"
     ]
    },
    {
     "name": "stderr",
     "output_type": "stream",
     "text": [
      "C:\\Users\\lando\\AppData\\Local\\Temp\\ipykernel_34800\\3465631864.py:63: FutureWarning: The frame.append method is deprecated and will be removed from pandas in a future version. Use pandas.concat instead.\n",
      "  df = df.append(datarow, ignore_index=True)\n",
      "C:\\Users\\lando\\AppData\\Local\\Temp\\ipykernel_34800\\3465631864.py:63: FutureWarning: The frame.append method is deprecated and will be removed from pandas in a future version. Use pandas.concat instead.\n",
      "  df = df.append(datarow, ignore_index=True)\n"
     ]
    },
    {
     "name": "stdout",
     "output_type": "stream",
     "text": [
      "In-person & zoom (Thursday 7:00 PM - 8:00 PM EST)Columbus, OH 43210\n",
      "TEST\n",
      "Tuesday, 7:05-8:05pmSchoenbaum Hall 215Columbus, OH 43210\n",
      "Tuesday 7:05 None\n",
      "test\n",
      "TEST\n"
     ]
    },
    {
     "name": "stderr",
     "output_type": "stream",
     "text": [
      "C:\\Users\\lando\\AppData\\Local\\Temp\\ipykernel_34800\\3465631864.py:63: FutureWarning: The frame.append method is deprecated and will be removed from pandas in a future version. Use pandas.concat instead.\n",
      "  df = df.append(datarow, ignore_index=True)\n",
      "C:\\Users\\lando\\AppData\\Local\\Temp\\ipykernel_34800\\3465631864.py:63: FutureWarning: The frame.append method is deprecated and will be removed from pandas in a future version. Use pandas.concat instead.\n",
      "  df = df.append(datarow, ignore_index=True)\n"
     ]
    },
    {
     "name": "stdout",
     "output_type": "stream",
     "text": [
      "TBD (based on member schedules)Columbus, OH 43210\n",
      "TEST\n",
      "Email actuarial@osu.edu to receive detailsColumbus, OH 43210\n",
      "TEST\n"
     ]
    },
    {
     "name": "stderr",
     "output_type": "stream",
     "text": [
      "C:\\Users\\lando\\AppData\\Local\\Temp\\ipykernel_34800\\3465631864.py:63: FutureWarning: The frame.append method is deprecated and will be removed from pandas in a future version. Use pandas.concat instead.\n",
      "  df = df.append(datarow, ignore_index=True)\n",
      "C:\\Users\\lando\\AppData\\Local\\Temp\\ipykernel_34800\\3465631864.py:63: FutureWarning: The frame.append method is deprecated and will be removed from pandas in a future version. Use pandas.concat instead.\n",
      "  df = df.append(datarow, ignore_index=True)\n"
     ]
    },
    {
     "name": "stdout",
     "output_type": "stream",
     "text": [
      "Columbus, OH 43210\n",
      "TEST\n",
      "Wednesday 11:45305 w 12th ave Columbus, OH 43210Columbus, OH 43210\n",
      "Wednesday 11:45 None\n",
      "test\n",
      "TEST\n"
     ]
    },
    {
     "name": "stderr",
     "output_type": "stream",
     "text": [
      "C:\\Users\\lando\\AppData\\Local\\Temp\\ipykernel_34800\\3465631864.py:63: FutureWarning: The frame.append method is deprecated and will be removed from pandas in a future version. Use pandas.concat instead.\n",
      "  df = df.append(datarow, ignore_index=True)\n",
      "C:\\Users\\lando\\AppData\\Local\\Temp\\ipykernel_34800\\3465631864.py:63: FutureWarning: The frame.append method is deprecated and will be removed from pandas in a future version. Use pandas.concat instead.\n",
      "  df = df.append(datarow, ignore_index=True)\n"
     ]
    },
    {
     "name": "stdout",
     "output_type": "stream",
     "text": [
      "You schedule your own time slot 1hr/weekStudent UnionColumbus, OH 43210\n",
      "TEST\n",
      "Varies55 W. 12th AvenueColumbus, OH 43210\n",
      "W 12 None\n",
      "test\n",
      "TEST\n"
     ]
    },
    {
     "name": "stderr",
     "output_type": "stream",
     "text": [
      "C:\\Users\\lando\\AppData\\Local\\Temp\\ipykernel_34800\\3465631864.py:63: FutureWarning: The frame.append method is deprecated and will be removed from pandas in a future version. Use pandas.concat instead.\n",
      "  df = df.append(datarow, ignore_index=True)\n",
      "C:\\Users\\lando\\AppData\\Local\\Temp\\ipykernel_34800\\3465631864.py:63: FutureWarning: The frame.append method is deprecated and will be removed from pandas in a future version. Use pandas.concat instead.\n",
      "  df = df.append(datarow, ignore_index=True)\n"
     ]
    },
    {
     "name": "stdout",
     "output_type": "stream",
     "text": [
      "Thursdays, 8:00 p.m. - 9:00p.m.1739 N. High StColumbus, OH 43210\n",
      "Thursdays 8:00 None\n",
      "test\n",
      "TEST\n",
      "Columbus, OH 43210\n",
      "TEST\n"
     ]
    },
    {
     "name": "stderr",
     "output_type": "stream",
     "text": [
      "C:\\Users\\lando\\AppData\\Local\\Temp\\ipykernel_34800\\3465631864.py:63: FutureWarning: The frame.append method is deprecated and will be removed from pandas in a future version. Use pandas.concat instead.\n",
      "  df = df.append(datarow, ignore_index=True)\n",
      "C:\\Users\\lando\\AppData\\Local\\Temp\\ipykernel_34800\\3465631864.py:63: FutureWarning: The frame.append method is deprecated and will be removed from pandas in a future version. Use pandas.concat instead.\n",
      "  df = df.append(datarow, ignore_index=True)\n"
     ]
    },
    {
     "name": "stdout",
     "output_type": "stream",
     "text": [
      "Wednesday 7:30PMColumbus, OH 43210\n",
      "Wednesday 7:30 PM\n",
      "test\n",
      "TEST\n",
      "Weekly on Mondays at 6:30pm1739 N High StColumbus, OH 43210Columbus, OH 43210\n",
      "Mondays 6:30 pm\n",
      "test\n",
      "TEST\n"
     ]
    },
    {
     "name": "stderr",
     "output_type": "stream",
     "text": [
      "C:\\Users\\lando\\AppData\\Local\\Temp\\ipykernel_34800\\3465631864.py:63: FutureWarning: The frame.append method is deprecated and will be removed from pandas in a future version. Use pandas.concat instead.\n",
      "  df = df.append(datarow, ignore_index=True)\n",
      "C:\\Users\\lando\\AppData\\Local\\Temp\\ipykernel_34800\\3465631864.py:63: FutureWarning: The frame.append method is deprecated and will be removed from pandas in a future version. Use pandas.concat instead.\n",
      "  df = df.append(datarow, ignore_index=True)\n"
     ]
    },
    {
     "name": "stdout",
     "output_type": "stream",
     "text": [
      "Wednesdays 7:00-9:00 PM30 W Woodruff AveColumbus, OH 43210Columbus, OH 43210\n",
      "Wednesdays 7:00 None\n",
      "test\n",
      "TEST\n",
      "Wednesdays, 7:00pm - 9:00pm154 W. 12th AvenueColumbus, OH 43210\n",
      "Wednesdays 7:00 pm\n",
      "test\n",
      "TEST\n"
     ]
    },
    {
     "name": "stderr",
     "output_type": "stream",
     "text": [
      "C:\\Users\\lando\\AppData\\Local\\Temp\\ipykernel_34800\\3465631864.py:63: FutureWarning: The frame.append method is deprecated and will be removed from pandas in a future version. Use pandas.concat instead.\n",
      "  df = df.append(datarow, ignore_index=True)\n",
      "C:\\Users\\lando\\AppData\\Local\\Temp\\ipykernel_34800\\3465631864.py:63: FutureWarning: The frame.append method is deprecated and will be removed from pandas in a future version. Use pandas.concat instead.\n",
      "  df = df.append(datarow, ignore_index=True)\n"
     ]
    },
    {
     "name": "stdout",
     "output_type": "stream",
     "text": [
      "Columbus, OH 43210\n",
      "TEST\n",
      "Every Other Thursday at 7:00PM2021 Coffey Rd. Columbus, OH 43210Columbus, OH 43210\n",
      "Thursday 7:00 PM\n",
      "test\n",
      "TEST\n"
     ]
    },
    {
     "name": "stderr",
     "output_type": "stream",
     "text": [
      "C:\\Users\\lando\\AppData\\Local\\Temp\\ipykernel_34800\\3465631864.py:63: FutureWarning: The frame.append method is deprecated and will be removed from pandas in a future version. Use pandas.concat instead.\n",
      "  df = df.append(datarow, ignore_index=True)\n",
      "C:\\Users\\lando\\AppData\\Local\\Temp\\ipykernel_34800\\3465631864.py:63: FutureWarning: The frame.append method is deprecated and will be removed from pandas in a future version. Use pandas.concat instead.\n",
      "  df = df.append(datarow, ignore_index=True)\n"
     ]
    },
    {
     "name": "stdout",
     "output_type": "stream",
     "text": [
      "Monthly meetings and periodic socials2120 Fyffe Road, Columbus, OH 43210Columbus, OH 43210\n",
      "TEST\n",
      "1st & 3rd Wednesday at 7:00 p.m.2120 Ag Admin Fyffe RoadColumbus, OH 43210\n",
      "Wednesday 7:00 None\n",
      "test\n",
      "TEST\n"
     ]
    },
    {
     "name": "stderr",
     "output_type": "stream",
     "text": [
      "C:\\Users\\lando\\AppData\\Local\\Temp\\ipykernel_34800\\3465631864.py:63: FutureWarning: The frame.append method is deprecated and will be removed from pandas in a future version. Use pandas.concat instead.\n",
      "  df = df.append(datarow, ignore_index=True)\n",
      "C:\\Users\\lando\\AppData\\Local\\Temp\\ipykernel_34800\\3465631864.py:63: FutureWarning: The frame.append method is deprecated and will be removed from pandas in a future version. Use pandas.concat instead.\n",
      "  df = df.append(datarow, ignore_index=True)\n"
     ]
    },
    {
     "name": "stdout",
     "output_type": "stream",
     "text": [
      "2nd and 4th Tuesdays of every month 7:00pm2120 Fyffe Rd.Columbus, OH 43210Columbus, OH 43210\n",
      "TEST\n"
     ]
    },
    {
     "name": "stderr",
     "output_type": "stream",
     "text": [
      "C:\\Users\\lando\\AppData\\Local\\Temp\\ipykernel_34800\\3465631864.py:63: FutureWarning: The frame.append method is deprecated and will be removed from pandas in a future version. Use pandas.concat instead.\n",
      "  df = df.append(datarow, ignore_index=True)\n"
     ]
    },
    {
     "name": "stdout",
     "output_type": "stream",
     "text": [
      "1st, and 3rd Wednesday at 7 pm590 Woody Hayes Drive Columbus Ohio 43210Columbus, OH 43210\n",
      "Wednesday 7 pm\n",
      "test\n",
      "TEST\n",
      "Virtual meetings2120 Fyffe RoadColumbus, OH 43210\n",
      "TEST\n"
     ]
    },
    {
     "name": "stderr",
     "output_type": "stream",
     "text": [
      "C:\\Users\\lando\\AppData\\Local\\Temp\\ipykernel_34800\\3465631864.py:63: FutureWarning: The frame.append method is deprecated and will be removed from pandas in a future version. Use pandas.concat instead.\n",
      "  df = df.append(datarow, ignore_index=True)\n",
      "C:\\Users\\lando\\AppData\\Local\\Temp\\ipykernel_34800\\3465631864.py:63: FutureWarning: The frame.append method is deprecated and will be removed from pandas in a future version. Use pandas.concat instead.\n",
      "  df = df.append(datarow, ignore_index=True)\n"
     ]
    },
    {
     "name": "stdout",
     "output_type": "stream",
     "text": [
      "Columbus, OH 43210\n",
      "TEST\n",
      "Columbus, OH 43210\n",
      "TEST\n"
     ]
    },
    {
     "name": "stderr",
     "output_type": "stream",
     "text": [
      "C:\\Users\\lando\\AppData\\Local\\Temp\\ipykernel_34800\\3465631864.py:63: FutureWarning: The frame.append method is deprecated and will be removed from pandas in a future version. Use pandas.concat instead.\n",
      "  df = df.append(datarow, ignore_index=True)\n",
      "C:\\Users\\lando\\AppData\\Local\\Temp\\ipykernel_34800\\3465631864.py:63: FutureWarning: The frame.append method is deprecated and will be removed from pandas in a future version. Use pandas.concat instead.\n",
      "  df = df.append(datarow, ignore_index=True)\n",
      "C:\\Users\\lando\\AppData\\Local\\Temp\\ipykernel_34800\\3465631864.py:63: FutureWarning: The frame.append method is deprecated and will be removed from pandas in a future version. Use pandas.concat instead.\n",
      "  df = df.append(datarow, ignore_index=True)\n"
     ]
    },
    {
     "name": "stdout",
     "output_type": "stream",
     "text": [
      "Wednesdays from 6-7 PM1858 Neil Avenue Columbus, Ohio 43210Columbus, OH 43210\n",
      "TEST\n",
      "Wednesdays at 3:30pmColumbus, OH 43210\n",
      "Wednesdays 3:30 pm\n",
      "test\n",
      "TEST\n"
     ]
    },
    {
     "name": "stderr",
     "output_type": "stream",
     "text": [
      "C:\\Users\\lando\\AppData\\Local\\Temp\\ipykernel_34800\\3465631864.py:63: FutureWarning: The frame.append method is deprecated and will be removed from pandas in a future version. Use pandas.concat instead.\n",
      "  df = df.append(datarow, ignore_index=True)\n",
      "C:\\Users\\lando\\AppData\\Local\\Temp\\ipykernel_34800\\3465631864.py:63: FutureWarning: The frame.append method is deprecated and will be removed from pandas in a future version. Use pandas.concat instead.\n",
      "  df = df.append(datarow, ignore_index=True)\n"
     ]
    },
    {
     "name": "stdout",
     "output_type": "stream",
     "text": [
      "Columbus, OH 43210\n",
      "TEST\n",
      "Mondays 6 pm - 7 pm2009 Millikin Rd Columbus, OH 43210Columbus, OH 43210\n",
      "Mondays 6 pm\n",
      "test\n",
      "TEST\n"
     ]
    },
    {
     "name": "stderr",
     "output_type": "stream",
     "text": [
      "C:\\Users\\lando\\AppData\\Local\\Temp\\ipykernel_34800\\3465631864.py:63: FutureWarning: The frame.append method is deprecated and will be removed from pandas in a future version. Use pandas.concat instead.\n",
      "  df = df.append(datarow, ignore_index=True)\n",
      "C:\\Users\\lando\\AppData\\Local\\Temp\\ipykernel_34800\\3465631864.py:63: FutureWarning: The frame.append method is deprecated and will be removed from pandas in a future version. Use pandas.concat instead.\n",
      "  df = df.append(datarow, ignore_index=True)\n"
     ]
    },
    {
     "name": "stdout",
     "output_type": "stream",
     "text": [
      "Every Monday at 6:00103 E. 15th AveColumbus, OH 43210\n",
      "Monday 6:00 None\n",
      "test\n",
      "TEST\n",
      "Wednesday's 7:00PMColumbus, OH 43210\n",
      "TEST\n"
     ]
    },
    {
     "name": "stderr",
     "output_type": "stream",
     "text": [
      "C:\\Users\\lando\\AppData\\Local\\Temp\\ipykernel_34800\\3465631864.py:63: FutureWarning: The frame.append method is deprecated and will be removed from pandas in a future version. Use pandas.concat instead.\n",
      "  df = df.append(datarow, ignore_index=True)\n",
      "C:\\Users\\lando\\AppData\\Local\\Temp\\ipykernel_34800\\3465631864.py:63: FutureWarning: The frame.append method is deprecated and will be removed from pandas in a future version. Use pandas.concat instead.\n",
      "  df = df.append(datarow, ignore_index=True)\n"
     ]
    },
    {
     "name": "stdout",
     "output_type": "stream",
     "text": [
      "Second Tuesday Every Month at 6:00 p.m.590 Woody Hayes DriveColumbus, OH 43210\n",
      "TEST\n",
      "Tuesdays 6pm-7pmColumbus, OH 43210\n",
      "Tuesdays 6 pm\n",
      "test\n",
      "TEST\n"
     ]
    },
    {
     "name": "stderr",
     "output_type": "stream",
     "text": [
      "C:\\Users\\lando\\AppData\\Local\\Temp\\ipykernel_34800\\3465631864.py:63: FutureWarning: The frame.append method is deprecated and will be removed from pandas in a future version. Use pandas.concat instead.\n",
      "  df = df.append(datarow, ignore_index=True)\n",
      "C:\\Users\\lando\\AppData\\Local\\Temp\\ipykernel_34800\\3465631864.py:63: FutureWarning: The frame.append method is deprecated and will be removed from pandas in a future version. Use pandas.concat instead.\n",
      "  df = df.append(datarow, ignore_index=True)\n"
     ]
    },
    {
     "name": "stdout",
     "output_type": "stream",
     "text": [
      "Mondays at 6:30 pm200 E. 17th Ave.Columbus, OH 43210\n",
      "Mondays 6:30 pm\n",
      "test\n",
      "TEST\n",
      "Wednesdays at 7:00pmBolz HallColumbus, OH 43210Columbus, OH 43210\n",
      "Wednesdays 7:00 pm\n",
      "test\n",
      "TEST\n"
     ]
    },
    {
     "name": "stderr",
     "output_type": "stream",
     "text": [
      "C:\\Users\\lando\\AppData\\Local\\Temp\\ipykernel_34800\\3465631864.py:63: FutureWarning: The frame.append method is deprecated and will be removed from pandas in a future version. Use pandas.concat instead.\n",
      "  df = df.append(datarow, ignore_index=True)\n",
      "C:\\Users\\lando\\AppData\\Local\\Temp\\ipykernel_34800\\3465631864.py:63: FutureWarning: The frame.append method is deprecated and will be removed from pandas in a future version. Use pandas.concat instead.\n",
      "  df = df.append(datarow, ignore_index=True)\n"
     ]
    },
    {
     "name": "stdout",
     "output_type": "stream",
     "text": [
      "Mondays at 7:00 PM1832 Indianola AveColumbus, OH  43201Columbus, OH 43210\n",
      "Mondays 7:00 PM\n",
      "test\n",
      "TEST\n",
      "Monday 7:15 pm1979 Iuka Ave. Columbus, Ohio 43201Columbus, OH 43210\n",
      "Monday 7:15 pm\n",
      "test\n",
      "TEST\n"
     ]
    },
    {
     "name": "stderr",
     "output_type": "stream",
     "text": [
      "C:\\Users\\lando\\AppData\\Local\\Temp\\ipykernel_34800\\3465631864.py:63: FutureWarning: The frame.append method is deprecated and will be removed from pandas in a future version. Use pandas.concat instead.\n",
      "  df = df.append(datarow, ignore_index=True)\n"
     ]
    },
    {
     "name": "stdout",
     "output_type": "stream",
     "text": [
      "Mondays @ 7p.m.1918 Indianola AveColumbus, OH 43210\n",
      "Mondays 7 None\n",
      "test\n",
      "TEST\n",
      "Saturdays @ 10 am12th aveColumbus, OH 43210\n",
      "Saturdays 10 am\n",
      "test\n",
      "TEST\n"
     ]
    },
    {
     "name": "stderr",
     "output_type": "stream",
     "text": [
      "C:\\Users\\lando\\AppData\\Local\\Temp\\ipykernel_34800\\3465631864.py:63: FutureWarning: The frame.append method is deprecated and will be removed from pandas in a future version. Use pandas.concat instead.\n",
      "  df = df.append(datarow, ignore_index=True)\n",
      "C:\\Users\\lando\\AppData\\Local\\Temp\\ipykernel_34800\\3465631864.py:63: FutureWarning: The frame.append method is deprecated and will be removed from pandas in a future version. Use pandas.concat instead.\n",
      "  df = df.append(datarow, ignore_index=True)\n"
     ]
    },
    {
     "name": "stdout",
     "output_type": "stream",
     "text": [
      "Mondays, 8pm164 Annie and John Glenn Ave.Columbus, OH 43210Columbus, OH 43210\n",
      "Mondays 8 pm\n",
      "test\n",
      "TEST\n",
      "Once a month, date tbd by member availability.Columbus, OH 43210\n",
      "TEST\n"
     ]
    },
    {
     "name": "stderr",
     "output_type": "stream",
     "text": [
      "C:\\Users\\lando\\AppData\\Local\\Temp\\ipykernel_34800\\3465631864.py:63: FutureWarning: The frame.append method is deprecated and will be removed from pandas in a future version. Use pandas.concat instead.\n",
      "  df = df.append(datarow, ignore_index=True)\n",
      "C:\\Users\\lando\\AppData\\Local\\Temp\\ipykernel_34800\\3465631864.py:63: FutureWarning: The frame.append method is deprecated and will be removed from pandas in a future version. Use pandas.concat instead.\n",
      "  df = df.append(datarow, ignore_index=True)\n"
     ]
    },
    {
     "name": "stdout",
     "output_type": "stream",
     "text": [
      "Monday 4:30 P.M.590 Woody Hayes Dr.Columbus, OH 43210\n",
      "Monday 4:30 None\n",
      "test\n",
      "TEST\n",
      "Not regularly scheduled meetings333 West 10th AveColumbus, OH 43210\n",
      "TEST\n"
     ]
    },
    {
     "name": "stderr",
     "output_type": "stream",
     "text": [
      "C:\\Users\\lando\\AppData\\Local\\Temp\\ipykernel_34800\\3465631864.py:63: FutureWarning: The frame.append method is deprecated and will be removed from pandas in a future version. Use pandas.concat instead.\n",
      "  df = df.append(datarow, ignore_index=True)\n",
      "C:\\Users\\lando\\AppData\\Local\\Temp\\ipykernel_34800\\3465631864.py:63: FutureWarning: The frame.append method is deprecated and will be removed from pandas in a future version. Use pandas.concat instead.\n",
      "  df = df.append(datarow, ignore_index=True)\n"
     ]
    },
    {
     "name": "stdout",
     "output_type": "stream",
     "text": [
      "Monday 4:45 pm305 W. 12th Avenue Columbus, OH 43210Columbus, OH 43210\n",
      "Monday 4:45 pm\n",
      "test\n",
      "TEST\n"
     ]
    },
    {
     "name": "stderr",
     "output_type": "stream",
     "text": [
      "C:\\Users\\lando\\AppData\\Local\\Temp\\ipykernel_34800\\3465631864.py:63: FutureWarning: The frame.append method is deprecated and will be removed from pandas in a future version. Use pandas.concat instead.\n",
      "  df = df.append(datarow, ignore_index=True)\n"
     ]
    },
    {
     "name": "stdout",
     "output_type": "stream",
     "text": [
      "Mondays @ 6:30PMAOII House240 E 15th AveColumbus, OH 43210\n",
      "Mondays 6:30 PM\n",
      "test\n",
      "TEST\n"
     ]
    },
    {
     "name": "stderr",
     "output_type": "stream",
     "text": [
      "C:\\Users\\lando\\AppData\\Local\\Temp\\ipykernel_34800\\3465631864.py:63: FutureWarning: The frame.append method is deprecated and will be removed from pandas in a future version. Use pandas.concat instead.\n",
      "  df = df.append(datarow, ignore_index=True)\n"
     ]
    },
    {
     "name": "stdout",
     "output_type": "stream",
     "text": [
      "Sundays at 2pm1739 N High StreetColumbus Ohio 43210Columbus, OH 43210\n",
      "Sundays 2 pm\n",
      "test\n",
      "TEST\n",
      "Mondays at 7:301787 Neil AveColumbus, OH 43210\n",
      "Mondays 7:30 None\n",
      "test\n",
      "TEST\n"
     ]
    },
    {
     "name": "stderr",
     "output_type": "stream",
     "text": [
      "C:\\Users\\lando\\AppData\\Local\\Temp\\ipykernel_34800\\3465631864.py:63: FutureWarning: The frame.append method is deprecated and will be removed from pandas in a future version. Use pandas.concat instead.\n",
      "  df = df.append(datarow, ignore_index=True)\n",
      "C:\\Users\\lando\\AppData\\Local\\Temp\\ipykernel_34800\\3465631864.py:63: FutureWarning: The frame.append method is deprecated and will be removed from pandas in a future version. Use pandas.concat instead.\n",
      "  df = df.append(datarow, ignore_index=True)\n"
     ]
    },
    {
     "name": "stdout",
     "output_type": "stream",
     "text": [
      "Mondays at 6:00 PM134 E. 15th AvenueColumbus, OH 43210\n",
      "Mondays 6:00 PM\n",
      "test\n",
      "TEST\n",
      "Varies- Members will be given information1971 Neil AveColumbus, OH 43210\n",
      "TEST\n"
     ]
    },
    {
     "name": "stderr",
     "output_type": "stream",
     "text": [
      "C:\\Users\\lando\\AppData\\Local\\Temp\\ipykernel_34800\\3465631864.py:63: FutureWarning: The frame.append method is deprecated and will be removed from pandas in a future version. Use pandas.concat instead.\n",
      "  df = df.append(datarow, ignore_index=True)\n",
      "C:\\Users\\lando\\AppData\\Local\\Temp\\ipykernel_34800\\3465631864.py:63: FutureWarning: The frame.append method is deprecated and will be removed from pandas in a future version. Use pandas.concat instead.\n",
      "  df = df.append(datarow, ignore_index=True)\n"
     ]
    },
    {
     "name": "stdout",
     "output_type": "stream",
     "text": [
      "Mondays 7pm1739 N. High StreetColumbus,OH,43210Columbus, OH 43210\n",
      "Mondays 7 pm\n",
      "test\n",
      "TEST\n",
      "Varies1849 Cannon Dr.Columbus, OH 43210\n",
      "TEST\n"
     ]
    },
    {
     "name": "stderr",
     "output_type": "stream",
     "text": [
      "C:\\Users\\lando\\AppData\\Local\\Temp\\ipykernel_34800\\3465631864.py:63: FutureWarning: The frame.append method is deprecated and will be removed from pandas in a future version. Use pandas.concat instead.\n",
      "  df = df.append(datarow, ignore_index=True)\n",
      "C:\\Users\\lando\\AppData\\Local\\Temp\\ipykernel_34800\\3465631864.py:63: FutureWarning: The frame.append method is deprecated and will be removed from pandas in a future version. Use pandas.concat instead.\n",
      "  df = df.append(datarow, ignore_index=True)\n"
     ]
    },
    {
     "name": "stdout",
     "output_type": "stream",
     "text": [
      "Tuesdays, 7PM275 W Woodruff Ave, Columbus, OH 43210Columbus, OH 43210\n",
      "Tuesdays 7 PM\n",
      "test\n",
      "TEST\n",
      "Sunday, 7:00 PM81 E. 15th AveColumbus, OH 43210\n",
      "Sunday 7:00 PM\n",
      "test\n",
      "TEST\n"
     ]
    },
    {
     "name": "stderr",
     "output_type": "stream",
     "text": [
      "C:\\Users\\lando\\AppData\\Local\\Temp\\ipykernel_34800\\3465631864.py:63: FutureWarning: The frame.append method is deprecated and will be removed from pandas in a future version. Use pandas.concat instead.\n",
      "  df = df.append(datarow, ignore_index=True)\n",
      "C:\\Users\\lando\\AppData\\Local\\Temp\\ipykernel_34800\\3465631864.py:63: FutureWarning: The frame.append method is deprecated and will be removed from pandas in a future version. Use pandas.concat instead.\n",
      "  df = df.append(datarow, ignore_index=True)\n"
     ]
    },
    {
     "name": "stdout",
     "output_type": "stream",
     "text": [
      "Monday, 7:30 p.m.2001 Fyffe RdN/AColumbus, OH 43210\n",
      "Monday 7:30 None\n",
      "test\n",
      "TEST\n",
      "Mondays, 7:30 PM1956 Iuka AveColumbus, OH 43210\n",
      "Mondays 7:30 PM\n",
      "test\n",
      "TEST\n"
     ]
    },
    {
     "name": "stderr",
     "output_type": "stream",
     "text": [
      "C:\\Users\\lando\\AppData\\Local\\Temp\\ipykernel_34800\\3465631864.py:63: FutureWarning: The frame.append method is deprecated and will be removed from pandas in a future version. Use pandas.concat instead.\n",
      "  df = df.append(datarow, ignore_index=True)\n",
      "C:\\Users\\lando\\AppData\\Local\\Temp\\ipykernel_34800\\3465631864.py:63: FutureWarning: The frame.append method is deprecated and will be removed from pandas in a future version. Use pandas.concat instead.\n",
      "  df = df.append(datarow, ignore_index=True)\n"
     ]
    },
    {
     "name": "stdout",
     "output_type": "stream",
     "text": [
      "Every Monday at 6:00pm76 E. 15th Ave.Columbus, OH 43201Columbus, OH 43210\n",
      "Monday 6:00 pm\n",
      "test\n",
      "TEST\n",
      "Tuesdays at 7:00 p.m.2120 Fyffe Rd.Columbus, OH 43210Columbus, OH 43210\n",
      "Tuesdays 7:00 None\n",
      "test\n",
      "TEST\n"
     ]
    },
    {
     "name": "stderr",
     "output_type": "stream",
     "text": [
      "C:\\Users\\lando\\AppData\\Local\\Temp\\ipykernel_34800\\3465631864.py:63: FutureWarning: The frame.append method is deprecated and will be removed from pandas in a future version. Use pandas.concat instead.\n",
      "  df = df.append(datarow, ignore_index=True)\n",
      "C:\\Users\\lando\\AppData\\Local\\Temp\\ipykernel_34800\\3465631864.py:63: FutureWarning: The frame.append method is deprecated and will be removed from pandas in a future version. Use pandas.concat instead.\n",
      "  df = df.append(datarow, ignore_index=True)\n"
     ]
    },
    {
     "name": "stdout",
     "output_type": "stream",
     "text": [
      "Depends on group availability for the semesterColumbus, OH 43210\n",
      "TEST\n",
      "Variable, Check calendar on site2024 Neil AveColumbus, OH 43210\n",
      "TEST\n"
     ]
    },
    {
     "name": "stderr",
     "output_type": "stream",
     "text": [
      "C:\\Users\\lando\\AppData\\Local\\Temp\\ipykernel_34800\\3465631864.py:63: FutureWarning: The frame.append method is deprecated and will be removed from pandas in a future version. Use pandas.concat instead.\n",
      "  df = df.append(datarow, ignore_index=True)\n",
      "C:\\Users\\lando\\AppData\\Local\\Temp\\ipykernel_34800\\3465631864.py:63: FutureWarning: The frame.append method is deprecated and will be removed from pandas in a future version. Use pandas.concat instead.\n",
      "  df = df.append(datarow, ignore_index=True)\n"
     ]
    },
    {
     "name": "stdout",
     "output_type": "stream",
     "text": [
      "Every other Monday at 7:30pm (starting 8/29/22)Columbus, OH 43210\n",
      "Monday 7:30 pm\n",
      "test\n",
      "TEST\n"
     ]
    },
    {
     "name": "stderr",
     "output_type": "stream",
     "text": [
      "C:\\Users\\lando\\AppData\\Local\\Temp\\ipykernel_34800\\3465631864.py:63: FutureWarning: The frame.append method is deprecated and will be removed from pandas in a future version. Use pandas.concat instead.\n",
      "  df = df.append(datarow, ignore_index=True)\n"
     ]
    },
    {
     "name": "stdout",
     "output_type": "stream",
     "text": [
      "Monthly meetings: first Wednesday of the monthColumbus, OH 43210\n",
      "TEST\n",
      "Visit http://glenn.osu.edu/aauw/ for events.Columbus, OH 43210\n",
      "TEST\n"
     ]
    },
    {
     "name": "stderr",
     "output_type": "stream",
     "text": [
      "C:\\Users\\lando\\AppData\\Local\\Temp\\ipykernel_34800\\3465631864.py:63: FutureWarning: The frame.append method is deprecated and will be removed from pandas in a future version. Use pandas.concat instead.\n",
      "  df = df.append(datarow, ignore_index=True)\n",
      "C:\\Users\\lando\\AppData\\Local\\Temp\\ipykernel_34800\\3465631864.py:63: FutureWarning: The frame.append method is deprecated and will be removed from pandas in a future version. Use pandas.concat instead.\n",
      "  df = df.append(datarow, ignore_index=True)\n"
     ]
    },
    {
     "name": "stdout",
     "output_type": "stream",
     "text": [
      "variesColumbus, OH 43210\n",
      "TEST\n"
     ]
    },
    {
     "name": "stderr",
     "output_type": "stream",
     "text": [
      "C:\\Users\\lando\\AppData\\Local\\Temp\\ipykernel_34800\\3465631864.py:63: FutureWarning: The frame.append method is deprecated and will be removed from pandas in a future version. Use pandas.concat instead.\n",
      "  df = df.append(datarow, ignore_index=True)\n"
     ]
    },
    {
     "name": "stdout",
     "output_type": "stream",
     "text": [
      "Tuesdays 6:30pm (Biweekly)Columbus, OH 43210\n",
      "Tuesdays 6:30 pm\n",
      "test\n",
      "TEST\n"
     ]
    },
    {
     "name": "stderr",
     "output_type": "stream",
     "text": [
      "C:\\Users\\lando\\AppData\\Local\\Temp\\ipykernel_34800\\3465631864.py:63: FutureWarning: The frame.append method is deprecated and will be removed from pandas in a future version. Use pandas.concat instead.\n",
      "  df = df.append(datarow, ignore_index=True)\n"
     ]
    },
    {
     "name": "stdout",
     "output_type": "stream",
     "text": [
      "Meeting date and time are determined by meeting.1899 College RdColumbus, OH 43210\n",
      "TEST\n"
     ]
    },
    {
     "name": "stderr",
     "output_type": "stream",
     "text": [
      "C:\\Users\\lando\\AppData\\Local\\Temp\\ipykernel_34800\\3465631864.py:63: FutureWarning: The frame.append method is deprecated and will be removed from pandas in a future version. Use pandas.concat instead.\n",
      "  df = df.append(datarow, ignore_index=True)\n"
     ]
    },
    {
     "name": "stdout",
     "output_type": "stream",
     "text": [
      "55 West 12th AvenueColumbus, OH 43210\n",
      "TEST\n"
     ]
    },
    {
     "name": "stderr",
     "output_type": "stream",
     "text": [
      "C:\\Users\\lando\\AppData\\Local\\Temp\\ipykernel_34800\\3465631864.py:63: FutureWarning: The frame.append method is deprecated and will be removed from pandas in a future version. Use pandas.concat instead.\n",
      "  df = df.append(datarow, ignore_index=True)\n"
     ]
    },
    {
     "name": "stdout",
     "output_type": "stream",
     "text": [
      "Wednesday EveningsDrinko HallColumbus, OH 43210\n",
      "TEST\n",
      "Every Other Monday at 6pmColumbus, OH 43210\n",
      "Monday 6 pm\n",
      "test\n",
      "TEST\n"
     ]
    },
    {
     "name": "stderr",
     "output_type": "stream",
     "text": [
      "C:\\Users\\lando\\AppData\\Local\\Temp\\ipykernel_34800\\3465631864.py:63: FutureWarning: The frame.append method is deprecated and will be removed from pandas in a future version. Use pandas.concat instead.\n",
      "  df = df.append(datarow, ignore_index=True)\n",
      "C:\\Users\\lando\\AppData\\Local\\Temp\\ipykernel_34800\\3465631864.py:63: FutureWarning: The frame.append method is deprecated and will be removed from pandas in a future version. Use pandas.concat instead.\n",
      "  df = df.append(datarow, ignore_index=True)\n"
     ]
    },
    {
     "name": "stdout",
     "output_type": "stream",
     "text": [
      "1314 Kinnear RdColumbus, OH 43212Columbus, OH 43210\n",
      "TEST\n"
     ]
    },
    {
     "name": "stderr",
     "output_type": "stream",
     "text": [
      "C:\\Users\\lando\\AppData\\Local\\Temp\\ipykernel_34800\\3465631864.py:63: FutureWarning: The frame.append method is deprecated and will be removed from pandas in a future version. Use pandas.concat instead.\n",
      "  df = df.append(datarow, ignore_index=True)\n"
     ]
    },
    {
     "name": "stdout",
     "output_type": "stream",
     "text": [
      "Biweekly on Thursdays201 W. 19th Ave.Columbus, OH 43210\n",
      "Thursdays 201 None\n",
      "test\n",
      "TEST\n",
      "Second Monday of each month275 W. Woodruff Ave. Columbus, OH 43201Columbus, OH 43210\n",
      "TEST\n"
     ]
    },
    {
     "name": "stderr",
     "output_type": "stream",
     "text": [
      "C:\\Users\\lando\\AppData\\Local\\Temp\\ipykernel_34800\\3465631864.py:63: FutureWarning: The frame.append method is deprecated and will be removed from pandas in a future version. Use pandas.concat instead.\n",
      "  df = df.append(datarow, ignore_index=True)\n",
      "C:\\Users\\lando\\AppData\\Local\\Temp\\ipykernel_34800\\3465631864.py:63: FutureWarning: The frame.append method is deprecated and will be removed from pandas in a future version. Use pandas.concat instead.\n",
      "  df = df.append(datarow, ignore_index=True)\n"
     ]
    },
    {
     "name": "stdout",
     "output_type": "stream",
     "text": [
      "Monthly Meetings Updated Regularly151 W Woodruff Ave Columbus, OH 43210Columbus, OH 43210\n",
      "TEST\n",
      "Wednesdays at 7:30PM210 W Woodruff AveColumbus, OH 43210\n",
      "Wednesdays 7:30 PM\n",
      "test\n",
      "TEST\n"
     ]
    },
    {
     "name": "stderr",
     "output_type": "stream",
     "text": [
      "C:\\Users\\lando\\AppData\\Local\\Temp\\ipykernel_34800\\3465631864.py:63: FutureWarning: The frame.append method is deprecated and will be removed from pandas in a future version. Use pandas.concat instead.\n",
      "  df = df.append(datarow, ignore_index=True)\n",
      "C:\\Users\\lando\\AppData\\Local\\Temp\\ipykernel_34800\\3465631864.py:63: FutureWarning: The frame.append method is deprecated and will be removed from pandas in a future version. Use pandas.concat instead.\n",
      "  df = df.append(datarow, ignore_index=True)\n"
     ]
    },
    {
     "name": "stdout",
     "output_type": "stream",
     "text": [
      "Irregular meeting times - see email370 West Ninth AvenueColumbus, OH 43210\n",
      "TEST\n",
      "As determined by the officers, TBA via email370 West 9th AvenueColumbus, OH 43210\n",
      "TEST\n"
     ]
    },
    {
     "name": "stderr",
     "output_type": "stream",
     "text": [
      "C:\\Users\\lando\\AppData\\Local\\Temp\\ipykernel_34800\\3465631864.py:63: FutureWarning: The frame.append method is deprecated and will be removed from pandas in a future version. Use pandas.concat instead.\n",
      "  df = df.append(datarow, ignore_index=True)\n",
      "C:\\Users\\lando\\AppData\\Local\\Temp\\ipykernel_34800\\3465631864.py:63: FutureWarning: The frame.append method is deprecated and will be removed from pandas in a future version. Use pandas.concat instead.\n",
      "  df = df.append(datarow, ignore_index=True)\n"
     ]
    },
    {
     "name": "stdout",
     "output_type": "stream",
     "text": [
      "Columbus, OH 43210\n",
      "TEST\n",
      "TBD Most likely once a month201 W 19th AveColumbus, OH 43210\n",
      "W 19 None\n",
      "test\n",
      "TEST\n"
     ]
    },
    {
     "name": "stderr",
     "output_type": "stream",
     "text": [
      "C:\\Users\\lando\\AppData\\Local\\Temp\\ipykernel_34800\\3465631864.py:63: FutureWarning: The frame.append method is deprecated and will be removed from pandas in a future version. Use pandas.concat instead.\n",
      "  df = df.append(datarow, ignore_index=True)\n",
      "C:\\Users\\lando\\AppData\\Local\\Temp\\ipykernel_34800\\3465631864.py:63: FutureWarning: The frame.append method is deprecated and will be removed from pandas in a future version. Use pandas.concat instead.\n",
      "  df = df.append(datarow, ignore_index=True)\n"
     ]
    },
    {
     "name": "stdout",
     "output_type": "stream",
     "text": [
      "Once a month at 5:30pm338 W. 10th AvenueColumbus, OH 43210Columbus, OH 43210\n",
      "W 10 None\n",
      "test\n",
      "TEST\n",
      "alternating Thursdays 11:30-12:30Columbus, OH 43210\n",
      "Thursdays 11:30 None\n",
      "test\n",
      "TEST\n"
     ]
    },
    {
     "name": "stderr",
     "output_type": "stream",
     "text": [
      "C:\\Users\\lando\\AppData\\Local\\Temp\\ipykernel_34800\\3465631864.py:63: FutureWarning: The frame.append method is deprecated and will be removed from pandas in a future version. Use pandas.concat instead.\n",
      "  df = df.append(datarow, ignore_index=True)\n",
      "C:\\Users\\lando\\AppData\\Local\\Temp\\ipykernel_34800\\3465631864.py:63: FutureWarning: The frame.append method is deprecated and will be removed from pandas in a future version. Use pandas.concat instead.\n",
      "  df = df.append(datarow, ignore_index=True)\n"
     ]
    },
    {
     "name": "stdout",
     "output_type": "stream",
     "text": [
      "Columbus, OH 43210\n",
      "TEST\n",
      "variableColumbus, OH 43210\n",
      "TEST\n"
     ]
    },
    {
     "name": "stderr",
     "output_type": "stream",
     "text": [
      "C:\\Users\\lando\\AppData\\Local\\Temp\\ipykernel_34800\\3465631864.py:63: FutureWarning: The frame.append method is deprecated and will be removed from pandas in a future version. Use pandas.concat instead.\n",
      "  df = df.append(datarow, ignore_index=True)\n",
      "C:\\Users\\lando\\AppData\\Local\\Temp\\ipykernel_34800\\3465631864.py:63: FutureWarning: The frame.append method is deprecated and will be removed from pandas in a future version. Use pandas.concat instead.\n",
      "  df = df.append(datarow, ignore_index=True)\n"
     ]
    },
    {
     "name": "stdout",
     "output_type": "stream",
     "text": [
      "Monday 5PMColumbus, OH 43210\n",
      "Monday 5 PM\n",
      "test\n",
      "TEST\n"
     ]
    },
    {
     "name": "stderr",
     "output_type": "stream",
     "text": [
      "C:\\Users\\lando\\AppData\\Local\\Temp\\ipykernel_34800\\3465631864.py:63: FutureWarning: The frame.append method is deprecated and will be removed from pandas in a future version. Use pandas.concat instead.\n",
      "  df = df.append(datarow, ignore_index=True)\n"
     ]
    },
    {
     "name": "stdout",
     "output_type": "stream",
     "text": [
      "Columbus, OH 43210\n",
      "TEST\n",
      "Thursday , Biweekly 7-8PMCheck email announcementsColumbus, OH 43210\n",
      "TEST\n"
     ]
    },
    {
     "name": "stderr",
     "output_type": "stream",
     "text": [
      "C:\\Users\\lando\\AppData\\Local\\Temp\\ipykernel_34800\\3465631864.py:63: FutureWarning: The frame.append method is deprecated and will be removed from pandas in a future version. Use pandas.concat instead.\n",
      "  df = df.append(datarow, ignore_index=True)\n",
      "C:\\Users\\lando\\AppData\\Local\\Temp\\ipykernel_34800\\3465631864.py:63: FutureWarning: The frame.append method is deprecated and will be removed from pandas in a future version. Use pandas.concat instead.\n",
      "  df = df.append(datarow, ignore_index=True)\n"
     ]
    },
    {
     "name": "stdout",
     "output_type": "stream",
     "text": [
      "Every Other Tuesday, 6:30pm590 Woody Hayes DrColumbus, OH 43210\n",
      "Tuesday 6:30 pm\n",
      "test\n",
      "TEST\n",
      "Various 201 W 19th Ave, Columbus, OH 43210Columbus, OH 43210\n",
      "W 19 None\n",
      "test\n",
      "TEST\n"
     ]
    },
    {
     "name": "stderr",
     "output_type": "stream",
     "text": [
      "C:\\Users\\lando\\AppData\\Local\\Temp\\ipykernel_34800\\3465631864.py:63: FutureWarning: The frame.append method is deprecated and will be removed from pandas in a future version. Use pandas.concat instead.\n",
      "  df = df.append(datarow, ignore_index=True)\n",
      "C:\\Users\\lando\\AppData\\Local\\Temp\\ipykernel_34800\\3465631864.py:63: FutureWarning: The frame.append method is deprecated and will be removed from pandas in a future version. Use pandas.concat instead.\n",
      "  df = df.append(datarow, ignore_index=True)\n"
     ]
    },
    {
     "name": "stdout",
     "output_type": "stream",
     "text": [
      "Wednesday's at 11:30amCollege of Pharmacy500 W. 12th AveColumbus, OH 43210\n",
      "W 12 None\n",
      "test\n",
      "TEST\n"
     ]
    },
    {
     "name": "stderr",
     "output_type": "stream",
     "text": [
      "C:\\Users\\lando\\AppData\\Local\\Temp\\ipykernel_34800\\3465631864.py:63: FutureWarning: The frame.append method is deprecated and will be removed from pandas in a future version. Use pandas.concat instead.\n",
      "  df = df.append(datarow, ignore_index=True)\n"
     ]
    },
    {
     "name": "stdout",
     "output_type": "stream",
     "text": [
      "TBA243 Campbell Hall1787 Neil AvenueColumbus, OH 43210\n",
      "TEST\n",
      "Once-twice a month on Weekdays, 6:30pm201 W. 19th Ave.Columbus, OH 43210Columbus, OH 43210\n",
      "W 19 None\n",
      "test\n",
      "TEST\n"
     ]
    },
    {
     "name": "stderr",
     "output_type": "stream",
     "text": [
      "C:\\Users\\lando\\AppData\\Local\\Temp\\ipykernel_34800\\3465631864.py:63: FutureWarning: The frame.append method is deprecated and will be removed from pandas in a future version. Use pandas.concat instead.\n",
      "  df = df.append(datarow, ignore_index=True)\n",
      "C:\\Users\\lando\\AppData\\Local\\Temp\\ipykernel_34800\\3465631864.py:63: FutureWarning: The frame.append method is deprecated and will be removed from pandas in a future version. Use pandas.concat instead.\n",
      "  df = df.append(datarow, ignore_index=True)\n"
     ]
    },
    {
     "name": "stdout",
     "output_type": "stream",
     "text": [
      "Wednesdays, 4:30pm305 W. 12. Ave.Columbus, OhioColumbus, OH 43210\n",
      "Wednesdays 4:30 pm\n",
      "test\n",
      "TEST\n",
      "Biweekly on Wednesdays (Start Date: Sept. 2nd)305 W. 12th Avenue Columbus, OH 43210-1267Columbus, OH 43210\n",
      "W 12 None\n",
      "test\n",
      "TEST\n"
     ]
    },
    {
     "name": "stderr",
     "output_type": "stream",
     "text": [
      "C:\\Users\\lando\\AppData\\Local\\Temp\\ipykernel_34800\\3465631864.py:63: FutureWarning: The frame.append method is deprecated and will be removed from pandas in a future version. Use pandas.concat instead.\n",
      "  df = df.append(datarow, ignore_index=True)\n",
      "C:\\Users\\lando\\AppData\\Local\\Temp\\ipykernel_34800\\3465631864.py:63: FutureWarning: The frame.append method is deprecated and will be removed from pandas in a future version. Use pandas.concat instead.\n",
      "  df = df.append(datarow, ignore_index=True)\n"
     ]
    },
    {
     "name": "stdout",
     "output_type": "stream",
     "text": [
      "Monthly1248 Arthur E Adams DriveColumbus, OH 43221Columbus, OH 43210\n",
      "TEST\n"
     ]
    },
    {
     "name": "stderr",
     "output_type": "stream",
     "text": [
      "C:\\Users\\lando\\AppData\\Local\\Temp\\ipykernel_34800\\3465631864.py:63: FutureWarning: The frame.append method is deprecated and will be removed from pandas in a future version. Use pandas.concat instead.\n",
      "  df = df.append(datarow, ignore_index=True)\n"
     ]
    },
    {
     "name": "stdout",
     "output_type": "stream",
     "text": [
      "Thursdays at 6 PMColumbus, OH 43210\n",
      "Thursdays 6 PM\n",
      "test\n",
      "TEST\n"
     ]
    },
    {
     "name": "stderr",
     "output_type": "stream",
     "text": [
      "C:\\Users\\lando\\AppData\\Local\\Temp\\ipykernel_34800\\3465631864.py:63: FutureWarning: The frame.append method is deprecated and will be removed from pandas in a future version. Use pandas.concat instead.\n",
      "  df = df.append(datarow, ignore_index=True)\n"
     ]
    },
    {
     "name": "stdout",
     "output_type": "stream",
     "text": [
      "Columbus, OH 43210\n",
      "TEST\n"
     ]
    },
    {
     "name": "stderr",
     "output_type": "stream",
     "text": [
      "C:\\Users\\lando\\AppData\\Local\\Temp\\ipykernel_34800\\3465631864.py:63: FutureWarning: The frame.append method is deprecated and will be removed from pandas in a future version. Use pandas.concat instead.\n",
      "  df = df.append(datarow, ignore_index=True)\n"
     ]
    },
    {
     "name": "stdout",
     "output_type": "stream",
     "text": [
      "Wednesdays 3:00 PMColumbus, OH 43210\n",
      "Wednesdays 3:00 PM\n",
      "test\n",
      "TEST\n"
     ]
    },
    {
     "name": "stderr",
     "output_type": "stream",
     "text": [
      "C:\\Users\\lando\\AppData\\Local\\Temp\\ipykernel_34800\\3465631864.py:63: FutureWarning: The frame.append method is deprecated and will be removed from pandas in a future version. Use pandas.concat instead.\n",
      "  df = df.append(datarow, ignore_index=True)\n"
     ]
    },
    {
     "name": "stdout",
     "output_type": "stream",
     "text": [
      "Varies1645 Neil AveColumbus, OH 43210\n",
      "TEST\n"
     ]
    },
    {
     "name": "stderr",
     "output_type": "stream",
     "text": [
      "C:\\Users\\lando\\AppData\\Local\\Temp\\ipykernel_34800\\3465631864.py:63: FutureWarning: The frame.append method is deprecated and will be removed from pandas in a future version. Use pandas.concat instead.\n",
      "  df = df.append(datarow, ignore_index=True)\n"
     ]
    },
    {
     "name": "stdout",
     "output_type": "stream",
     "text": [
      "Meiling LobbyColumbus, OH 43210\n",
      "TEST\n",
      "370 W 9th Ave, Columbus, OH 43210Columbus, OH 43210\n",
      "W 9 None\n",
      "test\n",
      "TEST\n"
     ]
    },
    {
     "name": "stderr",
     "output_type": "stream",
     "text": [
      "C:\\Users\\lando\\AppData\\Local\\Temp\\ipykernel_34800\\3465631864.py:63: FutureWarning: The frame.append method is deprecated and will be removed from pandas in a future version. Use pandas.concat instead.\n",
      "  df = df.append(datarow, ignore_index=True)\n",
      "C:\\Users\\lando\\AppData\\Local\\Temp\\ipykernel_34800\\3465631864.py:63: FutureWarning: The frame.append method is deprecated and will be removed from pandas in a future version. Use pandas.concat instead.\n",
      "  df = df.append(datarow, ignore_index=True)\n"
     ]
    },
    {
     "name": "stdout",
     "output_type": "stream",
     "text": [
      "TBD55 W 12th AveColumbus, OH 43210\n",
      "W 12 None\n",
      "test\n",
      "TEST\n",
      "Wednesdays 7 am2027 Coffey RoadColumbus, OH 43210\n",
      "Wednesdays 7 am\n",
      "test\n",
      "TEST\n"
     ]
    },
    {
     "name": "stderr",
     "output_type": "stream",
     "text": [
      "C:\\Users\\lando\\AppData\\Local\\Temp\\ipykernel_34800\\3465631864.py:63: FutureWarning: The frame.append method is deprecated and will be removed from pandas in a future version. Use pandas.concat instead.\n",
      "  df = df.append(datarow, ignore_index=True)\n",
      "C:\\Users\\lando\\AppData\\Local\\Temp\\ipykernel_34800\\3465631864.py:63: FutureWarning: The frame.append method is deprecated and will be removed from pandas in a future version. Use pandas.concat instead.\n",
      "  df = df.append(datarow, ignore_index=True)\n"
     ]
    },
    {
     "name": "stdout",
     "output_type": "stream",
     "text": [
      "Once a month (TBA)2029 Fyffe RdColumbus, OH 43210\n",
      "TEST\n",
      "Alternating Mondays, 6-7pmColumbus, OH 43210\n",
      "Mondays 6 None\n",
      "test\n",
      "TEST\n"
     ]
    },
    {
     "name": "stderr",
     "output_type": "stream",
     "text": [
      "C:\\Users\\lando\\AppData\\Local\\Temp\\ipykernel_34800\\3465631864.py:63: FutureWarning: The frame.append method is deprecated and will be removed from pandas in a future version. Use pandas.concat instead.\n",
      "  df = df.append(datarow, ignore_index=True)\n",
      "C:\\Users\\lando\\AppData\\Local\\Temp\\ipykernel_34800\\3465631864.py:63: FutureWarning: The frame.append method is deprecated and will be removed from pandas in a future version. Use pandas.concat instead.\n",
      "  df = df.append(datarow, ignore_index=True)\n"
     ]
    },
    {
     "name": "stdout",
     "output_type": "stream",
     "text": [
      "Mondays at 7:00 PM1813 N High St, Columbus, OH 43210Columbus, OH 43210\n",
      "Mondays 7:00 PM\n",
      "test\n",
      "TEST\n",
      "Monday 7:30pmColumbus, OH 43210\n",
      "Monday 7:30 pm\n",
      "test\n",
      "TEST\n"
     ]
    },
    {
     "name": "stderr",
     "output_type": "stream",
     "text": [
      "C:\\Users\\lando\\AppData\\Local\\Temp\\ipykernel_34800\\3465631864.py:63: FutureWarning: The frame.append method is deprecated and will be removed from pandas in a future version. Use pandas.concat instead.\n",
      "  df = df.append(datarow, ignore_index=True)\n",
      "C:\\Users\\lando\\AppData\\Local\\Temp\\ipykernel_34800\\3465631864.py:63: FutureWarning: The frame.append method is deprecated and will be removed from pandas in a future version. Use pandas.concat instead.\n",
      "  df = df.append(datarow, ignore_index=True)\n"
     ]
    },
    {
     "name": "stdout",
     "output_type": "stream",
     "text": [
      "Columbus, OH 43210\n",
      "TEST\n",
      "General Body Meetings two times per month.1739 N High Street, Columbus, OHColumbus, OH 43210\n",
      "TEST\n"
     ]
    },
    {
     "name": "stderr",
     "output_type": "stream",
     "text": [
      "C:\\Users\\lando\\AppData\\Local\\Temp\\ipykernel_34800\\3465631864.py:63: FutureWarning: The frame.append method is deprecated and will be removed from pandas in a future version. Use pandas.concat instead.\n",
      "  df = df.append(datarow, ignore_index=True)\n",
      "C:\\Users\\lando\\AppData\\Local\\Temp\\ipykernel_34800\\3465631864.py:63: FutureWarning: The frame.append method is deprecated and will be removed from pandas in a future version. Use pandas.concat instead.\n",
      "  df = df.append(datarow, ignore_index=True)\n"
     ]
    },
    {
     "name": "stdout",
     "output_type": "stream",
     "text": [
      "Columbus, OH 43210\n",
      "TEST\n",
      "Thursdays bi-weekly at 1:00 p.m.tba Knowlton Hall275 W. Woodruff AvenueColumbus, OH 43210\n",
      "TEST\n"
     ]
    },
    {
     "name": "stderr",
     "output_type": "stream",
     "text": [
      "C:\\Users\\lando\\AppData\\Local\\Temp\\ipykernel_34800\\3465631864.py:63: FutureWarning: The frame.append method is deprecated and will be removed from pandas in a future version. Use pandas.concat instead.\n",
      "  df = df.append(datarow, ignore_index=True)\n",
      "C:\\Users\\lando\\AppData\\Local\\Temp\\ipykernel_34800\\3465631864.py:63: FutureWarning: The frame.append method is deprecated and will be removed from pandas in a future version. Use pandas.concat instead.\n",
      "  df = df.append(datarow, ignore_index=True)\n"
     ]
    },
    {
     "name": "stdout",
     "output_type": "stream",
     "text": [
      "Fridays 7:00 pm to 10:00 pmWomen's Field House, Building 0291790 Cannon DriveColumbus, OH 43210\n",
      "Fridays 7:00 pm\n",
      "test\n",
      "TEST\n"
     ]
    },
    {
     "name": "stderr",
     "output_type": "stream",
     "text": [
      "C:\\Users\\lando\\AppData\\Local\\Temp\\ipykernel_34800\\3465631864.py:63: FutureWarning: The frame.append method is deprecated and will be removed from pandas in a future version. Use pandas.concat instead.\n",
      "  df = df.append(datarow, ignore_index=True)\n"
     ]
    },
    {
     "name": "stdout",
     "output_type": "stream",
     "text": [
      "First Monday of the month at 11:45 AM305 West 12th AveColumbus, Ohio 43210Columbus, OH 43210\n",
      "TEST\n"
     ]
    },
    {
     "name": "stderr",
     "output_type": "stream",
     "text": [
      "C:\\Users\\lando\\AppData\\Local\\Temp\\ipykernel_34800\\3465631864.py:63: FutureWarning: The frame.append method is deprecated and will be removed from pandas in a future version. Use pandas.concat instead.\n",
      "  df = df.append(datarow, ignore_index=True)\n"
     ]
    },
    {
     "name": "stdout",
     "output_type": "stream",
     "text": [
      "Columbus, OH 43210\n",
      "TEST\n",
      "Subject to change2121 Tuttle Park Pl Columbus, OH 43210Columbus, OH 43210\n",
      "TEST\n"
     ]
    },
    {
     "name": "stderr",
     "output_type": "stream",
     "text": [
      "C:\\Users\\lando\\AppData\\Local\\Temp\\ipykernel_34800\\3465631864.py:63: FutureWarning: The frame.append method is deprecated and will be removed from pandas in a future version. Use pandas.concat instead.\n",
      "  df = df.append(datarow, ignore_index=True)\n",
      "C:\\Users\\lando\\AppData\\Local\\Temp\\ipykernel_34800\\3465631864.py:63: FutureWarning: The frame.append method is deprecated and will be removed from pandas in a future version. Use pandas.concat instead.\n",
      "  df = df.append(datarow, ignore_index=True)\n"
     ]
    },
    {
     "name": "stdout",
     "output_type": "stream",
     "text": [
      "Wednesdays 08002121 Tuttle Park PlaceColumbus, OH 43210\n",
      "Wednesdays 0800 None\n",
      "test\n",
      "TEST\n",
      "Tuesdays 7-8:30 pmColumbus, OH 43210\n",
      "Tuesdays 7 None\n",
      "test\n",
      "TEST\n"
     ]
    },
    {
     "name": "stderr",
     "output_type": "stream",
     "text": [
      "C:\\Users\\lando\\AppData\\Local\\Temp\\ipykernel_34800\\3465631864.py:63: FutureWarning: The frame.append method is deprecated and will be removed from pandas in a future version. Use pandas.concat instead.\n",
      "  df = df.append(datarow, ignore_index=True)\n",
      "C:\\Users\\lando\\AppData\\Local\\Temp\\ipykernel_34800\\3465631864.py:63: FutureWarning: The frame.append method is deprecated and will be removed from pandas in a future version. Use pandas.concat instead.\n",
      "  df = df.append(datarow, ignore_index=True)\n"
     ]
    },
    {
     "name": "stdout",
     "output_type": "stream",
     "text": [
      "Weekly on Fridays 7-8 pmHopkins Hall Rm 250, 128 North Oval MallColumbus, OH 43210\n",
      "Fridays 7 None\n",
      "test\n",
      "TEST\n",
      "Mondays @ 4pm-5:30pm128 N. Oval MallColumbus, OH 43210\n",
      "Mondays 4 pm\n",
      "test\n",
      "TEST\n"
     ]
    },
    {
     "name": "stderr",
     "output_type": "stream",
     "text": [
      "C:\\Users\\lando\\AppData\\Local\\Temp\\ipykernel_34800\\3465631864.py:63: FutureWarning: The frame.append method is deprecated and will be removed from pandas in a future version. Use pandas.concat instead.\n",
      "  df = df.append(datarow, ignore_index=True)\n",
      "C:\\Users\\lando\\AppData\\Local\\Temp\\ipykernel_34800\\3465631864.py:63: FutureWarning: The frame.append method is deprecated and will be removed from pandas in a future version. Use pandas.concat instead.\n",
      "  df = df.append(datarow, ignore_index=True)\n"
     ]
    },
    {
     "name": "stdout",
     "output_type": "stream",
     "text": [
      "1739 N High St, Columbus, OH 43210Columbus, OH 43210\n",
      "TEST\n",
      "Mondays, 5:30 - 6:30 pmFront Lobby Hayes Hall108 N Oval MallColumbus, Ohio 43210Columbus, OH 43210\n",
      "Mondays 5:30 None\n",
      "test\n",
      "TEST\n"
     ]
    },
    {
     "name": "stderr",
     "output_type": "stream",
     "text": [
      "C:\\Users\\lando\\AppData\\Local\\Temp\\ipykernel_34800\\3465631864.py:63: FutureWarning: The frame.append method is deprecated and will be removed from pandas in a future version. Use pandas.concat instead.\n",
      "  df = df.append(datarow, ignore_index=True)\n",
      "C:\\Users\\lando\\AppData\\Local\\Temp\\ipykernel_34800\\3465631864.py:63: FutureWarning: The frame.append method is deprecated and will be removed from pandas in a future version. Use pandas.concat instead.\n",
      "  df = df.append(datarow, ignore_index=True)\n"
     ]
    },
    {
     "name": "stdout",
     "output_type": "stream",
     "text": [
      "Every Monday 7-8pm @ Hitchcock 0352070 Neil AveColumbus, OH 43210\n",
      "Monday 7 None\n",
      "test\n",
      "TEST\n",
      "Wednesday 5:301739 N High StreetColumbus, OH 43210\n",
      "Wednesday 5:30 None\n",
      "test\n",
      "TEST\n"
     ]
    },
    {
     "name": "stderr",
     "output_type": "stream",
     "text": [
      "C:\\Users\\lando\\AppData\\Local\\Temp\\ipykernel_34800\\3465631864.py:63: FutureWarning: The frame.append method is deprecated and will be removed from pandas in a future version. Use pandas.concat instead.\n",
      "  df = df.append(datarow, ignore_index=True)\n",
      "C:\\Users\\lando\\AppData\\Local\\Temp\\ipykernel_34800\\3465631864.py:63: FutureWarning: The frame.append method is deprecated and will be removed from pandas in a future version. Use pandas.concat instead.\n",
      "  df = df.append(datarow, ignore_index=True)\n"
     ]
    },
    {
     "name": "stdout",
     "output_type": "stream",
     "text": [
      "TBD1813 N High St Columbus, OH 43210Columbus, OH 43210\n",
      "TEST\n",
      "Tuesdays- 7 pm  (biweekly)Columbus, OH 43210\n",
      "TEST\n"
     ]
    },
    {
     "name": "stderr",
     "output_type": "stream",
     "text": [
      "C:\\Users\\lando\\AppData\\Local\\Temp\\ipykernel_34800\\3465631864.py:63: FutureWarning: The frame.append method is deprecated and will be removed from pandas in a future version. Use pandas.concat instead.\n",
      "  df = df.append(datarow, ignore_index=True)\n",
      "C:\\Users\\lando\\AppData\\Local\\Temp\\ipykernel_34800\\3465631864.py:63: FutureWarning: The frame.append method is deprecated and will be removed from pandas in a future version. Use pandas.concat instead.\n",
      "  df = df.append(datarow, ignore_index=True)\n"
     ]
    },
    {
     "name": "stdout",
     "output_type": "stream",
     "text": [
      "Sunday@12:00 pm250 W Woodruff AveColumbus, OH 43210\n",
      "Sunday 12:00 pm\n",
      "test\n",
      "TEST\n",
      "Wednesday mornings1775 College RoadColumbus, OH 43210\n",
      "TEST\n"
     ]
    },
    {
     "name": "stderr",
     "output_type": "stream",
     "text": [
      "C:\\Users\\lando\\AppData\\Local\\Temp\\ipykernel_34800\\3465631864.py:63: FutureWarning: The frame.append method is deprecated and will be removed from pandas in a future version. Use pandas.concat instead.\n",
      "  df = df.append(datarow, ignore_index=True)\n",
      "C:\\Users\\lando\\AppData\\Local\\Temp\\ipykernel_34800\\3465631864.py:63: FutureWarning: The frame.append method is deprecated and will be removed from pandas in a future version. Use pandas.concat instead.\n",
      "  df = df.append(datarow, ignore_index=True)\n"
     ]
    },
    {
     "name": "stdout",
     "output_type": "stream",
     "text": [
      "Sundays at 1PM1739 N. High St.Columbus, OH 43210\n",
      "Sundays 1 PM\n",
      "test\n",
      "TEST\n",
      "Weekly Friday meetings, 7:30 - 9:30pmColumbus, OH 43210\n",
      "TEST\n"
     ]
    },
    {
     "name": "stderr",
     "output_type": "stream",
     "text": [
      "C:\\Users\\lando\\AppData\\Local\\Temp\\ipykernel_34800\\3465631864.py:63: FutureWarning: The frame.append method is deprecated and will be removed from pandas in a future version. Use pandas.concat instead.\n",
      "  df = df.append(datarow, ignore_index=True)\n",
      "C:\\Users\\lando\\AppData\\Local\\Temp\\ipykernel_34800\\3465631864.py:63: FutureWarning: The frame.append method is deprecated and will be removed from pandas in a future version. Use pandas.concat instead.\n",
      "  df = df.append(datarow, ignore_index=True)\n"
     ]
    },
    {
     "name": "stdout",
     "output_type": "stream",
     "text": [
      "First day night for each quarter140 W 19th AveColumbus, OH 43210Columbus, OH 43210\n",
      "W 19 None\n",
      "test\n",
      "TEST\n",
      "Monday, 7:00PM210 West Woodruff AvenueColumbus, OH 43210Columbus, OH 43210\n",
      "Monday 7:00 PM\n",
      "test\n",
      "TEST\n"
     ]
    },
    {
     "name": "stderr",
     "output_type": "stream",
     "text": [
      "C:\\Users\\lando\\AppData\\Local\\Temp\\ipykernel_34800\\3465631864.py:63: FutureWarning: The frame.append method is deprecated and will be removed from pandas in a future version. Use pandas.concat instead.\n",
      "  df = df.append(datarow, ignore_index=True)\n",
      "C:\\Users\\lando\\AppData\\Local\\Temp\\ipykernel_34800\\3465631864.py:63: FutureWarning: The frame.append method is deprecated and will be removed from pandas in a future version. Use pandas.concat instead.\n",
      "  df = df.append(datarow, ignore_index=True)\n"
     ]
    },
    {
     "name": "stdout",
     "output_type": "stream",
     "text": [
      "AnnuallyOSU Moritz College of Law55 W.12th Avenue, Columbus, Ohio, 43210Columbus, OH 43210\n",
      "W 12 None\n",
      "test\n",
      "TEST\n",
      "333 W 10th AveColumbus, OH 43210Columbus, OH 43210\n",
      "W 10 None\n",
      "test\n",
      "TEST\n"
     ]
    },
    {
     "name": "stderr",
     "output_type": "stream",
     "text": [
      "C:\\Users\\lando\\AppData\\Local\\Temp\\ipykernel_34800\\3465631864.py:63: FutureWarning: The frame.append method is deprecated and will be removed from pandas in a future version. Use pandas.concat instead.\n",
      "  df = df.append(datarow, ignore_index=True)\n",
      "C:\\Users\\lando\\AppData\\Local\\Temp\\ipykernel_34800\\3465631864.py:63: FutureWarning: The frame.append method is deprecated and will be removed from pandas in a future version. Use pandas.concat instead.\n",
      "  df = df.append(datarow, ignore_index=True)\n"
     ]
    },
    {
     "name": "stdout",
     "output_type": "stream",
     "text": [
      "Monday 6pm - 7:30pm1739 N High St, Columbus, OH 43210Columbus, OH 43210\n",
      "Monday 6 pm\n",
      "test\n",
      "TEST\n",
      "305 W. 12th AvenueColumbus, OH 43210Columbus, OH 43210\n",
      "W 12 None\n",
      "test\n",
      "TEST\n"
     ]
    },
    {
     "name": "stderr",
     "output_type": "stream",
     "text": [
      "C:\\Users\\lando\\AppData\\Local\\Temp\\ipykernel_34800\\3465631864.py:63: FutureWarning: The frame.append method is deprecated and will be removed from pandas in a future version. Use pandas.concat instead.\n",
      "  df = df.append(datarow, ignore_index=True)\n",
      "C:\\Users\\lando\\AppData\\Local\\Temp\\ipykernel_34800\\3465631864.py:63: FutureWarning: The frame.append method is deprecated and will be removed from pandas in a future version. Use pandas.concat instead.\n",
      "  df = df.append(datarow, ignore_index=True)\n"
     ]
    },
    {
     "name": "stdout",
     "output_type": "stream",
     "text": [
      "Columbus, OH 43210\n",
      "TEST\n",
      "Columbus, OH 43210\n",
      "TEST\n"
     ]
    },
    {
     "name": "stderr",
     "output_type": "stream",
     "text": [
      "C:\\Users\\lando\\AppData\\Local\\Temp\\ipykernel_34800\\3465631864.py:63: FutureWarning: The frame.append method is deprecated and will be removed from pandas in a future version. Use pandas.concat instead.\n",
      "  df = df.append(datarow, ignore_index=True)\n",
      "C:\\Users\\lando\\AppData\\Local\\Temp\\ipykernel_34800\\3465631864.py:63: FutureWarning: The frame.append method is deprecated and will be removed from pandas in a future version. Use pandas.concat instead.\n",
      "  df = df.append(datarow, ignore_index=True)\n"
     ]
    },
    {
     "name": "stdout",
     "output_type": "stream",
     "text": [
      "Thursdays at 6:30 bi-weekly1739 N High StColumbus, OH 43210\n",
      "Thursdays 6:30 None\n",
      "test\n",
      "TEST\n",
      "Tuesdays46 E 16th AveColumbus, OH 43210\n",
      "Tuesdays 46 None\n",
      "test\n",
      "TEST\n"
     ]
    },
    {
     "name": "stderr",
     "output_type": "stream",
     "text": [
      "C:\\Users\\lando\\AppData\\Local\\Temp\\ipykernel_34800\\3465631864.py:63: FutureWarning: The frame.append method is deprecated and will be removed from pandas in a future version. Use pandas.concat instead.\n",
      "  df = df.append(datarow, ignore_index=True)\n",
      "C:\\Users\\lando\\AppData\\Local\\Temp\\ipykernel_34800\\3465631864.py:63: FutureWarning: The frame.append method is deprecated and will be removed from pandas in a future version. Use pandas.concat instead.\n",
      "  df = df.append(datarow, ignore_index=True)\n"
     ]
    },
    {
     "name": "stdout",
     "output_type": "stream",
     "text": [
      "One Monday a Month at 6:00 pmCunz Hall1841 Neil AveColumbus, OH 43210\n",
      "TEST\n",
      "Thursday 6:00PM1827 Neil AveColumbus, OH 43210Columbus, OH 43210\n",
      "Thursday 6:00 PM\n",
      "test\n",
      "TEST\n"
     ]
    },
    {
     "name": "stderr",
     "output_type": "stream",
     "text": [
      "C:\\Users\\lando\\AppData\\Local\\Temp\\ipykernel_34800\\3465631864.py:63: FutureWarning: The frame.append method is deprecated and will be removed from pandas in a future version. Use pandas.concat instead.\n",
      "  df = df.append(datarow, ignore_index=True)\n",
      "C:\\Users\\lando\\AppData\\Local\\Temp\\ipykernel_34800\\3465631864.py:63: FutureWarning: The frame.append method is deprecated and will be removed from pandas in a future version. Use pandas.concat instead.\n",
      "  df = df.append(datarow, ignore_index=True)\n"
     ]
    },
    {
     "name": "stdout",
     "output_type": "stream",
     "text": [
      "every other Friday,3:00 pm398 Hagerty Hall, 1775 College Rd.Columbus, OH, 43210Columbus, OH 43210\n",
      "Friday 3:00 pm\n",
      "test\n",
      "TEST\n",
      "First Monday of the month at 5:15pmColumbus, OH 43210\n",
      "TEST\n"
     ]
    },
    {
     "name": "stderr",
     "output_type": "stream",
     "text": [
      "C:\\Users\\lando\\AppData\\Local\\Temp\\ipykernel_34800\\3465631864.py:63: FutureWarning: The frame.append method is deprecated and will be removed from pandas in a future version. Use pandas.concat instead.\n",
      "  df = df.append(datarow, ignore_index=True)\n",
      "C:\\Users\\lando\\AppData\\Local\\Temp\\ipykernel_34800\\3465631864.py:63: FutureWarning: The frame.append method is deprecated and will be removed from pandas in a future version. Use pandas.concat instead.\n",
      "  df = df.append(datarow, ignore_index=True)\n"
     ]
    },
    {
     "name": "stdout",
     "output_type": "stream",
     "text": [
      "Wednesday 7 PM2015 Neil AvenueColumbus, OH 43210Columbus, OH 43210\n",
      "Wednesday 7 PM\n",
      "test\n",
      "TEST\n",
      "Third Fridays, 10:30 am29 W. Woodruff AveColumbus, OH 43210\n",
      "Fridays 10:30 am\n",
      "test\n",
      "TEST\n"
     ]
    },
    {
     "name": "stderr",
     "output_type": "stream",
     "text": [
      "C:\\Users\\lando\\AppData\\Local\\Temp\\ipykernel_34800\\3465631864.py:63: FutureWarning: The frame.append method is deprecated and will be removed from pandas in a future version. Use pandas.concat instead.\n",
      "  df = df.append(datarow, ignore_index=True)\n",
      "C:\\Users\\lando\\AppData\\Local\\Temp\\ipykernel_34800\\3465631864.py:63: FutureWarning: The frame.append method is deprecated and will be removed from pandas in a future version. Use pandas.concat instead.\n",
      "  df = df.append(datarow, ignore_index=True)\n"
     ]
    },
    {
     "name": "stdout",
     "output_type": "stream",
     "text": [
      "Columbus, OH 43210\n",
      "TEST\n",
      "Tuesday's 7:05 PMColumbus, OH 43210\n",
      "TEST\n"
     ]
    },
    {
     "name": "stderr",
     "output_type": "stream",
     "text": [
      "C:\\Users\\lando\\AppData\\Local\\Temp\\ipykernel_34800\\3465631864.py:63: FutureWarning: The frame.append method is deprecated and will be removed from pandas in a future version. Use pandas.concat instead.\n",
      "  df = df.append(datarow, ignore_index=True)\n",
      "C:\\Users\\lando\\AppData\\Local\\Temp\\ipykernel_34800\\3465631864.py:63: FutureWarning: The frame.append method is deprecated and will be removed from pandas in a future version. Use pandas.concat instead.\n",
      "  df = df.append(datarow, ignore_index=True)\n"
     ]
    },
    {
     "name": "stdout",
     "output_type": "stream",
     "text": [
      "Monthly evening meetingsColumbus, OH 43210\n",
      "TEST\n",
      "1st Friday of the month at 11:30 am305 W. 12th Ave. Columbus OH 43210Columbus, OH 43210\n",
      "W 12 None\n",
      "test\n",
      "TEST\n"
     ]
    },
    {
     "name": "stderr",
     "output_type": "stream",
     "text": [
      "C:\\Users\\lando\\AppData\\Local\\Temp\\ipykernel_34800\\3465631864.py:63: FutureWarning: The frame.append method is deprecated and will be removed from pandas in a future version. Use pandas.concat instead.\n",
      "  df = df.append(datarow, ignore_index=True)\n",
      "C:\\Users\\lando\\AppData\\Local\\Temp\\ipykernel_34800\\3465631864.py:63: FutureWarning: The frame.append method is deprecated and will be removed from pandas in a future version. Use pandas.concat instead.\n",
      "  df = df.append(datarow, ignore_index=True)\n"
     ]
    },
    {
     "name": "stdout",
     "output_type": "stream",
     "text": [
      "Every Thursday at 4pm590 Woody Hayes Dr Columbus, OH 43210Columbus, OH 43210\n",
      "Thursday 4 pm\n",
      "test\n",
      "TEST\n",
      "TBD370 West 9th Ave, Meiling HallColumbus, OH 43210\n",
      "TEST\n"
     ]
    },
    {
     "name": "stderr",
     "output_type": "stream",
     "text": [
      "C:\\Users\\lando\\AppData\\Local\\Temp\\ipykernel_34800\\3465631864.py:63: FutureWarning: The frame.append method is deprecated and will be removed from pandas in a future version. Use pandas.concat instead.\n",
      "  df = df.append(datarow, ignore_index=True)\n",
      "C:\\Users\\lando\\AppData\\Local\\Temp\\ipykernel_34800\\3465631864.py:63: FutureWarning: The frame.append method is deprecated and will be removed from pandas in a future version. Use pandas.concat instead.\n",
      "  df = df.append(datarow, ignore_index=True)\n"
     ]
    },
    {
     "name": "stdout",
     "output_type": "stream",
     "text": [
      "6pm on Thursdays in the Physics Research Building191 W Woodruff AveColumbus, OH 43210\n",
      "TEST\n",
      "Varies453 W 10th Ave, Columbus, OH 43210Columbus, OH 43210\n",
      "W 10 None\n",
      "test\n",
      "TEST\n"
     ]
    },
    {
     "name": "stderr",
     "output_type": "stream",
     "text": [
      "C:\\Users\\lando\\AppData\\Local\\Temp\\ipykernel_34800\\3465631864.py:63: FutureWarning: The frame.append method is deprecated and will be removed from pandas in a future version. Use pandas.concat instead.\n",
      "  df = df.append(datarow, ignore_index=True)\n",
      "C:\\Users\\lando\\AppData\\Local\\Temp\\ipykernel_34800\\3465631864.py:63: FutureWarning: The frame.append method is deprecated and will be removed from pandas in a future version. Use pandas.concat instead.\n",
      "  df = df.append(datarow, ignore_index=True)\n"
     ]
    },
    {
     "name": "stdout",
     "output_type": "stream",
     "text": [
      "Zoom 6:30pmColumbus, OH 43210\n",
      "TEST\n",
      "Columbus, OH 43210\n",
      "TEST\n"
     ]
    },
    {
     "name": "stderr",
     "output_type": "stream",
     "text": [
      "C:\\Users\\lando\\AppData\\Local\\Temp\\ipykernel_34800\\3465631864.py:63: FutureWarning: The frame.append method is deprecated and will be removed from pandas in a future version. Use pandas.concat instead.\n",
      "  df = df.append(datarow, ignore_index=True)\n",
      "C:\\Users\\lando\\AppData\\Local\\Temp\\ipykernel_34800\\3465631864.py:63: FutureWarning: The frame.append method is deprecated and will be removed from pandas in a future version. Use pandas.concat instead.\n",
      "  df = df.append(datarow, ignore_index=True)\n"
     ]
    },
    {
     "name": "stdout",
     "output_type": "stream",
     "text": [
      "Fridays at 4 PM370 W 9th AveColumbus, OH 43210Columbus, OH 43210\n",
      "Fridays 4 PM\n",
      "test\n",
      "TEST\n",
      "Columbus, OH 43210\n",
      "TEST\n"
     ]
    },
    {
     "name": "stderr",
     "output_type": "stream",
     "text": [
      "C:\\Users\\lando\\AppData\\Local\\Temp\\ipykernel_34800\\3465631864.py:63: FutureWarning: The frame.append method is deprecated and will be removed from pandas in a future version. Use pandas.concat instead.\n",
      "  df = df.append(datarow, ignore_index=True)\n",
      "C:\\Users\\lando\\AppData\\Local\\Temp\\ipykernel_34800\\3465631864.py:63: FutureWarning: The frame.append method is deprecated and will be removed from pandas in a future version. Use pandas.concat instead.\n",
      "  df = df.append(datarow, ignore_index=True)\n"
     ]
    },
    {
     "name": "stdout",
     "output_type": "stream",
     "text": [
      "1st and 3rd Thursdays at 7:00PMColumbus, OH 43210\n",
      "Thursdays 7:00 PM\n",
      "test\n",
      "TEST\n",
      "Wednesday @ 7pmColumbus, OH 43210\n",
      "Wednesday 7 pm\n",
      "test\n",
      "TEST\n"
     ]
    },
    {
     "name": "stderr",
     "output_type": "stream",
     "text": [
      "C:\\Users\\lando\\AppData\\Local\\Temp\\ipykernel_34800\\3465631864.py:63: FutureWarning: The frame.append method is deprecated and will be removed from pandas in a future version. Use pandas.concat instead.\n",
      "  df = df.append(datarow, ignore_index=True)\n",
      "C:\\Users\\lando\\AppData\\Local\\Temp\\ipykernel_34800\\3465631864.py:63: FutureWarning: The frame.append method is deprecated and will be removed from pandas in a future version. Use pandas.concat instead.\n",
      "  df = df.append(datarow, ignore_index=True)\n"
     ]
    },
    {
     "name": "stdout",
     "output_type": "stream",
     "text": [
      "TBD230 North Oval MallColumbus, OH 43210\n",
      "TEST\n"
     ]
    },
    {
     "name": "stderr",
     "output_type": "stream",
     "text": [
      "C:\\Users\\lando\\AppData\\Local\\Temp\\ipykernel_34800\\3465631864.py:63: FutureWarning: The frame.append method is deprecated and will be removed from pandas in a future version. Use pandas.concat instead.\n",
      "  df = df.append(datarow, ignore_index=True)\n"
     ]
    },
    {
     "name": "stdout",
     "output_type": "stream",
     "text": [
      "Tuesday at 7pmBuilding 072 2009 Millikin Rd Columbus, OH 43210Columbus, OH 43210\n",
      "Tuesday 7 pm\n",
      "test\n",
      "TEST\n"
     ]
    },
    {
     "name": "stderr",
     "output_type": "stream",
     "text": [
      "C:\\Users\\lando\\AppData\\Local\\Temp\\ipykernel_34800\\3465631864.py:63: FutureWarning: The frame.append method is deprecated and will be removed from pandas in a future version. Use pandas.concat instead.\n",
      "  df = df.append(datarow, ignore_index=True)\n"
     ]
    },
    {
     "name": "stdout",
     "output_type": "stream",
     "text": [
      "Thursdays, TBDColumbus, OH 43210\n",
      "TEST\n",
      "Every other Thursday at 8:30PM starting 8/25(please email for updated meeting location)Columbus, OH 43210\n",
      "Thursday 8:30 PM\n",
      "test\n",
      "TEST\n"
     ]
    },
    {
     "name": "stderr",
     "output_type": "stream",
     "text": [
      "C:\\Users\\lando\\AppData\\Local\\Temp\\ipykernel_34800\\3465631864.py:63: FutureWarning: The frame.append method is deprecated and will be removed from pandas in a future version. Use pandas.concat instead.\n",
      "  df = df.append(datarow, ignore_index=True)\n",
      "C:\\Users\\lando\\AppData\\Local\\Temp\\ipykernel_34800\\3465631864.py:63: FutureWarning: The frame.append method is deprecated and will be removed from pandas in a future version. Use pandas.concat instead.\n",
      "  df = df.append(datarow, ignore_index=True)\n"
     ]
    },
    {
     "name": "stdout",
     "output_type": "stream",
     "text": [
      "Thurs 7:00pm - 9:00 pm.930 Kinnear RoadColumbus, OH 43210\n",
      "Thurs 7:00 pm\n",
      "test\n",
      "TEST\n"
     ]
    },
    {
     "name": "stderr",
     "output_type": "stream",
     "text": [
      "C:\\Users\\lando\\AppData\\Local\\Temp\\ipykernel_34800\\3465631864.py:63: FutureWarning: The frame.append method is deprecated and will be removed from pandas in a future version. Use pandas.concat instead.\n",
      "  df = df.append(datarow, ignore_index=True)\n"
     ]
    },
    {
     "name": "stdout",
     "output_type": "stream",
     "text": [
      "Sunday at 5:00pm129 W 12th AveColumbus, OH 43210\n",
      "Sunday 5:00 pm\n",
      "test\n",
      "TEST\n"
     ]
    },
    {
     "name": "stderr",
     "output_type": "stream",
     "text": [
      "C:\\Users\\lando\\AppData\\Local\\Temp\\ipykernel_34800\\3465631864.py:63: FutureWarning: The frame.append method is deprecated and will be removed from pandas in a future version. Use pandas.concat instead.\n",
      "  df = df.append(datarow, ignore_index=True)\n"
     ]
    },
    {
     "name": "stdout",
     "output_type": "stream",
     "text": [
      "Columbus, OH 43210\n",
      "TEST\n"
     ]
    },
    {
     "name": "stderr",
     "output_type": "stream",
     "text": [
      "C:\\Users\\lando\\AppData\\Local\\Temp\\ipykernel_34800\\3465631864.py:63: FutureWarning: The frame.append method is deprecated and will be removed from pandas in a future version. Use pandas.concat instead.\n",
      "  df = df.append(datarow, ignore_index=True)\n"
     ]
    },
    {
     "name": "stdout",
     "output_type": "stream",
     "text": [
      "Tuesday 7:00-8:30 pm153 W. 12th Ave.Columbus, OH 43210\n",
      "Tuesday 7:00 None\n",
      "test\n",
      "TEST\n",
      "VariesVariesColumbus, OH 43210\n",
      "TEST\n"
     ]
    },
    {
     "name": "stderr",
     "output_type": "stream",
     "text": [
      "C:\\Users\\lando\\AppData\\Local\\Temp\\ipykernel_34800\\3465631864.py:63: FutureWarning: The frame.append method is deprecated and will be removed from pandas in a future version. Use pandas.concat instead.\n",
      "  df = df.append(datarow, ignore_index=True)\n",
      "C:\\Users\\lando\\AppData\\Local\\Temp\\ipykernel_34800\\3465631864.py:63: FutureWarning: The frame.append method is deprecated and will be removed from pandas in a future version. Use pandas.concat instead.\n",
      "  df = df.append(datarow, ignore_index=True)\n"
     ]
    },
    {
     "name": "stdout",
     "output_type": "stream",
     "text": [
      "Columbus, OH 43210\n",
      "TEST\n",
      "Mondays and Thursdays from 6:00-8:00 PMColumbus, OH 43210\n",
      "TEST\n"
     ]
    },
    {
     "name": "stderr",
     "output_type": "stream",
     "text": [
      "C:\\Users\\lando\\AppData\\Local\\Temp\\ipykernel_34800\\3465631864.py:63: FutureWarning: The frame.append method is deprecated and will be removed from pandas in a future version. Use pandas.concat instead.\n",
      "  df = df.append(datarow, ignore_index=True)\n",
      "C:\\Users\\lando\\AppData\\Local\\Temp\\ipykernel_34800\\3465631864.py:63: FutureWarning: The frame.append method is deprecated and will be removed from pandas in a future version. Use pandas.concat instead.\n",
      "  df = df.append(datarow, ignore_index=True)\n"
     ]
    },
    {
     "name": "stdout",
     "output_type": "stream",
     "text": [
      "2X a month on Monday(s) at 5:30pmtbdColumbus, OH 43210\n",
      "TEST\n"
     ]
    },
    {
     "name": "stderr",
     "output_type": "stream",
     "text": [
      "C:\\Users\\lando\\AppData\\Local\\Temp\\ipykernel_34800\\3465631864.py:63: FutureWarning: The frame.append method is deprecated and will be removed from pandas in a future version. Use pandas.concat instead.\n",
      "  df = df.append(datarow, ignore_index=True)\n"
     ]
    },
    {
     "name": "stdout",
     "output_type": "stream",
     "text": [
      "Varies (email us)Columbus, OH 43210\n",
      "TEST\n",
      "Wednesday 6:00pmThe Ohio State University UnionColumbus, OH 43210\n",
      "Wednesday 6:00 pm\n",
      "test\n",
      "TEST\n"
     ]
    },
    {
     "name": "stderr",
     "output_type": "stream",
     "text": [
      "C:\\Users\\lando\\AppData\\Local\\Temp\\ipykernel_34800\\3465631864.py:63: FutureWarning: The frame.append method is deprecated and will be removed from pandas in a future version. Use pandas.concat instead.\n",
      "  df = df.append(datarow, ignore_index=True)\n",
      "C:\\Users\\lando\\AppData\\Local\\Temp\\ipykernel_34800\\3465631864.py:63: FutureWarning: The frame.append method is deprecated and will be removed from pandas in a future version. Use pandas.concat instead.\n",
      "  df = df.append(datarow, ignore_index=True)\n"
     ]
    },
    {
     "name": "stdout",
     "output_type": "stream",
     "text": [
      "Wednesdays at 6pm2021 Coffey Rd, Columbus OH 43210Columbus, OH 43210\n",
      "Wednesdays 6 pm\n",
      "test\n",
      "TEST\n"
     ]
    },
    {
     "name": "stderr",
     "output_type": "stream",
     "text": [
      "C:\\Users\\lando\\AppData\\Local\\Temp\\ipykernel_34800\\3465631864.py:63: FutureWarning: The frame.append method is deprecated and will be removed from pandas in a future version. Use pandas.concat instead.\n",
      "  df = df.append(datarow, ignore_index=True)\n"
     ]
    },
    {
     "name": "stdout",
     "output_type": "stream",
     "text": [
      "Saturday 10:00 amColumbus, OH 43210\n",
      "Saturday 10:00 am\n",
      "test\n",
      "TEST\n"
     ]
    },
    {
     "name": "stderr",
     "output_type": "stream",
     "text": [
      "C:\\Users\\lando\\AppData\\Local\\Temp\\ipykernel_34800\\3465631864.py:63: FutureWarning: The frame.append method is deprecated and will be removed from pandas in a future version. Use pandas.concat instead.\n",
      "  df = df.append(datarow, ignore_index=True)\n"
     ]
    },
    {
     "name": "stdout",
     "output_type": "stream",
     "text": [
      "Columbus, OH 43210\n",
      "TEST\n"
     ]
    },
    {
     "name": "stderr",
     "output_type": "stream",
     "text": [
      "C:\\Users\\lando\\AppData\\Local\\Temp\\ipykernel_34800\\3465631864.py:63: FutureWarning: The frame.append method is deprecated and will be removed from pandas in a future version. Use pandas.concat instead.\n",
      "  df = df.append(datarow, ignore_index=True)\n"
     ]
    },
    {
     "name": "stdout",
     "output_type": "stream",
     "text": [
      "Tuesdays at 6:30pmColumbus, OH 43210\n",
      "Tuesdays 6:30 pm\n",
      "test\n",
      "TEST\n",
      "TBAGraves Hall Rm 1190Columbus, OH 43210\n",
      "TEST\n"
     ]
    },
    {
     "name": "stderr",
     "output_type": "stream",
     "text": [
      "C:\\Users\\lando\\AppData\\Local\\Temp\\ipykernel_34800\\3465631864.py:63: FutureWarning: The frame.append method is deprecated and will be removed from pandas in a future version. Use pandas.concat instead.\n",
      "  df = df.append(datarow, ignore_index=True)\n",
      "C:\\Users\\lando\\AppData\\Local\\Temp\\ipykernel_34800\\3465631864.py:63: FutureWarning: The frame.append method is deprecated and will be removed from pandas in a future version. Use pandas.concat instead.\n",
      "  df = df.append(datarow, ignore_index=True)\n"
     ]
    },
    {
     "name": "stdout",
     "output_type": "stream",
     "text": [
      "Beginning and end of each semester.N/AColumbus, OH 43210\n",
      "TEST\n",
      "Monday 7:00 PMColumbus, OH 43210\n",
      "Monday 7:00 PM\n",
      "test\n",
      "TEST\n"
     ]
    },
    {
     "name": "stderr",
     "output_type": "stream",
     "text": [
      "C:\\Users\\lando\\AppData\\Local\\Temp\\ipykernel_34800\\3465631864.py:63: FutureWarning: The frame.append method is deprecated and will be removed from pandas in a future version. Use pandas.concat instead.\n",
      "  df = df.append(datarow, ignore_index=True)\n",
      "C:\\Users\\lando\\AppData\\Local\\Temp\\ipykernel_34800\\3465631864.py:63: FutureWarning: The frame.append method is deprecated and will be removed from pandas in a future version. Use pandas.concat instead.\n",
      "  df = df.append(datarow, ignore_index=True)\n"
     ]
    },
    {
     "name": "stdout",
     "output_type": "stream",
     "text": [
      "Thursday 7:05pmColumbus, OH 43210\n",
      "Thursday 7:05 pm\n",
      "test\n",
      "TEST\n"
     ]
    },
    {
     "name": "stderr",
     "output_type": "stream",
     "text": [
      "C:\\Users\\lando\\AppData\\Local\\Temp\\ipykernel_34800\\3465631864.py:63: FutureWarning: The frame.append method is deprecated and will be removed from pandas in a future version. Use pandas.concat instead.\n",
      "  df = df.append(datarow, ignore_index=True)\n"
     ]
    },
    {
     "name": "stdout",
     "output_type": "stream",
     "text": [
      "Columbus, OH 43210\n",
      "TEST\n"
     ]
    },
    {
     "name": "stderr",
     "output_type": "stream",
     "text": [
      "C:\\Users\\lando\\AppData\\Local\\Temp\\ipykernel_34800\\3465631864.py:63: FutureWarning: The frame.append method is deprecated and will be removed from pandas in a future version. Use pandas.concat instead.\n",
      "  df = df.append(datarow, ignore_index=True)\n"
     ]
    },
    {
     "name": "stdout",
     "output_type": "stream",
     "text": [
      "Virtual338 W 10th AveColumbus, OH 43210\n",
      "W 10 None\n",
      "test\n",
      "TEST\n"
     ]
    },
    {
     "name": "stderr",
     "output_type": "stream",
     "text": [
      "C:\\Users\\lando\\AppData\\Local\\Temp\\ipykernel_34800\\3465631864.py:63: FutureWarning: The frame.append method is deprecated and will be removed from pandas in a future version. Use pandas.concat instead.\n",
      "  df = df.append(datarow, ignore_index=True)\n"
     ]
    },
    {
     "name": "stdout",
     "output_type": "stream",
     "text": [
      "Tuesday 8:00 pmColumbus, OH 43210\n",
      "Tuesday 8:00 pm\n",
      "test\n",
      "TEST\n"
     ]
    },
    {
     "name": "stderr",
     "output_type": "stream",
     "text": [
      "C:\\Users\\lando\\AppData\\Local\\Temp\\ipykernel_34800\\3465631864.py:63: FutureWarning: The frame.append method is deprecated and will be removed from pandas in a future version. Use pandas.concat instead.\n",
      "  df = df.append(datarow, ignore_index=True)\n"
     ]
    },
    {
     "name": "stdout",
     "output_type": "stream",
     "text": [
      "Mondays 6:00pm165 E 15th AveColumbus, OH 43210\n",
      "Mondays 6:00 pm\n",
      "test\n",
      "TEST\n"
     ]
    },
    {
     "name": "stderr",
     "output_type": "stream",
     "text": [
      "C:\\Users\\lando\\AppData\\Local\\Temp\\ipykernel_34800\\3465631864.py:63: FutureWarning: The frame.append method is deprecated and will be removed from pandas in a future version. Use pandas.concat instead.\n",
      "  df = df.append(datarow, ignore_index=True)\n"
     ]
    },
    {
     "name": "stdout",
     "output_type": "stream",
     "text": [
      "Tuesday 6:30pm-8pmColumbus, OH 43210\n",
      "Tuesday 6:30 pm\n",
      "test\n",
      "TEST\n"
     ]
    },
    {
     "name": "stderr",
     "output_type": "stream",
     "text": [
      "C:\\Users\\lando\\AppData\\Local\\Temp\\ipykernel_34800\\3465631864.py:63: FutureWarning: The frame.append method is deprecated and will be removed from pandas in a future version. Use pandas.concat instead.\n",
      "  df = df.append(datarow, ignore_index=True)\n"
     ]
    },
    {
     "name": "stdout",
     "output_type": "stream",
     "text": [
      "Thursday, 7pm1787 Neil Ave Columbus, OH 43210Columbus, OH 43210\n",
      "Thursday 7 pm\n",
      "test\n",
      "TEST\n"
     ]
    },
    {
     "name": "stderr",
     "output_type": "stream",
     "text": [
      "C:\\Users\\lando\\AppData\\Local\\Temp\\ipykernel_34800\\3465631864.py:63: FutureWarning: The frame.append method is deprecated and will be removed from pandas in a future version. Use pandas.concat instead.\n",
      "  df = df.append(datarow, ignore_index=True)\n"
     ]
    },
    {
     "name": "stdout",
     "output_type": "stream",
     "text": [
      "Tuesdays, 6:00 pm - 7:30 pmColumbus, OH 43210\n",
      "Tuesdays 6:00 pm\n",
      "test\n",
      "TEST\n"
     ]
    },
    {
     "name": "stderr",
     "output_type": "stream",
     "text": [
      "C:\\Users\\lando\\AppData\\Local\\Temp\\ipykernel_34800\\3465631864.py:63: FutureWarning: The frame.append method is deprecated and will be removed from pandas in a future version. Use pandas.concat instead.\n",
      "  df = df.append(datarow, ignore_index=True)\n"
     ]
    },
    {
     "name": "stdout",
     "output_type": "stream",
     "text": [
      "One general body meeting at beginning of semester1739 N High St., Columbus, OH 43210Columbus, OH 43210\n",
      "TEST\n"
     ]
    },
    {
     "name": "stderr",
     "output_type": "stream",
     "text": [
      "C:\\Users\\lando\\AppData\\Local\\Temp\\ipykernel_34800\\3465631864.py:63: FutureWarning: The frame.append method is deprecated and will be removed from pandas in a future version. Use pandas.concat instead.\n",
      "  df = df.append(datarow, ignore_index=True)\n"
     ]
    },
    {
     "name": "stdout",
     "output_type": "stream",
     "text": [
      "Check out our Slack and Email List: bdaaosu.orgTuesday’s @ 7:30pm**Meeting location subject to change**Columbus, OH 43210\n",
      "TEST\n"
     ]
    },
    {
     "name": "stderr",
     "output_type": "stream",
     "text": [
      "C:\\Users\\lando\\AppData\\Local\\Temp\\ipykernel_34800\\3465631864.py:63: FutureWarning: The frame.append method is deprecated and will be removed from pandas in a future version. Use pandas.concat instead.\n",
      "  df = df.append(datarow, ignore_index=True)\n"
     ]
    },
    {
     "name": "stdout",
     "output_type": "stream",
     "text": [
      "Group rides on weeknights and weekends337 Annie & John Glenn AvenueColumbus, OH 43210\n",
      "TEST\n"
     ]
    },
    {
     "name": "stderr",
     "output_type": "stream",
     "text": [
      "C:\\Users\\lando\\AppData\\Local\\Temp\\ipykernel_34800\\3465631864.py:63: FutureWarning: The frame.append method is deprecated and will be removed from pandas in a future version. Use pandas.concat instead.\n",
      "  df = df.append(datarow, ignore_index=True)\n"
     ]
    },
    {
     "name": "stdout",
     "output_type": "stream",
     "text": [
      "Columbus, OH 43210\n",
      "TEST\n"
     ]
    },
    {
     "name": "stderr",
     "output_type": "stream",
     "text": [
      "C:\\Users\\lando\\AppData\\Local\\Temp\\ipykernel_34800\\3465631864.py:63: FutureWarning: The frame.append method is deprecated and will be removed from pandas in a future version. Use pandas.concat instead.\n",
      "  df = df.append(datarow, ignore_index=True)\n"
     ]
    },
    {
     "name": "stdout",
     "output_type": "stream",
     "text": [
      "Thursday, 7:30pmColumbus, OH 43210\n",
      "Thursday 7:30 pm\n",
      "test\n",
      "TEST\n"
     ]
    },
    {
     "name": "stderr",
     "output_type": "stream",
     "text": [
      "C:\\Users\\lando\\AppData\\Local\\Temp\\ipykernel_34800\\3465631864.py:63: FutureWarning: The frame.append method is deprecated and will be removed from pandas in a future version. Use pandas.concat instead.\n",
      "  df = df.append(datarow, ignore_index=True)\n"
     ]
    },
    {
     "name": "stdout",
     "output_type": "stream",
     "text": [
      "Thursday at 4:00 PM116 W 19th AveColumbus, OH 43210\n",
      "Thursday 4:00 PM\n",
      "test\n",
      "TEST\n"
     ]
    },
    {
     "name": "stderr",
     "output_type": "stream",
     "text": [
      "C:\\Users\\lando\\AppData\\Local\\Temp\\ipykernel_34800\\3465631864.py:63: FutureWarning: The frame.append method is deprecated and will be removed from pandas in a future version. Use pandas.concat instead.\n",
      "  df = df.append(datarow, ignore_index=True)\n"
     ]
    },
    {
     "name": "stdout",
     "output_type": "stream",
     "text": [
      "Monthly- refer to https://www.osubmes.org/140 W. 19th Avenue, Columbus, OH 43210Columbus, OH 43210\n",
      "W 19 None\n",
      "test\n",
      "TEST\n"
     ]
    },
    {
     "name": "stderr",
     "output_type": "stream",
     "text": [
      "C:\\Users\\lando\\AppData\\Local\\Temp\\ipykernel_34800\\3465631864.py:63: FutureWarning: The frame.append method is deprecated and will be removed from pandas in a future version. Use pandas.concat instead.\n",
      "  df = df.append(datarow, ignore_index=True)\n"
     ]
    },
    {
     "name": "stdout",
     "output_type": "stream",
     "text": [
      "Bi-weekly Mondays 5:30-6:30pm333 W. 10th AvenueColumbus, OH 43210\n",
      "Mondays 5:30 None\n",
      "test\n",
      "TEST\n"
     ]
    },
    {
     "name": "stderr",
     "output_type": "stream",
     "text": [
      "C:\\Users\\lando\\AppData\\Local\\Temp\\ipykernel_34800\\3465631864.py:63: FutureWarning: The frame.append method is deprecated and will be removed from pandas in a future version. Use pandas.concat instead.\n",
      "  df = df.append(datarow, ignore_index=True)\n"
     ]
    },
    {
     "name": "stdout",
     "output_type": "stream",
     "text": [
      "First Monday of every monthColumbus, OH 43210\n",
      "TEST\n"
     ]
    },
    {
     "name": "stderr",
     "output_type": "stream",
     "text": [
      "C:\\Users\\lando\\AppData\\Local\\Temp\\ipykernel_34800\\3465631864.py:63: FutureWarning: The frame.append method is deprecated and will be removed from pandas in a future version. Use pandas.concat instead.\n",
      "  df = df.append(datarow, ignore_index=True)\n"
     ]
    },
    {
     "name": "stdout",
     "output_type": "stream",
     "text": [
      "as announced333 West 10th AveColumbus, OH 43210\n",
      "TEST\n"
     ]
    },
    {
     "name": "stderr",
     "output_type": "stream",
     "text": [
      "C:\\Users\\lando\\AppData\\Local\\Temp\\ipykernel_34800\\3465631864.py:63: FutureWarning: The frame.append method is deprecated and will be removed from pandas in a future version. Use pandas.concat instead.\n",
      "  df = df.append(datarow, ignore_index=True)\n"
     ]
    },
    {
     "name": "stdout",
     "output_type": "stream",
     "text": [
      "Last Tuesday of the Month, 4-5pmColumbus, OH 43210\n",
      "TEST\n"
     ]
    },
    {
     "name": "stderr",
     "output_type": "stream",
     "text": [
      "C:\\Users\\lando\\AppData\\Local\\Temp\\ipykernel_34800\\3465631864.py:63: FutureWarning: The frame.append method is deprecated and will be removed from pandas in a future version. Use pandas.concat instead.\n",
      "  df = df.append(datarow, ignore_index=True)\n"
     ]
    },
    {
     "name": "stdout",
     "output_type": "stream",
     "text": [
      "Wednesday 7pm2009 Milikin Rd.Columbus, OH 43210\n",
      "Wednesday 7 pm\n",
      "test\n",
      "TEST\n"
     ]
    },
    {
     "name": "stderr",
     "output_type": "stream",
     "text": [
      "C:\\Users\\lando\\AppData\\Local\\Temp\\ipykernel_34800\\3465631864.py:63: FutureWarning: The frame.append method is deprecated and will be removed from pandas in a future version. Use pandas.concat instead.\n",
      "  df = df.append(datarow, ignore_index=True)\n"
     ]
    },
    {
     "name": "stdout",
     "output_type": "stream",
     "text": [
      "Biweekly Wednesdays at 6 PM242 W. 18th Ave Columbus, OH 43210Columbus, OH 43210\n",
      "Wednesdays 6 PM\n",
      "test\n",
      "TEST\n"
     ]
    },
    {
     "name": "stderr",
     "output_type": "stream",
     "text": [
      "C:\\Users\\lando\\AppData\\Local\\Temp\\ipykernel_34800\\3465631864.py:63: FutureWarning: The frame.append method is deprecated and will be removed from pandas in a future version. Use pandas.concat instead.\n",
      "  df = df.append(datarow, ignore_index=True)\n"
     ]
    },
    {
     "name": "stdout",
     "output_type": "stream",
     "text": [
      "Tuesdays at 6PMColumbus, OH 43210\n",
      "Tuesdays 6 PM\n",
      "test\n",
      "TEST\n"
     ]
    },
    {
     "name": "stderr",
     "output_type": "stream",
     "text": [
      "C:\\Users\\lando\\AppData\\Local\\Temp\\ipykernel_34800\\3465631864.py:63: FutureWarning: The frame.append method is deprecated and will be removed from pandas in a future version. Use pandas.concat instead.\n",
      "  df = df.append(datarow, ignore_index=True)\n"
     ]
    },
    {
     "name": "stdout",
     "output_type": "stream",
     "text": [
      "Tuesday Nights1813 N High StColumbus, OH 43210\n",
      "TEST\n"
     ]
    },
    {
     "name": "stderr",
     "output_type": "stream",
     "text": [
      "C:\\Users\\lando\\AppData\\Local\\Temp\\ipykernel_34800\\3465631864.py:63: FutureWarning: The frame.append method is deprecated and will be removed from pandas in a future version. Use pandas.concat instead.\n",
      "  df = df.append(datarow, ignore_index=True)\n"
     ]
    },
    {
     "name": "stdout",
     "output_type": "stream",
     "text": [
      "The first Friday of each month154 W. 12th AveColumbus, OH 43210\n",
      "W 12 None\n",
      "test\n",
      "TEST\n"
     ]
    },
    {
     "name": "stderr",
     "output_type": "stream",
     "text": [
      "C:\\Users\\lando\\AppData\\Local\\Temp\\ipykernel_34800\\3465631864.py:63: FutureWarning: The frame.append method is deprecated and will be removed from pandas in a future version. Use pandas.concat instead.\n",
      "  df = df.append(datarow, ignore_index=True)\n"
     ]
    },
    {
     "name": "stdout",
     "output_type": "stream",
     "text": [
      "Third Tuesday each Month55 W 12th AvenueColumbus, OH 43210Columbus, OH 43210\n",
      "W 12 None\n",
      "test\n",
      "TEST\n"
     ]
    },
    {
     "name": "stderr",
     "output_type": "stream",
     "text": [
      "C:\\Users\\lando\\AppData\\Local\\Temp\\ipykernel_34800\\3465631864.py:63: FutureWarning: The frame.append method is deprecated and will be removed from pandas in a future version. Use pandas.concat instead.\n",
      "  df = df.append(datarow, ignore_index=True)\n"
     ]
    },
    {
     "name": "stdout",
     "output_type": "stream",
     "text": [
      "Alternating Mondays at 2PMColumbus, OH 43210\n",
      "Mondays 2 PM\n",
      "test\n",
      "TEST\n"
     ]
    },
    {
     "name": "stderr",
     "output_type": "stream",
     "text": [
      "C:\\Users\\lando\\AppData\\Local\\Temp\\ipykernel_34800\\3465631864.py:63: FutureWarning: The frame.append method is deprecated and will be removed from pandas in a future version. Use pandas.concat instead.\n",
      "  df = df.append(datarow, ignore_index=True)\n"
     ]
    },
    {
     "name": "stdout",
     "output_type": "stream",
     "text": [
      "First Thursday 12:00-1:002100 Neil AveColumbus, OH 43210\n",
      "Thursday 12:00 None\n",
      "test\n",
      "TEST\n"
     ]
    },
    {
     "name": "stderr",
     "output_type": "stream",
     "text": [
      "C:\\Users\\lando\\AppData\\Local\\Temp\\ipykernel_34800\\3465631864.py:63: FutureWarning: The frame.append method is deprecated and will be removed from pandas in a future version. Use pandas.concat instead.\n",
      "  df = df.append(datarow, ignore_index=True)\n"
     ]
    },
    {
     "name": "stdout",
     "output_type": "stream",
     "text": [
      "Sunday at 4:00pmColumbus, OH 43210\n",
      "Sunday 4:00 pm\n",
      "test\n",
      "TEST\n"
     ]
    },
    {
     "name": "stderr",
     "output_type": "stream",
     "text": [
      "C:\\Users\\lando\\AppData\\Local\\Temp\\ipykernel_34800\\3465631864.py:63: FutureWarning: The frame.append method is deprecated and will be removed from pandas in a future version. Use pandas.concat instead.\n",
      "  df = df.append(datarow, ignore_index=True)\n"
     ]
    },
    {
     "name": "stdout",
     "output_type": "stream",
     "text": [
      "Biweekly Tuesday 7-9 PM154 W 12th Ave, Columbus, OH 43210Columbus, OH 43210\n",
      "Tuesday 7 None\n",
      "test\n",
      "TEST\n"
     ]
    },
    {
     "name": "stderr",
     "output_type": "stream",
     "text": [
      "C:\\Users\\lando\\AppData\\Local\\Temp\\ipykernel_34800\\3465631864.py:63: FutureWarning: The frame.append method is deprecated and will be removed from pandas in a future version. Use pandas.concat instead.\n",
      "  df = df.append(datarow, ignore_index=True)\n"
     ]
    },
    {
     "name": "stdout",
     "output_type": "stream",
     "text": [
      "Columbus, OH 43210\n",
      "TEST\n"
     ]
    },
    {
     "name": "stderr",
     "output_type": "stream",
     "text": [
      "C:\\Users\\lando\\AppData\\Local\\Temp\\ipykernel_34800\\3465631864.py:63: FutureWarning: The frame.append method is deprecated and will be removed from pandas in a future version. Use pandas.concat instead.\n",
      "  df = df.append(datarow, ignore_index=True)\n"
     ]
    },
    {
     "name": "stdout",
     "output_type": "stream",
     "text": [
      "Thursdays 7:00 pm154 W. 12th AveColumbus, OH 43210\n",
      "Thursdays 7:00 pm\n",
      "test\n",
      "TEST\n"
     ]
    },
    {
     "name": "stderr",
     "output_type": "stream",
     "text": [
      "C:\\Users\\lando\\AppData\\Local\\Temp\\ipykernel_34800\\3465631864.py:63: FutureWarning: The frame.append method is deprecated and will be removed from pandas in a future version. Use pandas.concat instead.\n",
      "  df = df.append(datarow, ignore_index=True)\n"
     ]
    },
    {
     "name": "stdout",
     "output_type": "stream",
     "text": [
      "Wednesday’s at 6pmEnarson Building Room 226 2009 Millikan RdColumbus, OH 43210\n",
      "TEST\n"
     ]
    },
    {
     "name": "stderr",
     "output_type": "stream",
     "text": [
      "C:\\Users\\lando\\AppData\\Local\\Temp\\ipykernel_34800\\3465631864.py:63: FutureWarning: The frame.append method is deprecated and will be removed from pandas in a future version. Use pandas.concat instead.\n",
      "  df = df.append(datarow, ignore_index=True)\n"
     ]
    },
    {
     "name": "stdout",
     "output_type": "stream",
     "text": [
      "Wednesdays, 5:30-6:30Columbus, OH 43210\n",
      "Wednesdays 5:30 None\n",
      "test\n",
      "TEST\n"
     ]
    },
    {
     "name": "stderr",
     "output_type": "stream",
     "text": [
      "C:\\Users\\lando\\AppData\\Local\\Temp\\ipykernel_34800\\3465631864.py:63: FutureWarning: The frame.append method is deprecated and will be removed from pandas in a future version. Use pandas.concat instead.\n",
      "  df = df.append(datarow, ignore_index=True)\n"
     ]
    },
    {
     "name": "stdout",
     "output_type": "stream",
     "text": [
      "Columbus, OH 43210\n",
      "TEST\n"
     ]
    },
    {
     "name": "stderr",
     "output_type": "stream",
     "text": [
      "C:\\Users\\lando\\AppData\\Local\\Temp\\ipykernel_34800\\3465631864.py:63: FutureWarning: The frame.append method is deprecated and will be removed from pandas in a future version. Use pandas.concat instead.\n",
      "  df = df.append(datarow, ignore_index=True)\n"
     ]
    },
    {
     "name": "stdout",
     "output_type": "stream",
     "text": [
      "Friday 4:30 pm - 6:00 pm2108 Neil AveColumbus, OH 43210\n",
      "Friday 4:30 pm\n",
      "test\n",
      "TEST\n"
     ]
    },
    {
     "name": "stderr",
     "output_type": "stream",
     "text": [
      "C:\\Users\\lando\\AppData\\Local\\Temp\\ipykernel_34800\\3465631864.py:63: FutureWarning: The frame.append method is deprecated and will be removed from pandas in a future version. Use pandas.concat instead.\n",
      "  df = df.append(datarow, ignore_index=True)\n"
     ]
    },
    {
     "name": "stdout",
     "output_type": "stream",
     "text": [
      "Columbus, OH 43210\n",
      "TEST\n"
     ]
    },
    {
     "name": "stderr",
     "output_type": "stream",
     "text": [
      "C:\\Users\\lando\\AppData\\Local\\Temp\\ipykernel_34800\\3465631864.py:63: FutureWarning: The frame.append method is deprecated and will be removed from pandas in a future version. Use pandas.concat instead.\n",
      "  df = df.append(datarow, ignore_index=True)\n"
     ]
    },
    {
     "name": "stdout",
     "output_type": "stream",
     "text": [
      "Columbus, OH 43210\n",
      "TEST\n"
     ]
    },
    {
     "name": "stderr",
     "output_type": "stream",
     "text": [
      "C:\\Users\\lando\\AppData\\Local\\Temp\\ipykernel_34800\\3465631864.py:63: FutureWarning: The frame.append method is deprecated and will be removed from pandas in a future version. Use pandas.concat instead.\n",
      "  df = df.append(datarow, ignore_index=True)\n"
     ]
    },
    {
     "name": "stdout",
     "output_type": "stream",
     "text": [
      "https://www.blocko.org/officehours1739 N. High St.Columbus, OH 43210\n",
      "TEST\n"
     ]
    },
    {
     "name": "stderr",
     "output_type": "stream",
     "text": [
      "C:\\Users\\lando\\AppData\\Local\\Temp\\ipykernel_34800\\3465631864.py:63: FutureWarning: The frame.append method is deprecated and will be removed from pandas in a future version. Use pandas.concat instead.\n",
      "  df = df.append(datarow, ignore_index=True)\n"
     ]
    },
    {
     "name": "stdout",
     "output_type": "stream",
     "text": [
      "Every Tuesday at 8:00pm (Dreese 264)Columbus, OH 43210\n",
      "Tuesday 8:00 pm\n",
      "test\n",
      "TEST\n"
     ]
    },
    {
     "name": "stderr",
     "output_type": "stream",
     "text": [
      "C:\\Users\\lando\\AppData\\Local\\Temp\\ipykernel_34800\\3465631864.py:63: FutureWarning: The frame.append method is deprecated and will be removed from pandas in a future version. Use pandas.concat instead.\n",
      "  df = df.append(datarow, ignore_index=True)\n"
     ]
    },
    {
     "name": "stdout",
     "output_type": "stream",
     "text": [
      "Columbus, OH 43210\n",
      "TEST\n"
     ]
    },
    {
     "name": "stderr",
     "output_type": "stream",
     "text": [
      "C:\\Users\\lando\\AppData\\Local\\Temp\\ipykernel_34800\\3465631864.py:63: FutureWarning: The frame.append method is deprecated and will be removed from pandas in a future version. Use pandas.concat instead.\n",
      "  df = df.append(datarow, ignore_index=True)\n"
     ]
    },
    {
     "name": "stdout",
     "output_type": "stream",
     "text": [
      "Mon/Wed 6 - 8 p.m. (based on your availability)Columbus, OH 43210\n",
      "TEST\n"
     ]
    },
    {
     "name": "stderr",
     "output_type": "stream",
     "text": [
      "C:\\Users\\lando\\AppData\\Local\\Temp\\ipykernel_34800\\3465631864.py:63: FutureWarning: The frame.append method is deprecated and will be removed from pandas in a future version. Use pandas.concat instead.\n",
      "  df = df.append(datarow, ignore_index=True)\n"
     ]
    },
    {
     "name": "stdout",
     "output_type": "stream",
     "text": [
      "Every other Wednesday at 7:05Columbus, OH 43210\n",
      "Wednesday 7:05 None\n",
      "test\n",
      "TEST\n"
     ]
    },
    {
     "name": "stderr",
     "output_type": "stream",
     "text": [
      "C:\\Users\\lando\\AppData\\Local\\Temp\\ipykernel_34800\\3465631864.py:63: FutureWarning: The frame.append method is deprecated and will be removed from pandas in a future version. Use pandas.concat instead.\n",
      "  df = df.append(datarow, ignore_index=True)\n"
     ]
    },
    {
     "name": "stdout",
     "output_type": "stream",
     "text": [
      "First Friday of every Month333 W 10th AveColumbus, OH 43210\n",
      "W 10 None\n",
      "test\n",
      "TEST\n"
     ]
    },
    {
     "name": "stderr",
     "output_type": "stream",
     "text": [
      "C:\\Users\\lando\\AppData\\Local\\Temp\\ipykernel_34800\\3465631864.py:63: FutureWarning: The frame.append method is deprecated and will be removed from pandas in a future version. Use pandas.concat instead.\n",
      "  df = df.append(datarow, ignore_index=True)\n"
     ]
    },
    {
     "name": "stdout",
     "output_type": "stream",
     "text": [
      "Thurs. 6:00-10:30 pm2041 College Rd Columbus, OH 43210Columbus, OH 43210\n",
      "Thurs 6:00 None\n",
      "test\n",
      "TEST\n"
     ]
    },
    {
     "name": "stderr",
     "output_type": "stream",
     "text": [
      "C:\\Users\\lando\\AppData\\Local\\Temp\\ipykernel_34800\\3465631864.py:63: FutureWarning: The frame.append method is deprecated and will be removed from pandas in a future version. Use pandas.concat instead.\n",
      "  df = df.append(datarow, ignore_index=True)\n"
     ]
    },
    {
     "name": "stdout",
     "output_type": "stream",
     "text": [
      "Every other Tuesday 6:30pm-7:30pmColumbus, OH 43210\n",
      "Tuesday 6:30 pm\n",
      "test\n",
      "TEST\n"
     ]
    },
    {
     "name": "stderr",
     "output_type": "stream",
     "text": [
      "C:\\Users\\lando\\AppData\\Local\\Temp\\ipykernel_34800\\3465631864.py:63: FutureWarning: The frame.append method is deprecated and will be removed from pandas in a future version. Use pandas.concat instead.\n",
      "  df = df.append(datarow, ignore_index=True)\n"
     ]
    },
    {
     "name": "stdout",
     "output_type": "stream",
     "text": [
      "Columbus, OH 43210\n",
      "TEST\n"
     ]
    },
    {
     "name": "stderr",
     "output_type": "stream",
     "text": [
      "C:\\Users\\lando\\AppData\\Local\\Temp\\ipykernel_34800\\3465631864.py:63: FutureWarning: The frame.append method is deprecated and will be removed from pandas in a future version. Use pandas.concat instead.\n",
      "  df = df.append(datarow, ignore_index=True)\n"
     ]
    },
    {
     "name": "stdout",
     "output_type": "stream",
     "text": [
      "Tuesday at 8:30pm1787 Neil AveColumbus OH 43210Columbus, OH 43210\n",
      "Tuesday 8:30 pm\n",
      "test\n",
      "TEST\n"
     ]
    },
    {
     "name": "stderr",
     "output_type": "stream",
     "text": [
      "C:\\Users\\lando\\AppData\\Local\\Temp\\ipykernel_34800\\3465631864.py:63: FutureWarning: The frame.append method is deprecated and will be removed from pandas in a future version. Use pandas.concat instead.\n",
      "  df = df.append(datarow, ignore_index=True)\n"
     ]
    },
    {
     "name": "stdout",
     "output_type": "stream",
     "text": [
      "Twice a month--Columbus, OH 43210\n",
      "TEST\n"
     ]
    },
    {
     "name": "stderr",
     "output_type": "stream",
     "text": [
      "C:\\Users\\lando\\AppData\\Local\\Temp\\ipykernel_34800\\3465631864.py:63: FutureWarning: The frame.append method is deprecated and will be removed from pandas in a future version. Use pandas.concat instead.\n",
      "  df = df.append(datarow, ignore_index=True)\n"
     ]
    },
    {
     "name": "stdout",
     "output_type": "stream",
     "text": [
      "Columbus, OH 43210\n",
      "TEST\n"
     ]
    },
    {
     "name": "stderr",
     "output_type": "stream",
     "text": [
      "C:\\Users\\lando\\AppData\\Local\\Temp\\ipykernel_34800\\3465631864.py:63: FutureWarning: The frame.append method is deprecated and will be removed from pandas in a future version. Use pandas.concat instead.\n",
      "  df = df.append(datarow, ignore_index=True)\n"
     ]
    },
    {
     "name": "stdout",
     "output_type": "stream",
     "text": [
      "Mondays at 7pmColumbus, OH 43210\n",
      "Mondays 7 pm\n",
      "test\n",
      "TEST\n"
     ]
    },
    {
     "name": "stderr",
     "output_type": "stream",
     "text": [
      "C:\\Users\\lando\\AppData\\Local\\Temp\\ipykernel_34800\\3465631864.py:63: FutureWarning: The frame.append method is deprecated and will be removed from pandas in a future version. Use pandas.concat instead.\n",
      "  df = df.append(datarow, ignore_index=True)\n"
     ]
    },
    {
     "name": "stdout",
     "output_type": "stream",
     "text": [
      "Thurs 8-9pm1698 Neil AveColumbus, OH 43210Columbus, OH 43210\n",
      "Thurs 8 None\n",
      "test\n",
      "TEST\n"
     ]
    },
    {
     "name": "stderr",
     "output_type": "stream",
     "text": [
      "C:\\Users\\lando\\AppData\\Local\\Temp\\ipykernel_34800\\3465631864.py:63: FutureWarning: The frame.append method is deprecated and will be removed from pandas in a future version. Use pandas.concat instead.\n",
      "  df = df.append(datarow, ignore_index=True)\n"
     ]
    },
    {
     "name": "stdout",
     "output_type": "stream",
     "text": [
      "Thursday, 7pColumbus, OH 43210\n",
      "Thursday 7 None\n",
      "test\n",
      "TEST\n"
     ]
    },
    {
     "name": "stderr",
     "output_type": "stream",
     "text": [
      "C:\\Users\\lando\\AppData\\Local\\Temp\\ipykernel_34800\\3465631864.py:63: FutureWarning: The frame.append method is deprecated and will be removed from pandas in a future version. Use pandas.concat instead.\n",
      "  df = df.append(datarow, ignore_index=True)\n"
     ]
    },
    {
     "name": "stdout",
     "output_type": "stream",
     "text": [
      "Last Friday of every month at 3:00 PM1739 N High St, Columbus, OH 43210Columbus, OH 43210\n",
      "TEST\n"
     ]
    },
    {
     "name": "stderr",
     "output_type": "stream",
     "text": [
      "C:\\Users\\lando\\AppData\\Local\\Temp\\ipykernel_34800\\3465631864.py:63: FutureWarning: The frame.append method is deprecated and will be removed from pandas in a future version. Use pandas.concat instead.\n",
      "  df = df.append(datarow, ignore_index=True)\n"
     ]
    },
    {
     "name": "stdout",
     "output_type": "stream",
     "text": [
      "Tuesdays 8:30pm in RPAC demo kitchenColumbus, OH 43210\n",
      "Tuesdays 8:30 pm\n",
      "test\n",
      "TEST\n"
     ]
    },
    {
     "name": "stderr",
     "output_type": "stream",
     "text": [
      "C:\\Users\\lando\\AppData\\Local\\Temp\\ipykernel_34800\\3465631864.py:63: FutureWarning: The frame.append method is deprecated and will be removed from pandas in a future version. Use pandas.concat instead.\n",
      "  df = df.append(datarow, ignore_index=True)\n"
     ]
    },
    {
     "name": "stdout",
     "output_type": "stream",
     "text": [
      "2-3 times a month + extra events, dates/times TBDOhio UnionColumbus, OH 43210\n",
      "TEST\n"
     ]
    },
    {
     "name": "stderr",
     "output_type": "stream",
     "text": [
      "C:\\Users\\lando\\AppData\\Local\\Temp\\ipykernel_34800\\3465631864.py:63: FutureWarning: The frame.append method is deprecated and will be removed from pandas in a future version. Use pandas.concat instead.\n",
      "  df = df.append(datarow, ignore_index=True)\n"
     ]
    },
    {
     "name": "stdout",
     "output_type": "stream",
     "text": [
      "Thursdays at 3:30pm337 W.17th Ave.Columbus,OH 43210Columbus, OH 43210\n",
      "Thursdays 3:30 pm\n",
      "test\n",
      "TEST\n"
     ]
    },
    {
     "name": "stderr",
     "output_type": "stream",
     "text": [
      "C:\\Users\\lando\\AppData\\Local\\Temp\\ipykernel_34800\\3465631864.py:63: FutureWarning: The frame.append method is deprecated and will be removed from pandas in a future version. Use pandas.concat instead.\n",
      "  df = df.append(datarow, ignore_index=True)\n"
     ]
    },
    {
     "name": "stdout",
     "output_type": "stream",
     "text": [
      "Wednesdays at 7:30pm1739 N High St Columbus, OH  43210 United StatesColumbus, OH 43210\n",
      "Wednesdays 7:30 pm\n",
      "test\n",
      "TEST\n"
     ]
    },
    {
     "name": "stderr",
     "output_type": "stream",
     "text": [
      "C:\\Users\\lando\\AppData\\Local\\Temp\\ipykernel_34800\\3465631864.py:63: FutureWarning: The frame.append method is deprecated and will be removed from pandas in a future version. Use pandas.concat instead.\n",
      "  df = df.append(datarow, ignore_index=True)\n"
     ]
    },
    {
     "name": "stdout",
     "output_type": "stream",
     "text": [
      "Wednesday1739 North High Street Columbus, Ohio 43210Columbus, OH 43210\n",
      "Wednesday 1739 None\n",
      "test\n",
      "TEST\n"
     ]
    },
    {
     "name": "stderr",
     "output_type": "stream",
     "text": [
      "C:\\Users\\lando\\AppData\\Local\\Temp\\ipykernel_34800\\3465631864.py:63: FutureWarning: The frame.append method is deprecated and will be removed from pandas in a future version. Use pandas.concat instead.\n",
      "  df = df.append(datarow, ignore_index=True)\n"
     ]
    },
    {
     "name": "stdout",
     "output_type": "stream",
     "text": [
      "Every other Monday at 7:30pm Columbus, OH 43210\n",
      "Monday 7:30 pm\n",
      "test\n",
      "TEST\n"
     ]
    },
    {
     "name": "stderr",
     "output_type": "stream",
     "text": [
      "C:\\Users\\lando\\AppData\\Local\\Temp\\ipykernel_34800\\3465631864.py:63: FutureWarning: The frame.append method is deprecated and will be removed from pandas in a future version. Use pandas.concat instead.\n",
      "  df = df.append(datarow, ignore_index=True)\n"
     ]
    },
    {
     "name": "stdout",
     "output_type": "stream",
     "text": [
      "Columbus, OH 43210\n",
      "TEST\n"
     ]
    },
    {
     "name": "stderr",
     "output_type": "stream",
     "text": [
      "C:\\Users\\lando\\AppData\\Local\\Temp\\ipykernel_34800\\3465631864.py:63: FutureWarning: The frame.append method is deprecated and will be removed from pandas in a future version. Use pandas.concat instead.\n",
      "  df = df.append(datarow, ignore_index=True)\n"
     ]
    },
    {
     "name": "stdout",
     "output_type": "stream",
     "text": [
      "Sundays 6-8 & Wednesdays 7-91900 College Rd NorthColumbus, OH 43210\n",
      "Sundays 6 None\n",
      "test\n",
      "TEST\n"
     ]
    },
    {
     "name": "stderr",
     "output_type": "stream",
     "text": [
      "C:\\Users\\lando\\AppData\\Local\\Temp\\ipykernel_34800\\3465631864.py:63: FutureWarning: The frame.append method is deprecated and will be removed from pandas in a future version. Use pandas.concat instead.\n",
      "  df = df.append(datarow, ignore_index=True)\n"
     ]
    },
    {
     "name": "stdout",
     "output_type": "stream",
     "text": [
      "Game days during football and basketball season.Columbus, OH 43210\n",
      "TEST\n",
      "Every other Sunday 2:00pm to 3:00pmColumbus, OH 43210\n",
      "Sunday 2:00 pm\n",
      "test\n",
      "TEST\n"
     ]
    },
    {
     "name": "stderr",
     "output_type": "stream",
     "text": [
      "C:\\Users\\lando\\AppData\\Local\\Temp\\ipykernel_34800\\3465631864.py:63: FutureWarning: The frame.append method is deprecated and will be removed from pandas in a future version. Use pandas.concat instead.\n",
      "  df = df.append(datarow, ignore_index=True)\n",
      "C:\\Users\\lando\\AppData\\Local\\Temp\\ipykernel_34800\\3465631864.py:63: FutureWarning: The frame.append method is deprecated and will be removed from pandas in a future version. Use pandas.concat instead.\n",
      "  df = df.append(datarow, ignore_index=True)\n"
     ]
    },
    {
     "name": "stdout",
     "output_type": "stream",
     "text": [
      "Columbus, OH 43210\n",
      "TEST\n"
     ]
    },
    {
     "name": "stderr",
     "output_type": "stream",
     "text": [
      "C:\\Users\\lando\\AppData\\Local\\Temp\\ipykernel_34800\\3465631864.py:63: FutureWarning: The frame.append method is deprecated and will be removed from pandas in a future version. Use pandas.concat instead.\n",
      "  df = df.append(datarow, ignore_index=True)\n"
     ]
    },
    {
     "name": "stdout",
     "output_type": "stream",
     "text": [
      "Wednesday @ 8pm1585 Neil AvenueColumbus, OH 43210\n",
      "Wednesday 8 pm\n",
      "test\n",
      "TEST\n"
     ]
    },
    {
     "name": "stderr",
     "output_type": "stream",
     "text": [
      "C:\\Users\\lando\\AppData\\Local\\Temp\\ipykernel_34800\\3465631864.py:63: FutureWarning: The frame.append method is deprecated and will be removed from pandas in a future version. Use pandas.concat instead.\n",
      "  df = df.append(datarow, ignore_index=True)\n"
     ]
    },
    {
     "name": "stdout",
     "output_type": "stream",
     "text": [
      "TBDColumbus, OH 43210\n",
      "TEST\n"
     ]
    },
    {
     "name": "stderr",
     "output_type": "stream",
     "text": [
      "C:\\Users\\lando\\AppData\\Local\\Temp\\ipykernel_34800\\3465631864.py:63: FutureWarning: The frame.append method is deprecated and will be removed from pandas in a future version. Use pandas.concat instead.\n",
      "  df = df.append(datarow, ignore_index=True)\n"
     ]
    },
    {
     "name": "stdout",
     "output_type": "stream",
     "text": [
      "Columbus, OH 43210\n",
      "TEST\n"
     ]
    },
    {
     "name": "stderr",
     "output_type": "stream",
     "text": [
      "C:\\Users\\lando\\AppData\\Local\\Temp\\ipykernel_34800\\3465631864.py:63: FutureWarning: The frame.append method is deprecated and will be removed from pandas in a future version. Use pandas.concat instead.\n",
      "  df = df.append(datarow, ignore_index=True)\n"
     ]
    },
    {
     "name": "stdout",
     "output_type": "stream",
     "text": [
      "Saturday 530pm to 730pm23 West 9th AveApt 1Columbus, OH 43210\n",
      "Saturday 530 pm\n",
      "test\n",
      "TEST\n"
     ]
    },
    {
     "name": "stderr",
     "output_type": "stream",
     "text": [
      "C:\\Users\\lando\\AppData\\Local\\Temp\\ipykernel_34800\\3465631864.py:63: FutureWarning: The frame.append method is deprecated and will be removed from pandas in a future version. Use pandas.concat instead.\n",
      "  df = df.append(datarow, ignore_index=True)\n"
     ]
    },
    {
     "name": "stdout",
     "output_type": "stream",
     "text": [
      "Columbus, OH 43210\n",
      "TEST\n"
     ]
    },
    {
     "name": "stderr",
     "output_type": "stream",
     "text": [
      "C:\\Users\\lando\\AppData\\Local\\Temp\\ipykernel_34800\\3465631864.py:63: FutureWarning: The frame.append method is deprecated and will be removed from pandas in a future version. Use pandas.concat instead.\n",
      "  df = df.append(datarow, ignore_index=True)\n"
     ]
    },
    {
     "name": "stdout",
     "output_type": "stream",
     "text": [
      "Weekly Meetings at 7:00pm on SundaysColumbus, OH 43210\n",
      "TEST\n"
     ]
    },
    {
     "name": "stderr",
     "output_type": "stream",
     "text": [
      "C:\\Users\\lando\\AppData\\Local\\Temp\\ipykernel_34800\\3465631864.py:63: FutureWarning: The frame.append method is deprecated and will be removed from pandas in a future version. Use pandas.concat instead.\n",
      "  df = df.append(datarow, ignore_index=True)\n"
     ]
    },
    {
     "name": "stdout",
     "output_type": "stream",
     "text": [
      "TBDTBDColumbus, OH 43210\n",
      "TEST\n"
     ]
    },
    {
     "name": "stderr",
     "output_type": "stream",
     "text": [
      "C:\\Users\\lando\\AppData\\Local\\Temp\\ipykernel_34800\\3465631864.py:63: FutureWarning: The frame.append method is deprecated and will be removed from pandas in a future version. Use pandas.concat instead.\n",
      "  df = df.append(datarow, ignore_index=True)\n"
     ]
    },
    {
     "name": "stdout",
     "output_type": "stream",
     "text": [
      "Columbus, OH 43210\n",
      "TEST\n"
     ]
    },
    {
     "name": "stderr",
     "output_type": "stream",
     "text": [
      "C:\\Users\\lando\\AppData\\Local\\Temp\\ipykernel_34800\\3465631864.py:63: FutureWarning: The frame.append method is deprecated and will be removed from pandas in a future version. Use pandas.concat instead.\n",
      "  df = df.append(datarow, ignore_index=True)\n"
     ]
    },
    {
     "name": "stdout",
     "output_type": "stream",
     "text": [
      "TBD, as neededColumbus, OH 43210\n",
      "TEST\n"
     ]
    },
    {
     "name": "stderr",
     "output_type": "stream",
     "text": [
      "C:\\Users\\lando\\AppData\\Local\\Temp\\ipykernel_34800\\3465631864.py:63: FutureWarning: The frame.append method is deprecated and will be removed from pandas in a future version. Use pandas.concat instead.\n",
      "  df = df.append(datarow, ignore_index=True)\n"
     ]
    },
    {
     "name": "stdout",
     "output_type": "stream",
     "text": [
      "August 30th @ 6 pm (every other week)Columbus, OH 43210\n",
      "TEST\n"
     ]
    },
    {
     "name": "stderr",
     "output_type": "stream",
     "text": [
      "C:\\Users\\lando\\AppData\\Local\\Temp\\ipykernel_34800\\3465631864.py:63: FutureWarning: The frame.append method is deprecated and will be removed from pandas in a future version. Use pandas.concat instead.\n",
      "  df = df.append(datarow, ignore_index=True)\n"
     ]
    },
    {
     "name": "stdout",
     "output_type": "stream",
     "text": [
      "TBDColumbus, OH 43210\n",
      "TEST\n"
     ]
    },
    {
     "name": "stderr",
     "output_type": "stream",
     "text": [
      "C:\\Users\\lando\\AppData\\Local\\Temp\\ipykernel_34800\\3465631864.py:63: FutureWarning: The frame.append method is deprecated and will be removed from pandas in a future version. Use pandas.concat instead.\n",
      "  df = df.append(datarow, ignore_index=True)\n"
     ]
    },
    {
     "name": "stdout",
     "output_type": "stream",
     "text": [
      "1st Saturday of the Month (Currently by Zoom)Columbus, OH 43210\n",
      "TEST\n"
     ]
    },
    {
     "name": "stderr",
     "output_type": "stream",
     "text": [
      "C:\\Users\\lando\\AppData\\Local\\Temp\\ipykernel_34800\\3465631864.py:63: FutureWarning: The frame.append method is deprecated and will be removed from pandas in a future version. Use pandas.concat instead.\n",
      "  df = df.append(datarow, ignore_index=True)\n"
     ]
    },
    {
     "name": "stdout",
     "output_type": "stream",
     "text": [
      "Sundays 10:00 pm390 Woody Hayes DrColumbus, OH 43210\n",
      "Sundays 10:00 pm\n",
      "test\n",
      "TEST\n"
     ]
    },
    {
     "name": "stderr",
     "output_type": "stream",
     "text": [
      "C:\\Users\\lando\\AppData\\Local\\Temp\\ipykernel_34800\\3465631864.py:63: FutureWarning: The frame.append method is deprecated and will be removed from pandas in a future version. Use pandas.concat instead.\n",
      "  df = df.append(datarow, ignore_index=True)\n"
     ]
    },
    {
     "name": "stdout",
     "output_type": "stream",
     "text": [
      "TBD!Columbus, OH 43210\n",
      "TEST\n",
      "Mondays 6:30–7:15 p.m.Columbus, OH 43210\n",
      "Mondays 6:30 None\n",
      "test\n",
      "TEST\n"
     ]
    },
    {
     "name": "stderr",
     "output_type": "stream",
     "text": [
      "C:\\Users\\lando\\AppData\\Local\\Temp\\ipykernel_34800\\3465631864.py:63: FutureWarning: The frame.append method is deprecated and will be removed from pandas in a future version. Use pandas.concat instead.\n",
      "  df = df.append(datarow, ignore_index=True)\n",
      "C:\\Users\\lando\\AppData\\Local\\Temp\\ipykernel_34800\\3465631864.py:63: FutureWarning: The frame.append method is deprecated and will be removed from pandas in a future version. Use pandas.concat instead.\n",
      "  df = df.append(datarow, ignore_index=True)\n"
     ]
    },
    {
     "name": "stdout",
     "output_type": "stream",
     "text": [
      "Columbus, OH 43210\n",
      "TEST\n"
     ]
    },
    {
     "name": "stderr",
     "output_type": "stream",
     "text": [
      "C:\\Users\\lando\\AppData\\Local\\Temp\\ipykernel_34800\\3465631864.py:63: FutureWarning: The frame.append method is deprecated and will be removed from pandas in a future version. Use pandas.concat instead.\n",
      "  df = df.append(datarow, ignore_index=True)\n"
     ]
    },
    {
     "name": "stdout",
     "output_type": "stream",
     "text": [
      "Tuesday, 8:00 pm64 W Lane Ave.http://www.buckeyecatholic.comColumbus, OH 43210\n",
      "Tuesday 8:00 pm\n",
      "test\n",
      "TEST\n"
     ]
    },
    {
     "name": "stderr",
     "output_type": "stream",
     "text": [
      "C:\\Users\\lando\\AppData\\Local\\Temp\\ipykernel_34800\\3465631864.py:63: FutureWarning: The frame.append method is deprecated and will be removed from pandas in a future version. Use pandas.concat instead.\n",
      "  df = df.append(datarow, ignore_index=True)\n"
     ]
    },
    {
     "name": "stdout",
     "output_type": "stream",
     "text": [
      "Thursday, 5pm1899 College Rd.Columbus, OH, 43210Columbus, OH 43210\n",
      "Thursday 5 pm\n",
      "test\n",
      "TEST\n"
     ]
    },
    {
     "name": "stderr",
     "output_type": "stream",
     "text": [
      "C:\\Users\\lando\\AppData\\Local\\Temp\\ipykernel_34800\\3465631864.py:63: FutureWarning: The frame.append method is deprecated and will be removed from pandas in a future version. Use pandas.concat instead.\n",
      "  df = df.append(datarow, ignore_index=True)\n"
     ]
    },
    {
     "name": "stdout",
     "output_type": "stream",
     "text": [
      "Variable, contact team for current time930 Kinnear RdColumbus, OH 43210\n",
      "TEST\n"
     ]
    },
    {
     "name": "stderr",
     "output_type": "stream",
     "text": [
      "C:\\Users\\lando\\AppData\\Local\\Temp\\ipykernel_34800\\3465631864.py:63: FutureWarning: The frame.append method is deprecated and will be removed from pandas in a future version. Use pandas.concat instead.\n",
      "  df = df.append(datarow, ignore_index=True)\n"
     ]
    },
    {
     "name": "stdout",
     "output_type": "stream",
     "text": [
      "7:00- Every other Thursday2029 Fyffe CourtColumbus, OH 43210\n",
      "Thursday 2029 None\n",
      "test\n",
      "TEST\n",
      "Wed 6-8 PM129 W 12th Ave, Columbus OH, 43210Columbus, OH 43210\n",
      "Wed 6 None\n",
      "test\n",
      "TEST\n"
     ]
    },
    {
     "name": "stderr",
     "output_type": "stream",
     "text": [
      "C:\\Users\\lando\\AppData\\Local\\Temp\\ipykernel_34800\\3465631864.py:63: FutureWarning: The frame.append method is deprecated and will be removed from pandas in a future version. Use pandas.concat instead.\n",
      "  df = df.append(datarow, ignore_index=True)\n",
      "C:\\Users\\lando\\AppData\\Local\\Temp\\ipykernel_34800\\3465631864.py:63: FutureWarning: The frame.append method is deprecated and will be removed from pandas in a future version. Use pandas.concat instead.\n",
      "  df = df.append(datarow, ignore_index=True)\n"
     ]
    },
    {
     "name": "stdout",
     "output_type": "stream",
     "text": [
      "Columbus, OH 43210\n",
      "TEST\n"
     ]
    },
    {
     "name": "stderr",
     "output_type": "stream",
     "text": [
      "C:\\Users\\lando\\AppData\\Local\\Temp\\ipykernel_34800\\3465631864.py:63: FutureWarning: The frame.append method is deprecated and will be removed from pandas in a future version. Use pandas.concat instead.\n",
      "  df = df.append(datarow, ignore_index=True)\n"
     ]
    },
    {
     "name": "stdout",
     "output_type": "stream",
     "text": [
      "Monday 6:30pmColumbus, OH 43210\n",
      "Monday 6:30 pm\n",
      "test\n",
      "TEST\n"
     ]
    },
    {
     "name": "stderr",
     "output_type": "stream",
     "text": [
      "C:\\Users\\lando\\AppData\\Local\\Temp\\ipykernel_34800\\3465631864.py:63: FutureWarning: The frame.append method is deprecated and will be removed from pandas in a future version. Use pandas.concat instead.\n",
      "  df = df.append(datarow, ignore_index=True)\n"
     ]
    },
    {
     "name": "stdout",
     "output_type": "stream",
     "text": [
      "Sunday, 8:00 PM1800 Cannon DriveSuite 150Columbus, OH 43210\n",
      "Sunday 8:00 PM\n",
      "test\n",
      "TEST\n"
     ]
    },
    {
     "name": "stderr",
     "output_type": "stream",
     "text": [
      "C:\\Users\\lando\\AppData\\Local\\Temp\\ipykernel_34800\\3465631864.py:63: FutureWarning: The frame.append method is deprecated and will be removed from pandas in a future version. Use pandas.concat instead.\n",
      "  df = df.append(datarow, ignore_index=True)\n"
     ]
    },
    {
     "name": "stdout",
     "output_type": "stream",
     "text": [
      "Sunday, Monday, Wednesday 8-10 PMRPAC Multipurpose roomColumbus, OH 43210\n",
      "Wednesday 8 None\n",
      "test\n",
      "TEST\n"
     ]
    },
    {
     "name": "stderr",
     "output_type": "stream",
     "text": [
      "C:\\Users\\lando\\AppData\\Local\\Temp\\ipykernel_34800\\3465631864.py:63: FutureWarning: The frame.append method is deprecated and will be removed from pandas in a future version. Use pandas.concat instead.\n",
      "  df = df.append(datarow, ignore_index=True)\n"
     ]
    },
    {
     "name": "stdout",
     "output_type": "stream",
     "text": [
      "One Monday per month. Contact for more informationColumbus, OH 43210\n",
      "TEST\n"
     ]
    },
    {
     "name": "stderr",
     "output_type": "stream",
     "text": [
      "C:\\Users\\lando\\AppData\\Local\\Temp\\ipykernel_34800\\3465631864.py:63: FutureWarning: The frame.append method is deprecated and will be removed from pandas in a future version. Use pandas.concat instead.\n",
      "  df = df.append(datarow, ignore_index=True)\n"
     ]
    },
    {
     "name": "stdout",
     "output_type": "stream",
     "text": [
      "Columbus, OH 43210\n",
      "TEST\n"
     ]
    },
    {
     "name": "stderr",
     "output_type": "stream",
     "text": [
      "C:\\Users\\lando\\AppData\\Local\\Temp\\ipykernel_34800\\3465631864.py:63: FutureWarning: The frame.append method is deprecated and will be removed from pandas in a future version. Use pandas.concat instead.\n",
      "  df = df.append(datarow, ignore_index=True)\n"
     ]
    },
    {
     "name": "stdout",
     "output_type": "stream",
     "text": [
      "TBDColumbus, OH 43210\n",
      "TEST\n"
     ]
    },
    {
     "name": "stderr",
     "output_type": "stream",
     "text": [
      "C:\\Users\\lando\\AppData\\Local\\Temp\\ipykernel_34800\\3465631864.py:63: FutureWarning: The frame.append method is deprecated and will be removed from pandas in a future version. Use pandas.concat instead.\n",
      "  df = df.append(datarow, ignore_index=True)\n"
     ]
    },
    {
     "name": "stdout",
     "output_type": "stream",
     "text": [
      "Sunday 2-4pmNANAColumbus, OH 43210\n",
      "Sunday 2 None\n",
      "test\n",
      "TEST\n"
     ]
    },
    {
     "name": "stderr",
     "output_type": "stream",
     "text": [
      "C:\\Users\\lando\\AppData\\Local\\Temp\\ipykernel_34800\\3465631864.py:63: FutureWarning: The frame.append method is deprecated and will be removed from pandas in a future version. Use pandas.concat instead.\n",
      "  df = df.append(datarow, ignore_index=True)\n"
     ]
    },
    {
     "name": "stdout",
     "output_type": "stream",
     "text": [
      "Columbus, OH 43210\n",
      "TEST\n"
     ]
    },
    {
     "name": "stderr",
     "output_type": "stream",
     "text": [
      "C:\\Users\\lando\\AppData\\Local\\Temp\\ipykernel_34800\\3465631864.py:63: FutureWarning: The frame.append method is deprecated and will be removed from pandas in a future version. Use pandas.concat instead.\n",
      "  df = df.append(datarow, ignore_index=True)\n"
     ]
    },
    {
     "name": "stdout",
     "output_type": "stream",
     "text": [
      "Last Friday 5:00 p.m.337 Annie and John Glenn AveColumbus, OH 43210\n",
      "Friday 5:00 None\n",
      "test\n",
      "TEST\n",
      "Tuesday 7-8 pmColumbus, OH 43210\n",
      "Tuesday 7 None\n",
      "test\n",
      "TEST\n"
     ]
    },
    {
     "name": "stderr",
     "output_type": "stream",
     "text": [
      "C:\\Users\\lando\\AppData\\Local\\Temp\\ipykernel_34800\\3465631864.py:63: FutureWarning: The frame.append method is deprecated and will be removed from pandas in a future version. Use pandas.concat instead.\n",
      "  df = df.append(datarow, ignore_index=True)\n",
      "C:\\Users\\lando\\AppData\\Local\\Temp\\ipykernel_34800\\3465631864.py:63: FutureWarning: The frame.append method is deprecated and will be removed from pandas in a future version. Use pandas.concat instead.\n",
      "  df = df.append(datarow, ignore_index=True)\n"
     ]
    },
    {
     "name": "stdout",
     "output_type": "stream",
     "text": [
      "Wednesdays (bi-weekly) 7:30 PM210 W Woodruff Ave Columbus, OH 43210Columbus, OH 43210\n",
      "TEST\n"
     ]
    },
    {
     "name": "stderr",
     "output_type": "stream",
     "text": [
      "C:\\Users\\lando\\AppData\\Local\\Temp\\ipykernel_34800\\3465631864.py:63: FutureWarning: The frame.append method is deprecated and will be removed from pandas in a future version. Use pandas.concat instead.\n",
      "  df = df.append(datarow, ignore_index=True)\n"
     ]
    },
    {
     "name": "stdout",
     "output_type": "stream",
     "text": [
      "Variable1920 Coffey Road, Columbus, OH, 43210Columbus, OH 43210\n",
      "TEST\n"
     ]
    },
    {
     "name": "stderr",
     "output_type": "stream",
     "text": [
      "C:\\Users\\lando\\AppData\\Local\\Temp\\ipykernel_34800\\3465631864.py:63: FutureWarning: The frame.append method is deprecated and will be removed from pandas in a future version. Use pandas.concat instead.\n",
      "  df = df.append(datarow, ignore_index=True)\n"
     ]
    },
    {
     "name": "stdout",
     "output_type": "stream",
     "text": [
      "Monday, 7:30 P.M. - 9:30 P.M.1866 College Rd N, Columbus, OH 43210Columbus, OH 43210\n",
      "Monday 7:30 None\n",
      "test\n",
      "TEST\n"
     ]
    },
    {
     "name": "stderr",
     "output_type": "stream",
     "text": [
      "C:\\Users\\lando\\AppData\\Local\\Temp\\ipykernel_34800\\3465631864.py:63: FutureWarning: The frame.append method is deprecated and will be removed from pandas in a future version. Use pandas.concat instead.\n",
      "  df = df.append(datarow, ignore_index=True)\n"
     ]
    },
    {
     "name": "stdout",
     "output_type": "stream",
     "text": [
      "Mondays 6:30-8:00pmColumbus, OH 43210\n",
      "Mondays 6:30 None\n",
      "test\n",
      "TEST\n"
     ]
    },
    {
     "name": "stderr",
     "output_type": "stream",
     "text": [
      "C:\\Users\\lando\\AppData\\Local\\Temp\\ipykernel_34800\\3465631864.py:63: FutureWarning: The frame.append method is deprecated and will be removed from pandas in a future version. Use pandas.concat instead.\n",
      "  df = df.append(datarow, ignore_index=True)\n"
     ]
    },
    {
     "name": "stdout",
     "output_type": "stream",
     "text": [
      "Wednesdays 7PM-10PM1739 N. High StreetColumbus, OH 43210\n",
      "Wednesdays 7 PM\n",
      "test\n",
      "TEST\n"
     ]
    },
    {
     "name": "stderr",
     "output_type": "stream",
     "text": [
      "C:\\Users\\lando\\AppData\\Local\\Temp\\ipykernel_34800\\3465631864.py:63: FutureWarning: The frame.append method is deprecated and will be removed from pandas in a future version. Use pandas.concat instead.\n",
      "  df = df.append(datarow, ignore_index=True)\n"
     ]
    },
    {
     "name": "stdout",
     "output_type": "stream",
     "text": [
      "Wednesdays at 6pm1791 Neil AveColumbus, OH 43210\n",
      "Wednesdays 6 pm\n",
      "test\n",
      "TEST\n",
      "Thursdays 7:00 PMColumbus, OH 43210\n",
      "Thursdays 7:00 PM\n",
      "test\n",
      "TEST\n"
     ]
    },
    {
     "name": "stderr",
     "output_type": "stream",
     "text": [
      "C:\\Users\\lando\\AppData\\Local\\Temp\\ipykernel_34800\\3465631864.py:63: FutureWarning: The frame.append method is deprecated and will be removed from pandas in a future version. Use pandas.concat instead.\n",
      "  df = df.append(datarow, ignore_index=True)\n",
      "C:\\Users\\lando\\AppData\\Local\\Temp\\ipykernel_34800\\3465631864.py:63: FutureWarning: The frame.append method is deprecated and will be removed from pandas in a future version. Use pandas.concat instead.\n",
      "  df = df.append(datarow, ignore_index=True)\n"
     ]
    },
    {
     "name": "stdout",
     "output_type": "stream",
     "text": [
      "Tuesday 7:30-9:00Building 072 2009 Millikin RdColumbus, OH 43210Columbus, OH 43210\n",
      "Tuesday 7:30 None\n",
      "test\n",
      "TEST\n"
     ]
    },
    {
     "name": "stderr",
     "output_type": "stream",
     "text": [
      "C:\\Users\\lando\\AppData\\Local\\Temp\\ipykernel_34800\\3465631864.py:63: FutureWarning: The frame.append method is deprecated and will be removed from pandas in a future version. Use pandas.concat instead.\n",
      "  df = df.append(datarow, ignore_index=True)\n"
     ]
    },
    {
     "name": "stdout",
     "output_type": "stream",
     "text": [
      "Columbus, OH 43210\n",
      "TEST\n"
     ]
    },
    {
     "name": "stderr",
     "output_type": "stream",
     "text": [
      "C:\\Users\\lando\\AppData\\Local\\Temp\\ipykernel_34800\\3465631864.py:63: FutureWarning: The frame.append method is deprecated and will be removed from pandas in a future version. Use pandas.concat instead.\n",
      "  df = df.append(datarow, ignore_index=True)\n"
     ]
    },
    {
     "name": "stdout",
     "output_type": "stream",
     "text": [
      "Mondays at 7pm1827 Neil AveColumbus, OH 43210Columbus, OH 43210\n",
      "Mondays 7 pm\n",
      "test\n",
      "TEST\n"
     ]
    },
    {
     "name": "stderr",
     "output_type": "stream",
     "text": [
      "C:\\Users\\lando\\AppData\\Local\\Temp\\ipykernel_34800\\3465631864.py:63: FutureWarning: The frame.append method is deprecated and will be removed from pandas in a future version. Use pandas.concat instead.\n",
      "  df = df.append(datarow, ignore_index=True)\n"
     ]
    },
    {
     "name": "stdout",
     "output_type": "stream",
     "text": [
      "Columbus, OH 43210\n",
      "TEST\n"
     ]
    },
    {
     "name": "stderr",
     "output_type": "stream",
     "text": [
      "C:\\Users\\lando\\AppData\\Local\\Temp\\ipykernel_34800\\3465631864.py:63: FutureWarning: The frame.append method is deprecated and will be removed from pandas in a future version. Use pandas.concat instead.\n",
      "  df = df.append(datarow, ignore_index=True)\n"
     ]
    },
    {
     "name": "stdout",
     "output_type": "stream",
     "text": [
      "See www.BSLI.space for Project Team meeting times201 W 19th AveColumbus, OH 43210\n",
      "W 19 None\n",
      "test\n",
      "TEST\n"
     ]
    },
    {
     "name": "stderr",
     "output_type": "stream",
     "text": [
      "C:\\Users\\lando\\AppData\\Local\\Temp\\ipykernel_34800\\3465631864.py:63: FutureWarning: The frame.append method is deprecated and will be removed from pandas in a future version. Use pandas.concat instead.\n",
      "  df = df.append(datarow, ignore_index=True)\n"
     ]
    },
    {
     "name": "stdout",
     "output_type": "stream",
     "text": [
      "Biweekly Sundays from 6-7pm1640 Neil AveColumbus, OH 43210\n",
      "TEST\n"
     ]
    },
    {
     "name": "stderr",
     "output_type": "stream",
     "text": [
      "C:\\Users\\lando\\AppData\\Local\\Temp\\ipykernel_34800\\3465631864.py:63: FutureWarning: The frame.append method is deprecated and will be removed from pandas in a future version. Use pandas.concat instead.\n",
      "  df = df.append(datarow, ignore_index=True)\n"
     ]
    },
    {
     "name": "stdout",
     "output_type": "stream",
     "text": [
      "Tuesday and Thursday 6-8:00 pmColumbus, OH 43210\n",
      "Thursday 6 None\n",
      "test\n",
      "TEST\n"
     ]
    },
    {
     "name": "stderr",
     "output_type": "stream",
     "text": [
      "C:\\Users\\lando\\AppData\\Local\\Temp\\ipykernel_34800\\3465631864.py:63: FutureWarning: The frame.append method is deprecated and will be removed from pandas in a future version. Use pandas.concat instead.\n",
      "  df = df.append(datarow, ignore_index=True)\n"
     ]
    },
    {
     "name": "stdout",
     "output_type": "stream",
     "text": [
      "Thursdays, 7:30 - 9:00 p.m.2009 Millikin Rd Columbus, OH 43210Columbus, OH 43210\n",
      "Thursdays 7:30 None\n",
      "test\n",
      "TEST\n",
      "Every 3rd Wednesday at 8PM1585 Neil AvenueColumbus, OH 43210\n",
      "Wednesday 8 PM\n",
      "test\n",
      "TEST\n"
     ]
    },
    {
     "name": "stderr",
     "output_type": "stream",
     "text": [
      "C:\\Users\\lando\\AppData\\Local\\Temp\\ipykernel_34800\\3465631864.py:63: FutureWarning: The frame.append method is deprecated and will be removed from pandas in a future version. Use pandas.concat instead.\n",
      "  df = df.append(datarow, ignore_index=True)\n",
      "C:\\Users\\lando\\AppData\\Local\\Temp\\ipykernel_34800\\3465631864.py:63: FutureWarning: The frame.append method is deprecated and will be removed from pandas in a future version. Use pandas.concat instead.\n",
      "  df = df.append(datarow, ignore_index=True)\n"
     ]
    },
    {
     "name": "stdout",
     "output_type": "stream",
     "text": [
      "N/A337 Annie and John Glenn Ave, Columbus, OH 43210Columbus, OH 43210\n",
      "TEST\n"
     ]
    },
    {
     "name": "stderr",
     "output_type": "stream",
     "text": [
      "C:\\Users\\lando\\AppData\\Local\\Temp\\ipykernel_34800\\3465631864.py:63: FutureWarning: The frame.append method is deprecated and will be removed from pandas in a future version. Use pandas.concat instead.\n",
      "  df = df.append(datarow, ignore_index=True)\n"
     ]
    },
    {
     "name": "stdout",
     "output_type": "stream",
     "text": [
      "Monday's - 11:30 AM-12:25 PM1900 College Rd. NColumbus, OH 43210\n",
      "TEST\n"
     ]
    },
    {
     "name": "stderr",
     "output_type": "stream",
     "text": [
      "C:\\Users\\lando\\AppData\\Local\\Temp\\ipykernel_34800\\3465631864.py:63: FutureWarning: The frame.append method is deprecated and will be removed from pandas in a future version. Use pandas.concat instead.\n",
      "  df = df.append(datarow, ignore_index=True)\n"
     ]
    },
    {
     "name": "stdout",
     "output_type": "stream",
     "text": [
      "Tuesday 7:00pm210 W Woodruff Ave Columbus, OH 43210Columbus, OH 43210\n",
      "Tuesday 7:00 pm\n",
      "test\n",
      "TEST\n"
     ]
    },
    {
     "name": "stderr",
     "output_type": "stream",
     "text": [
      "C:\\Users\\lando\\AppData\\Local\\Temp\\ipykernel_34800\\3465631864.py:63: FutureWarning: The frame.append method is deprecated and will be removed from pandas in a future version. Use pandas.concat instead.\n",
      "  df = df.append(datarow, ignore_index=True)\n"
     ]
    },
    {
     "name": "stdout",
     "output_type": "stream",
     "text": [
      "Wednesdays from 8pm-9pmColumbus, OH 43210\n",
      "TEST\n"
     ]
    },
    {
     "name": "stderr",
     "output_type": "stream",
     "text": [
      "C:\\Users\\lando\\AppData\\Local\\Temp\\ipykernel_34800\\3465631864.py:63: FutureWarning: The frame.append method is deprecated and will be removed from pandas in a future version. Use pandas.concat instead.\n",
      "  df = df.append(datarow, ignore_index=True)\n"
     ]
    },
    {
     "name": "stdout",
     "output_type": "stream",
     "text": [
      "Mondays 6 - 7 PMColumbus, OH 43210\n",
      "Mondays 6 None\n",
      "test\n",
      "TEST\n"
     ]
    },
    {
     "name": "stderr",
     "output_type": "stream",
     "text": [
      "C:\\Users\\lando\\AppData\\Local\\Temp\\ipykernel_34800\\3465631864.py:63: FutureWarning: The frame.append method is deprecated and will be removed from pandas in a future version. Use pandas.concat instead.\n",
      "  df = df.append(datarow, ignore_index=True)\n"
     ]
    },
    {
     "name": "stdout",
     "output_type": "stream",
     "text": [
      "Last Sunday of every monthColumbus, OH 43210\n",
      "TEST\n"
     ]
    },
    {
     "name": "stderr",
     "output_type": "stream",
     "text": [
      "C:\\Users\\lando\\AppData\\Local\\Temp\\ipykernel_34800\\3465631864.py:63: FutureWarning: The frame.append method is deprecated and will be removed from pandas in a future version. Use pandas.concat instead.\n",
      "  df = df.append(datarow, ignore_index=True)\n"
     ]
    },
    {
     "name": "stdout",
     "output_type": "stream",
     "text": [
      "Columbus, OH 43210\n",
      "TEST\n"
     ]
    },
    {
     "name": "stderr",
     "output_type": "stream",
     "text": [
      "C:\\Users\\lando\\AppData\\Local\\Temp\\ipykernel_34800\\3465631864.py:63: FutureWarning: The frame.append method is deprecated and will be removed from pandas in a future version. Use pandas.concat instead.\n",
      "  df = df.append(datarow, ignore_index=True)\n"
     ]
    },
    {
     "name": "stdout",
     "output_type": "stream",
     "text": [
      "Columbus, OH 43210\n",
      "TEST\n"
     ]
    },
    {
     "name": "stderr",
     "output_type": "stream",
     "text": [
      "C:\\Users\\lando\\AppData\\Local\\Temp\\ipykernel_34800\\3465631864.py:63: FutureWarning: The frame.append method is deprecated and will be removed from pandas in a future version. Use pandas.concat instead.\n",
      "  df = df.append(datarow, ignore_index=True)\n"
     ]
    },
    {
     "name": "stdout",
     "output_type": "stream",
     "text": [
      "WeeklyColumbus, OH 43210\n",
      "TEST\n",
      "Varies601 Vernon L. Tharp St.Columbus, OH 43210\n",
      "TEST\n"
     ]
    },
    {
     "name": "stderr",
     "output_type": "stream",
     "text": [
      "C:\\Users\\lando\\AppData\\Local\\Temp\\ipykernel_34800\\3465631864.py:63: FutureWarning: The frame.append method is deprecated and will be removed from pandas in a future version. Use pandas.concat instead.\n",
      "  df = df.append(datarow, ignore_index=True)\n",
      "C:\\Users\\lando\\AppData\\Local\\Temp\\ipykernel_34800\\3465631864.py:63: FutureWarning: The frame.append method is deprecated and will be removed from pandas in a future version. Use pandas.concat instead.\n",
      "  df = df.append(datarow, ignore_index=True)\n"
     ]
    },
    {
     "name": "stdout",
     "output_type": "stream",
     "text": [
      "Thursday @ 7 PMColumbus, OH 43210\n",
      "Thursday 7 PM\n",
      "test\n",
      "TEST\n"
     ]
    },
    {
     "name": "stderr",
     "output_type": "stream",
     "text": [
      "C:\\Users\\lando\\AppData\\Local\\Temp\\ipykernel_34800\\3465631864.py:63: FutureWarning: The frame.append method is deprecated and will be removed from pandas in a future version. Use pandas.concat instead.\n",
      "  df = df.append(datarow, ignore_index=True)\n"
     ]
    },
    {
     "name": "stdout",
     "output_type": "stream",
     "text": [
      "Weekly: Wednesdays at 6:00 pm175 W 18th Ave, Columbus, OH 43210Columbus, OH 43210\n",
      "Wednesdays 6:00 pm\n",
      "test\n",
      "TEST\n"
     ]
    },
    {
     "name": "stderr",
     "output_type": "stream",
     "text": [
      "C:\\Users\\lando\\AppData\\Local\\Temp\\ipykernel_34800\\3465631864.py:63: FutureWarning: The frame.append method is deprecated and will be removed from pandas in a future version. Use pandas.concat instead.\n",
      "  df = df.append(datarow, ignore_index=True)\n"
     ]
    },
    {
     "name": "stdout",
     "output_type": "stream",
     "text": [
      "Thursdays at 7:00 pm (bi-weekly)Columbus, OH 43210\n",
      "Thursdays 7:00 pm\n",
      "test\n",
      "TEST\n"
     ]
    },
    {
     "name": "stderr",
     "output_type": "stream",
     "text": [
      "C:\\Users\\lando\\AppData\\Local\\Temp\\ipykernel_34800\\3465631864.py:63: FutureWarning: The frame.append method is deprecated and will be removed from pandas in a future version. Use pandas.concat instead.\n",
      "  df = df.append(datarow, ignore_index=True)\n"
     ]
    },
    {
     "name": "stdout",
     "output_type": "stream",
     "text": [
      "Mondays @ 8pmOnlineColumbus, OH 43210\n",
      "Mondays 8 pm\n",
      "test\n",
      "TEST\n"
     ]
    },
    {
     "name": "stderr",
     "output_type": "stream",
     "text": [
      "C:\\Users\\lando\\AppData\\Local\\Temp\\ipykernel_34800\\3465631864.py:63: FutureWarning: The frame.append method is deprecated and will be removed from pandas in a future version. Use pandas.concat instead.\n",
      "  df = df.append(datarow, ignore_index=True)\n"
     ]
    },
    {
     "name": "stdout",
     "output_type": "stream",
     "text": [
      "Biweekly Tuesdays from 7:00pm-8:30pm1947 N College Rd Columbus, OH 43210Stillman 115Columbus, OH 43210\n",
      "TEST\n"
     ]
    },
    {
     "name": "stderr",
     "output_type": "stream",
     "text": [
      "C:\\Users\\lando\\AppData\\Local\\Temp\\ipykernel_34800\\3465631864.py:63: FutureWarning: The frame.append method is deprecated and will be removed from pandas in a future version. Use pandas.concat instead.\n",
      "  df = df.append(datarow, ignore_index=True)\n"
     ]
    },
    {
     "name": "stdout",
     "output_type": "stream",
     "text": [
      "Monday 5:30-6:30 Pm2009 Millikin Rd, Columbus, OH 43210Columbus, OH 43210\n",
      "Monday 5:30 None\n",
      "test\n",
      "TEST\n"
     ]
    },
    {
     "name": "stderr",
     "output_type": "stream",
     "text": [
      "C:\\Users\\lando\\AppData\\Local\\Temp\\ipykernel_34800\\3465631864.py:63: FutureWarning: The frame.append method is deprecated and will be removed from pandas in a future version. Use pandas.concat instead.\n",
      "  df = df.append(datarow, ignore_index=True)\n"
     ]
    },
    {
     "name": "stdout",
     "output_type": "stream",
     "text": [
      "Au22: Every Friday at 5pm via ZoomMeeting ID: 968 1775 8065Columbus, OH 43210\n",
      "Friday 5 pm\n",
      "test\n",
      "TEST\n",
      "Approximately twice a month on Friday @ 6:30-9pm337 Annie and John Glenn Ave, Columbus, OH 43210Columbus, OH 43210\n",
      "Friday 6:30 None\n",
      "test\n",
      "TEST\n"
     ]
    },
    {
     "name": "stderr",
     "output_type": "stream",
     "text": [
      "C:\\Users\\lando\\AppData\\Local\\Temp\\ipykernel_34800\\3465631864.py:63: FutureWarning: The frame.append method is deprecated and will be removed from pandas in a future version. Use pandas.concat instead.\n",
      "  df = df.append(datarow, ignore_index=True)\n",
      "C:\\Users\\lando\\AppData\\Local\\Temp\\ipykernel_34800\\3465631864.py:63: FutureWarning: The frame.append method is deprecated and will be removed from pandas in a future version. Use pandas.concat instead.\n",
      "  df = df.append(datarow, ignore_index=True)\n"
     ]
    },
    {
     "name": "stdout",
     "output_type": "stream",
     "text": [
      "Every other Tuesday at 6:00pmColumbus, OH 43210\n",
      "Tuesday 6:00 pm\n",
      "test\n",
      "TEST\n"
     ]
    },
    {
     "name": "stderr",
     "output_type": "stream",
     "text": [
      "C:\\Users\\lando\\AppData\\Local\\Temp\\ipykernel_34800\\3465631864.py:63: FutureWarning: The frame.append method is deprecated and will be removed from pandas in a future version. Use pandas.concat instead.\n",
      "  df = df.append(datarow, ignore_index=True)\n"
     ]
    },
    {
     "name": "stdout",
     "output_type": "stream",
     "text": [
      "Tuesdays at 6:30Columbus, OH 43210\n",
      "Tuesdays 6:30 None\n",
      "test\n",
      "TEST\n"
     ]
    },
    {
     "name": "stderr",
     "output_type": "stream",
     "text": [
      "C:\\Users\\lando\\AppData\\Local\\Temp\\ipykernel_34800\\3465631864.py:63: FutureWarning: The frame.append method is deprecated and will be removed from pandas in a future version. Use pandas.concat instead.\n",
      "  df = df.append(datarow, ignore_index=True)\n"
     ]
    },
    {
     "name": "stdout",
     "output_type": "stream",
     "text": [
      "Every Other Monday 7:30-8:30 PMColumbus, OH 43210\n",
      "Monday 7:30 None\n",
      "test\n",
      "TEST\n",
      "Every other Thursday @ 6:30pTBAColumbus, OH 43210\n",
      "Thursday 6:30 None\n",
      "test\n",
      "TEST\n"
     ]
    },
    {
     "name": "stderr",
     "output_type": "stream",
     "text": [
      "C:\\Users\\lando\\AppData\\Local\\Temp\\ipykernel_34800\\3465631864.py:63: FutureWarning: The frame.append method is deprecated and will be removed from pandas in a future version. Use pandas.concat instead.\n",
      "  df = df.append(datarow, ignore_index=True)\n",
      "C:\\Users\\lando\\AppData\\Local\\Temp\\ipykernel_34800\\3465631864.py:63: FutureWarning: The frame.append method is deprecated and will be removed from pandas in a future version. Use pandas.concat instead.\n",
      "  df = df.append(datarow, ignore_index=True)\n"
     ]
    },
    {
     "name": "stdout",
     "output_type": "stream",
     "text": [
      "Varied-please contact fisher.1649@osu.edu for infoPlease contact fisher.1649@osu.edu for more infoColumbus, OH 43210\n",
      "TEST\n"
     ]
    },
    {
     "name": "stderr",
     "output_type": "stream",
     "text": [
      "C:\\Users\\lando\\AppData\\Local\\Temp\\ipykernel_34800\\3465631864.py:63: FutureWarning: The frame.append method is deprecated and will be removed from pandas in a future version. Use pandas.concat instead.\n",
      "  df = df.append(datarow, ignore_index=True)\n"
     ]
    },
    {
     "name": "stdout",
     "output_type": "stream",
     "text": [
      "variable. 2009 Millikin RdColumbus, Ohio 43210Columbus, OH 43210\n",
      "TEST\n",
      "Every Other Wednesday at 6 PMColumbus, OH 43210\n",
      "Wednesday 6 PM\n",
      "test\n",
      "TEST\n"
     ]
    },
    {
     "name": "stderr",
     "output_type": "stream",
     "text": [
      "C:\\Users\\lando\\AppData\\Local\\Temp\\ipykernel_34800\\3465631864.py:63: FutureWarning: The frame.append method is deprecated and will be removed from pandas in a future version. Use pandas.concat instead.\n",
      "  df = df.append(datarow, ignore_index=True)\n",
      "C:\\Users\\lando\\AppData\\Local\\Temp\\ipykernel_34800\\3465631864.py:63: FutureWarning: The frame.append method is deprecated and will be removed from pandas in a future version. Use pandas.concat instead.\n",
      "  df = df.append(datarow, ignore_index=True)\n"
     ]
    },
    {
     "name": "stdout",
     "output_type": "stream",
     "text": [
      "TBDColumbus, OH 43210\n",
      "TEST\n",
      "Sundays: 3:00-4:30pm, Fridays 6:30-8:00pm1739 N High StreetColumbus, OH 43210\n",
      "Fridays 6:30 None\n",
      "test\n",
      "TEST\n"
     ]
    },
    {
     "name": "stderr",
     "output_type": "stream",
     "text": [
      "C:\\Users\\lando\\AppData\\Local\\Temp\\ipykernel_34800\\3465631864.py:63: FutureWarning: The frame.append method is deprecated and will be removed from pandas in a future version. Use pandas.concat instead.\n",
      "  df = df.append(datarow, ignore_index=True)\n",
      "C:\\Users\\lando\\AppData\\Local\\Temp\\ipykernel_34800\\3465631864.py:63: FutureWarning: The frame.append method is deprecated and will be removed from pandas in a future version. Use pandas.concat instead.\n",
      "  df = df.append(datarow, ignore_index=True)\n"
     ]
    },
    {
     "name": "stdout",
     "output_type": "stream",
     "text": [
      "Columbus, OH 43210\n",
      "TEST\n",
      "Mondays at 5:30PM (BIWEEKLY)Columbus, OH 43210\n",
      "Mondays 5:30 PM\n",
      "test\n",
      "TEST\n"
     ]
    },
    {
     "name": "stderr",
     "output_type": "stream",
     "text": [
      "C:\\Users\\lando\\AppData\\Local\\Temp\\ipykernel_34800\\3465631864.py:63: FutureWarning: The frame.append method is deprecated and will be removed from pandas in a future version. Use pandas.concat instead.\n",
      "  df = df.append(datarow, ignore_index=True)\n",
      "C:\\Users\\lando\\AppData\\Local\\Temp\\ipykernel_34800\\3465631864.py:63: FutureWarning: The frame.append method is deprecated and will be removed from pandas in a future version. Use pandas.concat instead.\n",
      "  df = df.append(datarow, ignore_index=True)\n"
     ]
    },
    {
     "name": "stdout",
     "output_type": "stream",
     "text": [
      "every other Friday starting 9/9500 West 12th AveColumbus, OH 43210Columbus, OH 43210\n",
      "TEST\n",
      "Wednesday 7-9pm1739 N High StColumbus, OH 43210Columbus, OH 43210\n",
      "Wednesday 7 None\n",
      "test\n",
      "TEST\n"
     ]
    },
    {
     "name": "stderr",
     "output_type": "stream",
     "text": [
      "C:\\Users\\lando\\AppData\\Local\\Temp\\ipykernel_34800\\3465631864.py:63: FutureWarning: The frame.append method is deprecated and will be removed from pandas in a future version. Use pandas.concat instead.\n",
      "  df = df.append(datarow, ignore_index=True)\n",
      "C:\\Users\\lando\\AppData\\Local\\Temp\\ipykernel_34800\\3465631864.py:63: FutureWarning: The frame.append method is deprecated and will be removed from pandas in a future version. Use pandas.concat instead.\n",
      "  df = df.append(datarow, ignore_index=True)\n"
     ]
    },
    {
     "name": "stdout",
     "output_type": "stream",
     "text": [
      "Contact OSU Hillel46 E. 16th Ave.Columbus, OH 43210\n",
      "TEST\n"
     ]
    },
    {
     "name": "stderr",
     "output_type": "stream",
     "text": [
      "C:\\Users\\lando\\AppData\\Local\\Temp\\ipykernel_34800\\3465631864.py:63: FutureWarning: The frame.append method is deprecated and will be removed from pandas in a future version. Use pandas.concat instead.\n",
      "  df = df.append(datarow, ignore_index=True)\n"
     ]
    },
    {
     "name": "stdout",
     "output_type": "stream",
     "text": [
      "Weekdays, specific time/day on social media/flyersColumbus, OH 43210\n",
      "TEST\n",
      "Fall semester: varies1739 N High Street Columbus OH 43210Columbus, OH 43210\n",
      "TEST\n"
     ]
    },
    {
     "name": "stderr",
     "output_type": "stream",
     "text": [
      "C:\\Users\\lando\\AppData\\Local\\Temp\\ipykernel_34800\\3465631864.py:63: FutureWarning: The frame.append method is deprecated and will be removed from pandas in a future version. Use pandas.concat instead.\n",
      "  df = df.append(datarow, ignore_index=True)\n",
      "C:\\Users\\lando\\AppData\\Local\\Temp\\ipykernel_34800\\3465631864.py:63: FutureWarning: The frame.append method is deprecated and will be removed from pandas in a future version. Use pandas.concat instead.\n",
      "  df = df.append(datarow, ignore_index=True)\n"
     ]
    },
    {
     "name": "stdout",
     "output_type": "stream",
     "text": [
      "Mondays at 6pm1729 North High StreetColumbus, OH 43210Columbus, OH 43210\n",
      "Mondays 6 pm\n",
      "test\n",
      "TEST\n",
      "Thursdays 8-9pm | Refer to Slack or Email210 W Woodruff Ave, Columbus, OH 43210Columbus, OH 43210\n",
      "Thursdays 8 None\n",
      "test\n",
      "TEST\n"
     ]
    },
    {
     "name": "stderr",
     "output_type": "stream",
     "text": [
      "C:\\Users\\lando\\AppData\\Local\\Temp\\ipykernel_34800\\3465631864.py:63: FutureWarning: The frame.append method is deprecated and will be removed from pandas in a future version. Use pandas.concat instead.\n",
      "  df = df.append(datarow, ignore_index=True)\n",
      "C:\\Users\\lando\\AppData\\Local\\Temp\\ipykernel_34800\\3465631864.py:63: FutureWarning: The frame.append method is deprecated and will be removed from pandas in a future version. Use pandas.concat instead.\n",
      "  df = df.append(datarow, ignore_index=True)\n"
     ]
    },
    {
     "name": "stdout",
     "output_type": "stream",
     "text": [
      "Weekly Meetings - Sundays at 4:00 pmColumbus, OH 43210\n",
      "Sundays 4:00 pm\n",
      "test\n",
      "TEST\n",
      "None55 W. 12th Ave.Columbus, OH 43210\n",
      "W 12 None\n",
      "test\n",
      "TEST\n"
     ]
    },
    {
     "name": "stderr",
     "output_type": "stream",
     "text": [
      "C:\\Users\\lando\\AppData\\Local\\Temp\\ipykernel_34800\\3465631864.py:63: FutureWarning: The frame.append method is deprecated and will be removed from pandas in a future version. Use pandas.concat instead.\n",
      "  df = df.append(datarow, ignore_index=True)\n",
      "C:\\Users\\lando\\AppData\\Local\\Temp\\ipykernel_34800\\3465631864.py:63: FutureWarning: The frame.append method is deprecated and will be removed from pandas in a future version. Use pandas.concat instead.\n",
      "  df = df.append(datarow, ignore_index=True)\n"
     ]
    },
    {
     "name": "stdout",
     "output_type": "stream",
     "text": [
      "Columbus, OH 43210\n",
      "TEST\n",
      "Tuesday 7:15 PM210 West Woodruff AvenueColumbus, OH 43210Columbus, OH 43210\n",
      "Tuesday 7:15 PM\n",
      "test\n",
      "TEST\n"
     ]
    },
    {
     "name": "stderr",
     "output_type": "stream",
     "text": [
      "C:\\Users\\lando\\AppData\\Local\\Temp\\ipykernel_34800\\3465631864.py:63: FutureWarning: The frame.append method is deprecated and will be removed from pandas in a future version. Use pandas.concat instead.\n",
      "  df = df.append(datarow, ignore_index=True)\n",
      "C:\\Users\\lando\\AppData\\Local\\Temp\\ipykernel_34800\\3465631864.py:63: FutureWarning: The frame.append method is deprecated and will be removed from pandas in a future version. Use pandas.concat instead.\n",
      "  df = df.append(datarow, ignore_index=True)\n"
     ]
    },
    {
     "name": "stdout",
     "output_type": "stream",
     "text": [
      "Columbus, OH 43210\n",
      "TEST\n",
      "Biweekly- 8:00pm on Wednesday's beginning 8/31Columbus, OH 43210\n",
      "TEST\n"
     ]
    },
    {
     "name": "stderr",
     "output_type": "stream",
     "text": [
      "C:\\Users\\lando\\AppData\\Local\\Temp\\ipykernel_34800\\3465631864.py:63: FutureWarning: The frame.append method is deprecated and will be removed from pandas in a future version. Use pandas.concat instead.\n",
      "  df = df.append(datarow, ignore_index=True)\n",
      "C:\\Users\\lando\\AppData\\Local\\Temp\\ipykernel_34800\\3465631864.py:63: FutureWarning: The frame.append method is deprecated and will be removed from pandas in a future version. Use pandas.concat instead.\n",
      "  df = df.append(datarow, ignore_index=True)\n"
     ]
    },
    {
     "name": "stdout",
     "output_type": "stream",
     "text": [
      "Saturday at 3:00pmColumbus, OH 43210\n",
      "Saturday 3:00 pm\n",
      "test\n",
      "TEST\n",
      "Columbus, OH 43210\n",
      "TEST\n"
     ]
    },
    {
     "name": "stderr",
     "output_type": "stream",
     "text": [
      "C:\\Users\\lando\\AppData\\Local\\Temp\\ipykernel_34800\\3465631864.py:63: FutureWarning: The frame.append method is deprecated and will be removed from pandas in a future version. Use pandas.concat instead.\n",
      "  df = df.append(datarow, ignore_index=True)\n",
      "C:\\Users\\lando\\AppData\\Local\\Temp\\ipykernel_34800\\3465631864.py:63: FutureWarning: The frame.append method is deprecated and will be removed from pandas in a future version. Use pandas.concat instead.\n",
      "  df = df.append(datarow, ignore_index=True)\n"
     ]
    },
    {
     "name": "stdout",
     "output_type": "stream",
     "text": [
      "Wednesday 9PM1739 N. High StreetColumbus, OH 43210\n",
      "Wednesday 9 PM\n",
      "test\n",
      "TEST\n",
      "Monday 7pm2009 Millikin Rd, Columbus, OH 43210Columbus, OH 43210\n",
      "Monday 7 pm\n",
      "test\n",
      "TEST\n"
     ]
    },
    {
     "name": "stderr",
     "output_type": "stream",
     "text": [
      "C:\\Users\\lando\\AppData\\Local\\Temp\\ipykernel_34800\\3465631864.py:63: FutureWarning: The frame.append method is deprecated and will be removed from pandas in a future version. Use pandas.concat instead.\n",
      "  df = df.append(datarow, ignore_index=True)\n",
      "C:\\Users\\lando\\AppData\\Local\\Temp\\ipykernel_34800\\3465631864.py:63: FutureWarning: The frame.append method is deprecated and will be removed from pandas in a future version. Use pandas.concat instead.\n",
      "  df = df.append(datarow, ignore_index=True)\n"
     ]
    },
    {
     "name": "stdout",
     "output_type": "stream",
     "text": [
      "Bi-Monthly, See social media more more informationStadium parking lot at Cannon and Woody HayesColumbus, OH 43210\n",
      "TEST\n",
      "Wednesdays at 7pmColumbus, OH 43210\n",
      "Wednesdays 7 pm\n",
      "test\n",
      "TEST\n"
     ]
    },
    {
     "name": "stderr",
     "output_type": "stream",
     "text": [
      "C:\\Users\\lando\\AppData\\Local\\Temp\\ipykernel_34800\\3465631864.py:63: FutureWarning: The frame.append method is deprecated and will be removed from pandas in a future version. Use pandas.concat instead.\n",
      "  df = df.append(datarow, ignore_index=True)\n",
      "C:\\Users\\lando\\AppData\\Local\\Temp\\ipykernel_34800\\3465631864.py:63: FutureWarning: The frame.append method is deprecated and will be removed from pandas in a future version. Use pandas.concat instead.\n",
      "  df = df.append(datarow, ignore_index=True)\n"
     ]
    },
    {
     "name": "stdout",
     "output_type": "stream",
     "text": [
      "Thursday, 6pm370 W 9th AveColumbus, OH 43210\n",
      "Thursday 6 pm\n",
      "test\n",
      "TEST\n",
      "Variable370 West 9th AvenueColumbus, OH 43210\n",
      "TEST\n"
     ]
    },
    {
     "name": "stderr",
     "output_type": "stream",
     "text": [
      "C:\\Users\\lando\\AppData\\Local\\Temp\\ipykernel_34800\\3465631864.py:63: FutureWarning: The frame.append method is deprecated and will be removed from pandas in a future version. Use pandas.concat instead.\n",
      "  df = df.append(datarow, ignore_index=True)\n",
      "C:\\Users\\lando\\AppData\\Local\\Temp\\ipykernel_34800\\3465631864.py:63: FutureWarning: The frame.append method is deprecated and will be removed from pandas in a future version. Use pandas.concat instead.\n",
      "  df = df.append(datarow, ignore_index=True)\n"
     ]
    },
    {
     "name": "stdout",
     "output_type": "stream",
     "text": [
      "First Monday 6pm370 West 9th AvenueColumbus, OH 43210\n",
      "Monday 6 pm\n",
      "test\n",
      "TEST\n",
      "Thursdays, Noon (Autumn 09)134 Biomedical Research Tower460 W 12th Ave.Columbus, OH 43210\n",
      "W 12 None\n",
      "test\n",
      "TEST\n"
     ]
    },
    {
     "name": "stderr",
     "output_type": "stream",
     "text": [
      "C:\\Users\\lando\\AppData\\Local\\Temp\\ipykernel_34800\\3465631864.py:63: FutureWarning: The frame.append method is deprecated and will be removed from pandas in a future version. Use pandas.concat instead.\n",
      "  df = df.append(datarow, ignore_index=True)\n",
      "C:\\Users\\lando\\AppData\\Local\\Temp\\ipykernel_34800\\3465631864.py:63: FutureWarning: The frame.append method is deprecated and will be removed from pandas in a future version. Use pandas.concat instead.\n",
      "  df = df.append(datarow, ignore_index=True)\n"
     ]
    },
    {
     "name": "stdout",
     "output_type": "stream",
     "text": [
      "Columbus, OH 43210\n",
      "TEST\n",
      "Wednesdays, 7:00 PM - 8:00 PMColumbus, OH 43210\n",
      "Wednesdays 7:00 PM\n",
      "test\n",
      "TEST\n"
     ]
    },
    {
     "name": "stderr",
     "output_type": "stream",
     "text": [
      "C:\\Users\\lando\\AppData\\Local\\Temp\\ipykernel_34800\\3465631864.py:63: FutureWarning: The frame.append method is deprecated and will be removed from pandas in a future version. Use pandas.concat instead.\n",
      "  df = df.append(datarow, ignore_index=True)\n",
      "C:\\Users\\lando\\AppData\\Local\\Temp\\ipykernel_34800\\3465631864.py:63: FutureWarning: The frame.append method is deprecated and will be removed from pandas in a future version. Use pandas.concat instead.\n",
      "  df = df.append(datarow, ignore_index=True)\n"
     ]
    },
    {
     "name": "stdout",
     "output_type": "stream",
     "text": [
      "Mondays 7:00-9:00 PM2009 Millikin Rd.Columbus, OH 43210\n",
      "Mondays 7:00 None\n",
      "test\n",
      "TEST\n",
      "VariesTBDColumbus, OH 43210\n",
      "TEST\n"
     ]
    },
    {
     "name": "stderr",
     "output_type": "stream",
     "text": [
      "C:\\Users\\lando\\AppData\\Local\\Temp\\ipykernel_34800\\3465631864.py:63: FutureWarning: The frame.append method is deprecated and will be removed from pandas in a future version. Use pandas.concat instead.\n",
      "  df = df.append(datarow, ignore_index=True)\n",
      "C:\\Users\\lando\\AppData\\Local\\Temp\\ipykernel_34800\\3465631864.py:63: FutureWarning: The frame.append method is deprecated and will be removed from pandas in a future version. Use pandas.concat instead.\n",
      "  df = df.append(datarow, ignore_index=True)\n"
     ]
    },
    {
     "name": "stdout",
     "output_type": "stream",
     "text": [
      "Friday 1:00 p.m.333 W 10th AveColumbus, OH 43210Columbus, OH 43210\n",
      "Friday 1:00 None\n",
      "test\n",
      "TEST\n",
      "Every other Saturday 11:00 a.m.64 West Lane Ave, Columbus OH 43201Columbus, OH 43210\n",
      "Saturday 11:00 None\n",
      "test\n",
      "TEST\n"
     ]
    },
    {
     "name": "stderr",
     "output_type": "stream",
     "text": [
      "C:\\Users\\lando\\AppData\\Local\\Temp\\ipykernel_34800\\3465631864.py:63: FutureWarning: The frame.append method is deprecated and will be removed from pandas in a future version. Use pandas.concat instead.\n",
      "  df = df.append(datarow, ignore_index=True)\n",
      "C:\\Users\\lando\\AppData\\Local\\Temp\\ipykernel_34800\\3465631864.py:63: FutureWarning: The frame.append method is deprecated and will be removed from pandas in a future version. Use pandas.concat instead.\n",
      "  df = df.append(datarow, ignore_index=True)\n"
     ]
    },
    {
     "name": "stdout",
     "output_type": "stream",
     "text": [
      "230 North Oval MallColumbus OH, 43201Columbus, OH 43210\n",
      "TEST\n"
     ]
    },
    {
     "name": "stderr",
     "output_type": "stream",
     "text": [
      "C:\\Users\\lando\\AppData\\Local\\Temp\\ipykernel_34800\\3465631864.py:63: FutureWarning: The frame.append method is deprecated and will be removed from pandas in a future version. Use pandas.concat instead.\n",
      "  df = df.append(datarow, ignore_index=True)\n"
     ]
    },
    {
     "name": "stdout",
     "output_type": "stream",
     "text": [
      "Fridays 11:30AM-12:25PM1900 College Rd N. Columbus OH 43210Columbus, OH 43210\n",
      "Fridays 11:30 AM\n",
      "test\n",
      "TEST\n",
      "3rd Friday at 1pm1835 Neil Ave, Columbus, OH 43210Columbus, OH 43210\n",
      "Friday 1 pm\n",
      "test\n",
      "TEST\n"
     ]
    },
    {
     "name": "stderr",
     "output_type": "stream",
     "text": [
      "C:\\Users\\lando\\AppData\\Local\\Temp\\ipykernel_34800\\3465631864.py:63: FutureWarning: The frame.append method is deprecated and will be removed from pandas in a future version. Use pandas.concat instead.\n",
      "  df = df.append(datarow, ignore_index=True)\n",
      "C:\\Users\\lando\\AppData\\Local\\Temp\\ipykernel_34800\\3465631864.py:63: FutureWarning: The frame.append method is deprecated and will be removed from pandas in a future version. Use pandas.concat instead.\n",
      "  df = df.append(datarow, ignore_index=True)\n"
     ]
    },
    {
     "name": "stdout",
     "output_type": "stream",
     "text": [
      "TBD2021 Coffee RoadColumbus, OH 43210\n",
      "TEST\n"
     ]
    },
    {
     "name": "stderr",
     "output_type": "stream",
     "text": [
      "C:\\Users\\lando\\AppData\\Local\\Temp\\ipykernel_34800\\3465631864.py:63: FutureWarning: The frame.append method is deprecated and will be removed from pandas in a future version. Use pandas.concat instead.\n",
      "  df = df.append(datarow, ignore_index=True)\n"
     ]
    },
    {
     "name": "stdout",
     "output_type": "stream",
     "text": [
      "Tuesdays at 11:30 AMColumbus, OH 43210\n",
      "Tuesdays 11:30 AM\n",
      "test\n",
      "TEST\n",
      "Thursdays at 7Columbus, OH 43210\n",
      "Thursdays 7 None\n",
      "test\n",
      "TEST\n"
     ]
    },
    {
     "name": "stderr",
     "output_type": "stream",
     "text": [
      "C:\\Users\\lando\\AppData\\Local\\Temp\\ipykernel_34800\\3465631864.py:63: FutureWarning: The frame.append method is deprecated and will be removed from pandas in a future version. Use pandas.concat instead.\n",
      "  df = df.append(datarow, ignore_index=True)\n",
      "C:\\Users\\lando\\AppData\\Local\\Temp\\ipykernel_34800\\3465631864.py:63: FutureWarning: The frame.append method is deprecated and will be removed from pandas in a future version. Use pandas.concat instead.\n",
      "  df = df.append(datarow, ignore_index=True)\n"
     ]
    },
    {
     "name": "stdout",
     "output_type": "stream",
     "text": [
      "1813 North High StreetColumbus, OH 43210\n",
      "TEST\n",
      "Thursday, 19002121 Tuttle Park Pl.Columbus, OH 43210\n",
      "Thursday 1900 None\n",
      "test\n",
      "TEST\n"
     ]
    },
    {
     "name": "stderr",
     "output_type": "stream",
     "text": [
      "C:\\Users\\lando\\AppData\\Local\\Temp\\ipykernel_34800\\3465631864.py:63: FutureWarning: The frame.append method is deprecated and will be removed from pandas in a future version. Use pandas.concat instead.\n",
      "  df = df.append(datarow, ignore_index=True)\n",
      "C:\\Users\\lando\\AppData\\Local\\Temp\\ipykernel_34800\\3465631864.py:63: FutureWarning: The frame.append method is deprecated and will be removed from pandas in a future version. Use pandas.concat instead.\n",
      "  df = df.append(datarow, ignore_index=True)\n"
     ]
    },
    {
     "name": "stdout",
     "output_type": "stream",
     "text": [
      "Tuesdays at 7:30pmColumbus, OH 43210\n",
      "Tuesdays 7:30 pm\n",
      "test\n",
      "TEST\n",
      "Columbus, OH 43210\n",
      "TEST\n"
     ]
    },
    {
     "name": "stderr",
     "output_type": "stream",
     "text": [
      "C:\\Users\\lando\\AppData\\Local\\Temp\\ipykernel_34800\\3465631864.py:63: FutureWarning: The frame.append method is deprecated and will be removed from pandas in a future version. Use pandas.concat instead.\n",
      "  df = df.append(datarow, ignore_index=True)\n",
      "C:\\Users\\lando\\AppData\\Local\\Temp\\ipykernel_34800\\3465631864.py:63: FutureWarning: The frame.append method is deprecated and will be removed from pandas in a future version. Use pandas.concat instead.\n",
      "  df = df.append(datarow, ignore_index=True)\n"
     ]
    },
    {
     "name": "stdout",
     "output_type": "stream",
     "text": [
      "Wednesday Evenings337 W. 17th Avenue Columbus OH 43201Columbus, OH 43210\n",
      "W 17 None\n",
      "test\n",
      "TEST\n",
      "Columbus, OH 43210\n",
      "TEST\n"
     ]
    },
    {
     "name": "stderr",
     "output_type": "stream",
     "text": [
      "C:\\Users\\lando\\AppData\\Local\\Temp\\ipykernel_34800\\3465631864.py:63: FutureWarning: The frame.append method is deprecated and will be removed from pandas in a future version. Use pandas.concat instead.\n",
      "  df = df.append(datarow, ignore_index=True)\n",
      "C:\\Users\\lando\\AppData\\Local\\Temp\\ipykernel_34800\\3465631864.py:63: FutureWarning: The frame.append method is deprecated and will be removed from pandas in a future version. Use pandas.concat instead.\n",
      "  df = df.append(datarow, ignore_index=True)\n"
     ]
    },
    {
     "name": "stdout",
     "output_type": "stream",
     "text": [
      "Columbus, OH 43210\n",
      "TEST\n",
      "Monday 7:30Columbus, OH 43210\n",
      "Monday 7:30 None\n",
      "test\n",
      "TEST\n"
     ]
    },
    {
     "name": "stderr",
     "output_type": "stream",
     "text": [
      "C:\\Users\\lando\\AppData\\Local\\Temp\\ipykernel_34800\\3465631864.py:63: FutureWarning: The frame.append method is deprecated and will be removed from pandas in a future version. Use pandas.concat instead.\n",
      "  df = df.append(datarow, ignore_index=True)\n",
      "C:\\Users\\lando\\AppData\\Local\\Temp\\ipykernel_34800\\3465631864.py:63: FutureWarning: The frame.append method is deprecated and will be removed from pandas in a future version. Use pandas.concat instead.\n",
      "  df = df.append(datarow, ignore_index=True)\n"
     ]
    },
    {
     "name": "stdout",
     "output_type": "stream",
     "text": [
      "as neededColumbus, OHColumbus, OH 43210\n",
      "TEST\n",
      "Wednesday 6:30 PM151 West Woodruff AveColumbus, OH 43210\n",
      "Wednesday 6:30 PM\n",
      "test\n",
      "TEST\n"
     ]
    },
    {
     "name": "stderr",
     "output_type": "stream",
     "text": [
      "C:\\Users\\lando\\AppData\\Local\\Temp\\ipykernel_34800\\3465631864.py:63: FutureWarning: The frame.append method is deprecated and will be removed from pandas in a future version. Use pandas.concat instead.\n",
      "  df = df.append(datarow, ignore_index=True)\n",
      "C:\\Users\\lando\\AppData\\Local\\Temp\\ipykernel_34800\\3465631864.py:63: FutureWarning: The frame.append method is deprecated and will be removed from pandas in a future version. Use pandas.concat instead.\n",
      "  df = df.append(datarow, ignore_index=True)\n"
     ]
    },
    {
     "name": "stdout",
     "output_type": "stream",
     "text": [
      "Thursday, 5 - 5.30 PM, Twice per month151 W Woodruff AveColumbus, OH 43210\n",
      "Thursday 5 None\n",
      "test\n",
      "TEST\n",
      "Thursdays @ 6:30 PM151 W. Woodruff AveColumbus, OH 43210\n",
      "Thursdays 6:30 PM\n",
      "test\n",
      "TEST\n"
     ]
    },
    {
     "name": "stderr",
     "output_type": "stream",
     "text": [
      "C:\\Users\\lando\\AppData\\Local\\Temp\\ipykernel_34800\\3465631864.py:63: FutureWarning: The frame.append method is deprecated and will be removed from pandas in a future version. Use pandas.concat instead.\n",
      "  df = df.append(datarow, ignore_index=True)\n",
      "C:\\Users\\lando\\AppData\\Local\\Temp\\ipykernel_34800\\3465631864.py:63: FutureWarning: The frame.append method is deprecated and will be removed from pandas in a future version. Use pandas.concat instead.\n",
      "  df = df.append(datarow, ignore_index=True)\n"
     ]
    },
    {
     "name": "stdout",
     "output_type": "stream",
     "text": [
      "Every month100 W 18th AveColumbus, OhioColumbus, OH 43210\n",
      "W 18 None\n",
      "test\n",
      "TEST\n",
      "Thurs 6:00-8:00 PMColumbus, OH 43210\n",
      "Thurs 6:00 None\n",
      "test\n",
      "TEST\n"
     ]
    },
    {
     "name": "stderr",
     "output_type": "stream",
     "text": [
      "C:\\Users\\lando\\AppData\\Local\\Temp\\ipykernel_34800\\3465631864.py:63: FutureWarning: The frame.append method is deprecated and will be removed from pandas in a future version. Use pandas.concat instead.\n",
      "  df = df.append(datarow, ignore_index=True)\n",
      "C:\\Users\\lando\\AppData\\Local\\Temp\\ipykernel_34800\\3465631864.py:63: FutureWarning: The frame.append method is deprecated and will be removed from pandas in a future version. Use pandas.concat instead.\n",
      "  df = df.append(datarow, ignore_index=True)\n"
     ]
    },
    {
     "name": "stdout",
     "output_type": "stream",
     "text": [
      "Wednesdays, 8:30 pmColumbus, OH 43210\n",
      "Wednesdays 8:30 pm\n",
      "test\n",
      "TEST\n",
      "Varies2036 Neil Avenue, Columbus, OHColumbus, OH 43210\n",
      "TEST\n"
     ]
    },
    {
     "name": "stderr",
     "output_type": "stream",
     "text": [
      "C:\\Users\\lando\\AppData\\Local\\Temp\\ipykernel_34800\\3465631864.py:63: FutureWarning: The frame.append method is deprecated and will be removed from pandas in a future version. Use pandas.concat instead.\n",
      "  df = df.append(datarow, ignore_index=True)\n",
      "C:\\Users\\lando\\AppData\\Local\\Temp\\ipykernel_34800\\3465631864.py:63: FutureWarning: The frame.append method is deprecated and will be removed from pandas in a future version. Use pandas.concat instead.\n",
      "  df = df.append(datarow, ignore_index=True)\n"
     ]
    },
    {
     "name": "stdout",
     "output_type": "stream",
     "text": [
      "154 North Oval MallColumbus, OH 43210\n",
      "TEST\n",
      "Mondays @ 6:30pm1770 Indianola Ave. Columbus, OH 43210Columbus, OH 43210\n",
      "Mondays 6:30 pm\n",
      "test\n",
      "TEST\n"
     ]
    },
    {
     "name": "stderr",
     "output_type": "stream",
     "text": [
      "C:\\Users\\lando\\AppData\\Local\\Temp\\ipykernel_34800\\3465631864.py:63: FutureWarning: The frame.append method is deprecated and will be removed from pandas in a future version. Use pandas.concat instead.\n",
      "  df = df.append(datarow, ignore_index=True)\n",
      "C:\\Users\\lando\\AppData\\Local\\Temp\\ipykernel_34800\\3465631864.py:63: FutureWarning: The frame.append method is deprecated and will be removed from pandas in a future version. Use pandas.concat instead.\n",
      "  df = df.append(datarow, ignore_index=True)\n"
     ]
    },
    {
     "name": "stdout",
     "output_type": "stream",
     "text": [
      "Every two weeksLocation depends on officers' availability, remoteColumbus, OH 43210\n",
      "TEST\n",
      "Columbus, OH 43210\n",
      "TEST\n"
     ]
    },
    {
     "name": "stderr",
     "output_type": "stream",
     "text": [
      "C:\\Users\\lando\\AppData\\Local\\Temp\\ipykernel_34800\\3465631864.py:63: FutureWarning: The frame.append method is deprecated and will be removed from pandas in a future version. Use pandas.concat instead.\n",
      "  df = df.append(datarow, ignore_index=True)\n",
      "C:\\Users\\lando\\AppData\\Local\\Temp\\ipykernel_34800\\3465631864.py:63: FutureWarning: The frame.append method is deprecated and will be removed from pandas in a future version. Use pandas.concat instead.\n",
      "  df = df.append(datarow, ignore_index=True)\n"
     ]
    },
    {
     "name": "stdout",
     "output_type": "stream",
     "text": [
      "Friday 6:00 P.M.2100 Neil Ave, Columbus, OH 43210Fisher HallColumbus, OH 43210\n",
      "Friday 6:00 None\n",
      "test\n",
      "TEST\n",
      "Sunday 2:00-5:00 PM1739 N High St, Columbus, OH 43210Columbus, OH 43210\n",
      "Sunday 2:00 None\n",
      "test\n",
      "TEST\n"
     ]
    },
    {
     "name": "stderr",
     "output_type": "stream",
     "text": [
      "C:\\Users\\lando\\AppData\\Local\\Temp\\ipykernel_34800\\3465631864.py:63: FutureWarning: The frame.append method is deprecated and will be removed from pandas in a future version. Use pandas.concat instead.\n",
      "  df = df.append(datarow, ignore_index=True)\n",
      "C:\\Users\\lando\\AppData\\Local\\Temp\\ipykernel_34800\\3465631864.py:63: FutureWarning: The frame.append method is deprecated and will be removed from pandas in a future version. Use pandas.concat instead.\n",
      "  df = df.append(datarow, ignore_index=True)\n"
     ]
    },
    {
     "name": "stdout",
     "output_type": "stream",
     "text": [
      "Columbus, OH 43210\n",
      "TEST\n",
      "Columbus, OH 43210\n",
      "TEST\n"
     ]
    },
    {
     "name": "stderr",
     "output_type": "stream",
     "text": [
      "C:\\Users\\lando\\AppData\\Local\\Temp\\ipykernel_34800\\3465631864.py:63: FutureWarning: The frame.append method is deprecated and will be removed from pandas in a future version. Use pandas.concat instead.\n",
      "  df = df.append(datarow, ignore_index=True)\n",
      "C:\\Users\\lando\\AppData\\Local\\Temp\\ipykernel_34800\\3465631864.py:63: FutureWarning: The frame.append method is deprecated and will be removed from pandas in a future version. Use pandas.concat instead.\n",
      "  df = df.append(datarow, ignore_index=True)\n"
     ]
    },
    {
     "name": "stdout",
     "output_type": "stream",
     "text": [
      "Friday night1790 Cannon DrColumbus, OH, 43210Columbus, OH 43210\n",
      "TEST\n",
      "Depends on events2108 Neil Ave.Columbus, OH 43210\n",
      "TEST\n"
     ]
    },
    {
     "name": "stderr",
     "output_type": "stream",
     "text": [
      "C:\\Users\\lando\\AppData\\Local\\Temp\\ipykernel_34800\\3465631864.py:63: FutureWarning: The frame.append method is deprecated and will be removed from pandas in a future version. Use pandas.concat instead.\n",
      "  df = df.append(datarow, ignore_index=True)\n",
      "C:\\Users\\lando\\AppData\\Local\\Temp\\ipykernel_34800\\3465631864.py:63: FutureWarning: The frame.append method is deprecated and will be removed from pandas in a future version. Use pandas.concat instead.\n",
      "  df = df.append(datarow, ignore_index=True)\n"
     ]
    },
    {
     "name": "stdout",
     "output_type": "stream",
     "text": [
      "Columbus, OH 43210\n",
      "TEST\n",
      "Fridays 7:00pm-9:00pm199 E 15th Ave, Columbus, OH, 43201Columbus, OH 43210\n",
      "Fridays 7:00 pm\n",
      "test\n",
      "TEST\n"
     ]
    },
    {
     "name": "stderr",
     "output_type": "stream",
     "text": [
      "C:\\Users\\lando\\AppData\\Local\\Temp\\ipykernel_34800\\3465631864.py:63: FutureWarning: The frame.append method is deprecated and will be removed from pandas in a future version. Use pandas.concat instead.\n",
      "  df = df.append(datarow, ignore_index=True)\n",
      "C:\\Users\\lando\\AppData\\Local\\Temp\\ipykernel_34800\\3465631864.py:63: FutureWarning: The frame.append method is deprecated and will be removed from pandas in a future version. Use pandas.concat instead.\n",
      "  df = df.append(datarow, ignore_index=True)\n"
     ]
    },
    {
     "name": "stdout",
     "output_type": "stream",
     "text": [
      "Wednesday 6:30pm-8:00pm125 South Oval Mall Mendenahall Laboratory 185Columbus, OH 43210\n",
      "Wednesday 6:30 pm\n",
      "test\n",
      "TEST\n",
      "Friday from 5PM-9PMTo be anounced by every week emailColumbus, OH 43210\n",
      "TEST\n"
     ]
    },
    {
     "name": "stderr",
     "output_type": "stream",
     "text": [
      "C:\\Users\\lando\\AppData\\Local\\Temp\\ipykernel_34800\\3465631864.py:63: FutureWarning: The frame.append method is deprecated and will be removed from pandas in a future version. Use pandas.concat instead.\n",
      "  df = df.append(datarow, ignore_index=True)\n",
      "C:\\Users\\lando\\AppData\\Local\\Temp\\ipykernel_34800\\3465631864.py:63: FutureWarning: The frame.append method is deprecated and will be removed from pandas in a future version. Use pandas.concat instead.\n",
      "  df = df.append(datarow, ignore_index=True)\n"
     ]
    },
    {
     "name": "stdout",
     "output_type": "stream",
     "text": [
      "TBAColumbus, OH 43210\n",
      "TEST\n"
     ]
    },
    {
     "name": "stderr",
     "output_type": "stream",
     "text": [
      "C:\\Users\\lando\\AppData\\Local\\Temp\\ipykernel_34800\\3465631864.py:63: FutureWarning: The frame.append method is deprecated and will be removed from pandas in a future version. Use pandas.concat instead.\n",
      "  df = df.append(datarow, ignore_index=True)\n"
     ]
    },
    {
     "name": "stdout",
     "output_type": "stream",
     "text": [
      "Once a month2070 Neil AveColumbus, OH 43210Columbus, OH 43210\n",
      "TEST\n",
      "TBDTBDColumbus, OH 43210\n",
      "TEST\n"
     ]
    },
    {
     "name": "stderr",
     "output_type": "stream",
     "text": [
      "C:\\Users\\lando\\AppData\\Local\\Temp\\ipykernel_34800\\3465631864.py:63: FutureWarning: The frame.append method is deprecated and will be removed from pandas in a future version. Use pandas.concat instead.\n",
      "  df = df.append(datarow, ignore_index=True)\n",
      "C:\\Users\\lando\\AppData\\Local\\Temp\\ipykernel_34800\\3465631864.py:63: FutureWarning: The frame.append method is deprecated and will be removed from pandas in a future version. Use pandas.concat instead.\n",
      "  df = df.append(datarow, ignore_index=True)\n"
     ]
    },
    {
     "name": "stdout",
     "output_type": "stream",
     "text": [
      "Friday 7:00-8:30 p.m.2009 Millikin RoadColumbus, OH 43210\n",
      "Friday 7:00 None\n",
      "test\n",
      "TEST\n",
      "Wednesdays, 11:30am-12:30pm305 W. 12th AveColumbus, OH 43210\n",
      "Wednesdays 11:30 am\n",
      "test\n",
      "TEST\n"
     ]
    },
    {
     "name": "stderr",
     "output_type": "stream",
     "text": [
      "C:\\Users\\lando\\AppData\\Local\\Temp\\ipykernel_34800\\3465631864.py:63: FutureWarning: The frame.append method is deprecated and will be removed from pandas in a future version. Use pandas.concat instead.\n",
      "  df = df.append(datarow, ignore_index=True)\n",
      "C:\\Users\\lando\\AppData\\Local\\Temp\\ipykernel_34800\\3465631864.py:63: FutureWarning: The frame.append method is deprecated and will be removed from pandas in a future version. Use pandas.concat instead.\n",
      "  df = df.append(datarow, ignore_index=True)\n"
     ]
    },
    {
     "name": "stdout",
     "output_type": "stream",
     "text": [
      "7:00 P.M. every FridayColumbus, OH 43210\n",
      "TEST\n",
      "1-2 times monthly - lunch time333 W. 10th AvenueColumbus, OH 43210\n",
      "W 10 None\n",
      "test\n",
      "TEST\n"
     ]
    },
    {
     "name": "stderr",
     "output_type": "stream",
     "text": [
      "C:\\Users\\lando\\AppData\\Local\\Temp\\ipykernel_34800\\3465631864.py:63: FutureWarning: The frame.append method is deprecated and will be removed from pandas in a future version. Use pandas.concat instead.\n",
      "  df = df.append(datarow, ignore_index=True)\n",
      "C:\\Users\\lando\\AppData\\Local\\Temp\\ipykernel_34800\\3465631864.py:63: FutureWarning: The frame.append method is deprecated and will be removed from pandas in a future version. Use pandas.concat instead.\n",
      "  df = df.append(datarow, ignore_index=True)\n"
     ]
    },
    {
     "name": "stdout",
     "output_type": "stream",
     "text": [
      "Mondays at 5:00 pmOSU Veterinary School 1900 Coffey RdColumbus, OH 43210\n",
      "Mondays 5:00 pm\n",
      "test\n",
      "TEST\n"
     ]
    },
    {
     "name": "stderr",
     "output_type": "stream",
     "text": [
      "C:\\Users\\lando\\AppData\\Local\\Temp\\ipykernel_34800\\3465631864.py:63: FutureWarning: The frame.append method is deprecated and will be removed from pandas in a future version. Use pandas.concat instead.\n",
      "  df = df.append(datarow, ignore_index=True)\n"
     ]
    },
    {
     "name": "stdout",
     "output_type": "stream",
     "text": [
      "Wednesday Bible Study -- 5:30 PMZoom Meeting ID: 846-4938-4378Columbus, OH 43210\n",
      "TEST\n"
     ]
    },
    {
     "name": "stderr",
     "output_type": "stream",
     "text": [
      "C:\\Users\\lando\\AppData\\Local\\Temp\\ipykernel_34800\\3465631864.py:63: FutureWarning: The frame.append method is deprecated and will be removed from pandas in a future version. Use pandas.concat instead.\n",
      "  df = df.append(datarow, ignore_index=True)\n"
     ]
    },
    {
     "name": "stdout",
     "output_type": "stream",
     "text": [
      "Columbus, OH 43210\n",
      "TEST\n"
     ]
    },
    {
     "name": "stderr",
     "output_type": "stream",
     "text": [
      "C:\\Users\\lando\\AppData\\Local\\Temp\\ipykernel_34800\\3465631864.py:63: FutureWarning: The frame.append method is deprecated and will be removed from pandas in a future version. Use pandas.concat instead.\n",
      "  df = df.append(datarow, ignore_index=True)\n"
     ]
    },
    {
     "name": "stdout",
     "output_type": "stream",
     "text": [
      "Varies month to monthColumbus, OH 43210Columbus, OH 43210\n",
      "TEST\n",
      "Monthly screenings, announced monthlyColumbus, OH 43210\n",
      "TEST\n"
     ]
    },
    {
     "name": "stderr",
     "output_type": "stream",
     "text": [
      "C:\\Users\\lando\\AppData\\Local\\Temp\\ipykernel_34800\\3465631864.py:63: FutureWarning: The frame.append method is deprecated and will be removed from pandas in a future version. Use pandas.concat instead.\n",
      "  df = df.append(datarow, ignore_index=True)\n",
      "C:\\Users\\lando\\AppData\\Local\\Temp\\ipykernel_34800\\3465631864.py:63: FutureWarning: The frame.append method is deprecated and will be removed from pandas in a future version. Use pandas.concat instead.\n",
      "  df = df.append(datarow, ignore_index=True)\n"
     ]
    },
    {
     "name": "stdout",
     "output_type": "stream",
     "text": [
      "Sundays at 6:00 PM1739 N. High St.Columbus, OHColumbus, OH 43210\n",
      "Sundays 6:00 PM\n",
      "test\n",
      "TEST\n",
      "M & W 7-9PMColumbus, OH 43210\n",
      "W 7 None\n",
      "test\n",
      "TEST\n"
     ]
    },
    {
     "name": "stderr",
     "output_type": "stream",
     "text": [
      "C:\\Users\\lando\\AppData\\Local\\Temp\\ipykernel_34800\\3465631864.py:63: FutureWarning: The frame.append method is deprecated and will be removed from pandas in a future version. Use pandas.concat instead.\n",
      "  df = df.append(datarow, ignore_index=True)\n",
      "C:\\Users\\lando\\AppData\\Local\\Temp\\ipykernel_34800\\3465631864.py:63: FutureWarning: The frame.append method is deprecated and will be removed from pandas in a future version. Use pandas.concat instead.\n",
      "  df = df.append(datarow, ignore_index=True)\n"
     ]
    },
    {
     "name": "stdout",
     "output_type": "stream",
     "text": [
      "Third Wednesday of Each Month2015 Fyffe Rd.Columbus, OH 43210\n",
      "TEST\n"
     ]
    },
    {
     "name": "stderr",
     "output_type": "stream",
     "text": [
      "C:\\Users\\lando\\AppData\\Local\\Temp\\ipykernel_34800\\3465631864.py:63: FutureWarning: The frame.append method is deprecated and will be removed from pandas in a future version. Use pandas.concat instead.\n",
      "  df = df.append(datarow, ignore_index=True)\n"
     ]
    },
    {
     "name": "stdout",
     "output_type": "stream",
     "text": [
      "Columbus, OH 43210\n",
      "TEST\n",
      "First & Third Wednesday of Every Month at 6:00 pm275 West Woodruff Avenue, Columbus , OH, 43210-113Columbus, OH 43210\n",
      "TEST\n"
     ]
    },
    {
     "name": "stderr",
     "output_type": "stream",
     "text": [
      "C:\\Users\\lando\\AppData\\Local\\Temp\\ipykernel_34800\\3465631864.py:63: FutureWarning: The frame.append method is deprecated and will be removed from pandas in a future version. Use pandas.concat instead.\n",
      "  df = df.append(datarow, ignore_index=True)\n",
      "C:\\Users\\lando\\AppData\\Local\\Temp\\ipykernel_34800\\3465631864.py:63: FutureWarning: The frame.append method is deprecated and will be removed from pandas in a future version. Use pandas.concat instead.\n",
      "  df = df.append(datarow, ignore_index=True)\n"
     ]
    },
    {
     "name": "stdout",
     "output_type": "stream",
     "text": [
      "TBDColumbus, OH 43210\n",
      "TEST\n",
      "Tuesdays 6:30-7:301899 N College Rd Columbus, Ohio 43210Columbus, OH 43210\n",
      "Tuesdays 6:30 None\n",
      "test\n",
      "TEST\n"
     ]
    },
    {
     "name": "stderr",
     "output_type": "stream",
     "text": [
      "C:\\Users\\lando\\AppData\\Local\\Temp\\ipykernel_34800\\3465631864.py:63: FutureWarning: The frame.append method is deprecated and will be removed from pandas in a future version. Use pandas.concat instead.\n",
      "  df = df.append(datarow, ignore_index=True)\n",
      "C:\\Users\\lando\\AppData\\Local\\Temp\\ipykernel_34800\\3465631864.py:63: FutureWarning: The frame.append method is deprecated and will be removed from pandas in a future version. Use pandas.concat instead.\n",
      "  df = df.append(datarow, ignore_index=True)\n"
     ]
    },
    {
     "name": "stdout",
     "output_type": "stream",
     "text": [
      "Mondays or Tuesdays from 3:30-4:30 PM230 North Oval MallColumbus, Ohio 43210Columbus, OH 43210\n",
      "TEST\n",
      "Tuesdays @ 11.30450 University Hall230 North Oval Mall, Columbus OH, 43210Columbus, OH 43210\n",
      "Tuesdays 11 None\n",
      "test\n",
      "TEST\n"
     ]
    },
    {
     "name": "stderr",
     "output_type": "stream",
     "text": [
      "C:\\Users\\lando\\AppData\\Local\\Temp\\ipykernel_34800\\3465631864.py:63: FutureWarning: The frame.append method is deprecated and will be removed from pandas in a future version. Use pandas.concat instead.\n",
      "  df = df.append(datarow, ignore_index=True)\n",
      "C:\\Users\\lando\\AppData\\Local\\Temp\\ipykernel_34800\\3465631864.py:63: FutureWarning: The frame.append method is deprecated and will be removed from pandas in a future version. Use pandas.concat instead.\n",
      "  df = df.append(datarow, ignore_index=True)\n"
     ]
    },
    {
     "name": "stdout",
     "output_type": "stream",
     "text": [
      "Columbus, OH 43210\n",
      "TEST\n",
      "Mondays at noon453 West Tenth AvenueColumbus, OH 43210\n",
      "TEST\n"
     ]
    },
    {
     "name": "stderr",
     "output_type": "stream",
     "text": [
      "C:\\Users\\lando\\AppData\\Local\\Temp\\ipykernel_34800\\3465631864.py:63: FutureWarning: The frame.append method is deprecated and will be removed from pandas in a future version. Use pandas.concat instead.\n",
      "  df = df.append(datarow, ignore_index=True)\n",
      "C:\\Users\\lando\\AppData\\Local\\Temp\\ipykernel_34800\\3465631864.py:63: FutureWarning: The frame.append method is deprecated and will be removed from pandas in a future version. Use pandas.concat instead.\n",
      "  df = df.append(datarow, ignore_index=True)\n"
     ]
    },
    {
     "name": "stdout",
     "output_type": "stream",
     "text": [
      "Sundays from 4-6pm and Tuesdays from 8:30-10:30pm337 Annie and John Glenn AveColumbus, OH 43210\n",
      "TEST\n",
      "Friday - 5:30 pm1787 Neil Ave, Columbus, OH 43210Columbus, OH 43210\n",
      "TEST\n"
     ]
    },
    {
     "name": "stderr",
     "output_type": "stream",
     "text": [
      "C:\\Users\\lando\\AppData\\Local\\Temp\\ipykernel_34800\\3465631864.py:63: FutureWarning: The frame.append method is deprecated and will be removed from pandas in a future version. Use pandas.concat instead.\n",
      "  df = df.append(datarow, ignore_index=True)\n",
      "C:\\Users\\lando\\AppData\\Local\\Temp\\ipykernel_34800\\3465631864.py:63: FutureWarning: The frame.append method is deprecated and will be removed from pandas in a future version. Use pandas.concat instead.\n",
      "  df = df.append(datarow, ignore_index=True)\n"
     ]
    },
    {
     "name": "stdout",
     "output_type": "stream",
     "text": [
      "Wednesdays, 8PM2141 Indianola AvenueColumbus, Ohio 43201Columbus, OH 43210\n",
      "Wednesdays 8 PM\n",
      "test\n",
      "TEST\n"
     ]
    },
    {
     "name": "stderr",
     "output_type": "stream",
     "text": [
      "C:\\Users\\lando\\AppData\\Local\\Temp\\ipykernel_34800\\3465631864.py:63: FutureWarning: The frame.append method is deprecated and will be removed from pandas in a future version. Use pandas.concat instead.\n",
      "  df = df.append(datarow, ignore_index=True)\n"
     ]
    },
    {
     "name": "stdout",
     "output_type": "stream",
     "text": [
      "Varies453 W 10th AveColumbus, OH 43210Columbus, OH 43210\n",
      "W 10 None\n",
      "test\n",
      "TEST\n"
     ]
    },
    {
     "name": "stderr",
     "output_type": "stream",
     "text": [
      "C:\\Users\\lando\\AppData\\Local\\Temp\\ipykernel_34800\\3465631864.py:63: FutureWarning: The frame.append method is deprecated and will be removed from pandas in a future version. Use pandas.concat instead.\n",
      "  df = df.append(datarow, ignore_index=True)\n"
     ]
    },
    {
     "name": "stdout",
     "output_type": "stream",
     "text": [
      "Monday 7pm-8:30pmColumbus, OH 43210\n",
      "Monday 7 pm\n",
      "test\n",
      "TEST\n",
      "Variable Meeting Times160 W Woodruff Ave, Columbus, OH 43210Columbus, OH 43210\n",
      "TEST\n"
     ]
    },
    {
     "name": "stderr",
     "output_type": "stream",
     "text": [
      "C:\\Users\\lando\\AppData\\Local\\Temp\\ipykernel_34800\\3465631864.py:63: FutureWarning: The frame.append method is deprecated and will be removed from pandas in a future version. Use pandas.concat instead.\n",
      "  df = df.append(datarow, ignore_index=True)\n",
      "C:\\Users\\lando\\AppData\\Local\\Temp\\ipykernel_34800\\3465631864.py:63: FutureWarning: The frame.append method is deprecated and will be removed from pandas in a future version. Use pandas.concat instead.\n",
      "  df = df.append(datarow, ignore_index=True)\n"
     ]
    },
    {
     "name": "stdout",
     "output_type": "stream",
     "text": [
      "Thursday 6:00pm-7:00pmColumbus, OH 43210\n",
      "Thursday 6:00 pm\n",
      "test\n",
      "TEST\n",
      "Tuesdays, 8:00-9:00Columbus, OH 43210\n",
      "Tuesdays 8:00 None\n",
      "test\n",
      "TEST\n"
     ]
    },
    {
     "name": "stderr",
     "output_type": "stream",
     "text": [
      "C:\\Users\\lando\\AppData\\Local\\Temp\\ipykernel_34800\\3465631864.py:63: FutureWarning: The frame.append method is deprecated and will be removed from pandas in a future version. Use pandas.concat instead.\n",
      "  df = df.append(datarow, ignore_index=True)\n",
      "C:\\Users\\lando\\AppData\\Local\\Temp\\ipykernel_34800\\3465631864.py:63: FutureWarning: The frame.append method is deprecated and will be removed from pandas in a future version. Use pandas.concat instead.\n",
      "  df = df.append(datarow, ignore_index=True)\n"
     ]
    },
    {
     "name": "stdout",
     "output_type": "stream",
     "text": [
      "Mondays at 8:00 pm 154 N Oval Mall Columbus 43210Columbus, OH 43210\n",
      "Mondays 8:00 pm\n",
      "test\n",
      "TEST\n"
     ]
    },
    {
     "name": "stderr",
     "output_type": "stream",
     "text": [
      "C:\\Users\\lando\\AppData\\Local\\Temp\\ipykernel_34800\\3465631864.py:63: FutureWarning: The frame.append method is deprecated and will be removed from pandas in a future version. Use pandas.concat instead.\n",
      "  df = df.append(datarow, ignore_index=True)\n"
     ]
    },
    {
     "name": "stdout",
     "output_type": "stream",
     "text": [
      "Thursdays at 7:00 PM1810 College Rd N, Columbus, OH 43210Columbus, OH 43210\n",
      "Thursdays 7:00 PM\n",
      "test\n",
      "TEST\n",
      "Mon. 4-6PM, Tue. 4-6PM, Wed. 3-6 PM, Thurs. 4-6PMOhio UnionColumbus, OH 43210\n",
      "Mon 4 None\n",
      "test\n",
      "TEST\n"
     ]
    },
    {
     "name": "stderr",
     "output_type": "stream",
     "text": [
      "C:\\Users\\lando\\AppData\\Local\\Temp\\ipykernel_34800\\3465631864.py:63: FutureWarning: The frame.append method is deprecated and will be removed from pandas in a future version. Use pandas.concat instead.\n",
      "  df = df.append(datarow, ignore_index=True)\n",
      "C:\\Users\\lando\\AppData\\Local\\Temp\\ipykernel_34800\\3465631864.py:63: FutureWarning: The frame.append method is deprecated and will be removed from pandas in a future version. Use pandas.concat instead.\n",
      "  df = df.append(datarow, ignore_index=True)\n"
     ]
    },
    {
     "name": "stdout",
     "output_type": "stream",
     "text": [
      "Columbus, OH 43210\n",
      "TEST\n",
      "Every other Friday at 11:30 am305 W. 12th Ave.Columbus, OH 43210Columbus, OH 43210\n",
      "Friday 11:30 am\n",
      "test\n",
      "TEST\n"
     ]
    },
    {
     "name": "stderr",
     "output_type": "stream",
     "text": [
      "C:\\Users\\lando\\AppData\\Local\\Temp\\ipykernel_34800\\3465631864.py:63: FutureWarning: The frame.append method is deprecated and will be removed from pandas in a future version. Use pandas.concat instead.\n",
      "  df = df.append(datarow, ignore_index=True)\n",
      "C:\\Users\\lando\\AppData\\Local\\Temp\\ipykernel_34800\\3465631864.py:63: FutureWarning: The frame.append method is deprecated and will be removed from pandas in a future version. Use pandas.concat instead.\n",
      "  df = df.append(datarow, ignore_index=True)\n"
     ]
    },
    {
     "name": "stdout",
     "output_type": "stream",
     "text": [
      "Thursday, 4:45305 W 12th AveColumbus, OH 43210Columbus, OH 43210\n",
      "Thursday 4:45 None\n",
      "test\n",
      "TEST\n"
     ]
    },
    {
     "name": "stderr",
     "output_type": "stream",
     "text": [
      "C:\\Users\\lando\\AppData\\Local\\Temp\\ipykernel_34800\\3465631864.py:63: FutureWarning: The frame.append method is deprecated and will be removed from pandas in a future version. Use pandas.concat instead.\n",
      "  df = df.append(datarow, ignore_index=True)\n"
     ]
    },
    {
     "name": "stdout",
     "output_type": "stream",
     "text": [
      "Columbus, OH 43210\n",
      "TEST\n",
      "Can be reached anytime via email or direct messageColumbus, OH 43210\n",
      "TEST\n"
     ]
    },
    {
     "name": "stderr",
     "output_type": "stream",
     "text": [
      "C:\\Users\\lando\\AppData\\Local\\Temp\\ipykernel_34800\\3465631864.py:63: FutureWarning: The frame.append method is deprecated and will be removed from pandas in a future version. Use pandas.concat instead.\n",
      "  df = df.append(datarow, ignore_index=True)\n",
      "C:\\Users\\lando\\AppData\\Local\\Temp\\ipykernel_34800\\3465631864.py:63: FutureWarning: The frame.append method is deprecated and will be removed from pandas in a future version. Use pandas.concat instead.\n",
      "  df = df.append(datarow, ignore_index=True)\n"
     ]
    },
    {
     "name": "stdout",
     "output_type": "stream",
     "text": [
      "Columbus, OH 43210\n",
      "TEST\n",
      "Columbus, OH 43210\n",
      "TEST\n"
     ]
    },
    {
     "name": "stderr",
     "output_type": "stream",
     "text": [
      "C:\\Users\\lando\\AppData\\Local\\Temp\\ipykernel_34800\\3465631864.py:63: FutureWarning: The frame.append method is deprecated and will be removed from pandas in a future version. Use pandas.concat instead.\n",
      "  df = df.append(datarow, ignore_index=True)\n",
      "C:\\Users\\lando\\AppData\\Local\\Temp\\ipykernel_34800\\3465631864.py:63: FutureWarning: The frame.append method is deprecated and will be removed from pandas in a future version. Use pandas.concat instead.\n",
      "  df = df.append(datarow, ignore_index=True)\n"
     ]
    },
    {
     "name": "stdout",
     "output_type": "stream",
     "text": [
      "305 W TWELFTH AVEColumbus, OH 43210\n",
      "TEST\n",
      "Once/Month2036 Neil Ave MallColumbus, OH 43210\n",
      "TEST\n"
     ]
    },
    {
     "name": "stderr",
     "output_type": "stream",
     "text": [
      "C:\\Users\\lando\\AppData\\Local\\Temp\\ipykernel_34800\\3465631864.py:63: FutureWarning: The frame.append method is deprecated and will be removed from pandas in a future version. Use pandas.concat instead.\n",
      "  df = df.append(datarow, ignore_index=True)\n",
      "C:\\Users\\lando\\AppData\\Local\\Temp\\ipykernel_34800\\3465631864.py:63: FutureWarning: The frame.append method is deprecated and will be removed from pandas in a future version. Use pandas.concat instead.\n",
      "  df = df.append(datarow, ignore_index=True)\n"
     ]
    },
    {
     "name": "stdout",
     "output_type": "stream",
     "text": [
      "Thursdays 2:30-3:302120 Fyffe RoadColumbus, OH 43210\n",
      "Thursdays 2:30 None\n",
      "test\n",
      "TEST\n",
      "First Wednesday of every month at 5:30pm2027 Coffey RoadColumbus, OH 43210Columbus, OH 43210\n",
      "TEST\n"
     ]
    },
    {
     "name": "stderr",
     "output_type": "stream",
     "text": [
      "C:\\Users\\lando\\AppData\\Local\\Temp\\ipykernel_34800\\3465631864.py:63: FutureWarning: The frame.append method is deprecated and will be removed from pandas in a future version. Use pandas.concat instead.\n",
      "  df = df.append(datarow, ignore_index=True)\n",
      "C:\\Users\\lando\\AppData\\Local\\Temp\\ipykernel_34800\\3465631864.py:63: FutureWarning: The frame.append method is deprecated and will be removed from pandas in a future version. Use pandas.concat instead.\n",
      "  df = df.append(datarow, ignore_index=True)\n"
     ]
    },
    {
     "name": "stdout",
     "output_type": "stream",
     "text": [
      "Sunday Afternoons855 Woody Hayes Drive, Columbus, OH 43210Columbus, OH 43210\n",
      "TEST\n",
      "M-F 4pm-5pmColumbus, OH 43210\n",
      "TEST\n"
     ]
    },
    {
     "name": "stderr",
     "output_type": "stream",
     "text": [
      "C:\\Users\\lando\\AppData\\Local\\Temp\\ipykernel_34800\\3465631864.py:63: FutureWarning: The frame.append method is deprecated and will be removed from pandas in a future version. Use pandas.concat instead.\n",
      "  df = df.append(datarow, ignore_index=True)\n",
      "C:\\Users\\lando\\AppData\\Local\\Temp\\ipykernel_34800\\3465631864.py:63: FutureWarning: The frame.append method is deprecated and will be removed from pandas in a future version. Use pandas.concat instead.\n",
      "  df = df.append(datarow, ignore_index=True)\n"
     ]
    },
    {
     "name": "stdout",
     "output_type": "stream",
     "text": [
      "Second Tuesday of every month, 6:00pm370 West 9th AvenueColumbus, OH 43210\n",
      "TEST\n",
      "Tuesdays, 5:30 PM (subject to change)915 Olentangy River Road, Suite 2000Columbus, OH 43210\n",
      "Tuesdays 5:30 PM\n",
      "test\n",
      "TEST\n"
     ]
    },
    {
     "name": "stderr",
     "output_type": "stream",
     "text": [
      "C:\\Users\\lando\\AppData\\Local\\Temp\\ipykernel_34800\\3465631864.py:63: FutureWarning: The frame.append method is deprecated and will be removed from pandas in a future version. Use pandas.concat instead.\n",
      "  df = df.append(datarow, ignore_index=True)\n",
      "C:\\Users\\lando\\AppData\\Local\\Temp\\ipykernel_34800\\3465631864.py:63: FutureWarning: The frame.append method is deprecated and will be removed from pandas in a future version. Use pandas.concat instead.\n",
      "  df = df.append(datarow, ignore_index=True)\n"
     ]
    },
    {
     "name": "stdout",
     "output_type": "stream",
     "text": [
      "Wednesday at 5 pm333 W 9th AveColumbus, OH 43210Columbus, OH 43210\n",
      "Wednesday 5 pm\n",
      "test\n",
      "TEST\n",
      "Monthly1585 Neil AvenueColumbus, OH 43210\n",
      "TEST\n"
     ]
    },
    {
     "name": "stderr",
     "output_type": "stream",
     "text": [
      "C:\\Users\\lando\\AppData\\Local\\Temp\\ipykernel_34800\\3465631864.py:63: FutureWarning: The frame.append method is deprecated and will be removed from pandas in a future version. Use pandas.concat instead.\n",
      "  df = df.append(datarow, ignore_index=True)\n",
      "C:\\Users\\lando\\AppData\\Local\\Temp\\ipykernel_34800\\3465631864.py:63: FutureWarning: The frame.append method is deprecated and will be removed from pandas in a future version. Use pandas.concat instead.\n",
      "  df = df.append(datarow, ignore_index=True)\n"
     ]
    },
    {
     "name": "stdout",
     "output_type": "stream",
     "text": [
      "TBDColumbus, OH 43210\n",
      "TEST\n",
      "Every other Friday at 11:30am500 West 12th Ave.Columbus, OH 43210Columbus, OH 43210\n",
      "Friday 11:30 am\n",
      "test\n",
      "TEST\n"
     ]
    },
    {
     "name": "stderr",
     "output_type": "stream",
     "text": [
      "C:\\Users\\lando\\AppData\\Local\\Temp\\ipykernel_34800\\3465631864.py:63: FutureWarning: The frame.append method is deprecated and will be removed from pandas in a future version. Use pandas.concat instead.\n",
      "  df = df.append(datarow, ignore_index=True)\n",
      "C:\\Users\\lando\\AppData\\Local\\Temp\\ipykernel_34800\\3465631864.py:63: FutureWarning: The frame.append method is deprecated and will be removed from pandas in a future version. Use pandas.concat instead.\n",
      "  df = df.append(datarow, ignore_index=True)\n"
     ]
    },
    {
     "name": "stdout",
     "output_type": "stream",
     "text": [
      "Every other Wednesday @ 11:30am500 W. 12th AveColumbus, OH 43210\n",
      "Wednesday 11:30 am\n",
      "test\n",
      "TEST\n"
     ]
    },
    {
     "name": "stderr",
     "output_type": "stream",
     "text": [
      "C:\\Users\\lando\\AppData\\Local\\Temp\\ipykernel_34800\\3465631864.py:63: FutureWarning: The frame.append method is deprecated and will be removed from pandas in a future version. Use pandas.concat instead.\n",
      "  df = df.append(datarow, ignore_index=True)\n"
     ]
    },
    {
     "name": "stdout",
     "output_type": "stream",
     "text": [
      "Every other Tuesday at 11:30AM500 W. 12th AvenueColumbus, OH 43210\n",
      "Tuesday 11:30 AM\n",
      "test\n",
      "TEST\n",
      "Thursday, 12PM1900 Coffey RoadColumbus, OH 43210\n",
      "Thursday 12 PM\n",
      "test\n",
      "TEST\n"
     ]
    },
    {
     "name": "stderr",
     "output_type": "stream",
     "text": [
      "C:\\Users\\lando\\AppData\\Local\\Temp\\ipykernel_34800\\3465631864.py:63: FutureWarning: The frame.append method is deprecated and will be removed from pandas in a future version. Use pandas.concat instead.\n",
      "  df = df.append(datarow, ignore_index=True)\n",
      "C:\\Users\\lando\\AppData\\Local\\Temp\\ipykernel_34800\\3465631864.py:63: FutureWarning: The frame.append method is deprecated and will be removed from pandas in a future version. Use pandas.concat instead.\n",
      "  df = df.append(datarow, ignore_index=True)\n"
     ]
    },
    {
     "name": "stdout",
     "output_type": "stream",
     "text": [
      "Columbus, OH 43210\n",
      "TEST\n",
      "Columbus, OH 43210\n",
      "TEST\n"
     ]
    },
    {
     "name": "stderr",
     "output_type": "stream",
     "text": [
      "C:\\Users\\lando\\AppData\\Local\\Temp\\ipykernel_34800\\3465631864.py:63: FutureWarning: The frame.append method is deprecated and will be removed from pandas in a future version. Use pandas.concat instead.\n",
      "  df = df.append(datarow, ignore_index=True)\n",
      "C:\\Users\\lando\\AppData\\Local\\Temp\\ipykernel_34800\\3465631864.py:63: FutureWarning: The frame.append method is deprecated and will be removed from pandas in a future version. Use pandas.concat instead.\n",
      "  df = df.append(datarow, ignore_index=True)\n"
     ]
    },
    {
     "name": "stdout",
     "output_type": "stream",
     "text": [
      "Columbus, OH 43210\n",
      "TEST\n",
      "Wednesdays 7:00 PM1739 N. High St.Columbus, OH 43210\n",
      "Wednesdays 7:00 PM\n",
      "test\n",
      "TEST\n"
     ]
    },
    {
     "name": "stderr",
     "output_type": "stream",
     "text": [
      "C:\\Users\\lando\\AppData\\Local\\Temp\\ipykernel_34800\\3465631864.py:63: FutureWarning: The frame.append method is deprecated and will be removed from pandas in a future version. Use pandas.concat instead.\n",
      "  df = df.append(datarow, ignore_index=True)\n",
      "C:\\Users\\lando\\AppData\\Local\\Temp\\ipykernel_34800\\3465631864.py:63: FutureWarning: The frame.append method is deprecated and will be removed from pandas in a future version. Use pandas.concat instead.\n",
      "  df = df.append(datarow, ignore_index=True)\n"
     ]
    },
    {
     "name": "stdout",
     "output_type": "stream",
     "text": [
      "Every other Thursday at 7:00pm2120 Fyffe RoadColumbus, OH 43210\n",
      "Thursday 7:00 pm\n",
      "test\n",
      "TEST\n",
      "Wednesdays, 7:30pmDerby Hall 154 N Oval MallColumbus, OH 43210Columbus, OH 43210\n",
      "Wednesdays 7:30 pm\n",
      "test\n",
      "TEST\n"
     ]
    },
    {
     "name": "stderr",
     "output_type": "stream",
     "text": [
      "C:\\Users\\lando\\AppData\\Local\\Temp\\ipykernel_34800\\3465631864.py:63: FutureWarning: The frame.append method is deprecated and will be removed from pandas in a future version. Use pandas.concat instead.\n",
      "  df = df.append(datarow, ignore_index=True)\n",
      "C:\\Users\\lando\\AppData\\Local\\Temp\\ipykernel_34800\\3465631864.py:63: FutureWarning: The frame.append method is deprecated and will be removed from pandas in a future version. Use pandas.concat instead.\n",
      "  df = df.append(datarow, ignore_index=True)\n"
     ]
    },
    {
     "name": "stdout",
     "output_type": "stream",
     "text": [
      "Every other Sunday, 6PMColumbus, OH 43210\n",
      "Sunday 6 PM\n",
      "test\n",
      "TEST\n",
      "Every other Thursday2120 Fyffe RoadColumbus, OH  43210Columbus, OH 43210\n",
      "Thursday 2120 None\n",
      "test\n",
      "TEST\n"
     ]
    },
    {
     "name": "stderr",
     "output_type": "stream",
     "text": [
      "C:\\Users\\lando\\AppData\\Local\\Temp\\ipykernel_34800\\3465631864.py:63: FutureWarning: The frame.append method is deprecated and will be removed from pandas in a future version. Use pandas.concat instead.\n",
      "  df = df.append(datarow, ignore_index=True)\n",
      "C:\\Users\\lando\\AppData\\Local\\Temp\\ipykernel_34800\\3465631864.py:63: FutureWarning: The frame.append method is deprecated and will be removed from pandas in a future version. Use pandas.concat instead.\n",
      "  df = df.append(datarow, ignore_index=True)\n"
     ]
    },
    {
     "name": "stdout",
     "output_type": "stream",
     "text": [
      "No consistent meeting timesEmail cbjatosu@gmail.com for more info!Columbus, OH 43210\n",
      "TEST\n",
      "TBAColumbus, OH 43210\n",
      "TEST\n"
     ]
    },
    {
     "name": "stderr",
     "output_type": "stream",
     "text": [
      "C:\\Users\\lando\\AppData\\Local\\Temp\\ipykernel_34800\\3465631864.py:63: FutureWarning: The frame.append method is deprecated and will be removed from pandas in a future version. Use pandas.concat instead.\n",
      "  df = df.append(datarow, ignore_index=True)\n",
      "C:\\Users\\lando\\AppData\\Local\\Temp\\ipykernel_34800\\3465631864.py:63: FutureWarning: The frame.append method is deprecated and will be removed from pandas in a future version. Use pandas.concat instead.\n",
      "  df = df.append(datarow, ignore_index=True)\n"
     ]
    },
    {
     "name": "stdout",
     "output_type": "stream",
     "text": [
      "Thursday at 8 pm1200 W 3rd Ave  Columbus, OH 43212Columbus, OH 43210\n",
      "Thursday 8 pm\n",
      "test\n",
      "TEST\n",
      "Every other Tuesday at 6 PMColumbus, OH 43210\n",
      "Tuesday 6 PM\n",
      "test\n",
      "TEST\n"
     ]
    },
    {
     "name": "stderr",
     "output_type": "stream",
     "text": [
      "C:\\Users\\lando\\AppData\\Local\\Temp\\ipykernel_34800\\3465631864.py:63: FutureWarning: The frame.append method is deprecated and will be removed from pandas in a future version. Use pandas.concat instead.\n",
      "  df = df.append(datarow, ignore_index=True)\n",
      "C:\\Users\\lando\\AppData\\Local\\Temp\\ipykernel_34800\\3465631864.py:63: FutureWarning: The frame.append method is deprecated and will be removed from pandas in a future version. Use pandas.concat instead.\n",
      "  df = df.append(datarow, ignore_index=True)\n"
     ]
    },
    {
     "name": "stdout",
     "output_type": "stream",
     "text": [
      "Tuesdays 7:00pm210 W Woodruff Ave.Columbus, OH 43210\n",
      "Tuesdays 7:00 pm\n",
      "test\n",
      "TEST\n",
      "Columbus, OH 43210\n",
      "TEST\n"
     ]
    },
    {
     "name": "stderr",
     "output_type": "stream",
     "text": [
      "C:\\Users\\lando\\AppData\\Local\\Temp\\ipykernel_34800\\3465631864.py:63: FutureWarning: The frame.append method is deprecated and will be removed from pandas in a future version. Use pandas.concat instead.\n",
      "  df = df.append(datarow, ignore_index=True)\n",
      "C:\\Users\\lando\\AppData\\Local\\Temp\\ipykernel_34800\\3465631864.py:63: FutureWarning: The frame.append method is deprecated and will be removed from pandas in a future version. Use pandas.concat instead.\n",
      "  df = df.append(datarow, ignore_index=True)\n"
     ]
    },
    {
     "name": "stdout",
     "output_type": "stream",
     "text": [
      "Bi-Weekly On Thursday at 5:30 starting 9/8/2022Columbus, OH 43210\n",
      "Thursday 5:30 None\n",
      "test\n",
      "TEST\n",
      "Minimum of two meetings; decided as needed1775 S College RdColumbus, OH 43210\n",
      "TEST\n"
     ]
    },
    {
     "name": "stderr",
     "output_type": "stream",
     "text": [
      "C:\\Users\\lando\\AppData\\Local\\Temp\\ipykernel_34800\\3465631864.py:63: FutureWarning: The frame.append method is deprecated and will be removed from pandas in a future version. Use pandas.concat instead.\n",
      "  df = df.append(datarow, ignore_index=True)\n",
      "C:\\Users\\lando\\AppData\\Local\\Temp\\ipykernel_34800\\3465631864.py:63: FutureWarning: The frame.append method is deprecated and will be removed from pandas in a future version. Use pandas.concat instead.\n",
      "  df = df.append(datarow, ignore_index=True)\n"
     ]
    },
    {
     "name": "stdout",
     "output_type": "stream",
     "text": [
      "451 Hagerty Hall 1775 S. College Rd., Columbus, OHColumbus, OH 43210\n",
      "TEST\n"
     ]
    },
    {
     "name": "stderr",
     "output_type": "stream",
     "text": [
      "C:\\Users\\lando\\AppData\\Local\\Temp\\ipykernel_34800\\3465631864.py:63: FutureWarning: The frame.append method is deprecated and will be removed from pandas in a future version. Use pandas.concat instead.\n",
      "  df = df.append(datarow, ignore_index=True)\n"
     ]
    },
    {
     "name": "stdout",
     "output_type": "stream",
     "text": [
      "Wednesday's 5:30pm - 6:30 PM, Hitchcock Hall 035Columbus, OH 43210\n",
      "TEST\n",
      "2036 Neil AveColumbus, OH 43210\n",
      "TEST\n"
     ]
    },
    {
     "name": "stderr",
     "output_type": "stream",
     "text": [
      "C:\\Users\\lando\\AppData\\Local\\Temp\\ipykernel_34800\\3465631864.py:63: FutureWarning: The frame.append method is deprecated and will be removed from pandas in a future version. Use pandas.concat instead.\n",
      "  df = df.append(datarow, ignore_index=True)\n",
      "C:\\Users\\lando\\AppData\\Local\\Temp\\ipykernel_34800\\3465631864.py:63: FutureWarning: The frame.append method is deprecated and will be removed from pandas in a future version. Use pandas.concat instead.\n",
      "  df = df.append(datarow, ignore_index=True)\n"
     ]
    },
    {
     "name": "stdout",
     "output_type": "stream",
     "text": [
      "Thursdays at 7 PMColumbus, OH 43210\n",
      "Thursdays 7 PM\n",
      "test\n",
      "TEST\n",
      "Columbus, OH 43210\n",
      "TEST\n"
     ]
    },
    {
     "name": "stderr",
     "output_type": "stream",
     "text": [
      "C:\\Users\\lando\\AppData\\Local\\Temp\\ipykernel_34800\\3465631864.py:63: FutureWarning: The frame.append method is deprecated and will be removed from pandas in a future version. Use pandas.concat instead.\n",
      "  df = df.append(datarow, ignore_index=True)\n",
      "C:\\Users\\lando\\AppData\\Local\\Temp\\ipykernel_34800\\3465631864.py:63: FutureWarning: The frame.append method is deprecated and will be removed from pandas in a future version. Use pandas.concat instead.\n",
      "  df = df.append(datarow, ignore_index=True)\n"
     ]
    },
    {
     "name": "stdout",
     "output_type": "stream",
     "text": [
      "Wednesdays at 6 pm590 Woody Hayes DriveColumbus, OH 43210\n",
      "Wednesdays 6 pm\n",
      "test\n",
      "TEST\n",
      "Once per month, date and time is variable.338 West 10th AvenueColumbus, OH 43210Columbus, OH 43210\n",
      "TEST\n"
     ]
    },
    {
     "name": "stderr",
     "output_type": "stream",
     "text": [
      "C:\\Users\\lando\\AppData\\Local\\Temp\\ipykernel_34800\\3465631864.py:63: FutureWarning: The frame.append method is deprecated and will be removed from pandas in a future version. Use pandas.concat instead.\n",
      "  df = df.append(datarow, ignore_index=True)\n",
      "C:\\Users\\lando\\AppData\\Local\\Temp\\ipykernel_34800\\3465631864.py:63: FutureWarning: The frame.append method is deprecated and will be removed from pandas in a future version. Use pandas.concat instead.\n",
      "  df = df.append(datarow, ignore_index=True)\n"
     ]
    },
    {
     "name": "stdout",
     "output_type": "stream",
     "text": [
      "Mondays 5:30-6:30pmColumbus, OH 43210\n",
      "Mondays 5:30 None\n",
      "test\n",
      "TEST\n",
      "Tuesdays 7:30Columbus, OH 43210\n",
      "Tuesdays 7:30 None\n",
      "test\n",
      "TEST\n"
     ]
    },
    {
     "name": "stderr",
     "output_type": "stream",
     "text": [
      "C:\\Users\\lando\\AppData\\Local\\Temp\\ipykernel_34800\\3465631864.py:63: FutureWarning: The frame.append method is deprecated and will be removed from pandas in a future version. Use pandas.concat instead.\n",
      "  df = df.append(datarow, ignore_index=True)\n",
      "C:\\Users\\lando\\AppData\\Local\\Temp\\ipykernel_34800\\3465631864.py:63: FutureWarning: The frame.append method is deprecated and will be removed from pandas in a future version. Use pandas.concat instead.\n",
      "  df = df.append(datarow, ignore_index=True)\n"
     ]
    },
    {
     "name": "stdout",
     "output_type": "stream",
     "text": [
      "TBATBAColumbus, OH 43210\n",
      "TEST\n",
      "Tuesday @ 7pm2108 Neil AveColumbus, OH 43210\n",
      "Tuesday 7 pm\n",
      "test\n",
      "TEST\n"
     ]
    },
    {
     "name": "stderr",
     "output_type": "stream",
     "text": [
      "C:\\Users\\lando\\AppData\\Local\\Temp\\ipykernel_34800\\3465631864.py:63: FutureWarning: The frame.append method is deprecated and will be removed from pandas in a future version. Use pandas.concat instead.\n",
      "  df = df.append(datarow, ignore_index=True)\n",
      "C:\\Users\\lando\\AppData\\Local\\Temp\\ipykernel_34800\\3465631864.py:63: FutureWarning: The frame.append method is deprecated and will be removed from pandas in a future version. Use pandas.concat instead.\n",
      "  df = df.append(datarow, ignore_index=True)\n"
     ]
    },
    {
     "name": "stdout",
     "output_type": "stream",
     "text": [
      "Monthly; Fridays @ 3:30-5:30Columbus, OH 43210\n",
      "Fridays 3:30 None\n",
      "test\n",
      "TEST\n",
      "First Thursday of the Month2015 Neil aveColumbus, OH 43210\n",
      "TEST\n"
     ]
    },
    {
     "name": "stderr",
     "output_type": "stream",
     "text": [
      "C:\\Users\\lando\\AppData\\Local\\Temp\\ipykernel_34800\\3465631864.py:63: FutureWarning: The frame.append method is deprecated and will be removed from pandas in a future version. Use pandas.concat instead.\n",
      "  df = df.append(datarow, ignore_index=True)\n",
      "C:\\Users\\lando\\AppData\\Local\\Temp\\ipykernel_34800\\3465631864.py:63: FutureWarning: The frame.append method is deprecated and will be removed from pandas in a future version. Use pandas.concat instead.\n",
      "  df = df.append(datarow, ignore_index=True)\n"
     ]
    },
    {
     "name": "stdout",
     "output_type": "stream",
     "text": [
      "Monday 5 pm080 Derby Hall254 N Oval MallColumbus, OH 43210\n",
      "Monday 5 pm\n",
      "test\n",
      "TEST\n",
      "305 Annie and John Glenn Ave.Columbus, OH 43210\n",
      "TEST\n"
     ]
    },
    {
     "name": "stderr",
     "output_type": "stream",
     "text": [
      "C:\\Users\\lando\\AppData\\Local\\Temp\\ipykernel_34800\\3465631864.py:63: FutureWarning: The frame.append method is deprecated and will be removed from pandas in a future version. Use pandas.concat instead.\n",
      "  df = df.append(datarow, ignore_index=True)\n",
      "C:\\Users\\lando\\AppData\\Local\\Temp\\ipykernel_34800\\3465631864.py:63: FutureWarning: The frame.append method is deprecated and will be removed from pandas in a future version. Use pandas.concat instead.\n",
      "  df = df.append(datarow, ignore_index=True)\n"
     ]
    },
    {
     "name": "stdout",
     "output_type": "stream",
     "text": [
      "MondaysColumbus, OH 43210\n",
      "TEST\n"
     ]
    },
    {
     "name": "stderr",
     "output_type": "stream",
     "text": [
      "C:\\Users\\lando\\AppData\\Local\\Temp\\ipykernel_34800\\3465631864.py:63: FutureWarning: The frame.append method is deprecated and will be removed from pandas in a future version. Use pandas.concat instead.\n",
      "  df = df.append(datarow, ignore_index=True)\n"
     ]
    },
    {
     "name": "stdout",
     "output_type": "stream",
     "text": [
      "Every Thursday at 6:30 pm, via ZoomColumbus, OH 43210\n",
      "Thursday 6:30 pm\n",
      "test\n",
      "TEST\n",
      "Mondays 7pmColumbus, OH 43210\n",
      "Mondays 7 pm\n",
      "test\n",
      "TEST\n"
     ]
    },
    {
     "name": "stderr",
     "output_type": "stream",
     "text": [
      "C:\\Users\\lando\\AppData\\Local\\Temp\\ipykernel_34800\\3465631864.py:63: FutureWarning: The frame.append method is deprecated and will be removed from pandas in a future version. Use pandas.concat instead.\n",
      "  df = df.append(datarow, ignore_index=True)\n",
      "C:\\Users\\lando\\AppData\\Local\\Temp\\ipykernel_34800\\3465631864.py:63: FutureWarning: The frame.append method is deprecated and will be removed from pandas in a future version. Use pandas.concat instead.\n",
      "  df = df.append(datarow, ignore_index=True)\n"
     ]
    },
    {
     "name": "stdout",
     "output_type": "stream",
     "text": [
      "Thursdays at 5:30-6:30PM. Email for specific info1739 N High StColumbus, OH 43210\n",
      "Thursdays 5:30 None\n",
      "test\n",
      "TEST\n",
      "Every 2nd and 4th  Wednesday of the month at 7pm2021 Coffey RdColumbus, OH 43210\n",
      "TEST\n"
     ]
    },
    {
     "name": "stderr",
     "output_type": "stream",
     "text": [
      "C:\\Users\\lando\\AppData\\Local\\Temp\\ipykernel_34800\\3465631864.py:63: FutureWarning: The frame.append method is deprecated and will be removed from pandas in a future version. Use pandas.concat instead.\n",
      "  df = df.append(datarow, ignore_index=True)\n",
      "C:\\Users\\lando\\AppData\\Local\\Temp\\ipykernel_34800\\3465631864.py:63: FutureWarning: The frame.append method is deprecated and will be removed from pandas in a future version. Use pandas.concat instead.\n",
      "  df = df.append(datarow, ignore_index=True)\n"
     ]
    },
    {
     "name": "stdout",
     "output_type": "stream",
     "text": [
      "Wednesday 7:00-8:00 PM1615 Irvin Schottenstein DriveColumbus, OH 43210\n",
      "Wednesday 7:00 None\n",
      "test\n",
      "TEST\n",
      "Sunday 12:00 PM1970 Waldeck AveColumbus, OH 43201Columbus, OH 43210\n",
      "Sunday 12:00 PM\n",
      "test\n",
      "TEST\n"
     ]
    },
    {
     "name": "stderr",
     "output_type": "stream",
     "text": [
      "C:\\Users\\lando\\AppData\\Local\\Temp\\ipykernel_34800\\3465631864.py:63: FutureWarning: The frame.append method is deprecated and will be removed from pandas in a future version. Use pandas.concat instead.\n",
      "  df = df.append(datarow, ignore_index=True)\n",
      "C:\\Users\\lando\\AppData\\Local\\Temp\\ipykernel_34800\\3465631864.py:63: FutureWarning: The frame.append method is deprecated and will be removed from pandas in a future version. Use pandas.concat instead.\n",
      "  df = df.append(datarow, ignore_index=True)\n"
     ]
    },
    {
     "name": "stdout",
     "output_type": "stream",
     "text": [
      "Thursday, 8 PM2070 Neil Ave, Columbus, OH 43210Columbus, OH 43210\n",
      "Thursday 8 PM\n",
      "test\n",
      "TEST\n",
      "Wednesday at 8Columbus, OH 43210\n",
      "Wednesday 8 None\n",
      "test\n",
      "TEST\n"
     ]
    },
    {
     "name": "stderr",
     "output_type": "stream",
     "text": [
      "C:\\Users\\lando\\AppData\\Local\\Temp\\ipykernel_34800\\3465631864.py:63: FutureWarning: The frame.append method is deprecated and will be removed from pandas in a future version. Use pandas.concat instead.\n",
      "  df = df.append(datarow, ignore_index=True)\n",
      "C:\\Users\\lando\\AppData\\Local\\Temp\\ipykernel_34800\\3465631864.py:63: FutureWarning: The frame.append method is deprecated and will be removed from pandas in a future version. Use pandas.concat instead.\n",
      "  df = df.append(datarow, ignore_index=True)\n"
     ]
    },
    {
     "name": "stdout",
     "output_type": "stream",
     "text": [
      "Mondays at 8PMN/AColumbus, OH 43210\n",
      "Mondays 8 PM\n",
      "test\n",
      "TEST\n",
      "TBA108 N Oval MallHayes HallColumbus, OH 43210\n",
      "TEST\n"
     ]
    },
    {
     "name": "stderr",
     "output_type": "stream",
     "text": [
      "C:\\Users\\lando\\AppData\\Local\\Temp\\ipykernel_34800\\3465631864.py:63: FutureWarning: The frame.append method is deprecated and will be removed from pandas in a future version. Use pandas.concat instead.\n",
      "  df = df.append(datarow, ignore_index=True)\n",
      "C:\\Users\\lando\\AppData\\Local\\Temp\\ipykernel_34800\\3465631864.py:63: FutureWarning: The frame.append method is deprecated and will be removed from pandas in a future version. Use pandas.concat instead.\n",
      "  df = df.append(datarow, ignore_index=True)\n"
     ]
    },
    {
     "name": "stdout",
     "output_type": "stream",
     "text": [
      "Columbus, OH 43210\n",
      "TEST\n",
      "Saturday2108 Neil Ave, Columbus, OH 43210Columbus, OH 43210\n",
      "Saturday 2108 None\n",
      "test\n",
      "TEST\n"
     ]
    },
    {
     "name": "stderr",
     "output_type": "stream",
     "text": [
      "C:\\Users\\lando\\AppData\\Local\\Temp\\ipykernel_34800\\3465631864.py:63: FutureWarning: The frame.append method is deprecated and will be removed from pandas in a future version. Use pandas.concat instead.\n",
      "  df = df.append(datarow, ignore_index=True)\n",
      "C:\\Users\\lando\\AppData\\Local\\Temp\\ipykernel_34800\\3465631864.py:63: FutureWarning: The frame.append method is deprecated and will be removed from pandas in a future version. Use pandas.concat instead.\n",
      "  df = df.append(datarow, ignore_index=True)\n"
     ]
    },
    {
     "name": "stdout",
     "output_type": "stream",
     "text": [
      "VirtualColumbus, OH 43210\n",
      "TEST\n"
     ]
    },
    {
     "name": "stderr",
     "output_type": "stream",
     "text": [
      "C:\\Users\\lando\\AppData\\Local\\Temp\\ipykernel_34800\\3465631864.py:63: FutureWarning: The frame.append method is deprecated and will be removed from pandas in a future version. Use pandas.concat instead.\n",
      "  df = df.append(datarow, ignore_index=True)\n"
     ]
    },
    {
     "name": "stdout",
     "output_type": "stream",
     "text": [
      "Monthly2120 Fyffe Rd.Columbus, OH 43210Columbus, OH 43210\n",
      "TEST\n"
     ]
    },
    {
     "name": "stderr",
     "output_type": "stream",
     "text": [
      "C:\\Users\\lando\\AppData\\Local\\Temp\\ipykernel_34800\\3465631864.py:63: FutureWarning: The frame.append method is deprecated and will be removed from pandas in a future version. Use pandas.concat instead.\n",
      "  df = df.append(datarow, ignore_index=True)\n"
     ]
    },
    {
     "name": "stdout",
     "output_type": "stream",
     "text": [
      "Columbus, OH 43210\n",
      "TEST\n"
     ]
    },
    {
     "name": "stderr",
     "output_type": "stream",
     "text": [
      "C:\\Users\\lando\\AppData\\Local\\Temp\\ipykernel_34800\\3465631864.py:63: FutureWarning: The frame.append method is deprecated and will be removed from pandas in a future version. Use pandas.concat instead.\n",
      "  df = df.append(datarow, ignore_index=True)\n"
     ]
    },
    {
     "name": "stdout",
     "output_type": "stream",
     "text": [
      "Friday 11:30am500 West 12th Ave. Columbus, OH 43210Columbus, OH 43210\n",
      "Friday 11:30 am\n",
      "test\n",
      "TEST\n",
      "Columbus, OH 43210\n",
      "TEST\n"
     ]
    },
    {
     "name": "stderr",
     "output_type": "stream",
     "text": [
      "C:\\Users\\lando\\AppData\\Local\\Temp\\ipykernel_34800\\3465631864.py:63: FutureWarning: The frame.append method is deprecated and will be removed from pandas in a future version. Use pandas.concat instead.\n",
      "  df = df.append(datarow, ignore_index=True)\n",
      "C:\\Users\\lando\\AppData\\Local\\Temp\\ipykernel_34800\\3465631864.py:63: FutureWarning: The frame.append method is deprecated and will be removed from pandas in a future version. Use pandas.concat instead.\n",
      "  df = df.append(datarow, ignore_index=True)\n"
     ]
    },
    {
     "name": "stdout",
     "output_type": "stream",
     "text": [
      "Varies1900 Coffey Rd.Columbus, OH 43210Columbus, OH 43210\n",
      "TEST\n"
     ]
    },
    {
     "name": "stderr",
     "output_type": "stream",
     "text": [
      "C:\\Users\\lando\\AppData\\Local\\Temp\\ipykernel_34800\\3465631864.py:63: FutureWarning: The frame.append method is deprecated and will be removed from pandas in a future version. Use pandas.concat instead.\n",
      "  df = df.append(datarow, ignore_index=True)\n"
     ]
    },
    {
     "name": "stdout",
     "output_type": "stream",
     "text": [
      "Monday - 11:00 am1900 Coffey RdColumbus, OH 43210Columbus, OH 43210\n",
      "TEST\n"
     ]
    },
    {
     "name": "stderr",
     "output_type": "stream",
     "text": [
      "C:\\Users\\lando\\AppData\\Local\\Temp\\ipykernel_34800\\3465631864.py:63: FutureWarning: The frame.append method is deprecated and will be removed from pandas in a future version. Use pandas.concat instead.\n",
      "  df = df.append(datarow, ignore_index=True)\n"
     ]
    },
    {
     "name": "stdout",
     "output_type": "stream",
     "text": [
      "Tuesdays 7-8pmSubscribe to our mailing listhttps://mailinglist.osucyber.clubColumbus, OH 43210\n",
      "Tuesdays 7 None\n",
      "test\n",
      "TEST\n"
     ]
    },
    {
     "name": "stderr",
     "output_type": "stream",
     "text": [
      "C:\\Users\\lando\\AppData\\Local\\Temp\\ipykernel_34800\\3465631864.py:63: FutureWarning: The frame.append method is deprecated and will be removed from pandas in a future version. Use pandas.concat instead.\n",
      "  df = df.append(datarow, ignore_index=True)\n"
     ]
    },
    {
     "name": "stdout",
     "output_type": "stream",
     "text": [
      "Sundays 6-7pmColumbus, OH 43210\n",
      "Sundays 6 None\n",
      "test\n",
      "TEST\n"
     ]
    },
    {
     "name": "stderr",
     "output_type": "stream",
     "text": [
      "C:\\Users\\lando\\AppData\\Local\\Temp\\ipykernel_34800\\3465631864.py:63: FutureWarning: The frame.append method is deprecated and will be removed from pandas in a future version. Use pandas.concat instead.\n",
      "  df = df.append(datarow, ignore_index=True)\n"
     ]
    },
    {
     "name": "stdout",
     "output_type": "stream",
     "text": [
      "Sunday & Thursday1739 North High Street337 Annie and John Glenn AveColumbus, OH 43210\n",
      "Thursday 1739 None\n",
      "test\n",
      "TEST\n"
     ]
    },
    {
     "name": "stderr",
     "output_type": "stream",
     "text": [
      "C:\\Users\\lando\\AppData\\Local\\Temp\\ipykernel_34800\\3465631864.py:63: FutureWarning: The frame.append method is deprecated and will be removed from pandas in a future version. Use pandas.concat instead.\n",
      "  df = df.append(datarow, ignore_index=True)\n",
      "C:\\Users\\lando\\AppData\\Local\\Temp\\ipykernel_34800\\3465631864.py:63: FutureWarning: The frame.append method is deprecated and will be removed from pandas in a future version. Use pandas.concat instead.\n",
      "  df = df.append(datarow, ignore_index=True)\n"
     ]
    },
    {
     "name": "stdout",
     "output_type": "stream",
     "text": [
      "TBATBAColumbus, OH 43210\n",
      "TEST\n",
      "Sunday1739 N High St  Columbus, OH 43210Columbus, OH 43210\n",
      "Sunday 1739 None\n",
      "test\n",
      "TEST\n",
      "Fridays 7:30 P.M., Sundays 12:30 P.M.Ohio UnionColumbus, OH 43210\n",
      "Fridays 7:30 None\n",
      "test\n",
      "TEST\n"
     ]
    },
    {
     "name": "stderr",
     "output_type": "stream",
     "text": [
      "C:\\Users\\lando\\AppData\\Local\\Temp\\ipykernel_34800\\3465631864.py:63: FutureWarning: The frame.append method is deprecated and will be removed from pandas in a future version. Use pandas.concat instead.\n",
      "  df = df.append(datarow, ignore_index=True)\n",
      "C:\\Users\\lando\\AppData\\Local\\Temp\\ipykernel_34800\\3465631864.py:63: FutureWarning: The frame.append method is deprecated and will be removed from pandas in a future version. Use pandas.concat instead.\n",
      "  df = df.append(datarow, ignore_index=True)\n",
      "C:\\Users\\lando\\AppData\\Local\\Temp\\ipykernel_34800\\3465631864.py:63: FutureWarning: The frame.append method is deprecated and will be removed from pandas in a future version. Use pandas.concat instead.\n",
      "  df = df.append(datarow, ignore_index=True)\n"
     ]
    },
    {
     "name": "stdout",
     "output_type": "stream",
     "text": [
      "Wednesdays at 12:00 pm1813 High St. Columbus OH 43210Columbus, OH 43210\n",
      "Wednesdays 12:00 pm\n",
      "test\n",
      "TEST\n",
      "Sundays 1-4, Mondays and Thursdays 8:30-10:30RPACColumbus, OH 43210Columbus, OH 43210\n",
      "Sundays 1 None\n",
      "test\n",
      "TEST\n"
     ]
    },
    {
     "name": "stderr",
     "output_type": "stream",
     "text": [
      "C:\\Users\\lando\\AppData\\Local\\Temp\\ipykernel_34800\\3465631864.py:63: FutureWarning: The frame.append method is deprecated and will be removed from pandas in a future version. Use pandas.concat instead.\n",
      "  df = df.append(datarow, ignore_index=True)\n"
     ]
    },
    {
     "name": "stdout",
     "output_type": "stream",
     "text": [
      "Mondays & Thursdays at 8:30pm, Sundays at 2:00pmOSU CampusColumbus, OH 43210\n",
      "Thursdays 8:30 pm\n",
      "test\n",
      "TEST\n",
      "1st and 3rd Thursday of every month at 4:00 PMColumbus, OH 43210\n",
      "TEST\n"
     ]
    },
    {
     "name": "stderr",
     "output_type": "stream",
     "text": [
      "C:\\Users\\lando\\AppData\\Local\\Temp\\ipykernel_34800\\3465631864.py:63: FutureWarning: The frame.append method is deprecated and will be removed from pandas in a future version. Use pandas.concat instead.\n",
      "  df = df.append(datarow, ignore_index=True)\n",
      "C:\\Users\\lando\\AppData\\Local\\Temp\\ipykernel_34800\\3465631864.py:63: FutureWarning: The frame.append method is deprecated and will be removed from pandas in a future version. Use pandas.concat instead.\n",
      "  df = df.append(datarow, ignore_index=True)\n"
     ]
    },
    {
     "name": "stdout",
     "output_type": "stream",
     "text": [
      "Every Tuesday, 11:30 am to 1 pmTBDTBDColumbus, OH 43210\n",
      "Tuesday 11:30 am\n",
      "test\n",
      "TEST\n",
      "Every other Monday 7:30-8:30 pm ETTBAColumbus, OH 43210\n",
      "Monday 7:30 None\n",
      "test\n",
      "TEST\n"
     ]
    },
    {
     "name": "stderr",
     "output_type": "stream",
     "text": [
      "C:\\Users\\lando\\AppData\\Local\\Temp\\ipykernel_34800\\3465631864.py:63: FutureWarning: The frame.append method is deprecated and will be removed from pandas in a future version. Use pandas.concat instead.\n",
      "  df = df.append(datarow, ignore_index=True)\n",
      "C:\\Users\\lando\\AppData\\Local\\Temp\\ipykernel_34800\\3465631864.py:63: FutureWarning: The frame.append method is deprecated and will be removed from pandas in a future version. Use pandas.concat instead.\n",
      "  df = df.append(datarow, ignore_index=True)\n"
     ]
    },
    {
     "name": "stdout",
     "output_type": "stream",
     "text": [
      "Fridays 2pm-3:301835 Neil AvenueColumbus, OH 43210\n",
      "Fridays 2 pm\n",
      "test\n",
      "TEST\n",
      "Columbus, OH 43210\n",
      "TEST\n"
     ]
    },
    {
     "name": "stderr",
     "output_type": "stream",
     "text": [
      "C:\\Users\\lando\\AppData\\Local\\Temp\\ipykernel_34800\\3465631864.py:63: FutureWarning: The frame.append method is deprecated and will be removed from pandas in a future version. Use pandas.concat instead.\n",
      "  df = df.append(datarow, ignore_index=True)\n",
      "C:\\Users\\lando\\AppData\\Local\\Temp\\ipykernel_34800\\3465631864.py:63: FutureWarning: The frame.append method is deprecated and will be removed from pandas in a future version. Use pandas.concat instead.\n",
      "  df = df.append(datarow, ignore_index=True)\n"
     ]
    },
    {
     "name": "stdout",
     "output_type": "stream",
     "text": [
      "6:00-8:00 on Monday eveningsColumbus, OH 43210\n",
      "TEST\n",
      "Monday - 7:00 p.m.191 E 15th Ave. Columbus, Ohio 43201Columbus, OH 43210\n",
      "TEST\n"
     ]
    },
    {
     "name": "stderr",
     "output_type": "stream",
     "text": [
      "C:\\Users\\lando\\AppData\\Local\\Temp\\ipykernel_34800\\3465631864.py:63: FutureWarning: The frame.append method is deprecated and will be removed from pandas in a future version. Use pandas.concat instead.\n",
      "  df = df.append(datarow, ignore_index=True)\n",
      "C:\\Users\\lando\\AppData\\Local\\Temp\\ipykernel_34800\\3465631864.py:63: FutureWarning: The frame.append method is deprecated and will be removed from pandas in a future version. Use pandas.concat instead.\n",
      "  df = df.append(datarow, ignore_index=True)\n"
     ]
    },
    {
     "name": "stdout",
     "output_type": "stream",
     "text": [
      "Mondays 6:15 PM131 E 15th Ave.Columbus, OH 43210\n",
      "Mondays 6:15 PM\n",
      "test\n",
      "TEST\n",
      "Columbus, OH 43210\n",
      "TEST\n"
     ]
    },
    {
     "name": "stderr",
     "output_type": "stream",
     "text": [
      "C:\\Users\\lando\\AppData\\Local\\Temp\\ipykernel_34800\\3465631864.py:63: FutureWarning: The frame.append method is deprecated and will be removed from pandas in a future version. Use pandas.concat instead.\n",
      "  df = df.append(datarow, ignore_index=True)\n",
      "C:\\Users\\lando\\AppData\\Local\\Temp\\ipykernel_34800\\3465631864.py:63: FutureWarning: The frame.append method is deprecated and will be removed from pandas in a future version. Use pandas.concat instead.\n",
      "  df = df.append(datarow, ignore_index=True)\n"
     ]
    },
    {
     "name": "stdout",
     "output_type": "stream",
     "text": [
      "Monday @ 8:00pm1965 Indianola AvenueColumbus, OH 43210\n",
      "Monday 8:00 pm\n",
      "test\n",
      "TEST\n",
      "Monday 7:30 PMColumbus, OH 43210\n",
      "Monday 7:30 PM\n",
      "test\n",
      "TEST\n"
     ]
    },
    {
     "name": "stderr",
     "output_type": "stream",
     "text": [
      "C:\\Users\\lando\\AppData\\Local\\Temp\\ipykernel_34800\\3465631864.py:63: FutureWarning: The frame.append method is deprecated and will be removed from pandas in a future version. Use pandas.concat instead.\n",
      "  df = df.append(datarow, ignore_index=True)\n",
      "C:\\Users\\lando\\AppData\\Local\\Temp\\ipykernel_34800\\3465631864.py:63: FutureWarning: The frame.append method is deprecated and will be removed from pandas in a future version. Use pandas.concat instead.\n",
      "  df = df.append(datarow, ignore_index=True)\n"
     ]
    },
    {
     "name": "stdout",
     "output_type": "stream",
     "text": [
      "Columbus, OH 43210\n",
      "TEST\n"
     ]
    },
    {
     "name": "stderr",
     "output_type": "stream",
     "text": [
      "C:\\Users\\lando\\AppData\\Local\\Temp\\ipykernel_34800\\3465631864.py:63: FutureWarning: The frame.append method is deprecated and will be removed from pandas in a future version. Use pandas.concat instead.\n",
      "  df = df.append(datarow, ignore_index=True)\n"
     ]
    },
    {
     "name": "stdout",
     "output_type": "stream",
     "text": [
      "2nd Wednesday evening of the month at needed1543 Neil AveColumbus, OH 43201Columbus, OH 43210\n",
      "TEST\n",
      "Monday 7:00pm1952 Iuka AvenueColumbus, OH 43210\n",
      "Monday 7:00 pm\n",
      "test\n",
      "TEST\n"
     ]
    },
    {
     "name": "stderr",
     "output_type": "stream",
     "text": [
      "C:\\Users\\lando\\AppData\\Local\\Temp\\ipykernel_34800\\3465631864.py:63: FutureWarning: The frame.append method is deprecated and will be removed from pandas in a future version. Use pandas.concat instead.\n",
      "  df = df.append(datarow, ignore_index=True)\n",
      "C:\\Users\\lando\\AppData\\Local\\Temp\\ipykernel_34800\\3465631864.py:63: FutureWarning: The frame.append method is deprecated and will be removed from pandas in a future version. Use pandas.concat instead.\n",
      "  df = df.append(datarow, ignore_index=True)\n"
     ]
    },
    {
     "name": "stdout",
     "output_type": "stream",
     "text": [
      "Thursdays 7:30 PMHitchcock Hall2070 Neil Ave, Columbus, OHColumbus, OH 43210\n",
      "Thursdays 7:30 PM\n",
      "test\n",
      "TEST\n",
      "2nd Sundays  8:30 am1739 N. High StColumbus, OH 43210\n",
      "Sundays 8:30 am\n",
      "test\n",
      "TEST\n"
     ]
    },
    {
     "name": "stderr",
     "output_type": "stream",
     "text": [
      "C:\\Users\\lando\\AppData\\Local\\Temp\\ipykernel_34800\\3465631864.py:63: FutureWarning: The frame.append method is deprecated and will be removed from pandas in a future version. Use pandas.concat instead.\n",
      "  df = df.append(datarow, ignore_index=True)\n",
      "C:\\Users\\lando\\AppData\\Local\\Temp\\ipykernel_34800\\3465631864.py:63: FutureWarning: The frame.append method is deprecated and will be removed from pandas in a future version. Use pandas.concat instead.\n",
      "  df = df.append(datarow, ignore_index=True)\n"
     ]
    },
    {
     "name": "stdout",
     "output_type": "stream",
     "text": [
      "Mondays, 6:30 PM67 E 15th AvenueColumbus, OH 43210\n",
      "Mondays 6:30 PM\n",
      "test\n",
      "TEST\n",
      "Mondays    7:00pm80 East 13th Ave. Columbus, OHColumbus, OH 43210\n",
      "Mondays 7:00 pm\n",
      "test\n",
      "TEST\n"
     ]
    },
    {
     "name": "stderr",
     "output_type": "stream",
     "text": [
      "C:\\Users\\lando\\AppData\\Local\\Temp\\ipykernel_34800\\3465631864.py:63: FutureWarning: The frame.append method is deprecated and will be removed from pandas in a future version. Use pandas.concat instead.\n",
      "  df = df.append(datarow, ignore_index=True)\n",
      "C:\\Users\\lando\\AppData\\Local\\Temp\\ipykernel_34800\\3465631864.py:63: FutureWarning: The frame.append method is deprecated and will be removed from pandas in a future version. Use pandas.concat instead.\n",
      "  df = df.append(datarow, ignore_index=True)\n"
     ]
    },
    {
     "name": "stdout",
     "output_type": "stream",
     "text": [
      "Mondays at 7PMColumbus, OH 43210\n",
      "Mondays 7 PM\n",
      "test\n",
      "TEST\n",
      "Columbus, OH 43210\n",
      "TEST\n"
     ]
    },
    {
     "name": "stderr",
     "output_type": "stream",
     "text": [
      "C:\\Users\\lando\\AppData\\Local\\Temp\\ipykernel_34800\\3465631864.py:63: FutureWarning: The frame.append method is deprecated and will be removed from pandas in a future version. Use pandas.concat instead.\n",
      "  df = df.append(datarow, ignore_index=True)\n",
      "C:\\Users\\lando\\AppData\\Local\\Temp\\ipykernel_34800\\3465631864.py:63: FutureWarning: The frame.append method is deprecated and will be removed from pandas in a future version. Use pandas.concat instead.\n",
      "  df = df.append(datarow, ignore_index=True)\n"
     ]
    },
    {
     "name": "stdout",
     "output_type": "stream",
     "text": [
      "Third Thursday, 11:45 AM-12:20PM305 W 12th Ave, Columbus, OH 43210Columbus, OH 43210\n",
      "Thursday 11:45 AM\n",
      "test\n",
      "TEST\n",
      "First week of the semester at 4:30pm305 W 12th AveColumbus, OH 43210\n",
      "W 12 None\n",
      "test\n",
      "TEST\n"
     ]
    },
    {
     "name": "stderr",
     "output_type": "stream",
     "text": [
      "C:\\Users\\lando\\AppData\\Local\\Temp\\ipykernel_34800\\3465631864.py:63: FutureWarning: The frame.append method is deprecated and will be removed from pandas in a future version. Use pandas.concat instead.\n",
      "  df = df.append(datarow, ignore_index=True)\n",
      "C:\\Users\\lando\\AppData\\Local\\Temp\\ipykernel_34800\\3465631864.py:63: FutureWarning: The frame.append method is deprecated and will be removed from pandas in a future version. Use pandas.concat instead.\n",
      "  df = df.append(datarow, ignore_index=True)\n"
     ]
    },
    {
     "name": "stdout",
     "output_type": "stream",
     "text": [
      "1st of Month 12pm305 West 12th Ave Columbus Ohio, 43210Columbus, OH 43210\n",
      "TEST\n",
      "Columbus, OH 43210Columbus, OH 43210\n",
      "TEST\n"
     ]
    },
    {
     "name": "stderr",
     "output_type": "stream",
     "text": [
      "C:\\Users\\lando\\AppData\\Local\\Temp\\ipykernel_34800\\3465631864.py:63: FutureWarning: The frame.append method is deprecated and will be removed from pandas in a future version. Use pandas.concat instead.\n",
      "  df = df.append(datarow, ignore_index=True)\n",
      "C:\\Users\\lando\\AppData\\Local\\Temp\\ipykernel_34800\\3465631864.py:63: FutureWarning: The frame.append method is deprecated and will be removed from pandas in a future version. Use pandas.concat instead.\n",
      "  df = df.append(datarow, ignore_index=True)\n"
     ]
    },
    {
     "name": "stdout",
     "output_type": "stream",
     "text": [
      "Friday 12pm-1pm155 Meiling HallColumbus, OH 43210\n",
      "Friday 12 pm\n",
      "test\n",
      "TEST\n",
      "Fridays: 5:00 PM - 6:00 PMColumbus, OH 43210\n",
      "TEST\n"
     ]
    },
    {
     "name": "stderr",
     "output_type": "stream",
     "text": [
      "C:\\Users\\lando\\AppData\\Local\\Temp\\ipykernel_34800\\3465631864.py:63: FutureWarning: The frame.append method is deprecated and will be removed from pandas in a future version. Use pandas.concat instead.\n",
      "  df = df.append(datarow, ignore_index=True)\n",
      "C:\\Users\\lando\\AppData\\Local\\Temp\\ipykernel_34800\\3465631864.py:63: FutureWarning: The frame.append method is deprecated and will be removed from pandas in a future version. Use pandas.concat instead.\n",
      "  df = df.append(datarow, ignore_index=True)\n"
     ]
    },
    {
     "name": "stdout",
     "output_type": "stream",
     "text": [
      "Thursdays @ 5:30 PMColumbus, OH 43210\n",
      "Thursdays 5:30 PM\n",
      "test\n",
      "TEST\n",
      "Monday, 8:00-9:10pm1787 Neil Ave Columbus OH 43210Columbus, OH 43210\n",
      "Monday 8:00 None\n",
      "test\n",
      "TEST\n"
     ]
    },
    {
     "name": "stderr",
     "output_type": "stream",
     "text": [
      "C:\\Users\\lando\\AppData\\Local\\Temp\\ipykernel_34800\\3465631864.py:63: FutureWarning: The frame.append method is deprecated and will be removed from pandas in a future version. Use pandas.concat instead.\n",
      "  df = df.append(datarow, ignore_index=True)\n",
      "C:\\Users\\lando\\AppData\\Local\\Temp\\ipykernel_34800\\3465631864.py:63: FutureWarning: The frame.append method is deprecated and will be removed from pandas in a future version. Use pandas.concat instead.\n",
      "  df = df.append(datarow, ignore_index=True)\n"
     ]
    },
    {
     "name": "stdout",
     "output_type": "stream",
     "text": [
      "Wednesdays 6:00pm2036 Neil Ave, Columbus, OH 43210Columbus, OH 43210\n",
      "Wednesdays 6:00 pm\n",
      "test\n",
      "TEST\n"
     ]
    },
    {
     "name": "stderr",
     "output_type": "stream",
     "text": [
      "C:\\Users\\lando\\AppData\\Local\\Temp\\ipykernel_34800\\3465631864.py:63: FutureWarning: The frame.append method is deprecated and will be removed from pandas in a future version. Use pandas.concat instead.\n",
      "  df = df.append(datarow, ignore_index=True)\n"
     ]
    },
    {
     "name": "stdout",
     "output_type": "stream",
     "text": [
      "Monday 8pm1739 North High StreetColumbus, OH 43210\n",
      "Monday 8 pm\n",
      "test\n",
      "TEST\n",
      "MonthlyColumbus, OH 43210\n",
      "TEST\n"
     ]
    },
    {
     "name": "stderr",
     "output_type": "stream",
     "text": [
      "C:\\Users\\lando\\AppData\\Local\\Temp\\ipykernel_34800\\3465631864.py:63: FutureWarning: The frame.append method is deprecated and will be removed from pandas in a future version. Use pandas.concat instead.\n",
      "  df = df.append(datarow, ignore_index=True)\n",
      "C:\\Users\\lando\\AppData\\Local\\Temp\\ipykernel_34800\\3465631864.py:63: FutureWarning: The frame.append method is deprecated and will be removed from pandas in a future version. Use pandas.concat instead.\n",
      "  df = df.append(datarow, ignore_index=True)\n"
     ]
    },
    {
     "name": "stdout",
     "output_type": "stream",
     "text": [
      "TBA333 W 10th AveColumbus, OH 43210Columbus, OH 43210\n",
      "W 10 None\n",
      "test\n",
      "TEST\n",
      "Varies, approximately once a monthColumbus, OH 43210\n",
      "TEST\n"
     ]
    },
    {
     "name": "stderr",
     "output_type": "stream",
     "text": [
      "C:\\Users\\lando\\AppData\\Local\\Temp\\ipykernel_34800\\3465631864.py:63: FutureWarning: The frame.append method is deprecated and will be removed from pandas in a future version. Use pandas.concat instead.\n",
      "  df = df.append(datarow, ignore_index=True)\n",
      "C:\\Users\\lando\\AppData\\Local\\Temp\\ipykernel_34800\\3465631864.py:63: FutureWarning: The frame.append method is deprecated and will be removed from pandas in a future version. Use pandas.concat instead.\n",
      "  df = df.append(datarow, ignore_index=True)\n"
     ]
    },
    {
     "name": "stdout",
     "output_type": "stream",
     "text": [
      "once per monthColumbus, OH 43210\n",
      "TEST\n",
      "Email kline.474@osu.edu for meeting info1031 Carmack RdColumbus, OH 43210-1001Columbus, OH 43210\n",
      "TEST\n"
     ]
    },
    {
     "name": "stderr",
     "output_type": "stream",
     "text": [
      "C:\\Users\\lando\\AppData\\Local\\Temp\\ipykernel_34800\\3465631864.py:63: FutureWarning: The frame.append method is deprecated and will be removed from pandas in a future version. Use pandas.concat instead.\n",
      "  df = df.append(datarow, ignore_index=True)\n",
      "C:\\Users\\lando\\AppData\\Local\\Temp\\ipykernel_34800\\3465631864.py:63: FutureWarning: The frame.append method is deprecated and will be removed from pandas in a future version. Use pandas.concat instead.\n",
      "  df = df.append(datarow, ignore_index=True)\n"
     ]
    },
    {
     "name": "stdout",
     "output_type": "stream",
     "text": [
      "Su: 10-12 AM Tu: 7-9pm W: 7-9pm Th: 7-9pm7949 Worthington Galena Rd, Columbus OH, 43085Columbus, OH 43210\n",
      "TEST\n",
      "Columbus, OH 43210\n",
      "TEST\n"
     ]
    },
    {
     "name": "stderr",
     "output_type": "stream",
     "text": [
      "C:\\Users\\lando\\AppData\\Local\\Temp\\ipykernel_34800\\3465631864.py:63: FutureWarning: The frame.append method is deprecated and will be removed from pandas in a future version. Use pandas.concat instead.\n",
      "  df = df.append(datarow, ignore_index=True)\n",
      "C:\\Users\\lando\\AppData\\Local\\Temp\\ipykernel_34800\\3465631864.py:63: FutureWarning: The frame.append method is deprecated and will be removed from pandas in a future version. Use pandas.concat instead.\n",
      "  df = df.append(datarow, ignore_index=True)\n"
     ]
    },
    {
     "name": "stdout",
     "output_type": "stream",
     "text": [
      "Columbus, OH 43210\n",
      "TEST\n",
      "Columbus, OH 43210\n",
      "TEST\n"
     ]
    },
    {
     "name": "stderr",
     "output_type": "stream",
     "text": [
      "C:\\Users\\lando\\AppData\\Local\\Temp\\ipykernel_34800\\3465631864.py:63: FutureWarning: The frame.append method is deprecated and will be removed from pandas in a future version. Use pandas.concat instead.\n",
      "  df = df.append(datarow, ignore_index=True)\n",
      "C:\\Users\\lando\\AppData\\Local\\Temp\\ipykernel_34800\\3465631864.py:63: FutureWarning: The frame.append method is deprecated and will be removed from pandas in a future version. Use pandas.concat instead.\n",
      "  df = df.append(datarow, ignore_index=True)\n"
     ]
    },
    {
     "name": "stdout",
     "output_type": "stream",
     "text": [
      "Monthly338 W 10th AveColumbus, OH 43210\n",
      "W 10 None\n",
      "test\n",
      "TEST\n",
      "To be determined370 W 9th AveColumbus, OH 43210\n",
      "W 9 None\n",
      "test\n",
      "TEST\n"
     ]
    },
    {
     "name": "stderr",
     "output_type": "stream",
     "text": [
      "C:\\Users\\lando\\AppData\\Local\\Temp\\ipykernel_34800\\3465631864.py:63: FutureWarning: The frame.append method is deprecated and will be removed from pandas in a future version. Use pandas.concat instead.\n",
      "  df = df.append(datarow, ignore_index=True)\n",
      "C:\\Users\\lando\\AppData\\Local\\Temp\\ipykernel_34800\\3465631864.py:63: FutureWarning: The frame.append method is deprecated and will be removed from pandas in a future version. Use pandas.concat instead.\n",
      "  df = df.append(datarow, ignore_index=True)\n"
     ]
    },
    {
     "name": "stdout",
     "output_type": "stream",
     "text": [
      "varies1947 College RdColumbus, OH 43210\n",
      "TEST\n",
      "453 W. 10th Ave. Columbus, OH 43210Columbus, OH 43210\n",
      "W 10 None\n",
      "test\n",
      "TEST\n"
     ]
    },
    {
     "name": "stderr",
     "output_type": "stream",
     "text": [
      "C:\\Users\\lando\\AppData\\Local\\Temp\\ipykernel_34800\\3465631864.py:63: FutureWarning: The frame.append method is deprecated and will be removed from pandas in a future version. Use pandas.concat instead.\n",
      "  df = df.append(datarow, ignore_index=True)\n",
      "C:\\Users\\lando\\AppData\\Local\\Temp\\ipykernel_34800\\3465631864.py:63: FutureWarning: The frame.append method is deprecated and will be removed from pandas in a future version. Use pandas.concat instead.\n",
      "  df = df.append(datarow, ignore_index=True)\n"
     ]
    },
    {
     "name": "stdout",
     "output_type": "stream",
     "text": [
      "Every other Wednesday at 6:30-7:30Columbus, OH 43210\n",
      "Wednesday 6:30 None\n",
      "test\n",
      "TEST\n",
      "First Tuesday of every month via zoom at 8pmColumbus, OH 43210\n",
      "TEST\n"
     ]
    },
    {
     "name": "stderr",
     "output_type": "stream",
     "text": [
      "C:\\Users\\lando\\AppData\\Local\\Temp\\ipykernel_34800\\3465631864.py:63: FutureWarning: The frame.append method is deprecated and will be removed from pandas in a future version. Use pandas.concat instead.\n",
      "  df = df.append(datarow, ignore_index=True)\n",
      "C:\\Users\\lando\\AppData\\Local\\Temp\\ipykernel_34800\\3465631864.py:63: FutureWarning: The frame.append method is deprecated and will be removed from pandas in a future version. Use pandas.concat instead.\n",
      "  df = df.append(datarow, ignore_index=True)\n"
     ]
    },
    {
     "name": "stdout",
     "output_type": "stream",
     "text": [
      "Every other Wednesday at 7:30 PM590 Woody Hayes DrColumbus, OH 43210\n",
      "Wednesday 7:30 PM\n",
      "test\n",
      "TEST\n"
     ]
    },
    {
     "name": "stderr",
     "output_type": "stream",
     "text": [
      "C:\\Users\\lando\\AppData\\Local\\Temp\\ipykernel_34800\\3465631864.py:63: FutureWarning: The frame.append method is deprecated and will be removed from pandas in a future version. Use pandas.concat instead.\n",
      "  df = df.append(datarow, ignore_index=True)\n"
     ]
    },
    {
     "name": "stdout",
     "output_type": "stream",
     "text": [
      "14:00 Each Saturday1739 N. High StreetColumbus, OH 43210\n",
      "Saturday 1739 None\n",
      "test\n",
      "TEST\n",
      "Announced by e-mail ask Team Leader930 Kinnear Rd.Columbus, OH 43212Columbus, OH 43210\n",
      "TEST\n"
     ]
    },
    {
     "name": "stderr",
     "output_type": "stream",
     "text": [
      "C:\\Users\\lando\\AppData\\Local\\Temp\\ipykernel_34800\\3465631864.py:63: FutureWarning: The frame.append method is deprecated and will be removed from pandas in a future version. Use pandas.concat instead.\n",
      "  df = df.append(datarow, ignore_index=True)\n",
      "C:\\Users\\lando\\AppData\\Local\\Temp\\ipykernel_34800\\3465631864.py:63: FutureWarning: The frame.append method is deprecated and will be removed from pandas in a future version. Use pandas.concat instead.\n",
      "  df = df.append(datarow, ignore_index=True)\n"
     ]
    },
    {
     "name": "stdout",
     "output_type": "stream",
     "text": [
      "Pending590 Woody HayesColumbus, OH 43210\n",
      "TEST\n",
      "As necessary1945 N High StColumbus, OH 43210\n",
      "TEST\n"
     ]
    },
    {
     "name": "stderr",
     "output_type": "stream",
     "text": [
      "C:\\Users\\lando\\AppData\\Local\\Temp\\ipykernel_34800\\3465631864.py:63: FutureWarning: The frame.append method is deprecated and will be removed from pandas in a future version. Use pandas.concat instead.\n",
      "  df = df.append(datarow, ignore_index=True)\n",
      "C:\\Users\\lando\\AppData\\Local\\Temp\\ipykernel_34800\\3465631864.py:63: FutureWarning: The frame.append method is deprecated and will be removed from pandas in a future version. Use pandas.concat instead.\n",
      "  df = df.append(datarow, ignore_index=True)\n"
     ]
    },
    {
     "name": "stdout",
     "output_type": "stream",
     "text": [
      "Columbus, OH 43210\n",
      "TEST\n",
      "Columbus, OH 43210\n",
      "TEST\n"
     ]
    },
    {
     "name": "stderr",
     "output_type": "stream",
     "text": [
      "C:\\Users\\lando\\AppData\\Local\\Temp\\ipykernel_34800\\3465631864.py:63: FutureWarning: The frame.append method is deprecated and will be removed from pandas in a future version. Use pandas.concat instead.\n",
      "  df = df.append(datarow, ignore_index=True)\n",
      "C:\\Users\\lando\\AppData\\Local\\Temp\\ipykernel_34800\\3465631864.py:63: FutureWarning: The frame.append method is deprecated and will be removed from pandas in a future version. Use pandas.concat instead.\n",
      "  df = df.append(datarow, ignore_index=True)\n"
     ]
    },
    {
     "name": "stdout",
     "output_type": "stream",
     "text": [
      "Columbus, OH 43210\n",
      "TEST\n"
     ]
    },
    {
     "name": "stderr",
     "output_type": "stream",
     "text": [
      "C:\\Users\\lando\\AppData\\Local\\Temp\\ipykernel_34800\\3465631864.py:63: FutureWarning: The frame.append method is deprecated and will be removed from pandas in a future version. Use pandas.concat instead.\n",
      "  df = df.append(datarow, ignore_index=True)\n"
     ]
    },
    {
     "name": "stdout",
     "output_type": "stream",
     "text": [
      "Every other Monday @ 7pm2024 Neil Ave, Columbus, OH 43210Columbus, OH 43210\n",
      "Monday 7 pm\n",
      "test\n",
      "TEST\n",
      "Columbus, OH 43210\n",
      "TEST\n"
     ]
    },
    {
     "name": "stderr",
     "output_type": "stream",
     "text": [
      "C:\\Users\\lando\\AppData\\Local\\Temp\\ipykernel_34800\\3465631864.py:63: FutureWarning: The frame.append method is deprecated and will be removed from pandas in a future version. Use pandas.concat instead.\n",
      "  df = df.append(datarow, ignore_index=True)\n",
      "C:\\Users\\lando\\AppData\\Local\\Temp\\ipykernel_34800\\3465631864.py:63: FutureWarning: The frame.append method is deprecated and will be removed from pandas in a future version. Use pandas.concat instead.\n",
      "  df = df.append(datarow, ignore_index=True)\n"
     ]
    },
    {
     "name": "stdout",
     "output_type": "stream",
     "text": [
      "Monthly370 West 9th AveColumbus, OH 43210\n",
      "TEST\n",
      "Columbus, OH 43210\n",
      "TEST\n"
     ]
    },
    {
     "name": "stderr",
     "output_type": "stream",
     "text": [
      "C:\\Users\\lando\\AppData\\Local\\Temp\\ipykernel_34800\\3465631864.py:63: FutureWarning: The frame.append method is deprecated and will be removed from pandas in a future version. Use pandas.concat instead.\n",
      "  df = df.append(datarow, ignore_index=True)\n",
      "C:\\Users\\lando\\AppData\\Local\\Temp\\ipykernel_34800\\3465631864.py:63: FutureWarning: The frame.append method is deprecated and will be removed from pandas in a future version. Use pandas.concat instead.\n",
      "  df = df.append(datarow, ignore_index=True)\n"
     ]
    },
    {
     "name": "stdout",
     "output_type": "stream",
     "text": [
      "Monday, 4pm or 5:30pmPlease email kopcienski.2@osu.edu for location.Columbus, OH 43210\n",
      "Monday 4 pm\n",
      "test\n",
      "TEST\n"
     ]
    },
    {
     "name": "stderr",
     "output_type": "stream",
     "text": [
      "C:\\Users\\lando\\AppData\\Local\\Temp\\ipykernel_34800\\3465631864.py:63: FutureWarning: The frame.append method is deprecated and will be removed from pandas in a future version. Use pandas.concat instead.\n",
      "  df = df.append(datarow, ignore_index=True)\n"
     ]
    },
    {
     "name": "stdout",
     "output_type": "stream",
     "text": [
      "Mondays, 7 p.m.-8 p.m.Columbus, OH 43210\n",
      "Mondays 7 None\n",
      "test\n",
      "TEST\n"
     ]
    },
    {
     "name": "stderr",
     "output_type": "stream",
     "text": [
      "C:\\Users\\lando\\AppData\\Local\\Temp\\ipykernel_34800\\3465631864.py:63: FutureWarning: The frame.append method is deprecated and will be removed from pandas in a future version. Use pandas.concat instead.\n",
      "  df = df.append(datarow, ignore_index=True)\n"
     ]
    },
    {
     "name": "stdout",
     "output_type": "stream",
     "text": [
      "1st and 3rd Tuesday of the month at 7pmColumbus, OH 43210\n",
      "TEST\n"
     ]
    },
    {
     "name": "stderr",
     "output_type": "stream",
     "text": [
      "C:\\Users\\lando\\AppData\\Local\\Temp\\ipykernel_34800\\3465631864.py:63: FutureWarning: The frame.append method is deprecated and will be removed from pandas in a future version. Use pandas.concat instead.\n",
      "  df = df.append(datarow, ignore_index=True)\n"
     ]
    },
    {
     "name": "stdout",
     "output_type": "stream",
     "text": [
      "Columbus, OH 43210\n",
      "TEST\n"
     ]
    },
    {
     "name": "stderr",
     "output_type": "stream",
     "text": [
      "C:\\Users\\lando\\AppData\\Local\\Temp\\ipykernel_34800\\3465631864.py:63: FutureWarning: The frame.append method is deprecated and will be removed from pandas in a future version. Use pandas.concat instead.\n",
      "  df = df.append(datarow, ignore_index=True)\n"
     ]
    },
    {
     "name": "stdout",
     "output_type": "stream",
     "text": [
      "Wednesday 7-8pm1841 Neil Ave. Columbus, OH 43210Columbus, OH 43210\n",
      "Wednesday 7 None\n",
      "test\n",
      "TEST\n"
     ]
    },
    {
     "name": "stderr",
     "output_type": "stream",
     "text": [
      "C:\\Users\\lando\\AppData\\Local\\Temp\\ipykernel_34800\\3465631864.py:63: FutureWarning: The frame.append method is deprecated and will be removed from pandas in a future version. Use pandas.concat instead.\n",
      "  df = df.append(datarow, ignore_index=True)\n"
     ]
    },
    {
     "name": "stdout",
     "output_type": "stream",
     "text": [
      "Friday 11:45 AM305 W 12th AveColumbus, OH 43210Columbus, OH 43210\n",
      "Friday 11:45 AM\n",
      "test\n",
      "TEST\n",
      "First Monday of every month, 5:00 pm55 West 12th AvenueColumbus, OH 43210\n",
      "TEST\n"
     ]
    },
    {
     "name": "stderr",
     "output_type": "stream",
     "text": [
      "C:\\Users\\lando\\AppData\\Local\\Temp\\ipykernel_34800\\3465631864.py:63: FutureWarning: The frame.append method is deprecated and will be removed from pandas in a future version. Use pandas.concat instead.\n",
      "  df = df.append(datarow, ignore_index=True)\n",
      "C:\\Users\\lando\\AppData\\Local\\Temp\\ipykernel_34800\\3465631864.py:63: FutureWarning: The frame.append method is deprecated and will be removed from pandas in a future version. Use pandas.concat instead.\n",
      "  df = df.append(datarow, ignore_index=True)\n"
     ]
    },
    {
     "name": "stdout",
     "output_type": "stream",
     "text": [
      "Tuesdays @7pmColumbus, OH 43210\n",
      "Tuesdays 7 pm\n",
      "test\n",
      "TEST\n"
     ]
    },
    {
     "name": "stderr",
     "output_type": "stream",
     "text": [
      "C:\\Users\\lando\\AppData\\Local\\Temp\\ipykernel_34800\\3465631864.py:63: FutureWarning: The frame.append method is deprecated and will be removed from pandas in a future version. Use pandas.concat instead.\n",
      "  df = df.append(datarow, ignore_index=True)\n"
     ]
    },
    {
     "name": "stdout",
     "output_type": "stream",
     "text": [
      "Biweekly Tuesday EveningsColumbus, OH 43210\n",
      "TEST\n",
      "Contact President, Project Meeting Times VaryColumbus, OH 43210\n",
      "TEST\n"
     ]
    },
    {
     "name": "stderr",
     "output_type": "stream",
     "text": [
      "C:\\Users\\lando\\AppData\\Local\\Temp\\ipykernel_34800\\3465631864.py:63: FutureWarning: The frame.append method is deprecated and will be removed from pandas in a future version. Use pandas.concat instead.\n",
      "  df = df.append(datarow, ignore_index=True)\n",
      "C:\\Users\\lando\\AppData\\Local\\Temp\\ipykernel_34800\\3465631864.py:63: FutureWarning: The frame.append method is deprecated and will be removed from pandas in a future version. Use pandas.concat instead.\n",
      "  df = df.append(datarow, ignore_index=True)\n"
     ]
    },
    {
     "name": "stdout",
     "output_type": "stream",
     "text": [
      "Three times Weekly TBD1760 Neil Ave Building 067, Columbus, OH 43210Columbus, OH 43210\n",
      "TEST\n",
      "Alternating Thursdays at 7:00 p.m.1923 Neil Ave MallColumbus, OH 43210Columbus, OH 43210\n",
      "Thursdays 7:00 None\n",
      "test\n",
      "TEST\n"
     ]
    },
    {
     "name": "stderr",
     "output_type": "stream",
     "text": [
      "C:\\Users\\lando\\AppData\\Local\\Temp\\ipykernel_34800\\3465631864.py:63: FutureWarning: The frame.append method is deprecated and will be removed from pandas in a future version. Use pandas.concat instead.\n",
      "  df = df.append(datarow, ignore_index=True)\n",
      "C:\\Users\\lando\\AppData\\Local\\Temp\\ipykernel_34800\\3465631864.py:63: FutureWarning: The frame.append method is deprecated and will be removed from pandas in a future version. Use pandas.concat instead.\n",
      "  df = df.append(datarow, ignore_index=True)\n"
     ]
    },
    {
     "name": "stdout",
     "output_type": "stream",
     "text": [
      "Quarterly, and As Needed164 Annie and John Glenn AvenueColumbus, OH 43210\n",
      "TEST\n",
      "Every other Wednesday at 6:30 pm164 W Annie & John Glenn AvenueColumbus, OH 43210\n",
      "Wednesday 6:30 pm\n",
      "test\n",
      "TEST\n"
     ]
    },
    {
     "name": "stderr",
     "output_type": "stream",
     "text": [
      "C:\\Users\\lando\\AppData\\Local\\Temp\\ipykernel_34800\\3465631864.py:63: FutureWarning: The frame.append method is deprecated and will be removed from pandas in a future version. Use pandas.concat instead.\n",
      "  df = df.append(datarow, ignore_index=True)\n",
      "C:\\Users\\lando\\AppData\\Local\\Temp\\ipykernel_34800\\3465631864.py:63: FutureWarning: The frame.append method is deprecated and will be removed from pandas in a future version. Use pandas.concat instead.\n",
      "  df = df.append(datarow, ignore_index=True)\n"
     ]
    },
    {
     "name": "stdout",
     "output_type": "stream",
     "text": [
      "Wednesday, 6:00pmColumbus, OH 43210\n",
      "Wednesday 6:00 pm\n",
      "test\n",
      "TEST\n"
     ]
    },
    {
     "name": "stderr",
     "output_type": "stream",
     "text": [
      "C:\\Users\\lando\\AppData\\Local\\Temp\\ipykernel_34800\\3465631864.py:63: FutureWarning: The frame.append method is deprecated and will be removed from pandas in a future version. Use pandas.concat instead.\n",
      "  df = df.append(datarow, ignore_index=True)\n"
     ]
    },
    {
     "name": "stdout",
     "output_type": "stream",
     "text": [
      "Thursday 6:00pm370 W 9th Ave Columbus, OH 43210Columbus, OH 43210\n",
      "Thursday 6:00 pm\n",
      "test\n",
      "TEST\n",
      "Notified via email2001 Fyffe Rd Columbus, OH 43210Thorne Hall, 1680 Madison Ave, Wooster, OH 44691Columbus, OH 43210\n",
      "TEST\n"
     ]
    },
    {
     "name": "stderr",
     "output_type": "stream",
     "text": [
      "C:\\Users\\lando\\AppData\\Local\\Temp\\ipykernel_34800\\3465631864.py:63: FutureWarning: The frame.append method is deprecated and will be removed from pandas in a future version. Use pandas.concat instead.\n",
      "  df = df.append(datarow, ignore_index=True)\n",
      "C:\\Users\\lando\\AppData\\Local\\Temp\\ipykernel_34800\\3465631864.py:63: FutureWarning: The frame.append method is deprecated and will be removed from pandas in a future version. Use pandas.concat instead.\n",
      "  df = df.append(datarow, ignore_index=True)\n"
     ]
    },
    {
     "name": "stdout",
     "output_type": "stream",
     "text": [
      "Fridays from 3pm to 4pm (as needed)174 West 18th AvenueColumbus, OH 43210\n",
      "TEST\n",
      "Wednesdays at 7 pmColumbus, OH 43210\n",
      "Wednesdays 7 pm\n",
      "test\n",
      "TEST\n"
     ]
    },
    {
     "name": "stderr",
     "output_type": "stream",
     "text": [
      "C:\\Users\\lando\\AppData\\Local\\Temp\\ipykernel_34800\\3465631864.py:63: FutureWarning: The frame.append method is deprecated and will be removed from pandas in a future version. Use pandas.concat instead.\n",
      "  df = df.append(datarow, ignore_index=True)\n",
      "C:\\Users\\lando\\AppData\\Local\\Temp\\ipykernel_34800\\3465631864.py:63: FutureWarning: The frame.append method is deprecated and will be removed from pandas in a future version. Use pandas.concat instead.\n",
      "  df = df.append(datarow, ignore_index=True)\n"
     ]
    },
    {
     "name": "stdout",
     "output_type": "stream",
     "text": [
      "4th Monday of each MonthColumbus, OH 43210\n",
      "TEST\n",
      "One time per Semester275 E 15th AveColumbus, OH 43210\n",
      "TEST\n"
     ]
    },
    {
     "name": "stderr",
     "output_type": "stream",
     "text": [
      "C:\\Users\\lando\\AppData\\Local\\Temp\\ipykernel_34800\\3465631864.py:63: FutureWarning: The frame.append method is deprecated and will be removed from pandas in a future version. Use pandas.concat instead.\n",
      "  df = df.append(datarow, ignore_index=True)\n",
      "C:\\Users\\lando\\AppData\\Local\\Temp\\ipykernel_34800\\3465631864.py:63: FutureWarning: The frame.append method is deprecated and will be removed from pandas in a future version. Use pandas.concat instead.\n",
      "  df = df.append(datarow, ignore_index=True)\n"
     ]
    },
    {
     "name": "stdout",
     "output_type": "stream",
     "text": [
      "Tuesdays at 7:30PO Box #3323 Columbus, OH 43210Columbus, OH 43210\n",
      "Tuesdays 7:30 None\n",
      "test\n",
      "TEST\n",
      "Fridays, 6pm (Biweekly)154 W. 12th AveColumbus, OH 43210Columbus, OH 43210\n",
      "Fridays 6 pm\n",
      "test\n",
      "TEST\n"
     ]
    },
    {
     "name": "stderr",
     "output_type": "stream",
     "text": [
      "C:\\Users\\lando\\AppData\\Local\\Temp\\ipykernel_34800\\3465631864.py:63: FutureWarning: The frame.append method is deprecated and will be removed from pandas in a future version. Use pandas.concat instead.\n",
      "  df = df.append(datarow, ignore_index=True)\n",
      "C:\\Users\\lando\\AppData\\Local\\Temp\\ipykernel_34800\\3465631864.py:63: FutureWarning: The frame.append method is deprecated and will be removed from pandas in a future version. Use pandas.concat instead.\n",
      "  df = df.append(datarow, ignore_index=True)\n"
     ]
    },
    {
     "name": "stdout",
     "output_type": "stream",
     "text": [
      "Wednesdays - 1:00pm2015 Neil AveColumbus, OH 43210\n",
      "TEST\n"
     ]
    },
    {
     "name": "stderr",
     "output_type": "stream",
     "text": [
      "C:\\Users\\lando\\AppData\\Local\\Temp\\ipykernel_34800\\3465631864.py:63: FutureWarning: The frame.append method is deprecated and will be removed from pandas in a future version. Use pandas.concat instead.\n",
      "  df = df.append(datarow, ignore_index=True)\n"
     ]
    },
    {
     "name": "stdout",
     "output_type": "stream",
     "text": [
      "Columbus, OH 43210\n",
      "TEST\n",
      "Monday, 6:30 p.m.1739 N. High Street, Columbus, Ohio 43210Columbus, OH 43210\n",
      "Monday 6:30 None\n",
      "test\n",
      "TEST\n"
     ]
    },
    {
     "name": "stderr",
     "output_type": "stream",
     "text": [
      "C:\\Users\\lando\\AppData\\Local\\Temp\\ipykernel_34800\\3465631864.py:63: FutureWarning: The frame.append method is deprecated and will be removed from pandas in a future version. Use pandas.concat instead.\n",
      "  df = df.append(datarow, ignore_index=True)\n",
      "C:\\Users\\lando\\AppData\\Local\\Temp\\ipykernel_34800\\3465631864.py:63: FutureWarning: The frame.append method is deprecated and will be removed from pandas in a future version. Use pandas.concat instead.\n",
      "  df = df.append(datarow, ignore_index=True)\n"
     ]
    },
    {
     "name": "stdout",
     "output_type": "stream",
     "text": [
      "Every other Wednesday @ 7 pmColumbus, OH 43210\n",
      "Wednesday 7 pm\n",
      "test\n",
      "TEST\n",
      "Bi-weekly on Wednesday's 6:30 to 7:30 PMColumbus, OH 43210\n",
      "TEST\n"
     ]
    },
    {
     "name": "stderr",
     "output_type": "stream",
     "text": [
      "C:\\Users\\lando\\AppData\\Local\\Temp\\ipykernel_34800\\3465631864.py:63: FutureWarning: The frame.append method is deprecated and will be removed from pandas in a future version. Use pandas.concat instead.\n",
      "  df = df.append(datarow, ignore_index=True)\n",
      "C:\\Users\\lando\\AppData\\Local\\Temp\\ipykernel_34800\\3465631864.py:63: FutureWarning: The frame.append method is deprecated and will be removed from pandas in a future version. Use pandas.concat instead.\n",
      "  df = df.append(datarow, ignore_index=True)\n"
     ]
    },
    {
     "name": "stdout",
     "output_type": "stream",
     "text": [
      "Tuesdays, Wednesdays, or Thursdays at 7pmColumbus, OH 43210\n",
      "Thursdays 7 pm\n",
      "test\n",
      "TEST\n",
      "Every Other Thursday (two per month) at 7:30pm305 Annie and John Glenn AvenueColumbus, OH 43210\n",
      "TEST\n"
     ]
    },
    {
     "name": "stderr",
     "output_type": "stream",
     "text": [
      "C:\\Users\\lando\\AppData\\Local\\Temp\\ipykernel_34800\\3465631864.py:63: FutureWarning: The frame.append method is deprecated and will be removed from pandas in a future version. Use pandas.concat instead.\n",
      "  df = df.append(datarow, ignore_index=True)\n",
      "C:\\Users\\lando\\AppData\\Local\\Temp\\ipykernel_34800\\3465631864.py:63: FutureWarning: The frame.append method is deprecated and will be removed from pandas in a future version. Use pandas.concat instead.\n",
      "  df = df.append(datarow, ignore_index=True)\n"
     ]
    },
    {
     "name": "stdout",
     "output_type": "stream",
     "text": [
      "Columbus, OH 43210\n",
      "TEST\n"
     ]
    },
    {
     "name": "stderr",
     "output_type": "stream",
     "text": [
      "C:\\Users\\lando\\AppData\\Local\\Temp\\ipykernel_34800\\3465631864.py:63: FutureWarning: The frame.append method is deprecated and will be removed from pandas in a future version. Use pandas.concat instead.\n",
      "  df = df.append(datarow, ignore_index=True)\n"
     ]
    },
    {
     "name": "stdout",
     "output_type": "stream",
     "text": [
      "Columbus, OH 43210\n",
      "TEST\n"
     ]
    },
    {
     "name": "stderr",
     "output_type": "stream",
     "text": [
      "C:\\Users\\lando\\AppData\\Local\\Temp\\ipykernel_34800\\3465631864.py:63: FutureWarning: The frame.append method is deprecated and will be removed from pandas in a future version. Use pandas.concat instead.\n",
      "  df = df.append(datarow, ignore_index=True)\n"
     ]
    },
    {
     "name": "stdout",
     "output_type": "stream",
     "text": [
      "TBA338 West Tenth Ave.Columbus, OH 43210Columbus, OH 43210\n",
      "TEST\n"
     ]
    },
    {
     "name": "stderr",
     "output_type": "stream",
     "text": [
      "C:\\Users\\lando\\AppData\\Local\\Temp\\ipykernel_34800\\3465631864.py:63: FutureWarning: The frame.append method is deprecated and will be removed from pandas in a future version. Use pandas.concat instead.\n",
      "  df = df.append(datarow, ignore_index=True)\n"
     ]
    },
    {
     "name": "stdout",
     "output_type": "stream",
     "text": [
      "Columbus, OH 43210\n",
      "TEST\n",
      "Monday 7:30-9:00pmColumbus, OH 43210\n",
      "Monday 7:30 None\n",
      "test\n",
      "TEST\n"
     ]
    },
    {
     "name": "stderr",
     "output_type": "stream",
     "text": [
      "C:\\Users\\lando\\AppData\\Local\\Temp\\ipykernel_34800\\3465631864.py:63: FutureWarning: The frame.append method is deprecated and will be removed from pandas in a future version. Use pandas.concat instead.\n",
      "  df = df.append(datarow, ignore_index=True)\n",
      "C:\\Users\\lando\\AppData\\Local\\Temp\\ipykernel_34800\\3465631864.py:63: FutureWarning: The frame.append method is deprecated and will be removed from pandas in a future version. Use pandas.concat instead.\n",
      "  df = df.append(datarow, ignore_index=True)\n"
     ]
    },
    {
     "name": "stdout",
     "output_type": "stream",
     "text": [
      "Every other Tues. (7-8PM)Columbus, OH 43210\n",
      "TEST\n",
      "6-8am & 6-8pm on Tues, Weds, and Thurs; 9-10am Sun4983 Postlewaite RdColumbus OH, 43235Columbus, OH 43210\n",
      "Sun 4983 None\n",
      "test\n",
      "TEST\n"
     ]
    },
    {
     "name": "stderr",
     "output_type": "stream",
     "text": [
      "C:\\Users\\lando\\AppData\\Local\\Temp\\ipykernel_34800\\3465631864.py:63: FutureWarning: The frame.append method is deprecated and will be removed from pandas in a future version. Use pandas.concat instead.\n",
      "  df = df.append(datarow, ignore_index=True)\n",
      "C:\\Users\\lando\\AppData\\Local\\Temp\\ipykernel_34800\\3465631864.py:63: FutureWarning: The frame.append method is deprecated and will be removed from pandas in a future version. Use pandas.concat instead.\n",
      "  df = df.append(datarow, ignore_index=True)\n"
     ]
    },
    {
     "name": "stdout",
     "output_type": "stream",
     "text": [
      "Wednesday 7:40PM-9:00PMTBDColumbus, OH 43210\n",
      "Wednesday 7:40 PM\n",
      "test\n",
      "TEST\n",
      "Online (Mon + Thurs) and in-person (Sat)1739 N High StColumbus, OH 43210\n",
      "TEST\n"
     ]
    },
    {
     "name": "stderr",
     "output_type": "stream",
     "text": [
      "C:\\Users\\lando\\AppData\\Local\\Temp\\ipykernel_34800\\3465631864.py:63: FutureWarning: The frame.append method is deprecated and will be removed from pandas in a future version. Use pandas.concat instead.\n",
      "  df = df.append(datarow, ignore_index=True)\n",
      "C:\\Users\\lando\\AppData\\Local\\Temp\\ipykernel_34800\\3465631864.py:63: FutureWarning: The frame.append method is deprecated and will be removed from pandas in a future version. Use pandas.concat instead.\n",
      "  df = df.append(datarow, ignore_index=True)\n"
     ]
    },
    {
     "name": "stdout",
     "output_type": "stream",
     "text": [
      "Columbus, OH 43210\n",
      "TEST\n",
      "12:00PM monthly370 W 9th Ave Columbus, OHColumbus, OH 43210\n",
      "W 9 None\n",
      "test\n",
      "TEST\n"
     ]
    },
    {
     "name": "stderr",
     "output_type": "stream",
     "text": [
      "C:\\Users\\lando\\AppData\\Local\\Temp\\ipykernel_34800\\3465631864.py:63: FutureWarning: The frame.append method is deprecated and will be removed from pandas in a future version. Use pandas.concat instead.\n",
      "  df = df.append(datarow, ignore_index=True)\n",
      "C:\\Users\\lando\\AppData\\Local\\Temp\\ipykernel_34800\\3465631864.py:63: FutureWarning: The frame.append method is deprecated and will be removed from pandas in a future version. Use pandas.concat instead.\n",
      "  df = df.append(datarow, ignore_index=True)\n"
     ]
    },
    {
     "name": "stdout",
     "output_type": "stream",
     "text": [
      "As neededColumbus, OH 43210\n",
      "TEST\n",
      "Second Fridays, time TBARemoteColumbus, OH 43210\n",
      "TEST\n"
     ]
    },
    {
     "name": "stderr",
     "output_type": "stream",
     "text": [
      "C:\\Users\\lando\\AppData\\Local\\Temp\\ipykernel_34800\\3465631864.py:63: FutureWarning: The frame.append method is deprecated and will be removed from pandas in a future version. Use pandas.concat instead.\n",
      "  df = df.append(datarow, ignore_index=True)\n",
      "C:\\Users\\lando\\AppData\\Local\\Temp\\ipykernel_34800\\3465631864.py:63: FutureWarning: The frame.append method is deprecated and will be removed from pandas in a future version. Use pandas.concat instead.\n",
      "  df = df.append(datarow, ignore_index=True)\n"
     ]
    },
    {
     "name": "stdout",
     "output_type": "stream",
     "text": [
      "TBDColumbus, OH 43210\n",
      "TEST\n"
     ]
    },
    {
     "name": "stderr",
     "output_type": "stream",
     "text": [
      "C:\\Users\\lando\\AppData\\Local\\Temp\\ipykernel_34800\\3465631864.py:63: FutureWarning: The frame.append method is deprecated and will be removed from pandas in a future version. Use pandas.concat instead.\n",
      "  df = df.append(datarow, ignore_index=True)\n"
     ]
    },
    {
     "name": "stdout",
     "output_type": "stream",
     "text": [
      "Monday's at 7:00pm153 E. 14th Ave.Columbus, Ohio 43201Columbus, OH 43210\n",
      "TEST\n"
     ]
    },
    {
     "name": "stderr",
     "output_type": "stream",
     "text": [
      "C:\\Users\\lando\\AppData\\Local\\Temp\\ipykernel_34800\\3465631864.py:63: FutureWarning: The frame.append method is deprecated and will be removed from pandas in a future version. Use pandas.concat instead.\n",
      "  df = df.append(datarow, ignore_index=True)\n"
     ]
    },
    {
     "name": "stdout",
     "output_type": "stream",
     "text": [
      "Mondays, 7 pm.1787 Neil AvenueColumbus, OH 43210\n",
      "Mondays 7 pm\n",
      "test\n",
      "TEST\n"
     ]
    },
    {
     "name": "stderr",
     "output_type": "stream",
     "text": [
      "C:\\Users\\lando\\AppData\\Local\\Temp\\ipykernel_34800\\3465631864.py:63: FutureWarning: The frame.append method is deprecated and will be removed from pandas in a future version. Use pandas.concat instead.\n",
      "  df = df.append(datarow, ignore_index=True)\n"
     ]
    },
    {
     "name": "stdout",
     "output_type": "stream",
     "text": [
      "Thursdays at 5:301787 Neil AveColumbus, Ohio 43210Columbus, OH 43210\n",
      "Thursdays 5:30 None\n",
      "test\n",
      "TEST\n"
     ]
    },
    {
     "name": "stderr",
     "output_type": "stream",
     "text": [
      "C:\\Users\\lando\\AppData\\Local\\Temp\\ipykernel_34800\\3465631864.py:63: FutureWarning: The frame.append method is deprecated and will be removed from pandas in a future version. Use pandas.concat instead.\n",
      "  df = df.append(datarow, ignore_index=True)\n"
     ]
    },
    {
     "name": "stdout",
     "output_type": "stream",
     "text": [
      "Monthly55 West 12th AvenueColumbus, OH 43210\n",
      "TEST\n",
      "Columbus, OH 43210\n",
      "TEST\n"
     ]
    },
    {
     "name": "stderr",
     "output_type": "stream",
     "text": [
      "C:\\Users\\lando\\AppData\\Local\\Temp\\ipykernel_34800\\3465631864.py:63: FutureWarning: The frame.append method is deprecated and will be removed from pandas in a future version. Use pandas.concat instead.\n",
      "  df = df.append(datarow, ignore_index=True)\n",
      "C:\\Users\\lando\\AppData\\Local\\Temp\\ipykernel_34800\\3465631864.py:63: FutureWarning: The frame.append method is deprecated and will be removed from pandas in a future version. Use pandas.concat instead.\n",
      "  df = df.append(datarow, ignore_index=True)\n"
     ]
    },
    {
     "name": "stdout",
     "output_type": "stream",
     "text": [
      "TBD1645 Neil AveColumbus, OH 43210\n",
      "TEST\n",
      "7pm, every second and fourth Thursday of the month1787 Neil AveColumbus, OH 43210\n",
      "TEST\n"
     ]
    },
    {
     "name": "stderr",
     "output_type": "stream",
     "text": [
      "C:\\Users\\lando\\AppData\\Local\\Temp\\ipykernel_34800\\3465631864.py:63: FutureWarning: The frame.append method is deprecated and will be removed from pandas in a future version. Use pandas.concat instead.\n",
      "  df = df.append(datarow, ignore_index=True)\n",
      "C:\\Users\\lando\\AppData\\Local\\Temp\\ipykernel_34800\\3465631864.py:63: FutureWarning: The frame.append method is deprecated and will be removed from pandas in a future version. Use pandas.concat instead.\n",
      "  df = df.append(datarow, ignore_index=True)\n"
     ]
    },
    {
     "name": "stdout",
     "output_type": "stream",
     "text": [
      "Columbus, OH 43210\n",
      "TEST\n",
      "Wednesdays 6:00PMColumbus, OH 43210\n",
      "Wednesdays 6:00 PM\n",
      "test\n",
      "TEST\n"
     ]
    },
    {
     "name": "stderr",
     "output_type": "stream",
     "text": [
      "C:\\Users\\lando\\AppData\\Local\\Temp\\ipykernel_34800\\3465631864.py:63: FutureWarning: The frame.append method is deprecated and will be removed from pandas in a future version. Use pandas.concat instead.\n",
      "  df = df.append(datarow, ignore_index=True)\n",
      "C:\\Users\\lando\\AppData\\Local\\Temp\\ipykernel_34800\\3465631864.py:63: FutureWarning: The frame.append method is deprecated and will be removed from pandas in a future version. Use pandas.concat instead.\n",
      "  df = df.append(datarow, ignore_index=True)\n"
     ]
    },
    {
     "name": "stdout",
     "output_type": "stream",
     "text": [
      "Wednesday 7:00pmColumbus, OH 43210\n",
      "Wednesday 7:00 pm\n",
      "test\n",
      "TEST\n",
      "Tuesday's, 7:30 pm - 8:30 pmColumbus, OH 43210\n",
      "TEST\n"
     ]
    },
    {
     "name": "stderr",
     "output_type": "stream",
     "text": [
      "C:\\Users\\lando\\AppData\\Local\\Temp\\ipykernel_34800\\3465631864.py:63: FutureWarning: The frame.append method is deprecated and will be removed from pandas in a future version. Use pandas.concat instead.\n",
      "  df = df.append(datarow, ignore_index=True)\n",
      "C:\\Users\\lando\\AppData\\Local\\Temp\\ipykernel_34800\\3465631864.py:63: FutureWarning: The frame.append method is deprecated and will be removed from pandas in a future version. Use pandas.concat instead.\n",
      "  df = df.append(datarow, ignore_index=True)\n"
     ]
    },
    {
     "name": "stdout",
     "output_type": "stream",
     "text": [
      "Every other Thursday from 7:30-8:30pm.Columbus, OH 43210\n",
      "TEST\n",
      "Certain Tuesdays at 7:00 PMColumbus, OH 43210\n",
      "Tuesdays 7:00 PM\n",
      "test\n",
      "TEST\n"
     ]
    },
    {
     "name": "stderr",
     "output_type": "stream",
     "text": [
      "C:\\Users\\lando\\AppData\\Local\\Temp\\ipykernel_34800\\3465631864.py:63: FutureWarning: The frame.append method is deprecated and will be removed from pandas in a future version. Use pandas.concat instead.\n",
      "  df = df.append(datarow, ignore_index=True)\n",
      "C:\\Users\\lando\\AppData\\Local\\Temp\\ipykernel_34800\\3465631864.py:63: FutureWarning: The frame.append method is deprecated and will be removed from pandas in a future version. Use pandas.concat instead.\n",
      "  df = df.append(datarow, ignore_index=True)\n"
     ]
    },
    {
     "name": "stdout",
     "output_type": "stream",
     "text": [
      "Fridays at 7pmColumbus, OH 43210\n",
      "Fridays 7 pm\n",
      "test\n",
      "TEST\n",
      "Tuesdays 7:00pm - 8:00pm1739 N High StreetColumbus, OH 43210\n",
      "Tuesdays 7:00 pm\n",
      "test\n",
      "TEST\n"
     ]
    },
    {
     "name": "stderr",
     "output_type": "stream",
     "text": [
      "C:\\Users\\lando\\AppData\\Local\\Temp\\ipykernel_34800\\3465631864.py:63: FutureWarning: The frame.append method is deprecated and will be removed from pandas in a future version. Use pandas.concat instead.\n",
      "  df = df.append(datarow, ignore_index=True)\n",
      "C:\\Users\\lando\\AppData\\Local\\Temp\\ipykernel_34800\\3465631864.py:63: FutureWarning: The frame.append method is deprecated and will be removed from pandas in a future version. Use pandas.concat instead.\n",
      "  df = df.append(datarow, ignore_index=True)\n"
     ]
    },
    {
     "name": "stdout",
     "output_type": "stream",
     "text": [
      "Columbus, OH 43210\n",
      "TEST\n",
      "Columbus, OH 43210\n",
      "TEST\n"
     ]
    },
    {
     "name": "stderr",
     "output_type": "stream",
     "text": [
      "C:\\Users\\lando\\AppData\\Local\\Temp\\ipykernel_34800\\3465631864.py:63: FutureWarning: The frame.append method is deprecated and will be removed from pandas in a future version. Use pandas.concat instead.\n",
      "  df = df.append(datarow, ignore_index=True)\n",
      "C:\\Users\\lando\\AppData\\Local\\Temp\\ipykernel_34800\\3465631864.py:63: FutureWarning: The frame.append method is deprecated and will be removed from pandas in a future version. Use pandas.concat instead.\n",
      "  df = df.append(datarow, ignore_index=True)\n"
     ]
    },
    {
     "name": "stdout",
     "output_type": "stream",
     "text": [
      "Columbus, OH 43210\n",
      "TEST\n",
      "Every other Wednesday 5:30pm2021 Coffey RoadColumbus, OH 43210\n",
      "Wednesday 5:30 pm\n",
      "test\n",
      "TEST\n"
     ]
    },
    {
     "name": "stderr",
     "output_type": "stream",
     "text": [
      "C:\\Users\\lando\\AppData\\Local\\Temp\\ipykernel_34800\\3465631864.py:63: FutureWarning: The frame.append method is deprecated and will be removed from pandas in a future version. Use pandas.concat instead.\n",
      "  df = df.append(datarow, ignore_index=True)\n",
      "C:\\Users\\lando\\AppData\\Local\\Temp\\ipykernel_34800\\3465631864.py:63: FutureWarning: The frame.append method is deprecated and will be removed from pandas in a future version. Use pandas.concat instead.\n",
      "  df = df.append(datarow, ignore_index=True)\n"
     ]
    },
    {
     "name": "stdout",
     "output_type": "stream",
     "text": [
      "Tues & Thurs 7-9 p.m.230 N Oval MallColumbus, OH 43210Columbus, OH 43210\n",
      "Thurs 7 None\n",
      "test\n",
      "TEST\n",
      "Thursdays2100 Neil AveColumbus OH 43210Columbus, OH 43210\n",
      "Thursdays 2100 None\n",
      "test\n",
      "TEST\n"
     ]
    },
    {
     "name": "stderr",
     "output_type": "stream",
     "text": [
      "C:\\Users\\lando\\AppData\\Local\\Temp\\ipykernel_34800\\3465631864.py:63: FutureWarning: The frame.append method is deprecated and will be removed from pandas in a future version. Use pandas.concat instead.\n",
      "  df = df.append(datarow, ignore_index=True)\n",
      "C:\\Users\\lando\\AppData\\Local\\Temp\\ipykernel_34800\\3465631864.py:63: FutureWarning: The frame.append method is deprecated and will be removed from pandas in a future version. Use pandas.concat instead.\n",
      "  df = df.append(datarow, ignore_index=True)\n"
     ]
    },
    {
     "name": "stdout",
     "output_type": "stream",
     "text": [
      "TBD2108 Neil Ave.Columbus, OHColumbus, OH 43210\n",
      "TEST\n"
     ]
    },
    {
     "name": "stderr",
     "output_type": "stream",
     "text": [
      "C:\\Users\\lando\\AppData\\Local\\Temp\\ipykernel_34800\\3465631864.py:63: FutureWarning: The frame.append method is deprecated and will be removed from pandas in a future version. Use pandas.concat instead.\n",
      "  df = df.append(datarow, ignore_index=True)\n"
     ]
    },
    {
     "name": "stdout",
     "output_type": "stream",
     "text": [
      "Wednesdays, 9pm210 W Woodruff AveColumbus, OH 43210\n",
      "Wednesdays 9 pm\n",
      "test\n",
      "TEST\n",
      "Monthly2108 Neil AveColumbus, OH 43210\n",
      "TEST\n"
     ]
    },
    {
     "name": "stderr",
     "output_type": "stream",
     "text": [
      "C:\\Users\\lando\\AppData\\Local\\Temp\\ipykernel_34800\\3465631864.py:63: FutureWarning: The frame.append method is deprecated and will be removed from pandas in a future version. Use pandas.concat instead.\n",
      "  df = df.append(datarow, ignore_index=True)\n",
      "C:\\Users\\lando\\AppData\\Local\\Temp\\ipykernel_34800\\3465631864.py:63: FutureWarning: The frame.append method is deprecated and will be removed from pandas in a future version. Use pandas.concat instead.\n",
      "  df = df.append(datarow, ignore_index=True)\n"
     ]
    },
    {
     "name": "stdout",
     "output_type": "stream",
     "text": [
      "Thursday, 12:00-1:00 PM2108 Neil AveColumbus, OH 43210\n",
      "Thursday 12:00 None\n",
      "test\n",
      "TEST\n"
     ]
    },
    {
     "name": "stderr",
     "output_type": "stream",
     "text": [
      "C:\\Users\\lando\\AppData\\Local\\Temp\\ipykernel_34800\\3465631864.py:63: FutureWarning: The frame.append method is deprecated and will be removed from pandas in a future version. Use pandas.concat instead.\n",
      "  df = df.append(datarow, ignore_index=True)\n"
     ]
    },
    {
     "name": "stdout",
     "output_type": "stream",
     "text": [
      "Monday 12:30 pm2100 Neil AvenueColumbus, OH 43210\n",
      "Monday 12:30 pm\n",
      "test\n",
      "TEST\n",
      "Columbus, OH 43210\n",
      "TEST\n"
     ]
    },
    {
     "name": "stderr",
     "output_type": "stream",
     "text": [
      "C:\\Users\\lando\\AppData\\Local\\Temp\\ipykernel_34800\\3465631864.py:63: FutureWarning: The frame.append method is deprecated and will be removed from pandas in a future version. Use pandas.concat instead.\n",
      "  df = df.append(datarow, ignore_index=True)\n",
      "C:\\Users\\lando\\AppData\\Local\\Temp\\ipykernel_34800\\3465631864.py:63: FutureWarning: The frame.append method is deprecated and will be removed from pandas in a future version. Use pandas.concat instead.\n",
      "  df = df.append(datarow, ignore_index=True)\n"
     ]
    },
    {
     "name": "stdout",
     "output_type": "stream",
     "text": [
      "Monday 7.00pm210 W Woodruff AveColumbus, OH 43210\n",
      "Monday 7 None\n",
      "test\n",
      "TEST\n"
     ]
    },
    {
     "name": "stderr",
     "output_type": "stream",
     "text": [
      "C:\\Users\\lando\\AppData\\Local\\Temp\\ipykernel_34800\\3465631864.py:63: FutureWarning: The frame.append method is deprecated and will be removed from pandas in a future version. Use pandas.concat instead.\n",
      "  df = df.append(datarow, ignore_index=True)\n"
     ]
    },
    {
     "name": "stdout",
     "output_type": "stream",
     "text": [
      "Annual event schedule varies2108 Neil AveColumbus, OH 43210\n",
      "TEST\n"
     ]
    },
    {
     "name": "stderr",
     "output_type": "stream",
     "text": [
      "C:\\Users\\lando\\AppData\\Local\\Temp\\ipykernel_34800\\3465631864.py:63: FutureWarning: The frame.append method is deprecated and will be removed from pandas in a future version. Use pandas.concat instead.\n",
      "  df = df.append(datarow, ignore_index=True)\n"
     ]
    },
    {
     "name": "stdout",
     "output_type": "stream",
     "text": [
      "Fridays @ 12pmOSU Golf Course (check mailing for schedule)Columbus, OH 43210\n",
      "Fridays 12 pm\n",
      "test\n",
      "TEST\n",
      "N/AN/AColumbus, OH 43210\n",
      "TEST\n"
     ]
    },
    {
     "name": "stderr",
     "output_type": "stream",
     "text": [
      "C:\\Users\\lando\\AppData\\Local\\Temp\\ipykernel_34800\\3465631864.py:63: FutureWarning: The frame.append method is deprecated and will be removed from pandas in a future version. Use pandas.concat instead.\n",
      "  df = df.append(datarow, ignore_index=True)\n",
      "C:\\Users\\lando\\AppData\\Local\\Temp\\ipykernel_34800\\3465631864.py:63: FutureWarning: The frame.append method is deprecated and will be removed from pandas in a future version. Use pandas.concat instead.\n",
      "  df = df.append(datarow, ignore_index=True)\n"
     ]
    },
    {
     "name": "stdout",
     "output_type": "stream",
     "text": [
      "Once per month2100 Neil Av Columbus OH 43210Columbus, OH 43210\n",
      "TEST\n"
     ]
    },
    {
     "name": "stderr",
     "output_type": "stream",
     "text": [
      "C:\\Users\\lando\\AppData\\Local\\Temp\\ipykernel_34800\\3465631864.py:63: FutureWarning: The frame.append method is deprecated and will be removed from pandas in a future version. Use pandas.concat instead.\n",
      "  df = df.append(datarow, ignore_index=True)\n"
     ]
    },
    {
     "name": "stdout",
     "output_type": "stream",
     "text": [
      "Various2100 Neil Avenue, Columbus, Ohio 43210Columbus, OH 43210\n",
      "TEST\n",
      "TBA Columbus, OH 43210\n",
      "TEST\n"
     ]
    },
    {
     "name": "stderr",
     "output_type": "stream",
     "text": [
      "C:\\Users\\lando\\AppData\\Local\\Temp\\ipykernel_34800\\3465631864.py:63: FutureWarning: The frame.append method is deprecated and will be removed from pandas in a future version. Use pandas.concat instead.\n",
      "  df = df.append(datarow, ignore_index=True)\n",
      "C:\\Users\\lando\\AppData\\Local\\Temp\\ipykernel_34800\\3465631864.py:63: FutureWarning: The frame.append method is deprecated and will be removed from pandas in a future version. Use pandas.concat instead.\n",
      "  df = df.append(datarow, ignore_index=True)\n"
     ]
    },
    {
     "name": "stdout",
     "output_type": "stream",
     "text": [
      "TBDColumbus, OH 43210\n",
      "TEST\n"
     ]
    },
    {
     "name": "stderr",
     "output_type": "stream",
     "text": [
      "C:\\Users\\lando\\AppData\\Local\\Temp\\ipykernel_34800\\3465631864.py:63: FutureWarning: The frame.append method is deprecated and will be removed from pandas in a future version. Use pandas.concat instead.\n",
      "  df = df.append(datarow, ignore_index=True)\n"
     ]
    },
    {
     "name": "stdout",
     "output_type": "stream",
     "text": [
      "Friday's 10:30am via ZoomN/AN/AColumbus, OH 43210\n",
      "TEST\n"
     ]
    },
    {
     "name": "stderr",
     "output_type": "stream",
     "text": [
      "C:\\Users\\lando\\AppData\\Local\\Temp\\ipykernel_34800\\3465631864.py:63: FutureWarning: The frame.append method is deprecated and will be removed from pandas in a future version. Use pandas.concat instead.\n",
      "  df = df.append(datarow, ignore_index=True)\n"
     ]
    },
    {
     "name": "stdout",
     "output_type": "stream",
     "text": [
      "Columbus, OH 43210\n",
      "TEST\n",
      "Thursday 12:00-1:00 PM2100 Neil AvenueColumbus, OH 43210\n",
      "Thursday 12:00 None\n",
      "test\n",
      "TEST\n"
     ]
    },
    {
     "name": "stderr",
     "output_type": "stream",
     "text": [
      "C:\\Users\\lando\\AppData\\Local\\Temp\\ipykernel_34800\\3465631864.py:63: FutureWarning: The frame.append method is deprecated and will be removed from pandas in a future version. Use pandas.concat instead.\n",
      "  df = df.append(datarow, ignore_index=True)\n",
      "C:\\Users\\lando\\AppData\\Local\\Temp\\ipykernel_34800\\3465631864.py:63: FutureWarning: The frame.append method is deprecated and will be removed from pandas in a future version. Use pandas.concat instead.\n",
      "  df = df.append(datarow, ignore_index=True)\n"
     ]
    },
    {
     "name": "stdout",
     "output_type": "stream",
     "text": [
      "Tuesdays at 7:00pmbit.ly/FisherInkMeetingColumbus, OH 43210\n",
      "Tuesdays 7:00 pm\n",
      "test\n",
      "TEST\n",
      "Tuesday, 7:00-8:00PMColumbus, OH 43210\n",
      "Tuesday 7:00 None\n",
      "test\n",
      "TEST\n"
     ]
    },
    {
     "name": "stderr",
     "output_type": "stream",
     "text": [
      "C:\\Users\\lando\\AppData\\Local\\Temp\\ipykernel_34800\\3465631864.py:63: FutureWarning: The frame.append method is deprecated and will be removed from pandas in a future version. Use pandas.concat instead.\n",
      "  df = df.append(datarow, ignore_index=True)\n",
      "C:\\Users\\lando\\AppData\\Local\\Temp\\ipykernel_34800\\3465631864.py:63: FutureWarning: The frame.append method is deprecated and will be removed from pandas in a future version. Use pandas.concat instead.\n",
      "  df = df.append(datarow, ignore_index=True)\n"
     ]
    },
    {
     "name": "stdout",
     "output_type": "stream",
     "text": [
      "Tuesdays at 12:00 p.m.2108 Neil AvenueColumbus, OH 43210\n",
      "Tuesdays 12:00 None\n",
      "test\n",
      "TEST\n",
      "Columbus, OH 43210\n",
      "TEST\n"
     ]
    },
    {
     "name": "stderr",
     "output_type": "stream",
     "text": [
      "C:\\Users\\lando\\AppData\\Local\\Temp\\ipykernel_34800\\3465631864.py:63: FutureWarning: The frame.append method is deprecated and will be removed from pandas in a future version. Use pandas.concat instead.\n",
      "  df = df.append(datarow, ignore_index=True)\n",
      "C:\\Users\\lando\\AppData\\Local\\Temp\\ipykernel_34800\\3465631864.py:63: FutureWarning: The frame.append method is deprecated and will be removed from pandas in a future version. Use pandas.concat instead.\n",
      "  df = df.append(datarow, ignore_index=True)\n"
     ]
    },
    {
     "name": "stdout",
     "output_type": "stream",
     "text": [
      "Columbus, OH 43210\n",
      "TEST\n",
      "Monday 12:30 PM2100 Neil AvenueColumbus, OH 43210\n",
      "Monday 12:30 PM\n",
      "test\n",
      "TEST\n"
     ]
    },
    {
     "name": "stderr",
     "output_type": "stream",
     "text": [
      "C:\\Users\\lando\\AppData\\Local\\Temp\\ipykernel_34800\\3465631864.py:63: FutureWarning: The frame.append method is deprecated and will be removed from pandas in a future version. Use pandas.concat instead.\n",
      "  df = df.append(datarow, ignore_index=True)\n",
      "C:\\Users\\lando\\AppData\\Local\\Temp\\ipykernel_34800\\3465631864.py:63: FutureWarning: The frame.append method is deprecated and will be removed from pandas in a future version. Use pandas.concat instead.\n",
      "  df = df.append(datarow, ignore_index=True)\n"
     ]
    },
    {
     "name": "stdout",
     "output_type": "stream",
     "text": [
      "Mondays 12:30pm - 1:30pm2108 Neil AvenueColumbus, OH 43210\n",
      "Mondays 12:30 pm\n",
      "test\n",
      "TEST\n",
      "Mondays @ 7pm210 W Woodruff Ave, Columbus, OH 43210Columbus, OH 43210\n",
      "Mondays 7 pm\n",
      "test\n",
      "TEST\n"
     ]
    },
    {
     "name": "stderr",
     "output_type": "stream",
     "text": [
      "C:\\Users\\lando\\AppData\\Local\\Temp\\ipykernel_34800\\3465631864.py:63: FutureWarning: The frame.append method is deprecated and will be removed from pandas in a future version. Use pandas.concat instead.\n",
      "  df = df.append(datarow, ignore_index=True)\n",
      "C:\\Users\\lando\\AppData\\Local\\Temp\\ipykernel_34800\\3465631864.py:63: FutureWarning: The frame.append method is deprecated and will be removed from pandas in a future version. Use pandas.concat instead.\n",
      "  df = df.append(datarow, ignore_index=True)\n"
     ]
    },
    {
     "name": "stdout",
     "output_type": "stream",
     "text": [
      "Varies2108 Neil AveColumbus, OH 43210\n",
      "TEST\n",
      "Bi weekly Friday 12:00 PM2100 Neil AvenueColumbus, OH 43210Columbus, OH 43210\n",
      "Friday 12:00 PM\n",
      "test\n",
      "TEST\n"
     ]
    },
    {
     "name": "stderr",
     "output_type": "stream",
     "text": [
      "C:\\Users\\lando\\AppData\\Local\\Temp\\ipykernel_34800\\3465631864.py:63: FutureWarning: The frame.append method is deprecated and will be removed from pandas in a future version. Use pandas.concat instead.\n",
      "  df = df.append(datarow, ignore_index=True)\n",
      "C:\\Users\\lando\\AppData\\Local\\Temp\\ipykernel_34800\\3465631864.py:63: FutureWarning: The frame.append method is deprecated and will be removed from pandas in a future version. Use pandas.concat instead.\n",
      "  df = df.append(datarow, ignore_index=True)\n"
     ]
    },
    {
     "name": "stdout",
     "output_type": "stream",
     "text": [
      "Every other Monday at 7:15PM210 W Woodruff AveColumbus, OH 43210\n",
      "Monday 7:15 PM\n",
      "test\n",
      "TEST\n",
      "Wed 4:3046 East 16th AvenueColumbus, OH 43210\n",
      "Wed 4:30 None\n",
      "test\n",
      "TEST\n"
     ]
    },
    {
     "name": "stderr",
     "output_type": "stream",
     "text": [
      "C:\\Users\\lando\\AppData\\Local\\Temp\\ipykernel_34800\\3465631864.py:63: FutureWarning: The frame.append method is deprecated and will be removed from pandas in a future version. Use pandas.concat instead.\n",
      "  df = df.append(datarow, ignore_index=True)\n",
      "C:\\Users\\lando\\AppData\\Local\\Temp\\ipykernel_34800\\3465631864.py:63: FutureWarning: The frame.append method is deprecated and will be removed from pandas in a future version. Use pandas.concat instead.\n",
      "  df = df.append(datarow, ignore_index=True)\n"
     ]
    },
    {
     "name": "stdout",
     "output_type": "stream",
     "text": [
      "Saturdays 9:00am-2:00pm2160 West Case RoadColumbus, OH 43210\n",
      "Saturdays 9:00 am\n",
      "test\n",
      "TEST\n",
      "Fridays 7:00-8:30pmColumbus, OH 43210\n",
      "Fridays 7:00 None\n",
      "test\n",
      "TEST\n"
     ]
    },
    {
     "name": "stderr",
     "output_type": "stream",
     "text": [
      "C:\\Users\\lando\\AppData\\Local\\Temp\\ipykernel_34800\\3465631864.py:63: FutureWarning: The frame.append method is deprecated and will be removed from pandas in a future version. Use pandas.concat instead.\n",
      "  df = df.append(datarow, ignore_index=True)\n",
      "C:\\Users\\lando\\AppData\\Local\\Temp\\ipykernel_34800\\3465631864.py:63: FutureWarning: The frame.append method is deprecated and will be removed from pandas in a future version. Use pandas.concat instead.\n",
      "  df = df.append(datarow, ignore_index=True)\n"
     ]
    },
    {
     "name": "stdout",
     "output_type": "stream",
     "text": [
      "Monthly, Every Second Monday from 3-5PMHagerty Hall, 1775 College Rd S, Columbus, OHColumbus, OH 43210\n",
      "TEST\n",
      "Tuesday 8:00 pm Various restaurantsColumbus, OH 43210\n",
      "Tuesday 8:00 pm\n",
      "test\n",
      "TEST\n"
     ]
    },
    {
     "name": "stderr",
     "output_type": "stream",
     "text": [
      "C:\\Users\\lando\\AppData\\Local\\Temp\\ipykernel_34800\\3465631864.py:63: FutureWarning: The frame.append method is deprecated and will be removed from pandas in a future version. Use pandas.concat instead.\n",
      "  df = df.append(datarow, ignore_index=True)\n",
      "C:\\Users\\lando\\AppData\\Local\\Temp\\ipykernel_34800\\3465631864.py:63: FutureWarning: The frame.append method is deprecated and will be removed from pandas in a future version. Use pandas.concat instead.\n",
      "  df = df.append(datarow, ignore_index=True)\n"
     ]
    },
    {
     "name": "stdout",
     "output_type": "stream",
     "text": [
      "Varies depending on eventColumbus, OH 43210\n",
      "TEST\n",
      "Fridays 7:00am601 Vernon Tharp StColumbus, OH 43210Columbus, OH 43210\n",
      "Fridays 7:00 am\n",
      "test\n",
      "TEST\n"
     ]
    },
    {
     "name": "stderr",
     "output_type": "stream",
     "text": [
      "C:\\Users\\lando\\AppData\\Local\\Temp\\ipykernel_34800\\3465631864.py:63: FutureWarning: The frame.append method is deprecated and will be removed from pandas in a future version. Use pandas.concat instead.\n",
      "  df = df.append(datarow, ignore_index=True)\n",
      "C:\\Users\\lando\\AppData\\Local\\Temp\\ipykernel_34800\\3465631864.py:63: FutureWarning: The frame.append method is deprecated and will be removed from pandas in a future version. Use pandas.concat instead.\n",
      "  df = df.append(datarow, ignore_index=True)\n"
     ]
    },
    {
     "name": "stdout",
     "output_type": "stream",
     "text": [
      "Biweekly, Mondays 7pm-8pmColumbus, OH 43210\n",
      "Mondays 7 pm\n",
      "test\n",
      "TEST\n",
      "The first Wednesday of every month2015 Fyffe Rd. Columbus, OH 43210Columbus, OH 43210\n",
      "TEST\n"
     ]
    },
    {
     "name": "stderr",
     "output_type": "stream",
     "text": [
      "C:\\Users\\lando\\AppData\\Local\\Temp\\ipykernel_34800\\3465631864.py:63: FutureWarning: The frame.append method is deprecated and will be removed from pandas in a future version. Use pandas.concat instead.\n",
      "  df = df.append(datarow, ignore_index=True)\n",
      "C:\\Users\\lando\\AppData\\Local\\Temp\\ipykernel_34800\\3465631864.py:63: FutureWarning: The frame.append method is deprecated and will be removed from pandas in a future version. Use pandas.concat instead.\n",
      "  df = df.append(datarow, ignore_index=True)\n"
     ]
    },
    {
     "name": "stdout",
     "output_type": "stream",
     "text": [
      "Thursday at 5:00 PM2015 Fyffe RdColumbus, OH 43210\n",
      "Thursday 5:00 PM\n",
      "test\n",
      "TEST\n",
      "First Tuesday of every month590 Woody Hayes DriveColumbus, OH 43210\n",
      "TEST\n"
     ]
    },
    {
     "name": "stderr",
     "output_type": "stream",
     "text": [
      "C:\\Users\\lando\\AppData\\Local\\Temp\\ipykernel_34800\\3465631864.py:63: FutureWarning: The frame.append method is deprecated and will be removed from pandas in a future version. Use pandas.concat instead.\n",
      "  df = df.append(datarow, ignore_index=True)\n",
      "C:\\Users\\lando\\AppData\\Local\\Temp\\ipykernel_34800\\3465631864.py:63: FutureWarning: The frame.append method is deprecated and will be removed from pandas in a future version. Use pandas.concat instead.\n",
      "  df = df.append(datarow, ignore_index=True)\n"
     ]
    },
    {
     "name": "stdout",
     "output_type": "stream",
     "text": [
      "Every Tuesday at 7:00 PM2021 Coffey Rd.Columbus, OH 43210\n",
      "Tuesday 7:00 PM\n",
      "test\n",
      "TEST\n",
      "Wednesdays at 7:00pm930 Kinnear RoadColumbus, OH 43210\n",
      "Wednesdays 7:00 pm\n",
      "test\n",
      "TEST\n"
     ]
    },
    {
     "name": "stderr",
     "output_type": "stream",
     "text": [
      "C:\\Users\\lando\\AppData\\Local\\Temp\\ipykernel_34800\\3465631864.py:63: FutureWarning: The frame.append method is deprecated and will be removed from pandas in a future version. Use pandas.concat instead.\n",
      "  df = df.append(datarow, ignore_index=True)\n",
      "C:\\Users\\lando\\AppData\\Local\\Temp\\ipykernel_34800\\3465631864.py:63: FutureWarning: The frame.append method is deprecated and will be removed from pandas in a future version. Use pandas.concat instead.\n",
      "  df = df.append(datarow, ignore_index=True)\n"
     ]
    },
    {
     "name": "stdout",
     "output_type": "stream",
     "text": [
      "SundayColumbus, OH 43210\n",
      "TEST\n",
      "Columbus, OH 43210\n",
      "TEST\n"
     ]
    },
    {
     "name": "stderr",
     "output_type": "stream",
     "text": [
      "C:\\Users\\lando\\AppData\\Local\\Temp\\ipykernel_34800\\3465631864.py:63: FutureWarning: The frame.append method is deprecated and will be removed from pandas in a future version. Use pandas.concat instead.\n",
      "  df = df.append(datarow, ignore_index=True)\n",
      "C:\\Users\\lando\\AppData\\Local\\Temp\\ipykernel_34800\\3465631864.py:63: FutureWarning: The frame.append method is deprecated and will be removed from pandas in a future version. Use pandas.concat instead.\n",
      "  df = df.append(datarow, ignore_index=True)\n"
     ]
    },
    {
     "name": "stdout",
     "output_type": "stream",
     "text": [
      "Wednesday, 8pmMendenhall LabColumbus, OH 43210\n",
      "Wednesday 8 pm\n",
      "test\n",
      "TEST\n",
      "Columbus, OH 43210\n",
      "TEST\n"
     ]
    },
    {
     "name": "stderr",
     "output_type": "stream",
     "text": [
      "C:\\Users\\lando\\AppData\\Local\\Temp\\ipykernel_34800\\3465631864.py:63: FutureWarning: The frame.append method is deprecated and will be removed from pandas in a future version. Use pandas.concat instead.\n",
      "  df = df.append(datarow, ignore_index=True)\n",
      "C:\\Users\\lando\\AppData\\Local\\Temp\\ipykernel_34800\\3465631864.py:63: FutureWarning: The frame.append method is deprecated and will be removed from pandas in a future version. Use pandas.concat instead.\n",
      "  df = df.append(datarow, ignore_index=True)\n"
     ]
    },
    {
     "name": "stdout",
     "output_type": "stream",
     "text": [
      "as announced (in person 2022-23)1775 College RdColumbus, OH 43210\n",
      "TEST\n"
     ]
    },
    {
     "name": "stderr",
     "output_type": "stream",
     "text": [
      "C:\\Users\\lando\\AppData\\Local\\Temp\\ipykernel_34800\\3465631864.py:63: FutureWarning: The frame.append method is deprecated and will be removed from pandas in a future version. Use pandas.concat instead.\n",
      "  df = df.append(datarow, ignore_index=True)\n"
     ]
    },
    {
     "name": "stdout",
     "output_type": "stream",
     "text": [
      "Thursdays, 6:00 pmColumbus, OH 43210\n",
      "Thursdays 6:00 pm\n",
      "test\n",
      "TEST\n",
      "Wednesdays 6pmColumbus, OH 43210\n",
      "Wednesdays 6 pm\n",
      "test\n",
      "TEST\n"
     ]
    },
    {
     "name": "stderr",
     "output_type": "stream",
     "text": [
      "C:\\Users\\lando\\AppData\\Local\\Temp\\ipykernel_34800\\3465631864.py:63: FutureWarning: The frame.append method is deprecated and will be removed from pandas in a future version. Use pandas.concat instead.\n",
      "  df = df.append(datarow, ignore_index=True)\n",
      "C:\\Users\\lando\\AppData\\Local\\Temp\\ipykernel_34800\\3465631864.py:63: FutureWarning: The frame.append method is deprecated and will be removed from pandas in a future version. Use pandas.concat instead.\n",
      "  df = df.append(datarow, ignore_index=True)\n"
     ]
    },
    {
     "name": "stdout",
     "output_type": "stream",
     "text": [
      "Alternating Fridays at 5pm46 E. 16th Ave.Columbus, OH 43210\n",
      "Fridays 5 pm\n",
      "test\n",
      "TEST\n",
      "Wednesdays at 6pmColumbus, OH 43210\n",
      "Wednesdays 6 pm\n",
      "test\n",
      "TEST\n"
     ]
    },
    {
     "name": "stderr",
     "output_type": "stream",
     "text": [
      "C:\\Users\\lando\\AppData\\Local\\Temp\\ipykernel_34800\\3465631864.py:63: FutureWarning: The frame.append method is deprecated and will be removed from pandas in a future version. Use pandas.concat instead.\n",
      "  df = df.append(datarow, ignore_index=True)\n",
      "C:\\Users\\lando\\AppData\\Local\\Temp\\ipykernel_34800\\3465631864.py:63: FutureWarning: The frame.append method is deprecated and will be removed from pandas in a future version. Use pandas.concat instead.\n",
      "  df = df.append(datarow, ignore_index=True)\n"
     ]
    },
    {
     "name": "stdout",
     "output_type": "stream",
     "text": [
      "Columbus, OH 43210\n",
      "TEST\n"
     ]
    },
    {
     "name": "stderr",
     "output_type": "stream",
     "text": [
      "C:\\Users\\lando\\AppData\\Local\\Temp\\ipykernel_34800\\3465631864.py:63: FutureWarning: The frame.append method is deprecated and will be removed from pandas in a future version. Use pandas.concat instead.\n",
      "  df = df.append(datarow, ignore_index=True)\n"
     ]
    },
    {
     "name": "stdout",
     "output_type": "stream",
     "text": [
      "Tuesdays 6-8 and Fridays 7-10Columbus, OH 43210\n",
      "Tuesdays 6 None\n",
      "test\n",
      "TEST\n",
      "Bi-weekly Tuesday's 6:00PM--Columbus, OH 43210\n",
      "TEST\n"
     ]
    },
    {
     "name": "stderr",
     "output_type": "stream",
     "text": [
      "C:\\Users\\lando\\AppData\\Local\\Temp\\ipykernel_34800\\3465631864.py:63: FutureWarning: The frame.append method is deprecated and will be removed from pandas in a future version. Use pandas.concat instead.\n",
      "  df = df.append(datarow, ignore_index=True)\n",
      "C:\\Users\\lando\\AppData\\Local\\Temp\\ipykernel_34800\\3465631864.py:63: FutureWarning: The frame.append method is deprecated and will be removed from pandas in a future version. Use pandas.concat instead.\n",
      "  df = df.append(datarow, ignore_index=True)\n"
     ]
    },
    {
     "name": "stdout",
     "output_type": "stream",
     "text": [
      "Not Listed\n",
      "TEST\n",
      "Wednesdays 7:00-8:30 PMColumbus, OH 43210\n",
      "Wednesdays 7:00 None\n",
      "test\n",
      "TEST\n"
     ]
    },
    {
     "name": "stderr",
     "output_type": "stream",
     "text": [
      "C:\\Users\\lando\\AppData\\Local\\Temp\\ipykernel_34800\\3465631864.py:63: FutureWarning: The frame.append method is deprecated and will be removed from pandas in a future version. Use pandas.concat instead.\n",
      "  df = df.append(datarow, ignore_index=True)\n",
      "C:\\Users\\lando\\AppData\\Local\\Temp\\ipykernel_34800\\3465631864.py:63: FutureWarning: The frame.append method is deprecated and will be removed from pandas in a future version. Use pandas.concat instead.\n",
      "  df = df.append(datarow, ignore_index=True)\n"
     ]
    },
    {
     "name": "stdout",
     "output_type": "stream",
     "text": [
      "TBAColumbus, OH 43210\n",
      "TEST\n",
      "Tuesdays 7:00-8:00 PMColumbus, OH 43210\n",
      "Tuesdays 7:00 None\n",
      "test\n",
      "TEST\n"
     ]
    },
    {
     "name": "stderr",
     "output_type": "stream",
     "text": [
      "C:\\Users\\lando\\AppData\\Local\\Temp\\ipykernel_34800\\3465631864.py:63: FutureWarning: The frame.append method is deprecated and will be removed from pandas in a future version. Use pandas.concat instead.\n",
      "  df = df.append(datarow, ignore_index=True)\n",
      "C:\\Users\\lando\\AppData\\Local\\Temp\\ipykernel_34800\\3465631864.py:63: FutureWarning: The frame.append method is deprecated and will be removed from pandas in a future version. Use pandas.concat instead.\n",
      "  df = df.append(datarow, ignore_index=True)\n"
     ]
    },
    {
     "name": "stdout",
     "output_type": "stream",
     "text": [
      "Monday at 6:00 pmColumbus, OH 43210\n",
      "Monday 6:00 pm\n",
      "test\n",
      "TEST\n",
      "Biweekly Thursdays at 8:00 PM1739 N. High Street, Columbus, OHColumbus, OH 43210\n",
      "Thursdays 8:00 PM\n",
      "test\n",
      "TEST\n"
     ]
    },
    {
     "name": "stderr",
     "output_type": "stream",
     "text": [
      "C:\\Users\\lando\\AppData\\Local\\Temp\\ipykernel_34800\\3465631864.py:63: FutureWarning: The frame.append method is deprecated and will be removed from pandas in a future version. Use pandas.concat instead.\n",
      "  df = df.append(datarow, ignore_index=True)\n",
      "C:\\Users\\lando\\AppData\\Local\\Temp\\ipykernel_34800\\3465631864.py:63: FutureWarning: The frame.append method is deprecated and will be removed from pandas in a future version. Use pandas.concat instead.\n",
      "  df = df.append(datarow, ignore_index=True)\n"
     ]
    },
    {
     "name": "stdout",
     "output_type": "stream",
     "text": [
      "Columbus, OH 43210\n",
      "TEST\n"
     ]
    },
    {
     "name": "stderr",
     "output_type": "stream",
     "text": [
      "C:\\Users\\lando\\AppData\\Local\\Temp\\ipykernel_34800\\3465631864.py:63: FutureWarning: The frame.append method is deprecated and will be removed from pandas in a future version. Use pandas.concat instead.\n",
      "  df = df.append(datarow, ignore_index=True)\n"
     ]
    },
    {
     "name": "stdout",
     "output_type": "stream",
     "text": [
      "Every other Monday at 6:00pmColumbus, OH 43210\n",
      "Monday 6:00 pm\n",
      "test\n",
      "TEST\n"
     ]
    },
    {
     "name": "stderr",
     "output_type": "stream",
     "text": [
      "C:\\Users\\lando\\AppData\\Local\\Temp\\ipykernel_34800\\3465631864.py:63: FutureWarning: The frame.append method is deprecated and will be removed from pandas in a future version. Use pandas.concat instead.\n",
      "  df = df.append(datarow, ignore_index=True)\n"
     ]
    },
    {
     "name": "stdout",
     "output_type": "stream",
     "text": [
      "Tuesdays, 11:30 AM-12:20 PM500 W 12 AveColumbus, OH 43210Columbus, OH 43210\n",
      "Tuesdays 11:30 AM\n",
      "test\n",
      "TEST\n"
     ]
    },
    {
     "name": "stderr",
     "output_type": "stream",
     "text": [
      "C:\\Users\\lando\\AppData\\Local\\Temp\\ipykernel_34800\\3465631864.py:63: FutureWarning: The frame.append method is deprecated and will be removed from pandas in a future version. Use pandas.concat instead.\n",
      "  df = df.append(datarow, ignore_index=True)\n"
     ]
    },
    {
     "name": "stdout",
     "output_type": "stream",
     "text": [
      "Tuesday at 6 pmColumbus, OH 43210\n",
      "Tuesday 6 pm\n",
      "test\n",
      "TEST\n"
     ]
    },
    {
     "name": "stderr",
     "output_type": "stream",
     "text": [
      "C:\\Users\\lando\\AppData\\Local\\Temp\\ipykernel_34800\\3465631864.py:63: FutureWarning: The frame.append method is deprecated and will be removed from pandas in a future version. Use pandas.concat instead.\n",
      "  df = df.append(datarow, ignore_index=True)\n"
     ]
    },
    {
     "name": "stdout",
     "output_type": "stream",
     "text": [
      "As needed370 W 9th Ave.Columbus OH 43210Columbus, OH 43210\n",
      "W 9 None\n",
      "test\n",
      "TEST\n",
      "1st & 3rd Thursdays at 7pmColumbus, OH 43210\n",
      "Thursdays 7 pm\n",
      "test\n",
      "TEST\n"
     ]
    },
    {
     "name": "stderr",
     "output_type": "stream",
     "text": [
      "C:\\Users\\lando\\AppData\\Local\\Temp\\ipykernel_34800\\3465631864.py:63: FutureWarning: The frame.append method is deprecated and will be removed from pandas in a future version. Use pandas.concat instead.\n",
      "  df = df.append(datarow, ignore_index=True)\n",
      "C:\\Users\\lando\\AppData\\Local\\Temp\\ipykernel_34800\\3465631864.py:63: FutureWarning: The frame.append method is deprecated and will be removed from pandas in a future version. Use pandas.concat instead.\n",
      "  df = df.append(datarow, ignore_index=True)\n"
     ]
    },
    {
     "name": "stdout",
     "output_type": "stream",
     "text": [
      "2nd and 4th Thursday @ 5:30pm Derby Hall 1080154 North Oval MallColumbus, OH 43210\n",
      "Thursday 5:30 pm\n",
      "test\n",
      "TEST\n",
      "One Thursday per month, 5-6PM154 N. Oval MallColumbus, OH 43210\n",
      "TEST\n"
     ]
    },
    {
     "name": "stderr",
     "output_type": "stream",
     "text": [
      "C:\\Users\\lando\\AppData\\Local\\Temp\\ipykernel_34800\\3465631864.py:63: FutureWarning: The frame.append method is deprecated and will be removed from pandas in a future version. Use pandas.concat instead.\n",
      "  df = df.append(datarow, ignore_index=True)\n",
      "C:\\Users\\lando\\AppData\\Local\\Temp\\ipykernel_34800\\3465631864.py:63: FutureWarning: The frame.append method is deprecated and will be removed from pandas in a future version. Use pandas.concat instead.\n",
      "  df = df.append(datarow, ignore_index=True)\n"
     ]
    },
    {
     "name": "stdout",
     "output_type": "stream",
     "text": [
      "Fridays 12 pm333 West 10th Ave, Columbus, Ohio, 43210Columbus, OH 43210\n",
      "Fridays 12 pm\n",
      "test\n",
      "TEST\n",
      "Mondays at 5:30pm1739 N H1775 College RdColumbus, OH 43201Columbus, OH 43210\n",
      "Mondays 5:30 pm\n",
      "test\n",
      "TEST\n"
     ]
    },
    {
     "name": "stderr",
     "output_type": "stream",
     "text": [
      "C:\\Users\\lando\\AppData\\Local\\Temp\\ipykernel_34800\\3465631864.py:63: FutureWarning: The frame.append method is deprecated and will be removed from pandas in a future version. Use pandas.concat instead.\n",
      "  df = df.append(datarow, ignore_index=True)\n",
      "C:\\Users\\lando\\AppData\\Local\\Temp\\ipykernel_34800\\3465631864.py:63: FutureWarning: The frame.append method is deprecated and will be removed from pandas in a future version. Use pandas.concat instead.\n",
      "  df = df.append(datarow, ignore_index=True)\n"
     ]
    },
    {
     "name": "stdout",
     "output_type": "stream",
     "text": [
      "Mondays 6:30 pm1775 College Road SouthColumbus, OH 43210\n",
      "Mondays 6:30 pm\n",
      "test\n",
      "TEST\n",
      "Monday 7pmColumbus, OH 43210\n",
      "Monday 7 pm\n",
      "test\n",
      "TEST\n"
     ]
    },
    {
     "name": "stderr",
     "output_type": "stream",
     "text": [
      "C:\\Users\\lando\\AppData\\Local\\Temp\\ipykernel_34800\\3465631864.py:63: FutureWarning: The frame.append method is deprecated and will be removed from pandas in a future version. Use pandas.concat instead.\n",
      "  df = df.append(datarow, ignore_index=True)\n",
      "C:\\Users\\lando\\AppData\\Local\\Temp\\ipykernel_34800\\3465631864.py:63: FutureWarning: The frame.append method is deprecated and will be removed from pandas in a future version. Use pandas.concat instead.\n",
      "  df = df.append(datarow, ignore_index=True)\n"
     ]
    },
    {
     "name": "stdout",
     "output_type": "stream",
     "text": [
      "Sunday 4PM1618 Summit StreetColumbus, OH 43210\n",
      "Sunday 4 PM\n",
      "test\n",
      "TEST\n",
      "Columbus, OH 43210\n",
      "TEST\n"
     ]
    },
    {
     "name": "stderr",
     "output_type": "stream",
     "text": [
      "C:\\Users\\lando\\AppData\\Local\\Temp\\ipykernel_34800\\3465631864.py:63: FutureWarning: The frame.append method is deprecated and will be removed from pandas in a future version. Use pandas.concat instead.\n",
      "  df = df.append(datarow, ignore_index=True)\n",
      "C:\\Users\\lando\\AppData\\Local\\Temp\\ipykernel_34800\\3465631864.py:63: FutureWarning: The frame.append method is deprecated and will be removed from pandas in a future version. Use pandas.concat instead.\n",
      "  df = df.append(datarow, ignore_index=True)\n"
     ]
    },
    {
     "name": "stdout",
     "output_type": "stream",
     "text": [
      "Every 1st Tuesday of the Month 7pmColumbus, OH 43210\n",
      "TEST\n",
      "Columbus, OH 43210\n",
      "TEST\n"
     ]
    },
    {
     "name": "stderr",
     "output_type": "stream",
     "text": [
      "C:\\Users\\lando\\AppData\\Local\\Temp\\ipykernel_34800\\3465631864.py:63: FutureWarning: The frame.append method is deprecated and will be removed from pandas in a future version. Use pandas.concat instead.\n",
      "  df = df.append(datarow, ignore_index=True)\n",
      "C:\\Users\\lando\\AppData\\Local\\Temp\\ipykernel_34800\\3465631864.py:63: FutureWarning: The frame.append method is deprecated and will be removed from pandas in a future version. Use pandas.concat instead.\n",
      "  df = df.append(datarow, ignore_index=True)\n"
     ]
    },
    {
     "name": "stdout",
     "output_type": "stream",
     "text": [
      "Monday 7-8 once a monthColumbus, OH 43210\n",
      "Monday 7 None\n",
      "test\n",
      "TEST\n",
      "Wednesday, 6:00 PMColumbus, OH 43210\n",
      "Wednesday 6:00 PM\n",
      "test\n",
      "TEST\n"
     ]
    },
    {
     "name": "stderr",
     "output_type": "stream",
     "text": [
      "C:\\Users\\lando\\AppData\\Local\\Temp\\ipykernel_34800\\3465631864.py:63: FutureWarning: The frame.append method is deprecated and will be removed from pandas in a future version. Use pandas.concat instead.\n",
      "  df = df.append(datarow, ignore_index=True)\n",
      "C:\\Users\\lando\\AppData\\Local\\Temp\\ipykernel_34800\\3465631864.py:63: FutureWarning: The frame.append method is deprecated and will be removed from pandas in a future version. Use pandas.concat instead.\n",
      "  df = df.append(datarow, ignore_index=True)\n"
     ]
    },
    {
     "name": "stdout",
     "output_type": "stream",
     "text": [
      "TBA305 W. 12th Avenue Columbus, OH 43210Columbus, OH 43210\n",
      "W 12 None\n",
      "test\n",
      "TEST\n"
     ]
    },
    {
     "name": "stderr",
     "output_type": "stream",
     "text": [
      "C:\\Users\\lando\\AppData\\Local\\Temp\\ipykernel_34800\\3465631864.py:63: FutureWarning: The frame.append method is deprecated and will be removed from pandas in a future version. Use pandas.concat instead.\n",
      "  df = df.append(datarow, ignore_index=True)\n"
     ]
    },
    {
     "name": "stdout",
     "output_type": "stream",
     "text": [
      "Sundays 7:00-8:00 PMTBDColumbus, OH 43210\n",
      "Sundays 7:00 None\n",
      "test\n",
      "TEST\n",
      "Wednesdays 7pm-9:45pm1055 Carmack Rd. Columbus, OH 43210Columbus, OH 43210\n",
      "Wednesdays 7 pm\n",
      "test\n",
      "TEST\n"
     ]
    },
    {
     "name": "stderr",
     "output_type": "stream",
     "text": [
      "C:\\Users\\lando\\AppData\\Local\\Temp\\ipykernel_34800\\3465631864.py:63: FutureWarning: The frame.append method is deprecated and will be removed from pandas in a future version. Use pandas.concat instead.\n",
      "  df = df.append(datarow, ignore_index=True)\n",
      "C:\\Users\\lando\\AppData\\Local\\Temp\\ipykernel_34800\\3465631864.py:63: FutureWarning: The frame.append method is deprecated and will be removed from pandas in a future version. Use pandas.concat instead.\n",
      "  df = df.append(datarow, ignore_index=True)\n"
     ]
    },
    {
     "name": "stdout",
     "output_type": "stream",
     "text": [
      "Thursday 12:15 PM1810 College RdColumbus, OH 43210\n",
      "Thursday 12:15 PM\n",
      "test\n",
      "TEST\n",
      "Biweekly on Thursdays from 7pm to 8pm EST1640 Neil Avenue, Columbus, OH 43201Columbus, OH 43210\n",
      "TEST\n"
     ]
    },
    {
     "name": "stderr",
     "output_type": "stream",
     "text": [
      "C:\\Users\\lando\\AppData\\Local\\Temp\\ipykernel_34800\\3465631864.py:63: FutureWarning: The frame.append method is deprecated and will be removed from pandas in a future version. Use pandas.concat instead.\n",
      "  df = df.append(datarow, ignore_index=True)\n",
      "C:\\Users\\lando\\AppData\\Local\\Temp\\ipykernel_34800\\3465631864.py:63: FutureWarning: The frame.append method is deprecated and will be removed from pandas in a future version. Use pandas.concat instead.\n",
      "  df = df.append(datarow, ignore_index=True)\n"
     ]
    },
    {
     "name": "stdout",
     "output_type": "stream",
     "text": [
      "Monday, 11:45am-1pm2108 Neil AvenueColumbus, OH 43210\n",
      "Monday 11:45 am\n",
      "test\n",
      "TEST\n",
      "Sundays at 11:00 AM42 E. Tompkins St.Columbus, OH 43210\n",
      "Sundays 11:00 AM\n",
      "test\n",
      "TEST\n"
     ]
    },
    {
     "name": "stderr",
     "output_type": "stream",
     "text": [
      "C:\\Users\\lando\\AppData\\Local\\Temp\\ipykernel_34800\\3465631864.py:63: FutureWarning: The frame.append method is deprecated and will be removed from pandas in a future version. Use pandas.concat instead.\n",
      "  df = df.append(datarow, ignore_index=True)\n",
      "C:\\Users\\lando\\AppData\\Local\\Temp\\ipykernel_34800\\3465631864.py:63: FutureWarning: The frame.append method is deprecated and will be removed from pandas in a future version. Use pandas.concat instead.\n",
      "  df = df.append(datarow, ignore_index=True)\n"
     ]
    },
    {
     "name": "stdout",
     "output_type": "stream",
     "text": [
      "TBDColumbus, OH 43210\n",
      "TEST\n",
      "Columbus, OH 43210\n",
      "TEST\n"
     ]
    },
    {
     "name": "stderr",
     "output_type": "stream",
     "text": [
      "C:\\Users\\lando\\AppData\\Local\\Temp\\ipykernel_34800\\3465631864.py:63: FutureWarning: The frame.append method is deprecated and will be removed from pandas in a future version. Use pandas.concat instead.\n",
      "  df = df.append(datarow, ignore_index=True)\n",
      "C:\\Users\\lando\\AppData\\Local\\Temp\\ipykernel_34800\\3465631864.py:63: FutureWarning: The frame.append method is deprecated and will be removed from pandas in a future version. Use pandas.concat instead.\n",
      "  df = df.append(datarow, ignore_index=True)\n"
     ]
    },
    {
     "name": "stdout",
     "output_type": "stream",
     "text": [
      "TBDN/AColumbus, OH 43210\n",
      "TEST\n"
     ]
    },
    {
     "name": "stderr",
     "output_type": "stream",
     "text": [
      "C:\\Users\\lando\\AppData\\Local\\Temp\\ipykernel_34800\\3465631864.py:63: FutureWarning: The frame.append method is deprecated and will be removed from pandas in a future version. Use pandas.concat instead.\n",
      "  df = df.append(datarow, ignore_index=True)\n"
     ]
    },
    {
     "name": "stdout",
     "output_type": "stream",
     "text": [
      "Tuesdays, 5:30pm-6:30pmColumbus, OH 43210\n",
      "Tuesdays 5:30 pm\n",
      "test\n",
      "TEST\n",
      "TBDColumbus, OH 43210\n",
      "TEST\n"
     ]
    },
    {
     "name": "stderr",
     "output_type": "stream",
     "text": [
      "C:\\Users\\lando\\AppData\\Local\\Temp\\ipykernel_34800\\3465631864.py:63: FutureWarning: The frame.append method is deprecated and will be removed from pandas in a future version. Use pandas.concat instead.\n",
      "  df = df.append(datarow, ignore_index=True)\n",
      "C:\\Users\\lando\\AppData\\Local\\Temp\\ipykernel_34800\\3465631864.py:63: FutureWarning: The frame.append method is deprecated and will be removed from pandas in a future version. Use pandas.concat instead.\n",
      "  df = df.append(datarow, ignore_index=True)\n"
     ]
    },
    {
     "name": "stdout",
     "output_type": "stream",
     "text": [
      "Wednesday 4:00-7:00pm1739 N High St, Columbus, OH 43210Columbus, OH 43210\n",
      "Wednesday 4:00 None\n",
      "test\n",
      "TEST\n",
      "TBATBAColumbus, OH 43210\n",
      "TEST\n"
     ]
    },
    {
     "name": "stderr",
     "output_type": "stream",
     "text": [
      "C:\\Users\\lando\\AppData\\Local\\Temp\\ipykernel_34800\\3465631864.py:63: FutureWarning: The frame.append method is deprecated and will be removed from pandas in a future version. Use pandas.concat instead.\n",
      "  df = df.append(datarow, ignore_index=True)\n",
      "C:\\Users\\lando\\AppData\\Local\\Temp\\ipykernel_34800\\3465631864.py:63: FutureWarning: The frame.append method is deprecated and will be removed from pandas in a future version. Use pandas.concat instead.\n",
      "  df = df.append(datarow, ignore_index=True)\n"
     ]
    },
    {
     "name": "stdout",
     "output_type": "stream",
     "text": [
      "TBD338 West 10th Ave.Columbus, OH 43210\n",
      "TEST\n",
      "Fridays, 7:00 PMLocation: TBD - Check websiteColumbus, OH 43210\n",
      "Fridays 7:00 PM\n",
      "test\n",
      "TEST\n"
     ]
    },
    {
     "name": "stderr",
     "output_type": "stream",
     "text": [
      "C:\\Users\\lando\\AppData\\Local\\Temp\\ipykernel_34800\\3465631864.py:63: FutureWarning: The frame.append method is deprecated and will be removed from pandas in a future version. Use pandas.concat instead.\n",
      "  df = df.append(datarow, ignore_index=True)\n",
      "C:\\Users\\lando\\AppData\\Local\\Temp\\ipykernel_34800\\3465631864.py:63: FutureWarning: The frame.append method is deprecated and will be removed from pandas in a future version. Use pandas.concat instead.\n",
      "  df = df.append(datarow, ignore_index=True)\n"
     ]
    },
    {
     "name": "stdout",
     "output_type": "stream",
     "text": [
      "Sundays at 6 pm808 Riverview DrApt 22BColumbus, OH 43210\n",
      "Sundays 6 pm\n",
      "test\n",
      "TEST\n",
      "contact Primary Leader for Meeting dates and timesVariousColumbus, OH 43210\n",
      "TEST\n"
     ]
    },
    {
     "name": "stderr",
     "output_type": "stream",
     "text": [
      "C:\\Users\\lando\\AppData\\Local\\Temp\\ipykernel_34800\\3465631864.py:63: FutureWarning: The frame.append method is deprecated and will be removed from pandas in a future version. Use pandas.concat instead.\n",
      "  df = df.append(datarow, ignore_index=True)\n",
      "C:\\Users\\lando\\AppData\\Local\\Temp\\ipykernel_34800\\3465631864.py:63: FutureWarning: The frame.append method is deprecated and will be removed from pandas in a future version. Use pandas.concat instead.\n",
      "  df = df.append(datarow, ignore_index=True)\n"
     ]
    },
    {
     "name": "stdout",
     "output_type": "stream",
     "text": [
      "Last Thursday of each month at 11:00pm2021 Coffey RoadColumbus, OH 43210\n",
      "TEST\n",
      "Friday 5:00College Road 1775Columbus, OH 43210\n",
      "Friday 5:00 None\n",
      "test\n",
      "TEST\n"
     ]
    },
    {
     "name": "stderr",
     "output_type": "stream",
     "text": [
      "C:\\Users\\lando\\AppData\\Local\\Temp\\ipykernel_34800\\3465631864.py:63: FutureWarning: The frame.append method is deprecated and will be removed from pandas in a future version. Use pandas.concat instead.\n",
      "  df = df.append(datarow, ignore_index=True)\n",
      "C:\\Users\\lando\\AppData\\Local\\Temp\\ipykernel_34800\\3465631864.py:63: FutureWarning: The frame.append method is deprecated and will be removed from pandas in a future version. Use pandas.concat instead.\n",
      "  df = df.append(datarow, ignore_index=True)\n"
     ]
    },
    {
     "name": "stdout",
     "output_type": "stream",
     "text": [
      "Once a month153 W. 12th AvenueColumbus, OH 43210\n",
      "W 12 None\n",
      "test\n",
      "TEST\n",
      "MonthlyColumbus, OH 43210\n",
      "TEST\n"
     ]
    },
    {
     "name": "stderr",
     "output_type": "stream",
     "text": [
      "C:\\Users\\lando\\AppData\\Local\\Temp\\ipykernel_34800\\3465631864.py:63: FutureWarning: The frame.append method is deprecated and will be removed from pandas in a future version. Use pandas.concat instead.\n",
      "  df = df.append(datarow, ignore_index=True)\n",
      "C:\\Users\\lando\\AppData\\Local\\Temp\\ipykernel_34800\\3465631864.py:63: FutureWarning: The frame.append method is deprecated and will be removed from pandas in a future version. Use pandas.concat instead.\n",
      "  df = df.append(datarow, ignore_index=True)\n"
     ]
    },
    {
     "name": "stdout",
     "output_type": "stream",
     "text": [
      "Tuesdays 5pm122 Hitchcock Hall, 2070 Neil AveColumbus OH 43210Columbus, OH 43210\n",
      "Tuesdays 5 pm\n",
      "test\n",
      "TEST\n",
      "First Friday of every month at 3:30 PM318 West 12th AveColumbus, OH 43210\n",
      "TEST\n"
     ]
    },
    {
     "name": "stderr",
     "output_type": "stream",
     "text": [
      "C:\\Users\\lando\\AppData\\Local\\Temp\\ipykernel_34800\\3465631864.py:63: FutureWarning: The frame.append method is deprecated and will be removed from pandas in a future version. Use pandas.concat instead.\n",
      "  df = df.append(datarow, ignore_index=True)\n",
      "C:\\Users\\lando\\AppData\\Local\\Temp\\ipykernel_34800\\3465631864.py:63: FutureWarning: The frame.append method is deprecated and will be removed from pandas in a future version. Use pandas.concat instead.\n",
      "  df = df.append(datarow, ignore_index=True)\n"
     ]
    },
    {
     "name": "stdout",
     "output_type": "stream",
     "text": [
      "Monthly Board Meetings Tuesdays, 4:30pm-5:30pmZoom LinkColumbus, OH 43210\n",
      "Tuesdays 4:30 pm\n",
      "test\n",
      "TEST\n",
      "Meeting day varies and is in the evening or lunchOSU Optometry338 West 10th AveColumbus, OH 43210\n",
      "TEST\n"
     ]
    },
    {
     "name": "stderr",
     "output_type": "stream",
     "text": [
      "C:\\Users\\lando\\AppData\\Local\\Temp\\ipykernel_34800\\3465631864.py:63: FutureWarning: The frame.append method is deprecated and will be removed from pandas in a future version. Use pandas.concat instead.\n",
      "  df = df.append(datarow, ignore_index=True)\n",
      "C:\\Users\\lando\\AppData\\Local\\Temp\\ipykernel_34800\\3465631864.py:63: FutureWarning: The frame.append method is deprecated and will be removed from pandas in a future version. Use pandas.concat instead.\n",
      "  df = df.append(datarow, ignore_index=True)\n"
     ]
    },
    {
     "name": "stdout",
     "output_type": "stream",
     "text": [
      "Fridays at 3:30pm230 North Oval MallColumbus Ohio 43210Columbus, OH 43210\n",
      "Fridays 3:30 pm\n",
      "test\n",
      "TEST\n",
      "Variable; Once monthly1787 Neil Ave.Columbus, OH 43210\n",
      "TEST\n"
     ]
    },
    {
     "name": "stderr",
     "output_type": "stream",
     "text": [
      "C:\\Users\\lando\\AppData\\Local\\Temp\\ipykernel_34800\\3465631864.py:63: FutureWarning: The frame.append method is deprecated and will be removed from pandas in a future version. Use pandas.concat instead.\n",
      "  df = df.append(datarow, ignore_index=True)\n",
      "C:\\Users\\lando\\AppData\\Local\\Temp\\ipykernel_34800\\3465631864.py:63: FutureWarning: The frame.append method is deprecated and will be removed from pandas in a future version. Use pandas.concat instead.\n",
      "  df = df.append(datarow, ignore_index=True)\n"
     ]
    },
    {
     "name": "stdout",
     "output_type": "stream",
     "text": [
      "Wednesday 6:45128 N. Oval MallColumbus OH 43210Columbus, OH 43210\n",
      "Wednesday 6:45 None\n",
      "test\n",
      "TEST\n"
     ]
    },
    {
     "name": "stderr",
     "output_type": "stream",
     "text": [
      "C:\\Users\\lando\\AppData\\Local\\Temp\\ipykernel_34800\\3465631864.py:63: FutureWarning: The frame.append method is deprecated and will be removed from pandas in a future version. Use pandas.concat instead.\n",
      "  df = df.append(datarow, ignore_index=True)\n"
     ]
    },
    {
     "name": "stdout",
     "output_type": "stream",
     "text": [
      "VariableColumbus, OH 43210\n",
      "TEST\n",
      "First Tuesday of the Month at 7:00pmHopkins Hall, North Oval MallColumbus, OH 43210\n",
      "TEST\n"
     ]
    },
    {
     "name": "stderr",
     "output_type": "stream",
     "text": [
      "C:\\Users\\lando\\AppData\\Local\\Temp\\ipykernel_34800\\3465631864.py:63: FutureWarning: The frame.append method is deprecated and will be removed from pandas in a future version. Use pandas.concat instead.\n",
      "  df = df.append(datarow, ignore_index=True)\n",
      "C:\\Users\\lando\\AppData\\Local\\Temp\\ipykernel_34800\\3465631864.py:63: FutureWarning: The frame.append method is deprecated and will be removed from pandas in a future version. Use pandas.concat instead.\n",
      "  df = df.append(datarow, ignore_index=True)\n"
     ]
    },
    {
     "name": "stdout",
     "output_type": "stream",
     "text": [
      "tbdColumbus, OH 43210\n",
      "TEST\n",
      "Wednesdays, 4:00 - 5:00 pm174 W. 18th Ave.Columbus, OH 43210\n",
      "Wednesdays 4:00 None\n",
      "test\n",
      "TEST\n"
     ]
    },
    {
     "name": "stderr",
     "output_type": "stream",
     "text": [
      "C:\\Users\\lando\\AppData\\Local\\Temp\\ipykernel_34800\\3465631864.py:63: FutureWarning: The frame.append method is deprecated and will be removed from pandas in a future version. Use pandas.concat instead.\n",
      "  df = df.append(datarow, ignore_index=True)\n",
      "C:\\Users\\lando\\AppData\\Local\\Temp\\ipykernel_34800\\3465631864.py:63: FutureWarning: The frame.append method is deprecated and will be removed from pandas in a future version. Use pandas.concat instead.\n",
      "  df = df.append(datarow, ignore_index=True)\n"
     ]
    },
    {
     "name": "stdout",
     "output_type": "stream",
     "text": [
      "Friday mornings1775 College Rd.Columbus, OH 43210\n",
      "TEST\n",
      "Monthly1849 Cannon Dr.Columbus, OH 43210\n",
      "TEST\n"
     ]
    },
    {
     "name": "stderr",
     "output_type": "stream",
     "text": [
      "C:\\Users\\lando\\AppData\\Local\\Temp\\ipykernel_34800\\3465631864.py:63: FutureWarning: The frame.append method is deprecated and will be removed from pandas in a future version. Use pandas.concat instead.\n",
      "  df = df.append(datarow, ignore_index=True)\n",
      "C:\\Users\\lando\\AppData\\Local\\Temp\\ipykernel_34800\\3465631864.py:63: FutureWarning: The frame.append method is deprecated and will be removed from pandas in a future version. Use pandas.concat instead.\n",
      "  df = df.append(datarow, ignore_index=True)\n"
     ]
    },
    {
     "name": "stdout",
     "output_type": "stream",
     "text": [
      "First Wednesday of every month at 1:30 to 2:301945 N High StColumbus, OH 43210Columbus, OH 43210\n",
      "TEST\n",
      "Thursday at 8pmhttps://osu.zoom.us/j/93572163108?pwd=d2o4N01qQXg1Columbus, OH 43210\n",
      "Thursday 8 pm\n",
      "test\n",
      "TEST\n"
     ]
    },
    {
     "name": "stderr",
     "output_type": "stream",
     "text": [
      "C:\\Users\\lando\\AppData\\Local\\Temp\\ipykernel_34800\\3465631864.py:63: FutureWarning: The frame.append method is deprecated and will be removed from pandas in a future version. Use pandas.concat instead.\n",
      "  df = df.append(datarow, ignore_index=True)\n",
      "C:\\Users\\lando\\AppData\\Local\\Temp\\ipykernel_34800\\3465631864.py:63: FutureWarning: The frame.append method is deprecated and will be removed from pandas in a future version. Use pandas.concat instead.\n",
      "  df = df.append(datarow, ignore_index=True)\n"
     ]
    },
    {
     "name": "stdout",
     "output_type": "stream",
     "text": [
      "TBA46 E. 16th Ave.Columbus, OH 43210\n",
      "TEST\n",
      "Thursdays 8:00pmColumbus, OH 43210\n",
      "Thursdays 8:00 pm\n",
      "test\n",
      "TEST\n"
     ]
    },
    {
     "name": "stderr",
     "output_type": "stream",
     "text": [
      "C:\\Users\\lando\\AppData\\Local\\Temp\\ipykernel_34800\\3465631864.py:63: FutureWarning: The frame.append method is deprecated and will be removed from pandas in a future version. Use pandas.concat instead.\n",
      "  df = df.append(datarow, ignore_index=True)\n",
      "C:\\Users\\lando\\AppData\\Local\\Temp\\ipykernel_34800\\3465631864.py:63: FutureWarning: The frame.append method is deprecated and will be removed from pandas in a future version. Use pandas.concat instead.\n",
      "  df = df.append(datarow, ignore_index=True)\n"
     ]
    },
    {
     "name": "stdout",
     "output_type": "stream",
     "text": [
      "1739 North High StreetColumbus, Ohio 43201Columbus, OH 43210\n",
      "TEST\n",
      "Sundays 8pmColumbus, OH 43210\n",
      "Sundays 8 pm\n",
      "test\n",
      "TEST\n"
     ]
    },
    {
     "name": "stderr",
     "output_type": "stream",
     "text": [
      "C:\\Users\\lando\\AppData\\Local\\Temp\\ipykernel_34800\\3465631864.py:63: FutureWarning: The frame.append method is deprecated and will be removed from pandas in a future version. Use pandas.concat instead.\n",
      "  df = df.append(datarow, ignore_index=True)\n",
      "C:\\Users\\lando\\AppData\\Local\\Temp\\ipykernel_34800\\3465631864.py:63: FutureWarning: The frame.append method is deprecated and will be removed from pandas in a future version. Use pandas.concat instead.\n",
      "  df = df.append(datarow, ignore_index=True)\n"
     ]
    },
    {
     "name": "stdout",
     "output_type": "stream",
     "text": [
      "To Be Determined Columbus, OH 43210\n",
      "TEST\n",
      "Friday at 10:30am1827 Neil AvenueColumbus, OH 43210\n",
      "Friday 10:30 am\n",
      "test\n",
      "TEST\n"
     ]
    },
    {
     "name": "stderr",
     "output_type": "stream",
     "text": [
      "C:\\Users\\lando\\AppData\\Local\\Temp\\ipykernel_34800\\3465631864.py:63: FutureWarning: The frame.append method is deprecated and will be removed from pandas in a future version. Use pandas.concat instead.\n",
      "  df = df.append(datarow, ignore_index=True)\n",
      "C:\\Users\\lando\\AppData\\Local\\Temp\\ipykernel_34800\\3465631864.py:63: FutureWarning: The frame.append method is deprecated and will be removed from pandas in a future version. Use pandas.concat instead.\n",
      "  df = df.append(datarow, ignore_index=True)\n"
     ]
    },
    {
     "name": "stdout",
     "output_type": "stream",
     "text": [
      "Fridays @ 9 am1835 Neil AvenueColumbus, OH 43210\n",
      "Fridays 9 am\n",
      "test\n",
      "TEST\n",
      "Sundays 3:00-4:30pm, Wednesdays 7:00 - 8:30pm1858 Neil Ave, Columbus, OH 43210Columbus, OH 43210\n",
      "Sundays 3:00 None\n",
      "test\n",
      "TEST\n"
     ]
    },
    {
     "name": "stderr",
     "output_type": "stream",
     "text": [
      "C:\\Users\\lando\\AppData\\Local\\Temp\\ipykernel_34800\\3465631864.py:63: FutureWarning: The frame.append method is deprecated and will be removed from pandas in a future version. Use pandas.concat instead.\n",
      "  df = df.append(datarow, ignore_index=True)\n",
      "C:\\Users\\lando\\AppData\\Local\\Temp\\ipykernel_34800\\3465631864.py:63: FutureWarning: The frame.append method is deprecated and will be removed from pandas in a future version. Use pandas.concat instead.\n",
      "  df = df.append(datarow, ignore_index=True)\n"
     ]
    },
    {
     "name": "stdout",
     "output_type": "stream",
     "text": [
      "Every other Wednesday2070 Neil AvenueColumbus, OH 43210Columbus, OH 43210\n",
      "Wednesday 2070 None\n",
      "test\n",
      "TEST\n"
     ]
    },
    {
     "name": "stderr",
     "output_type": "stream",
     "text": [
      "C:\\Users\\lando\\AppData\\Local\\Temp\\ipykernel_34800\\3465631864.py:63: FutureWarning: The frame.append method is deprecated and will be removed from pandas in a future version. Use pandas.concat instead.\n",
      "  df = df.append(datarow, ignore_index=True)\n"
     ]
    },
    {
     "name": "stdout",
     "output_type": "stream",
     "text": [
      "Wednesday 4-5:30pm (Aviation Room 3084, 2nd floor)1739 N High StColumbus, OH 43210\n",
      "Wednesday 4 None\n",
      "test\n",
      "TEST\n"
     ]
    },
    {
     "name": "stderr",
     "output_type": "stream",
     "text": [
      "C:\\Users\\lando\\AppData\\Local\\Temp\\ipykernel_34800\\3465631864.py:63: FutureWarning: The frame.append method is deprecated and will be removed from pandas in a future version. Use pandas.concat instead.\n",
      "  df = df.append(datarow, ignore_index=True)\n"
     ]
    },
    {
     "name": "stdout",
     "output_type": "stream",
     "text": [
      "Columbus, OH 43210\n",
      "TEST\n"
     ]
    },
    {
     "name": "stderr",
     "output_type": "stream",
     "text": [
      "C:\\Users\\lando\\AppData\\Local\\Temp\\ipykernel_34800\\3465631864.py:63: FutureWarning: The frame.append method is deprecated and will be removed from pandas in a future version. Use pandas.concat instead.\n",
      "  df = df.append(datarow, ignore_index=True)\n"
     ]
    },
    {
     "name": "stdout",
     "output_type": "stream",
     "text": [
      "Monthly - Wednesday EveningsTBAColumbus, OH 43210\n",
      "TEST\n"
     ]
    },
    {
     "name": "stderr",
     "output_type": "stream",
     "text": [
      "C:\\Users\\lando\\AppData\\Local\\Temp\\ipykernel_34800\\3465631864.py:63: FutureWarning: The frame.append method is deprecated and will be removed from pandas in a future version. Use pandas.concat instead.\n",
      "  df = df.append(datarow, ignore_index=True)\n"
     ]
    },
    {
     "name": "stdout",
     "output_type": "stream",
     "text": [
      "Wednesdays 7:00 P.M.N/AColumbus, OH 43210\n",
      "Wednesdays 7:00 None\n",
      "test\n",
      "TEST\n",
      "Sunday 11:01am80 W Woodruff Ave, Columbus, OH 43210Columbus, OH 43210\n",
      "Sunday 11:01 am\n",
      "test\n",
      "TEST\n"
     ]
    },
    {
     "name": "stderr",
     "output_type": "stream",
     "text": [
      "C:\\Users\\lando\\AppData\\Local\\Temp\\ipykernel_34800\\3465631864.py:63: FutureWarning: The frame.append method is deprecated and will be removed from pandas in a future version. Use pandas.concat instead.\n",
      "  df = df.append(datarow, ignore_index=True)\n",
      "C:\\Users\\lando\\AppData\\Local\\Temp\\ipykernel_34800\\3465631864.py:63: FutureWarning: The frame.append method is deprecated and will be removed from pandas in a future version. Use pandas.concat instead.\n",
      "  df = df.append(datarow, ignore_index=True)\n"
     ]
    },
    {
     "name": "stdout",
     "output_type": "stream",
     "text": [
      "Every other Monday at 7pmColumbus, OH 43210\n",
      "Monday 7 pm\n",
      "test\n",
      "TEST\n",
      "Thursdays at 6:30Columbus, OH 43210\n",
      "Thursdays 6:30 None\n",
      "test\n",
      "TEST\n"
     ]
    },
    {
     "name": "stderr",
     "output_type": "stream",
     "text": [
      "C:\\Users\\lando\\AppData\\Local\\Temp\\ipykernel_34800\\3465631864.py:63: FutureWarning: The frame.append method is deprecated and will be removed from pandas in a future version. Use pandas.concat instead.\n",
      "  df = df.append(datarow, ignore_index=True)\n",
      "C:\\Users\\lando\\AppData\\Local\\Temp\\ipykernel_34800\\3465631864.py:63: FutureWarning: The frame.append method is deprecated and will be removed from pandas in a future version. Use pandas.concat instead.\n",
      "  df = df.append(datarow, ignore_index=True)\n"
     ]
    },
    {
     "name": "stdout",
     "output_type": "stream",
     "text": [
      "Columbus, OH 43210\n",
      "TEST\n",
      "Wednesdays 7:00pm, check twitter/website for infoColumbus, OH 43210\n",
      "Wednesdays 7:00 pm\n",
      "test\n",
      "TEST\n"
     ]
    },
    {
     "name": "stderr",
     "output_type": "stream",
     "text": [
      "C:\\Users\\lando\\AppData\\Local\\Temp\\ipykernel_34800\\3465631864.py:63: FutureWarning: The frame.append method is deprecated and will be removed from pandas in a future version. Use pandas.concat instead.\n",
      "  df = df.append(datarow, ignore_index=True)\n",
      "C:\\Users\\lando\\AppData\\Local\\Temp\\ipykernel_34800\\3465631864.py:63: FutureWarning: The frame.append method is deprecated and will be removed from pandas in a future version. Use pandas.concat instead.\n",
      "  df = df.append(datarow, ignore_index=True)\n"
     ]
    },
    {
     "name": "stdout",
     "output_type": "stream",
     "text": [
      "Tuesday 8:30pmColumbus, OH 43210\n",
      "Tuesday 8:30 pm\n",
      "test\n",
      "TEST\n",
      "Columbus, OH 43210\n",
      "TEST\n"
     ]
    },
    {
     "name": "stderr",
     "output_type": "stream",
     "text": [
      "C:\\Users\\lando\\AppData\\Local\\Temp\\ipykernel_34800\\3465631864.py:63: FutureWarning: The frame.append method is deprecated and will be removed from pandas in a future version. Use pandas.concat instead.\n",
      "  df = df.append(datarow, ignore_index=True)\n",
      "C:\\Users\\lando\\AppData\\Local\\Temp\\ipykernel_34800\\3465631864.py:63: FutureWarning: The frame.append method is deprecated and will be removed from pandas in a future version. Use pandas.concat instead.\n",
      "  df = df.append(datarow, ignore_index=True)\n"
     ]
    },
    {
     "name": "stdout",
     "output_type": "stream",
     "text": [
      "Wednesdays monthlyColumbus, OH 43210\n",
      "TEST\n"
     ]
    },
    {
     "name": "stderr",
     "output_type": "stream",
     "text": [
      "C:\\Users\\lando\\AppData\\Local\\Temp\\ipykernel_34800\\3465631864.py:63: FutureWarning: The frame.append method is deprecated and will be removed from pandas in a future version. Use pandas.concat instead.\n",
      "  df = df.append(datarow, ignore_index=True)\n"
     ]
    },
    {
     "name": "stdout",
     "output_type": "stream",
     "text": [
      "Contact us to learn about our virtual activities!Columbus, OH 43210\n",
      "TEST\n",
      "Columbus, OH 43210\n",
      "TEST\n"
     ]
    },
    {
     "name": "stderr",
     "output_type": "stream",
     "text": [
      "C:\\Users\\lando\\AppData\\Local\\Temp\\ipykernel_34800\\3465631864.py:63: FutureWarning: The frame.append method is deprecated and will be removed from pandas in a future version. Use pandas.concat instead.\n",
      "  df = df.append(datarow, ignore_index=True)\n",
      "C:\\Users\\lando\\AppData\\Local\\Temp\\ipykernel_34800\\3465631864.py:63: FutureWarning: The frame.append method is deprecated and will be removed from pandas in a future version. Use pandas.concat instead.\n",
      "  df = df.append(datarow, ignore_index=True)\n"
     ]
    },
    {
     "name": "stdout",
     "output_type": "stream",
     "text": [
      "Last Tuesday of every month at 3:30 pm453 W 10th AveColumbus, OH 43210\n",
      "W 10 None\n",
      "test\n",
      "TEST\n",
      "Tuesdays (Time announced in emails)Columbus, OH 43210\n",
      "TEST\n"
     ]
    },
    {
     "name": "stderr",
     "output_type": "stream",
     "text": [
      "C:\\Users\\lando\\AppData\\Local\\Temp\\ipykernel_34800\\3465631864.py:63: FutureWarning: The frame.append method is deprecated and will be removed from pandas in a future version. Use pandas.concat instead.\n",
      "  df = df.append(datarow, ignore_index=True)\n",
      "C:\\Users\\lando\\AppData\\Local\\Temp\\ipykernel_34800\\3465631864.py:63: FutureWarning: The frame.append method is deprecated and will be removed from pandas in a future version. Use pandas.concat instead.\n",
      "  df = df.append(datarow, ignore_index=True)\n"
     ]
    },
    {
     "name": "stdout",
     "output_type": "stream",
     "text": [
      "Wednesdays 6:00 PM -7:00 PM1827 Neil Ave, Columbus, OH 43210Columbus, OH 43210\n",
      "Wednesdays 6:00 PM\n",
      "test\n",
      "TEST\n",
      "Varies453 West 10th AvenueColumbus, OH 43210\n",
      "TEST\n"
     ]
    },
    {
     "name": "stderr",
     "output_type": "stream",
     "text": [
      "C:\\Users\\lando\\AppData\\Local\\Temp\\ipykernel_34800\\3465631864.py:63: FutureWarning: The frame.append method is deprecated and will be removed from pandas in a future version. Use pandas.concat instead.\n",
      "  df = df.append(datarow, ignore_index=True)\n",
      "C:\\Users\\lando\\AppData\\Local\\Temp\\ipykernel_34800\\3465631864.py:63: FutureWarning: The frame.append method is deprecated and will be removed from pandas in a future version. Use pandas.concat instead.\n",
      "  df = df.append(datarow, ignore_index=True)\n"
     ]
    },
    {
     "name": "stdout",
     "output_type": "stream",
     "text": [
      "Columbus, OH 43210\n",
      "TEST\n",
      "Monday, 7pmColumbus, OH 43210\n",
      "Monday 7 pm\n",
      "test\n",
      "TEST\n"
     ]
    },
    {
     "name": "stderr",
     "output_type": "stream",
     "text": [
      "C:\\Users\\lando\\AppData\\Local\\Temp\\ipykernel_34800\\3465631864.py:63: FutureWarning: The frame.append method is deprecated and will be removed from pandas in a future version. Use pandas.concat instead.\n",
      "  df = df.append(datarow, ignore_index=True)\n",
      "C:\\Users\\lando\\AppData\\Local\\Temp\\ipykernel_34800\\3465631864.py:63: FutureWarning: The frame.append method is deprecated and will be removed from pandas in a future version. Use pandas.concat instead.\n",
      "  df = df.append(datarow, ignore_index=True)\n"
     ]
    },
    {
     "name": "stdout",
     "output_type": "stream",
     "text": [
      "Every Other Tuesday at 6:00pmColumbus, OH 43210\n",
      "Tuesday 6:00 pm\n",
      "test\n",
      "TEST\n",
      "Sundays @ 8:00pmVariesColumbus, OH 43210\n",
      "Sundays 8:00 pm\n",
      "test\n",
      "TEST\n"
     ]
    },
    {
     "name": "stderr",
     "output_type": "stream",
     "text": [
      "C:\\Users\\lando\\AppData\\Local\\Temp\\ipykernel_34800\\3465631864.py:63: FutureWarning: The frame.append method is deprecated and will be removed from pandas in a future version. Use pandas.concat instead.\n",
      "  df = df.append(datarow, ignore_index=True)\n",
      "C:\\Users\\lando\\AppData\\Local\\Temp\\ipykernel_34800\\3465631864.py:63: FutureWarning: The frame.append method is deprecated and will be removed from pandas in a future version. Use pandas.concat instead.\n",
      "  df = df.append(datarow, ignore_index=True)\n"
     ]
    },
    {
     "name": "stdout",
     "output_type": "stream",
     "text": [
      "Columbus, OH 43210\n",
      "TEST\n",
      "Wednesday 5:00pm1011 Smith Laboratoy174 W 18th AveColumbus, OH 43210\n",
      "Wednesday 5:00 pm\n",
      "test\n",
      "TEST\n"
     ]
    },
    {
     "name": "stderr",
     "output_type": "stream",
     "text": [
      "C:\\Users\\lando\\AppData\\Local\\Temp\\ipykernel_34800\\3465631864.py:63: FutureWarning: The frame.append method is deprecated and will be removed from pandas in a future version. Use pandas.concat instead.\n",
      "  df = df.append(datarow, ignore_index=True)\n",
      "C:\\Users\\lando\\AppData\\Local\\Temp\\ipykernel_34800\\3465631864.py:63: FutureWarning: The frame.append method is deprecated and will be removed from pandas in a future version. Use pandas.concat instead.\n",
      "  df = df.append(datarow, ignore_index=True)\n"
     ]
    },
    {
     "name": "stdout",
     "output_type": "stream",
     "text": [
      "Columbus, OH 43210\n",
      "TEST\n",
      "Columbus, OH 43210\n",
      "TEST\n"
     ]
    },
    {
     "name": "stderr",
     "output_type": "stream",
     "text": [
      "C:\\Users\\lando\\AppData\\Local\\Temp\\ipykernel_34800\\3465631864.py:63: FutureWarning: The frame.append method is deprecated and will be removed from pandas in a future version. Use pandas.concat instead.\n",
      "  df = df.append(datarow, ignore_index=True)\n",
      "C:\\Users\\lando\\AppData\\Local\\Temp\\ipykernel_34800\\3465631864.py:63: FutureWarning: The frame.append method is deprecated and will be removed from pandas in a future version. Use pandas.concat instead.\n",
      "  df = df.append(datarow, ignore_index=True)\n"
     ]
    },
    {
     "name": "stdout",
     "output_type": "stream",
     "text": [
      "MonthlyColumbus, OH 43210\n",
      "TEST\n",
      "See our Facebook Group for details46 E. 16th AvenueColumbus, OH 43210\n",
      "TEST\n"
     ]
    },
    {
     "name": "stderr",
     "output_type": "stream",
     "text": [
      "C:\\Users\\lando\\AppData\\Local\\Temp\\ipykernel_34800\\3465631864.py:63: FutureWarning: The frame.append method is deprecated and will be removed from pandas in a future version. Use pandas.concat instead.\n",
      "  df = df.append(datarow, ignore_index=True)\n",
      "C:\\Users\\lando\\AppData\\Local\\Temp\\ipykernel_34800\\3465631864.py:63: FutureWarning: The frame.append method is deprecated and will be removed from pandas in a future version. Use pandas.concat instead.\n",
      "  df = df.append(datarow, ignore_index=True)\n"
     ]
    },
    {
     "name": "stdout",
     "output_type": "stream",
     "text": [
      "Wednesday 5:30pm46 e.16th aveColumbus, OH 43210\n",
      "Wednesday 5:30 pm\n",
      "test\n",
      "TEST\n",
      "TBD46 East 16th Ave.Columbus, OH 43210\n",
      "TEST\n"
     ]
    },
    {
     "name": "stderr",
     "output_type": "stream",
     "text": [
      "C:\\Users\\lando\\AppData\\Local\\Temp\\ipykernel_34800\\3465631864.py:63: FutureWarning: The frame.append method is deprecated and will be removed from pandas in a future version. Use pandas.concat instead.\n",
      "  df = df.append(datarow, ignore_index=True)\n",
      "C:\\Users\\lando\\AppData\\Local\\Temp\\ipykernel_34800\\3465631864.py:63: FutureWarning: The frame.append method is deprecated and will be removed from pandas in a future version. Use pandas.concat instead.\n",
      "  df = df.append(datarow, ignore_index=True)\n"
     ]
    },
    {
     "name": "stdout",
     "output_type": "stream",
     "text": [
      "TBA46 East 16thColumbus, OH 43210\n",
      "TEST\n",
      "2 meetings per monthColumbus, OH 43210\n",
      "TEST\n"
     ]
    },
    {
     "name": "stderr",
     "output_type": "stream",
     "text": [
      "C:\\Users\\lando\\AppData\\Local\\Temp\\ipykernel_34800\\3465631864.py:63: FutureWarning: The frame.append method is deprecated and will be removed from pandas in a future version. Use pandas.concat instead.\n",
      "  df = df.append(datarow, ignore_index=True)\n",
      "C:\\Users\\lando\\AppData\\Local\\Temp\\ipykernel_34800\\3465631864.py:63: FutureWarning: The frame.append method is deprecated and will be removed from pandas in a future version. Use pandas.concat instead.\n",
      "  df = df.append(datarow, ignore_index=True)\n"
     ]
    },
    {
     "name": "stdout",
     "output_type": "stream",
     "text": [
      "Thursday 7:00 PM - 8:00 PMColumbus, OH 43210\n",
      "Thursday 7:00 PM\n",
      "test\n",
      "TEST\n",
      "Every other Thursday at 6:30Columbus, OH 43210\n",
      "Thursday 6:30 None\n",
      "test\n",
      "TEST\n"
     ]
    },
    {
     "name": "stderr",
     "output_type": "stream",
     "text": [
      "C:\\Users\\lando\\AppData\\Local\\Temp\\ipykernel_34800\\3465631864.py:63: FutureWarning: The frame.append method is deprecated and will be removed from pandas in a future version. Use pandas.concat instead.\n",
      "  df = df.append(datarow, ignore_index=True)\n",
      "C:\\Users\\lando\\AppData\\Local\\Temp\\ipykernel_34800\\3465631864.py:63: FutureWarning: The frame.append method is deprecated and will be removed from pandas in a future version. Use pandas.concat instead.\n",
      "  df = df.append(datarow, ignore_index=True)\n"
     ]
    },
    {
     "name": "stdout",
     "output_type": "stream",
     "text": [
      "Wednesday, August 21, 11:30 am1760 Neil AveColumbus, OH 43210\n",
      "TEST\n",
      "Mondays at 7pmColumbus, OH 43210\n",
      "Mondays 7 pm\n",
      "test\n",
      "TEST\n"
     ]
    },
    {
     "name": "stderr",
     "output_type": "stream",
     "text": [
      "C:\\Users\\lando\\AppData\\Local\\Temp\\ipykernel_34800\\3465631864.py:63: FutureWarning: The frame.append method is deprecated and will be removed from pandas in a future version. Use pandas.concat instead.\n",
      "  df = df.append(datarow, ignore_index=True)\n",
      "C:\\Users\\lando\\AppData\\Local\\Temp\\ipykernel_34800\\3465631864.py:63: FutureWarning: The frame.append method is deprecated and will be removed from pandas in a future version. Use pandas.concat instead.\n",
      "  df = df.append(datarow, ignore_index=True)\n"
     ]
    },
    {
     "name": "stdout",
     "output_type": "stream",
     "text": [
      "Columbus, OH 43210\n",
      "TEST\n",
      "Wednesday @ 7:30pmColumbus, OH 43210\n",
      "Wednesday 7:30 pm\n",
      "test\n",
      "TEST\n"
     ]
    },
    {
     "name": "stderr",
     "output_type": "stream",
     "text": [
      "C:\\Users\\lando\\AppData\\Local\\Temp\\ipykernel_34800\\3465631864.py:63: FutureWarning: The frame.append method is deprecated and will be removed from pandas in a future version. Use pandas.concat instead.\n",
      "  df = df.append(datarow, ignore_index=True)\n",
      "C:\\Users\\lando\\AppData\\Local\\Temp\\ipykernel_34800\\3465631864.py:63: FutureWarning: The frame.append method is deprecated and will be removed from pandas in a future version. Use pandas.concat instead.\n",
      "  df = df.append(datarow, ignore_index=True)\n"
     ]
    },
    {
     "name": "stdout",
     "output_type": "stream",
     "text": [
      "TBA46 E. 16th Ave.Columbus, OH 43210\n",
      "TEST\n",
      "Check social media pages for detailsTBDColumbus, OH 43210\n",
      "TEST\n"
     ]
    },
    {
     "name": "stderr",
     "output_type": "stream",
     "text": [
      "C:\\Users\\lando\\AppData\\Local\\Temp\\ipykernel_34800\\3465631864.py:63: FutureWarning: The frame.append method is deprecated and will be removed from pandas in a future version. Use pandas.concat instead.\n",
      "  df = df.append(datarow, ignore_index=True)\n",
      "C:\\Users\\lando\\AppData\\Local\\Temp\\ipykernel_34800\\3465631864.py:63: FutureWarning: The frame.append method is deprecated and will be removed from pandas in a future version. Use pandas.concat instead.\n",
      "  df = df.append(datarow, ignore_index=True)\n"
     ]
    },
    {
     "name": "stdout",
     "output_type": "stream",
     "text": [
      "Monday, 5:00pm220 W. 12th Avenue Columbus, OhioColumbus, OH 43210\n",
      "Monday 5:00 pm\n",
      "test\n",
      "TEST\n",
      "Saturday at 10:00am4077 Karl RdColumbus, OH 43224Columbus, OH 43210\n",
      "Saturday 10:00 am\n",
      "test\n",
      "TEST\n"
     ]
    },
    {
     "name": "stderr",
     "output_type": "stream",
     "text": [
      "C:\\Users\\lando\\AppData\\Local\\Temp\\ipykernel_34800\\3465631864.py:63: FutureWarning: The frame.append method is deprecated and will be removed from pandas in a future version. Use pandas.concat instead.\n",
      "  df = df.append(datarow, ignore_index=True)\n",
      "C:\\Users\\lando\\AppData\\Local\\Temp\\ipykernel_34800\\3465631864.py:63: FutureWarning: The frame.append method is deprecated and will be removed from pandas in a future version. Use pandas.concat instead.\n",
      "  df = df.append(datarow, ignore_index=True)\n"
     ]
    },
    {
     "name": "stdout",
     "output_type": "stream",
     "text": [
      "1st and 3rd Tuesday of each month at 6:00pm2029 Fyffe Rd3658 Kays Ave, Dublin, OHColumbus, OH 43210\n",
      "TEST\n",
      "Thursday at 4:00 p.m.2021 Coffey RdColumbus, OH 43210\n",
      "Thursday 4:00 None\n",
      "test\n",
      "TEST\n"
     ]
    },
    {
     "name": "stderr",
     "output_type": "stream",
     "text": [
      "C:\\Users\\lando\\AppData\\Local\\Temp\\ipykernel_34800\\3465631864.py:63: FutureWarning: The frame.append method is deprecated and will be removed from pandas in a future version. Use pandas.concat instead.\n",
      "  df = df.append(datarow, ignore_index=True)\n",
      "C:\\Users\\lando\\AppData\\Local\\Temp\\ipykernel_34800\\3465631864.py:63: FutureWarning: The frame.append method is deprecated and will be removed from pandas in a future version. Use pandas.concat instead.\n",
      "  df = df.append(datarow, ignore_index=True)\n"
     ]
    },
    {
     "name": "stdout",
     "output_type": "stream",
     "text": [
      "Columbus, OH 43210\n",
      "TEST\n",
      "3rd Wednesday of the month (AU '22) @7:30pmColumbus, OH 43210\n",
      "TEST\n"
     ]
    },
    {
     "name": "stderr",
     "output_type": "stream",
     "text": [
      "C:\\Users\\lando\\AppData\\Local\\Temp\\ipykernel_34800\\3465631864.py:63: FutureWarning: The frame.append method is deprecated and will be removed from pandas in a future version. Use pandas.concat instead.\n",
      "  df = df.append(datarow, ignore_index=True)\n",
      "C:\\Users\\lando\\AppData\\Local\\Temp\\ipykernel_34800\\3465631864.py:63: FutureWarning: The frame.append method is deprecated and will be removed from pandas in a future version. Use pandas.concat instead.\n",
      "  df = df.append(datarow, ignore_index=True)\n"
     ]
    },
    {
     "name": "stdout",
     "output_type": "stream",
     "text": [
      "Columbus, OH 43210\n",
      "TEST\n",
      "Columbus, OH 43210\n",
      "TEST\n"
     ]
    },
    {
     "name": "stderr",
     "output_type": "stream",
     "text": [
      "C:\\Users\\lando\\AppData\\Local\\Temp\\ipykernel_34800\\3465631864.py:63: FutureWarning: The frame.append method is deprecated and will be removed from pandas in a future version. Use pandas.concat instead.\n",
      "  df = df.append(datarow, ignore_index=True)\n",
      "C:\\Users\\lando\\AppData\\Local\\Temp\\ipykernel_34800\\3465631864.py:63: FutureWarning: The frame.append method is deprecated and will be removed from pandas in a future version. Use pandas.concat instead.\n",
      "  df = df.append(datarow, ignore_index=True)\n"
     ]
    },
    {
     "name": "stdout",
     "output_type": "stream",
     "text": [
      "Monthly1787 Neil Ave.Columbus OH 43210Columbus, OH 43210\n",
      "TEST\n",
      "See website for the next event.1971 Neil AveColumbus, OH 43210\n",
      "TEST\n"
     ]
    },
    {
     "name": "stderr",
     "output_type": "stream",
     "text": [
      "C:\\Users\\lando\\AppData\\Local\\Temp\\ipykernel_34800\\3465631864.py:63: FutureWarning: The frame.append method is deprecated and will be removed from pandas in a future version. Use pandas.concat instead.\n",
      "  df = df.append(datarow, ignore_index=True)\n",
      "C:\\Users\\lando\\AppData\\Local\\Temp\\ipykernel_34800\\3465631864.py:63: FutureWarning: The frame.append method is deprecated and will be removed from pandas in a future version. Use pandas.concat instead.\n",
      "  df = df.append(datarow, ignore_index=True)\n"
     ]
    },
    {
     "name": "stdout",
     "output_type": "stream",
     "text": [
      "Tuesday’s at 7:05pm210 West Woodruff Ave.Columbus, OH 43210\n",
      "TEST\n",
      "Thursday at 6 p.m.Columbus, OH 43210\n",
      "Thursday 6 None\n",
      "test\n",
      "TEST\n"
     ]
    },
    {
     "name": "stderr",
     "output_type": "stream",
     "text": [
      "C:\\Users\\lando\\AppData\\Local\\Temp\\ipykernel_34800\\3465631864.py:63: FutureWarning: The frame.append method is deprecated and will be removed from pandas in a future version. Use pandas.concat instead.\n",
      "  df = df.append(datarow, ignore_index=True)\n",
      "C:\\Users\\lando\\AppData\\Local\\Temp\\ipykernel_34800\\3465631864.py:63: FutureWarning: The frame.append method is deprecated and will be removed from pandas in a future version. Use pandas.concat instead.\n",
      "  df = df.append(datarow, ignore_index=True)\n"
     ]
    },
    {
     "name": "stdout",
     "output_type": "stream",
     "text": [
      "Tuesday 6:30-7:30 PMColumbus, OH 43210Columbus, OH 43210\n",
      "Tuesday 6:30 None\n",
      "test\n",
      "TEST\n",
      "Thursdays, 6:30PMColumbus, OH 43210\n",
      "Thursdays 6:30 PM\n",
      "test\n",
      "TEST\n"
     ]
    },
    {
     "name": "stderr",
     "output_type": "stream",
     "text": [
      "C:\\Users\\lando\\AppData\\Local\\Temp\\ipykernel_34800\\3465631864.py:63: FutureWarning: The frame.append method is deprecated and will be removed from pandas in a future version. Use pandas.concat instead.\n",
      "  df = df.append(datarow, ignore_index=True)\n",
      "C:\\Users\\lando\\AppData\\Local\\Temp\\ipykernel_34800\\3465631864.py:63: FutureWarning: The frame.append method is deprecated and will be removed from pandas in a future version. Use pandas.concat instead.\n",
      "  df = df.append(datarow, ignore_index=True)\n"
     ]
    },
    {
     "name": "stdout",
     "output_type": "stream",
     "text": [
      "Last Friday of Each Month - 5:30PMOnline ZoomColumbus, OH 43210\n",
      "TEST\n",
      "TBATBATBAColumbus, OH 43210\n",
      "TEST\n"
     ]
    },
    {
     "name": "stderr",
     "output_type": "stream",
     "text": [
      "C:\\Users\\lando\\AppData\\Local\\Temp\\ipykernel_34800\\3465631864.py:63: FutureWarning: The frame.append method is deprecated and will be removed from pandas in a future version. Use pandas.concat instead.\n",
      "  df = df.append(datarow, ignore_index=True)\n",
      "C:\\Users\\lando\\AppData\\Local\\Temp\\ipykernel_34800\\3465631864.py:63: FutureWarning: The frame.append method is deprecated and will be removed from pandas in a future version. Use pandas.concat instead.\n",
      "  df = df.append(datarow, ignore_index=True)\n"
     ]
    },
    {
     "name": "stdout",
     "output_type": "stream",
     "text": [
      "Columbus, OH 43210\n",
      "TEST\n",
      "Columbus, OH 43210Columbus, OH 43210\n",
      "TEST\n"
     ]
    },
    {
     "name": "stderr",
     "output_type": "stream",
     "text": [
      "C:\\Users\\lando\\AppData\\Local\\Temp\\ipykernel_34800\\3465631864.py:63: FutureWarning: The frame.append method is deprecated and will be removed from pandas in a future version. Use pandas.concat instead.\n",
      "  df = df.append(datarow, ignore_index=True)\n",
      "C:\\Users\\lando\\AppData\\Local\\Temp\\ipykernel_34800\\3465631864.py:63: FutureWarning: The frame.append method is deprecated and will be removed from pandas in a future version. Use pandas.concat instead.\n",
      "  df = df.append(datarow, ignore_index=True)\n"
     ]
    },
    {
     "name": "stdout",
     "output_type": "stream",
     "text": [
      "TBDTBDTBDColumbus, OH 43210\n",
      "TEST\n",
      "Columbus, OH 43210\n",
      "TEST\n"
     ]
    },
    {
     "name": "stderr",
     "output_type": "stream",
     "text": [
      "C:\\Users\\lando\\AppData\\Local\\Temp\\ipykernel_34800\\3465631864.py:63: FutureWarning: The frame.append method is deprecated and will be removed from pandas in a future version. Use pandas.concat instead.\n",
      "  df = df.append(datarow, ignore_index=True)\n",
      "C:\\Users\\lando\\AppData\\Local\\Temp\\ipykernel_34800\\3465631864.py:63: FutureWarning: The frame.append method is deprecated and will be removed from pandas in a future version. Use pandas.concat instead.\n",
      "  df = df.append(datarow, ignore_index=True)\n"
     ]
    },
    {
     "name": "stdout",
     "output_type": "stream",
     "text": [
      "Wednesday's, 6pm-7pm1810 College RoadColumbus, Ohio 43210Columbus, OH 43210\n",
      "TEST\n",
      "Mondays & 5:15-6:15Columbus, OH 43210\n",
      "TEST\n"
     ]
    },
    {
     "name": "stderr",
     "output_type": "stream",
     "text": [
      "C:\\Users\\lando\\AppData\\Local\\Temp\\ipykernel_34800\\3465631864.py:63: FutureWarning: The frame.append method is deprecated and will be removed from pandas in a future version. Use pandas.concat instead.\n",
      "  df = df.append(datarow, ignore_index=True)\n",
      "C:\\Users\\lando\\AppData\\Local\\Temp\\ipykernel_34800\\3465631864.py:63: FutureWarning: The frame.append method is deprecated and will be removed from pandas in a future version. Use pandas.concat instead.\n",
      "  df = df.append(datarow, ignore_index=True)\n"
     ]
    },
    {
     "name": "stdout",
     "output_type": "stream",
     "text": [
      "TBA (monthly)55 W 12th Ave.Columbus, OH 43210\n",
      "W 12 None\n",
      "test\n",
      "TEST\n",
      "TBDColumbus, OH 43210\n",
      "TEST\n"
     ]
    },
    {
     "name": "stderr",
     "output_type": "stream",
     "text": [
      "C:\\Users\\lando\\AppData\\Local\\Temp\\ipykernel_34800\\3465631864.py:63: FutureWarning: The frame.append method is deprecated and will be removed from pandas in a future version. Use pandas.concat instead.\n",
      "  df = df.append(datarow, ignore_index=True)\n",
      "C:\\Users\\lando\\AppData\\Local\\Temp\\ipykernel_34800\\3465631864.py:63: FutureWarning: The frame.append method is deprecated and will be removed from pandas in a future version. Use pandas.concat instead.\n",
      "  df = df.append(datarow, ignore_index=True)\n"
     ]
    },
    {
     "name": "stdout",
     "output_type": "stream",
     "text": [
      "Thursday 6-7:00pm BiweeklyColumbus, OH 43210\n",
      "Thursday 6 None\n",
      "test\n",
      "TEST\n",
      "Tuesdays 8:30-10:30pm337 W. 17th Avenue, Columbus Ohio 43210Columbus, OH 43210\n",
      "Tuesdays 8:30 None\n",
      "test\n",
      "TEST\n"
     ]
    },
    {
     "name": "stderr",
     "output_type": "stream",
     "text": [
      "C:\\Users\\lando\\AppData\\Local\\Temp\\ipykernel_34800\\3465631864.py:63: FutureWarning: The frame.append method is deprecated and will be removed from pandas in a future version. Use pandas.concat instead.\n",
      "  df = df.append(datarow, ignore_index=True)\n",
      "C:\\Users\\lando\\AppData\\Local\\Temp\\ipykernel_34800\\3465631864.py:63: FutureWarning: The frame.append method is deprecated and will be removed from pandas in a future version. Use pandas.concat instead.\n",
      "  df = df.append(datarow, ignore_index=True)\n"
     ]
    },
    {
     "name": "stdout",
     "output_type": "stream",
     "text": [
      "Monthly officer team meeting TBD1945 North High StreetColumbus, OH 43210\n",
      "TEST\n",
      "M-F 1pm333. W 10th AveColumbus, OH 43210\n",
      "W 10 None\n",
      "test\n",
      "TEST\n"
     ]
    },
    {
     "name": "stderr",
     "output_type": "stream",
     "text": [
      "C:\\Users\\lando\\AppData\\Local\\Temp\\ipykernel_34800\\3465631864.py:63: FutureWarning: The frame.append method is deprecated and will be removed from pandas in a future version. Use pandas.concat instead.\n",
      "  df = df.append(datarow, ignore_index=True)\n",
      "C:\\Users\\lando\\AppData\\Local\\Temp\\ipykernel_34800\\3465631864.py:63: FutureWarning: The frame.append method is deprecated and will be removed from pandas in a future version. Use pandas.concat instead.\n",
      "  df = df.append(datarow, ignore_index=True)\n"
     ]
    },
    {
     "name": "stdout",
     "output_type": "stream",
     "text": [
      "Mondays 6:00 - 7:00 pmColumbus, OH 43210\n",
      "Mondays 6:00 None\n",
      "test\n",
      "TEST\n",
      "Every Saturday, 6:30PMWorthington streetColumbus OH 43201Columbus, OH 43210\n",
      "Saturday 6:30 PM\n",
      "test\n",
      "TEST\n"
     ]
    },
    {
     "name": "stderr",
     "output_type": "stream",
     "text": [
      "C:\\Users\\lando\\AppData\\Local\\Temp\\ipykernel_34800\\3465631864.py:63: FutureWarning: The frame.append method is deprecated and will be removed from pandas in a future version. Use pandas.concat instead.\n",
      "  df = df.append(datarow, ignore_index=True)\n",
      "C:\\Users\\lando\\AppData\\Local\\Temp\\ipykernel_34800\\3465631864.py:63: FutureWarning: The frame.append method is deprecated and will be removed from pandas in a future version. Use pandas.concat instead.\n",
      "  df = df.append(datarow, ignore_index=True)\n"
     ]
    },
    {
     "name": "stdout",
     "output_type": "stream",
     "text": [
      "Sunday 4.30 pm1739 N.High StreetColumbus, OH 43210\n",
      "Sunday 4 None\n",
      "test\n",
      "TEST\n",
      "As Organized per ListServColumbus, OH 43210\n",
      "TEST\n"
     ]
    },
    {
     "name": "stderr",
     "output_type": "stream",
     "text": [
      "C:\\Users\\lando\\AppData\\Local\\Temp\\ipykernel_34800\\3465631864.py:63: FutureWarning: The frame.append method is deprecated and will be removed from pandas in a future version. Use pandas.concat instead.\n",
      "  df = df.append(datarow, ignore_index=True)\n",
      "C:\\Users\\lando\\AppData\\Local\\Temp\\ipykernel_34800\\3465631864.py:63: FutureWarning: The frame.append method is deprecated and will be removed from pandas in a future version. Use pandas.concat instead.\n",
      "  df = df.append(datarow, ignore_index=True)\n"
     ]
    },
    {
     "name": "stdout",
     "output_type": "stream",
     "text": [
      "Sunday, Lunch time1739 N High St, Columbus, OH 43210Columbus, OH 43210\n",
      "TEST\n",
      "Columbus, OH 43210\n",
      "TEST\n"
     ]
    },
    {
     "name": "stderr",
     "output_type": "stream",
     "text": [
      "C:\\Users\\lando\\AppData\\Local\\Temp\\ipykernel_34800\\3465631864.py:63: FutureWarning: The frame.append method is deprecated and will be removed from pandas in a future version. Use pandas.concat instead.\n",
      "  df = df.append(datarow, ignore_index=True)\n",
      "C:\\Users\\lando\\AppData\\Local\\Temp\\ipykernel_34800\\3465631864.py:63: FutureWarning: The frame.append method is deprecated and will be removed from pandas in a future version. Use pandas.concat instead.\n",
      "  df = df.append(datarow, ignore_index=True)\n"
     ]
    },
    {
     "name": "stdout",
     "output_type": "stream",
     "text": [
      "Tuesday from 1130am-1220pm (professional hour)500 W 12th AveColumbus, OH 43210\n",
      "W 12 None\n",
      "test\n",
      "TEST\n",
      "Columbus, OH 43210\n",
      "TEST\n"
     ]
    },
    {
     "name": "stderr",
     "output_type": "stream",
     "text": [
      "C:\\Users\\lando\\AppData\\Local\\Temp\\ipykernel_34800\\3465631864.py:63: FutureWarning: The frame.append method is deprecated and will be removed from pandas in a future version. Use pandas.concat instead.\n",
      "  df = df.append(datarow, ignore_index=True)\n",
      "C:\\Users\\lando\\AppData\\Local\\Temp\\ipykernel_34800\\3465631864.py:63: FutureWarning: The frame.append method is deprecated and will be removed from pandas in a future version. Use pandas.concat instead.\n",
      "  df = df.append(datarow, ignore_index=True)\n"
     ]
    },
    {
     "name": "stdout",
     "output_type": "stream",
     "text": [
      "Columbus, OH 43210\n",
      "TEST\n",
      "Thursday 7:00 PM210 W Woodruff AveColumbus, OH 43210\n",
      "Thursday 7:00 PM\n",
      "test\n",
      "TEST\n"
     ]
    },
    {
     "name": "stderr",
     "output_type": "stream",
     "text": [
      "C:\\Users\\lando\\AppData\\Local\\Temp\\ipykernel_34800\\3465631864.py:63: FutureWarning: The frame.append method is deprecated and will be removed from pandas in a future version. Use pandas.concat instead.\n",
      "  df = df.append(datarow, ignore_index=True)\n",
      "C:\\Users\\lando\\AppData\\Local\\Temp\\ipykernel_34800\\3465631864.py:63: FutureWarning: The frame.append method is deprecated and will be removed from pandas in a future version. Use pandas.concat instead.\n",
      "  df = df.append(datarow, ignore_index=True)\n"
     ]
    },
    {
     "name": "stdout",
     "output_type": "stream",
     "text": [
      "Will be announced through e-mail1971 Neil Ave.Columbus, OH 43210\n",
      "TEST\n",
      "Columbus, OH 43210\n",
      "TEST\n"
     ]
    },
    {
     "name": "stderr",
     "output_type": "stream",
     "text": [
      "C:\\Users\\lando\\AppData\\Local\\Temp\\ipykernel_34800\\3465631864.py:63: FutureWarning: The frame.append method is deprecated and will be removed from pandas in a future version. Use pandas.concat instead.\n",
      "  df = df.append(datarow, ignore_index=True)\n",
      "C:\\Users\\lando\\AppData\\Local\\Temp\\ipykernel_34800\\3465631864.py:63: FutureWarning: The frame.append method is deprecated and will be removed from pandas in a future version. Use pandas.concat instead.\n",
      "  df = df.append(datarow, ignore_index=True)\n"
     ]
    },
    {
     "name": "stdout",
     "output_type": "stream",
     "text": [
      "Columbus, OH 43210\n",
      "TEST\n",
      "Wednesday, 4:00-5:00pm151 W. Woodruff Ave.Columbus, OH 43210Columbus, OH 43210\n",
      "Wednesday 4:00 None\n",
      "test\n",
      "TEST\n"
     ]
    },
    {
     "name": "stderr",
     "output_type": "stream",
     "text": [
      "C:\\Users\\lando\\AppData\\Local\\Temp\\ipykernel_34800\\3465631864.py:63: FutureWarning: The frame.append method is deprecated and will be removed from pandas in a future version. Use pandas.concat instead.\n",
      "  df = df.append(datarow, ignore_index=True)\n",
      "C:\\Users\\lando\\AppData\\Local\\Temp\\ipykernel_34800\\3465631864.py:63: FutureWarning: The frame.append method is deprecated and will be removed from pandas in a future version. Use pandas.concat instead.\n",
      "  df = df.append(datarow, ignore_index=True)\n"
     ]
    },
    {
     "name": "stdout",
     "output_type": "stream",
     "text": [
      "Fridays @ 3p.m.GAA Office Hale Hall 153 W. 12th AvenueColumbus OH 43210Columbus, OH 43210\n",
      "Fridays 3 None\n",
      "test\n",
      "TEST\n",
      "Columbus, OH 43210\n",
      "TEST\n"
     ]
    },
    {
     "name": "stderr",
     "output_type": "stream",
     "text": [
      "C:\\Users\\lando\\AppData\\Local\\Temp\\ipykernel_34800\\3465631864.py:63: FutureWarning: The frame.append method is deprecated and will be removed from pandas in a future version. Use pandas.concat instead.\n",
      "  df = df.append(datarow, ignore_index=True)\n",
      "C:\\Users\\lando\\AppData\\Local\\Temp\\ipykernel_34800\\3465631864.py:63: FutureWarning: The frame.append method is deprecated and will be removed from pandas in a future version. Use pandas.concat instead.\n",
      "  df = df.append(datarow, ignore_index=True)\n"
     ]
    },
    {
     "name": "stdout",
     "output_type": "stream",
     "text": [
      "Wednesday's 7:30 PM1971 Neil Ave.Columbus, OH 43210\n",
      "TEST\n",
      "Columbus, OH 43210\n",
      "TEST\n"
     ]
    },
    {
     "name": "stderr",
     "output_type": "stream",
     "text": [
      "C:\\Users\\lando\\AppData\\Local\\Temp\\ipykernel_34800\\3465631864.py:63: FutureWarning: The frame.append method is deprecated and will be removed from pandas in a future version. Use pandas.concat instead.\n",
      "  df = df.append(datarow, ignore_index=True)\n",
      "C:\\Users\\lando\\AppData\\Local\\Temp\\ipykernel_34800\\3465631864.py:63: FutureWarning: The frame.append method is deprecated and will be removed from pandas in a future version. Use pandas.concat instead.\n",
      "  df = df.append(datarow, ignore_index=True)\n"
     ]
    },
    {
     "name": "stdout",
     "output_type": "stream",
     "text": [
      "Varies601 Vernon L. Tharp St.Columbus, OH 43210\n",
      "TEST\n",
      "Monthly120 Drinko Hall55 West 12th AvenueColumbus, OH 43210\n",
      "TEST\n"
     ]
    },
    {
     "name": "stderr",
     "output_type": "stream",
     "text": [
      "C:\\Users\\lando\\AppData\\Local\\Temp\\ipykernel_34800\\3465631864.py:63: FutureWarning: The frame.append method is deprecated and will be removed from pandas in a future version. Use pandas.concat instead.\n",
      "  df = df.append(datarow, ignore_index=True)\n",
      "C:\\Users\\lando\\AppData\\Local\\Temp\\ipykernel_34800\\3465631864.py:63: FutureWarning: The frame.append method is deprecated and will be removed from pandas in a future version. Use pandas.concat instead.\n",
      "  df = df.append(datarow, ignore_index=True)\n"
     ]
    },
    {
     "name": "stdout",
     "output_type": "stream",
     "text": [
      "One Sunday at 5:00pm every month1739 N. High StreetColumbus, OH 43210\n",
      "Sunday 5:00 pm\n",
      "test\n",
      "TEST\n",
      "Varies; Usually held the first Tues. of Month370 West 9th AvenueColumbus, OH 43210\n",
      "TEST\n"
     ]
    },
    {
     "name": "stderr",
     "output_type": "stream",
     "text": [
      "C:\\Users\\lando\\AppData\\Local\\Temp\\ipykernel_34800\\3465631864.py:63: FutureWarning: The frame.append method is deprecated and will be removed from pandas in a future version. Use pandas.concat instead.\n",
      "  df = df.append(datarow, ignore_index=True)\n",
      "C:\\Users\\lando\\AppData\\Local\\Temp\\ipykernel_34800\\3465631864.py:63: FutureWarning: The frame.append method is deprecated and will be removed from pandas in a future version. Use pandas.concat instead.\n",
      "  df = df.append(datarow, ignore_index=True)\n"
     ]
    },
    {
     "name": "stdout",
     "output_type": "stream",
     "text": [
      "Columbus, OH 43210\n",
      "TEST\n",
      "Thursday 6-7 pm174 W 18th Ave, Columbus, OH 43210Columbus, OH 43210\n",
      "Thursday 6 None\n",
      "test\n",
      "TEST\n"
     ]
    },
    {
     "name": "stderr",
     "output_type": "stream",
     "text": [
      "C:\\Users\\lando\\AppData\\Local\\Temp\\ipykernel_34800\\3465631864.py:63: FutureWarning: The frame.append method is deprecated and will be removed from pandas in a future version. Use pandas.concat instead.\n",
      "  df = df.append(datarow, ignore_index=True)\n",
      "C:\\Users\\lando\\AppData\\Local\\Temp\\ipykernel_34800\\3465631864.py:63: FutureWarning: The frame.append method is deprecated and will be removed from pandas in a future version. Use pandas.concat instead.\n",
      "  df = df.append(datarow, ignore_index=True)\n"
     ]
    },
    {
     "name": "stdout",
     "output_type": "stream",
     "text": [
      "Sundays at 3:00 PMColumbus, OH 43210\n",
      "Sundays 3:00 PM\n",
      "test\n",
      "TEST\n",
      "Weekly Meetings on Tuesdays at 5:30 P.M.1739 N. High StColumbus, OH 43210\n",
      "Tuesdays 5:30 None\n",
      "test\n",
      "TEST\n"
     ]
    },
    {
     "name": "stderr",
     "output_type": "stream",
     "text": [
      "C:\\Users\\lando\\AppData\\Local\\Temp\\ipykernel_34800\\3465631864.py:63: FutureWarning: The frame.append method is deprecated and will be removed from pandas in a future version. Use pandas.concat instead.\n",
      "  df = df.append(datarow, ignore_index=True)\n",
      "C:\\Users\\lando\\AppData\\Local\\Temp\\ipykernel_34800\\3465631864.py:63: FutureWarning: The frame.append method is deprecated and will be removed from pandas in a future version. Use pandas.concat instead.\n",
      "  df = df.append(datarow, ignore_index=True)\n"
     ]
    },
    {
     "name": "stdout",
     "output_type": "stream",
     "text": [
      "Tuesday at 8pm2009 Millikin Rd, Columbus, OH 43210Columbus, OH 43210\n",
      "Tuesday 8 pm\n",
      "test\n",
      "TEST\n",
      "370 W. 9th AvenueColumbus, OH 43210\n",
      "W 9 None\n",
      "test\n",
      "TEST\n"
     ]
    },
    {
     "name": "stderr",
     "output_type": "stream",
     "text": [
      "C:\\Users\\lando\\AppData\\Local\\Temp\\ipykernel_34800\\3465631864.py:63: FutureWarning: The frame.append method is deprecated and will be removed from pandas in a future version. Use pandas.concat instead.\n",
      "  df = df.append(datarow, ignore_index=True)\n",
      "C:\\Users\\lando\\AppData\\Local\\Temp\\ipykernel_34800\\3465631864.py:63: FutureWarning: The frame.append method is deprecated and will be removed from pandas in a future version. Use pandas.concat instead.\n",
      "  df = df.append(datarow, ignore_index=True)\n"
     ]
    },
    {
     "name": "stdout",
     "output_type": "stream",
     "text": [
      "Columbus, OH 43210\n",
      "TEST\n",
      "Thursday EveningsColumbus, OH 43210\n",
      "TEST\n"
     ]
    },
    {
     "name": "stderr",
     "output_type": "stream",
     "text": [
      "C:\\Users\\lando\\AppData\\Local\\Temp\\ipykernel_34800\\3465631864.py:63: FutureWarning: The frame.append method is deprecated and will be removed from pandas in a future version. Use pandas.concat instead.\n",
      "  df = df.append(datarow, ignore_index=True)\n",
      "C:\\Users\\lando\\AppData\\Local\\Temp\\ipykernel_34800\\3465631864.py:63: FutureWarning: The frame.append method is deprecated and will be removed from pandas in a future version. Use pandas.concat instead.\n",
      "  df = df.append(datarow, ignore_index=True)\n"
     ]
    },
    {
     "name": "stdout",
     "output_type": "stream",
     "text": [
      "Monday 8:00 PM210 W Woodruff AveColumbus, OH 43210\n",
      "Monday 8:00 PM\n",
      "test\n",
      "TEST\n"
     ]
    },
    {
     "name": "stderr",
     "output_type": "stream",
     "text": [
      "C:\\Users\\lando\\AppData\\Local\\Temp\\ipykernel_34800\\3465631864.py:63: FutureWarning: The frame.append method is deprecated and will be removed from pandas in a future version. Use pandas.concat instead.\n",
      "  df = df.append(datarow, ignore_index=True)\n"
     ]
    },
    {
     "name": "stdout",
     "output_type": "stream",
     "text": [
      "TBATBAColumbus, OH 43210\n",
      "TEST\n"
     ]
    },
    {
     "name": "stderr",
     "output_type": "stream",
     "text": [
      "C:\\Users\\lando\\AppData\\Local\\Temp\\ipykernel_34800\\3465631864.py:63: FutureWarning: The frame.append method is deprecated and will be removed from pandas in a future version. Use pandas.concat instead.\n",
      "  df = df.append(datarow, ignore_index=True)\n"
     ]
    },
    {
     "name": "stdout",
     "output_type": "stream",
     "text": [
      "Varies each month1810 College RoadColumbus, OH 43210Columbus, OH 43210\n",
      "TEST\n"
     ]
    },
    {
     "name": "stderr",
     "output_type": "stream",
     "text": [
      "C:\\Users\\lando\\AppData\\Local\\Temp\\ipykernel_34800\\3465631864.py:63: FutureWarning: The frame.append method is deprecated and will be removed from pandas in a future version. Use pandas.concat instead.\n",
      "  df = df.append(datarow, ignore_index=True)\n"
     ]
    },
    {
     "name": "stdout",
     "output_type": "stream",
     "text": [
      "Friday 4 PM855 Woody Hayes Drive, Columbus, OH 43210Columbus, OH 43210\n",
      "Friday 4 PM\n",
      "test\n",
      "TEST\n",
      "Friday nights at 7:00pm.1520 Old Henderson RoadColumbus, OH 43220Columbus, OH 43210\n",
      "TEST\n"
     ]
    },
    {
     "name": "stderr",
     "output_type": "stream",
     "text": [
      "C:\\Users\\lando\\AppData\\Local\\Temp\\ipykernel_34800\\3465631864.py:63: FutureWarning: The frame.append method is deprecated and will be removed from pandas in a future version. Use pandas.concat instead.\n",
      "  df = df.append(datarow, ignore_index=True)\n",
      "C:\\Users\\lando\\AppData\\Local\\Temp\\ipykernel_34800\\3465631864.py:63: FutureWarning: The frame.append method is deprecated and will be removed from pandas in a future version. Use pandas.concat instead.\n",
      "  df = df.append(datarow, ignore_index=True)\n"
     ]
    },
    {
     "name": "stdout",
     "output_type": "stream",
     "text": [
      "Columbus, OH 43210\n",
      "TEST\n",
      "Wednesdays, 7:00-8:00pmColumbus, OH 43210\n",
      "Wednesdays 7:00 None\n",
      "test\n",
      "TEST\n"
     ]
    },
    {
     "name": "stderr",
     "output_type": "stream",
     "text": [
      "C:\\Users\\lando\\AppData\\Local\\Temp\\ipykernel_34800\\3465631864.py:63: FutureWarning: The frame.append method is deprecated and will be removed from pandas in a future version. Use pandas.concat instead.\n",
      "  df = df.append(datarow, ignore_index=True)\n",
      "C:\\Users\\lando\\AppData\\Local\\Temp\\ipykernel_34800\\3465631864.py:63: FutureWarning: The frame.append method is deprecated and will be removed from pandas in a future version. Use pandas.concat instead.\n",
      "  df = df.append(datarow, ignore_index=True)\n"
     ]
    },
    {
     "name": "stdout",
     "output_type": "stream",
     "text": [
      "Varies55 W. 12th AveColumbus, OH 43210\n",
      "W 12 None\n",
      "test\n",
      "TEST\n",
      "Twice a weekColumbus, OH 43210\n",
      "TEST\n"
     ]
    },
    {
     "name": "stderr",
     "output_type": "stream",
     "text": [
      "C:\\Users\\lando\\AppData\\Local\\Temp\\ipykernel_34800\\3465631864.py:63: FutureWarning: The frame.append method is deprecated and will be removed from pandas in a future version. Use pandas.concat instead.\n",
      "  df = df.append(datarow, ignore_index=True)\n",
      "C:\\Users\\lando\\AppData\\Local\\Temp\\ipykernel_34800\\3465631864.py:63: FutureWarning: The frame.append method is deprecated and will be removed from pandas in a future version. Use pandas.concat instead.\n",
      "  df = df.append(datarow, ignore_index=True)\n"
     ]
    },
    {
     "name": "stdout",
     "output_type": "stream",
     "text": [
      "Sunday 6:00-7:00 pmColumbus, OH 43210\n",
      "Sunday 6:00 None\n",
      "test\n",
      "TEST\n"
     ]
    },
    {
     "name": "stderr",
     "output_type": "stream",
     "text": [
      "C:\\Users\\lando\\AppData\\Local\\Temp\\ipykernel_34800\\3465631864.py:63: FutureWarning: The frame.append method is deprecated and will be removed from pandas in a future version. Use pandas.concat instead.\n",
      "  df = df.append(datarow, ignore_index=True)\n"
     ]
    },
    {
     "name": "stdout",
     "output_type": "stream",
     "text": [
      "Zoom meetings for the time beingColumbus, OH 43210\n",
      "TEST\n",
      "Columbus, OH 43210\n",
      "TEST\n"
     ]
    },
    {
     "name": "stderr",
     "output_type": "stream",
     "text": [
      "C:\\Users\\lando\\AppData\\Local\\Temp\\ipykernel_34800\\3465631864.py:63: FutureWarning: The frame.append method is deprecated and will be removed from pandas in a future version. Use pandas.concat instead.\n",
      "  df = df.append(datarow, ignore_index=True)\n",
      "C:\\Users\\lando\\AppData\\Local\\Temp\\ipykernel_34800\\3465631864.py:63: FutureWarning: The frame.append method is deprecated and will be removed from pandas in a future version. Use pandas.concat instead.\n",
      "  df = df.append(datarow, ignore_index=True)\n"
     ]
    },
    {
     "name": "stdout",
     "output_type": "stream",
     "text": [
      "Sunday/3:00PM1739 N. High StreetColumbus, OH 43210\n",
      "TEST\n",
      "Every WednesdaysMason HallColumbus, OH 43210\n",
      "TEST\n"
     ]
    },
    {
     "name": "stderr",
     "output_type": "stream",
     "text": [
      "C:\\Users\\lando\\AppData\\Local\\Temp\\ipykernel_34800\\3465631864.py:63: FutureWarning: The frame.append method is deprecated and will be removed from pandas in a future version. Use pandas.concat instead.\n",
      "  df = df.append(datarow, ignore_index=True)\n",
      "C:\\Users\\lando\\AppData\\Local\\Temp\\ipykernel_34800\\3465631864.py:63: FutureWarning: The frame.append method is deprecated and will be removed from pandas in a future version. Use pandas.concat instead.\n",
      "  df = df.append(datarow, ignore_index=True)\n"
     ]
    },
    {
     "name": "stdout",
     "output_type": "stream",
     "text": [
      "Friday 4:30PMN/AColumbus, OH 43210\n",
      "Friday 4:30 PM\n",
      "test\n",
      "TEST\n",
      "Columbus, OH 43210\n",
      "TEST\n"
     ]
    },
    {
     "name": "stderr",
     "output_type": "stream",
     "text": [
      "C:\\Users\\lando\\AppData\\Local\\Temp\\ipykernel_34800\\3465631864.py:63: FutureWarning: The frame.append method is deprecated and will be removed from pandas in a future version. Use pandas.concat instead.\n",
      "  df = df.append(datarow, ignore_index=True)\n",
      "C:\\Users\\lando\\AppData\\Local\\Temp\\ipykernel_34800\\3465631864.py:63: FutureWarning: The frame.append method is deprecated and will be removed from pandas in a future version. Use pandas.concat instead.\n",
      "  df = df.append(datarow, ignore_index=True)\n"
     ]
    },
    {
     "name": "stdout",
     "output_type": "stream",
     "text": [
      "Friday 3:001739 N. High StreetColumbus, OH 43210\n",
      "Friday 3:00 None\n",
      "test\n",
      "TEST\n",
      "Columbus, OH 43210\n",
      "TEST\n"
     ]
    },
    {
     "name": "stderr",
     "output_type": "stream",
     "text": [
      "C:\\Users\\lando\\AppData\\Local\\Temp\\ipykernel_34800\\3465631864.py:63: FutureWarning: The frame.append method is deprecated and will be removed from pandas in a future version. Use pandas.concat instead.\n",
      "  df = df.append(datarow, ignore_index=True)\n",
      "C:\\Users\\lando\\AppData\\Local\\Temp\\ipykernel_34800\\3465631864.py:63: FutureWarning: The frame.append method is deprecated and will be removed from pandas in a future version. Use pandas.concat instead.\n",
      "  df = df.append(datarow, ignore_index=True)\n"
     ]
    },
    {
     "name": "stdout",
     "output_type": "stream",
     "text": [
      "Tuesday 7-8:30pmColumbus, OH 43210\n",
      "Tuesday 7 None\n",
      "test\n",
      "TEST\n",
      "Thursday 6:00pm370 W 9th AvenueColumbus, OH 43210\n",
      "Thursday 6:00 pm\n",
      "test\n",
      "TEST\n"
     ]
    },
    {
     "name": "stderr",
     "output_type": "stream",
     "text": [
      "C:\\Users\\lando\\AppData\\Local\\Temp\\ipykernel_34800\\3465631864.py:63: FutureWarning: The frame.append method is deprecated and will be removed from pandas in a future version. Use pandas.concat instead.\n",
      "  df = df.append(datarow, ignore_index=True)\n",
      "C:\\Users\\lando\\AppData\\Local\\Temp\\ipykernel_34800\\3465631864.py:63: FutureWarning: The frame.append method is deprecated and will be removed from pandas in a future version. Use pandas.concat instead.\n",
      "  df = df.append(datarow, ignore_index=True)\n"
     ]
    },
    {
     "name": "stdout",
     "output_type": "stream",
     "text": [
      "Thursdays at 7 PM (1x Month)1739 N High StreetColumbus, OH 43210Columbus, OH 43210\n",
      "Thursdays 7 PM\n",
      "test\n",
      "TEST\n",
      "Sundays at 3-4:30 PM1739 N High St, Columbus, OH 43210Columbus, OH 43210\n",
      "Sundays 3 None\n",
      "test\n",
      "TEST\n"
     ]
    },
    {
     "name": "stderr",
     "output_type": "stream",
     "text": [
      "C:\\Users\\lando\\AppData\\Local\\Temp\\ipykernel_34800\\3465631864.py:63: FutureWarning: The frame.append method is deprecated and will be removed from pandas in a future version. Use pandas.concat instead.\n",
      "  df = df.append(datarow, ignore_index=True)\n",
      "C:\\Users\\lando\\AppData\\Local\\Temp\\ipykernel_34800\\3465631864.py:63: FutureWarning: The frame.append method is deprecated and will be removed from pandas in a future version. Use pandas.concat instead.\n",
      "  df = df.append(datarow, ignore_index=True)\n"
     ]
    },
    {
     "name": "stdout",
     "output_type": "stream",
     "text": [
      "Monday @ 7pm337 Annie and John Glenn AveColumbus, OH 43210\n",
      "Monday 7 pm\n",
      "test\n",
      "TEST\n",
      "Columbus, OH 43210\n",
      "TEST\n"
     ]
    },
    {
     "name": "stderr",
     "output_type": "stream",
     "text": [
      "C:\\Users\\lando\\AppData\\Local\\Temp\\ipykernel_34800\\3465631864.py:63: FutureWarning: The frame.append method is deprecated and will be removed from pandas in a future version. Use pandas.concat instead.\n",
      "  df = df.append(datarow, ignore_index=True)\n",
      "C:\\Users\\lando\\AppData\\Local\\Temp\\ipykernel_34800\\3465631864.py:63: FutureWarning: The frame.append method is deprecated and will be removed from pandas in a future version. Use pandas.concat instead.\n",
      "  df = df.append(datarow, ignore_index=True)\n"
     ]
    },
    {
     "name": "stdout",
     "output_type": "stream",
     "text": [
      "Varies1775 College RdColumbus, OH 43210\n",
      "TEST\n",
      "1775 College RdColumbus OH 43210Columbus, OH 43210\n",
      "TEST\n"
     ]
    },
    {
     "name": "stderr",
     "output_type": "stream",
     "text": [
      "C:\\Users\\lando\\AppData\\Local\\Temp\\ipykernel_34800\\3465631864.py:63: FutureWarning: The frame.append method is deprecated and will be removed from pandas in a future version. Use pandas.concat instead.\n",
      "  df = df.append(datarow, ignore_index=True)\n",
      "C:\\Users\\lando\\AppData\\Local\\Temp\\ipykernel_34800\\3465631864.py:63: FutureWarning: The frame.append method is deprecated and will be removed from pandas in a future version. Use pandas.concat instead.\n",
      "  df = df.append(datarow, ignore_index=True)\n"
     ]
    },
    {
     "name": "stdout",
     "output_type": "stream",
     "text": [
      "Sun. 6:06pm, Wed 6:06pm45 E 13th AveColumbus, OH 43210\n",
      "Sun 6:06 pm\n",
      "test\n",
      "TEST\n",
      "Every Friday at 5:30PM125 S Oval Mall, Columbus, Ohio, 43210Columbus, OH 43210\n",
      "Friday 5:30 PM\n",
      "test\n",
      "TEST\n"
     ]
    },
    {
     "name": "stderr",
     "output_type": "stream",
     "text": [
      "C:\\Users\\lando\\AppData\\Local\\Temp\\ipykernel_34800\\3465631864.py:63: FutureWarning: The frame.append method is deprecated and will be removed from pandas in a future version. Use pandas.concat instead.\n",
      "  df = df.append(datarow, ignore_index=True)\n",
      "C:\\Users\\lando\\AppData\\Local\\Temp\\ipykernel_34800\\3465631864.py:63: FutureWarning: The frame.append method is deprecated and will be removed from pandas in a future version. Use pandas.concat instead.\n",
      "  df = df.append(datarow, ignore_index=True)\n"
     ]
    },
    {
     "name": "stdout",
     "output_type": "stream",
     "text": [
      "Columbus, OH 43210\n",
      "TEST\n",
      "Tuesday at 7pm1739 N. High StreetColumbus OH 43210Columbus, OH 43210\n",
      "Tuesday 7 pm\n",
      "test\n",
      "TEST\n"
     ]
    },
    {
     "name": "stderr",
     "output_type": "stream",
     "text": [
      "C:\\Users\\lando\\AppData\\Local\\Temp\\ipykernel_34800\\3465631864.py:63: FutureWarning: The frame.append method is deprecated and will be removed from pandas in a future version. Use pandas.concat instead.\n",
      "  df = df.append(datarow, ignore_index=True)\n",
      "C:\\Users\\lando\\AppData\\Local\\Temp\\ipykernel_34800\\3465631864.py:63: FutureWarning: The frame.append method is deprecated and will be removed from pandas in a future version. Use pandas.concat instead.\n",
      "  df = df.append(datarow, ignore_index=True)\n"
     ]
    },
    {
     "name": "stdout",
     "output_type": "stream",
     "text": [
      "Tuesday 8:00PMColumbus, OH 43210\n",
      "Tuesday 8:00 PM\n",
      "test\n",
      "TEST\n",
      "Wednesday 7pm46 East 16th AvenueColumbus, OH 43210\n",
      "Wednesday 7 pm\n",
      "test\n",
      "TEST\n"
     ]
    },
    {
     "name": "stderr",
     "output_type": "stream",
     "text": [
      "C:\\Users\\lando\\AppData\\Local\\Temp\\ipykernel_34800\\3465631864.py:63: FutureWarning: The frame.append method is deprecated and will be removed from pandas in a future version. Use pandas.concat instead.\n",
      "  df = df.append(datarow, ignore_index=True)\n",
      "C:\\Users\\lando\\AppData\\Local\\Temp\\ipykernel_34800\\3465631864.py:63: FutureWarning: The frame.append method is deprecated and will be removed from pandas in a future version. Use pandas.concat instead.\n",
      "  df = df.append(datarow, ignore_index=True)\n"
     ]
    },
    {
     "name": "stdout",
     "output_type": "stream",
     "text": [
      "To Be AnnouncedDrinko Hall55 W. 12th AveColumbus, OH 43210\n",
      "W 12 None\n",
      "test\n",
      "TEST\n",
      "Every Monday at 4:30pm and Wednesday at 4:30pm46 East 16th AveColumbus, OH 43210\n",
      "Monday 4:30 pm\n",
      "test\n",
      "TEST\n"
     ]
    },
    {
     "name": "stderr",
     "output_type": "stream",
     "text": [
      "C:\\Users\\lando\\AppData\\Local\\Temp\\ipykernel_34800\\3465631864.py:63: FutureWarning: The frame.append method is deprecated and will be removed from pandas in a future version. Use pandas.concat instead.\n",
      "  df = df.append(datarow, ignore_index=True)\n",
      "C:\\Users\\lando\\AppData\\Local\\Temp\\ipykernel_34800\\3465631864.py:63: FutureWarning: The frame.append method is deprecated and will be removed from pandas in a future version. Use pandas.concat instead.\n",
      "  df = df.append(datarow, ignore_index=True)\n"
     ]
    },
    {
     "name": "stdout",
     "output_type": "stream",
     "text": [
      "TBA46 East 16th AveColumbus, OH 43210\n",
      "TEST\n",
      "Columbus, OH 43210\n",
      "TEST\n"
     ]
    },
    {
     "name": "stderr",
     "output_type": "stream",
     "text": [
      "C:\\Users\\lando\\AppData\\Local\\Temp\\ipykernel_34800\\3465631864.py:63: FutureWarning: The frame.append method is deprecated and will be removed from pandas in a future version. Use pandas.concat instead.\n",
      "  df = df.append(datarow, ignore_index=True)\n",
      "C:\\Users\\lando\\AppData\\Local\\Temp\\ipykernel_34800\\3465631864.py:63: FutureWarning: The frame.append method is deprecated and will be removed from pandas in a future version. Use pandas.concat instead.\n",
      "  df = df.append(datarow, ignore_index=True)\n"
     ]
    },
    {
     "name": "stdout",
     "output_type": "stream",
     "text": [
      "Thursdays at 6 pm1810 College Rd.Columbus, OH 43210\n",
      "Thursdays 6 pm\n",
      "test\n",
      "TEST\n",
      "Once per month (provisionally Sundays)1810 College RoadColumbus, OH 43210\n",
      "TEST\n"
     ]
    },
    {
     "name": "stderr",
     "output_type": "stream",
     "text": [
      "C:\\Users\\lando\\AppData\\Local\\Temp\\ipykernel_34800\\3465631864.py:63: FutureWarning: The frame.append method is deprecated and will be removed from pandas in a future version. Use pandas.concat instead.\n",
      "  df = df.append(datarow, ignore_index=True)\n",
      "C:\\Users\\lando\\AppData\\Local\\Temp\\ipykernel_34800\\3465631864.py:63: FutureWarning: The frame.append method is deprecated and will be removed from pandas in a future version. Use pandas.concat instead.\n",
      "  df = df.append(datarow, ignore_index=True)\n"
     ]
    },
    {
     "name": "stdout",
     "output_type": "stream",
     "text": [
      "There are JDT general body meetings monthlyColumbus, OH 43210\n",
      "TEST\n",
      "Last Friday of every month, 12:30 - 1:30 pmColumbus, OH 43210\n",
      "TEST\n"
     ]
    },
    {
     "name": "stderr",
     "output_type": "stream",
     "text": [
      "C:\\Users\\lando\\AppData\\Local\\Temp\\ipykernel_34800\\3465631864.py:63: FutureWarning: The frame.append method is deprecated and will be removed from pandas in a future version. Use pandas.concat instead.\n",
      "  df = df.append(datarow, ignore_index=True)\n",
      "C:\\Users\\lando\\AppData\\Local\\Temp\\ipykernel_34800\\3465631864.py:63: FutureWarning: The frame.append method is deprecated and will be removed from pandas in a future version. Use pandas.concat instead.\n",
      "  df = df.append(datarow, ignore_index=True)\n"
     ]
    },
    {
     "name": "stdout",
     "output_type": "stream",
     "text": [
      "Friday1739 N High St, Columbus, OH 43210Columbus, OH 43210\n",
      "Friday 1739 None\n",
      "test\n",
      "TEST\n",
      "Thursday 6:30PM2009 Millikin Rd.Columbus, OH 43210Columbus, OH 43210\n",
      "Thursday 6:30 PM\n",
      "test\n",
      "TEST\n"
     ]
    },
    {
     "name": "stderr",
     "output_type": "stream",
     "text": [
      "C:\\Users\\lando\\AppData\\Local\\Temp\\ipykernel_34800\\3465631864.py:63: FutureWarning: The frame.append method is deprecated and will be removed from pandas in a future version. Use pandas.concat instead.\n",
      "  df = df.append(datarow, ignore_index=True)\n",
      "C:\\Users\\lando\\AppData\\Local\\Temp\\ipykernel_34800\\3465631864.py:63: FutureWarning: The frame.append method is deprecated and will be removed from pandas in a future version. Use pandas.concat instead.\n",
      "  df = df.append(datarow, ignore_index=True)\n"
     ]
    },
    {
     "name": "stdout",
     "output_type": "stream",
     "text": [
      "Various meetings throughout semester1739 N High St, Columbus, OH 43210Columbus, OH 43210\n",
      "TEST\n"
     ]
    },
    {
     "name": "stderr",
     "output_type": "stream",
     "text": [
      "C:\\Users\\lando\\AppData\\Local\\Temp\\ipykernel_34800\\3465631864.py:63: FutureWarning: The frame.append method is deprecated and will be removed from pandas in a future version. Use pandas.concat instead.\n",
      "  df = df.append(datarow, ignore_index=True)\n"
     ]
    },
    {
     "name": "stdout",
     "output_type": "stream",
     "text": [
      "Sunday 4:00-6:00 PM1739 N High St, Columbus, OH 43210Columbus, OH 43210\n",
      "Sunday 4:00 None\n",
      "test\n",
      "TEST\n"
     ]
    },
    {
     "name": "stderr",
     "output_type": "stream",
     "text": [
      "C:\\Users\\lando\\AppData\\Local\\Temp\\ipykernel_34800\\3465631864.py:63: FutureWarning: The frame.append method is deprecated and will be removed from pandas in a future version. Use pandas.concat instead.\n",
      "  df = df.append(datarow, ignore_index=True)\n"
     ]
    },
    {
     "name": "stdout",
     "output_type": "stream",
     "text": [
      "Mondays @ 7:30 - 8:30pm and Wednesdays @ 9 - 10pmColumbus, OH 43210\n",
      "Mondays 7:30 None\n",
      "test\n",
      "TEST\n"
     ]
    },
    {
     "name": "stderr",
     "output_type": "stream",
     "text": [
      "C:\\Users\\lando\\AppData\\Local\\Temp\\ipykernel_34800\\3465631864.py:63: FutureWarning: The frame.append method is deprecated and will be removed from pandas in a future version. Use pandas.concat instead.\n",
      "  df = df.append(datarow, ignore_index=True)\n",
      "C:\\Users\\lando\\AppData\\Local\\Temp\\ipykernel_34800\\3465631864.py:63: FutureWarning: The frame.append method is deprecated and will be removed from pandas in a future version. Use pandas.concat instead.\n",
      "  df = df.append(datarow, ignore_index=True)\n"
     ]
    },
    {
     "name": "stdout",
     "output_type": "stream",
     "text": [
      "3rd SundayMLK Lounge Hale Center153 West 12th AveColumbus, OH 43210\n",
      "TEST\n",
      "Columbus, OH 43210\n",
      "TEST\n"
     ]
    },
    {
     "name": "stderr",
     "output_type": "stream",
     "text": [
      "C:\\Users\\lando\\AppData\\Local\\Temp\\ipykernel_34800\\3465631864.py:63: FutureWarning: The frame.append method is deprecated and will be removed from pandas in a future version. Use pandas.concat instead.\n",
      "  df = df.append(datarow, ignore_index=True)\n"
     ]
    },
    {
     "name": "stdout",
     "output_type": "stream",
     "text": [
      "Every Second Sunday, 3 pm153 W. 12th Ave,Columbus, OH 43210\n",
      "Sunday 3 pm\n",
      "test\n",
      "TEST\n"
     ]
    },
    {
     "name": "stderr",
     "output_type": "stream",
     "text": [
      "C:\\Users\\lando\\AppData\\Local\\Temp\\ipykernel_34800\\3465631864.py:63: FutureWarning: The frame.append method is deprecated and will be removed from pandas in a future version. Use pandas.concat instead.\n",
      "  df = df.append(datarow, ignore_index=True)\n"
     ]
    },
    {
     "name": "stdout",
     "output_type": "stream",
     "text": [
      "Mondays at 6:15pm1861 Indianola AvenueColumbus, OH 43210\n",
      "Mondays 6:15 pm\n",
      "test\n",
      "TEST\n"
     ]
    },
    {
     "name": "stderr",
     "output_type": "stream",
     "text": [
      "C:\\Users\\lando\\AppData\\Local\\Temp\\ipykernel_34800\\3465631864.py:63: FutureWarning: The frame.append method is deprecated and will be removed from pandas in a future version. Use pandas.concat instead.\n",
      "  df = df.append(datarow, ignore_index=True)\n"
     ]
    },
    {
     "name": "stdout",
     "output_type": "stream",
     "text": [
      "Monday 7PM116 E. 15th Ave.Columbus, OH 43210\n",
      "Monday 7 PM\n",
      "test\n",
      "TEST\n"
     ]
    },
    {
     "name": "stderr",
     "output_type": "stream",
     "text": [
      "C:\\Users\\lando\\AppData\\Local\\Temp\\ipykernel_34800\\3465631864.py:63: FutureWarning: The frame.append method is deprecated and will be removed from pandas in a future version. Use pandas.concat instead.\n",
      "  df = df.append(datarow, ignore_index=True)\n"
     ]
    },
    {
     "name": "stdout",
     "output_type": "stream",
     "text": [
      "Monday, 7:00pmColumbus, OH 43210\n",
      "Monday 7:00 pm\n",
      "test\n",
      "TEST\n"
     ]
    },
    {
     "name": "stderr",
     "output_type": "stream",
     "text": [
      "C:\\Users\\lando\\AppData\\Local\\Temp\\ipykernel_34800\\3465631864.py:63: FutureWarning: The frame.append method is deprecated and will be removed from pandas in a future version. Use pandas.concat instead.\n",
      "  df = df.append(datarow, ignore_index=True)\n"
     ]
    },
    {
     "name": "stdout",
     "output_type": "stream",
     "text": [
      "Monday 7:00pm55 E. 15th AvenueColumbus, OH 43210\n",
      "Monday 7:00 pm\n",
      "test\n",
      "TEST\n"
     ]
    },
    {
     "name": "stderr",
     "output_type": "stream",
     "text": [
      "C:\\Users\\lando\\AppData\\Local\\Temp\\ipykernel_34800\\3465631864.py:63: FutureWarning: The frame.append method is deprecated and will be removed from pandas in a future version. Use pandas.concat instead.\n",
      "  df = df.append(datarow, ignore_index=True)\n"
     ]
    },
    {
     "name": "stdout",
     "output_type": "stream",
     "text": [
      "Mondays at 8:30pm1961 Tuttle Park PlaceColumbus, OH 43210\n",
      "Mondays 8:30 pm\n",
      "test\n",
      "TEST\n"
     ]
    },
    {
     "name": "stderr",
     "output_type": "stream",
     "text": [
      "C:\\Users\\lando\\AppData\\Local\\Temp\\ipykernel_34800\\3465631864.py:63: FutureWarning: The frame.append method is deprecated and will be removed from pandas in a future version. Use pandas.concat instead.\n",
      "  df = df.append(datarow, ignore_index=True)\n"
     ]
    },
    {
     "name": "stdout",
     "output_type": "stream",
     "text": [
      "Mondays at 7pm1739 N. High St.Columbus, OH 43210\n",
      "Mondays 7 pm\n",
      "test\n",
      "TEST\n"
     ]
    },
    {
     "name": "stderr",
     "output_type": "stream",
     "text": [
      "C:\\Users\\lando\\AppData\\Local\\Temp\\ipykernel_34800\\3465631864.py:63: FutureWarning: The frame.append method is deprecated and will be removed from pandas in a future version. Use pandas.concat instead.\n",
      "  df = df.append(datarow, ignore_index=True)\n"
     ]
    },
    {
     "name": "stdout",
     "output_type": "stream",
     "text": [
      "Every Thursday at 7PMOhio UnionColumbus, OH 43210\n",
      "Thursday 7 PM\n",
      "test\n",
      "TEST\n",
      "Mondays at 11:30am500 W 12th Avenue, Columbus, OH 43210Columbus, OH 43210\n",
      "Mondays 11:30 am\n",
      "test\n",
      "TEST\n"
     ]
    },
    {
     "name": "stderr",
     "output_type": "stream",
     "text": [
      "C:\\Users\\lando\\AppData\\Local\\Temp\\ipykernel_34800\\3465631864.py:63: FutureWarning: The frame.append method is deprecated and will be removed from pandas in a future version. Use pandas.concat instead.\n",
      "  df = df.append(datarow, ignore_index=True)\n",
      "C:\\Users\\lando\\AppData\\Local\\Temp\\ipykernel_34800\\3465631864.py:63: FutureWarning: The frame.append method is deprecated and will be removed from pandas in a future version. Use pandas.concat instead.\n",
      "  df = df.append(datarow, ignore_index=True)\n"
     ]
    },
    {
     "name": "stdout",
     "output_type": "stream",
     "text": [
      "TBD46 E 16th AveColumbus, OH 43210\n",
      "TEST\n",
      "WED: 8:30pm - 10:30pm, SUN: 10:00am-12:00pmColumbus, OH 43210\n",
      "TEST\n"
     ]
    },
    {
     "name": "stderr",
     "output_type": "stream",
     "text": [
      "C:\\Users\\lando\\AppData\\Local\\Temp\\ipykernel_34800\\3465631864.py:63: FutureWarning: The frame.append method is deprecated and will be removed from pandas in a future version. Use pandas.concat instead.\n",
      "  df = df.append(datarow, ignore_index=True)\n",
      "C:\\Users\\lando\\AppData\\Local\\Temp\\ipykernel_34800\\3465631864.py:63: FutureWarning: The frame.append method is deprecated and will be removed from pandas in a future version. Use pandas.concat instead.\n",
      "  df = df.append(datarow, ignore_index=True)\n"
     ]
    },
    {
     "name": "stdout",
     "output_type": "stream",
     "text": [
      "Alternating Fridays at 5pm46 E. 16th Ave.Columbus, OH 43201Columbus, OH 43210\n",
      "Fridays 5 pm\n",
      "test\n",
      "TEST\n"
     ]
    },
    {
     "name": "stderr",
     "output_type": "stream",
     "text": [
      "C:\\Users\\lando\\AppData\\Local\\Temp\\ipykernel_34800\\3465631864.py:63: FutureWarning: The frame.append method is deprecated and will be removed from pandas in a future version. Use pandas.concat instead.\n",
      "  df = df.append(datarow, ignore_index=True)\n"
     ]
    },
    {
     "name": "stdout",
     "output_type": "stream",
     "text": [
      "T Th 8pm-9:30pm, F 6pm-7:30pm - RPAC Boxing Studio337 Annie and John Glenn Ave, Columbus, OH 43210Columbus, OH 43210\n",
      "Th 8 pm\n",
      "test\n",
      "TEST\n",
      "Columbus, OH 43210\n",
      "TEST\n"
     ]
    },
    {
     "name": "stderr",
     "output_type": "stream",
     "text": [
      "C:\\Users\\lando\\AppData\\Local\\Temp\\ipykernel_34800\\3465631864.py:63: FutureWarning: The frame.append method is deprecated and will be removed from pandas in a future version. Use pandas.concat instead.\n",
      "  df = df.append(datarow, ignore_index=True)\n",
      "C:\\Users\\lando\\AppData\\Local\\Temp\\ipykernel_34800\\3465631864.py:63: FutureWarning: The frame.append method is deprecated and will be removed from pandas in a future version. Use pandas.concat instead.\n",
      "  df = df.append(datarow, ignore_index=True)\n"
     ]
    },
    {
     "name": "stdout",
     "output_type": "stream",
     "text": [
      "Tuesday and Friday at 20:00337 W. 17th AveColumbus, OhioColumbus, OH 43210\n",
      "Friday 20:00 None\n",
      "test\n",
      "TEST\n",
      "Tuesday 7, Thursday varied time134 Frank W. Hale Center153 W. 12th Avenue Columbus, OH 43210\n",
      "Tuesday 7 None\n",
      "test\n",
      "TEST\n"
     ]
    },
    {
     "name": "stderr",
     "output_type": "stream",
     "text": [
      "C:\\Users\\lando\\AppData\\Local\\Temp\\ipykernel_34800\\3465631864.py:63: FutureWarning: The frame.append method is deprecated and will be removed from pandas in a future version. Use pandas.concat instead.\n",
      "  df = df.append(datarow, ignore_index=True)\n",
      "C:\\Users\\lando\\AppData\\Local\\Temp\\ipykernel_34800\\3465631864.py:63: FutureWarning: The frame.append method is deprecated and will be removed from pandas in a future version. Use pandas.concat instead.\n",
      "  df = df.append(datarow, ignore_index=True)\n"
     ]
    },
    {
     "name": "stdout",
     "output_type": "stream",
     "text": [
      "Tuesday 7:00Columbus, OH 43210\n",
      "Tuesday 7:00 None\n",
      "test\n",
      "TEST\n",
      "u.osu.edu/knowfoodwaste/club-activities/Columbus, OH 43210\n",
      "TEST\n"
     ]
    },
    {
     "name": "stderr",
     "output_type": "stream",
     "text": [
      "C:\\Users\\lando\\AppData\\Local\\Temp\\ipykernel_34800\\3465631864.py:63: FutureWarning: The frame.append method is deprecated and will be removed from pandas in a future version. Use pandas.concat instead.\n",
      "  df = df.append(datarow, ignore_index=True)\n",
      "C:\\Users\\lando\\AppData\\Local\\Temp\\ipykernel_34800\\3465631864.py:63: FutureWarning: The frame.append method is deprecated and will be removed from pandas in a future version. Use pandas.concat instead.\n",
      "  df = df.append(datarow, ignore_index=True)\n"
     ]
    },
    {
     "name": "stdout",
     "output_type": "stream",
     "text": [
      "Columbus, OH 43210\n",
      "TEST\n",
      "monthly46 E. 16th AvenueColumbus, OH 43210\n",
      "TEST\n"
     ]
    },
    {
     "name": "stderr",
     "output_type": "stream",
     "text": [
      "C:\\Users\\lando\\AppData\\Local\\Temp\\ipykernel_34800\\3465631864.py:63: FutureWarning: The frame.append method is deprecated and will be removed from pandas in a future version. Use pandas.concat instead.\n",
      "  df = df.append(datarow, ignore_index=True)\n",
      "C:\\Users\\lando\\AppData\\Local\\Temp\\ipykernel_34800\\3465631864.py:63: FutureWarning: The frame.append method is deprecated and will be removed from pandas in a future version. Use pandas.concat instead.\n",
      "  df = df.append(datarow, ignore_index=True)\n"
     ]
    },
    {
     "name": "stdout",
     "output_type": "stream",
     "text": [
      "Monday 7:00 pmColumbus, OH 43210\n",
      "Monday 7:00 pm\n",
      "test\n",
      "TEST\n",
      "N/AColumbus, OH 43210\n",
      "TEST\n"
     ]
    },
    {
     "name": "stderr",
     "output_type": "stream",
     "text": [
      "C:\\Users\\lando\\AppData\\Local\\Temp\\ipykernel_34800\\3465631864.py:63: FutureWarning: The frame.append method is deprecated and will be removed from pandas in a future version. Use pandas.concat instead.\n",
      "  df = df.append(datarow, ignore_index=True)\n",
      "C:\\Users\\lando\\AppData\\Local\\Temp\\ipykernel_34800\\3465631864.py:63: FutureWarning: The frame.append method is deprecated and will be removed from pandas in a future version. Use pandas.concat instead.\n",
      "  df = df.append(datarow, ignore_index=True)\n"
     ]
    },
    {
     "name": "stdout",
     "output_type": "stream",
     "text": [
      "Wednesday at 7:30PM2009 Millikin Rd, Columbus, OH 43210Columbus, OH 43210\n",
      "Wednesday 7:30 PM\n",
      "test\n",
      "TEST\n",
      "Sundays, 5PM1858 Neil Ave, Columbus, OH 43210Columbus, OH 43210\n",
      "Sundays 5 PM\n",
      "test\n",
      "TEST\n"
     ]
    },
    {
     "name": "stderr",
     "output_type": "stream",
     "text": [
      "C:\\Users\\lando\\AppData\\Local\\Temp\\ipykernel_34800\\3465631864.py:63: FutureWarning: The frame.append method is deprecated and will be removed from pandas in a future version. Use pandas.concat instead.\n",
      "  df = df.append(datarow, ignore_index=True)\n",
      "C:\\Users\\lando\\AppData\\Local\\Temp\\ipykernel_34800\\3465631864.py:63: FutureWarning: The frame.append method is deprecated and will be removed from pandas in a future version. Use pandas.concat instead.\n",
      "  df = df.append(datarow, ignore_index=True)\n"
     ]
    },
    {
     "name": "stdout",
     "output_type": "stream",
     "text": [
      "Sundays noonColumbus, OH 43210\n",
      "TEST\n",
      "During Scheduled Times When Appropriate55 West 12th AvenueColumbus, OH 43210\n",
      "TEST\n"
     ]
    },
    {
     "name": "stderr",
     "output_type": "stream",
     "text": [
      "C:\\Users\\lando\\AppData\\Local\\Temp\\ipykernel_34800\\3465631864.py:63: FutureWarning: The frame.append method is deprecated and will be removed from pandas in a future version. Use pandas.concat instead.\n",
      "  df = df.append(datarow, ignore_index=True)\n",
      "C:\\Users\\lando\\AppData\\Local\\Temp\\ipykernel_34800\\3465631864.py:63: FutureWarning: The frame.append method is deprecated and will be removed from pandas in a future version. Use pandas.concat instead.\n",
      "  df = df.append(datarow, ignore_index=True)\n"
     ]
    },
    {
     "name": "stdout",
     "output_type": "stream",
     "text": [
      "Tuesday at 6 pm154 W 12th AvenueColumbus, OH 43210\n",
      "Tuesday 6 pm\n",
      "test\n",
      "TEST\n",
      "Columbus, OH 43210\n",
      "TEST\n"
     ]
    },
    {
     "name": "stderr",
     "output_type": "stream",
     "text": [
      "C:\\Users\\lando\\AppData\\Local\\Temp\\ipykernel_34800\\3465631864.py:63: FutureWarning: The frame.append method is deprecated and will be removed from pandas in a future version. Use pandas.concat instead.\n",
      "  df = df.append(datarow, ignore_index=True)\n",
      "C:\\Users\\lando\\AppData\\Local\\Temp\\ipykernel_34800\\3465631864.py:63: FutureWarning: The frame.append method is deprecated and will be removed from pandas in a future version. Use pandas.concat instead.\n",
      "  df = df.append(datarow, ignore_index=True)\n"
     ]
    },
    {
     "name": "stdout",
     "output_type": "stream",
     "text": [
      "Thursday 2:15 pmVariousColumbus, OH 43210\n",
      "Thursday 2:15 pm\n",
      "test\n",
      "TEST\n",
      "As needed333 West 10th Ave.Columbus, OH 43210\n",
      "TEST\n"
     ]
    },
    {
     "name": "stderr",
     "output_type": "stream",
     "text": [
      "C:\\Users\\lando\\AppData\\Local\\Temp\\ipykernel_34800\\3465631864.py:63: FutureWarning: The frame.append method is deprecated and will be removed from pandas in a future version. Use pandas.concat instead.\n",
      "  df = df.append(datarow, ignore_index=True)\n",
      "C:\\Users\\lando\\AppData\\Local\\Temp\\ipykernel_34800\\3465631864.py:63: FutureWarning: The frame.append method is deprecated and will be removed from pandas in a future version. Use pandas.concat instead.\n",
      "  df = df.append(datarow, ignore_index=True)\n"
     ]
    },
    {
     "name": "stdout",
     "output_type": "stream",
     "text": [
      "Thursday 4:30 PM230 North Oval MallColumbus, OH 43210\n",
      "Thursday 4:30 PM\n",
      "test\n",
      "TEST\n",
      "55 West 12th AvenueColumbus, OH 43210Columbus, OH 43210\n",
      "TEST\n"
     ]
    },
    {
     "name": "stderr",
     "output_type": "stream",
     "text": [
      "C:\\Users\\lando\\AppData\\Local\\Temp\\ipykernel_34800\\3465631864.py:63: FutureWarning: The frame.append method is deprecated and will be removed from pandas in a future version. Use pandas.concat instead.\n",
      "  df = df.append(datarow, ignore_index=True)\n",
      "C:\\Users\\lando\\AppData\\Local\\Temp\\ipykernel_34800\\3465631864.py:63: FutureWarning: The frame.append method is deprecated and will be removed from pandas in a future version. Use pandas.concat instead.\n",
      "  df = df.append(datarow, ignore_index=True)\n"
     ]
    },
    {
     "name": "stdout",
     "output_type": "stream",
     "text": [
      "Mondays at 12PM410 W. 10th Ave., Columbus, OH 43210Columbus, OH 43210\n",
      "Mondays 12 PM\n",
      "test\n",
      "TEST\n"
     ]
    },
    {
     "name": "stderr",
     "output_type": "stream",
     "text": [
      "C:\\Users\\lando\\AppData\\Local\\Temp\\ipykernel_34800\\3465631864.py:63: FutureWarning: The frame.append method is deprecated and will be removed from pandas in a future version. Use pandas.concat instead.\n",
      "  df = df.append(datarow, ignore_index=True)\n"
     ]
    },
    {
     "name": "stdout",
     "output_type": "stream",
     "text": [
      "Columbus, OH 43210\n",
      "TEST\n",
      "Every Other Thursday 7:30-8:30pmOhio Union, Suite 10001739 North High Street Columbus Ohio 43210Columbus, OH 43210\n",
      "Thursday 7:30 None\n",
      "test\n",
      "TEST\n"
     ]
    },
    {
     "name": "stderr",
     "output_type": "stream",
     "text": [
      "C:\\Users\\lando\\AppData\\Local\\Temp\\ipykernel_34800\\3465631864.py:63: FutureWarning: The frame.append method is deprecated and will be removed from pandas in a future version. Use pandas.concat instead.\n",
      "  df = df.append(datarow, ignore_index=True)\n",
      "C:\\Users\\lando\\AppData\\Local\\Temp\\ipykernel_34800\\3465631864.py:63: FutureWarning: The frame.append method is deprecated and will be removed from pandas in a future version. Use pandas.concat instead.\n",
      "  df = df.append(datarow, ignore_index=True)\n"
     ]
    },
    {
     "name": "stdout",
     "output_type": "stream",
     "text": [
      "One Wednesday a Month @ 6pm79 E 12th AveColumbus, OH 43210\n",
      "TEST\n",
      "Varies55 West 12th AvenueColumbus, OH 43210\n",
      "TEST\n"
     ]
    },
    {
     "name": "stderr",
     "output_type": "stream",
     "text": [
      "C:\\Users\\lando\\AppData\\Local\\Temp\\ipykernel_34800\\3465631864.py:63: FutureWarning: The frame.append method is deprecated and will be removed from pandas in a future version. Use pandas.concat instead.\n",
      "  df = df.append(datarow, ignore_index=True)\n",
      "C:\\Users\\lando\\AppData\\Local\\Temp\\ipykernel_34800\\3465631864.py:63: FutureWarning: The frame.append method is deprecated and will be removed from pandas in a future version. Use pandas.concat instead.\n",
      "  df = df.append(datarow, ignore_index=True)\n"
     ]
    },
    {
     "name": "stdout",
     "output_type": "stream",
     "text": [
      "VariableColumbus, OH 43210\n",
      "TEST\n",
      "Wednesdays, 6 PM1739 N. High StreetColumbus, OH 43210\n",
      "Wednesdays 6 PM\n",
      "test\n",
      "TEST\n"
     ]
    },
    {
     "name": "stderr",
     "output_type": "stream",
     "text": [
      "C:\\Users\\lando\\AppData\\Local\\Temp\\ipykernel_34800\\3465631864.py:63: FutureWarning: The frame.append method is deprecated and will be removed from pandas in a future version. Use pandas.concat instead.\n",
      "  df = df.append(datarow, ignore_index=True)\n",
      "C:\\Users\\lando\\AppData\\Local\\Temp\\ipykernel_34800\\3465631864.py:63: FutureWarning: The frame.append method is deprecated and will be removed from pandas in a future version. Use pandas.concat instead.\n",
      "  df = df.append(datarow, ignore_index=True)\n"
     ]
    },
    {
     "name": "stdout",
     "output_type": "stream",
     "text": [
      "Wednesdays, 6:30 PM230 North Oval MallColumbus, OH 43210\n",
      "Wednesdays 6:30 PM\n",
      "test\n",
      "TEST\n",
      "TBA via email (join email list for notification)370 West 9th AvenueColumbus, OH 43210\n",
      "TEST\n"
     ]
    },
    {
     "name": "stderr",
     "output_type": "stream",
     "text": [
      "C:\\Users\\lando\\AppData\\Local\\Temp\\ipykernel_34800\\3465631864.py:63: FutureWarning: The frame.append method is deprecated and will be removed from pandas in a future version. Use pandas.concat instead.\n",
      "  df = df.append(datarow, ignore_index=True)\n",
      "C:\\Users\\lando\\AppData\\Local\\Temp\\ipykernel_34800\\3465631864.py:63: FutureWarning: The frame.append method is deprecated and will be removed from pandas in a future version. Use pandas.concat instead.\n",
      "  df = df.append(datarow, ignore_index=True)\n"
     ]
    },
    {
     "name": "stdout",
     "output_type": "stream",
     "text": [
      "Sunday 3pm, biweeklyColumbus, OH 43210\n",
      "Sunday 3 pm\n",
      "test\n",
      "TEST\n",
      "Saturday at 6:30 at TBD, Sunday at 10:30 am199 E 15th Ave. Columbus, Ohio 43201Columbus, OH 43210\n",
      "Saturday 6:30 None\n",
      "test\n",
      "TEST\n"
     ]
    },
    {
     "name": "stderr",
     "output_type": "stream",
     "text": [
      "C:\\Users\\lando\\AppData\\Local\\Temp\\ipykernel_34800\\3465631864.py:63: FutureWarning: The frame.append method is deprecated and will be removed from pandas in a future version. Use pandas.concat instead.\n",
      "  df = df.append(datarow, ignore_index=True)\n",
      "C:\\Users\\lando\\AppData\\Local\\Temp\\ipykernel_34800\\3465631864.py:63: FutureWarning: The frame.append method is deprecated and will be removed from pandas in a future version. Use pandas.concat instead.\n",
      "  df = df.append(datarow, ignore_index=True)\n"
     ]
    },
    {
     "name": "stdout",
     "output_type": "stream",
     "text": [
      "Columbus, OH 43210\n",
      "TEST\n",
      "Columbus, OH 43210\n",
      "TEST\n"
     ]
    },
    {
     "name": "stderr",
     "output_type": "stream",
     "text": [
      "C:\\Users\\lando\\AppData\\Local\\Temp\\ipykernel_34800\\3465631864.py:63: FutureWarning: The frame.append method is deprecated and will be removed from pandas in a future version. Use pandas.concat instead.\n",
      "  df = df.append(datarow, ignore_index=True)\n",
      "C:\\Users\\lando\\AppData\\Local\\Temp\\ipykernel_34800\\3465631864.py:63: FutureWarning: The frame.append method is deprecated and will be removed from pandas in a future version. Use pandas.concat instead.\n",
      "  df = df.append(datarow, ignore_index=True)\n"
     ]
    },
    {
     "name": "stdout",
     "output_type": "stream",
     "text": [
      "For dates and times: burens.3@osu.edu338 West 10th AveColumbus, OH 43210\n",
      "TEST\n",
      "Monday's at 7:30pm210 W.  Woodruff AveColumbus, Ohio 43210Columbus, OH 43210\n",
      "TEST\n"
     ]
    },
    {
     "name": "stderr",
     "output_type": "stream",
     "text": [
      "C:\\Users\\lando\\AppData\\Local\\Temp\\ipykernel_34800\\3465631864.py:63: FutureWarning: The frame.append method is deprecated and will be removed from pandas in a future version. Use pandas.concat instead.\n",
      "  df = df.append(datarow, ignore_index=True)\n",
      "C:\\Users\\lando\\AppData\\Local\\Temp\\ipykernel_34800\\3465631864.py:63: FutureWarning: The frame.append method is deprecated and will be removed from pandas in a future version. Use pandas.concat instead.\n",
      "  df = df.append(datarow, ignore_index=True)\n"
     ]
    },
    {
     "name": "stdout",
     "output_type": "stream",
     "text": [
      "Thursday 7 to 8In front of 18th Ave LibraryColumbus, OH 43210\n",
      "Thursday 7 None\n",
      "test\n",
      "TEST\n",
      "Fridays 5:30-6:30154 w. 12th aveColumbus, OH 43210\n",
      "Fridays 5:30 None\n",
      "test\n",
      "TEST\n"
     ]
    },
    {
     "name": "stderr",
     "output_type": "stream",
     "text": [
      "C:\\Users\\lando\\AppData\\Local\\Temp\\ipykernel_34800\\3465631864.py:63: FutureWarning: The frame.append method is deprecated and will be removed from pandas in a future version. Use pandas.concat instead.\n",
      "  df = df.append(datarow, ignore_index=True)\n",
      "C:\\Users\\lando\\AppData\\Local\\Temp\\ipykernel_34800\\3465631864.py:63: FutureWarning: The frame.append method is deprecated and will be removed from pandas in a future version. Use pandas.concat instead.\n",
      "  df = df.append(datarow, ignore_index=True)\n"
     ]
    },
    {
     "name": "stdout",
     "output_type": "stream",
     "text": [
      "Every Thursday at 8 pmThe Ohio State University Union and OvalColumbus, OH 43210\n",
      "Thursday 8 pm\n",
      "test\n",
      "TEST\n",
      "Once a semester338 West 10th AvenueColumbus, OH 43210\n",
      "TEST\n"
     ]
    },
    {
     "name": "stderr",
     "output_type": "stream",
     "text": [
      "C:\\Users\\lando\\AppData\\Local\\Temp\\ipykernel_34800\\3465631864.py:63: FutureWarning: The frame.append method is deprecated and will be removed from pandas in a future version. Use pandas.concat instead.\n",
      "  df = df.append(datarow, ignore_index=True)\n",
      "C:\\Users\\lando\\AppData\\Local\\Temp\\ipykernel_34800\\3465631864.py:63: FutureWarning: The frame.append method is deprecated and will be removed from pandas in a future version. Use pandas.concat instead.\n",
      "  df = df.append(datarow, ignore_index=True)\n"
     ]
    },
    {
     "name": "stdout",
     "output_type": "stream",
     "text": [
      "Mondays 4:00pm-5:00pmColumbus, OH 43210\n",
      "Mondays 4:00 pm\n",
      "test\n",
      "TEST\n",
      "Meetings vary biweeklyColumbus, OH 43210\n",
      "TEST\n"
     ]
    },
    {
     "name": "stderr",
     "output_type": "stream",
     "text": [
      "C:\\Users\\lando\\AppData\\Local\\Temp\\ipykernel_34800\\3465631864.py:63: FutureWarning: The frame.append method is deprecated and will be removed from pandas in a future version. Use pandas.concat instead.\n",
      "  df = df.append(datarow, ignore_index=True)\n",
      "C:\\Users\\lando\\AppData\\Local\\Temp\\ipykernel_34800\\3465631864.py:63: FutureWarning: The frame.append method is deprecated and will be removed from pandas in a future version. Use pandas.concat instead.\n",
      "  df = df.append(datarow, ignore_index=True)\n"
     ]
    },
    {
     "name": "stdout",
     "output_type": "stream",
     "text": [
      "Mondays, 7:00-8:00164 Annie and John Glenn Ave, Columbus, OH 43210Columbus, OH 43210\n",
      "Mondays 7:00 None\n",
      "test\n",
      "TEST\n",
      "Columbus, OH 43210\n",
      "TEST\n"
     ]
    },
    {
     "name": "stderr",
     "output_type": "stream",
     "text": [
      "C:\\Users\\lando\\AppData\\Local\\Temp\\ipykernel_34800\\3465631864.py:63: FutureWarning: The frame.append method is deprecated and will be removed from pandas in a future version. Use pandas.concat instead.\n",
      "  df = df.append(datarow, ignore_index=True)\n",
      "C:\\Users\\lando\\AppData\\Local\\Temp\\ipykernel_34800\\3465631864.py:63: FutureWarning: The frame.append method is deprecated and will be removed from pandas in a future version. Use pandas.concat instead.\n",
      "  df = df.append(datarow, ignore_index=True)\n"
     ]
    },
    {
     "name": "stdout",
     "output_type": "stream",
     "text": [
      "Monday 6pm97 W Lane AvenueColumbus, OH 43210\n",
      "Monday 6 pm\n",
      "test\n",
      "TEST\n",
      "Tues/Thurs approx. 7-9pm, Sun approx. 6-8pmColumbus, OH 43210\n",
      "TEST\n"
     ]
    },
    {
     "name": "stderr",
     "output_type": "stream",
     "text": [
      "C:\\Users\\lando\\AppData\\Local\\Temp\\ipykernel_34800\\3465631864.py:63: FutureWarning: The frame.append method is deprecated and will be removed from pandas in a future version. Use pandas.concat instead.\n",
      "  df = df.append(datarow, ignore_index=True)\n",
      "C:\\Users\\lando\\AppData\\Local\\Temp\\ipykernel_34800\\3465631864.py:63: FutureWarning: The frame.append method is deprecated and will be removed from pandas in a future version. Use pandas.concat instead.\n",
      "  df = df.append(datarow, ignore_index=True)\n"
     ]
    },
    {
     "name": "stdout",
     "output_type": "stream",
     "text": [
      "Every other Tuesday from 7pm-8pmColumbus, OH 43210\n",
      "TEST\n",
      "Monday at 6:30pmVisit osumakerclub.org for more details!Columbus, OH 43210\n",
      "Monday 6:30 pm\n",
      "test\n",
      "TEST\n"
     ]
    },
    {
     "name": "stderr",
     "output_type": "stream",
     "text": [
      "C:\\Users\\lando\\AppData\\Local\\Temp\\ipykernel_34800\\3465631864.py:63: FutureWarning: The frame.append method is deprecated and will be removed from pandas in a future version. Use pandas.concat instead.\n",
      "  df = df.append(datarow, ignore_index=True)\n",
      "C:\\Users\\lando\\AppData\\Local\\Temp\\ipykernel_34800\\3465631864.py:63: FutureWarning: The frame.append method is deprecated and will be removed from pandas in a future version. Use pandas.concat instead.\n",
      "  df = df.append(datarow, ignore_index=True)\n"
     ]
    },
    {
     "name": "stdout",
     "output_type": "stream",
     "text": [
      "Wednesdays, 7:00pm1739 N. High StreetColumbus, OH 43210\n",
      "Wednesdays 7:00 pm\n",
      "test\n",
      "TEST\n",
      "Wednesday 6:00 - 7:30 pmColumbus, OH 43210\n",
      "Wednesday 6:00 None\n",
      "test\n",
      "TEST\n"
     ]
    },
    {
     "name": "stderr",
     "output_type": "stream",
     "text": [
      "C:\\Users\\lando\\AppData\\Local\\Temp\\ipykernel_34800\\3465631864.py:63: FutureWarning: The frame.append method is deprecated and will be removed from pandas in a future version. Use pandas.concat instead.\n",
      "  df = df.append(datarow, ignore_index=True)\n",
      "C:\\Users\\lando\\AppData\\Local\\Temp\\ipykernel_34800\\3465631864.py:63: FutureWarning: The frame.append method is deprecated and will be removed from pandas in a future version. Use pandas.concat instead.\n",
      "  df = df.append(datarow, ignore_index=True)\n"
     ]
    },
    {
     "name": "stdout",
     "output_type": "stream",
     "text": [
      "Wednesday 7:30pmEnarson 258Columbus, OH 43210\n",
      "Wednesday 7:30 pm\n",
      "test\n",
      "TEST\n",
      "Thursdays at 6:00 PMColumbus, OH 43210\n",
      "Thursdays 6:00 PM\n",
      "test\n",
      "TEST\n"
     ]
    },
    {
     "name": "stderr",
     "output_type": "stream",
     "text": [
      "C:\\Users\\lando\\AppData\\Local\\Temp\\ipykernel_34800\\3465631864.py:63: FutureWarning: The frame.append method is deprecated and will be removed from pandas in a future version. Use pandas.concat instead.\n",
      "  df = df.append(datarow, ignore_index=True)\n",
      "C:\\Users\\lando\\AppData\\Local\\Temp\\ipykernel_34800\\3465631864.py:63: FutureWarning: The frame.append method is deprecated and will be removed from pandas in a future version. Use pandas.concat instead.\n",
      "  df = df.append(datarow, ignore_index=True)\n"
     ]
    },
    {
     "name": "stdout",
     "output_type": "stream",
     "text": [
      "Wednesdays at 5:30; bi-weeklyColumbus, OH 43210\n",
      "Wednesdays 5:30 None\n",
      "test\n",
      "TEST\n",
      "Every other Sunday at 7:00 PMColumbus, OH 43210\n",
      "Sunday 7:00 PM\n",
      "test\n",
      "TEST\n"
     ]
    },
    {
     "name": "stderr",
     "output_type": "stream",
     "text": [
      "C:\\Users\\lando\\AppData\\Local\\Temp\\ipykernel_34800\\3465631864.py:63: FutureWarning: The frame.append method is deprecated and will be removed from pandas in a future version. Use pandas.concat instead.\n",
      "  df = df.append(datarow, ignore_index=True)\n",
      "C:\\Users\\lando\\AppData\\Local\\Temp\\ipykernel_34800\\3465631864.py:63: FutureWarning: The frame.append method is deprecated and will be removed from pandas in a future version. Use pandas.concat instead.\n",
      "  df = df.append(datarow, ignore_index=True)\n"
     ]
    },
    {
     "name": "stdout",
     "output_type": "stream",
     "text": [
      "Wednesdays at 7:00PM140 W 19th AveColumbus, OH 43210Columbus, OH 43210\n",
      "Wednesdays 7:00 PM\n",
      "test\n",
      "TEST\n",
      "Tuesdays, 5:15 pm231 W. 18th AveColumbus, OH 43210\n",
      "Tuesdays 5:15 pm\n",
      "test\n",
      "TEST\n"
     ]
    },
    {
     "name": "stderr",
     "output_type": "stream",
     "text": [
      "C:\\Users\\lando\\AppData\\Local\\Temp\\ipykernel_34800\\3465631864.py:63: FutureWarning: The frame.append method is deprecated and will be removed from pandas in a future version. Use pandas.concat instead.\n",
      "  df = df.append(datarow, ignore_index=True)\n",
      "C:\\Users\\lando\\AppData\\Local\\Temp\\ipykernel_34800\\3465631864.py:63: FutureWarning: The frame.append method is deprecated and will be removed from pandas in a future version. Use pandas.concat instead.\n",
      "  df = df.append(datarow, ignore_index=True)\n"
     ]
    },
    {
     "name": "stdout",
     "output_type": "stream",
     "text": [
      "Thursdays 4:30 pm376 W. 10th Avenue, Columbus, OH 43210Columbus, OH 43210\n",
      "Thursdays 4:30 pm\n",
      "test\n",
      "TEST\n",
      "1st and 3rd Tuesdays @ 7pm2029 Fyffe RdColumbus, OH 43210\n",
      "Tuesdays 7 pm\n",
      "test\n",
      "TEST\n"
     ]
    },
    {
     "name": "stderr",
     "output_type": "stream",
     "text": [
      "C:\\Users\\lando\\AppData\\Local\\Temp\\ipykernel_34800\\3465631864.py:63: FutureWarning: The frame.append method is deprecated and will be removed from pandas in a future version. Use pandas.concat instead.\n",
      "  df = df.append(datarow, ignore_index=True)\n",
      "C:\\Users\\lando\\AppData\\Local\\Temp\\ipykernel_34800\\3465631864.py:63: FutureWarning: The frame.append method is deprecated and will be removed from pandas in a future version. Use pandas.concat instead.\n",
      "  df = df.append(datarow, ignore_index=True)\n"
     ]
    },
    {
     "name": "stdout",
     "output_type": "stream",
     "text": [
      "As needed201 W. 19th AveColumbus, OH 43210\n",
      "W 19 None\n",
      "test\n",
      "TEST\n",
      "Columbus, OH 43210\n",
      "TEST\n"
     ]
    },
    {
     "name": "stderr",
     "output_type": "stream",
     "text": [
      "C:\\Users\\lando\\AppData\\Local\\Temp\\ipykernel_34800\\3465631864.py:63: FutureWarning: The frame.append method is deprecated and will be removed from pandas in a future version. Use pandas.concat instead.\n",
      "  df = df.append(datarow, ignore_index=True)\n",
      "C:\\Users\\lando\\AppData\\Local\\Temp\\ipykernel_34800\\3465631864.py:63: FutureWarning: The frame.append method is deprecated and will be removed from pandas in a future version. Use pandas.concat instead.\n",
      "  df = df.append(datarow, ignore_index=True)\n"
     ]
    },
    {
     "name": "stdout",
     "output_type": "stream",
     "text": [
      "12:00 on WednesdaysGraves HallColumbus, OH 43210\n",
      "TEST\n",
      "Columbus, OH 43210\n",
      "TEST\n"
     ]
    },
    {
     "name": "stderr",
     "output_type": "stream",
     "text": [
      "C:\\Users\\lando\\AppData\\Local\\Temp\\ipykernel_34800\\3465631864.py:63: FutureWarning: The frame.append method is deprecated and will be removed from pandas in a future version. Use pandas.concat instead.\n",
      "  df = df.append(datarow, ignore_index=True)\n",
      "C:\\Users\\lando\\AppData\\Local\\Temp\\ipykernel_34800\\3465631864.py:63: FutureWarning: The frame.append method is deprecated and will be removed from pandas in a future version. Use pandas.concat instead.\n",
      "  df = df.append(datarow, ignore_index=True)\n"
     ]
    },
    {
     "name": "stdout",
     "output_type": "stream",
     "text": [
      "varies55 W. 12th AvenueColumbus, OH 43210\n",
      "W 12 None\n",
      "test\n",
      "TEST\n",
      "As Needed370 W. 9th Ave.Columbus, OH 43210Columbus, OH 43210\n",
      "W 9 None\n",
      "test\n",
      "TEST\n"
     ]
    },
    {
     "name": "stderr",
     "output_type": "stream",
     "text": [
      "C:\\Users\\lando\\AppData\\Local\\Temp\\ipykernel_34800\\3465631864.py:63: FutureWarning: The frame.append method is deprecated and will be removed from pandas in a future version. Use pandas.concat instead.\n",
      "  df = df.append(datarow, ignore_index=True)\n",
      "C:\\Users\\lando\\AppData\\Local\\Temp\\ipykernel_34800\\3465631864.py:63: FutureWarning: The frame.append method is deprecated and will be removed from pandas in a future version. Use pandas.concat instead.\n",
      "  df = df.append(datarow, ignore_index=True)\n"
     ]
    },
    {
     "name": "stdout",
     "output_type": "stream",
     "text": [
      "Lunch Time- Monthly Meetings (Zoom)Meiling or Graves Hall / ZoomColumbus, OH 43210\n",
      "TEST\n",
      "Tuesdays, 7 PM2009 Millikin Rd Columbus, OH 43210Columbus, OH 43210\n",
      "Tuesdays 7 PM\n",
      "test\n",
      "TEST\n"
     ]
    },
    {
     "name": "stderr",
     "output_type": "stream",
     "text": [
      "C:\\Users\\lando\\AppData\\Local\\Temp\\ipykernel_34800\\3465631864.py:63: FutureWarning: The frame.append method is deprecated and will be removed from pandas in a future version. Use pandas.concat instead.\n",
      "  df = df.append(datarow, ignore_index=True)\n",
      "C:\\Users\\lando\\AppData\\Local\\Temp\\ipykernel_34800\\3465631864.py:63: FutureWarning: The frame.append method is deprecated and will be removed from pandas in a future version. Use pandas.concat instead.\n",
      "  df = df.append(datarow, ignore_index=True)\n"
     ]
    },
    {
     "name": "stdout",
     "output_type": "stream",
     "text": [
      "R 10:15-11a100 E Arcadia AvenueColumbus, OH 43210\n",
      "TEST\n",
      "Weekly on Thursdays, 4:00-5:00 p.m.Columbus, OH 43210\n",
      "Thursdays 4:00 None\n",
      "test\n",
      "TEST\n"
     ]
    },
    {
     "name": "stderr",
     "output_type": "stream",
     "text": [
      "C:\\Users\\lando\\AppData\\Local\\Temp\\ipykernel_34800\\3465631864.py:63: FutureWarning: The frame.append method is deprecated and will be removed from pandas in a future version. Use pandas.concat instead.\n",
      "  df = df.append(datarow, ignore_index=True)\n",
      "C:\\Users\\lando\\AppData\\Local\\Temp\\ipykernel_34800\\3465631864.py:63: FutureWarning: The frame.append method is deprecated and will be removed from pandas in a future version. Use pandas.concat instead.\n",
      "  df = df.append(datarow, ignore_index=True)\n"
     ]
    },
    {
     "name": "stdout",
     "output_type": "stream",
     "text": [
      "333 W 10th AveColumbus, OH 43210Columbus, OH 43210\n",
      "W 10 None\n",
      "test\n",
      "TEST\n",
      "Columbus, OH 43210\n",
      "TEST\n"
     ]
    },
    {
     "name": "stderr",
     "output_type": "stream",
     "text": [
      "C:\\Users\\lando\\AppData\\Local\\Temp\\ipykernel_34800\\3465631864.py:63: FutureWarning: The frame.append method is deprecated and will be removed from pandas in a future version. Use pandas.concat instead.\n",
      "  df = df.append(datarow, ignore_index=True)\n",
      "C:\\Users\\lando\\AppData\\Local\\Temp\\ipykernel_34800\\3465631864.py:63: FutureWarning: The frame.append method is deprecated and will be removed from pandas in a future version. Use pandas.concat instead.\n",
      "  df = df.append(datarow, ignore_index=True)\n"
     ]
    },
    {
     "name": "stdout",
     "output_type": "stream",
     "text": [
      "Vary as neededGraves HallColumbus, OH 43210\n",
      "TEST\n",
      "Wednesdays, 7:00 PM (Bi-weekly)Columbus, OH 43210\n",
      "Wednesdays 7:00 PM\n",
      "test\n",
      "TEST\n"
     ]
    },
    {
     "name": "stderr",
     "output_type": "stream",
     "text": [
      "C:\\Users\\lando\\AppData\\Local\\Temp\\ipykernel_34800\\3465631864.py:63: FutureWarning: The frame.append method is deprecated and will be removed from pandas in a future version. Use pandas.concat instead.\n",
      "  df = df.append(datarow, ignore_index=True)\n",
      "C:\\Users\\lando\\AppData\\Local\\Temp\\ipykernel_34800\\3465631864.py:63: FutureWarning: The frame.append method is deprecated and will be removed from pandas in a future version. Use pandas.concat instead.\n",
      "  df = df.append(datarow, ignore_index=True)\n"
     ]
    },
    {
     "name": "stdout",
     "output_type": "stream",
     "text": [
      "Variable175 W 18th AveColumbus, OH, 43210Columbus, OH 43210\n",
      "W 18 None\n",
      "test\n",
      "TEST\n",
      "Mondays, 6pm-9pm30 West Woodruff AveColumbus, OH 43210\n",
      "Mondays 6 pm\n",
      "test\n",
      "TEST\n"
     ]
    },
    {
     "name": "stderr",
     "output_type": "stream",
     "text": [
      "C:\\Users\\lando\\AppData\\Local\\Temp\\ipykernel_34800\\3465631864.py:63: FutureWarning: The frame.append method is deprecated and will be removed from pandas in a future version. Use pandas.concat instead.\n",
      "  df = df.append(datarow, ignore_index=True)\n",
      "C:\\Users\\lando\\AppData\\Local\\Temp\\ipykernel_34800\\3465631864.py:63: FutureWarning: The frame.append method is deprecated and will be removed from pandas in a future version. Use pandas.concat instead.\n",
      "  df = df.append(datarow, ignore_index=True)\n"
     ]
    },
    {
     "name": "stdout",
     "output_type": "stream",
     "text": [
      "Every other Monday 7:30 pmColumbus, OH 43210\n",
      "Monday 7:30 pm\n",
      "test\n",
      "TEST\n",
      "MWF 4:10-5:051866 College RoadColumbus, OH 43210\n",
      "TEST\n"
     ]
    },
    {
     "name": "stderr",
     "output_type": "stream",
     "text": [
      "C:\\Users\\lando\\AppData\\Local\\Temp\\ipykernel_34800\\3465631864.py:63: FutureWarning: The frame.append method is deprecated and will be removed from pandas in a future version. Use pandas.concat instead.\n",
      "  df = df.append(datarow, ignore_index=True)\n",
      "C:\\Users\\lando\\AppData\\Local\\Temp\\ipykernel_34800\\3465631864.py:63: FutureWarning: The frame.append method is deprecated and will be removed from pandas in a future version. Use pandas.concat instead.\n",
      "  df = df.append(datarow, ignore_index=True)\n"
     ]
    },
    {
     "name": "stdout",
     "output_type": "stream",
     "text": [
      "TBD - variesColumbus, OH 43210\n",
      "TEST\n",
      "TBDColumbus, OH 43210\n",
      "TEST\n"
     ]
    },
    {
     "name": "stderr",
     "output_type": "stream",
     "text": [
      "C:\\Users\\lando\\AppData\\Local\\Temp\\ipykernel_34800\\3465631864.py:63: FutureWarning: The frame.append method is deprecated and will be removed from pandas in a future version. Use pandas.concat instead.\n",
      "  df = df.append(datarow, ignore_index=True)\n",
      "C:\\Users\\lando\\AppData\\Local\\Temp\\ipykernel_34800\\3465631864.py:63: FutureWarning: The frame.append method is deprecated and will be removed from pandas in a future version. Use pandas.concat instead.\n",
      "  df = df.append(datarow, ignore_index=True)\n"
     ]
    },
    {
     "name": "stdout",
     "output_type": "stream",
     "text": [
      "Wednesdays 8:00-10:00pm160 W Woodruff Ave, Columbus, OH 43210Columbus, OH 43210\n",
      "Wednesdays 8:00 None\n",
      "test\n",
      "TEST\n",
      "Tuesdays 7pmColumbus, OH 43210\n",
      "Tuesdays 7 pm\n",
      "test\n",
      "TEST\n"
     ]
    },
    {
     "name": "stderr",
     "output_type": "stream",
     "text": [
      "C:\\Users\\lando\\AppData\\Local\\Temp\\ipykernel_34800\\3465631864.py:63: FutureWarning: The frame.append method is deprecated and will be removed from pandas in a future version. Use pandas.concat instead.\n",
      "  df = df.append(datarow, ignore_index=True)\n",
      "C:\\Users\\lando\\AppData\\Local\\Temp\\ipykernel_34800\\3465631864.py:63: FutureWarning: The frame.append method is deprecated and will be removed from pandas in a future version. Use pandas.concat instead.\n",
      "  df = df.append(datarow, ignore_index=True)\n"
     ]
    },
    {
     "name": "stdout",
     "output_type": "stream",
     "text": [
      "Columbus, OH 43210\n",
      "TEST\n",
      "Sundays 12-2, Thursdays 6:00-8:00 PM46 E. 16th Ave.Columbus, OH 43210\n",
      "Sundays 12 None\n",
      "test\n",
      "TEST\n"
     ]
    },
    {
     "name": "stderr",
     "output_type": "stream",
     "text": [
      "C:\\Users\\lando\\AppData\\Local\\Temp\\ipykernel_34800\\3465631864.py:63: FutureWarning: The frame.append method is deprecated and will be removed from pandas in a future version. Use pandas.concat instead.\n",
      "  df = df.append(datarow, ignore_index=True)\n",
      "C:\\Users\\lando\\AppData\\Local\\Temp\\ipykernel_34800\\3465631864.py:63: FutureWarning: The frame.append method is deprecated and will be removed from pandas in a future version. Use pandas.concat instead.\n",
      "  df = df.append(datarow, ignore_index=True)\n"
     ]
    },
    {
     "name": "stdout",
     "output_type": "stream",
     "text": [
      "Varies throughout the academic year.154 North Oval MallColumbus, OH 43210\n",
      "TEST\n",
      "https://tinyurl.com/MIIGSS460 W 12th. AveColumbus, OH 43210\n",
      "W 12 None\n",
      "test\n",
      "TEST\n"
     ]
    },
    {
     "name": "stderr",
     "output_type": "stream",
     "text": [
      "C:\\Users\\lando\\AppData\\Local\\Temp\\ipykernel_34800\\3465631864.py:63: FutureWarning: The frame.append method is deprecated and will be removed from pandas in a future version. Use pandas.concat instead.\n",
      "  df = df.append(datarow, ignore_index=True)\n",
      "C:\\Users\\lando\\AppData\\Local\\Temp\\ipykernel_34800\\3465631864.py:63: FutureWarning: The frame.append method is deprecated and will be removed from pandas in a future version. Use pandas.concat instead.\n",
      "  df = df.append(datarow, ignore_index=True)\n"
     ]
    },
    {
     "name": "stdout",
     "output_type": "stream",
     "text": [
      "March Columbus, OH 43210\n",
      "TEST\n",
      "Columbus, OH 43210\n",
      "TEST\n"
     ]
    },
    {
     "name": "stderr",
     "output_type": "stream",
     "text": [
      "C:\\Users\\lando\\AppData\\Local\\Temp\\ipykernel_34800\\3465631864.py:63: FutureWarning: The frame.append method is deprecated and will be removed from pandas in a future version. Use pandas.concat instead.\n",
      "  df = df.append(datarow, ignore_index=True)\n",
      "C:\\Users\\lando\\AppData\\Local\\Temp\\ipykernel_34800\\3465631864.py:63: FutureWarning: The frame.append method is deprecated and will be removed from pandas in a future version. Use pandas.concat instead.\n",
      "  df = df.append(datarow, ignore_index=True)\n"
     ]
    },
    {
     "name": "stdout",
     "output_type": "stream",
     "text": [
      "Noon, WeekdaysThe Ohio State UniversityMoritz College of LawColumbus, OH 43210\n",
      "TEST\n"
     ]
    },
    {
     "name": "stderr",
     "output_type": "stream",
     "text": [
      "C:\\Users\\lando\\AppData\\Local\\Temp\\ipykernel_34800\\3465631864.py:63: FutureWarning: The frame.append method is deprecated and will be removed from pandas in a future version. Use pandas.concat instead.\n",
      "  df = df.append(datarow, ignore_index=True)\n"
     ]
    },
    {
     "name": "stdout",
     "output_type": "stream",
     "text": [
      "Tuesday @8:30Columbus, OH 43210\n",
      "Tuesday 8:30 None\n",
      "test\n",
      "TEST\n"
     ]
    },
    {
     "name": "stderr",
     "output_type": "stream",
     "text": [
      "C:\\Users\\lando\\AppData\\Local\\Temp\\ipykernel_34800\\3465631864.py:63: FutureWarning: The frame.append method is deprecated and will be removed from pandas in a future version. Use pandas.concat instead.\n",
      "  df = df.append(datarow, ignore_index=True)\n"
     ]
    },
    {
     "name": "stdout",
     "output_type": "stream",
     "text": [
      "Tuesday's 6:00Columbus, OH 43210\n",
      "TEST\n",
      "None - Meeting by Announcement333 W 10th AveColumbus, OH 43210Columbus, OH 43210\n",
      "W 10 None\n",
      "test\n",
      "TEST\n"
     ]
    },
    {
     "name": "stderr",
     "output_type": "stream",
     "text": [
      "C:\\Users\\lando\\AppData\\Local\\Temp\\ipykernel_34800\\3465631864.py:63: FutureWarning: The frame.append method is deprecated and will be removed from pandas in a future version. Use pandas.concat instead.\n",
      "  df = df.append(datarow, ignore_index=True)\n",
      "C:\\Users\\lando\\AppData\\Local\\Temp\\ipykernel_34800\\3465631864.py:63: FutureWarning: The frame.append method is deprecated and will be removed from pandas in a future version. Use pandas.concat instead.\n",
      "  df = df.append(datarow, ignore_index=True)\n"
     ]
    },
    {
     "name": "stdout",
     "output_type": "stream",
     "text": [
      "Columbus, OH 43210\n",
      "TEST\n",
      "Fridays, 9:00-9:30amColumbus, OH 43210\n",
      "Fridays 9:00 None\n",
      "test\n",
      "TEST\n"
     ]
    },
    {
     "name": "stderr",
     "output_type": "stream",
     "text": [
      "C:\\Users\\lando\\AppData\\Local\\Temp\\ipykernel_34800\\3465631864.py:63: FutureWarning: The frame.append method is deprecated and will be removed from pandas in a future version. Use pandas.concat instead.\n",
      "  df = df.append(datarow, ignore_index=True)\n",
      "C:\\Users\\lando\\AppData\\Local\\Temp\\ipykernel_34800\\3465631864.py:63: FutureWarning: The frame.append method is deprecated and will be removed from pandas in a future version. Use pandas.concat instead.\n",
      "  df = df.append(datarow, ignore_index=True)\n"
     ]
    },
    {
     "name": "stdout",
     "output_type": "stream",
     "text": [
      "Columbus, OH 43210\n",
      "TEST\n",
      "Please email Ali for information.Columbus, OH 43210\n",
      "TEST\n"
     ]
    },
    {
     "name": "stderr",
     "output_type": "stream",
     "text": [
      "C:\\Users\\lando\\AppData\\Local\\Temp\\ipykernel_34800\\3465631864.py:63: FutureWarning: The frame.append method is deprecated and will be removed from pandas in a future version. Use pandas.concat instead.\n",
      "  df = df.append(datarow, ignore_index=True)\n",
      "C:\\Users\\lando\\AppData\\Local\\Temp\\ipykernel_34800\\3465631864.py:63: FutureWarning: The frame.append method is deprecated and will be removed from pandas in a future version. Use pandas.concat instead.\n",
      "  df = df.append(datarow, ignore_index=True)\n"
     ]
    },
    {
     "name": "stdout",
     "output_type": "stream",
     "text": [
      "4th Monday every month 5:30pm2021 Coffey RdColumbus, OH 43210\n",
      "TEST\n",
      "Every Other Tuesday at 6:00 pm154 W. 12th AvenueColumbus, OH 43210\n",
      "Tuesday 6:00 pm\n",
      "test\n",
      "TEST\n"
     ]
    },
    {
     "name": "stderr",
     "output_type": "stream",
     "text": [
      "C:\\Users\\lando\\AppData\\Local\\Temp\\ipykernel_34800\\3465631864.py:63: FutureWarning: The frame.append method is deprecated and will be removed from pandas in a future version. Use pandas.concat instead.\n",
      "  df = df.append(datarow, ignore_index=True)\n",
      "C:\\Users\\lando\\AppData\\Local\\Temp\\ipykernel_34800\\3465631864.py:63: FutureWarning: The frame.append method is deprecated and will be removed from pandas in a future version. Use pandas.concat instead.\n",
      "  df = df.append(datarow, ignore_index=True)\n"
     ]
    },
    {
     "name": "stdout",
     "output_type": "stream",
     "text": [
      "Biweekly Thursdays 6-7pm2070 Neil AveColumbus, OH 43210\n",
      "Thursdays 6 None\n",
      "test\n",
      "TEST\n",
      "Columbus, OH 43210\n",
      "TEST\n"
     ]
    },
    {
     "name": "stderr",
     "output_type": "stream",
     "text": [
      "C:\\Users\\lando\\AppData\\Local\\Temp\\ipykernel_34800\\3465631864.py:63: FutureWarning: The frame.append method is deprecated and will be removed from pandas in a future version. Use pandas.concat instead.\n",
      "  df = df.append(datarow, ignore_index=True)\n",
      "C:\\Users\\lando\\AppData\\Local\\Temp\\ipykernel_34800\\3465631864.py:63: FutureWarning: The frame.append method is deprecated and will be removed from pandas in a future version. Use pandas.concat instead.\n",
      "  df = df.append(datarow, ignore_index=True)\n"
     ]
    },
    {
     "name": "stdout",
     "output_type": "stream",
     "text": [
      "Columbus, OH 43210\n",
      "TEST\n",
      "Sunday (Biweekly) at 7:30PMBuilding 072 2009 Millikin Rd Columbus, OH 43210Columbus, OH 43210\n",
      "TEST\n"
     ]
    },
    {
     "name": "stderr",
     "output_type": "stream",
     "text": [
      "C:\\Users\\lando\\AppData\\Local\\Temp\\ipykernel_34800\\3465631864.py:63: FutureWarning: The frame.append method is deprecated and will be removed from pandas in a future version. Use pandas.concat instead.\n",
      "  df = df.append(datarow, ignore_index=True)\n",
      "C:\\Users\\lando\\AppData\\Local\\Temp\\ipykernel_34800\\3465631864.py:63: FutureWarning: The frame.append method is deprecated and will be removed from pandas in a future version. Use pandas.concat instead.\n",
      "  df = df.append(datarow, ignore_index=True)\n"
     ]
    },
    {
     "name": "stdout",
     "output_type": "stream",
     "text": [
      "Every Other Wednesday at 3:30PM230 North Oval Mall350 University Hall, Columbus OH, 43210Columbus, OH 43210\n",
      "Wednesday 3:30 PM\n",
      "test\n",
      "TEST\n"
     ]
    },
    {
     "name": "stderr",
     "output_type": "stream",
     "text": [
      "C:\\Users\\lando\\AppData\\Local\\Temp\\ipykernel_34800\\3465631864.py:63: FutureWarning: The frame.append method is deprecated and will be removed from pandas in a future version. Use pandas.concat instead.\n",
      "  df = df.append(datarow, ignore_index=True)\n"
     ]
    },
    {
     "name": "stdout",
     "output_type": "stream",
     "text": [
      "Thursday 5:30 PM46 E 16th AveColumbus, OH 43210\n",
      "Thursday 5:30 PM\n",
      "test\n",
      "TEST\n"
     ]
    },
    {
     "name": "stderr",
     "output_type": "stream",
     "text": [
      "C:\\Users\\lando\\AppData\\Local\\Temp\\ipykernel_34800\\3465631864.py:63: FutureWarning: The frame.append method is deprecated and will be removed from pandas in a future version. Use pandas.concat instead.\n",
      "  df = df.append(datarow, ignore_index=True)\n"
     ]
    },
    {
     "name": "stdout",
     "output_type": "stream",
     "text": [
      "Saturdays at 2pm337 Annie and John Glenn Ave, Columbus, OH 43210Columbus, OH 43210\n",
      "Saturdays 2 pm\n",
      "test\n",
      "TEST\n"
     ]
    },
    {
     "name": "stderr",
     "output_type": "stream",
     "text": [
      "C:\\Users\\lando\\AppData\\Local\\Temp\\ipykernel_34800\\3465631864.py:63: FutureWarning: The frame.append method is deprecated and will be removed from pandas in a future version. Use pandas.concat instead.\n",
      "  df = df.append(datarow, ignore_index=True)\n"
     ]
    },
    {
     "name": "stdout",
     "output_type": "stream",
     "text": [
      "Mondays & Thursdays 7pm-10pmBuilding 054125 S Oval MallColumbus, OH 43210\n",
      "Thursdays 7 pm\n",
      "test\n",
      "TEST\n",
      "Biweekly Tuesdays, 7:30pm-8:30pm1775 S College RdCurrently: Zoom, Check Mauosu instagramColumbus, OH 43210\n",
      "Tuesdays 7:30 pm\n",
      "test\n",
      "TEST\n"
     ]
    },
    {
     "name": "stderr",
     "output_type": "stream",
     "text": [
      "C:\\Users\\lando\\AppData\\Local\\Temp\\ipykernel_34800\\3465631864.py:63: FutureWarning: The frame.append method is deprecated and will be removed from pandas in a future version. Use pandas.concat instead.\n",
      "  df = df.append(datarow, ignore_index=True)\n",
      "C:\\Users\\lando\\AppData\\Local\\Temp\\ipykernel_34800\\3465631864.py:63: FutureWarning: The frame.append method is deprecated and will be removed from pandas in a future version. Use pandas.concat instead.\n",
      "  df = df.append(datarow, ignore_index=True)\n"
     ]
    },
    {
     "name": "stdout",
     "output_type": "stream",
     "text": [
      "Monthly meetings at best available time.Columbus, OH 43210\n",
      "TEST\n",
      "Every other Tuesday 6:00-7:00pm335 Campbell, 1787 Neil Ave, Columbus, OH 43210Columbus, OH 43210\n",
      "Tuesday 6:00 None\n",
      "test\n",
      "TEST\n"
     ]
    },
    {
     "name": "stderr",
     "output_type": "stream",
     "text": [
      "C:\\Users\\lando\\AppData\\Local\\Temp\\ipykernel_34800\\3465631864.py:63: FutureWarning: The frame.append method is deprecated and will be removed from pandas in a future version. Use pandas.concat instead.\n",
      "  df = df.append(datarow, ignore_index=True)\n",
      "C:\\Users\\lando\\AppData\\Local\\Temp\\ipykernel_34800\\3465631864.py:63: FutureWarning: The frame.append method is deprecated and will be removed from pandas in a future version. Use pandas.concat instead.\n",
      "  df = df.append(datarow, ignore_index=True)\n"
     ]
    },
    {
     "name": "stdout",
     "output_type": "stream",
     "text": [
      "Thursday 3:30-6PM473 W 12th Ave, Columbus, OH 43210Columbus, OH 43210\n",
      "Thursday 3:30 None\n",
      "test\n",
      "TEST\n"
     ]
    },
    {
     "name": "stderr",
     "output_type": "stream",
     "text": [
      "C:\\Users\\lando\\AppData\\Local\\Temp\\ipykernel_34800\\3465631864.py:63: FutureWarning: The frame.append method is deprecated and will be removed from pandas in a future version. Use pandas.concat instead.\n",
      "  df = df.append(datarow, ignore_index=True)\n"
     ]
    },
    {
     "name": "stdout",
     "output_type": "stream",
     "text": [
      "Weekly Ballet Class: Thursdays 7-8:30 PM ESTColumbus, OH 43210\n",
      "Thursdays 7 None\n",
      "test\n",
      "TEST\n"
     ]
    },
    {
     "name": "stderr",
     "output_type": "stream",
     "text": [
      "C:\\Users\\lando\\AppData\\Local\\Temp\\ipykernel_34800\\3465631864.py:63: FutureWarning: The frame.append method is deprecated and will be removed from pandas in a future version. Use pandas.concat instead.\n",
      "  df = df.append(datarow, ignore_index=True)\n"
     ]
    },
    {
     "name": "stdout",
     "output_type": "stream",
     "text": [
      "Announcements made via GroupMe with members 55 West 12th AvenueColumbus, Ohio 43210Columbus, OH 43210\n",
      "TEST\n"
     ]
    },
    {
     "name": "stderr",
     "output_type": "stream",
     "text": [
      "C:\\Users\\lando\\AppData\\Local\\Temp\\ipykernel_34800\\3465631864.py:63: FutureWarning: The frame.append method is deprecated and will be removed from pandas in a future version. Use pandas.concat instead.\n",
      "  df = df.append(datarow, ignore_index=True)\n"
     ]
    },
    {
     "name": "stdout",
     "output_type": "stream",
     "text": [
      "Variable - Twice Per Month55 W. 12th AvenueColumbus, OH 43210\n",
      "W 12 None\n",
      "test\n",
      "TEST\n",
      "Tuesdays at 12:10pm55 West 12th AvenueColumbus, OH 43210\n",
      "Tuesdays 12:10 pm\n",
      "test\n",
      "TEST\n"
     ]
    },
    {
     "name": "stderr",
     "output_type": "stream",
     "text": [
      "C:\\Users\\lando\\AppData\\Local\\Temp\\ipykernel_34800\\3465631864.py:63: FutureWarning: The frame.append method is deprecated and will be removed from pandas in a future version. Use pandas.concat instead.\n",
      "  df = df.append(datarow, ignore_index=True)\n",
      "C:\\Users\\lando\\AppData\\Local\\Temp\\ipykernel_34800\\3465631864.py:63: FutureWarning: The frame.append method is deprecated and will be removed from pandas in a future version. Use pandas.concat instead.\n",
      "  df = df.append(datarow, ignore_index=True)\n"
     ]
    },
    {
     "name": "stdout",
     "output_type": "stream",
     "text": [
      "Every Tuesday from 9:00 p- 10:00p184 W. 11th Ave.Columbus, OH 43210\n",
      "W 11 None\n",
      "test\n",
      "TEST\n"
     ]
    },
    {
     "name": "stderr",
     "output_type": "stream",
     "text": [
      "C:\\Users\\lando\\AppData\\Local\\Temp\\ipykernel_34800\\3465631864.py:63: FutureWarning: The frame.append method is deprecated and will be removed from pandas in a future version. Use pandas.concat instead.\n",
      "  df = df.append(datarow, ignore_index=True)\n"
     ]
    },
    {
     "name": "stdout",
     "output_type": "stream",
     "text": [
      "Wednesdays 7-8pmN/AN/AColumbus, OH 43210\n",
      "Wednesdays 7 None\n",
      "test\n",
      "TEST\n",
      "Specific to staff164 Annie and John Glenn AveColumbus, OH 43210\n",
      "TEST\n"
     ]
    },
    {
     "name": "stderr",
     "output_type": "stream",
     "text": [
      "C:\\Users\\lando\\AppData\\Local\\Temp\\ipykernel_34800\\3465631864.py:63: FutureWarning: The frame.append method is deprecated and will be removed from pandas in a future version. Use pandas.concat instead.\n",
      "  df = df.append(datarow, ignore_index=True)\n",
      "C:\\Users\\lando\\AppData\\Local\\Temp\\ipykernel_34800\\3465631864.py:63: FutureWarning: The frame.append method is deprecated and will be removed from pandas in a future version. Use pandas.concat instead.\n",
      "  df = df.append(datarow, ignore_index=True)\n"
     ]
    },
    {
     "name": "stdout",
     "output_type": "stream",
     "text": [
      "Weekends, weather permitting.Columbus, OH 43210\n",
      "TEST\n",
      "UndecidedColumbus, OH 43210\n",
      "TEST\n"
     ]
    },
    {
     "name": "stderr",
     "output_type": "stream",
     "text": [
      "C:\\Users\\lando\\AppData\\Local\\Temp\\ipykernel_34800\\3465631864.py:63: FutureWarning: The frame.append method is deprecated and will be removed from pandas in a future version. Use pandas.concat instead.\n",
      "  df = df.append(datarow, ignore_index=True)\n",
      "C:\\Users\\lando\\AppData\\Local\\Temp\\ipykernel_34800\\3465631864.py:63: FutureWarning: The frame.append method is deprecated and will be removed from pandas in a future version. Use pandas.concat instead.\n",
      "  df = df.append(datarow, ignore_index=True)\n"
     ]
    },
    {
     "name": "stdout",
     "output_type": "stream",
     "text": [
      "Meetings are every other Thursday at 7pmColumbus, OH 43210\n",
      "Thursday 7 pm\n",
      "test\n",
      "TEST\n"
     ]
    },
    {
     "name": "stderr",
     "output_type": "stream",
     "text": [
      "C:\\Users\\lando\\AppData\\Local\\Temp\\ipykernel_34800\\3465631864.py:63: FutureWarning: The frame.append method is deprecated and will be removed from pandas in a future version. Use pandas.concat instead.\n",
      "  df = df.append(datarow, ignore_index=True)\n"
     ]
    },
    {
     "name": "stdout",
     "output_type": "stream",
     "text": [
      "Sundays, 12-1pm (Biweekly)Columbus, OH 43210\n",
      "Sundays 12 None\n",
      "test\n",
      "TEST\n",
      "Sundays and Tuesdays: 8:30-10:00PMColumbus, OH 43210\n",
      "TEST\n"
     ]
    },
    {
     "name": "stderr",
     "output_type": "stream",
     "text": [
      "C:\\Users\\lando\\AppData\\Local\\Temp\\ipykernel_34800\\3465631864.py:63: FutureWarning: The frame.append method is deprecated and will be removed from pandas in a future version. Use pandas.concat instead.\n",
      "  df = df.append(datarow, ignore_index=True)\n",
      "C:\\Users\\lando\\AppData\\Local\\Temp\\ipykernel_34800\\3465631864.py:63: FutureWarning: The frame.append method is deprecated and will be removed from pandas in a future version. Use pandas.concat instead.\n",
      "  df = df.append(datarow, ignore_index=True)\n"
     ]
    },
    {
     "name": "stdout",
     "output_type": "stream",
     "text": [
      "Tuesday 5:30pm370 W. 9th Ave, Columbus, OH 43210Columbus, OH 43210\n",
      "Tuesday 5:30 pm\n",
      "test\n",
      "TEST\n",
      "Tuesday at 6:00PM1739 N High St, Columbus, OH 43210Greek Suite, Keith B. Key CenterColumbus, OH 43210\n",
      "Tuesday 6:00 PM\n",
      "test\n",
      "TEST\n"
     ]
    },
    {
     "name": "stderr",
     "output_type": "stream",
     "text": [
      "C:\\Users\\lando\\AppData\\Local\\Temp\\ipykernel_34800\\3465631864.py:63: FutureWarning: The frame.append method is deprecated and will be removed from pandas in a future version. Use pandas.concat instead.\n",
      "  df = df.append(datarow, ignore_index=True)\n",
      "C:\\Users\\lando\\AppData\\Local\\Temp\\ipykernel_34800\\3465631864.py:63: FutureWarning: The frame.append method is deprecated and will be removed from pandas in a future version. Use pandas.concat instead.\n",
      "  df = df.append(datarow, ignore_index=True)\n"
     ]
    },
    {
     "name": "stdout",
     "output_type": "stream",
     "text": [
      "BiweeklyColumbus, OH 43210\n",
      "TEST\n",
      "Mondays 6:30 PM1739 N. High Street Columbus, OH 43210Columbus, OH 43210\n",
      "Mondays 6:30 PM\n",
      "test\n",
      "TEST\n"
     ]
    },
    {
     "name": "stderr",
     "output_type": "stream",
     "text": [
      "C:\\Users\\lando\\AppData\\Local\\Temp\\ipykernel_34800\\3465631864.py:63: FutureWarning: The frame.append method is deprecated and will be removed from pandas in a future version. Use pandas.concat instead.\n",
      "  df = df.append(datarow, ignore_index=True)\n",
      "C:\\Users\\lando\\AppData\\Local\\Temp\\ipykernel_34800\\3465631864.py:63: FutureWarning: The frame.append method is deprecated and will be removed from pandas in a future version. Use pandas.concat instead.\n",
      "  df = df.append(datarow, ignore_index=True)\n"
     ]
    },
    {
     "name": "stdout",
     "output_type": "stream",
     "text": [
      "Columbus, OH 43210\n",
      "TEST\n"
     ]
    },
    {
     "name": "stderr",
     "output_type": "stream",
     "text": [
      "C:\\Users\\lando\\AppData\\Local\\Temp\\ipykernel_34800\\3465631864.py:63: FutureWarning: The frame.append method is deprecated and will be removed from pandas in a future version. Use pandas.concat instead.\n",
      "  df = df.append(datarow, ignore_index=True)\n"
     ]
    },
    {
     "name": "stdout",
     "output_type": "stream",
     "text": [
      "TBDTBDColumbus, OH 43210\n",
      "TEST\n",
      "Columbus, OH 43210\n",
      "TEST\n"
     ]
    },
    {
     "name": "stderr",
     "output_type": "stream",
     "text": [
      "C:\\Users\\lando\\AppData\\Local\\Temp\\ipykernel_34800\\3465631864.py:63: FutureWarning: The frame.append method is deprecated and will be removed from pandas in a future version. Use pandas.concat instead.\n",
      "  df = df.append(datarow, ignore_index=True)\n",
      "C:\\Users\\lando\\AppData\\Local\\Temp\\ipykernel_34800\\3465631864.py:63: FutureWarning: The frame.append method is deprecated and will be removed from pandas in a future version. Use pandas.concat instead.\n",
      "  df = df.append(datarow, ignore_index=True)\n"
     ]
    },
    {
     "name": "stdout",
     "output_type": "stream",
     "text": [
      "Tuesdays 7PMColumbus, OH 43210\n",
      "Tuesdays 7 PM\n",
      "test\n",
      "TEST\n",
      "Wednesdays 7-8 PMColumbus, OH 43210\n",
      "Wednesdays 7 None\n",
      "test\n",
      "TEST\n"
     ]
    },
    {
     "name": "stderr",
     "output_type": "stream",
     "text": [
      "C:\\Users\\lando\\AppData\\Local\\Temp\\ipykernel_34800\\3465631864.py:63: FutureWarning: The frame.append method is deprecated and will be removed from pandas in a future version. Use pandas.concat instead.\n",
      "  df = df.append(datarow, ignore_index=True)\n",
      "C:\\Users\\lando\\AppData\\Local\\Temp\\ipykernel_34800\\3465631864.py:63: FutureWarning: The frame.append method is deprecated and will be removed from pandas in a future version. Use pandas.concat instead.\n",
      "  df = df.append(datarow, ignore_index=True)\n"
     ]
    },
    {
     "name": "stdout",
     "output_type": "stream",
     "text": [
      "Tuesdays at 7:30pColumbus, OH 43210\n",
      "Tuesdays 7:30 None\n",
      "test\n",
      "TEST\n",
      "Columbus, OH 43210\n",
      "TEST\n"
     ]
    },
    {
     "name": "stderr",
     "output_type": "stream",
     "text": [
      "C:\\Users\\lando\\AppData\\Local\\Temp\\ipykernel_34800\\3465631864.py:63: FutureWarning: The frame.append method is deprecated and will be removed from pandas in a future version. Use pandas.concat instead.\n",
      "  df = df.append(datarow, ignore_index=True)\n",
      "C:\\Users\\lando\\AppData\\Local\\Temp\\ipykernel_34800\\3465631864.py:63: FutureWarning: The frame.append method is deprecated and will be removed from pandas in a future version. Use pandas.concat instead.\n",
      "  df = df.append(datarow, ignore_index=True)\n"
     ]
    },
    {
     "name": "stdout",
     "output_type": "stream",
     "text": [
      "Fridays 12:40pm & 1:50pm1739 North High StreetColumbus, OH 43210Columbus, OH 43210\n",
      "Fridays 12:40 pm\n",
      "test\n",
      "TEST\n"
     ]
    },
    {
     "name": "stderr",
     "output_type": "stream",
     "text": [
      "C:\\Users\\lando\\AppData\\Local\\Temp\\ipykernel_34800\\3465631864.py:63: FutureWarning: The frame.append method is deprecated and will be removed from pandas in a future version. Use pandas.concat instead.\n",
      "  df = df.append(datarow, ignore_index=True)\n"
     ]
    },
    {
     "name": "stdout",
     "output_type": "stream",
     "text": [
      "Biweekly on Mondays starting 8/30 @7pm1739 N High StColumbus, OH 43210\n",
      "TEST\n",
      "Every 1st Thursday of the Month1947 N. College Rd.Columbus, OH 43210\n",
      "TEST\n"
     ]
    },
    {
     "name": "stderr",
     "output_type": "stream",
     "text": [
      "C:\\Users\\lando\\AppData\\Local\\Temp\\ipykernel_34800\\3465631864.py:63: FutureWarning: The frame.append method is deprecated and will be removed from pandas in a future version. Use pandas.concat instead.\n",
      "  df = df.append(datarow, ignore_index=True)\n",
      "C:\\Users\\lando\\AppData\\Local\\Temp\\ipykernel_34800\\3465631864.py:63: FutureWarning: The frame.append method is deprecated and will be removed from pandas in a future version. Use pandas.concat instead.\n",
      "  df = df.append(datarow, ignore_index=True)\n"
     ]
    },
    {
     "name": "stdout",
     "output_type": "stream",
     "text": [
      "Columbus, OH 43210\n",
      "TEST\n",
      "VariesOhio State campusColumbus, OH 43210\n",
      "TEST\n"
     ]
    },
    {
     "name": "stderr",
     "output_type": "stream",
     "text": [
      "C:\\Users\\lando\\AppData\\Local\\Temp\\ipykernel_34800\\3465631864.py:63: FutureWarning: The frame.append method is deprecated and will be removed from pandas in a future version. Use pandas.concat instead.\n",
      "  df = df.append(datarow, ignore_index=True)\n",
      "C:\\Users\\lando\\AppData\\Local\\Temp\\ipykernel_34800\\3465631864.py:63: FutureWarning: The frame.append method is deprecated and will be removed from pandas in a future version. Use pandas.concat instead.\n",
      "  df = df.append(datarow, ignore_index=True)\n"
     ]
    },
    {
     "name": "stdout",
     "output_type": "stream",
     "text": [
      "Meeting info posted in emails/GroupMe, on flyers1866 College Rd N, 1899 College Rd NColumbus, OH 43210\n",
      "TEST\n",
      "1st and 3rd Monday's of the Month at 7pm154 W. 12th AvenueColumbus, OH 43210\n",
      "W 12 None\n",
      "test\n",
      "TEST\n"
     ]
    },
    {
     "name": "stderr",
     "output_type": "stream",
     "text": [
      "C:\\Users\\lando\\AppData\\Local\\Temp\\ipykernel_34800\\3465631864.py:63: FutureWarning: The frame.append method is deprecated and will be removed from pandas in a future version. Use pandas.concat instead.\n",
      "  df = df.append(datarow, ignore_index=True)\n",
      "C:\\Users\\lando\\AppData\\Local\\Temp\\ipykernel_34800\\3465631864.py:63: FutureWarning: The frame.append method is deprecated and will be removed from pandas in a future version. Use pandas.concat instead.\n",
      "  df = df.append(datarow, ignore_index=True)\n"
     ]
    },
    {
     "name": "stdout",
     "output_type": "stream",
     "text": [
      "Tuesday 7:00 pm210 W. Woodruff AveColumbus, OH 43210\n",
      "Tuesday 7:00 pm\n",
      "test\n",
      "TEST\n"
     ]
    },
    {
     "name": "stderr",
     "output_type": "stream",
     "text": [
      "C:\\Users\\lando\\AppData\\Local\\Temp\\ipykernel_34800\\3465631864.py:63: FutureWarning: The frame.append method is deprecated and will be removed from pandas in a future version. Use pandas.concat instead.\n",
      "  df = df.append(datarow, ignore_index=True)\n"
     ]
    },
    {
     "name": "stdout",
     "output_type": "stream",
     "text": [
      "Tuesday @ 6:30pm242 W 18th Ave, Columbus, OH 43210Columbus, OH 43210\n",
      "Tuesday 6:30 pm\n",
      "test\n",
      "TEST\n"
     ]
    },
    {
     "name": "stderr",
     "output_type": "stream",
     "text": [
      "C:\\Users\\lando\\AppData\\Local\\Temp\\ipykernel_34800\\3465631864.py:63: FutureWarning: The frame.append method is deprecated and will be removed from pandas in a future version. Use pandas.concat instead.\n",
      "  df = df.append(datarow, ignore_index=True)\n"
     ]
    },
    {
     "name": "stdout",
     "output_type": "stream",
     "text": [
      "Mondays Biweekly at 6:00pmColumbus, OH 43210\n",
      "TEST\n"
     ]
    },
    {
     "name": "stderr",
     "output_type": "stream",
     "text": [
      "C:\\Users\\lando\\AppData\\Local\\Temp\\ipykernel_34800\\3465631864.py:63: FutureWarning: The frame.append method is deprecated and will be removed from pandas in a future version. Use pandas.concat instead.\n",
      "  df = df.append(datarow, ignore_index=True)\n"
     ]
    },
    {
     "name": "stdout",
     "output_type": "stream",
     "text": [
      "500 W 12th Ave Columbus, OH 43210Columbus, OH 43210\n",
      "W 12 None\n",
      "test\n",
      "TEST\n"
     ]
    },
    {
     "name": "stderr",
     "output_type": "stream",
     "text": [
      "C:\\Users\\lando\\AppData\\Local\\Temp\\ipykernel_34800\\3465631864.py:63: FutureWarning: The frame.append method is deprecated and will be removed from pandas in a future version. Use pandas.concat instead.\n",
      "  df = df.append(datarow, ignore_index=True)\n"
     ]
    },
    {
     "name": "stdout",
     "output_type": "stream",
     "text": [
      "Tuesdays once monthly, 11:30am-12:30pmColumbus, OH 43210\n",
      "TEST\n",
      "Wednesdays at 7 pmColumbus, OH 43210\n",
      "Wednesdays 7 pm\n",
      "test\n",
      "TEST\n"
     ]
    },
    {
     "name": "stderr",
     "output_type": "stream",
     "text": [
      "C:\\Users\\lando\\AppData\\Local\\Temp\\ipykernel_34800\\3465631864.py:63: FutureWarning: The frame.append method is deprecated and will be removed from pandas in a future version. Use pandas.concat instead.\n",
      "  df = df.append(datarow, ignore_index=True)\n",
      "C:\\Users\\lando\\AppData\\Local\\Temp\\ipykernel_34800\\3465631864.py:63: FutureWarning: The frame.append method is deprecated and will be removed from pandas in a future version. Use pandas.concat instead.\n",
      "  df = df.append(datarow, ignore_index=True)\n"
     ]
    },
    {
     "name": "stdout",
     "output_type": "stream",
     "text": [
      "Evenings338 West 10th AveColumbus, OH 43210\n",
      "TEST\n"
     ]
    },
    {
     "name": "stderr",
     "output_type": "stream",
     "text": [
      "C:\\Users\\lando\\AppData\\Local\\Temp\\ipykernel_34800\\3465631864.py:63: FutureWarning: The frame.append method is deprecated and will be removed from pandas in a future version. Use pandas.concat instead.\n",
      "  df = df.append(datarow, ignore_index=True)\n"
     ]
    },
    {
     "name": "stdout",
     "output_type": "stream",
     "text": [
      "Second Friday of Month at 5pm140 W 18th Ave.Columbus, OH 43210Columbus, OH 43210\n",
      "W 18 None\n",
      "test\n",
      "TEST\n",
      "Thursday 7pm275 W. Woodruff AveColumbus, OH 43210\n",
      "Thursday 7 pm\n",
      "test\n",
      "TEST\n"
     ]
    },
    {
     "name": "stderr",
     "output_type": "stream",
     "text": [
      "C:\\Users\\lando\\AppData\\Local\\Temp\\ipykernel_34800\\3465631864.py:63: FutureWarning: The frame.append method is deprecated and will be removed from pandas in a future version. Use pandas.concat instead.\n",
      "  df = df.append(datarow, ignore_index=True)\n",
      "C:\\Users\\lando\\AppData\\Local\\Temp\\ipykernel_34800\\3465631864.py:63: FutureWarning: The frame.append method is deprecated and will be removed from pandas in a future version. Use pandas.concat instead.\n",
      "  df = df.append(datarow, ignore_index=True)\n"
     ]
    },
    {
     "name": "stdout",
     "output_type": "stream",
     "text": [
      "Mondays at 5:30154 W 12th Ave, Columbus, OH 43210Columbus, OH 43210\n",
      "Mondays 5:30 None\n",
      "test\n",
      "TEST\n",
      "Every 1st and 3rd Thursday at 6:30 PMColumbus, OH 43210\n",
      "Thursday 6:30 PM\n",
      "test\n",
      "TEST\n"
     ]
    },
    {
     "name": "stderr",
     "output_type": "stream",
     "text": [
      "C:\\Users\\lando\\AppData\\Local\\Temp\\ipykernel_34800\\3465631864.py:63: FutureWarning: The frame.append method is deprecated and will be removed from pandas in a future version. Use pandas.concat instead.\n",
      "  df = df.append(datarow, ignore_index=True)\n",
      "C:\\Users\\lando\\AppData\\Local\\Temp\\ipykernel_34800\\3465631864.py:63: FutureWarning: The frame.append method is deprecated and will be removed from pandas in a future version. Use pandas.concat instead.\n",
      "  df = df.append(datarow, ignore_index=True)\n"
     ]
    },
    {
     "name": "stdout",
     "output_type": "stream",
     "text": [
      "Wednesdays, 7-8pmColumbus, OH 43210\n",
      "Wednesdays 7 None\n",
      "test\n",
      "TEST\n"
     ]
    },
    {
     "name": "stderr",
     "output_type": "stream",
     "text": [
      "C:\\Users\\lando\\AppData\\Local\\Temp\\ipykernel_34800\\3465631864.py:63: FutureWarning: The frame.append method is deprecated and will be removed from pandas in a future version. Use pandas.concat instead.\n",
      "  df = df.append(datarow, ignore_index=True)\n"
     ]
    },
    {
     "name": "stdout",
     "output_type": "stream",
     "text": [
      "Wednesdays Biweekly @ 6:30 PM154 West 12th AvenueColumbus, OH 43210\n",
      "TEST\n"
     ]
    },
    {
     "name": "stderr",
     "output_type": "stream",
     "text": [
      "C:\\Users\\lando\\AppData\\Local\\Temp\\ipykernel_34800\\3465631864.py:63: FutureWarning: The frame.append method is deprecated and will be removed from pandas in a future version. Use pandas.concat instead.\n",
      "  df = df.append(datarow, ignore_index=True)\n"
     ]
    },
    {
     "name": "stdout",
     "output_type": "stream",
     "text": [
      "Third Tuesday of each month at 6:00PMThe Ohio State UniversityColumbus, OH 43210\n",
      "TEST\n"
     ]
    },
    {
     "name": "stderr",
     "output_type": "stream",
     "text": [
      "C:\\Users\\lando\\AppData\\Local\\Temp\\ipykernel_34800\\3465631864.py:63: FutureWarning: The frame.append method is deprecated and will be removed from pandas in a future version. Use pandas.concat instead.\n",
      "  df = df.append(datarow, ignore_index=True)\n"
     ]
    },
    {
     "name": "stdout",
     "output_type": "stream",
     "text": [
      "TBD1739 N High StColumbus, OH 43210Columbus, OH 43210\n",
      "TEST\n",
      "Every other Tuesday, 7:30 p.m.Columbus, OH 43210\n",
      "Tuesday 7:30 None\n",
      "test\n",
      "TEST\n"
     ]
    },
    {
     "name": "stderr",
     "output_type": "stream",
     "text": [
      "C:\\Users\\lando\\AppData\\Local\\Temp\\ipykernel_34800\\3465631864.py:63: FutureWarning: The frame.append method is deprecated and will be removed from pandas in a future version. Use pandas.concat instead.\n",
      "  df = df.append(datarow, ignore_index=True)\n",
      "C:\\Users\\lando\\AppData\\Local\\Temp\\ipykernel_34800\\3465631864.py:63: FutureWarning: The frame.append method is deprecated and will be removed from pandas in a future version. Use pandas.concat instead.\n",
      "  df = df.append(datarow, ignore_index=True)\n"
     ]
    },
    {
     "name": "stdout",
     "output_type": "stream",
     "text": [
      "Columbus, OH 43210\n",
      "TEST\n",
      "Every Wednesday at 8pm1739 North High StColumbus OHColumbus, OH 43210\n",
      "Wednesday 8 pm\n",
      "test\n",
      "TEST\n"
     ]
    },
    {
     "name": "stderr",
     "output_type": "stream",
     "text": [
      "C:\\Users\\lando\\AppData\\Local\\Temp\\ipykernel_34800\\3465631864.py:63: FutureWarning: The frame.append method is deprecated and will be removed from pandas in a future version. Use pandas.concat instead.\n",
      "  df = df.append(datarow, ignore_index=True)\n",
      "C:\\Users\\lando\\AppData\\Local\\Temp\\ipykernel_34800\\3465631864.py:63: FutureWarning: The frame.append method is deprecated and will be removed from pandas in a future version. Use pandas.concat instead.\n",
      "  df = df.append(datarow, ignore_index=True)\n"
     ]
    },
    {
     "name": "stdout",
     "output_type": "stream",
     "text": [
      "Thursdays 5:30-7pm154 W 12th AveColumbus, OH 43210\n",
      "Thursdays 5:30 None\n",
      "test\n",
      "TEST\n",
      "First Tuesday of the month at 6:00pmColumbus, OH 43210\n",
      "TEST\n"
     ]
    },
    {
     "name": "stderr",
     "output_type": "stream",
     "text": [
      "C:\\Users\\lando\\AppData\\Local\\Temp\\ipykernel_34800\\3465631864.py:63: FutureWarning: The frame.append method is deprecated and will be removed from pandas in a future version. Use pandas.concat instead.\n",
      "  df = df.append(datarow, ignore_index=True)\n",
      "C:\\Users\\lando\\AppData\\Local\\Temp\\ipykernel_34800\\3465631864.py:63: FutureWarning: The frame.append method is deprecated and will be removed from pandas in a future version. Use pandas.concat instead.\n",
      "  df = df.append(datarow, ignore_index=True)\n"
     ]
    },
    {
     "name": "stdout",
     "output_type": "stream",
     "text": [
      "Columbus, OH 43210\n",
      "TEST\n",
      "TBAMeiling HallColumbus, OH 43210\n",
      "TEST\n"
     ]
    },
    {
     "name": "stderr",
     "output_type": "stream",
     "text": [
      "C:\\Users\\lando\\AppData\\Local\\Temp\\ipykernel_34800\\3465631864.py:63: FutureWarning: The frame.append method is deprecated and will be removed from pandas in a future version. Use pandas.concat instead.\n",
      "  df = df.append(datarow, ignore_index=True)\n",
      "C:\\Users\\lando\\AppData\\Local\\Temp\\ipykernel_34800\\3465631864.py:63: FutureWarning: The frame.append method is deprecated and will be removed from pandas in a future version. Use pandas.concat instead.\n",
      "  df = df.append(datarow, ignore_index=True)\n"
     ]
    },
    {
     "name": "stdout",
     "output_type": "stream",
     "text": [
      "N/AColumbus, OH 43210\n",
      "TEST\n",
      "Mondays 7:30 PM210 W Woodruff Ave, Columbus, OH 43210Columbus, OH 43210\n",
      "Mondays 7:30 PM\n",
      "test\n",
      "TEST\n"
     ]
    },
    {
     "name": "stderr",
     "output_type": "stream",
     "text": [
      "C:\\Users\\lando\\AppData\\Local\\Temp\\ipykernel_34800\\3465631864.py:63: FutureWarning: The frame.append method is deprecated and will be removed from pandas in a future version. Use pandas.concat instead.\n",
      "  df = df.append(datarow, ignore_index=True)\n",
      "C:\\Users\\lando\\AppData\\Local\\Temp\\ipykernel_34800\\3465631864.py:63: FutureWarning: The frame.append method is deprecated and will be removed from pandas in a future version. Use pandas.concat instead.\n",
      "  df = df.append(datarow, ignore_index=True)\n"
     ]
    },
    {
     "name": "stdout",
     "output_type": "stream",
     "text": [
      "Announced (SP20 Tuesdays 7:00-8:30pm)1885 Neil AveColumbus, OH 43210\n",
      "Tuesdays 7:00 None\n",
      "test\n",
      "TEST\n",
      "Columbus, OH 43210\n",
      "TEST\n"
     ]
    },
    {
     "name": "stderr",
     "output_type": "stream",
     "text": [
      "C:\\Users\\lando\\AppData\\Local\\Temp\\ipykernel_34800\\3465631864.py:63: FutureWarning: The frame.append method is deprecated and will be removed from pandas in a future version. Use pandas.concat instead.\n",
      "  df = df.append(datarow, ignore_index=True)\n",
      "C:\\Users\\lando\\AppData\\Local\\Temp\\ipykernel_34800\\3465631864.py:63: FutureWarning: The frame.append method is deprecated and will be removed from pandas in a future version. Use pandas.concat instead.\n",
      "  df = df.append(datarow, ignore_index=True)\n"
     ]
    },
    {
     "name": "stdout",
     "output_type": "stream",
     "text": [
      "Monthly, 5pm333 W 10th Ave, Columbus, OH 43210Columbus, OH 43210\n",
      "W 10 None\n",
      "test\n",
      "TEST\n",
      "as needed370 W. 9th AvenueColumbus, OH 43210\n",
      "W 9 None\n",
      "test\n",
      "TEST\n"
     ]
    },
    {
     "name": "stderr",
     "output_type": "stream",
     "text": [
      "C:\\Users\\lando\\AppData\\Local\\Temp\\ipykernel_34800\\3465631864.py:63: FutureWarning: The frame.append method is deprecated and will be removed from pandas in a future version. Use pandas.concat instead.\n",
      "  df = df.append(datarow, ignore_index=True)\n",
      "C:\\Users\\lando\\AppData\\Local\\Temp\\ipykernel_34800\\3465631864.py:63: FutureWarning: The frame.append method is deprecated and will be removed from pandas in a future version. Use pandas.concat instead.\n",
      "  df = df.append(datarow, ignore_index=True)\n"
     ]
    },
    {
     "name": "stdout",
     "output_type": "stream",
     "text": [
      "Wednesday at 8PM154 W 12th Ave, Columbus, OH 43210Columbus, OH 43210\n",
      "Wednesday 8 PM\n",
      "test\n",
      "TEST\n",
      "Bi-Weekly on Wednesday at 8:00 PMColumbus, OH 43210\n",
      "Wednesday 8:00 PM\n",
      "test\n",
      "TEST\n"
     ]
    },
    {
     "name": "stderr",
     "output_type": "stream",
     "text": [
      "C:\\Users\\lando\\AppData\\Local\\Temp\\ipykernel_34800\\3465631864.py:63: FutureWarning: The frame.append method is deprecated and will be removed from pandas in a future version. Use pandas.concat instead.\n",
      "  df = df.append(datarow, ignore_index=True)\n",
      "C:\\Users\\lando\\AppData\\Local\\Temp\\ipykernel_34800\\3465631864.py:63: FutureWarning: The frame.append method is deprecated and will be removed from pandas in a future version. Use pandas.concat instead.\n",
      "  df = df.append(datarow, ignore_index=True)\n"
     ]
    },
    {
     "name": "stdout",
     "output_type": "stream",
     "text": [
      "Columbus, OH 43210\n",
      "TEST\n",
      "Friday @ 4:30 pm1866 College Road, Columbus, OH 43210Columbus, OH 43210\n",
      "Friday 4:30 pm\n",
      "test\n",
      "TEST\n"
     ]
    },
    {
     "name": "stderr",
     "output_type": "stream",
     "text": [
      "C:\\Users\\lando\\AppData\\Local\\Temp\\ipykernel_34800\\3465631864.py:63: FutureWarning: The frame.append method is deprecated and will be removed from pandas in a future version. Use pandas.concat instead.\n",
      "  df = df.append(datarow, ignore_index=True)\n",
      "C:\\Users\\lando\\AppData\\Local\\Temp\\ipykernel_34800\\3465631864.py:63: FutureWarning: The frame.append method is deprecated and will be removed from pandas in a future version. Use pandas.concat instead.\n",
      "  df = df.append(datarow, ignore_index=True)\n"
     ]
    },
    {
     "name": "stdout",
     "output_type": "stream",
     "text": [
      "Columbus, OH 43210\n",
      "TEST\n",
      "Tuesday's at 8 pmColumbus, OH 43210\n",
      "TEST\n"
     ]
    },
    {
     "name": "stderr",
     "output_type": "stream",
     "text": [
      "C:\\Users\\lando\\AppData\\Local\\Temp\\ipykernel_34800\\3465631864.py:63: FutureWarning: The frame.append method is deprecated and will be removed from pandas in a future version. Use pandas.concat instead.\n",
      "  df = df.append(datarow, ignore_index=True)\n",
      "C:\\Users\\lando\\AppData\\Local\\Temp\\ipykernel_34800\\3465631864.py:63: FutureWarning: The frame.append method is deprecated and will be removed from pandas in a future version. Use pandas.concat instead.\n",
      "  df = df.append(datarow, ignore_index=True)\n"
     ]
    },
    {
     "name": "stdout",
     "output_type": "stream",
     "text": [
      "Bi-weekly on Thursday, 5pmColumbus, OH 43210\n",
      "Thursday 5 pm\n",
      "test\n",
      "TEST\n",
      "Columbus, OH 43210\n",
      "TEST\n"
     ]
    },
    {
     "name": "stderr",
     "output_type": "stream",
     "text": [
      "C:\\Users\\lando\\AppData\\Local\\Temp\\ipykernel_34800\\3465631864.py:63: FutureWarning: The frame.append method is deprecated and will be removed from pandas in a future version. Use pandas.concat instead.\n",
      "  df = df.append(datarow, ignore_index=True)\n",
      "C:\\Users\\lando\\AppData\\Local\\Temp\\ipykernel_34800\\3465631864.py:63: FutureWarning: The frame.append method is deprecated and will be removed from pandas in a future version. Use pandas.concat instead.\n",
      "  df = df.append(datarow, ignore_index=True)\n"
     ]
    },
    {
     "name": "stdout",
     "output_type": "stream",
     "text": [
      "Every other Tuesday from 6:00- 7:30 PM1739 North High StreetColumbus, OH 43210Columbus, OH 43210\n",
      "TEST\n",
      "Mondays biweekly at 6pmColumbus, OH 43210\n",
      "TEST\n"
     ]
    },
    {
     "name": "stderr",
     "output_type": "stream",
     "text": [
      "C:\\Users\\lando\\AppData\\Local\\Temp\\ipykernel_34800\\3465631864.py:63: FutureWarning: The frame.append method is deprecated and will be removed from pandas in a future version. Use pandas.concat instead.\n",
      "  df = df.append(datarow, ignore_index=True)\n",
      "C:\\Users\\lando\\AppData\\Local\\Temp\\ipykernel_34800\\3465631864.py:63: FutureWarning: The frame.append method is deprecated and will be removed from pandas in a future version. Use pandas.concat instead.\n",
      "  df = df.append(datarow, ignore_index=True)\n"
     ]
    },
    {
     "name": "stdout",
     "output_type": "stream",
     "text": [
      "Sundays at 7pm1739 N High St, Columbus, OH 43210Columbus, OH 43210\n",
      "Sundays 7 pm\n",
      "test\n",
      "TEST\n",
      "Every other Wednesday 7:00pm - 8:00pm1885 Neil Ave., Columbus, OH 43210Columbus, OH 43210\n",
      "Wednesday 7:00 pm\n",
      "test\n",
      "TEST\n"
     ]
    },
    {
     "name": "stderr",
     "output_type": "stream",
     "text": [
      "C:\\Users\\lando\\AppData\\Local\\Temp\\ipykernel_34800\\3465631864.py:63: FutureWarning: The frame.append method is deprecated and will be removed from pandas in a future version. Use pandas.concat instead.\n",
      "  df = df.append(datarow, ignore_index=True)\n",
      "C:\\Users\\lando\\AppData\\Local\\Temp\\ipykernel_34800\\3465631864.py:63: FutureWarning: The frame.append method is deprecated and will be removed from pandas in a future version. Use pandas.concat instead.\n",
      "  df = df.append(datarow, ignore_index=True)\n"
     ]
    },
    {
     "name": "stdout",
     "output_type": "stream",
     "text": [
      "Columbus, OH 43210\n",
      "TEST\n",
      "Columbus, OH 43210\n",
      "TEST\n"
     ]
    },
    {
     "name": "stderr",
     "output_type": "stream",
     "text": [
      "C:\\Users\\lando\\AppData\\Local\\Temp\\ipykernel_34800\\3465631864.py:63: FutureWarning: The frame.append method is deprecated and will be removed from pandas in a future version. Use pandas.concat instead.\n",
      "  df = df.append(datarow, ignore_index=True)\n",
      "C:\\Users\\lando\\AppData\\Local\\Temp\\ipykernel_34800\\3465631864.py:63: FutureWarning: The frame.append method is deprecated and will be removed from pandas in a future version. Use pandas.concat instead.\n",
      "  df = df.append(datarow, ignore_index=True)\n"
     ]
    },
    {
     "name": "stdout",
     "output_type": "stream",
     "text": [
      "The first Wednesday of every month! Columbus, OH 43210\n",
      "TEST\n",
      "Monthly general body meetings 1585 Neil Ave, Columbus OH 43210Columbus, OH 43210\n",
      "TEST\n"
     ]
    },
    {
     "name": "stderr",
     "output_type": "stream",
     "text": [
      "C:\\Users\\lando\\AppData\\Local\\Temp\\ipykernel_34800\\3465631864.py:63: FutureWarning: The frame.append method is deprecated and will be removed from pandas in a future version. Use pandas.concat instead.\n",
      "  df = df.append(datarow, ignore_index=True)\n",
      "C:\\Users\\lando\\AppData\\Local\\Temp\\ipykernel_34800\\3465631864.py:63: FutureWarning: The frame.append method is deprecated and will be removed from pandas in a future version. Use pandas.concat instead.\n",
      "  df = df.append(datarow, ignore_index=True)\n"
     ]
    },
    {
     "name": "stdout",
     "output_type": "stream",
     "text": [
      "August 24 2022370 W 9th AveColumbus, OH 43210Columbus, OH 43210\n",
      "W 9 None\n",
      "test\n",
      "TEST\n",
      "Columbus, OH 43210\n",
      "TEST\n"
     ]
    },
    {
     "name": "stderr",
     "output_type": "stream",
     "text": [
      "C:\\Users\\lando\\AppData\\Local\\Temp\\ipykernel_34800\\3465631864.py:63: FutureWarning: The frame.append method is deprecated and will be removed from pandas in a future version. Use pandas.concat instead.\n",
      "  df = df.append(datarow, ignore_index=True)\n",
      "C:\\Users\\lando\\AppData\\Local\\Temp\\ipykernel_34800\\3465631864.py:63: FutureWarning: The frame.append method is deprecated and will be removed from pandas in a future version. Use pandas.concat instead.\n",
      "  df = df.append(datarow, ignore_index=True)\n"
     ]
    },
    {
     "name": "stdout",
     "output_type": "stream",
     "text": [
      "Monthly151 W. Woodruff AveColumbus, OH 43210\n",
      "TEST\n",
      "TBD338 W 10th AvenueColumbus, OH 43210\n",
      "W 10 None\n",
      "test\n",
      "TEST\n"
     ]
    },
    {
     "name": "stderr",
     "output_type": "stream",
     "text": [
      "C:\\Users\\lando\\AppData\\Local\\Temp\\ipykernel_34800\\3465631864.py:63: FutureWarning: The frame.append method is deprecated and will be removed from pandas in a future version. Use pandas.concat instead.\n",
      "  df = df.append(datarow, ignore_index=True)\n",
      "C:\\Users\\lando\\AppData\\Local\\Temp\\ipykernel_34800\\3465631864.py:63: FutureWarning: The frame.append method is deprecated and will be removed from pandas in a future version. Use pandas.concat instead.\n",
      "  df = df.append(datarow, ignore_index=True)\n"
     ]
    },
    {
     "name": "stdout",
     "output_type": "stream",
     "text": [
      "Fridays 1-2pmW 9th AveColumbus, OH 43210\n",
      "Fridays 1 None\n",
      "test\n",
      "TEST\n",
      "Columbus, OH 43210\n",
      "TEST\n"
     ]
    },
    {
     "name": "stderr",
     "output_type": "stream",
     "text": [
      "C:\\Users\\lando\\AppData\\Local\\Temp\\ipykernel_34800\\3465631864.py:63: FutureWarning: The frame.append method is deprecated and will be removed from pandas in a future version. Use pandas.concat instead.\n",
      "  df = df.append(datarow, ignore_index=True)\n",
      "C:\\Users\\lando\\AppData\\Local\\Temp\\ipykernel_34800\\3465631864.py:63: FutureWarning: The frame.append method is deprecated and will be removed from pandas in a future version. Use pandas.concat instead.\n",
      "  df = df.append(datarow, ignore_index=True)\n"
     ]
    },
    {
     "name": "stdout",
     "output_type": "stream",
     "text": [
      "Monday 5:15pmSAS Building, LobbyColumbus, OH 43210\n",
      "Monday 5:15 pm\n",
      "test\n",
      "TEST\n",
      "Monthly General Body MeetingsColumbus, OH 43210\n",
      "TEST\n"
     ]
    },
    {
     "name": "stderr",
     "output_type": "stream",
     "text": [
      "C:\\Users\\lando\\AppData\\Local\\Temp\\ipykernel_34800\\3465631864.py:63: FutureWarning: The frame.append method is deprecated and will be removed from pandas in a future version. Use pandas.concat instead.\n",
      "  df = df.append(datarow, ignore_index=True)\n",
      "C:\\Users\\lando\\AppData\\Local\\Temp\\ipykernel_34800\\3465631864.py:63: FutureWarning: The frame.append method is deprecated and will be removed from pandas in a future version. Use pandas.concat instead.\n",
      "  df = df.append(datarow, ignore_index=True)\n"
     ]
    },
    {
     "name": "stdout",
     "output_type": "stream",
     "text": [
      "Bi-Weekly on Mondays from 6:00pm-7:00pm154 West 12th Avenue Columbus, OH 43210Columbus, OH 43210\n",
      "TEST\n",
      "Meeting information can be found in our Slack2024 Neil AvenueColumbus, OH 43210\n",
      "TEST\n"
     ]
    },
    {
     "name": "stderr",
     "output_type": "stream",
     "text": [
      "C:\\Users\\lando\\AppData\\Local\\Temp\\ipykernel_34800\\3465631864.py:63: FutureWarning: The frame.append method is deprecated and will be removed from pandas in a future version. Use pandas.concat instead.\n",
      "  df = df.append(datarow, ignore_index=True)\n",
      "C:\\Users\\lando\\AppData\\Local\\Temp\\ipykernel_34800\\3465631864.py:63: FutureWarning: The frame.append method is deprecated and will be removed from pandas in a future version. Use pandas.concat instead.\n",
      "  df = df.append(datarow, ignore_index=True)\n"
     ]
    },
    {
     "name": "stdout",
     "output_type": "stream",
     "text": [
      "Every other Tuesday 7:30-8:30pm29 W Woodruff AveColumbus, OH 43210Columbus, OH 43210\n",
      "Tuesday 7:30 None\n",
      "test\n",
      "TEST\n",
      "Wednesdays, 6:30-7:30pm, biweeklyYounkin Success Center1640 Neil Ave, Columbus, OH 43201Columbus, OH 43210\n",
      "Wednesdays 6:30 None\n",
      "test\n",
      "TEST\n"
     ]
    },
    {
     "name": "stderr",
     "output_type": "stream",
     "text": [
      "C:\\Users\\lando\\AppData\\Local\\Temp\\ipykernel_34800\\3465631864.py:63: FutureWarning: The frame.append method is deprecated and will be removed from pandas in a future version. Use pandas.concat instead.\n",
      "  df = df.append(datarow, ignore_index=True)\n",
      "C:\\Users\\lando\\AppData\\Local\\Temp\\ipykernel_34800\\3465631864.py:63: FutureWarning: The frame.append method is deprecated and will be removed from pandas in a future version. Use pandas.concat instead.\n",
      "  df = df.append(datarow, ignore_index=True)\n"
     ]
    },
    {
     "name": "stdout",
     "output_type": "stream",
     "text": [
      "Sunday Oct 2546 E. 16th Ave.Columbus, OH 43210\n",
      "TEST\n",
      "1st Wednesday of every month, 7PM ESTColumbus, OH 43210\n",
      "TEST\n"
     ]
    },
    {
     "name": "stderr",
     "output_type": "stream",
     "text": [
      "C:\\Users\\lando\\AppData\\Local\\Temp\\ipykernel_34800\\3465631864.py:63: FutureWarning: The frame.append method is deprecated and will be removed from pandas in a future version. Use pandas.concat instead.\n",
      "  df = df.append(datarow, ignore_index=True)\n",
      "C:\\Users\\lando\\AppData\\Local\\Temp\\ipykernel_34800\\3465631864.py:63: FutureWarning: The frame.append method is deprecated and will be removed from pandas in a future version. Use pandas.concat instead.\n",
      "  df = df.append(datarow, ignore_index=True)\n"
     ]
    },
    {
     "name": "stdout",
     "output_type": "stream",
     "text": [
      "Wednesdays @ noon55 West 12th AvenueColumbus, OH 43210\n",
      "TEST\n",
      "Saturday 1-3Columbus, OH 43210\n",
      "Saturday 1 None\n",
      "test\n",
      "TEST\n"
     ]
    },
    {
     "name": "stderr",
     "output_type": "stream",
     "text": [
      "C:\\Users\\lando\\AppData\\Local\\Temp\\ipykernel_34800\\3465631864.py:63: FutureWarning: The frame.append method is deprecated and will be removed from pandas in a future version. Use pandas.concat instead.\n",
      "  df = df.append(datarow, ignore_index=True)\n",
      "C:\\Users\\lando\\AppData\\Local\\Temp\\ipykernel_34800\\3465631864.py:63: FutureWarning: The frame.append method is deprecated and will be removed from pandas in a future version. Use pandas.concat instead.\n",
      "  df = df.append(datarow, ignore_index=True)\n"
     ]
    },
    {
     "name": "stdout",
     "output_type": "stream",
     "text": [
      "Mondays 12pm55 West 12th AvenueColumbus, OH 43210\n",
      "Mondays 12 pm\n",
      "test\n",
      "TEST\n",
      "Wednesday55 W. 12th Avenue, Columbus, OH 43210Columbus, OH 43210\n",
      "Wednesday 55 None\n",
      "test\n",
      "TEST\n"
     ]
    },
    {
     "name": "stderr",
     "output_type": "stream",
     "text": [
      "C:\\Users\\lando\\AppData\\Local\\Temp\\ipykernel_34800\\3465631864.py:63: FutureWarning: The frame.append method is deprecated and will be removed from pandas in a future version. Use pandas.concat instead.\n",
      "  df = df.append(datarow, ignore_index=True)\n",
      "C:\\Users\\lando\\AppData\\Local\\Temp\\ipykernel_34800\\3465631864.py:63: FutureWarning: The frame.append method is deprecated and will be removed from pandas in a future version. Use pandas.concat instead.\n",
      "  df = df.append(datarow, ignore_index=True)\n"
     ]
    },
    {
     "name": "stdout",
     "output_type": "stream",
     "text": [
      "Bimonthly55 W. 12th AveColumbus, OH 43210Columbus, OH 43210\n",
      "W 12 None\n",
      "test\n",
      "TEST\n",
      "55 W. 12th AveColumbus, OH 43210\n",
      "W 12 None\n",
      "test\n",
      "TEST\n"
     ]
    },
    {
     "name": "stderr",
     "output_type": "stream",
     "text": [
      "C:\\Users\\lando\\AppData\\Local\\Temp\\ipykernel_34800\\3465631864.py:63: FutureWarning: The frame.append method is deprecated and will be removed from pandas in a future version. Use pandas.concat instead.\n",
      "  df = df.append(datarow, ignore_index=True)\n",
      "C:\\Users\\lando\\AppData\\Local\\Temp\\ipykernel_34800\\3465631864.py:63: FutureWarning: The frame.append method is deprecated and will be removed from pandas in a future version. Use pandas.concat instead.\n",
      "  df = df.append(datarow, ignore_index=True)\n"
     ]
    },
    {
     "name": "stdout",
     "output_type": "stream",
     "text": [
      "Tues: 6:30-7:30p, Wed: 5:00-6:00p, Thurs: 11:30a1739 N. High St.Columbus, OH 43210\n",
      "TEST\n",
      "M 7:15-9:15pm T 8:30-10:30pm W 4:30-5:30pmMultipurpose Room 3 REC & PHYS (RPAC)Columbus, OH 43210\n",
      "M 7:15 None\n",
      "test\n",
      "TEST\n"
     ]
    },
    {
     "name": "stderr",
     "output_type": "stream",
     "text": [
      "C:\\Users\\lando\\AppData\\Local\\Temp\\ipykernel_34800\\3465631864.py:63: FutureWarning: The frame.append method is deprecated and will be removed from pandas in a future version. Use pandas.concat instead.\n",
      "  df = df.append(datarow, ignore_index=True)\n",
      "C:\\Users\\lando\\AppData\\Local\\Temp\\ipykernel_34800\\3465631864.py:63: FutureWarning: The frame.append method is deprecated and will be removed from pandas in a future version. Use pandas.concat instead.\n",
      "  df = df.append(datarow, ignore_index=True)\n"
     ]
    },
    {
     "name": "stdout",
     "output_type": "stream",
     "text": [
      "Tuesday 7:30pm1739 N High St.Columbus, OH 43210Columbus, OH 43210\n",
      "Tuesday 7:30 pm\n",
      "test\n",
      "TEST\n",
      "Second Thursday each month 11:30am460 W. 12th Ave.Columbus, OH 43210\n",
      "W 12 None\n",
      "test\n",
      "TEST\n"
     ]
    },
    {
     "name": "stderr",
     "output_type": "stream",
     "text": [
      "C:\\Users\\lando\\AppData\\Local\\Temp\\ipykernel_34800\\3465631864.py:63: FutureWarning: The frame.append method is deprecated and will be removed from pandas in a future version. Use pandas.concat instead.\n",
      "  df = df.append(datarow, ignore_index=True)\n",
      "C:\\Users\\lando\\AppData\\Local\\Temp\\ipykernel_34800\\3465631864.py:63: FutureWarning: The frame.append method is deprecated and will be removed from pandas in a future version. Use pandas.concat instead.\n",
      "  df = df.append(datarow, ignore_index=True)\n"
     ]
    },
    {
     "name": "stdout",
     "output_type": "stream",
     "text": [
      "Columbus, OH 43210\n",
      "TEST\n",
      "Columbus, OH 43210\n",
      "TEST\n"
     ]
    },
    {
     "name": "stderr",
     "output_type": "stream",
     "text": [
      "C:\\Users\\lando\\AppData\\Local\\Temp\\ipykernel_34800\\3465631864.py:63: FutureWarning: The frame.append method is deprecated and will be removed from pandas in a future version. Use pandas.concat instead.\n",
      "  df = df.append(datarow, ignore_index=True)\n",
      "C:\\Users\\lando\\AppData\\Local\\Temp\\ipykernel_34800\\3465631864.py:63: FutureWarning: The frame.append method is deprecated and will be removed from pandas in a future version. Use pandas.concat instead.\n",
      "  df = df.append(datarow, ignore_index=True)\n"
     ]
    },
    {
     "name": "stdout",
     "output_type": "stream",
     "text": [
      "Tuesday at 7:00 pmColumbus, OH 43210\n",
      "Tuesday 7:00 pm\n",
      "test\n",
      "TEST\n",
      "Bi-Weekly Mondays154 W. 12th Ave. | Columbus, Ohio 43210Columbus, OH 43210\n",
      "Mondays 154 None\n",
      "test\n",
      "TEST\n"
     ]
    },
    {
     "name": "stderr",
     "output_type": "stream",
     "text": [
      "C:\\Users\\lando\\AppData\\Local\\Temp\\ipykernel_34800\\3465631864.py:63: FutureWarning: The frame.append method is deprecated and will be removed from pandas in a future version. Use pandas.concat instead.\n",
      "  df = df.append(datarow, ignore_index=True)\n",
      "C:\\Users\\lando\\AppData\\Local\\Temp\\ipykernel_34800\\3465631864.py:63: FutureWarning: The frame.append method is deprecated and will be removed from pandas in a future version. Use pandas.concat instead.\n",
      "  df = df.append(datarow, ignore_index=True)\n"
     ]
    },
    {
     "name": "stdout",
     "output_type": "stream",
     "text": [
      "1st Tuesday of each month, 7:00 p.m.4673 Kenny RdColumbus, OH 43220Columbus, OH 43210\n",
      "TEST\n",
      "Wednesdays, 5:30-6:30.1945 N High St, Columbus OH 43210Columbus, OH 43210\n",
      "Wednesdays 5:30 None\n",
      "test\n",
      "TEST\n"
     ]
    },
    {
     "name": "stderr",
     "output_type": "stream",
     "text": [
      "C:\\Users\\lando\\AppData\\Local\\Temp\\ipykernel_34800\\3465631864.py:63: FutureWarning: The frame.append method is deprecated and will be removed from pandas in a future version. Use pandas.concat instead.\n",
      "  df = df.append(datarow, ignore_index=True)\n",
      "C:\\Users\\lando\\AppData\\Local\\Temp\\ipykernel_34800\\3465631864.py:63: FutureWarning: The frame.append method is deprecated and will be removed from pandas in a future version. Use pandas.concat instead.\n",
      "  df = df.append(datarow, ignore_index=True)\n"
     ]
    },
    {
     "name": "stdout",
     "output_type": "stream",
     "text": [
      "5:00pm370 W 9th AveColumbus, OH 43210\n",
      "W 9 None\n",
      "test\n",
      "TEST\n",
      "Thursdays 5-6pmColumbus, OH 43210\n",
      "Thursdays 5 None\n",
      "test\n",
      "TEST\n"
     ]
    },
    {
     "name": "stderr",
     "output_type": "stream",
     "text": [
      "C:\\Users\\lando\\AppData\\Local\\Temp\\ipykernel_34800\\3465631864.py:63: FutureWarning: The frame.append method is deprecated and will be removed from pandas in a future version. Use pandas.concat instead.\n",
      "  df = df.append(datarow, ignore_index=True)\n",
      "C:\\Users\\lando\\AppData\\Local\\Temp\\ipykernel_34800\\3465631864.py:63: FutureWarning: The frame.append method is deprecated and will be removed from pandas in a future version. Use pandas.concat instead.\n",
      "  df = df.append(datarow, ignore_index=True)\n"
     ]
    },
    {
     "name": "stdout",
     "output_type": "stream",
     "text": [
      "Tuesdays Biweekly @ 7:00pmColumbus, OH 43210\n",
      "TEST\n",
      "Tuesday, 5:15pmColumbus, OH 43210\n",
      "Tuesday 5:15 pm\n",
      "test\n",
      "TEST\n"
     ]
    },
    {
     "name": "stderr",
     "output_type": "stream",
     "text": [
      "C:\\Users\\lando\\AppData\\Local\\Temp\\ipykernel_34800\\3465631864.py:63: FutureWarning: The frame.append method is deprecated and will be removed from pandas in a future version. Use pandas.concat instead.\n",
      "  df = df.append(datarow, ignore_index=True)\n",
      "C:\\Users\\lando\\AppData\\Local\\Temp\\ipykernel_34800\\3465631864.py:63: FutureWarning: The frame.append method is deprecated and will be removed from pandas in a future version. Use pandas.concat instead.\n",
      "  df = df.append(datarow, ignore_index=True)\n"
     ]
    },
    {
     "name": "stdout",
     "output_type": "stream",
     "text": [
      "Columbus, OH 43210\n",
      "TEST\n",
      "Wednesdays at 1:00 PMPage Hall, 1810 College Rd S, Columbus, OH 43210Columbus, OH 43210\n",
      "Wednesdays 1:00 PM\n",
      "test\n",
      "TEST\n"
     ]
    },
    {
     "name": "stderr",
     "output_type": "stream",
     "text": [
      "C:\\Users\\lando\\AppData\\Local\\Temp\\ipykernel_34800\\3465631864.py:63: FutureWarning: The frame.append method is deprecated and will be removed from pandas in a future version. Use pandas.concat instead.\n",
      "  df = df.append(datarow, ignore_index=True)\n",
      "C:\\Users\\lando\\AppData\\Local\\Temp\\ipykernel_34800\\3465631864.py:63: FutureWarning: The frame.append method is deprecated and will be removed from pandas in a future version. Use pandas.concat instead.\n",
      "  df = df.append(datarow, ignore_index=True)\n"
     ]
    },
    {
     "name": "stdout",
     "output_type": "stream",
     "text": [
      "Tuesdays @ 5:30 PMColumbus, OH 43210\n",
      "Tuesdays 5:30 PM\n",
      "test\n",
      "TEST\n",
      "Biweekly Tuesdays at 6 PM to 7 PM1739 N High StColumbus, OH 43210Columbus, OH 43210\n",
      "Tuesdays 6 PM\n",
      "test\n",
      "TEST\n"
     ]
    },
    {
     "name": "stderr",
     "output_type": "stream",
     "text": [
      "C:\\Users\\lando\\AppData\\Local\\Temp\\ipykernel_34800\\3465631864.py:63: FutureWarning: The frame.append method is deprecated and will be removed from pandas in a future version. Use pandas.concat instead.\n",
      "  df = df.append(datarow, ignore_index=True)\n",
      "C:\\Users\\lando\\AppData\\Local\\Temp\\ipykernel_34800\\3465631864.py:63: FutureWarning: The frame.append method is deprecated and will be removed from pandas in a future version. Use pandas.concat instead.\n",
      "  df = df.append(datarow, ignore_index=True)\n"
     ]
    },
    {
     "name": "stdout",
     "output_type": "stream",
     "text": [
      "Each block915 Olentangy River RoadColumbus, OH 43210\n",
      "TEST\n",
      "Wednesday at 3 pm1330 Kinnear RoadColumbus, OH 43210\n",
      "Wednesday 3 pm\n",
      "test\n",
      "TEST\n"
     ]
    },
    {
     "name": "stderr",
     "output_type": "stream",
     "text": [
      "C:\\Users\\lando\\AppData\\Local\\Temp\\ipykernel_34800\\3465631864.py:63: FutureWarning: The frame.append method is deprecated and will be removed from pandas in a future version. Use pandas.concat instead.\n",
      "  df = df.append(datarow, ignore_index=True)\n",
      "C:\\Users\\lando\\AppData\\Local\\Temp\\ipykernel_34800\\3465631864.py:63: FutureWarning: The frame.append method is deprecated and will be removed from pandas in a future version. Use pandas.concat instead.\n",
      "  df = df.append(datarow, ignore_index=True)\n"
     ]
    },
    {
     "name": "stdout",
     "output_type": "stream",
     "text": [
      "twice per semester338 West 10th AvenueColumbus, OH 43210\n",
      "TEST\n",
      "Variable338 West 10th AveColumbus, OH 43210\n",
      "TEST\n"
     ]
    },
    {
     "name": "stderr",
     "output_type": "stream",
     "text": [
      "C:\\Users\\lando\\AppData\\Local\\Temp\\ipykernel_34800\\3465631864.py:63: FutureWarning: The frame.append method is deprecated and will be removed from pandas in a future version. Use pandas.concat instead.\n",
      "  df = df.append(datarow, ignore_index=True)\n",
      "C:\\Users\\lando\\AppData\\Local\\Temp\\ipykernel_34800\\3465631864.py:63: FutureWarning: The frame.append method is deprecated and will be removed from pandas in a future version. Use pandas.concat instead.\n",
      "  df = df.append(datarow, ignore_index=True)\n"
     ]
    },
    {
     "name": "stdout",
     "output_type": "stream",
     "text": [
      "Sundays from 4:00-6:00 pm305 W 17th aveColumbus, OH 43210Columbus, OH 43210\n",
      "W 17 None\n",
      "test\n",
      "TEST\n",
      "First Monday of the month @ 8:30 pmColumbus, OH 43210\n",
      "TEST\n"
     ]
    },
    {
     "name": "stderr",
     "output_type": "stream",
     "text": [
      "C:\\Users\\lando\\AppData\\Local\\Temp\\ipykernel_34800\\3465631864.py:63: FutureWarning: The frame.append method is deprecated and will be removed from pandas in a future version. Use pandas.concat instead.\n",
      "  df = df.append(datarow, ignore_index=True)\n",
      "C:\\Users\\lando\\AppData\\Local\\Temp\\ipykernel_34800\\3465631864.py:63: FutureWarning: The frame.append method is deprecated and will be removed from pandas in a future version. Use pandas.concat instead.\n",
      "  df = df.append(datarow, ignore_index=True)\n"
     ]
    },
    {
     "name": "stdout",
     "output_type": "stream",
     "text": [
      "FridayColumbus, OH 43210\n",
      "TEST\n",
      "TBATBAColumbus, OH 43210\n",
      "TEST\n"
     ]
    },
    {
     "name": "stderr",
     "output_type": "stream",
     "text": [
      "C:\\Users\\lando\\AppData\\Local\\Temp\\ipykernel_34800\\3465631864.py:63: FutureWarning: The frame.append method is deprecated and will be removed from pandas in a future version. Use pandas.concat instead.\n",
      "  df = df.append(datarow, ignore_index=True)\n",
      "C:\\Users\\lando\\AppData\\Local\\Temp\\ipykernel_34800\\3465631864.py:63: FutureWarning: The frame.append method is deprecated and will be removed from pandas in a future version. Use pandas.concat instead.\n",
      "  df = df.append(datarow, ignore_index=True)\n"
     ]
    },
    {
     "name": "stdout",
     "output_type": "stream",
     "text": [
      "Tuesdays at 5:30pmColumbus, OH 43210\n",
      "Tuesdays 5:30 pm\n",
      "test\n",
      "TEST\n",
      "Saturday 9:30amColumbus, OH 43210\n",
      "Saturday 9:30 am\n",
      "test\n",
      "TEST\n"
     ]
    },
    {
     "name": "stderr",
     "output_type": "stream",
     "text": [
      "C:\\Users\\lando\\AppData\\Local\\Temp\\ipykernel_34800\\3465631864.py:63: FutureWarning: The frame.append method is deprecated and will be removed from pandas in a future version. Use pandas.concat instead.\n",
      "  df = df.append(datarow, ignore_index=True)\n",
      "C:\\Users\\lando\\AppData\\Local\\Temp\\ipykernel_34800\\3465631864.py:63: FutureWarning: The frame.append method is deprecated and will be removed from pandas in a future version. Use pandas.concat instead.\n",
      "  df = df.append(datarow, ignore_index=True)\n"
     ]
    },
    {
     "name": "stdout",
     "output_type": "stream",
     "text": [
      "SMW 10PM149 W Lane AveColumbus, OH, 43210Columbus, OH 43210\n",
      "TEST\n"
     ]
    },
    {
     "name": "stderr",
     "output_type": "stream",
     "text": [
      "C:\\Users\\lando\\AppData\\Local\\Temp\\ipykernel_34800\\3465631864.py:63: FutureWarning: The frame.append method is deprecated and will be removed from pandas in a future version. Use pandas.concat instead.\n",
      "  df = df.append(datarow, ignore_index=True)\n"
     ]
    },
    {
     "name": "stdout",
     "output_type": "stream",
     "text": [
      "Thursday 6-7pm2021 Coffey RoadColumbus, OH 43210\n",
      "Thursday 6 None\n",
      "test\n",
      "TEST\n",
      "Columbus, OH 43210\n",
      "TEST\n"
     ]
    },
    {
     "name": "stderr",
     "output_type": "stream",
     "text": [
      "C:\\Users\\lando\\AppData\\Local\\Temp\\ipykernel_34800\\3465631864.py:63: FutureWarning: The frame.append method is deprecated and will be removed from pandas in a future version. Use pandas.concat instead.\n",
      "  df = df.append(datarow, ignore_index=True)\n",
      "C:\\Users\\lando\\AppData\\Local\\Temp\\ipykernel_34800\\3465631864.py:63: FutureWarning: The frame.append method is deprecated and will be removed from pandas in a future version. Use pandas.concat instead.\n",
      "  df = df.append(datarow, ignore_index=True)\n"
     ]
    },
    {
     "name": "stdout",
     "output_type": "stream",
     "text": [
      "Every other Thursday 5:30-6:30Columbus, OH 43210\n",
      "Thursday 5:30 None\n",
      "test\n",
      "TEST\n",
      "Every Friday at 5pmColumbus, OH 43210\n",
      "Friday 5 pm\n",
      "test\n",
      "TEST\n"
     ]
    },
    {
     "name": "stderr",
     "output_type": "stream",
     "text": [
      "C:\\Users\\lando\\AppData\\Local\\Temp\\ipykernel_34800\\3465631864.py:63: FutureWarning: The frame.append method is deprecated and will be removed from pandas in a future version. Use pandas.concat instead.\n",
      "  df = df.append(datarow, ignore_index=True)\n",
      "C:\\Users\\lando\\AppData\\Local\\Temp\\ipykernel_34800\\3465631864.py:63: FutureWarning: The frame.append method is deprecated and will be removed from pandas in a future version. Use pandas.concat instead.\n",
      "  df = df.append(datarow, ignore_index=True)\n"
     ]
    },
    {
     "name": "stdout",
     "output_type": "stream",
     "text": [
      "Thursdays 5:30 p.m.370 W 9th AveColumbus, OH 43210Columbus, OH 43210\n",
      "Thursdays 5:30 None\n",
      "test\n",
      "TEST\n",
      "1st Monday of each month 6:00 p.m.Columbus, OH 43210\n",
      "TEST\n"
     ]
    },
    {
     "name": "stderr",
     "output_type": "stream",
     "text": [
      "C:\\Users\\lando\\AppData\\Local\\Temp\\ipykernel_34800\\3465631864.py:63: FutureWarning: The frame.append method is deprecated and will be removed from pandas in a future version. Use pandas.concat instead.\n",
      "  df = df.append(datarow, ignore_index=True)\n",
      "C:\\Users\\lando\\AppData\\Local\\Temp\\ipykernel_34800\\3465631864.py:63: FutureWarning: The frame.append method is deprecated and will be removed from pandas in a future version. Use pandas.concat instead.\n",
      "  df = df.append(datarow, ignore_index=True)\n"
     ]
    },
    {
     "name": "stdout",
     "output_type": "stream",
     "text": [
      "Tuesdays at 7Columbus, OH 43210Columbus, OH 43210\n",
      "Tuesdays 7 None\n",
      "test\n",
      "TEST\n",
      "Sundays, 7:00-9:00 pm, Wednesdays 7:00-9:00 pm1900 College Rd. N.Columbus, OH 43210\n",
      "Sundays 7:00 None\n",
      "test\n",
      "TEST\n"
     ]
    },
    {
     "name": "stderr",
     "output_type": "stream",
     "text": [
      "C:\\Users\\lando\\AppData\\Local\\Temp\\ipykernel_34800\\3465631864.py:63: FutureWarning: The frame.append method is deprecated and will be removed from pandas in a future version. Use pandas.concat instead.\n",
      "  df = df.append(datarow, ignore_index=True)\n",
      "C:\\Users\\lando\\AppData\\Local\\Temp\\ipykernel_34800\\3465631864.py:63: FutureWarning: The frame.append method is deprecated and will be removed from pandas in a future version. Use pandas.concat instead.\n",
      "  df = df.append(datarow, ignore_index=True)\n"
     ]
    },
    {
     "name": "stdout",
     "output_type": "stream",
     "text": [
      "Columbus, OH 43210\n",
      "TEST\n"
     ]
    },
    {
     "name": "stderr",
     "output_type": "stream",
     "text": [
      "C:\\Users\\lando\\AppData\\Local\\Temp\\ipykernel_34800\\3465631864.py:63: FutureWarning: The frame.append method is deprecated and will be removed from pandas in a future version. Use pandas.concat instead.\n",
      "  df = df.append(datarow, ignore_index=True)\n"
     ]
    },
    {
     "name": "stdout",
     "output_type": "stream",
     "text": [
      "Tuesdays at 6:00 PM164 Annie & John Glenn Ave140 W 18th AveColumbus, OH 43210\n",
      "Tuesdays 6:00 PM\n",
      "test\n",
      "TEST\n",
      "Columbus, OH 43210\n",
      "TEST\n"
     ]
    },
    {
     "name": "stderr",
     "output_type": "stream",
     "text": [
      "C:\\Users\\lando\\AppData\\Local\\Temp\\ipykernel_34800\\3465631864.py:63: FutureWarning: The frame.append method is deprecated and will be removed from pandas in a future version. Use pandas.concat instead.\n",
      "  df = df.append(datarow, ignore_index=True)\n",
      "C:\\Users\\lando\\AppData\\Local\\Temp\\ipykernel_34800\\3465631864.py:63: FutureWarning: The frame.append method is deprecated and will be removed from pandas in a future version. Use pandas.concat instead.\n",
      "  df = df.append(datarow, ignore_index=True)\n"
     ]
    },
    {
     "name": "stdout",
     "output_type": "stream",
     "text": [
      "Columbus, OH 43210\n",
      "TEST\n",
      "Mondays, 12pm55 West 12th AveColumbus, OH 43210\n",
      "Mondays 12 pm\n",
      "test\n",
      "TEST\n"
     ]
    },
    {
     "name": "stderr",
     "output_type": "stream",
     "text": [
      "C:\\Users\\lando\\AppData\\Local\\Temp\\ipykernel_34800\\3465631864.py:63: FutureWarning: The frame.append method is deprecated and will be removed from pandas in a future version. Use pandas.concat instead.\n",
      "  df = df.append(datarow, ignore_index=True)\n",
      "C:\\Users\\lando\\AppData\\Local\\Temp\\ipykernel_34800\\3465631864.py:63: FutureWarning: The frame.append method is deprecated and will be removed from pandas in a future version. Use pandas.concat instead.\n",
      "  df = df.append(datarow, ignore_index=True)\n"
     ]
    },
    {
     "name": "stdout",
     "output_type": "stream",
     "text": [
      "Columbus, OH 43210\n",
      "TEST\n"
     ]
    },
    {
     "name": "stderr",
     "output_type": "stream",
     "text": [
      "C:\\Users\\lando\\AppData\\Local\\Temp\\ipykernel_34800\\3465631864.py:63: FutureWarning: The frame.append method is deprecated and will be removed from pandas in a future version. Use pandas.concat instead.\n",
      "  df = df.append(datarow, ignore_index=True)\n"
     ]
    },
    {
     "name": "stdout",
     "output_type": "stream",
     "text": [
      "TBDColumbus, OH 43210\n",
      "TEST\n",
      "As needed500 W 12th AveColumbus, OH 43210\n",
      "W 12 None\n",
      "test\n",
      "TEST\n"
     ]
    },
    {
     "name": "stderr",
     "output_type": "stream",
     "text": [
      "C:\\Users\\lando\\AppData\\Local\\Temp\\ipykernel_34800\\3465631864.py:63: FutureWarning: The frame.append method is deprecated and will be removed from pandas in a future version. Use pandas.concat instead.\n",
      "  df = df.append(datarow, ignore_index=True)\n",
      "C:\\Users\\lando\\AppData\\Local\\Temp\\ipykernel_34800\\3465631864.py:63: FutureWarning: The frame.append method is deprecated and will be removed from pandas in a future version. Use pandas.concat instead.\n",
      "  df = df.append(datarow, ignore_index=True)\n"
     ]
    },
    {
     "name": "stdout",
     "output_type": "stream",
     "text": [
      "As needed500 W 12th AveColumbus, OH 43210\n",
      "W 12 None\n",
      "test\n",
      "TEST\n"
     ]
    },
    {
     "name": "stderr",
     "output_type": "stream",
     "text": [
      "C:\\Users\\lando\\AppData\\Local\\Temp\\ipykernel_34800\\3465631864.py:63: FutureWarning: The frame.append method is deprecated and will be removed from pandas in a future version. Use pandas.concat instead.\n",
      "  df = df.append(datarow, ignore_index=True)\n"
     ]
    },
    {
     "name": "stdout",
     "output_type": "stream",
     "text": [
      "Columbus, OH 43210\n",
      "TEST\n",
      "As needed500 W 12th AvenueColumbus, OH 43210\n",
      "W 12 None\n",
      "test\n",
      "TEST\n"
     ]
    },
    {
     "name": "stderr",
     "output_type": "stream",
     "text": [
      "C:\\Users\\lando\\AppData\\Local\\Temp\\ipykernel_34800\\3465631864.py:63: FutureWarning: The frame.append method is deprecated and will be removed from pandas in a future version. Use pandas.concat instead.\n",
      "  df = df.append(datarow, ignore_index=True)\n",
      "C:\\Users\\lando\\AppData\\Local\\Temp\\ipykernel_34800\\3465631864.py:63: FutureWarning: The frame.append method is deprecated and will be removed from pandas in a future version. Use pandas.concat instead.\n",
      "  df = df.append(datarow, ignore_index=True)\n"
     ]
    },
    {
     "name": "stdout",
     "output_type": "stream",
     "text": [
      "Columbus, OH 43210\n",
      "TEST\n"
     ]
    },
    {
     "name": "stderr",
     "output_type": "stream",
     "text": [
      "C:\\Users\\lando\\AppData\\Local\\Temp\\ipykernel_34800\\3465631864.py:63: FutureWarning: The frame.append method is deprecated and will be removed from pandas in a future version. Use pandas.concat instead.\n",
      "  df = df.append(datarow, ignore_index=True)\n"
     ]
    },
    {
     "name": "stdout",
     "output_type": "stream",
     "text": [
      "Thursdays at 6 pm1739 N High StColumbus, OH 43210Columbus, OH 43210\n",
      "Thursdays 6 pm\n",
      "test\n",
      "TEST\n"
     ]
    },
    {
     "name": "stderr",
     "output_type": "stream",
     "text": [
      "C:\\Users\\lando\\AppData\\Local\\Temp\\ipykernel_34800\\3465631864.py:63: FutureWarning: The frame.append method is deprecated and will be removed from pandas in a future version. Use pandas.concat instead.\n",
      "  df = df.append(datarow, ignore_index=True)\n"
     ]
    },
    {
     "name": "stdout",
     "output_type": "stream",
     "text": [
      "Columbus, OH 43210\n",
      "TEST\n",
      "Every Wednesday at 7:00 PM1739 North High StreetColumbus, OH 43210\n",
      "Wednesday 7:00 PM\n",
      "test\n",
      "TEST\n"
     ]
    },
    {
     "name": "stderr",
     "output_type": "stream",
     "text": [
      "C:\\Users\\lando\\AppData\\Local\\Temp\\ipykernel_34800\\3465631864.py:63: FutureWarning: The frame.append method is deprecated and will be removed from pandas in a future version. Use pandas.concat instead.\n",
      "  df = df.append(datarow, ignore_index=True)\n",
      "C:\\Users\\lando\\AppData\\Local\\Temp\\ipykernel_34800\\3465631864.py:63: FutureWarning: The frame.append method is deprecated and will be removed from pandas in a future version. Use pandas.concat instead.\n",
      "  df = df.append(datarow, ignore_index=True)\n"
     ]
    },
    {
     "name": "stdout",
     "output_type": "stream",
     "text": [
      "Columbus, OH 43210\n",
      "TEST\n",
      "Thursdays 9 PM - 10 PM120 West 11th AvenueColumbus, OH 43210\n",
      "Thursdays 9 PM\n",
      "test\n",
      "TEST\n"
     ]
    },
    {
     "name": "stderr",
     "output_type": "stream",
     "text": [
      "C:\\Users\\lando\\AppData\\Local\\Temp\\ipykernel_34800\\3465631864.py:63: FutureWarning: The frame.append method is deprecated and will be removed from pandas in a future version. Use pandas.concat instead.\n",
      "  df = df.append(datarow, ignore_index=True)\n",
      "C:\\Users\\lando\\AppData\\Local\\Temp\\ipykernel_34800\\3465631864.py:63: FutureWarning: The frame.append method is deprecated and will be removed from pandas in a future version. Use pandas.concat instead.\n",
      "  df = df.append(datarow, ignore_index=True)\n"
     ]
    },
    {
     "name": "stdout",
     "output_type": "stream",
     "text": [
      "Tuesdays @ 8PM Columbus, OH 43210\n",
      "Tuesdays 8 PM\n",
      "test\n",
      "TEST\n",
      "none100 W Norwich Ave.Columbus, OH 43210\n",
      "TEST\n"
     ]
    },
    {
     "name": "stderr",
     "output_type": "stream",
     "text": [
      "C:\\Users\\lando\\AppData\\Local\\Temp\\ipykernel_34800\\3465631864.py:63: FutureWarning: The frame.append method is deprecated and will be removed from pandas in a future version. Use pandas.concat instead.\n",
      "  df = df.append(datarow, ignore_index=True)\n",
      "C:\\Users\\lando\\AppData\\Local\\Temp\\ipykernel_34800\\3465631864.py:63: FutureWarning: The frame.append method is deprecated and will be removed from pandas in a future version. Use pandas.concat instead.\n",
      "  df = df.append(datarow, ignore_index=True)\n"
     ]
    },
    {
     "name": "stdout",
     "output_type": "stream",
     "text": [
      "Wednesdays 6pmTBDColumbus, OH 43210\n",
      "Wednesdays 6 pm\n",
      "test\n",
      "TEST\n",
      "TBA370 W 9th AveColumbus, OH 43210Columbus, OH 43210\n",
      "W 9 None\n",
      "test\n",
      "TEST\n"
     ]
    },
    {
     "name": "stderr",
     "output_type": "stream",
     "text": [
      "C:\\Users\\lando\\AppData\\Local\\Temp\\ipykernel_34800\\3465631864.py:63: FutureWarning: The frame.append method is deprecated and will be removed from pandas in a future version. Use pandas.concat instead.\n",
      "  df = df.append(datarow, ignore_index=True)\n",
      "C:\\Users\\lando\\AppData\\Local\\Temp\\ipykernel_34800\\3465631864.py:63: FutureWarning: The frame.append method is deprecated and will be removed from pandas in a future version. Use pandas.concat instead.\n",
      "  df = df.append(datarow, ignore_index=True)\n"
     ]
    },
    {
     "name": "stdout",
     "output_type": "stream",
     "text": [
      "Columbus, OH 43210\n",
      "TEST\n",
      "Once a monthMeiling Hall370 W 9th Avenue, Columbus, OH 43210Columbus, OH 43210\n",
      "W 9 None\n",
      "test\n",
      "TEST\n"
     ]
    },
    {
     "name": "stderr",
     "output_type": "stream",
     "text": [
      "C:\\Users\\lando\\AppData\\Local\\Temp\\ipykernel_34800\\3465631864.py:63: FutureWarning: The frame.append method is deprecated and will be removed from pandas in a future version. Use pandas.concat instead.\n",
      "  df = df.append(datarow, ignore_index=True)\n",
      "C:\\Users\\lando\\AppData\\Local\\Temp\\ipykernel_34800\\3465631864.py:63: FutureWarning: The frame.append method is deprecated and will be removed from pandas in a future version. Use pandas.concat instead.\n",
      "  df = df.append(datarow, ignore_index=True)\n"
     ]
    },
    {
     "name": "stdout",
     "output_type": "stream",
     "text": [
      "Tuesdays - Every 2 weeksColumbus, OH 43210\n",
      "TEST\n",
      "Columbus, OH 43210\n",
      "TEST\n"
     ]
    },
    {
     "name": "stderr",
     "output_type": "stream",
     "text": [
      "C:\\Users\\lando\\AppData\\Local\\Temp\\ipykernel_34800\\3465631864.py:63: FutureWarning: The frame.append method is deprecated and will be removed from pandas in a future version. Use pandas.concat instead.\n",
      "  df = df.append(datarow, ignore_index=True)\n",
      "C:\\Users\\lando\\AppData\\Local\\Temp\\ipykernel_34800\\3465631864.py:63: FutureWarning: The frame.append method is deprecated and will be removed from pandas in a future version. Use pandas.concat instead.\n",
      "  df = df.append(datarow, ignore_index=True)\n"
     ]
    },
    {
     "name": "stdout",
     "output_type": "stream",
     "text": [
      "Once every other week154 W 12th Ave, Columbus, OH 43210Columbus, OH 43210\n",
      "W 12 None\n",
      "test\n",
      "TEST\n",
      "ThursdayColumbus, OHColumbus, OH 43210\n",
      "TEST\n"
     ]
    },
    {
     "name": "stderr",
     "output_type": "stream",
     "text": [
      "C:\\Users\\lando\\AppData\\Local\\Temp\\ipykernel_34800\\3465631864.py:63: FutureWarning: The frame.append method is deprecated and will be removed from pandas in a future version. Use pandas.concat instead.\n",
      "  df = df.append(datarow, ignore_index=True)\n",
      "C:\\Users\\lando\\AppData\\Local\\Temp\\ipykernel_34800\\3465631864.py:63: FutureWarning: The frame.append method is deprecated and will be removed from pandas in a future version. Use pandas.concat instead.\n",
      "  df = df.append(datarow, ignore_index=True)\n"
     ]
    },
    {
     "name": "stdout",
     "output_type": "stream",
     "text": [
      "1866 College Rd NC/O Susan PowellColumbus, OH 43210\n",
      "TEST\n",
      "Drake Center Rm 20461849 Cannon DriveColumbus, OH 43210\n",
      "TEST\n"
     ]
    },
    {
     "name": "stderr",
     "output_type": "stream",
     "text": [
      "C:\\Users\\lando\\AppData\\Local\\Temp\\ipykernel_34800\\3465631864.py:63: FutureWarning: The frame.append method is deprecated and will be removed from pandas in a future version. Use pandas.concat instead.\n",
      "  df = df.append(datarow, ignore_index=True)\n",
      "C:\\Users\\lando\\AppData\\Local\\Temp\\ipykernel_34800\\3465631864.py:63: FutureWarning: The frame.append method is deprecated and will be removed from pandas in a future version. Use pandas.concat instead.\n",
      "  df = df.append(datarow, ignore_index=True)\n"
     ]
    },
    {
     "name": "stdout",
     "output_type": "stream",
     "text": [
      "Tuesdays 8PMColumbus, OH 43210\n",
      "Tuesdays 8 PM\n",
      "test\n",
      "TEST\n",
      "Different days and times305 West 12th Avenue Columbus, OHColumbus, OH 43210\n",
      "TEST\n"
     ]
    },
    {
     "name": "stderr",
     "output_type": "stream",
     "text": [
      "C:\\Users\\lando\\AppData\\Local\\Temp\\ipykernel_34800\\3465631864.py:63: FutureWarning: The frame.append method is deprecated and will be removed from pandas in a future version. Use pandas.concat instead.\n",
      "  df = df.append(datarow, ignore_index=True)\n",
      "C:\\Users\\lando\\AppData\\Local\\Temp\\ipykernel_34800\\3465631864.py:63: FutureWarning: The frame.append method is deprecated and will be removed from pandas in a future version. Use pandas.concat instead.\n",
      "  df = df.append(datarow, ignore_index=True)\n"
     ]
    },
    {
     "name": "stdout",
     "output_type": "stream",
     "text": [
      "Sunday afternoon2121 Tuttle Park PlaceColumbus, OH 43210\n",
      "TEST\n",
      "ThursdaysCollege RdColumbus OH 43210Columbus, OH 43210\n",
      "TEST\n"
     ]
    },
    {
     "name": "stderr",
     "output_type": "stream",
     "text": [
      "C:\\Users\\lando\\AppData\\Local\\Temp\\ipykernel_34800\\3465631864.py:63: FutureWarning: The frame.append method is deprecated and will be removed from pandas in a future version. Use pandas.concat instead.\n",
      "  df = df.append(datarow, ignore_index=True)\n",
      "C:\\Users\\lando\\AppData\\Local\\Temp\\ipykernel_34800\\3465631864.py:63: FutureWarning: The frame.append method is deprecated and will be removed from pandas in a future version. Use pandas.concat instead.\n",
      "  df = df.append(datarow, ignore_index=True)\n"
     ]
    },
    {
     "name": "stdout",
     "output_type": "stream",
     "text": [
      "Columbus, OH 43210\n",
      "TEST\n",
      "Every Other Thursday 7:30-8:30 pm 1739 N. High Street, Columbus, Ohio 43210Columbus, OH 43210\n",
      "Thursday 7:30 None\n",
      "test\n",
      "TEST\n"
     ]
    },
    {
     "name": "stderr",
     "output_type": "stream",
     "text": [
      "C:\\Users\\lando\\AppData\\Local\\Temp\\ipykernel_34800\\3465631864.py:63: FutureWarning: The frame.append method is deprecated and will be removed from pandas in a future version. Use pandas.concat instead.\n",
      "  df = df.append(datarow, ignore_index=True)\n",
      "C:\\Users\\lando\\AppData\\Local\\Temp\\ipykernel_34800\\3465631864.py:63: FutureWarning: The frame.append method is deprecated and will be removed from pandas in a future version. Use pandas.concat instead.\n",
      "  df = df.append(datarow, ignore_index=True)\n"
     ]
    },
    {
     "name": "stdout",
     "output_type": "stream",
     "text": [
      "Thursdays- 7:00 pmColumbus, OH 43210\n",
      "TEST\n",
      "October 12, 2010Michael E. Moritz College of Law, 55 West 12th AveColumbus, OH 43210\n",
      "TEST\n"
     ]
    },
    {
     "name": "stderr",
     "output_type": "stream",
     "text": [
      "C:\\Users\\lando\\AppData\\Local\\Temp\\ipykernel_34800\\3465631864.py:63: FutureWarning: The frame.append method is deprecated and will be removed from pandas in a future version. Use pandas.concat instead.\n",
      "  df = df.append(datarow, ignore_index=True)\n",
      "C:\\Users\\lando\\AppData\\Local\\Temp\\ipykernel_34800\\3465631864.py:63: FutureWarning: The frame.append method is deprecated and will be removed from pandas in a future version. Use pandas.concat instead.\n",
      "  df = df.append(datarow, ignore_index=True)\n"
     ]
    },
    {
     "name": "stdout",
     "output_type": "stream",
     "text": [
      "Every other Tuesday at 6:00pm500 W 12th AveColumbus, OH 43210\n",
      "Tuesday 6:00 pm\n",
      "test\n",
      "TEST\n",
      "Wednesdays at 7:00pmColumbus, OH 43210\n",
      "Wednesdays 7:00 pm\n",
      "test\n",
      "TEST\n"
     ]
    },
    {
     "name": "stderr",
     "output_type": "stream",
     "text": [
      "C:\\Users\\lando\\AppData\\Local\\Temp\\ipykernel_34800\\3465631864.py:63: FutureWarning: The frame.append method is deprecated and will be removed from pandas in a future version. Use pandas.concat instead.\n",
      "  df = df.append(datarow, ignore_index=True)\n",
      "C:\\Users\\lando\\AppData\\Local\\Temp\\ipykernel_34800\\3465631864.py:63: FutureWarning: The frame.append method is deprecated and will be removed from pandas in a future version. Use pandas.concat instead.\n",
      "  df = df.append(datarow, ignore_index=True)\n"
     ]
    },
    {
     "name": "stdout",
     "output_type": "stream",
     "text": [
      "Every Tuesday, approximately 6pm230 Annie and John Glenn AveColumbus, OH 43210\n",
      "TEST\n",
      "Sunday 3pmColumbus, OH 43210\n",
      "Sunday 3 pm\n",
      "test\n",
      "TEST\n"
     ]
    },
    {
     "name": "stderr",
     "output_type": "stream",
     "text": [
      "C:\\Users\\lando\\AppData\\Local\\Temp\\ipykernel_34800\\3465631864.py:63: FutureWarning: The frame.append method is deprecated and will be removed from pandas in a future version. Use pandas.concat instead.\n",
      "  df = df.append(datarow, ignore_index=True)\n",
      "C:\\Users\\lando\\AppData\\Local\\Temp\\ipykernel_34800\\3465631864.py:63: FutureWarning: The frame.append method is deprecated and will be removed from pandas in a future version. Use pandas.concat instead.\n",
      "  df = df.append(datarow, ignore_index=True)\n"
     ]
    },
    {
     "name": "stdout",
     "output_type": "stream",
     "text": [
      "Thursday 7:30 PM210 W. Woodruff Ave. Columbus, OH 43210Columbus, OH 43210\n",
      "Thursday 7:30 PM\n",
      "test\n",
      "TEST\n",
      "Sunday 7:00pm500 W. 12th AveColumbus, OH 43210\n",
      "Sunday 7:00 pm\n",
      "test\n",
      "TEST\n"
     ]
    },
    {
     "name": "stderr",
     "output_type": "stream",
     "text": [
      "C:\\Users\\lando\\AppData\\Local\\Temp\\ipykernel_34800\\3465631864.py:63: FutureWarning: The frame.append method is deprecated and will be removed from pandas in a future version. Use pandas.concat instead.\n",
      "  df = df.append(datarow, ignore_index=True)\n",
      "C:\\Users\\lando\\AppData\\Local\\Temp\\ipykernel_34800\\3465631864.py:63: FutureWarning: The frame.append method is deprecated and will be removed from pandas in a future version. Use pandas.concat instead.\n",
      "  df = df.append(datarow, ignore_index=True)\n"
     ]
    },
    {
     "name": "stdout",
     "output_type": "stream",
     "text": [
      "TBDTBDColumbus, OH 43210\n",
      "TEST\n",
      "Sunday 5:30 pmColumbus, OH 43210\n",
      "Sunday 5:30 pm\n",
      "test\n",
      "TEST\n"
     ]
    },
    {
     "name": "stderr",
     "output_type": "stream",
     "text": [
      "C:\\Users\\lando\\AppData\\Local\\Temp\\ipykernel_34800\\3465631864.py:63: FutureWarning: The frame.append method is deprecated and will be removed from pandas in a future version. Use pandas.concat instead.\n",
      "  df = df.append(datarow, ignore_index=True)\n",
      "C:\\Users\\lando\\AppData\\Local\\Temp\\ipykernel_34800\\3465631864.py:63: FutureWarning: The frame.append method is deprecated and will be removed from pandas in a future version. Use pandas.concat instead.\n",
      "  df = df.append(datarow, ignore_index=True)\n"
     ]
    },
    {
     "name": "stdout",
     "output_type": "stream",
     "text": [
      "n/a94 East 15th AvenueColumbus, OH 43210\n",
      "TEST\n",
      "Mondays 6:00 - 7:30141 E. 15th Ave.Columbus, OH 43210\n",
      "Mondays 6:00 None\n",
      "test\n",
      "TEST\n"
     ]
    },
    {
     "name": "stderr",
     "output_type": "stream",
     "text": [
      "C:\\Users\\lando\\AppData\\Local\\Temp\\ipykernel_34800\\3465631864.py:63: FutureWarning: The frame.append method is deprecated and will be removed from pandas in a future version. Use pandas.concat instead.\n",
      "  df = df.append(datarow, ignore_index=True)\n",
      "C:\\Users\\lando\\AppData\\Local\\Temp\\ipykernel_34800\\3465631864.py:63: FutureWarning: The frame.append method is deprecated and will be removed from pandas in a future version. Use pandas.concat instead.\n",
      "  df = df.append(datarow, ignore_index=True)\n"
     ]
    },
    {
     "name": "stdout",
     "output_type": "stream",
     "text": [
      "Variable500 W 12th AveColumbus, OH 43210\n",
      "W 12 None\n",
      "test\n",
      "TEST\n",
      "Tuesdays, 8 PMBuilding 0421899 College Rd.Columbus, OH 43210\n",
      "Tuesdays 8 PM\n",
      "test\n",
      "TEST\n"
     ]
    },
    {
     "name": "stderr",
     "output_type": "stream",
     "text": [
      "C:\\Users\\lando\\AppData\\Local\\Temp\\ipykernel_34800\\3465631864.py:63: FutureWarning: The frame.append method is deprecated and will be removed from pandas in a future version. Use pandas.concat instead.\n",
      "  df = df.append(datarow, ignore_index=True)\n",
      "C:\\Users\\lando\\AppData\\Local\\Temp\\ipykernel_34800\\3465631864.py:63: FutureWarning: The frame.append method is deprecated and will be removed from pandas in a future version. Use pandas.concat instead.\n",
      "  df = df.append(datarow, ignore_index=True)\n"
     ]
    },
    {
     "name": "stdout",
     "output_type": "stream",
     "text": [
      "Sunday 8:00pm328 e 17th aveColumbus, OH 43210\n",
      "Sunday 8:00 pm\n",
      "test\n",
      "TEST\n",
      "Every Wednesday at 7:30PM1739 N. High St.Columbus, OH 43210\n",
      "Wednesday 7:30 PM\n",
      "test\n",
      "TEST\n"
     ]
    },
    {
     "name": "stderr",
     "output_type": "stream",
     "text": [
      "C:\\Users\\lando\\AppData\\Local\\Temp\\ipykernel_34800\\3465631864.py:63: FutureWarning: The frame.append method is deprecated and will be removed from pandas in a future version. Use pandas.concat instead.\n",
      "  df = df.append(datarow, ignore_index=True)\n",
      "C:\\Users\\lando\\AppData\\Local\\Temp\\ipykernel_34800\\3465631864.py:63: FutureWarning: The frame.append method is deprecated and will be removed from pandas in a future version. Use pandas.concat instead.\n",
      "  df = df.append(datarow, ignore_index=True)\n"
     ]
    },
    {
     "name": "stdout",
     "output_type": "stream",
     "text": [
      "Mondays 7:30pmColumbus, OH 43210\n",
      "Mondays 7:30 pm\n",
      "test\n",
      "TEST\n",
      "Random-Columbus, OH 43210\n",
      "TEST\n"
     ]
    },
    {
     "name": "stderr",
     "output_type": "stream",
     "text": [
      "C:\\Users\\lando\\AppData\\Local\\Temp\\ipykernel_34800\\3465631864.py:63: FutureWarning: The frame.append method is deprecated and will be removed from pandas in a future version. Use pandas.concat instead.\n",
      "  df = df.append(datarow, ignore_index=True)\n",
      "C:\\Users\\lando\\AppData\\Local\\Temp\\ipykernel_34800\\3465631864.py:63: FutureWarning: The frame.append method is deprecated and will be removed from pandas in a future version. Use pandas.concat instead.\n",
      "  df = df.append(datarow, ignore_index=True)\n"
     ]
    },
    {
     "name": "stdout",
     "output_type": "stream",
     "text": [
      "Wednesday’s  8:00 pm & Friday’s 6:00 pmColumbus, OH 43210\n",
      "TEST\n",
      "Thursday 4:00pm2015 Fyffe RdColumbus, OH 43210\n",
      "Thursday 4:00 pm\n",
      "test\n",
      "TEST\n"
     ]
    },
    {
     "name": "stderr",
     "output_type": "stream",
     "text": [
      "C:\\Users\\lando\\AppData\\Local\\Temp\\ipykernel_34800\\3465631864.py:63: FutureWarning: The frame.append method is deprecated and will be removed from pandas in a future version. Use pandas.concat instead.\n",
      "  df = df.append(datarow, ignore_index=True)\n",
      "C:\\Users\\lando\\AppData\\Local\\Temp\\ipykernel_34800\\3465631864.py:63: FutureWarning: The frame.append method is deprecated and will be removed from pandas in a future version. Use pandas.concat instead.\n",
      "  df = df.append(datarow, ignore_index=True)\n"
     ]
    },
    {
     "name": "stdout",
     "output_type": "stream",
     "text": [
      "Monday 11:30 am453 W. 10th Ave Columbus, OHColumbus, OH 43210\n",
      "Monday 11:30 am\n",
      "test\n",
      "TEST\n",
      "Sunday 3:00pm1787 Neil Ave.Columbus, OH 43210\n",
      "Sunday 3:00 pm\n",
      "test\n",
      "TEST\n"
     ]
    },
    {
     "name": "stderr",
     "output_type": "stream",
     "text": [
      "C:\\Users\\lando\\AppData\\Local\\Temp\\ipykernel_34800\\3465631864.py:63: FutureWarning: The frame.append method is deprecated and will be removed from pandas in a future version. Use pandas.concat instead.\n",
      "  df = df.append(datarow, ignore_index=True)\n",
      "C:\\Users\\lando\\AppData\\Local\\Temp\\ipykernel_34800\\3465631864.py:63: FutureWarning: The frame.append method is deprecated and will be removed from pandas in a future version. Use pandas.concat instead.\n",
      "  df = df.append(datarow, ignore_index=True)\n"
     ]
    },
    {
     "name": "stdout",
     "output_type": "stream",
     "text": [
      "Monday and Friday, 6:30 pmColumbus, OH 43210\n",
      "Friday 6:30 pm\n",
      "test\n",
      "TEST\n",
      "RANDOM1739 N High StColumbus, OH 43210\n",
      "TEST\n"
     ]
    },
    {
     "name": "stderr",
     "output_type": "stream",
     "text": [
      "C:\\Users\\lando\\AppData\\Local\\Temp\\ipykernel_34800\\3465631864.py:63: FutureWarning: The frame.append method is deprecated and will be removed from pandas in a future version. Use pandas.concat instead.\n",
      "  df = df.append(datarow, ignore_index=True)\n",
      "C:\\Users\\lando\\AppData\\Local\\Temp\\ipykernel_34800\\3465631864.py:63: FutureWarning: The frame.append method is deprecated and will be removed from pandas in a future version. Use pandas.concat instead.\n",
      "  df = df.append(datarow, ignore_index=True)\n"
     ]
    },
    {
     "name": "stdout",
     "output_type": "stream",
     "text": [
      "n/an/aColumbus, OH 43210\n",
      "TEST\n",
      "Variable; join listserv for scheduleMeiling and Graves HallsColumbus, OH 43210\n",
      "TEST\n"
     ]
    },
    {
     "name": "stderr",
     "output_type": "stream",
     "text": [
      "C:\\Users\\lando\\AppData\\Local\\Temp\\ipykernel_34800\\3465631864.py:63: FutureWarning: The frame.append method is deprecated and will be removed from pandas in a future version. Use pandas.concat instead.\n",
      "  df = df.append(datarow, ignore_index=True)\n",
      "C:\\Users\\lando\\AppData\\Local\\Temp\\ipykernel_34800\\3465631864.py:63: FutureWarning: The frame.append method is deprecated and will be removed from pandas in a future version. Use pandas.concat instead.\n",
      "  df = df.append(datarow, ignore_index=True)\n"
     ]
    },
    {
     "name": "stdout",
     "output_type": "stream",
     "text": [
      "First Wednesday of Month473 W 12th AveColumbus, OH 43210Columbus, OH 43210\n",
      "W 12 None\n",
      "test\n",
      "TEST\n"
     ]
    },
    {
     "name": "stderr",
     "output_type": "stream",
     "text": [
      "C:\\Users\\lando\\AppData\\Local\\Temp\\ipykernel_34800\\3465631864.py:63: FutureWarning: The frame.append method is deprecated and will be removed from pandas in a future version. Use pandas.concat instead.\n",
      "  df = df.append(datarow, ignore_index=True)\n"
     ]
    },
    {
     "name": "stdout",
     "output_type": "stream",
     "text": [
      "Rotating Schedule2001 Fyffe CtColumbus, OH 43210\n",
      "TEST\n",
      "Monday 6:00pm1845 Indianola AveColumbus, Ohio 43201Columbus, OH 43210\n",
      "Monday 6:00 pm\n",
      "test\n",
      "TEST\n"
     ]
    },
    {
     "name": "stderr",
     "output_type": "stream",
     "text": [
      "C:\\Users\\lando\\AppData\\Local\\Temp\\ipykernel_34800\\3465631864.py:63: FutureWarning: The frame.append method is deprecated and will be removed from pandas in a future version. Use pandas.concat instead.\n",
      "  df = df.append(datarow, ignore_index=True)\n",
      "C:\\Users\\lando\\AppData\\Local\\Temp\\ipykernel_34800\\3465631864.py:63: FutureWarning: The frame.append method is deprecated and will be removed from pandas in a future version. Use pandas.concat instead.\n",
      "  df = df.append(datarow, ignore_index=True)\n"
     ]
    },
    {
     "name": "stdout",
     "output_type": "stream",
     "text": [
      "Monday 8:00 PM1739 N High StColumbus, OH 43210\n",
      "Monday 8:00 PM\n",
      "test\n",
      "TEST\n",
      "Mondays at 7:00pm200 E. 15th AvenueColumbus, OH 43201Columbus, OH 43210\n",
      "Mondays 7:00 pm\n",
      "test\n",
      "TEST\n"
     ]
    },
    {
     "name": "stderr",
     "output_type": "stream",
     "text": [
      "C:\\Users\\lando\\AppData\\Local\\Temp\\ipykernel_34800\\3465631864.py:63: FutureWarning: The frame.append method is deprecated and will be removed from pandas in a future version. Use pandas.concat instead.\n",
      "  df = df.append(datarow, ignore_index=True)\n",
      "C:\\Users\\lando\\AppData\\Local\\Temp\\ipykernel_34800\\3465631864.py:63: FutureWarning: The frame.append method is deprecated and will be removed from pandas in a future version. Use pandas.concat instead.\n",
      "  df = df.append(datarow, ignore_index=True)\n"
     ]
    },
    {
     "name": "stdout",
     "output_type": "stream",
     "text": [
      "Mondays at 8pm1962 iuka aveColumbus, OH 43210\n",
      "Mondays 8 pm\n",
      "test\n",
      "TEST\n",
      "Every Tuesday 7:30pm2070 Neil AvenueColumbus, OH 43210\n",
      "Tuesday 7:30 pm\n",
      "test\n",
      "TEST\n"
     ]
    },
    {
     "name": "stderr",
     "output_type": "stream",
     "text": [
      "C:\\Users\\lando\\AppData\\Local\\Temp\\ipykernel_34800\\3465631864.py:63: FutureWarning: The frame.append method is deprecated and will be removed from pandas in a future version. Use pandas.concat instead.\n",
      "  df = df.append(datarow, ignore_index=True)\n",
      "C:\\Users\\lando\\AppData\\Local\\Temp\\ipykernel_34800\\3465631864.py:63: FutureWarning: The frame.append method is deprecated and will be removed from pandas in a future version. Use pandas.concat instead.\n",
      "  df = df.append(datarow, ignore_index=True)\n"
     ]
    },
    {
     "name": "stdout",
     "output_type": "stream",
     "text": [
      "Wednesday'sColumbus, OH 43210\n",
      "TEST\n",
      "Wednesday 7:00pmColumbus, OH 43210\n",
      "Wednesday 7:00 pm\n",
      "test\n",
      "TEST\n"
     ]
    },
    {
     "name": "stderr",
     "output_type": "stream",
     "text": [
      "C:\\Users\\lando\\AppData\\Local\\Temp\\ipykernel_34800\\3465631864.py:63: FutureWarning: The frame.append method is deprecated and will be removed from pandas in a future version. Use pandas.concat instead.\n",
      "  df = df.append(datarow, ignore_index=True)\n",
      "C:\\Users\\lando\\AppData\\Local\\Temp\\ipykernel_34800\\3465631864.py:63: FutureWarning: The frame.append method is deprecated and will be removed from pandas in a future version. Use pandas.concat instead.\n",
      "  df = df.append(datarow, ignore_index=True)\n"
     ]
    },
    {
     "name": "stdout",
     "output_type": "stream",
     "text": [
      "WednesdayColumbus, OH 43201Columbus, OH 43210\n",
      "TEST\n",
      "Sunday 7:00 pm (Biweekly)Columbus, OH 43210\n",
      "Sunday 7:00 pm\n",
      "test\n",
      "TEST\n"
     ]
    },
    {
     "name": "stderr",
     "output_type": "stream",
     "text": [
      "C:\\Users\\lando\\AppData\\Local\\Temp\\ipykernel_34800\\3465631864.py:63: FutureWarning: The frame.append method is deprecated and will be removed from pandas in a future version. Use pandas.concat instead.\n",
      "  df = df.append(datarow, ignore_index=True)\n",
      "C:\\Users\\lando\\AppData\\Local\\Temp\\ipykernel_34800\\3465631864.py:63: FutureWarning: The frame.append method is deprecated and will be removed from pandas in a future version. Use pandas.concat instead.\n",
      "  df = df.append(datarow, ignore_index=True)\n"
     ]
    },
    {
     "name": "stdout",
     "output_type": "stream",
     "text": [
      "Wednesdays from 7 p.m. to 9 p.m.2121 Tuttle Park PlaceColumbus, OH 43210\n",
      "TEST\n"
     ]
    },
    {
     "name": "stderr",
     "output_type": "stream",
     "text": [
      "C:\\Users\\lando\\AppData\\Local\\Temp\\ipykernel_34800\\3465631864.py:63: FutureWarning: The frame.append method is deprecated and will be removed from pandas in a future version. Use pandas.concat instead.\n",
      "  df = df.append(datarow, ignore_index=True)\n"
     ]
    },
    {
     "name": "stdout",
     "output_type": "stream",
     "text": [
      "Twice per semesterColumbus, OH 43210\n",
      "TEST\n",
      "Last Friday of every Month from 3-4pmColumbus, OH 43210\n",
      "TEST\n"
     ]
    },
    {
     "name": "stderr",
     "output_type": "stream",
     "text": [
      "C:\\Users\\lando\\AppData\\Local\\Temp\\ipykernel_34800\\3465631864.py:63: FutureWarning: The frame.append method is deprecated and will be removed from pandas in a future version. Use pandas.concat instead.\n",
      "  df = df.append(datarow, ignore_index=True)\n",
      "C:\\Users\\lando\\AppData\\Local\\Temp\\ipykernel_34800\\3465631864.py:63: FutureWarning: The frame.append method is deprecated and will be removed from pandas in a future version. Use pandas.concat instead.\n",
      "  df = df.append(datarow, ignore_index=True)\n"
     ]
    },
    {
     "name": "stdout",
     "output_type": "stream",
     "text": [
      "VariesTBDColumbus, OH 43210\n",
      "TEST\n",
      "Thursdays 6:00pm1059 Graves HallColumbus, OH 43210\n",
      "Thursdays 6:00 pm\n",
      "test\n",
      "TEST\n"
     ]
    },
    {
     "name": "stderr",
     "output_type": "stream",
     "text": [
      "C:\\Users\\lando\\AppData\\Local\\Temp\\ipykernel_34800\\3465631864.py:63: FutureWarning: The frame.append method is deprecated and will be removed from pandas in a future version. Use pandas.concat instead.\n",
      "  df = df.append(datarow, ignore_index=True)\n",
      "C:\\Users\\lando\\AppData\\Local\\Temp\\ipykernel_34800\\3465631864.py:63: FutureWarning: The frame.append method is deprecated and will be removed from pandas in a future version. Use pandas.concat instead.\n",
      "  df = df.append(datarow, ignore_index=True)\n"
     ]
    },
    {
     "name": "stdout",
     "output_type": "stream",
     "text": [
      "Wednesday 6:00 PM1835 Neil Ave, Columbus, OH 43210Columbus, OH 43210\n",
      "Wednesday 6:00 PM\n",
      "test\n",
      "TEST\n",
      "TBATBA per meetingColumbus, OH 43210\n",
      "TEST\n"
     ]
    },
    {
     "name": "stderr",
     "output_type": "stream",
     "text": [
      "C:\\Users\\lando\\AppData\\Local\\Temp\\ipykernel_34800\\3465631864.py:63: FutureWarning: The frame.append method is deprecated and will be removed from pandas in a future version. Use pandas.concat instead.\n",
      "  df = df.append(datarow, ignore_index=True)\n",
      "C:\\Users\\lando\\AppData\\Local\\Temp\\ipykernel_34800\\3465631864.py:63: FutureWarning: The frame.append method is deprecated and will be removed from pandas in a future version. Use pandas.concat instead.\n",
      "  df = df.append(datarow, ignore_index=True)\n"
     ]
    },
    {
     "name": "stdout",
     "output_type": "stream",
     "text": [
      "Wednesdays at 6:30 p.m.Columbus, OH 43210\n",
      "Wednesdays 6:30 None\n",
      "test\n",
      "TEST\n",
      "Tuesday, 8:00337 Annie and John Glenn AveColumbus, OH 43210\n",
      "Tuesday 8:00 None\n",
      "test\n",
      "TEST\n"
     ]
    },
    {
     "name": "stderr",
     "output_type": "stream",
     "text": [
      "C:\\Users\\lando\\AppData\\Local\\Temp\\ipykernel_34800\\3465631864.py:63: FutureWarning: The frame.append method is deprecated and will be removed from pandas in a future version. Use pandas.concat instead.\n",
      "  df = df.append(datarow, ignore_index=True)\n",
      "C:\\Users\\lando\\AppData\\Local\\Temp\\ipykernel_34800\\3465631864.py:63: FutureWarning: The frame.append method is deprecated and will be removed from pandas in a future version. Use pandas.concat instead.\n",
      "  df = df.append(datarow, ignore_index=True)\n"
     ]
    },
    {
     "name": "stdout",
     "output_type": "stream",
     "text": [
      "Fridays at 4:00pm1775 College Rd Columbus, OH 4321Columbus, OH 43210\n",
      "Fridays 4:00 pm\n",
      "test\n",
      "TEST\n",
      "Every other Wed at 6:00pm EST beginning Sept 15th1739 North High StreetColumbus, OH 43210\n",
      "Wed 6:00 pm\n",
      "test\n",
      "TEST\n"
     ]
    },
    {
     "name": "stderr",
     "output_type": "stream",
     "text": [
      "C:\\Users\\lando\\AppData\\Local\\Temp\\ipykernel_34800\\3465631864.py:63: FutureWarning: The frame.append method is deprecated and will be removed from pandas in a future version. Use pandas.concat instead.\n",
      "  df = df.append(datarow, ignore_index=True)\n",
      "C:\\Users\\lando\\AppData\\Local\\Temp\\ipykernel_34800\\3465631864.py:63: FutureWarning: The frame.append method is deprecated and will be removed from pandas in a future version. Use pandas.concat instead.\n",
      "  df = df.append(datarow, ignore_index=True)\n"
     ]
    },
    {
     "name": "stdout",
     "output_type": "stream",
     "text": [
      "Every other Thursday at 6:00 pm2029 Fyffe Rd, Columbus, OH 43210Columbus, OH 43210\n",
      "Thursday 6:00 pm\n",
      "test\n",
      "TEST\n",
      "Tuesday at 9 pm.124 W Woodruff Ave.Columbus, OH 43210\n",
      "Tuesday 9 pm\n",
      "test\n",
      "TEST\n"
     ]
    },
    {
     "name": "stderr",
     "output_type": "stream",
     "text": [
      "C:\\Users\\lando\\AppData\\Local\\Temp\\ipykernel_34800\\3465631864.py:63: FutureWarning: The frame.append method is deprecated and will be removed from pandas in a future version. Use pandas.concat instead.\n",
      "  df = df.append(datarow, ignore_index=True)\n",
      "C:\\Users\\lando\\AppData\\Local\\Temp\\ipykernel_34800\\3465631864.py:63: FutureWarning: The frame.append method is deprecated and will be removed from pandas in a future version. Use pandas.concat instead.\n",
      "  df = df.append(datarow, ignore_index=True)\n"
     ]
    },
    {
     "name": "stdout",
     "output_type": "stream",
     "text": [
      "Thursday 5:30-6:30Columbus, OH 43210\n",
      "Thursday 5:30 None\n",
      "test\n",
      "TEST\n",
      "Tuesdays at 7PM & Thursdays at 7:30PMColumbus, OH 43210\n",
      "Tuesdays 7 PM\n",
      "test\n",
      "TEST\n"
     ]
    },
    {
     "name": "stderr",
     "output_type": "stream",
     "text": [
      "C:\\Users\\lando\\AppData\\Local\\Temp\\ipykernel_34800\\3465631864.py:63: FutureWarning: The frame.append method is deprecated and will be removed from pandas in a future version. Use pandas.concat instead.\n",
      "  df = df.append(datarow, ignore_index=True)\n",
      "C:\\Users\\lando\\AppData\\Local\\Temp\\ipykernel_34800\\3465631864.py:63: FutureWarning: The frame.append method is deprecated and will be removed from pandas in a future version. Use pandas.concat instead.\n",
      "  df = df.append(datarow, ignore_index=True)\n"
     ]
    },
    {
     "name": "stdout",
     "output_type": "stream",
     "text": [
      "Mondays at 6:00 pm (Biweekly)230 N Oval Mall, Columbus, OH 43210Columbus, OH 43210\n",
      "Mondays 6:00 pm\n",
      "test\n",
      "TEST\n",
      "Tuesdays090 Science and Engineering Library175 W. 18thColumbus, OH 43210\n",
      "Tuesdays 090 None\n",
      "test\n",
      "TEST\n"
     ]
    },
    {
     "name": "stderr",
     "output_type": "stream",
     "text": [
      "C:\\Users\\lando\\AppData\\Local\\Temp\\ipykernel_34800\\3465631864.py:63: FutureWarning: The frame.append method is deprecated and will be removed from pandas in a future version. Use pandas.concat instead.\n",
      "  df = df.append(datarow, ignore_index=True)\n",
      "C:\\Users\\lando\\AppData\\Local\\Temp\\ipykernel_34800\\3465631864.py:63: FutureWarning: The frame.append method is deprecated and will be removed from pandas in a future version. Use pandas.concat instead.\n",
      "  df = df.append(datarow, ignore_index=True)\n"
     ]
    },
    {
     "name": "stdout",
     "output_type": "stream",
     "text": [
      "2nd Wednesday of every month, 5-6:30PM410 W 10TH AVEColumbus, OH 43210\n",
      "W 10 None\n",
      "test\n",
      "TEST\n",
      "Biweekly on Wednesdays (Start Date: August 31st)305 W. 12th AvenueColumbus, OH 43210\n",
      "W 12 None\n",
      "test\n",
      "TEST\n"
     ]
    },
    {
     "name": "stderr",
     "output_type": "stream",
     "text": [
      "C:\\Users\\lando\\AppData\\Local\\Temp\\ipykernel_34800\\3465631864.py:63: FutureWarning: The frame.append method is deprecated and will be removed from pandas in a future version. Use pandas.concat instead.\n",
      "  df = df.append(datarow, ignore_index=True)\n",
      "C:\\Users\\lando\\AppData\\Local\\Temp\\ipykernel_34800\\3465631864.py:63: FutureWarning: The frame.append method is deprecated and will be removed from pandas in a future version. Use pandas.concat instead.\n",
      "  df = df.append(datarow, ignore_index=True)\n"
     ]
    },
    {
     "name": "stdout",
     "output_type": "stream",
     "text": [
      "Columbus, OH 43210\n",
      "TEST\n",
      "Biweekly Wednesdays @ 6:00 PM1787 Neil Ave, Columbus, OH 43210Columbus, OH 43210\n",
      "Wednesdays 6:00 PM\n",
      "test\n",
      "TEST\n"
     ]
    },
    {
     "name": "stderr",
     "output_type": "stream",
     "text": [
      "C:\\Users\\lando\\AppData\\Local\\Temp\\ipykernel_34800\\3465631864.py:63: FutureWarning: The frame.append method is deprecated and will be removed from pandas in a future version. Use pandas.concat instead.\n",
      "  df = df.append(datarow, ignore_index=True)\n",
      "C:\\Users\\lando\\AppData\\Local\\Temp\\ipykernel_34800\\3465631864.py:63: FutureWarning: The frame.append method is deprecated and will be removed from pandas in a future version. Use pandas.concat instead.\n",
      "  df = df.append(datarow, ignore_index=True)\n"
     ]
    },
    {
     "name": "stdout",
     "output_type": "stream",
     "text": [
      "Biweekly: Tuesday at 6pm338 W 10th AveColumbus, OH 43210\n",
      "Tuesday 6 pm\n",
      "test\n",
      "TEST\n",
      "Mondays 7-8 pmColumbus, OH 43210\n",
      "Mondays 7 None\n",
      "test\n",
      "TEST\n"
     ]
    },
    {
     "name": "stderr",
     "output_type": "stream",
     "text": [
      "C:\\Users\\lando\\AppData\\Local\\Temp\\ipykernel_34800\\3465631864.py:63: FutureWarning: The frame.append method is deprecated and will be removed from pandas in a future version. Use pandas.concat instead.\n",
      "  df = df.append(datarow, ignore_index=True)\n",
      "C:\\Users\\lando\\AppData\\Local\\Temp\\ipykernel_34800\\3465631864.py:63: FutureWarning: The frame.append method is deprecated and will be removed from pandas in a future version. Use pandas.concat instead.\n",
      "  df = df.append(datarow, ignore_index=True)\n"
     ]
    },
    {
     "name": "stdout",
     "output_type": "stream",
     "text": [
      "Every other Wednesday at 7:00 p.m.601 Vernon L. Tharp StreetColumbus, OH 43210Columbus, OH 43210\n",
      "Wednesday 7:00 None\n",
      "test\n",
      "TEST\n"
     ]
    },
    {
     "name": "stderr",
     "output_type": "stream",
     "text": [
      "C:\\Users\\lando\\AppData\\Local\\Temp\\ipykernel_34800\\3465631864.py:63: FutureWarning: The frame.append method is deprecated and will be removed from pandas in a future version. Use pandas.concat instead.\n",
      "  df = df.append(datarow, ignore_index=True)\n"
     ]
    },
    {
     "name": "stdout",
     "output_type": "stream",
     "text": [
      "Tuesdays 8:30-9:30337 Annie and John Glenn Ave, Columbus, OH 43210Columbus, OH 43210\n",
      "Tuesdays 8:30 None\n",
      "test\n",
      "TEST\n",
      "Columbus, OH 43210\n",
      "TEST\n"
     ]
    },
    {
     "name": "stderr",
     "output_type": "stream",
     "text": [
      "C:\\Users\\lando\\AppData\\Local\\Temp\\ipykernel_34800\\3465631864.py:63: FutureWarning: The frame.append method is deprecated and will be removed from pandas in a future version. Use pandas.concat instead.\n",
      "  df = df.append(datarow, ignore_index=True)\n",
      "C:\\Users\\lando\\AppData\\Local\\Temp\\ipykernel_34800\\3465631864.py:63: FutureWarning: The frame.append method is deprecated and will be removed from pandas in a future version. Use pandas.concat instead.\n",
      "  df = df.append(datarow, ignore_index=True)\n"
     ]
    },
    {
     "name": "stdout",
     "output_type": "stream",
     "text": [
      "1st and 3rd Monday of each month, 6 PM1739 N High StColumbus, OH 43210\n",
      "TEST\n",
      "Every other Monday at 2:00174 W. 18th StreetColumbus, OH 43210\n",
      "Monday 2:00 None\n",
      "test\n",
      "TEST\n"
     ]
    },
    {
     "name": "stderr",
     "output_type": "stream",
     "text": [
      "C:\\Users\\lando\\AppData\\Local\\Temp\\ipykernel_34800\\3465631864.py:63: FutureWarning: The frame.append method is deprecated and will be removed from pandas in a future version. Use pandas.concat instead.\n",
      "  df = df.append(datarow, ignore_index=True)\n",
      "C:\\Users\\lando\\AppData\\Local\\Temp\\ipykernel_34800\\3465631864.py:63: FutureWarning: The frame.append method is deprecated and will be removed from pandas in a future version. Use pandas.concat instead.\n",
      "  df = df.append(datarow, ignore_index=True)\n"
     ]
    },
    {
     "name": "stdout",
     "output_type": "stream",
     "text": [
      "Announcements made via TWEN e-mails & Facebook55 West 12th AvenueColumbus, OH 43210\n",
      "TEST\n",
      "First Thursday of the Month at 11:30am2001 Fyffe Ct.Columbus, OH 43210\n",
      "TEST\n"
     ]
    },
    {
     "name": "stderr",
     "output_type": "stream",
     "text": [
      "C:\\Users\\lando\\AppData\\Local\\Temp\\ipykernel_34800\\3465631864.py:63: FutureWarning: The frame.append method is deprecated and will be removed from pandas in a future version. Use pandas.concat instead.\n",
      "  df = df.append(datarow, ignore_index=True)\n",
      "C:\\Users\\lando\\AppData\\Local\\Temp\\ipykernel_34800\\3465631864.py:63: FutureWarning: The frame.append method is deprecated and will be removed from pandas in a future version. Use pandas.concat instead.\n",
      "  df = df.append(datarow, ignore_index=True)\n"
     ]
    },
    {
     "name": "stdout",
     "output_type": "stream",
     "text": [
      "Tuesdays once a month at 7:302060 NEIL AVENUEColumbus, OH 43210\n",
      "TEST\n",
      "Columbus, OH 43210\n",
      "TEST\n"
     ]
    },
    {
     "name": "stderr",
     "output_type": "stream",
     "text": [
      "C:\\Users\\lando\\AppData\\Local\\Temp\\ipykernel_34800\\3465631864.py:63: FutureWarning: The frame.append method is deprecated and will be removed from pandas in a future version. Use pandas.concat instead.\n",
      "  df = df.append(datarow, ignore_index=True)\n",
      "C:\\Users\\lando\\AppData\\Local\\Temp\\ipykernel_34800\\3465631864.py:63: FutureWarning: The frame.append method is deprecated and will be removed from pandas in a future version. Use pandas.concat instead.\n",
      "  df = df.append(datarow, ignore_index=True)\n"
     ]
    },
    {
     "name": "stdout",
     "output_type": "stream",
     "text": [
      "Tuesday 7:30PM - 8:30PM [Bi-weekly]1739 N High streetColumbus, OH 43210\n",
      "Tuesday 7:30 PM\n",
      "test\n",
      "TEST\n",
      "Tuesday 7:00 pmColumbus, OH 43210\n",
      "Tuesday 7:00 pm\n",
      "test\n",
      "TEST\n"
     ]
    },
    {
     "name": "stderr",
     "output_type": "stream",
     "text": [
      "C:\\Users\\lando\\AppData\\Local\\Temp\\ipykernel_34800\\3465631864.py:63: FutureWarning: The frame.append method is deprecated and will be removed from pandas in a future version. Use pandas.concat instead.\n",
      "  df = df.append(datarow, ignore_index=True)\n",
      "C:\\Users\\lando\\AppData\\Local\\Temp\\ipykernel_34800\\3465631864.py:63: FutureWarning: The frame.append method is deprecated and will be removed from pandas in a future version. Use pandas.concat instead.\n",
      "  df = df.append(datarow, ignore_index=True)\n"
     ]
    },
    {
     "name": "stdout",
     "output_type": "stream",
     "text": [
      "TBAColumbus, OH 43210\n",
      "TEST\n",
      "Biweekly on Tuesdays at 7:00 PMColumbus, OH 43210\n",
      "Tuesdays 7:00 PM\n",
      "test\n",
      "TEST\n"
     ]
    },
    {
     "name": "stderr",
     "output_type": "stream",
     "text": [
      "C:\\Users\\lando\\AppData\\Local\\Temp\\ipykernel_34800\\3465631864.py:63: FutureWarning: The frame.append method is deprecated and will be removed from pandas in a future version. Use pandas.concat instead.\n",
      "  df = df.append(datarow, ignore_index=True)\n",
      "C:\\Users\\lando\\AppData\\Local\\Temp\\ipykernel_34800\\3465631864.py:63: FutureWarning: The frame.append method is deprecated and will be removed from pandas in a future version. Use pandas.concat instead.\n",
      "  df = df.append(datarow, ignore_index=True)\n"
     ]
    },
    {
     "name": "stdout",
     "output_type": "stream",
     "text": [
      "Columbus, OH 43210\n",
      "TEST\n"
     ]
    },
    {
     "name": "stderr",
     "output_type": "stream",
     "text": [
      "C:\\Users\\lando\\AppData\\Local\\Temp\\ipykernel_34800\\3465631864.py:63: FutureWarning: The frame.append method is deprecated and will be removed from pandas in a future version. Use pandas.concat instead.\n",
      "  df = df.append(datarow, ignore_index=True)\n"
     ]
    },
    {
     "name": "stdout",
     "output_type": "stream",
     "text": [
      "Columbus, OH 43210\n",
      "TEST\n",
      "TBDTBDColumbus, OH 43210\n",
      "TEST\n"
     ]
    },
    {
     "name": "stderr",
     "output_type": "stream",
     "text": [
      "C:\\Users\\lando\\AppData\\Local\\Temp\\ipykernel_34800\\3465631864.py:63: FutureWarning: The frame.append method is deprecated and will be removed from pandas in a future version. Use pandas.concat instead.\n",
      "  df = df.append(datarow, ignore_index=True)\n",
      "C:\\Users\\lando\\AppData\\Local\\Temp\\ipykernel_34800\\3465631864.py:63: FutureWarning: The frame.append method is deprecated and will be removed from pandas in a future version. Use pandas.concat instead.\n",
      "  df = df.append(datarow, ignore_index=True)\n"
     ]
    },
    {
     "name": "stdout",
     "output_type": "stream",
     "text": [
      "First Thursday of the Semester @ 11:30am305 W. 12th AveColumbus, OH 43210\n",
      "W 12 None\n",
      "test\n",
      "TEST\n",
      "Sunday 2-3 pmColumbus, OH 43210\n",
      "Sunday 2 None\n",
      "test\n",
      "TEST\n"
     ]
    },
    {
     "name": "stderr",
     "output_type": "stream",
     "text": [
      "C:\\Users\\lando\\AppData\\Local\\Temp\\ipykernel_34800\\3465631864.py:63: FutureWarning: The frame.append method is deprecated and will be removed from pandas in a future version. Use pandas.concat instead.\n",
      "  df = df.append(datarow, ignore_index=True)\n",
      "C:\\Users\\lando\\AppData\\Local\\Temp\\ipykernel_34800\\3465631864.py:63: FutureWarning: The frame.append method is deprecated and will be removed from pandas in a future version. Use pandas.concat instead.\n",
      "  df = df.append(datarow, ignore_index=True)\n"
     ]
    },
    {
     "name": "stdout",
     "output_type": "stream",
     "text": [
      "TBAGraves Hall (333 W 10th Ave)Columbus, OH 43210\n",
      "W 10 None\n",
      "test\n",
      "TEST\n",
      "Tuesdays, 6:30 PMEnarson Hall2009 Millikin Rd Columbus, OH 43210Columbus, OH 43210\n",
      "Tuesdays 6:30 PM\n",
      "test\n",
      "TEST\n"
     ]
    },
    {
     "name": "stderr",
     "output_type": "stream",
     "text": [
      "C:\\Users\\lando\\AppData\\Local\\Temp\\ipykernel_34800\\3465631864.py:63: FutureWarning: The frame.append method is deprecated and will be removed from pandas in a future version. Use pandas.concat instead.\n",
      "  df = df.append(datarow, ignore_index=True)\n",
      "C:\\Users\\lando\\AppData\\Local\\Temp\\ipykernel_34800\\3465631864.py:63: FutureWarning: The frame.append method is deprecated and will be removed from pandas in a future version. Use pandas.concat instead.\n",
      "  df = df.append(datarow, ignore_index=True)\n"
     ]
    },
    {
     "name": "stdout",
     "output_type": "stream",
     "text": [
      "MonthlyColumbus, OH 43210\n",
      "TEST\n",
      "Once per month, TBD1835 Neil AveColumbus, OH 43210\n",
      "TEST\n"
     ]
    },
    {
     "name": "stderr",
     "output_type": "stream",
     "text": [
      "C:\\Users\\lando\\AppData\\Local\\Temp\\ipykernel_34800\\3465631864.py:63: FutureWarning: The frame.append method is deprecated and will be removed from pandas in a future version. Use pandas.concat instead.\n",
      "  df = df.append(datarow, ignore_index=True)\n",
      "C:\\Users\\lando\\AppData\\Local\\Temp\\ipykernel_34800\\3465631864.py:63: FutureWarning: The frame.append method is deprecated and will be removed from pandas in a future version. Use pandas.concat instead.\n",
      "  df = df.append(datarow, ignore_index=True)\n"
     ]
    },
    {
     "name": "stdout",
     "output_type": "stream",
     "text": [
      "Announced via PAMSO Communications1810 College Road, Columbus, OH 432101st FloorColumbus, OH 43210\n",
      "TEST\n",
      "Columbus, OH 43210\n",
      "TEST\n"
     ]
    },
    {
     "name": "stderr",
     "output_type": "stream",
     "text": [
      "C:\\Users\\lando\\AppData\\Local\\Temp\\ipykernel_34800\\3465631864.py:63: FutureWarning: The frame.append method is deprecated and will be removed from pandas in a future version. Use pandas.concat instead.\n",
      "  df = df.append(datarow, ignore_index=True)\n",
      "C:\\Users\\lando\\AppData\\Local\\Temp\\ipykernel_34800\\3465631864.py:63: FutureWarning: The frame.append method is deprecated and will be removed from pandas in a future version. Use pandas.concat instead.\n",
      "  df = df.append(datarow, ignore_index=True)\n"
     ]
    },
    {
     "name": "stdout",
     "output_type": "stream",
     "text": [
      "Every 4th Thursday at 5:30 pm1841 Neil AveColumbus, OH 43210\n",
      "Thursday 5:30 pm\n",
      "test\n",
      "TEST\n",
      "Biweekly Thursdays 6-7pm1841 Neil AveColumbus, OH 43210Columbus, OH 43210\n",
      "Thursdays 6 None\n",
      "test\n",
      "TEST\n"
     ]
    },
    {
     "name": "stderr",
     "output_type": "stream",
     "text": [
      "C:\\Users\\lando\\AppData\\Local\\Temp\\ipykernel_34800\\3465631864.py:63: FutureWarning: The frame.append method is deprecated and will be removed from pandas in a future version. Use pandas.concat instead.\n",
      "  df = df.append(datarow, ignore_index=True)\n",
      "C:\\Users\\lando\\AppData\\Local\\Temp\\ipykernel_34800\\3465631864.py:63: FutureWarning: The frame.append method is deprecated and will be removed from pandas in a future version. Use pandas.concat instead.\n",
      "  df = df.append(datarow, ignore_index=True)\n"
     ]
    },
    {
     "name": "stdout",
     "output_type": "stream",
     "text": [
      "Once a month, date TBD55 W. 12th AvenueColumbus, OH 43210\n",
      "W 12 None\n",
      "test\n",
      "TEST\n",
      "Wednesdays at 6 p.m. 140 W 19th Ave Building 151Columbus, OH 43210\n",
      "Wednesdays 6 None\n",
      "test\n",
      "TEST\n"
     ]
    },
    {
     "name": "stderr",
     "output_type": "stream",
     "text": [
      "C:\\Users\\lando\\AppData\\Local\\Temp\\ipykernel_34800\\3465631864.py:63: FutureWarning: The frame.append method is deprecated and will be removed from pandas in a future version. Use pandas.concat instead.\n",
      "  df = df.append(datarow, ignore_index=True)\n",
      "C:\\Users\\lando\\AppData\\Local\\Temp\\ipykernel_34800\\3465631864.py:63: FutureWarning: The frame.append method is deprecated and will be removed from pandas in a future version. Use pandas.concat instead.\n",
      "  df = df.append(datarow, ignore_index=True)\n"
     ]
    },
    {
     "name": "stdout",
     "output_type": "stream",
     "text": [
      "Two to Three times a Month Columbus, OH 43210\n",
      "TEST\n",
      "N/A1739 N. High StreetColumbus, OH 43210\n",
      "TEST\n"
     ]
    },
    {
     "name": "stderr",
     "output_type": "stream",
     "text": [
      "C:\\Users\\lando\\AppData\\Local\\Temp\\ipykernel_34800\\3465631864.py:63: FutureWarning: The frame.append method is deprecated and will be removed from pandas in a future version. Use pandas.concat instead.\n",
      "  df = df.append(datarow, ignore_index=True)\n",
      "C:\\Users\\lando\\AppData\\Local\\Temp\\ipykernel_34800\\3465631864.py:63: FutureWarning: The frame.append method is deprecated and will be removed from pandas in a future version. Use pandas.concat instead.\n",
      "  df = df.append(datarow, ignore_index=True)\n"
     ]
    },
    {
     "name": "stdout",
     "output_type": "stream",
     "text": [
      "Every Other Tuesday at 7:00pm; TBD Schoenbaum HallColumbus, OH 43210\n",
      "Tuesday 7:00 pm\n",
      "test\n",
      "TEST\n",
      "Twice a month2009 Millikin RoadColumbus, OH 43210\n",
      "TEST\n"
     ]
    },
    {
     "name": "stderr",
     "output_type": "stream",
     "text": [
      "C:\\Users\\lando\\AppData\\Local\\Temp\\ipykernel_34800\\3465631864.py:63: FutureWarning: The frame.append method is deprecated and will be removed from pandas in a future version. Use pandas.concat instead.\n",
      "  df = df.append(datarow, ignore_index=True)\n",
      "C:\\Users\\lando\\AppData\\Local\\Temp\\ipykernel_34800\\3465631864.py:63: FutureWarning: The frame.append method is deprecated and will be removed from pandas in a future version. Use pandas.concat instead.\n",
      "  df = df.append(datarow, ignore_index=True)\n"
     ]
    },
    {
     "name": "stdout",
     "output_type": "stream",
     "text": [
      "Columbus, OH 43210\n",
      "TEST\n",
      "Mondays & 12:30pm to 1:30 pmColumbus, OH 43210\n",
      "TEST\n"
     ]
    },
    {
     "name": "stderr",
     "output_type": "stream",
     "text": [
      "C:\\Users\\lando\\AppData\\Local\\Temp\\ipykernel_34800\\3465631864.py:63: FutureWarning: The frame.append method is deprecated and will be removed from pandas in a future version. Use pandas.concat instead.\n",
      "  df = df.append(datarow, ignore_index=True)\n",
      "C:\\Users\\lando\\AppData\\Local\\Temp\\ipykernel_34800\\3465631864.py:63: FutureWarning: The frame.append method is deprecated and will be removed from pandas in a future version. Use pandas.concat instead.\n",
      "  df = df.append(datarow, ignore_index=True)\n"
     ]
    },
    {
     "name": "stdout",
     "output_type": "stream",
     "text": [
      "monthly as needed29 W Woodruff AveColumbus, OH 43210\n",
      "TEST\n",
      "Tuesdays 6:00 PM and Thursdays 5:00 PM590 Woody Hayes DrColumbus, OH 43210\n",
      "Tuesdays 6:00 PM\n",
      "test\n",
      "TEST\n"
     ]
    },
    {
     "name": "stderr",
     "output_type": "stream",
     "text": [
      "C:\\Users\\lando\\AppData\\Local\\Temp\\ipykernel_34800\\3465631864.py:63: FutureWarning: The frame.append method is deprecated and will be removed from pandas in a future version. Use pandas.concat instead.\n",
      "  df = df.append(datarow, ignore_index=True)\n",
      "C:\\Users\\lando\\AppData\\Local\\Temp\\ipykernel_34800\\3465631864.py:63: FutureWarning: The frame.append method is deprecated and will be removed from pandas in a future version. Use pandas.concat instead.\n",
      "  df = df.append(datarow, ignore_index=True)\n"
     ]
    },
    {
     "name": "stdout",
     "output_type": "stream",
     "text": [
      "Fridays 4:301739 N. High Street Columbus, OH 43210Columbus, OH 43210\n",
      "Fridays 4:30 None\n",
      "test\n",
      "TEST\n",
      "TBDColumbus, OH 43210\n",
      "TEST\n"
     ]
    },
    {
     "name": "stderr",
     "output_type": "stream",
     "text": [
      "C:\\Users\\lando\\AppData\\Local\\Temp\\ipykernel_34800\\3465631864.py:63: FutureWarning: The frame.append method is deprecated and will be removed from pandas in a future version. Use pandas.concat instead.\n",
      "  df = df.append(datarow, ignore_index=True)\n",
      "C:\\Users\\lando\\AppData\\Local\\Temp\\ipykernel_34800\\3465631864.py:63: FutureWarning: The frame.append method is deprecated and will be removed from pandas in a future version. Use pandas.concat instead.\n",
      "  df = df.append(datarow, ignore_index=True)\n"
     ]
    },
    {
     "name": "stdout",
     "output_type": "stream",
     "text": [
      "Evenings -  3x a Week, 9 pm-midnightColumbus, OH 43210\n",
      "TEST\n",
      "Monday @ 9:00 PMColumbus, OH 43210\n",
      "Monday 9:00 PM\n",
      "test\n",
      "TEST\n"
     ]
    },
    {
     "name": "stderr",
     "output_type": "stream",
     "text": [
      "C:\\Users\\lando\\AppData\\Local\\Temp\\ipykernel_34800\\3465631864.py:63: FutureWarning: The frame.append method is deprecated and will be removed from pandas in a future version. Use pandas.concat instead.\n",
      "  df = df.append(datarow, ignore_index=True)\n",
      "C:\\Users\\lando\\AppData\\Local\\Temp\\ipykernel_34800\\3465631864.py:63: FutureWarning: The frame.append method is deprecated and will be removed from pandas in a future version. Use pandas.concat instead.\n",
      "  df = df.append(datarow, ignore_index=True)\n"
     ]
    },
    {
     "name": "stdout",
     "output_type": "stream",
     "text": [
      "Columbus, OH 43210\n",
      "TEST\n",
      "TBAThompson Library 204Columbus, OH 43210\n",
      "TEST\n"
     ]
    },
    {
     "name": "stderr",
     "output_type": "stream",
     "text": [
      "C:\\Users\\lando\\AppData\\Local\\Temp\\ipykernel_34800\\3465631864.py:63: FutureWarning: The frame.append method is deprecated and will be removed from pandas in a future version. Use pandas.concat instead.\n",
      "  df = df.append(datarow, ignore_index=True)\n",
      "C:\\Users\\lando\\AppData\\Local\\Temp\\ipykernel_34800\\3465631864.py:63: FutureWarning: The frame.append method is deprecated and will be removed from pandas in a future version. Use pandas.concat instead.\n",
      "  df = df.append(datarow, ignore_index=True)\n"
     ]
    },
    {
     "name": "stdout",
     "output_type": "stream",
     "text": [
      "Sundays around noonColumbus, OH 43210\n",
      "TEST\n",
      "Mondays at 6:00PM2115 North High StreetColumbus, OH 43210\n",
      "Mondays 6:00 PM\n",
      "test\n",
      "TEST\n"
     ]
    },
    {
     "name": "stderr",
     "output_type": "stream",
     "text": [
      "C:\\Users\\lando\\AppData\\Local\\Temp\\ipykernel_34800\\3465631864.py:63: FutureWarning: The frame.append method is deprecated and will be removed from pandas in a future version. Use pandas.concat instead.\n",
      "  df = df.append(datarow, ignore_index=True)\n",
      "C:\\Users\\lando\\AppData\\Local\\Temp\\ipykernel_34800\\3465631864.py:63: FutureWarning: The frame.append method is deprecated and will be removed from pandas in a future version. Use pandas.concat instead.\n",
      "  df = df.append(datarow, ignore_index=True)\n"
     ]
    },
    {
     "name": "stdout",
     "output_type": "stream",
     "text": [
      "Tues, 7:30 PMColumbus, OH 43210\n",
      "Tues 7:30 PM\n",
      "test\n",
      "TEST\n",
      "Friday333 W 10th Ave, Columbus, OH 43210Columbus, OH 43210\n",
      "Friday 333 None\n",
      "test\n",
      "TEST\n"
     ]
    },
    {
     "name": "stderr",
     "output_type": "stream",
     "text": [
      "C:\\Users\\lando\\AppData\\Local\\Temp\\ipykernel_34800\\3465631864.py:63: FutureWarning: The frame.append method is deprecated and will be removed from pandas in a future version. Use pandas.concat instead.\n",
      "  df = df.append(datarow, ignore_index=True)\n",
      "C:\\Users\\lando\\AppData\\Local\\Temp\\ipykernel_34800\\3465631864.py:63: FutureWarning: The frame.append method is deprecated and will be removed from pandas in a future version. Use pandas.concat instead.\n",
      "  df = df.append(datarow, ignore_index=True)\n"
     ]
    },
    {
     "name": "stdout",
     "output_type": "stream",
     "text": [
      "As Scheduled55 W 12th AvenueColumbus, OH 43210\n",
      "W 12 None\n",
      "test\n",
      "TEST\n",
      "Columbus, OH 43210\n",
      "TEST\n"
     ]
    },
    {
     "name": "stderr",
     "output_type": "stream",
     "text": [
      "C:\\Users\\lando\\AppData\\Local\\Temp\\ipykernel_34800\\3465631864.py:63: FutureWarning: The frame.append method is deprecated and will be removed from pandas in a future version. Use pandas.concat instead.\n",
      "  df = df.append(datarow, ignore_index=True)\n",
      "C:\\Users\\lando\\AppData\\Local\\Temp\\ipykernel_34800\\3465631864.py:63: FutureWarning: The frame.append method is deprecated and will be removed from pandas in a future version. Use pandas.concat instead.\n",
      "  df = df.append(datarow, ignore_index=True)\n"
     ]
    },
    {
     "name": "stdout",
     "output_type": "stream",
     "text": [
      "Columbus, OH 43210\n",
      "TEST\n",
      "Not Listed\n",
      "TEST\n"
     ]
    },
    {
     "name": "stderr",
     "output_type": "stream",
     "text": [
      "C:\\Users\\lando\\AppData\\Local\\Temp\\ipykernel_34800\\3465631864.py:63: FutureWarning: The frame.append method is deprecated and will be removed from pandas in a future version. Use pandas.concat instead.\n",
      "  df = df.append(datarow, ignore_index=True)\n",
      "C:\\Users\\lando\\AppData\\Local\\Temp\\ipykernel_34800\\3465631864.py:63: FutureWarning: The frame.append method is deprecated and will be removed from pandas in a future version. Use pandas.concat instead.\n",
      "  df = df.append(datarow, ignore_index=True)\n"
     ]
    },
    {
     "name": "stdout",
     "output_type": "stream",
     "text": [
      "Mondays at 8:00pm1640 Neil Ave Columbus, OH 43201Columbus, OH 43210\n",
      "Mondays 8:00 pm\n",
      "test\n",
      "TEST\n",
      "Thursdays 7-8pm1787 Neil Ave, Columbus Ohio, 43210Columbus, OH 43210\n",
      "Thursdays 7 None\n",
      "test\n",
      "TEST\n"
     ]
    },
    {
     "name": "stderr",
     "output_type": "stream",
     "text": [
      "C:\\Users\\lando\\AppData\\Local\\Temp\\ipykernel_34800\\3465631864.py:63: FutureWarning: The frame.append method is deprecated and will be removed from pandas in a future version. Use pandas.concat instead.\n",
      "  df = df.append(datarow, ignore_index=True)\n",
      "C:\\Users\\lando\\AppData\\Local\\Temp\\ipykernel_34800\\3465631864.py:63: FutureWarning: The frame.append method is deprecated and will be removed from pandas in a future version. Use pandas.concat instead.\n",
      "  df = df.append(datarow, ignore_index=True)\n"
     ]
    },
    {
     "name": "stdout",
     "output_type": "stream",
     "text": [
      "Sunday @ 5 pmColumbus, OH 43210\n",
      "Sunday 5 pm\n",
      "test\n",
      "TEST\n",
      "Columbus, OH 43210\n",
      "TEST\n"
     ]
    },
    {
     "name": "stderr",
     "output_type": "stream",
     "text": [
      "C:\\Users\\lando\\AppData\\Local\\Temp\\ipykernel_34800\\3465631864.py:63: FutureWarning: The frame.append method is deprecated and will be removed from pandas in a future version. Use pandas.concat instead.\n",
      "  df = df.append(datarow, ignore_index=True)\n",
      "C:\\Users\\lando\\AppData\\Local\\Temp\\ipykernel_34800\\3465631864.py:63: FutureWarning: The frame.append method is deprecated and will be removed from pandas in a future version. Use pandas.concat instead.\n",
      "  df = df.append(datarow, ignore_index=True)\n"
     ]
    },
    {
     "name": "stdout",
     "output_type": "stream",
     "text": [
      "Monday at 6:00 pm1739 N. High StreetColumbus, OH 43210\n",
      "Monday 6:00 pm\n",
      "test\n",
      "TEST\n",
      "As needed333 West 10th Ave.Columbus, OH 43210\n",
      "TEST\n"
     ]
    },
    {
     "name": "stderr",
     "output_type": "stream",
     "text": [
      "C:\\Users\\lando\\AppData\\Local\\Temp\\ipykernel_34800\\3465631864.py:63: FutureWarning: The frame.append method is deprecated and will be removed from pandas in a future version. Use pandas.concat instead.\n",
      "  df = df.append(datarow, ignore_index=True)\n",
      "C:\\Users\\lando\\AppData\\Local\\Temp\\ipykernel_34800\\3465631864.py:63: FutureWarning: The frame.append method is deprecated and will be removed from pandas in a future version. Use pandas.concat instead.\n",
      "  df = df.append(datarow, ignore_index=True)\n"
     ]
    },
    {
     "name": "stdout",
     "output_type": "stream",
     "text": [
      "Tuesdays at 7:00PM33 W. Lane AveColumbus, OH 43210Columbus, OH 43210\n",
      "Tuesdays 7:00 PM\n",
      "test\n",
      "TEST\n",
      "Columbus, OH 43210\n",
      "TEST\n"
     ]
    },
    {
     "name": "stderr",
     "output_type": "stream",
     "text": [
      "C:\\Users\\lando\\AppData\\Local\\Temp\\ipykernel_34800\\3465631864.py:63: FutureWarning: The frame.append method is deprecated and will be removed from pandas in a future version. Use pandas.concat instead.\n",
      "  df = df.append(datarow, ignore_index=True)\n",
      "C:\\Users\\lando\\AppData\\Local\\Temp\\ipykernel_34800\\3465631864.py:63: FutureWarning: The frame.append method is deprecated and will be removed from pandas in a future version. Use pandas.concat instead.\n",
      "  df = df.append(datarow, ignore_index=True)\n"
     ]
    },
    {
     "name": "stdout",
     "output_type": "stream",
     "text": [
      "Meeting time varies500 West 12th AvenueColumbus, OH 43210\n",
      "TEST\n",
      "Mondays, 7:30-9:30 pmColumbus, OH 43210\n",
      "Mondays 7:30 None\n",
      "test\n",
      "TEST\n"
     ]
    },
    {
     "name": "stderr",
     "output_type": "stream",
     "text": [
      "C:\\Users\\lando\\AppData\\Local\\Temp\\ipykernel_34800\\3465631864.py:63: FutureWarning: The frame.append method is deprecated and will be removed from pandas in a future version. Use pandas.concat instead.\n",
      "  df = df.append(datarow, ignore_index=True)\n",
      "C:\\Users\\lando\\AppData\\Local\\Temp\\ipykernel_34800\\3465631864.py:63: FutureWarning: The frame.append method is deprecated and will be removed from pandas in a future version. Use pandas.concat instead.\n",
      "  df = df.append(datarow, ignore_index=True)\n"
     ]
    },
    {
     "name": "stdout",
     "output_type": "stream",
     "text": [
      "TBD370 W 9th AveColumbus, OH 43210\n",
      "W 9 None\n",
      "test\n",
      "TEST\n",
      "Columbus, OH 43210\n",
      "TEST\n"
     ]
    },
    {
     "name": "stderr",
     "output_type": "stream",
     "text": [
      "C:\\Users\\lando\\AppData\\Local\\Temp\\ipykernel_34800\\3465631864.py:63: FutureWarning: The frame.append method is deprecated and will be removed from pandas in a future version. Use pandas.concat instead.\n",
      "  df = df.append(datarow, ignore_index=True)\n",
      "C:\\Users\\lando\\AppData\\Local\\Temp\\ipykernel_34800\\3465631864.py:63: FutureWarning: The frame.append method is deprecated and will be removed from pandas in a future version. Use pandas.concat instead.\n",
      "  df = df.append(datarow, ignore_index=True)\n"
     ]
    },
    {
     "name": "stdout",
     "output_type": "stream",
     "text": [
      "Columbus, OH 43210\n",
      "TEST\n",
      "Columbus, OH 43210\n",
      "TEST\n"
     ]
    },
    {
     "name": "stderr",
     "output_type": "stream",
     "text": [
      "C:\\Users\\lando\\AppData\\Local\\Temp\\ipykernel_34800\\3465631864.py:63: FutureWarning: The frame.append method is deprecated and will be removed from pandas in a future version. Use pandas.concat instead.\n",
      "  df = df.append(datarow, ignore_index=True)\n",
      "C:\\Users\\lando\\AppData\\Local\\Temp\\ipykernel_34800\\3465631864.py:63: FutureWarning: The frame.append method is deprecated and will be removed from pandas in a future version. Use pandas.concat instead.\n",
      "  df = df.append(datarow, ignore_index=True)\n"
     ]
    },
    {
     "name": "stdout",
     "output_type": "stream",
     "text": [
      "as neededn/aColumbus, OH 43210\n",
      "TEST\n",
      "Sundays 3:00Columbus, OH 43210\n",
      "Sundays 3:00 None\n",
      "test\n",
      "TEST\n"
     ]
    },
    {
     "name": "stderr",
     "output_type": "stream",
     "text": [
      "C:\\Users\\lando\\AppData\\Local\\Temp\\ipykernel_34800\\3465631864.py:63: FutureWarning: The frame.append method is deprecated and will be removed from pandas in a future version. Use pandas.concat instead.\n",
      "  df = df.append(datarow, ignore_index=True)\n",
      "C:\\Users\\lando\\AppData\\Local\\Temp\\ipykernel_34800\\3465631864.py:63: FutureWarning: The frame.append method is deprecated and will be removed from pandas in a future version. Use pandas.concat instead.\n",
      "  df = df.append(datarow, ignore_index=True)\n"
     ]
    },
    {
     "name": "stdout",
     "output_type": "stream",
     "text": [
      "Tuesday/Thursdays from 7-9PM, Sundays at 12 PM6513 Kingsmill Ct, Columbus, OH 43229512 Maier Pl, Columbus, OH, 43215Columbus, OH 43210\n",
      "Sundays 12 PM\n",
      "test\n",
      "TEST\n",
      "Every other Thursday at 5:30 PM1787 Neil AveColumbus, OH 43210\n",
      "Thursday 5:30 PM\n",
      "test\n",
      "TEST\n"
     ]
    },
    {
     "name": "stderr",
     "output_type": "stream",
     "text": [
      "C:\\Users\\lando\\AppData\\Local\\Temp\\ipykernel_34800\\3465631864.py:63: FutureWarning: The frame.append method is deprecated and will be removed from pandas in a future version. Use pandas.concat instead.\n",
      "  df = df.append(datarow, ignore_index=True)\n",
      "C:\\Users\\lando\\AppData\\Local\\Temp\\ipykernel_34800\\3465631864.py:63: FutureWarning: The frame.append method is deprecated and will be removed from pandas in a future version. Use pandas.concat instead.\n",
      "  df = df.append(datarow, ignore_index=True)\n"
     ]
    },
    {
     "name": "stdout",
     "output_type": "stream",
     "text": [
      "Wednesday's 7:30pmColumbus, OH 43210\n",
      "TEST\n",
      "Every Monday at 6:00 PMColumbus, OH 43210\n",
      "Monday 6:00 PM\n",
      "test\n",
      "TEST\n"
     ]
    },
    {
     "name": "stderr",
     "output_type": "stream",
     "text": [
      "C:\\Users\\lando\\AppData\\Local\\Temp\\ipykernel_34800\\3465631864.py:63: FutureWarning: The frame.append method is deprecated and will be removed from pandas in a future version. Use pandas.concat instead.\n",
      "  df = df.append(datarow, ignore_index=True)\n",
      "C:\\Users\\lando\\AppData\\Local\\Temp\\ipykernel_34800\\3465631864.py:63: FutureWarning: The frame.append method is deprecated and will be removed from pandas in a future version. Use pandas.concat instead.\n",
      "  df = df.append(datarow, ignore_index=True)\n"
     ]
    },
    {
     "name": "stdout",
     "output_type": "stream",
     "text": [
      "Sundays 5:00-6:00 PMColumbus, OH 43210\n",
      "Sundays 5:00 None\n",
      "test\n",
      "TEST\n",
      "Mondays @ 7:00pm1739 N High StColumbus, OH 43210Columbus, OH 43210\n",
      "Mondays 7:00 pm\n",
      "test\n",
      "TEST\n"
     ]
    },
    {
     "name": "stderr",
     "output_type": "stream",
     "text": [
      "C:\\Users\\lando\\AppData\\Local\\Temp\\ipykernel_34800\\3465631864.py:63: FutureWarning: The frame.append method is deprecated and will be removed from pandas in a future version. Use pandas.concat instead.\n",
      "  df = df.append(datarow, ignore_index=True)\n",
      "C:\\Users\\lando\\AppData\\Local\\Temp\\ipykernel_34800\\3465631864.py:63: FutureWarning: The frame.append method is deprecated and will be removed from pandas in a future version. Use pandas.concat instead.\n",
      "  df = df.append(datarow, ignore_index=True)\n"
     ]
    },
    {
     "name": "stdout",
     "output_type": "stream",
     "text": [
      "Tuesday from 5:10 pm to 7, Thursday from 5 pm to 71248 Arthur Adams DriveColumbus Ohio 43221Columbus, OH 43210\n",
      "TEST\n",
      "Mondays at 5:00pm154 West 12th AveColumbus, OH 43210\n",
      "Mondays 5:00 pm\n",
      "test\n",
      "TEST\n"
     ]
    },
    {
     "name": "stderr",
     "output_type": "stream",
     "text": [
      "C:\\Users\\lando\\AppData\\Local\\Temp\\ipykernel_34800\\3465631864.py:63: FutureWarning: The frame.append method is deprecated and will be removed from pandas in a future version. Use pandas.concat instead.\n",
      "  df = df.append(datarow, ignore_index=True)\n",
      "C:\\Users\\lando\\AppData\\Local\\Temp\\ipykernel_34800\\3465631864.py:63: FutureWarning: The frame.append method is deprecated and will be removed from pandas in a future version. Use pandas.concat instead.\n",
      "  df = df.append(datarow, ignore_index=True)\n"
     ]
    },
    {
     "name": "stdout",
     "output_type": "stream",
     "text": [
      "Wednesdays 6:30 pm46 E. 16thColumbus, OH 43210\n",
      "Wednesdays 6:30 pm\n",
      "test\n",
      "TEST\n",
      "Biweekly - Wednesday 5:00-6:00, Sunday 2:00-3:001739 N. High Street, Columbus, Ohio 43210187 W Lane Ave, Columbus, OH 43210Columbus, OH 43210\n",
      "Wednesday 5:00 None\n",
      "test\n",
      "TEST\n"
     ]
    },
    {
     "name": "stderr",
     "output_type": "stream",
     "text": [
      "C:\\Users\\lando\\AppData\\Local\\Temp\\ipykernel_34800\\3465631864.py:63: FutureWarning: The frame.append method is deprecated and will be removed from pandas in a future version. Use pandas.concat instead.\n",
      "  df = df.append(datarow, ignore_index=True)\n",
      "C:\\Users\\lando\\AppData\\Local\\Temp\\ipykernel_34800\\3465631864.py:63: FutureWarning: The frame.append method is deprecated and will be removed from pandas in a future version. Use pandas.concat instead.\n",
      "  df = df.append(datarow, ignore_index=True)\n"
     ]
    },
    {
     "name": "stdout",
     "output_type": "stream",
     "text": [
      "Saturday 8:30amColumbus, OH 43210\n",
      "Saturday 8:30 am\n",
      "test\n",
      "TEST\n",
      "5:30pm M-F1739 N. High StreetColumbus, OH 43210Columbus, OH 43210\n",
      "TEST\n"
     ]
    },
    {
     "name": "stderr",
     "output_type": "stream",
     "text": [
      "C:\\Users\\lando\\AppData\\Local\\Temp\\ipykernel_34800\\3465631864.py:63: FutureWarning: The frame.append method is deprecated and will be removed from pandas in a future version. Use pandas.concat instead.\n",
      "  df = df.append(datarow, ignore_index=True)\n",
      "C:\\Users\\lando\\AppData\\Local\\Temp\\ipykernel_34800\\3465631864.py:63: FutureWarning: The frame.append method is deprecated and will be removed from pandas in a future version. Use pandas.concat instead.\n",
      "  df = df.append(datarow, ignore_index=True)\n"
     ]
    },
    {
     "name": "stdout",
     "output_type": "stream",
     "text": [
      "Mondays 7:00PMOhio State University- Main CampusColumbus, OH 43210\n",
      "Mondays 7:00 PM\n",
      "test\n",
      "TEST\n",
      "Every other Thursday at 6:00pm108 N. Oval Mall Columbus OH 43210Columbus, OH 43210\n",
      "Thursday 6:00 pm\n",
      "test\n",
      "TEST\n"
     ]
    },
    {
     "name": "stderr",
     "output_type": "stream",
     "text": [
      "C:\\Users\\lando\\AppData\\Local\\Temp\\ipykernel_34800\\3465631864.py:63: FutureWarning: The frame.append method is deprecated and will be removed from pandas in a future version. Use pandas.concat instead.\n",
      "  df = df.append(datarow, ignore_index=True)\n",
      "C:\\Users\\lando\\AppData\\Local\\Temp\\ipykernel_34800\\3465631864.py:63: FutureWarning: The frame.append method is deprecated and will be removed from pandas in a future version. Use pandas.concat instead.\n",
      "  df = df.append(datarow, ignore_index=True)\n"
     ]
    },
    {
     "name": "stdout",
     "output_type": "stream",
     "text": [
      "Last Wednesday of the month at 6 pm150 S. Oval DriveColumbus, Ohio 43210Columbus, OH 43210\n",
      "TEST\n",
      "1st and 3rd Tuesdays, 7:30pm2027 Coffey RdColumbus, OH 43210\n",
      "Tuesdays 7:30 pm\n",
      "test\n",
      "TEST\n"
     ]
    },
    {
     "name": "stderr",
     "output_type": "stream",
     "text": [
      "C:\\Users\\lando\\AppData\\Local\\Temp\\ipykernel_34800\\3465631864.py:63: FutureWarning: The frame.append method is deprecated and will be removed from pandas in a future version. Use pandas.concat instead.\n",
      "  df = df.append(datarow, ignore_index=True)\n",
      "C:\\Users\\lando\\AppData\\Local\\Temp\\ipykernel_34800\\3465631864.py:63: FutureWarning: The frame.append method is deprecated and will be removed from pandas in a future version. Use pandas.concat instead.\n",
      "  df = df.append(datarow, ignore_index=True)\n"
     ]
    },
    {
     "name": "stdout",
     "output_type": "stream",
     "text": [
      "Last Monday of each month at 7:00 PM376 W 10th AvenueColumbus, OH  43210Columbus, OH 43210\n",
      "W 10 None\n",
      "test\n",
      "TEST\n",
      "Thursdays at 7:45pm65 E. 13thColumbus, OH 43210\n",
      "Thursdays 7:45 pm\n",
      "test\n",
      "TEST\n"
     ]
    },
    {
     "name": "stderr",
     "output_type": "stream",
     "text": [
      "C:\\Users\\lando\\AppData\\Local\\Temp\\ipykernel_34800\\3465631864.py:63: FutureWarning: The frame.append method is deprecated and will be removed from pandas in a future version. Use pandas.concat instead.\n",
      "  df = df.append(datarow, ignore_index=True)\n",
      "C:\\Users\\lando\\AppData\\Local\\Temp\\ipykernel_34800\\3465631864.py:63: FutureWarning: The frame.append method is deprecated and will be removed from pandas in a future version. Use pandas.concat instead.\n",
      "  df = df.append(datarow, ignore_index=True)\n"
     ]
    },
    {
     "name": "stdout",
     "output_type": "stream",
     "text": [
      "Columbus, OH 43210\n",
      "TEST\n",
      "Mondays 7pm - 9pm1790 Cannon Dr.Columbus, OH 43210\n",
      "Mondays 7 pm\n",
      "test\n",
      "TEST\n"
     ]
    },
    {
     "name": "stderr",
     "output_type": "stream",
     "text": [
      "C:\\Users\\lando\\AppData\\Local\\Temp\\ipykernel_34800\\3465631864.py:63: FutureWarning: The frame.append method is deprecated and will be removed from pandas in a future version. Use pandas.concat instead.\n",
      "  df = df.append(datarow, ignore_index=True)\n",
      "C:\\Users\\lando\\AppData\\Local\\Temp\\ipykernel_34800\\3465631864.py:63: FutureWarning: The frame.append method is deprecated and will be removed from pandas in a future version. Use pandas.concat instead.\n",
      "  df = df.append(datarow, ignore_index=True)\n"
     ]
    },
    {
     "name": "stdout",
     "output_type": "stream",
     "text": [
      "October 5, 2010 at 6:30 pm453 W. 10th AvenueColumbus, OH 43210\n",
      "W 10 None\n",
      "test\n",
      "TEST\n",
      "Weekly (Fridays) : 6-8 p.m.1858 Neil AveColumbus Oh 43210Columbus, OH 43210\n",
      "TEST\n"
     ]
    },
    {
     "name": "stderr",
     "output_type": "stream",
     "text": [
      "C:\\Users\\lando\\AppData\\Local\\Temp\\ipykernel_34800\\3465631864.py:63: FutureWarning: The frame.append method is deprecated and will be removed from pandas in a future version. Use pandas.concat instead.\n",
      "  df = df.append(datarow, ignore_index=True)\n",
      "C:\\Users\\lando\\AppData\\Local\\Temp\\ipykernel_34800\\3465631864.py:63: FutureWarning: The frame.append method is deprecated and will be removed from pandas in a future version. Use pandas.concat instead.\n",
      "  df = df.append(datarow, ignore_index=True)\n"
     ]
    },
    {
     "name": "stdout",
     "output_type": "stream",
     "text": [
      "TBDColumbus, OH 43210\n",
      "TEST\n",
      "Columbus, OH 43210\n",
      "TEST\n"
     ]
    },
    {
     "name": "stderr",
     "output_type": "stream",
     "text": [
      "C:\\Users\\lando\\AppData\\Local\\Temp\\ipykernel_34800\\3465631864.py:63: FutureWarning: The frame.append method is deprecated and will be removed from pandas in a future version. Use pandas.concat instead.\n",
      "  df = df.append(datarow, ignore_index=True)\n",
      "C:\\Users\\lando\\AppData\\Local\\Temp\\ipykernel_34800\\3465631864.py:63: FutureWarning: The frame.append method is deprecated and will be removed from pandas in a future version. Use pandas.concat instead.\n",
      "  df = df.append(datarow, ignore_index=True)\n"
     ]
    },
    {
     "name": "stdout",
     "output_type": "stream",
     "text": [
      "Sunday 7-9pm and Wednesday 7-9pm1739 N High Street, Columbus, OH 43210Columbus, OH 43210\n",
      "Sunday 7 None\n",
      "test\n",
      "TEST\n",
      "Columbus, OH 43210\n",
      "TEST\n"
     ]
    },
    {
     "name": "stderr",
     "output_type": "stream",
     "text": [
      "C:\\Users\\lando\\AppData\\Local\\Temp\\ipykernel_34800\\3465631864.py:63: FutureWarning: The frame.append method is deprecated and will be removed from pandas in a future version. Use pandas.concat instead.\n",
      "  df = df.append(datarow, ignore_index=True)\n",
      "C:\\Users\\lando\\AppData\\Local\\Temp\\ipykernel_34800\\3465631864.py:63: FutureWarning: The frame.append method is deprecated and will be removed from pandas in a future version. Use pandas.concat instead.\n",
      "  df = df.append(datarow, ignore_index=True)\n"
     ]
    },
    {
     "name": "stdout",
     "output_type": "stream",
     "text": [
      "Fridays class is in session, 6pm @Campbell 2001787 Neil AveColumbus, OH 43210\n",
      "TEST\n",
      "Monday, Wednesday and Friday at 6:00 pm154 N Oval Mall, Columbus, OH 43210Columbus, OH 43210\n",
      "Friday 6:00 pm\n",
      "test\n",
      "TEST\n"
     ]
    },
    {
     "name": "stderr",
     "output_type": "stream",
     "text": [
      "C:\\Users\\lando\\AppData\\Local\\Temp\\ipykernel_34800\\3465631864.py:63: FutureWarning: The frame.append method is deprecated and will be removed from pandas in a future version. Use pandas.concat instead.\n",
      "  df = df.append(datarow, ignore_index=True)\n",
      "C:\\Users\\lando\\AppData\\Local\\Temp\\ipykernel_34800\\3465631864.py:63: FutureWarning: The frame.append method is deprecated and will be removed from pandas in a future version. Use pandas.concat instead.\n",
      "  df = df.append(datarow, ignore_index=True)\n"
     ]
    },
    {
     "name": "stdout",
     "output_type": "stream",
     "text": [
      "Tuesday, 5:15 p.m.252 W 18th Ave.Columbus, OH 43210\n",
      "Tuesday 5:15 None\n",
      "test\n",
      "TEST\n",
      "(Optional) Every Sunday: 2PM337 Annie & John Glenn Ave Columbus, OH 43210 UnitColumbus, OH 43210\n",
      "TEST\n"
     ]
    },
    {
     "name": "stderr",
     "output_type": "stream",
     "text": [
      "C:\\Users\\lando\\AppData\\Local\\Temp\\ipykernel_34800\\3465631864.py:63: FutureWarning: The frame.append method is deprecated and will be removed from pandas in a future version. Use pandas.concat instead.\n",
      "  df = df.append(datarow, ignore_index=True)\n",
      "C:\\Users\\lando\\AppData\\Local\\Temp\\ipykernel_34800\\3465631864.py:63: FutureWarning: The frame.append method is deprecated and will be removed from pandas in a future version. Use pandas.concat instead.\n",
      "  df = df.append(datarow, ignore_index=True)\n"
     ]
    },
    {
     "name": "stdout",
     "output_type": "stream",
     "text": [
      "Tuesdays 7:00pm, Sundays 7:00 PM1899 College Rd Columbus, OH 43210Columbus, OH 43210\n",
      "Tuesdays 7:00 pm\n",
      "test\n",
      "TEST\n",
      "Tuesdays  7-8:30Columbus, OH 43210\n",
      "Tuesdays 7 None\n",
      "test\n",
      "TEST\n"
     ]
    },
    {
     "name": "stderr",
     "output_type": "stream",
     "text": [
      "C:\\Users\\lando\\AppData\\Local\\Temp\\ipykernel_34800\\3465631864.py:63: FutureWarning: The frame.append method is deprecated and will be removed from pandas in a future version. Use pandas.concat instead.\n",
      "  df = df.append(datarow, ignore_index=True)\n",
      "C:\\Users\\lando\\AppData\\Local\\Temp\\ipykernel_34800\\3465631864.py:63: FutureWarning: The frame.append method is deprecated and will be removed from pandas in a future version. Use pandas.concat instead.\n",
      "  df = df.append(datarow, ignore_index=True)\n"
     ]
    },
    {
     "name": "stdout",
     "output_type": "stream",
     "text": [
      "Wednesdays 5:30Columbus, OH 43210\n",
      "Wednesdays 5:30 None\n",
      "test\n",
      "TEST\n"
     ]
    },
    {
     "name": "stderr",
     "output_type": "stream",
     "text": [
      "C:\\Users\\lando\\AppData\\Local\\Temp\\ipykernel_34800\\3465631864.py:63: FutureWarning: The frame.append method is deprecated and will be removed from pandas in a future version. Use pandas.concat instead.\n",
      "  df = df.append(datarow, ignore_index=True)\n"
     ]
    },
    {
     "name": "stdout",
     "output_type": "stream",
     "text": [
      "Sundays at 6:00 pm1739 N. High StColumbus, OH 43210\n",
      "Sundays 6:00 pm\n",
      "test\n",
      "TEST\n",
      "Columbus, OH 43210\n",
      "TEST\n"
     ]
    },
    {
     "name": "stderr",
     "output_type": "stream",
     "text": [
      "C:\\Users\\lando\\AppData\\Local\\Temp\\ipykernel_34800\\3465631864.py:63: FutureWarning: The frame.append method is deprecated and will be removed from pandas in a future version. Use pandas.concat instead.\n",
      "  df = df.append(datarow, ignore_index=True)\n",
      "C:\\Users\\lando\\AppData\\Local\\Temp\\ipykernel_34800\\3465631864.py:63: FutureWarning: The frame.append method is deprecated and will be removed from pandas in a future version. Use pandas.concat instead.\n",
      "  df = df.append(datarow, ignore_index=True)\n"
     ]
    },
    {
     "name": "stdout",
     "output_type": "stream",
     "text": [
      "Thursday 4:30 pm125 S. Oval MallColumbus, OH 43210\n",
      "Thursday 4:30 pm\n",
      "test\n",
      "TEST\n",
      "Alternating Sundays, 7:00pm207 E. 15th AveColumbus, OH 43210Columbus, OH 43210\n",
      "Sundays 7:00 pm\n",
      "test\n",
      "TEST\n"
     ]
    },
    {
     "name": "stderr",
     "output_type": "stream",
     "text": [
      "C:\\Users\\lando\\AppData\\Local\\Temp\\ipykernel_34800\\3465631864.py:63: FutureWarning: The frame.append method is deprecated and will be removed from pandas in a future version. Use pandas.concat instead.\n",
      "  df = df.append(datarow, ignore_index=True)\n",
      "C:\\Users\\lando\\AppData\\Local\\Temp\\ipykernel_34800\\3465631864.py:63: FutureWarning: The frame.append method is deprecated and will be removed from pandas in a future version. Use pandas.concat instead.\n",
      "  df = df.append(datarow, ignore_index=True)\n"
     ]
    },
    {
     "name": "stdout",
     "output_type": "stream",
     "text": [
      "Monday, 5:30-6:45 pm ETColumbus, OH 43210\n",
      "Monday 5:30 None\n",
      "test\n",
      "TEST\n",
      "TBAColumbus, Ohio 43201Columbus, OH 43210\n",
      "TEST\n"
     ]
    },
    {
     "name": "stderr",
     "output_type": "stream",
     "text": [
      "C:\\Users\\lando\\AppData\\Local\\Temp\\ipykernel_34800\\3465631864.py:63: FutureWarning: The frame.append method is deprecated and will be removed from pandas in a future version. Use pandas.concat instead.\n",
      "  df = df.append(datarow, ignore_index=True)\n",
      "C:\\Users\\lando\\AppData\\Local\\Temp\\ipykernel_34800\\3465631864.py:63: FutureWarning: The frame.append method is deprecated and will be removed from pandas in a future version. Use pandas.concat instead.\n",
      "  df = df.append(datarow, ignore_index=True)\n"
     ]
    },
    {
     "name": "stdout",
     "output_type": "stream",
     "text": [
      "Columbus, OH 43210\n",
      "TEST\n",
      "Tuesday 1:30PM-3:30PM OR Thursday 2:30PM-5:30PM Columbus, OH 43210\n",
      "Tuesday 1:30 PM\n",
      "test\n",
      "TEST\n"
     ]
    },
    {
     "name": "stderr",
     "output_type": "stream",
     "text": [
      "C:\\Users\\lando\\AppData\\Local\\Temp\\ipykernel_34800\\3465631864.py:63: FutureWarning: The frame.append method is deprecated and will be removed from pandas in a future version. Use pandas.concat instead.\n",
      "  df = df.append(datarow, ignore_index=True)\n",
      "C:\\Users\\lando\\AppData\\Local\\Temp\\ipykernel_34800\\3465631864.py:63: FutureWarning: The frame.append method is deprecated and will be removed from pandas in a future version. Use pandas.concat instead.\n",
      "  df = df.append(datarow, ignore_index=True)\n"
     ]
    },
    {
     "name": "stdout",
     "output_type": "stream",
     "text": [
      "every other Friday at 5:30pm100-F Hale Center153 W. 12th AveColumbus, OH 43210\n",
      "Friday 5:30 pm\n",
      "test\n",
      "TEST\n",
      "Fridays at 7pmColumbus, OH 43210\n",
      "Fridays 7 pm\n",
      "test\n",
      "TEST\n"
     ]
    },
    {
     "name": "stderr",
     "output_type": "stream",
     "text": [
      "C:\\Users\\lando\\AppData\\Local\\Temp\\ipykernel_34800\\3465631864.py:63: FutureWarning: The frame.append method is deprecated and will be removed from pandas in a future version. Use pandas.concat instead.\n",
      "  df = df.append(datarow, ignore_index=True)\n",
      "C:\\Users\\lando\\AppData\\Local\\Temp\\ipykernel_34800\\3465631864.py:63: FutureWarning: The frame.append method is deprecated and will be removed from pandas in a future version. Use pandas.concat instead.\n",
      "  df = df.append(datarow, ignore_index=True)\n"
     ]
    },
    {
     "name": "stdout",
     "output_type": "stream",
     "text": [
      "Wednesdays at 7:30 via zoom1858 Neil AveRoom 204Columbus, OH 43210\n",
      "Wednesdays 7:30 None\n",
      "test\n",
      "TEST\n",
      "Wednesday 7:00PM255 Townshend HallColumbus, OH 43210\n",
      "Wednesday 7:00 PM\n",
      "test\n",
      "TEST\n"
     ]
    },
    {
     "name": "stderr",
     "output_type": "stream",
     "text": [
      "C:\\Users\\lando\\AppData\\Local\\Temp\\ipykernel_34800\\3465631864.py:63: FutureWarning: The frame.append method is deprecated and will be removed from pandas in a future version. Use pandas.concat instead.\n",
      "  df = df.append(datarow, ignore_index=True)\n",
      "C:\\Users\\lando\\AppData\\Local\\Temp\\ipykernel_34800\\3465631864.py:63: FutureWarning: The frame.append method is deprecated and will be removed from pandas in a future version. Use pandas.concat instead.\n",
      "  df = df.append(datarow, ignore_index=True)\n"
     ]
    },
    {
     "name": "stdout",
     "output_type": "stream",
     "text": [
      "Thursdays 6:00PM-7:00PMColumbus, OH 43210\n",
      "Thursdays 6:00 PM\n",
      "test\n",
      "TEST\n",
      "1st Monday of every Month @ 6:00pm275 W. Woodruff Ave.Columbus, OH 43210\n",
      "TEST\n"
     ]
    },
    {
     "name": "stderr",
     "output_type": "stream",
     "text": [
      "C:\\Users\\lando\\AppData\\Local\\Temp\\ipykernel_34800\\3465631864.py:63: FutureWarning: The frame.append method is deprecated and will be removed from pandas in a future version. Use pandas.concat instead.\n",
      "  df = df.append(datarow, ignore_index=True)\n",
      "C:\\Users\\lando\\AppData\\Local\\Temp\\ipykernel_34800\\3465631864.py:63: FutureWarning: The frame.append method is deprecated and will be removed from pandas in a future version. Use pandas.concat instead.\n",
      "  df = df.append(datarow, ignore_index=True)\n"
     ]
    },
    {
     "name": "stdout",
     "output_type": "stream",
     "text": [
      "Columbus, OH 43210\n",
      "TEST\n",
      "Wednesdays - 8PM154 W. 12th AvenueColumbus, OH 43210\n",
      "W 12 None\n",
      "test\n",
      "TEST\n"
     ]
    },
    {
     "name": "stderr",
     "output_type": "stream",
     "text": [
      "C:\\Users\\lando\\AppData\\Local\\Temp\\ipykernel_34800\\3465631864.py:63: FutureWarning: The frame.append method is deprecated and will be removed from pandas in a future version. Use pandas.concat instead.\n",
      "  df = df.append(datarow, ignore_index=True)\n",
      "C:\\Users\\lando\\AppData\\Local\\Temp\\ipykernel_34800\\3465631864.py:63: FutureWarning: The frame.append method is deprecated and will be removed from pandas in a future version. Use pandas.concat instead.\n",
      "  df = df.append(datarow, ignore_index=True)\n"
     ]
    },
    {
     "name": "stdout",
     "output_type": "stream",
     "text": [
      "Every alternate Thursday at 5:30pm2027 Coffey Rd Columbus, OH 43210https://osu.zoom.us/j/95040884180?pwd=eFN4U3JMbXdHColumbus, OH 43210\n",
      "Thursday 5:30 pm\n",
      "test\n",
      "TEST\n",
      "Thursday1827 Neil Avenue MallColumbus, OH 43210Columbus, OH 43210\n",
      "Thursday 1827 None\n",
      "test\n",
      "TEST\n"
     ]
    },
    {
     "name": "stderr",
     "output_type": "stream",
     "text": [
      "C:\\Users\\lando\\AppData\\Local\\Temp\\ipykernel_34800\\3465631864.py:63: FutureWarning: The frame.append method is deprecated and will be removed from pandas in a future version. Use pandas.concat instead.\n",
      "  df = df.append(datarow, ignore_index=True)\n",
      "C:\\Users\\lando\\AppData\\Local\\Temp\\ipykernel_34800\\3465631864.py:63: FutureWarning: The frame.append method is deprecated and will be removed from pandas in a future version. Use pandas.concat instead.\n",
      "  df = df.append(datarow, ignore_index=True)\n"
     ]
    },
    {
     "name": "stdout",
     "output_type": "stream",
     "text": [
      "once a month; Sundays at 6pm1640 Neil Ave, Columbus, OH 43201Columbus, OH 43210\n",
      "Sundays 6 pm\n",
      "test\n",
      "TEST\n",
      "Fridays 6:30pm1858 Neil Ave MallColumbus, OH 43210\n",
      "Fridays 6:30 pm\n",
      "test\n",
      "TEST\n"
     ]
    },
    {
     "name": "stderr",
     "output_type": "stream",
     "text": [
      "C:\\Users\\lando\\AppData\\Local\\Temp\\ipykernel_34800\\3465631864.py:63: FutureWarning: The frame.append method is deprecated and will be removed from pandas in a future version. Use pandas.concat instead.\n",
      "  df = df.append(datarow, ignore_index=True)\n",
      "C:\\Users\\lando\\AppData\\Local\\Temp\\ipykernel_34800\\3465631864.py:63: FutureWarning: The frame.append method is deprecated and will be removed from pandas in a future version. Use pandas.concat instead.\n",
      "  df = df.append(datarow, ignore_index=True)\n"
     ]
    },
    {
     "name": "stdout",
     "output_type": "stream",
     "text": [
      "Thursdays 5:00-6:00pm (biweekly)Columbus, OH 43210\n",
      "Thursdays 5:00 None\n",
      "test\n",
      "TEST\n",
      "TBD231 W. 18th AveColumbus, OH 43210\n",
      "W 18 None\n",
      "test\n",
      "TEST\n"
     ]
    },
    {
     "name": "stderr",
     "output_type": "stream",
     "text": [
      "C:\\Users\\lando\\AppData\\Local\\Temp\\ipykernel_34800\\3465631864.py:63: FutureWarning: The frame.append method is deprecated and will be removed from pandas in a future version. Use pandas.concat instead.\n",
      "  df = df.append(datarow, ignore_index=True)\n",
      "C:\\Users\\lando\\AppData\\Local\\Temp\\ipykernel_34800\\3465631864.py:63: FutureWarning: The frame.append method is deprecated and will be removed from pandas in a future version. Use pandas.concat instead.\n",
      "  df = df.append(datarow, ignore_index=True)\n"
     ]
    },
    {
     "name": "stdout",
     "output_type": "stream",
     "text": [
      "Wednesdays @ 7:30 pm (bi-weekly)Columbus, OH 43210\n",
      "Wednesdays 7:30 pm\n",
      "test\n",
      "TEST\n"
     ]
    },
    {
     "name": "stderr",
     "output_type": "stream",
     "text": [
      "C:\\Users\\lando\\AppData\\Local\\Temp\\ipykernel_34800\\3465631864.py:63: FutureWarning: The frame.append method is deprecated and will be removed from pandas in a future version. Use pandas.concat instead.\n",
      "  df = df.append(datarow, ignore_index=True)\n"
     ]
    },
    {
     "name": "stdout",
     "output_type": "stream",
     "text": [
      "Every Monday at 7:00 p.m.Columbus, OH 43210\n",
      "Monday 7:00 None\n",
      "test\n",
      "TEST\n",
      "Monday, 7:00pm1934 Indianola Ave.Columbus, OH 43210\n",
      "Monday 7:00 pm\n",
      "test\n",
      "TEST\n"
     ]
    },
    {
     "name": "stderr",
     "output_type": "stream",
     "text": [
      "C:\\Users\\lando\\AppData\\Local\\Temp\\ipykernel_34800\\3465631864.py:63: FutureWarning: The frame.append method is deprecated and will be removed from pandas in a future version. Use pandas.concat instead.\n",
      "  df = df.append(datarow, ignore_index=True)\n",
      "C:\\Users\\lando\\AppData\\Local\\Temp\\ipykernel_34800\\3465631864.py:63: FutureWarning: The frame.append method is deprecated and will be removed from pandas in a future version. Use pandas.concat instead.\n",
      "  df = df.append(datarow, ignore_index=True)\n"
     ]
    },
    {
     "name": "stdout",
     "output_type": "stream",
     "text": [
      "Fridays at 8:00 am1900 College Rd.Columbus, OH 43210\n",
      "Fridays 8:00 am\n",
      "test\n",
      "TEST\n",
      "Sunday 5:00 PM260 E. 15th AveColumbus, OH 43210\n",
      "Sunday 5:00 PM\n",
      "test\n",
      "TEST\n"
     ]
    },
    {
     "name": "stderr",
     "output_type": "stream",
     "text": [
      "C:\\Users\\lando\\AppData\\Local\\Temp\\ipykernel_34800\\3465631864.py:63: FutureWarning: The frame.append method is deprecated and will be removed from pandas in a future version. Use pandas.concat instead.\n",
      "  df = df.append(datarow, ignore_index=True)\n",
      "C:\\Users\\lando\\AppData\\Local\\Temp\\ipykernel_34800\\3465631864.py:63: FutureWarning: The frame.append method is deprecated and will be removed from pandas in a future version. Use pandas.concat instead.\n",
      "  df = df.append(datarow, ignore_index=True)\n"
     ]
    },
    {
     "name": "stdout",
     "output_type": "stream",
     "text": [
      "1775 College RoadColumbus, OH 43210Columbus, OH 43210\n",
      "TEST\n",
      "Thursdays 6:30 pmTBAColumbus, OH 43210\n",
      "Thursdays 6:30 pm\n",
      "test\n",
      "TEST\n"
     ]
    },
    {
     "name": "stderr",
     "output_type": "stream",
     "text": [
      "C:\\Users\\lando\\AppData\\Local\\Temp\\ipykernel_34800\\3465631864.py:63: FutureWarning: The frame.append method is deprecated and will be removed from pandas in a future version. Use pandas.concat instead.\n",
      "  df = df.append(datarow, ignore_index=True)\n",
      "C:\\Users\\lando\\AppData\\Local\\Temp\\ipykernel_34800\\3465631864.py:63: FutureWarning: The frame.append method is deprecated and will be removed from pandas in a future version. Use pandas.concat instead.\n",
      "  df = df.append(datarow, ignore_index=True)\n"
     ]
    },
    {
     "name": "stdout",
     "output_type": "stream",
     "text": [
      "Mondays 6PM-8PM (Subject to change)1739 N. High StreetColumbus, OH 43210\n",
      "Mondays 6 PM\n",
      "test\n",
      "TEST\n",
      "Columbus, OH 43210\n",
      "TEST\n"
     ]
    },
    {
     "name": "stderr",
     "output_type": "stream",
     "text": [
      "C:\\Users\\lando\\AppData\\Local\\Temp\\ipykernel_34800\\3465631864.py:63: FutureWarning: The frame.append method is deprecated and will be removed from pandas in a future version. Use pandas.concat instead.\n",
      "  df = df.append(datarow, ignore_index=True)\n",
      "C:\\Users\\lando\\AppData\\Local\\Temp\\ipykernel_34800\\3465631864.py:63: FutureWarning: The frame.append method is deprecated and will be removed from pandas in a future version. Use pandas.concat instead.\n",
      "  df = df.append(datarow, ignore_index=True)\n"
     ]
    },
    {
     "name": "stdout",
     "output_type": "stream",
     "text": [
      "Columbus, OH 43210\n",
      "TEST\n",
      "Monday nights at 7:00 P.M.1943 Waldeck Ave.Columbus, OH 43210\n",
      "TEST\n"
     ]
    },
    {
     "name": "stderr",
     "output_type": "stream",
     "text": [
      "C:\\Users\\lando\\AppData\\Local\\Temp\\ipykernel_34800\\3465631864.py:63: FutureWarning: The frame.append method is deprecated and will be removed from pandas in a future version. Use pandas.concat instead.\n",
      "  df = df.append(datarow, ignore_index=True)\n",
      "C:\\Users\\lando\\AppData\\Local\\Temp\\ipykernel_34800\\3465631864.py:63: FutureWarning: The frame.append method is deprecated and will be removed from pandas in a future version. Use pandas.concat instead.\n",
      "  df = df.append(datarow, ignore_index=True)\n"
     ]
    },
    {
     "name": "stdout",
     "output_type": "stream",
     "text": [
      "Mondays 7:30-8:30pmColumbus, OH 43210\n",
      "Mondays 7:30 None\n",
      "test\n",
      "TEST\n"
     ]
    },
    {
     "name": "stderr",
     "output_type": "stream",
     "text": [
      "C:\\Users\\lando\\AppData\\Local\\Temp\\ipykernel_34800\\3465631864.py:63: FutureWarning: The frame.append method is deprecated and will be removed from pandas in a future version. Use pandas.concat instead.\n",
      "  df = df.append(datarow, ignore_index=True)\n"
     ]
    },
    {
     "name": "stdout",
     "output_type": "stream",
     "text": [
      "Tuesday 6pm191 W Woodruff AveColumbus, OH 43210\n",
      "Tuesday 6 pm\n",
      "test\n",
      "TEST\n"
     ]
    },
    {
     "name": "stderr",
     "output_type": "stream",
     "text": [
      "C:\\Users\\lando\\AppData\\Local\\Temp\\ipykernel_34800\\3465631864.py:63: FutureWarning: The frame.append method is deprecated and will be removed from pandas in a future version. Use pandas.concat instead.\n",
      "  df = df.append(datarow, ignore_index=True)\n"
     ]
    },
    {
     "name": "stdout",
     "output_type": "stream",
     "text": [
      "Sundays 6:30 PM2176 Summit StColumbus, OH 43210\n",
      "Sundays 6:30 PM\n",
      "test\n",
      "TEST\n"
     ]
    },
    {
     "name": "stderr",
     "output_type": "stream",
     "text": [
      "C:\\Users\\lando\\AppData\\Local\\Temp\\ipykernel_34800\\3465631864.py:63: FutureWarning: The frame.append method is deprecated and will be removed from pandas in a future version. Use pandas.concat instead.\n",
      "  df = df.append(datarow, ignore_index=True)\n"
     ]
    },
    {
     "name": "stdout",
     "output_type": "stream",
     "text": [
      "TBDTBDColumbus, OH 43210\n",
      "TEST\n",
      "Columbus, OH 43210\n",
      "TEST\n"
     ]
    },
    {
     "name": "stderr",
     "output_type": "stream",
     "text": [
      "C:\\Users\\lando\\AppData\\Local\\Temp\\ipykernel_34800\\3465631864.py:63: FutureWarning: The frame.append method is deprecated and will be removed from pandas in a future version. Use pandas.concat instead.\n",
      "  df = df.append(datarow, ignore_index=True)\n",
      "C:\\Users\\lando\\AppData\\Local\\Temp\\ipykernel_34800\\3465631864.py:63: FutureWarning: The frame.append method is deprecated and will be removed from pandas in a future version. Use pandas.concat instead.\n",
      "  df = df.append(datarow, ignore_index=True)\n"
     ]
    },
    {
     "name": "stdout",
     "output_type": "stream",
     "text": [
      "Thursdays at 6:00 pmColumbus, OH 43210\n",
      "Thursdays 6:00 pm\n",
      "test\n",
      "TEST\n",
      "Thursdays 5:30-6:3033 W Lane AveColumbus, OH 43210\n",
      "Thursdays 5:30 None\n",
      "test\n",
      "TEST\n"
     ]
    },
    {
     "name": "stderr",
     "output_type": "stream",
     "text": [
      "C:\\Users\\lando\\AppData\\Local\\Temp\\ipykernel_34800\\3465631864.py:63: FutureWarning: The frame.append method is deprecated and will be removed from pandas in a future version. Use pandas.concat instead.\n",
      "  df = df.append(datarow, ignore_index=True)\n",
      "C:\\Users\\lando\\AppData\\Local\\Temp\\ipykernel_34800\\3465631864.py:63: FutureWarning: The frame.append method is deprecated and will be removed from pandas in a future version. Use pandas.concat instead.\n",
      "  df = df.append(datarow, ignore_index=True)\n"
     ]
    },
    {
     "name": "stdout",
     "output_type": "stream",
     "text": [
      "Friday1739 N High St, Columbus, OH 43210Columbus, OH 43210\n",
      "Friday 1739 None\n",
      "test\n",
      "TEST\n"
     ]
    },
    {
     "name": "stderr",
     "output_type": "stream",
     "text": [
      "C:\\Users\\lando\\AppData\\Local\\Temp\\ipykernel_34800\\3465631864.py:63: FutureWarning: The frame.append method is deprecated and will be removed from pandas in a future version. Use pandas.concat instead.\n",
      "  df = df.append(datarow, ignore_index=True)\n"
     ]
    },
    {
     "name": "stdout",
     "output_type": "stream",
     "text": [
      "Monday - 5:30pm-7:00pmColumbus, OH 43210\n",
      "TEST\n",
      "Mondays, 6-7pmColumbus, OH 43210\n",
      "Mondays 6 None\n",
      "test\n",
      "TEST\n"
     ]
    },
    {
     "name": "stderr",
     "output_type": "stream",
     "text": [
      "C:\\Users\\lando\\AppData\\Local\\Temp\\ipykernel_34800\\3465631864.py:63: FutureWarning: The frame.append method is deprecated and will be removed from pandas in a future version. Use pandas.concat instead.\n",
      "  df = df.append(datarow, ignore_index=True)\n",
      "C:\\Users\\lando\\AppData\\Local\\Temp\\ipykernel_34800\\3465631864.py:63: FutureWarning: The frame.append method is deprecated and will be removed from pandas in a future version. Use pandas.concat instead.\n",
      "  df = df.append(datarow, ignore_index=True)\n"
     ]
    },
    {
     "name": "stdout",
     "output_type": "stream",
     "text": [
      "Mondays 5:00 to 6:00 PMColumbus, OH 43210\n",
      "Mondays 5:00 None\n",
      "test\n",
      "TEST\n",
      "Tuesday at 6Columbus, OH 43210\n",
      "Tuesday 6 None\n",
      "test\n",
      "TEST\n"
     ]
    },
    {
     "name": "stderr",
     "output_type": "stream",
     "text": [
      "C:\\Users\\lando\\AppData\\Local\\Temp\\ipykernel_34800\\3465631864.py:63: FutureWarning: The frame.append method is deprecated and will be removed from pandas in a future version. Use pandas.concat instead.\n",
      "  df = df.append(datarow, ignore_index=True)\n",
      "C:\\Users\\lando\\AppData\\Local\\Temp\\ipykernel_34800\\3465631864.py:63: FutureWarning: The frame.append method is deprecated and will be removed from pandas in a future version. Use pandas.concat instead.\n",
      "  df = df.append(datarow, ignore_index=True)\n"
     ]
    },
    {
     "name": "stdout",
     "output_type": "stream",
     "text": [
      "Depend on the schedule of events400 Hagerty Hall; 1775 College RoadColumbus, OH 43210Columbus, OH 43210\n",
      "TEST\n",
      "Columbus, OH 43210\n",
      "TEST\n"
     ]
    },
    {
     "name": "stderr",
     "output_type": "stream",
     "text": [
      "C:\\Users\\lando\\AppData\\Local\\Temp\\ipykernel_34800\\3465631864.py:63: FutureWarning: The frame.append method is deprecated and will be removed from pandas in a future version. Use pandas.concat instead.\n",
      "  df = df.append(datarow, ignore_index=True)\n",
      "C:\\Users\\lando\\AppData\\Local\\Temp\\ipykernel_34800\\3465631864.py:63: FutureWarning: The frame.append method is deprecated and will be removed from pandas in a future version. Use pandas.concat instead.\n",
      "  df = df.append(datarow, ignore_index=True)\n"
     ]
    },
    {
     "name": "stdout",
     "output_type": "stream",
     "text": [
      "Columbus, OH 43210\n",
      "TEST\n",
      "Wednesday 5:30-6:30pmColumbus, OH 43210\n",
      "Wednesday 5:30 None\n",
      "test\n",
      "TEST\n"
     ]
    },
    {
     "name": "stderr",
     "output_type": "stream",
     "text": [
      "C:\\Users\\lando\\AppData\\Local\\Temp\\ipykernel_34800\\3465631864.py:63: FutureWarning: The frame.append method is deprecated and will be removed from pandas in a future version. Use pandas.concat instead.\n",
      "  df = df.append(datarow, ignore_index=True)\n",
      "C:\\Users\\lando\\AppData\\Local\\Temp\\ipykernel_34800\\3465631864.py:63: FutureWarning: The frame.append method is deprecated and will be removed from pandas in a future version. Use pandas.concat instead.\n",
      "  df = df.append(datarow, ignore_index=True)\n"
     ]
    },
    {
     "name": "stdout",
     "output_type": "stream",
     "text": [
      "Different days & times305 West 12th AvenueColumbus, OH 43210\n",
      "TEST\n",
      "Meetings notified by email, volunteering on Sunday2070 Neil AvenueColumbus, OH 43210\n",
      "Sunday 2070 None\n",
      "test\n",
      "TEST\n"
     ]
    },
    {
     "name": "stderr",
     "output_type": "stream",
     "text": [
      "C:\\Users\\lando\\AppData\\Local\\Temp\\ipykernel_34800\\3465631864.py:63: FutureWarning: The frame.append method is deprecated and will be removed from pandas in a future version. Use pandas.concat instead.\n",
      "  df = df.append(datarow, ignore_index=True)\n",
      "C:\\Users\\lando\\AppData\\Local\\Temp\\ipykernel_34800\\3465631864.py:63: FutureWarning: The frame.append method is deprecated and will be removed from pandas in a future version. Use pandas.concat instead.\n",
      "  df = df.append(datarow, ignore_index=True)\n"
     ]
    },
    {
     "name": "stdout",
     "output_type": "stream",
     "text": [
      "Mondays at 6pmColumbus, OH 43210\n",
      "Mondays 6 pm\n",
      "test\n",
      "TEST\n",
      "Columbus, OH 43210\n",
      "TEST\n"
     ]
    },
    {
     "name": "stderr",
     "output_type": "stream",
     "text": [
      "C:\\Users\\lando\\AppData\\Local\\Temp\\ipykernel_34800\\3465631864.py:63: FutureWarning: The frame.append method is deprecated and will be removed from pandas in a future version. Use pandas.concat instead.\n",
      "  df = df.append(datarow, ignore_index=True)\n",
      "C:\\Users\\lando\\AppData\\Local\\Temp\\ipykernel_34800\\3465631864.py:63: FutureWarning: The frame.append method is deprecated and will be removed from pandas in a future version. Use pandas.concat instead.\n",
      "  df = df.append(datarow, ignore_index=True)\n"
     ]
    },
    {
     "name": "stdout",
     "output_type": "stream",
     "text": [
      "Thursdays at 6:30pm2009 Millikin Rd, Columbus, OH 43210Columbus, OH 43210\n",
      "Thursdays 6:30 pm\n",
      "test\n",
      "TEST\n",
      "Tuesday 8-10, Thursday 6-8855 Woody Hayes DriveColumbus, Ohio 43210Columbus, OH 43210\n",
      "Tuesday 8 None\n",
      "test\n",
      "TEST\n"
     ]
    },
    {
     "name": "stderr",
     "output_type": "stream",
     "text": [
      "C:\\Users\\lando\\AppData\\Local\\Temp\\ipykernel_34800\\3465631864.py:63: FutureWarning: The frame.append method is deprecated and will be removed from pandas in a future version. Use pandas.concat instead.\n",
      "  df = df.append(datarow, ignore_index=True)\n",
      "C:\\Users\\lando\\AppData\\Local\\Temp\\ipykernel_34800\\3465631864.py:63: FutureWarning: The frame.append method is deprecated and will be removed from pandas in a future version. Use pandas.concat instead.\n",
      "  df = df.append(datarow, ignore_index=True)\n"
     ]
    },
    {
     "name": "stdout",
     "output_type": "stream",
     "text": [
      "Thursdays, 4 PM1835 Neil AvenueColumbus, OH 43210\n",
      "Thursdays 4 PM\n",
      "test\n",
      "TEST\n",
      "Wednesdays, Noon-1:30pm (Autumn, Spring)Please contact the president for details.Columbus, OH 43210\n",
      "TEST\n"
     ]
    },
    {
     "name": "stderr",
     "output_type": "stream",
     "text": [
      "C:\\Users\\lando\\AppData\\Local\\Temp\\ipykernel_34800\\3465631864.py:63: FutureWarning: The frame.append method is deprecated and will be removed from pandas in a future version. Use pandas.concat instead.\n",
      "  df = df.append(datarow, ignore_index=True)\n",
      "C:\\Users\\lando\\AppData\\Local\\Temp\\ipykernel_34800\\3465631864.py:63: FutureWarning: The frame.append method is deprecated and will be removed from pandas in a future version. Use pandas.concat instead.\n",
      "  df = df.append(datarow, ignore_index=True)\n"
     ]
    },
    {
     "name": "stdout",
     "output_type": "stream",
     "text": [
      "Columbus, OH 43210\n",
      "TEST\n",
      "Wednesday at 6 pmZoomColumbus, OH 43210\n",
      "Wednesday 6 pm\n",
      "test\n",
      "TEST\n"
     ]
    },
    {
     "name": "stderr",
     "output_type": "stream",
     "text": [
      "C:\\Users\\lando\\AppData\\Local\\Temp\\ipykernel_34800\\3465631864.py:63: FutureWarning: The frame.append method is deprecated and will be removed from pandas in a future version. Use pandas.concat instead.\n",
      "  df = df.append(datarow, ignore_index=True)\n",
      "C:\\Users\\lando\\AppData\\Local\\Temp\\ipykernel_34800\\3465631864.py:63: FutureWarning: The frame.append method is deprecated and will be removed from pandas in a future version. Use pandas.concat instead.\n",
      "  df = df.append(datarow, ignore_index=True)\n"
     ]
    },
    {
     "name": "stdout",
     "output_type": "stream",
     "text": [
      "see www.smsosu.tumblr.com for more info1739 N. High StreetColumbus, OH 43210\n",
      "TEST\n"
     ]
    },
    {
     "name": "stderr",
     "output_type": "stream",
     "text": [
      "C:\\Users\\lando\\AppData\\Local\\Temp\\ipykernel_34800\\3465631864.py:63: FutureWarning: The frame.append method is deprecated and will be removed from pandas in a future version. Use pandas.concat instead.\n",
      "  df = df.append(datarow, ignore_index=True)\n"
     ]
    },
    {
     "name": "stdout",
     "output_type": "stream",
     "text": [
      "Depending on weather, we will meet outside in Oval498Sara LaneColumbus, OH 43210\n",
      "TEST\n",
      "Columbus, OH 43210\n",
      "TEST\n"
     ]
    },
    {
     "name": "stderr",
     "output_type": "stream",
     "text": [
      "C:\\Users\\lando\\AppData\\Local\\Temp\\ipykernel_34800\\3465631864.py:63: FutureWarning: The frame.append method is deprecated and will be removed from pandas in a future version. Use pandas.concat instead.\n",
      "  df = df.append(datarow, ignore_index=True)\n",
      "C:\\Users\\lando\\AppData\\Local\\Temp\\ipykernel_34800\\3465631864.py:63: FutureWarning: The frame.append method is deprecated and will be removed from pandas in a future version. Use pandas.concat instead.\n",
      "  df = df.append(datarow, ignore_index=True)\n"
     ]
    },
    {
     "name": "stdout",
     "output_type": "stream",
     "text": [
      "Columbus, OH 43210\n",
      "TEST\n",
      "Biweekly151 W Woodruff AveCBECColumbus, OH 43210\n",
      "TEST\n"
     ]
    },
    {
     "name": "stderr",
     "output_type": "stream",
     "text": [
      "C:\\Users\\lando\\AppData\\Local\\Temp\\ipykernel_34800\\3465631864.py:63: FutureWarning: The frame.append method is deprecated and will be removed from pandas in a future version. Use pandas.concat instead.\n",
      "  df = df.append(datarow, ignore_index=True)\n",
      "C:\\Users\\lando\\AppData\\Local\\Temp\\ipykernel_34800\\3465631864.py:63: FutureWarning: The frame.append method is deprecated and will be removed from pandas in a future version. Use pandas.concat instead.\n",
      "  df = df.append(datarow, ignore_index=True)\n"
     ]
    },
    {
     "name": "stdout",
     "output_type": "stream",
     "text": [
      "TBD - Please contact us for upcoming meeting datesColumbus, OH 43210\n",
      "TEST\n",
      "1:30-2:30Columbus, OH 43210\n",
      "TEST\n"
     ]
    },
    {
     "name": "stderr",
     "output_type": "stream",
     "text": [
      "C:\\Users\\lando\\AppData\\Local\\Temp\\ipykernel_34800\\3465631864.py:63: FutureWarning: The frame.append method is deprecated and will be removed from pandas in a future version. Use pandas.concat instead.\n",
      "  df = df.append(datarow, ignore_index=True)\n",
      "C:\\Users\\lando\\AppData\\Local\\Temp\\ipykernel_34800\\3465631864.py:63: FutureWarning: The frame.append method is deprecated and will be removed from pandas in a future version. Use pandas.concat instead.\n",
      "  df = df.append(datarow, ignore_index=True)\n"
     ]
    },
    {
     "name": "stdout",
     "output_type": "stream",
     "text": [
      "Friday 2:15pm230 North Oval MallColumbus, OH 43210Columbus, OH 43210\n",
      "Friday 2:15 pm\n",
      "test\n",
      "TEST\n",
      "Every other Monday, 1-3pm230 North Oval MallColumbus, OH 43210\n",
      "Monday 1 None\n",
      "test\n",
      "TEST\n"
     ]
    },
    {
     "name": "stderr",
     "output_type": "stream",
     "text": [
      "C:\\Users\\lando\\AppData\\Local\\Temp\\ipykernel_34800\\3465631864.py:63: FutureWarning: The frame.append method is deprecated and will be removed from pandas in a future version. Use pandas.concat instead.\n",
      "  df = df.append(datarow, ignore_index=True)\n",
      "C:\\Users\\lando\\AppData\\Local\\Temp\\ipykernel_34800\\3465631864.py:63: FutureWarning: The frame.append method is deprecated and will be removed from pandas in a future version. Use pandas.concat instead.\n",
      "  df = df.append(datarow, ignore_index=True)\n"
     ]
    },
    {
     "name": "stdout",
     "output_type": "stream",
     "text": [
      "Every other Monday, 4-5pm230 N Oval MallColumbus, OH 43210-1365Columbus, OH 43210\n",
      "Monday 4 None\n",
      "test\n",
      "TEST\n",
      "Mondays from 4-5pm350 University Hall, 230 N Oval Mall Columbus, OH43210-1365Columbus, OH 43210\n",
      "TEST\n"
     ]
    },
    {
     "name": "stderr",
     "output_type": "stream",
     "text": [
      "C:\\Users\\lando\\AppData\\Local\\Temp\\ipykernel_34800\\3465631864.py:63: FutureWarning: The frame.append method is deprecated and will be removed from pandas in a future version. Use pandas.concat instead.\n",
      "  df = df.append(datarow, ignore_index=True)\n",
      "C:\\Users\\lando\\AppData\\Local\\Temp\\ipykernel_34800\\3465631864.py:63: FutureWarning: The frame.append method is deprecated and will be removed from pandas in a future version. Use pandas.concat instead.\n",
      "  df = df.append(datarow, ignore_index=True)\n"
     ]
    },
    {
     "name": "stdout",
     "output_type": "stream",
     "text": [
      "Once a month191 W WoodruffColumbus, OH 43210Columbus, OH 43210\n",
      "TEST\n",
      "Tuesdays and/or Thursdays at 6 PMATTN: Ohio Union Room 2095 CSLS -- SASE OSU1739 N. High Street, Columbus, Ohio 43210Columbus, OH 43210\n",
      "Thursdays 6 PM\n",
      "test\n",
      "TEST\n"
     ]
    },
    {
     "name": "stderr",
     "output_type": "stream",
     "text": [
      "C:\\Users\\lando\\AppData\\Local\\Temp\\ipykernel_34800\\3465631864.py:63: FutureWarning: The frame.append method is deprecated and will be removed from pandas in a future version. Use pandas.concat instead.\n",
      "  df = df.append(datarow, ignore_index=True)\n",
      "C:\\Users\\lando\\AppData\\Local\\Temp\\ipykernel_34800\\3465631864.py:63: FutureWarning: The frame.append method is deprecated and will be removed from pandas in a future version. Use pandas.concat instead.\n",
      "  df = df.append(datarow, ignore_index=True)\n"
     ]
    },
    {
     "name": "stdout",
     "output_type": "stream",
     "text": [
      "Every Tuesday (8/30/22-12/6/22) @ 5-7pm201 W 19th Ave, Columbus, OH 43210Columbus, OH 43210\n",
      "W 19 None\n",
      "test\n",
      "TEST\n",
      "Tuesdays at 7:00PMZoomColumbus, OH 43210\n",
      "Tuesdays 7:00 PM\n",
      "test\n",
      "TEST\n"
     ]
    },
    {
     "name": "stderr",
     "output_type": "stream",
     "text": [
      "C:\\Users\\lando\\AppData\\Local\\Temp\\ipykernel_34800\\3465631864.py:63: FutureWarning: The frame.append method is deprecated and will be removed from pandas in a future version. Use pandas.concat instead.\n",
      "  df = df.append(datarow, ignore_index=True)\n",
      "C:\\Users\\lando\\AppData\\Local\\Temp\\ipykernel_34800\\3465631864.py:63: FutureWarning: The frame.append method is deprecated and will be removed from pandas in a future version. Use pandas.concat instead.\n",
      "  df = df.append(datarow, ignore_index=True)\n"
     ]
    },
    {
     "name": "stdout",
     "output_type": "stream",
     "text": [
      "Mondays at 7:00 pm1858 Neil Ave.Columbus, OH 43210\n",
      "Mondays 7:00 pm\n",
      "test\n",
      "TEST\n",
      "5:30 pm Thursday (Biweekly)2009 Millikin Rd Columbus, OH 43210Columbus, OH 43210\n",
      "TEST\n"
     ]
    },
    {
     "name": "stderr",
     "output_type": "stream",
     "text": [
      "C:\\Users\\lando\\AppData\\Local\\Temp\\ipykernel_34800\\3465631864.py:63: FutureWarning: The frame.append method is deprecated and will be removed from pandas in a future version. Use pandas.concat instead.\n",
      "  df = df.append(datarow, ignore_index=True)\n",
      "C:\\Users\\lando\\AppData\\Local\\Temp\\ipykernel_34800\\3465631864.py:63: FutureWarning: The frame.append method is deprecated and will be removed from pandas in a future version. Use pandas.concat instead.\n",
      "  df = df.append(datarow, ignore_index=True)\n"
     ]
    },
    {
     "name": "stdout",
     "output_type": "stream",
     "text": [
      "Leadership meetings Tuesdays at 6:30151 W Woodruff Ave Columbus, OH 43210Columbus, OH 43210\n",
      "Tuesdays 6:30 None\n",
      "test\n",
      "TEST\n",
      "Tuesdays at 6:00 pmhttps://osu.zoom.us/j/94512242934?pwd=ZUFqVmRxNzQ2Columbus, OH 43210\n",
      "Tuesdays 6:00 pm\n",
      "test\n",
      "TEST\n"
     ]
    },
    {
     "name": "stderr",
     "output_type": "stream",
     "text": [
      "C:\\Users\\lando\\AppData\\Local\\Temp\\ipykernel_34800\\3465631864.py:63: FutureWarning: The frame.append method is deprecated and will be removed from pandas in a future version. Use pandas.concat instead.\n",
      "  df = df.append(datarow, ignore_index=True)\n",
      "C:\\Users\\lando\\AppData\\Local\\Temp\\ipykernel_34800\\3465631864.py:63: FutureWarning: The frame.append method is deprecated and will be removed from pandas in a future version. Use pandas.concat instead.\n",
      "  df = df.append(datarow, ignore_index=True)\n"
     ]
    },
    {
     "name": "stdout",
     "output_type": "stream",
     "text": [
      "TBD - Email osuspe@osu.edu for more information!2070 Neil Ave, Columbus, OH 43210Columbus, OH 43210\n",
      "TEST\n",
      "1st and 3rd Wednesday154 W. 12th Ave.Columbus, OH 43210\n",
      "Wednesday 154 None\n",
      "test\n",
      "TEST\n"
     ]
    },
    {
     "name": "stderr",
     "output_type": "stream",
     "text": [
      "C:\\Users\\lando\\AppData\\Local\\Temp\\ipykernel_34800\\3465631864.py:63: FutureWarning: The frame.append method is deprecated and will be removed from pandas in a future version. Use pandas.concat instead.\n",
      "  df = df.append(datarow, ignore_index=True)\n",
      "C:\\Users\\lando\\AppData\\Local\\Temp\\ipykernel_34800\\3465631864.py:63: FutureWarning: The frame.append method is deprecated and will be removed from pandas in a future version. Use pandas.concat instead.\n",
      "  df = df.append(datarow, ignore_index=True)\n"
     ]
    },
    {
     "name": "stdout",
     "output_type": "stream",
     "text": [
      "Monthly Meetings - Sign-Up for Newsletter for InfoColumbus, OH 43210\n",
      "TEST\n",
      "Biweekly on Mondays at 6:00PMColumbus, OH 43210\n",
      "Mondays 6:00 PM\n",
      "test\n",
      "TEST\n"
     ]
    },
    {
     "name": "stderr",
     "output_type": "stream",
     "text": [
      "C:\\Users\\lando\\AppData\\Local\\Temp\\ipykernel_34800\\3465631864.py:63: FutureWarning: The frame.append method is deprecated and will be removed from pandas in a future version. Use pandas.concat instead.\n",
      "  df = df.append(datarow, ignore_index=True)\n",
      "C:\\Users\\lando\\AppData\\Local\\Temp\\ipykernel_34800\\3465631864.py:63: FutureWarning: The frame.append method is deprecated and will be removed from pandas in a future version. Use pandas.concat instead.\n",
      "  df = df.append(datarow, ignore_index=True)\n"
     ]
    },
    {
     "name": "stdout",
     "output_type": "stream",
     "text": [
      "Every Other Thursday at 6:00pmColumbus, OH 43210\n",
      "Thursday 6:00 pm\n",
      "test\n",
      "TEST\n",
      "Friday 1pm333 W. 10th Ave.Columbus, OH 43210\n",
      "Friday 1 pm\n",
      "test\n",
      "TEST\n"
     ]
    },
    {
     "name": "stderr",
     "output_type": "stream",
     "text": [
      "C:\\Users\\lando\\AppData\\Local\\Temp\\ipykernel_34800\\3465631864.py:63: FutureWarning: The frame.append method is deprecated and will be removed from pandas in a future version. Use pandas.concat instead.\n",
      "  df = df.append(datarow, ignore_index=True)\n",
      "C:\\Users\\lando\\AppData\\Local\\Temp\\ipykernel_34800\\3465631864.py:63: FutureWarning: The frame.append method is deprecated and will be removed from pandas in a future version. Use pandas.concat instead.\n",
      "  df = df.append(datarow, ignore_index=True)\n"
     ]
    },
    {
     "name": "stdout",
     "output_type": "stream",
     "text": [
      "TBA on instagram (@ssaohiostate)1739 N. High StreetColumbus, OH 43210\n",
      "TEST\n",
      "Sunday 6:30-8:30; Wednesday 7:00pm-9:00pm1899 College RoadColumbus, OH 43210\n",
      "Sunday 6:30 None\n",
      "test\n",
      "TEST\n"
     ]
    },
    {
     "name": "stderr",
     "output_type": "stream",
     "text": [
      "C:\\Users\\lando\\AppData\\Local\\Temp\\ipykernel_34800\\3465631864.py:63: FutureWarning: The frame.append method is deprecated and will be removed from pandas in a future version. Use pandas.concat instead.\n",
      "  df = df.append(datarow, ignore_index=True)\n",
      "C:\\Users\\lando\\AppData\\Local\\Temp\\ipykernel_34800\\3465631864.py:63: FutureWarning: The frame.append method is deprecated and will be removed from pandas in a future version. Use pandas.concat instead.\n",
      "  df = df.append(datarow, ignore_index=True)\n"
     ]
    },
    {
     "name": "stdout",
     "output_type": "stream",
     "text": [
      "Columbus, OH 43210\n",
      "TEST\n",
      "Sundays 4 pm1849 Cannon Dr, Columbus, OH 43201Columbus, OH 43210\n",
      "Sundays 4 pm\n",
      "test\n",
      "TEST\n"
     ]
    },
    {
     "name": "stderr",
     "output_type": "stream",
     "text": [
      "C:\\Users\\lando\\AppData\\Local\\Temp\\ipykernel_34800\\3465631864.py:63: FutureWarning: The frame.append method is deprecated and will be removed from pandas in a future version. Use pandas.concat instead.\n",
      "  df = df.append(datarow, ignore_index=True)\n",
      "C:\\Users\\lando\\AppData\\Local\\Temp\\ipykernel_34800\\3465631864.py:63: FutureWarning: The frame.append method is deprecated and will be removed from pandas in a future version. Use pandas.concat instead.\n",
      "  df = df.append(datarow, ignore_index=True)\n"
     ]
    },
    {
     "name": "stdout",
     "output_type": "stream",
     "text": [
      "Tuesdays biweekly at 7pmColumbus, OH 43210\n",
      "TEST\n",
      "M: 8pm; T: 5:30pm; W: 5:30pm; Th: 5pm; F: 9:30am1775 College Rd (Wednesdays Only)Columbus, OH 43210\n",
      "TEST\n"
     ]
    },
    {
     "name": "stderr",
     "output_type": "stream",
     "text": [
      "C:\\Users\\lando\\AppData\\Local\\Temp\\ipykernel_34800\\3465631864.py:63: FutureWarning: The frame.append method is deprecated and will be removed from pandas in a future version. Use pandas.concat instead.\n",
      "  df = df.append(datarow, ignore_index=True)\n",
      "C:\\Users\\lando\\AppData\\Local\\Temp\\ipykernel_34800\\3465631864.py:63: FutureWarning: The frame.append method is deprecated and will be removed from pandas in a future version. Use pandas.concat instead.\n",
      "  df = df.append(datarow, ignore_index=True)\n"
     ]
    },
    {
     "name": "stdout",
     "output_type": "stream",
     "text": [
      "On Mondays, 1:30pm, every 2 weeks1775 College RoadColumbus, OH 43210\n",
      "Mondays 1:30 pm\n",
      "test\n",
      "TEST\n",
      "Members are informed about meetings via e-mail1775 College Rd Columbus, OH 43210Columbus, OH 43210\n",
      "TEST\n"
     ]
    },
    {
     "name": "stderr",
     "output_type": "stream",
     "text": [
      "C:\\Users\\lando\\AppData\\Local\\Temp\\ipykernel_34800\\3465631864.py:63: FutureWarning: The frame.append method is deprecated and will be removed from pandas in a future version. Use pandas.concat instead.\n",
      "  df = df.append(datarow, ignore_index=True)\n",
      "C:\\Users\\lando\\AppData\\Local\\Temp\\ipykernel_34800\\3465631864.py:63: FutureWarning: The frame.append method is deprecated and will be removed from pandas in a future version. Use pandas.concat instead.\n",
      "  df = df.append(datarow, ignore_index=True)\n"
     ]
    },
    {
     "name": "stdout",
     "output_type": "stream",
     "text": [
      "Wednesday 11:30 amColumbus, OH 43210\n",
      "Wednesday 11:30 am\n",
      "test\n",
      "TEST\n",
      "Once a month-Notified by GroupMe messageThe Ohio UnionColumbus, OH 43210\n",
      "TEST\n"
     ]
    },
    {
     "name": "stderr",
     "output_type": "stream",
     "text": [
      "C:\\Users\\lando\\AppData\\Local\\Temp\\ipykernel_34800\\3465631864.py:63: FutureWarning: The frame.append method is deprecated and will be removed from pandas in a future version. Use pandas.concat instead.\n",
      "  df = df.append(datarow, ignore_index=True)\n",
      "C:\\Users\\lando\\AppData\\Local\\Temp\\ipykernel_34800\\3465631864.py:63: FutureWarning: The frame.append method is deprecated and will be removed from pandas in a future version. Use pandas.concat instead.\n",
      "  df = df.append(datarow, ignore_index=True)\n"
     ]
    },
    {
     "name": "stdout",
     "output_type": "stream",
     "text": [
      "Tuesday 8 pmColumbus, OH 43210\n",
      "Tuesday 8 pm\n",
      "test\n",
      "TEST\n"
     ]
    },
    {
     "name": "stderr",
     "output_type": "stream",
     "text": [
      "C:\\Users\\lando\\AppData\\Local\\Temp\\ipykernel_34800\\3465631864.py:63: FutureWarning: The frame.append method is deprecated and will be removed from pandas in a future version. Use pandas.concat instead.\n",
      "  df = df.append(datarow, ignore_index=True)\n"
     ]
    },
    {
     "name": "stdout",
     "output_type": "stream",
     "text": [
      "Mondays 6:45 - 7:45Columbus, OH 43210\n",
      "Mondays 6:45 None\n",
      "test\n",
      "TEST\n",
      "Sunday 7:00pm1739 N. High St.Columbus, OH 43210\n",
      "Sunday 7:00 pm\n",
      "test\n",
      "TEST\n"
     ]
    },
    {
     "name": "stderr",
     "output_type": "stream",
     "text": [
      "C:\\Users\\lando\\AppData\\Local\\Temp\\ipykernel_34800\\3465631864.py:63: FutureWarning: The frame.append method is deprecated and will be removed from pandas in a future version. Use pandas.concat instead.\n",
      "  df = df.append(datarow, ignore_index=True)\n",
      "C:\\Users\\lando\\AppData\\Local\\Temp\\ipykernel_34800\\3465631864.py:63: FutureWarning: The frame.append method is deprecated and will be removed from pandas in a future version. Use pandas.concat instead.\n",
      "  df = df.append(datarow, ignore_index=True)\n"
     ]
    },
    {
     "name": "stdout",
     "output_type": "stream",
     "text": [
      "Determined in GroupMe-Columbus, OH 43210\n",
      "TEST\n",
      "Every other Thursday 5:30-6:30p.m.Columbus, OH 43210\n",
      "Thursday 5:30 None\n",
      "test\n",
      "TEST\n"
     ]
    },
    {
     "name": "stderr",
     "output_type": "stream",
     "text": [
      "C:\\Users\\lando\\AppData\\Local\\Temp\\ipykernel_34800\\3465631864.py:63: FutureWarning: The frame.append method is deprecated and will be removed from pandas in a future version. Use pandas.concat instead.\n",
      "  df = df.append(datarow, ignore_index=True)\n",
      "C:\\Users\\lando\\AppData\\Local\\Temp\\ipykernel_34800\\3465631864.py:63: FutureWarning: The frame.append method is deprecated and will be removed from pandas in a future version. Use pandas.concat instead.\n",
      "  df = df.append(datarow, ignore_index=True)\n"
     ]
    },
    {
     "name": "stdout",
     "output_type": "stream",
     "text": [
      "Tuesdays at 7Columbus, OH 43210\n",
      "Tuesdays 7 None\n",
      "test\n",
      "TEST\n",
      "Columbus, OH 43210\n",
      "TEST\n"
     ]
    },
    {
     "name": "stderr",
     "output_type": "stream",
     "text": [
      "C:\\Users\\lando\\AppData\\Local\\Temp\\ipykernel_34800\\3465631864.py:63: FutureWarning: The frame.append method is deprecated and will be removed from pandas in a future version. Use pandas.concat instead.\n",
      "  df = df.append(datarow, ignore_index=True)\n",
      "C:\\Users\\lando\\AppData\\Local\\Temp\\ipykernel_34800\\3465631864.py:63: FutureWarning: The frame.append method is deprecated and will be removed from pandas in a future version. Use pandas.concat instead.\n",
      "  df = df.append(datarow, ignore_index=True)\n"
     ]
    },
    {
     "name": "stdout",
     "output_type": "stream",
     "text": [
      "Mondays 6-7 PM, Thursdays & Sundays 6:30-7:30 PM,Columbus, OH 43210\n",
      "Mondays 6 None\n",
      "test\n",
      "TEST\n",
      "Tuesday/Thursday 6:30-8:30pm; Sun 5:00-7:00pmColumbus, OH 43210\n",
      "Sun 5:00 None\n",
      "test\n",
      "TEST\n"
     ]
    },
    {
     "name": "stderr",
     "output_type": "stream",
     "text": [
      "C:\\Users\\lando\\AppData\\Local\\Temp\\ipykernel_34800\\3465631864.py:63: FutureWarning: The frame.append method is deprecated and will be removed from pandas in a future version. Use pandas.concat instead.\n",
      "  df = df.append(datarow, ignore_index=True)\n",
      "C:\\Users\\lando\\AppData\\Local\\Temp\\ipykernel_34800\\3465631864.py:63: FutureWarning: The frame.append method is deprecated and will be removed from pandas in a future version. Use pandas.concat instead.\n",
      "  df = df.append(datarow, ignore_index=True)\n"
     ]
    },
    {
     "name": "stdout",
     "output_type": "stream",
     "text": [
      "Monday and Wednesday 8:00 PM-10:30 PM855 Woody Hayes Drive, Columbus, OH 43210Columbus, OH 43210\n",
      "Wednesday 8:00 PM\n",
      "test\n",
      "TEST\n",
      "Tuesdays 8:30-10:00PM and Thursdays 5:30-7:30PM337 Annie & John Glenn Ave, Columbus OH 43210Columbus, OH 43210\n",
      "Tuesdays 8:30 None\n",
      "test\n",
      "TEST\n"
     ]
    },
    {
     "name": "stderr",
     "output_type": "stream",
     "text": [
      "C:\\Users\\lando\\AppData\\Local\\Temp\\ipykernel_34800\\3465631864.py:63: FutureWarning: The frame.append method is deprecated and will be removed from pandas in a future version. Use pandas.concat instead.\n",
      "  df = df.append(datarow, ignore_index=True)\n",
      "C:\\Users\\lando\\AppData\\Local\\Temp\\ipykernel_34800\\3465631864.py:63: FutureWarning: The frame.append method is deprecated and will be removed from pandas in a future version. Use pandas.concat instead.\n",
      "  df = df.append(datarow, ignore_index=True)\n"
     ]
    },
    {
     "name": "stdout",
     "output_type": "stream",
     "text": [
      "Sun 4pm-6pm & Wed 6pm-8pm337 W. 17th AvenueColumbus, OH 43210\n",
      "Sun 4 pm\n",
      "test\n",
      "TEST\n",
      "Thursdays 6:002012 Innis Rd, Columbus, OH 43224Columbus, OH 43210\n",
      "Thursdays 6:00 None\n",
      "test\n",
      "TEST\n"
     ]
    },
    {
     "name": "stderr",
     "output_type": "stream",
     "text": [
      "C:\\Users\\lando\\AppData\\Local\\Temp\\ipykernel_34800\\3465631864.py:63: FutureWarning: The frame.append method is deprecated and will be removed from pandas in a future version. Use pandas.concat instead.\n",
      "  df = df.append(datarow, ignore_index=True)\n",
      "C:\\Users\\lando\\AppData\\Local\\Temp\\ipykernel_34800\\3465631864.py:63: FutureWarning: The frame.append method is deprecated and will be removed from pandas in a future version. Use pandas.concat instead.\n",
      "  df = df.append(datarow, ignore_index=True)\n"
     ]
    },
    {
     "name": "stdout",
     "output_type": "stream",
     "text": [
      "Sunday 5:30-8:00pmRPAC Room B149 ATTN: Buckeye TwirlColumbus, OH 43210\n",
      "Sunday 5:30 None\n",
      "test\n",
      "TEST\n",
      "M:8:30-10:30p,T:6:30-8:30p,W:6:30-8:30p2200 Carmack Rd, Columbus, OH 43210Lincoln Tower TurfColumbus, OH 43210\n",
      "TEST\n"
     ]
    },
    {
     "name": "stderr",
     "output_type": "stream",
     "text": [
      "C:\\Users\\lando\\AppData\\Local\\Temp\\ipykernel_34800\\3465631864.py:63: FutureWarning: The frame.append method is deprecated and will be removed from pandas in a future version. Use pandas.concat instead.\n",
      "  df = df.append(datarow, ignore_index=True)\n",
      "C:\\Users\\lando\\AppData\\Local\\Temp\\ipykernel_34800\\3465631864.py:63: FutureWarning: The frame.append method is deprecated and will be removed from pandas in a future version. Use pandas.concat instead.\n",
      "  df = df.append(datarow, ignore_index=True)\n"
     ]
    },
    {
     "name": "stdout",
     "output_type": "stream",
     "text": [
      "Sun 6:00-7:30pm, M, T, W, R 7:45-9:45pm1847 Neil AveColumbus, OH 43210\n",
      "Sun 6:00 None\n",
      "test\n",
      "TEST\n",
      "Various times - contact for more info336 W Rich StColumbus, OH 43210\n",
      "TEST\n"
     ]
    },
    {
     "name": "stderr",
     "output_type": "stream",
     "text": [
      "C:\\Users\\lando\\AppData\\Local\\Temp\\ipykernel_34800\\3465631864.py:63: FutureWarning: The frame.append method is deprecated and will be removed from pandas in a future version. Use pandas.concat instead.\n",
      "  df = df.append(datarow, ignore_index=True)\n",
      "C:\\Users\\lando\\AppData\\Local\\Temp\\ipykernel_34800\\3465631864.py:63: FutureWarning: The frame.append method is deprecated and will be removed from pandas in a future version. Use pandas.concat instead.\n",
      "  df = df.append(datarow, ignore_index=True)\n"
     ]
    },
    {
     "name": "stdout",
     "output_type": "stream",
     "text": [
      "Thurs 5:30 PM1031 Carmack Rd, Columbus, OH 43210Columbus, OH 43210\n",
      "Thurs 5:30 PM\n",
      "test\n",
      "TEST\n",
      "as neededavailabilityColumbus, OH 43210\n",
      "TEST\n"
     ]
    },
    {
     "name": "stderr",
     "output_type": "stream",
     "text": [
      "C:\\Users\\lando\\AppData\\Local\\Temp\\ipykernel_34800\\3465631864.py:63: FutureWarning: The frame.append method is deprecated and will be removed from pandas in a future version. Use pandas.concat instead.\n",
      "  df = df.append(datarow, ignore_index=True)\n",
      "C:\\Users\\lando\\AppData\\Local\\Temp\\ipykernel_34800\\3465631864.py:63: FutureWarning: The frame.append method is deprecated and will be removed from pandas in a future version. Use pandas.concat instead.\n",
      "  df = df.append(datarow, ignore_index=True)\n"
     ]
    },
    {
     "name": "stdout",
     "output_type": "stream",
     "text": [
      "M 8:30-10:30pm, WF 7:00-9:00PMColumbus, OH 43210\n",
      "M 8:30 None\n",
      "test\n",
      "TEST\n",
      "Varies-look at Carmen Page or instagram, 8pmN/AColumbus, OH 43210\n",
      "TEST\n"
     ]
    },
    {
     "name": "stderr",
     "output_type": "stream",
     "text": [
      "C:\\Users\\lando\\AppData\\Local\\Temp\\ipykernel_34800\\3465631864.py:63: FutureWarning: The frame.append method is deprecated and will be removed from pandas in a future version. Use pandas.concat instead.\n",
      "  df = df.append(datarow, ignore_index=True)\n",
      "C:\\Users\\lando\\AppData\\Local\\Temp\\ipykernel_34800\\3465631864.py:63: FutureWarning: The frame.append method is deprecated and will be removed from pandas in a future version. Use pandas.concat instead.\n",
      "  df = df.append(datarow, ignore_index=True)\n"
     ]
    },
    {
     "name": "stdout",
     "output_type": "stream",
     "text": [
      "Tu 8:30-9:30 pm; Th 6:30-8:30 pm; Sun 6:30- 8:30pmLincoln Park Turf fields by the TowersColumbus, OH 43210\n",
      "Tu 8:30 None\n",
      "test\n",
      "TEST\n",
      "Tuesdays @ 6:50 PM390 Woody Hayes DriveColumbus, OH 43210\n",
      "Tuesdays 6:50 PM\n",
      "test\n",
      "TEST\n"
     ]
    },
    {
     "name": "stderr",
     "output_type": "stream",
     "text": [
      "C:\\Users\\lando\\AppData\\Local\\Temp\\ipykernel_34800\\3465631864.py:63: FutureWarning: The frame.append method is deprecated and will be removed from pandas in a future version. Use pandas.concat instead.\n",
      "  df = df.append(datarow, ignore_index=True)\n",
      "C:\\Users\\lando\\AppData\\Local\\Temp\\ipykernel_34800\\3465631864.py:63: FutureWarning: The frame.append method is deprecated and will be removed from pandas in a future version. Use pandas.concat instead.\n",
      "  df = df.append(datarow, ignore_index=True)\n"
     ]
    },
    {
     "name": "stdout",
     "output_type": "stream",
     "text": [
      "Once a Semester typically at 6:30 PM2009 Millikin RdColumbus, OH 43210Columbus, OH 43210\n",
      "TEST\n",
      "Monday-Thursday 8:30-10:30pm & Sundays 5:30-7:30pm8185 Business WayPlain City, OHColumbus, OH 43210\n",
      "Sundays 5:30 None\n",
      "test\n",
      "TEST\n"
     ]
    },
    {
     "name": "stderr",
     "output_type": "stream",
     "text": [
      "C:\\Users\\lando\\AppData\\Local\\Temp\\ipykernel_34800\\3465631864.py:63: FutureWarning: The frame.append method is deprecated and will be removed from pandas in a future version. Use pandas.concat instead.\n",
      "  df = df.append(datarow, ignore_index=True)\n",
      "C:\\Users\\lando\\AppData\\Local\\Temp\\ipykernel_34800\\3465631864.py:63: FutureWarning: The frame.append method is deprecated and will be removed from pandas in a future version. Use pandas.concat instead.\n",
      "  df = df.append(datarow, ignore_index=True)\n"
     ]
    },
    {
     "name": "stdout",
     "output_type": "stream",
     "text": [
      "Mondays 9:15-10:15pm & Wednesdays 10:15-11:15pm390 Woody Hayes Drive, Columbus OH 43210Columbus, OH 43210\n",
      "Mondays 9:15 None\n",
      "test\n",
      "TEST\n",
      "Mon- 7-9pm, Wed- 7-9pm, Fri- 7-9pm337 Annie & John Glenn Ave. Columbus, OH 43210Columbus, OH 43210\n",
      "TEST\n"
     ]
    },
    {
     "name": "stderr",
     "output_type": "stream",
     "text": [
      "C:\\Users\\lando\\AppData\\Local\\Temp\\ipykernel_34800\\3465631864.py:63: FutureWarning: The frame.append method is deprecated and will be removed from pandas in a future version. Use pandas.concat instead.\n",
      "  df = df.append(datarow, ignore_index=True)\n",
      "C:\\Users\\lando\\AppData\\Local\\Temp\\ipykernel_34800\\3465631864.py:63: FutureWarning: The frame.append method is deprecated and will be removed from pandas in a future version. Use pandas.concat instead.\n",
      "  df = df.append(datarow, ignore_index=True)\n"
     ]
    },
    {
     "name": "stdout",
     "output_type": "stream",
     "text": [
      "S 12-2PM W 6-8PM F 6-8PM337 W 17th AveColumbus, OH 43210\n",
      "S 12 None\n",
      "test\n",
      "TEST\n",
      "Wednesdays 10:00pm-12:00am1790 Cannon DrColumbus, OH 43210\n",
      "Wednesdays 10:00 pm\n",
      "test\n",
      "TEST\n"
     ]
    },
    {
     "name": "stderr",
     "output_type": "stream",
     "text": [
      "C:\\Users\\lando\\AppData\\Local\\Temp\\ipykernel_34800\\3465631864.py:63: FutureWarning: The frame.append method is deprecated and will be removed from pandas in a future version. Use pandas.concat instead.\n",
      "  df = df.append(datarow, ignore_index=True)\n",
      "C:\\Users\\lando\\AppData\\Local\\Temp\\ipykernel_34800\\3465631864.py:63: FutureWarning: The frame.append method is deprecated and will be removed from pandas in a future version. Use pandas.concat instead.\n",
      "  df = df.append(datarow, ignore_index=True)\n"
     ]
    },
    {
     "name": "stdout",
     "output_type": "stream",
     "text": [
      "1790 Cannon Dr., Columbus, OH 43210Columbus, OH 43210\n",
      "TEST\n",
      "Practice Tuesday and Thursdays at 10 pm390 Woody Hayes Drive, Columbus OhioColumbus, OH 43210\n",
      "Thursdays 10 pm\n",
      "test\n",
      "TEST\n"
     ]
    },
    {
     "name": "stderr",
     "output_type": "stream",
     "text": [
      "C:\\Users\\lando\\AppData\\Local\\Temp\\ipykernel_34800\\3465631864.py:63: FutureWarning: The frame.append method is deprecated and will be removed from pandas in a future version. Use pandas.concat instead.\n",
      "  df = df.append(datarow, ignore_index=True)\n",
      "C:\\Users\\lando\\AppData\\Local\\Temp\\ipykernel_34800\\3465631864.py:63: FutureWarning: The frame.append method is deprecated and will be removed from pandas in a future version. Use pandas.concat instead.\n",
      "  df = df.append(datarow, ignore_index=True)\n"
     ]
    },
    {
     "name": "stdout",
     "output_type": "stream",
     "text": [
      "Mondays 9:30-11, Tuesday 10-11:3 ,Thursday 9:30-111790 Cannon Dr Columbus, OH 43210Columbus, OH 43210\n",
      "Mondays 9:30 None\n",
      "test\n",
      "TEST\n",
      "Third Thursday each month at 7:00Enarson Classroom BuildingColumbus, OH 43210\n",
      "TEST\n"
     ]
    },
    {
     "name": "stderr",
     "output_type": "stream",
     "text": [
      "C:\\Users\\lando\\AppData\\Local\\Temp\\ipykernel_34800\\3465631864.py:63: FutureWarning: The frame.append method is deprecated and will be removed from pandas in a future version. Use pandas.concat instead.\n",
      "  df = df.append(datarow, ignore_index=True)\n",
      "C:\\Users\\lando\\AppData\\Local\\Temp\\ipykernel_34800\\3465631864.py:63: FutureWarning: The frame.append method is deprecated and will be removed from pandas in a future version. Use pandas.concat instead.\n",
      "  df = df.append(datarow, ignore_index=True)\n"
     ]
    },
    {
     "name": "stdout",
     "output_type": "stream",
     "text": [
      "Monday and Wednesday 6:30-8:30pm337 Annie and John Glenn Ave.Columbus, OH 43210\n",
      "Wednesday 6:30 None\n",
      "test\n",
      "TEST\n",
      "Tuesday & ThursdayColumbus, OH 43210\n",
      "TEST\n"
     ]
    },
    {
     "name": "stderr",
     "output_type": "stream",
     "text": [
      "C:\\Users\\lando\\AppData\\Local\\Temp\\ipykernel_34800\\3465631864.py:63: FutureWarning: The frame.append method is deprecated and will be removed from pandas in a future version. Use pandas.concat instead.\n",
      "  df = df.append(datarow, ignore_index=True)\n",
      "C:\\Users\\lando\\AppData\\Local\\Temp\\ipykernel_34800\\3465631864.py:63: FutureWarning: The frame.append method is deprecated and will be removed from pandas in a future version. Use pandas.concat instead.\n",
      "  df = df.append(datarow, ignore_index=True)\n"
     ]
    },
    {
     "name": "stdout",
     "output_type": "stream",
     "text": [
      "Tuesdays @7:00pmEnarson Classroom BuildingColumbus, OH 43210\n",
      "Tuesdays 7:00 pm\n",
      "test\n",
      "TEST\n",
      "Monday, Wednesday from 6:30-8:30pm337 W 17th AveColumbus, OH 43210\n",
      "W 17 None\n",
      "test\n",
      "TEST\n"
     ]
    },
    {
     "name": "stderr",
     "output_type": "stream",
     "text": [
      "C:\\Users\\lando\\AppData\\Local\\Temp\\ipykernel_34800\\3465631864.py:63: FutureWarning: The frame.append method is deprecated and will be removed from pandas in a future version. Use pandas.concat instead.\n",
      "  df = df.append(datarow, ignore_index=True)\n",
      "C:\\Users\\lando\\AppData\\Local\\Temp\\ipykernel_34800\\3465631864.py:63: FutureWarning: The frame.append method is deprecated and will be removed from pandas in a future version. Use pandas.concat instead.\n",
      "  df = df.append(datarow, ignore_index=True)\n"
     ]
    },
    {
     "name": "stdout",
     "output_type": "stream",
     "text": [
      "Mondays and Wednesdays at 6 PM855 Woody Hayes DrColumbus, OH 43210\n",
      "Wednesdays 6 PM\n",
      "test\n",
      "TEST\n",
      "Monday 6-8, Tuesday 6-8, and Wednesday 8:30-10:301790 Cannon Dr, Columbus, OH 43210Columbus, OH 43210\n",
      "Monday 6 None\n",
      "test\n",
      "TEST\n"
     ]
    },
    {
     "name": "stderr",
     "output_type": "stream",
     "text": [
      "C:\\Users\\lando\\AppData\\Local\\Temp\\ipykernel_34800\\3465631864.py:63: FutureWarning: The frame.append method is deprecated and will be removed from pandas in a future version. Use pandas.concat instead.\n",
      "  df = df.append(datarow, ignore_index=True)\n",
      "C:\\Users\\lando\\AppData\\Local\\Temp\\ipykernel_34800\\3465631864.py:63: FutureWarning: The frame.append method is deprecated and will be removed from pandas in a future version. Use pandas.concat instead.\n",
      "  df = df.append(datarow, ignore_index=True)\n"
     ]
    },
    {
     "name": "stdout",
     "output_type": "stream",
     "text": [
      "Tuesday & Wednesday 6-8pm, Thursday 8-10pmColumbus, OH 43210\n",
      "Wednesday 6 None\n",
      "test\n",
      "TEST\n",
      "Tuesday and Thursday 4:30pmHoover: 4250 Smothers Rd. Westerville, OHColumbus, OH 43210\n",
      "Thursday 4:30 pm\n",
      "test\n",
      "TEST\n"
     ]
    },
    {
     "name": "stderr",
     "output_type": "stream",
     "text": [
      "C:\\Users\\lando\\AppData\\Local\\Temp\\ipykernel_34800\\3465631864.py:63: FutureWarning: The frame.append method is deprecated and will be removed from pandas in a future version. Use pandas.concat instead.\n",
      "  df = df.append(datarow, ignore_index=True)\n",
      "C:\\Users\\lando\\AppData\\Local\\Temp\\ipykernel_34800\\3465631864.py:63: FutureWarning: The frame.append method is deprecated and will be removed from pandas in a future version. Use pandas.concat instead.\n",
      "  df = df.append(datarow, ignore_index=True)\n"
     ]
    },
    {
     "name": "stdout",
     "output_type": "stream",
     "text": [
      "Tuesday/Thursday, 6:00-8:00pm, Sunday 2-4 pmColumbus, OH 43210\n",
      "Sunday 2 None\n",
      "test\n",
      "TEST\n",
      "Sign up at www.skiosu.comto receive meeting info by emailColumbus, OH 43210\n",
      "TEST\n"
     ]
    },
    {
     "name": "stderr",
     "output_type": "stream",
     "text": [
      "C:\\Users\\lando\\AppData\\Local\\Temp\\ipykernel_34800\\3465631864.py:63: FutureWarning: The frame.append method is deprecated and will be removed from pandas in a future version. Use pandas.concat instead.\n",
      "  df = df.append(datarow, ignore_index=True)\n",
      "C:\\Users\\lando\\AppData\\Local\\Temp\\ipykernel_34800\\3465631864.py:63: FutureWarning: The frame.append method is deprecated and will be removed from pandas in a future version. Use pandas.concat instead.\n",
      "  df = df.append(datarow, ignore_index=True)\n"
     ]
    },
    {
     "name": "stdout",
     "output_type": "stream",
     "text": [
      "TBDNANAColumbus, OH 43210\n",
      "TEST\n",
      "Monday, Tuesday, and Thursday 8:00 PM - 10:00 PMRPAC Multipurpose Rooms337 Annie and John Glenn AvenueColumbus, OH 43210\n",
      "Thursday 8:00 PM\n",
      "test\n",
      "TEST\n"
     ]
    },
    {
     "name": "stderr",
     "output_type": "stream",
     "text": [
      "C:\\Users\\lando\\AppData\\Local\\Temp\\ipykernel_34800\\3465631864.py:63: FutureWarning: The frame.append method is deprecated and will be removed from pandas in a future version. Use pandas.concat instead.\n",
      "  df = df.append(datarow, ignore_index=True)\n",
      "C:\\Users\\lando\\AppData\\Local\\Temp\\ipykernel_34800\\3465631864.py:63: FutureWarning: The frame.append method is deprecated and will be removed from pandas in a future version. Use pandas.concat instead.\n",
      "  df = df.append(datarow, ignore_index=True)\n"
     ]
    },
    {
     "name": "stdout",
     "output_type": "stream",
     "text": [
      "Mon 8-10pm Tue 8:30-10:30pm Wed 8-10pm37 Annie and John Glenn Ave, Columbus, OH 43210Columbus, OH 43210\n",
      "Mon 8 None\n",
      "test\n",
      "TEST\n",
      "Sunday-Thursday 8:00pmColumbus, OH 43210Columbus, OH 43210\n",
      "TEST\n"
     ]
    },
    {
     "name": "stderr",
     "output_type": "stream",
     "text": [
      "C:\\Users\\lando\\AppData\\Local\\Temp\\ipykernel_34800\\3465631864.py:63: FutureWarning: The frame.append method is deprecated and will be removed from pandas in a future version. Use pandas.concat instead.\n",
      "  df = df.append(datarow, ignore_index=True)\n",
      "C:\\Users\\lando\\AppData\\Local\\Temp\\ipykernel_34800\\3465631864.py:63: FutureWarning: The frame.append method is deprecated and will be removed from pandas in a future version. Use pandas.concat instead.\n",
      "  df = df.append(datarow, ignore_index=True)\n"
     ]
    },
    {
     "name": "stdout",
     "output_type": "stream",
     "text": [
      "Weekly, 7-9pm Wednesdays460 Woody Hayes Dr, Columbus, OH 43210Columbus, OH 43210\n",
      "Wednesdays 460 None\n",
      "test\n",
      "TEST\n",
      "Tuesday/Thursday 7:00-9:00p.mColumbus, OH 43210\n",
      "TEST\n"
     ]
    },
    {
     "name": "stderr",
     "output_type": "stream",
     "text": [
      "C:\\Users\\lando\\AppData\\Local\\Temp\\ipykernel_34800\\3465631864.py:63: FutureWarning: The frame.append method is deprecated and will be removed from pandas in a future version. Use pandas.concat instead.\n",
      "  df = df.append(datarow, ignore_index=True)\n",
      "C:\\Users\\lando\\AppData\\Local\\Temp\\ipykernel_34800\\3465631864.py:63: FutureWarning: The frame.append method is deprecated and will be removed from pandas in a future version. Use pandas.concat instead.\n",
      "  df = df.append(datarow, ignore_index=True)\n"
     ]
    },
    {
     "name": "stdout",
     "output_type": "stream",
     "text": [
      "Monday Thursday Friday 8:30pm-10:30pm337 W 17th AveColumbus, OH 43210\n",
      "Friday 8:30 pm\n",
      "test\n",
      "TEST\n",
      "M-R 6-8pm @Beekman2200 Carmack Rd, Columbus, OH 43210Columbus, OH 43210\n",
      "TEST\n"
     ]
    },
    {
     "name": "stderr",
     "output_type": "stream",
     "text": [
      "C:\\Users\\lando\\AppData\\Local\\Temp\\ipykernel_34800\\3465631864.py:63: FutureWarning: The frame.append method is deprecated and will be removed from pandas in a future version. Use pandas.concat instead.\n",
      "  df = df.append(datarow, ignore_index=True)\n",
      "C:\\Users\\lando\\AppData\\Local\\Temp\\ipykernel_34800\\3465631864.py:63: FutureWarning: The frame.append method is deprecated and will be removed from pandas in a future version. Use pandas.concat instead.\n",
      "  df = df.append(datarow, ignore_index=True)\n"
     ]
    },
    {
     "name": "stdout",
     "output_type": "stream",
     "text": [
      "Check Website, varies by day337 W 17th AVEColumbus, OH 43210\n",
      "W 17 None\n",
      "test\n",
      "TEST\n",
      "Tuesdays 8 - 10, Thursday 7:30 - 9:30, Sundays 4-6Lincoln Tower Parkn/aColumbus, OH 43210\n",
      "Tuesdays 8 None\n",
      "test\n",
      "TEST\n"
     ]
    },
    {
     "name": "stderr",
     "output_type": "stream",
     "text": [
      "C:\\Users\\lando\\AppData\\Local\\Temp\\ipykernel_34800\\3465631864.py:63: FutureWarning: The frame.append method is deprecated and will be removed from pandas in a future version. Use pandas.concat instead.\n",
      "  df = df.append(datarow, ignore_index=True)\n",
      "C:\\Users\\lando\\AppData\\Local\\Temp\\ipykernel_34800\\3465631864.py:63: FutureWarning: The frame.append method is deprecated and will be removed from pandas in a future version. Use pandas.concat instead.\n",
      "  df = df.append(datarow, ignore_index=True)\n"
     ]
    },
    {
     "name": "stdout",
     "output_type": "stream",
     "text": [
      "Columbus, OH 43210\n",
      "TEST\n",
      "Tuesdays & Thursdays 7pm, Sunday 8pm337 West 17th Avenue, Columbus, OH  43210Columbus, OH 43210\n",
      "Thursdays 7 pm\n",
      "test\n",
      "TEST\n"
     ]
    },
    {
     "name": "stderr",
     "output_type": "stream",
     "text": [
      "C:\\Users\\lando\\AppData\\Local\\Temp\\ipykernel_34800\\3465631864.py:63: FutureWarning: The frame.append method is deprecated and will be removed from pandas in a future version. Use pandas.concat instead.\n",
      "  df = df.append(datarow, ignore_index=True)\n",
      "C:\\Users\\lando\\AppData\\Local\\Temp\\ipykernel_34800\\3465631864.py:63: FutureWarning: The frame.append method is deprecated and will be removed from pandas in a future version. Use pandas.concat instead.\n",
      "  df = df.append(datarow, ignore_index=True)\n"
     ]
    },
    {
     "name": "stdout",
     "output_type": "stream",
     "text": [
      "Sundays 9-11p, Wednesdays 9-10:30p, Thursdays 7-9p337 Annie and John Glenn Avenue Columbus OH 43201Columbus, OH 43210\n",
      "Sundays 9 None\n",
      "test\n",
      "TEST\n",
      "Monday-Thursday 8:15pm-9:45pmBuilding 247 1847 Neil Ave.Columbus, OH 43210Columbus, OH 43210\n",
      "TEST\n"
     ]
    },
    {
     "name": "stderr",
     "output_type": "stream",
     "text": [
      "C:\\Users\\lando\\AppData\\Local\\Temp\\ipykernel_34800\\3465631864.py:63: FutureWarning: The frame.append method is deprecated and will be removed from pandas in a future version. Use pandas.concat instead.\n",
      "  df = df.append(datarow, ignore_index=True)\n",
      "C:\\Users\\lando\\AppData\\Local\\Temp\\ipykernel_34800\\3465631864.py:63: FutureWarning: The frame.append method is deprecated and will be removed from pandas in a future version. Use pandas.concat instead.\n",
      "  df = df.append(datarow, ignore_index=True)\n"
     ]
    },
    {
     "name": "stdout",
     "output_type": "stream",
     "text": [
      "M,T,W,Th 6:45-8:15 pm1847 Neil Ave.Columbus, OH 43210\n",
      "TEST\n",
      "7:00 PM on TuesdaysColumbus, OH 43210\n",
      "TEST\n"
     ]
    },
    {
     "name": "stderr",
     "output_type": "stream",
     "text": [
      "C:\\Users\\lando\\AppData\\Local\\Temp\\ipykernel_34800\\3465631864.py:63: FutureWarning: The frame.append method is deprecated and will be removed from pandas in a future version. Use pandas.concat instead.\n",
      "  df = df.append(datarow, ignore_index=True)\n",
      "C:\\Users\\lando\\AppData\\Local\\Temp\\ipykernel_34800\\3465631864.py:63: FutureWarning: The frame.append method is deprecated and will be removed from pandas in a future version. Use pandas.concat instead.\n",
      "  df = df.append(datarow, ignore_index=True)\n"
     ]
    },
    {
     "name": "stdout",
     "output_type": "stream",
     "text": [
      "Mondays at 6:00 p.m. ESTColumbus, OH 43210\n",
      "Mondays 6:00 None\n",
      "test\n",
      "TEST\n",
      "Mondays at 5:30pmColumbus, OH 43210\n",
      "Mondays 5:30 pm\n",
      "test\n",
      "TEST\n"
     ]
    },
    {
     "name": "stderr",
     "output_type": "stream",
     "text": [
      "C:\\Users\\lando\\AppData\\Local\\Temp\\ipykernel_34800\\3465631864.py:63: FutureWarning: The frame.append method is deprecated and will be removed from pandas in a future version. Use pandas.concat instead.\n",
      "  df = df.append(datarow, ignore_index=True)\n",
      "C:\\Users\\lando\\AppData\\Local\\Temp\\ipykernel_34800\\3465631864.py:63: FutureWarning: The frame.append method is deprecated and will be removed from pandas in a future version. Use pandas.concat instead.\n",
      "  df = df.append(datarow, ignore_index=True)\n"
     ]
    },
    {
     "name": "stdout",
     "output_type": "stream",
     "text": [
      "As Announced 55 W. 12th aveColumbus, OH 43210\n",
      "W 12 None\n",
      "test\n",
      "TEST\n",
      "Mondays at 7 p.m. 242 W 18th Ave Columbus, OH 43210Columbus, OH 43210\n",
      "Mondays 7 None\n",
      "test\n",
      "TEST\n"
     ]
    },
    {
     "name": "stderr",
     "output_type": "stream",
     "text": [
      "C:\\Users\\lando\\AppData\\Local\\Temp\\ipykernel_34800\\3465631864.py:63: FutureWarning: The frame.append method is deprecated and will be removed from pandas in a future version. Use pandas.concat instead.\n",
      "  df = df.append(datarow, ignore_index=True)\n",
      "C:\\Users\\lando\\AppData\\Local\\Temp\\ipykernel_34800\\3465631864.py:63: FutureWarning: The frame.append method is deprecated and will be removed from pandas in a future version. Use pandas.concat instead.\n",
      "  df = df.append(datarow, ignore_index=True)\n"
     ]
    },
    {
     "name": "stdout",
     "output_type": "stream",
     "text": [
      "Columbus, OH 43210\n",
      "TEST\n",
      "Wednesday 7:00 unless otherwise notedColumbus, OH 43210\n",
      "Wednesday 7:00 None\n",
      "test\n",
      "TEST\n"
     ]
    },
    {
     "name": "stderr",
     "output_type": "stream",
     "text": [
      "C:\\Users\\lando\\AppData\\Local\\Temp\\ipykernel_34800\\3465631864.py:63: FutureWarning: The frame.append method is deprecated and will be removed from pandas in a future version. Use pandas.concat instead.\n",
      "  df = df.append(datarow, ignore_index=True)\n",
      "C:\\Users\\lando\\AppData\\Local\\Temp\\ipykernel_34800\\3465631864.py:63: FutureWarning: The frame.append method is deprecated and will be removed from pandas in a future version. Use pandas.concat instead.\n",
      "  df = df.append(datarow, ignore_index=True)\n"
     ]
    },
    {
     "name": "stdout",
     "output_type": "stream",
     "text": [
      "Columbus, OH 43210\n",
      "TEST\n",
      "Columbus, OH 43210\n",
      "TEST\n"
     ]
    },
    {
     "name": "stderr",
     "output_type": "stream",
     "text": [
      "C:\\Users\\lando\\AppData\\Local\\Temp\\ipykernel_34800\\3465631864.py:63: FutureWarning: The frame.append method is deprecated and will be removed from pandas in a future version. Use pandas.concat instead.\n",
      "  df = df.append(datarow, ignore_index=True)\n",
      "C:\\Users\\lando\\AppData\\Local\\Temp\\ipykernel_34800\\3465631864.py:63: FutureWarning: The frame.append method is deprecated and will be removed from pandas in a future version. Use pandas.concat instead.\n",
      "  df = df.append(datarow, ignore_index=True)\n"
     ]
    },
    {
     "name": "stdout",
     "output_type": "stream",
     "text": [
      "Biquarterly338 West 10th Avenue, Columbus, OH 43210Columbus, OH 43210\n",
      "TEST\n",
      "Biweekly on Tuesdays at 6:00 pm1739 N. High StreetColumbus, OH 43210\n",
      "Tuesdays 6:00 pm\n",
      "test\n",
      "TEST\n"
     ]
    },
    {
     "name": "stderr",
     "output_type": "stream",
     "text": [
      "C:\\Users\\lando\\AppData\\Local\\Temp\\ipykernel_34800\\3465631864.py:63: FutureWarning: The frame.append method is deprecated and will be removed from pandas in a future version. Use pandas.concat instead.\n",
      "  df = df.append(datarow, ignore_index=True)\n",
      "C:\\Users\\lando\\AppData\\Local\\Temp\\ipykernel_34800\\3465631864.py:63: FutureWarning: The frame.append method is deprecated and will be removed from pandas in a future version. Use pandas.concat instead.\n",
      "  df = df.append(datarow, ignore_index=True)\n"
     ]
    },
    {
     "name": "stdout",
     "output_type": "stream",
     "text": [
      "First Friday of each month, 3:00255 Hagerty Hall1775 College RoadColumbus, OH 43210\n",
      "TEST\n",
      "Columbus, OH 43210\n",
      "TEST\n"
     ]
    },
    {
     "name": "stderr",
     "output_type": "stream",
     "text": [
      "C:\\Users\\lando\\AppData\\Local\\Temp\\ipykernel_34800\\3465631864.py:63: FutureWarning: The frame.append method is deprecated and will be removed from pandas in a future version. Use pandas.concat instead.\n",
      "  df = df.append(datarow, ignore_index=True)\n",
      "C:\\Users\\lando\\AppData\\Local\\Temp\\ipykernel_34800\\3465631864.py:63: FutureWarning: The frame.append method is deprecated and will be removed from pandas in a future version. Use pandas.concat instead.\n",
      "  df = df.append(datarow, ignore_index=True)\n"
     ]
    },
    {
     "name": "stdout",
     "output_type": "stream",
     "text": [
      "Thursday 6.00pmOhio UnionColumbus, OH 43210\n",
      "Thursday 6 None\n",
      "test\n",
      "TEST\n",
      "Last Wednesday of every month at 6pm1070 Carmack RdColumbus, OH 43210\n",
      "TEST\n"
     ]
    },
    {
     "name": "stderr",
     "output_type": "stream",
     "text": [
      "C:\\Users\\lando\\AppData\\Local\\Temp\\ipykernel_34800\\3465631864.py:63: FutureWarning: The frame.append method is deprecated and will be removed from pandas in a future version. Use pandas.concat instead.\n",
      "  df = df.append(datarow, ignore_index=True)\n",
      "C:\\Users\\lando\\AppData\\Local\\Temp\\ipykernel_34800\\3465631864.py:63: FutureWarning: The frame.append method is deprecated and will be removed from pandas in a future version. Use pandas.concat instead.\n",
      "  df = df.append(datarow, ignore_index=True)\n"
     ]
    },
    {
     "name": "stdout",
     "output_type": "stream",
     "text": [
      "Columbus, OH 43210\n",
      "TEST\n",
      "Thursday 5:454  P.M.46 East 16th AveColumbus, OH 43210\n",
      "Thursday 5:45 None\n",
      "test\n",
      "TEST\n"
     ]
    },
    {
     "name": "stderr",
     "output_type": "stream",
     "text": [
      "C:\\Users\\lando\\AppData\\Local\\Temp\\ipykernel_34800\\3465631864.py:63: FutureWarning: The frame.append method is deprecated and will be removed from pandas in a future version. Use pandas.concat instead.\n",
      "  df = df.append(datarow, ignore_index=True)\n",
      "C:\\Users\\lando\\AppData\\Local\\Temp\\ipykernel_34800\\3465631864.py:63: FutureWarning: The frame.append method is deprecated and will be removed from pandas in a future version. Use pandas.concat instead.\n",
      "  df = df.append(datarow, ignore_index=True)\n"
     ]
    },
    {
     "name": "stdout",
     "output_type": "stream",
     "text": [
      "ZoomZoom, ZO 200MColumbus, OH 43210\n",
      "TEST\n",
      "Mondays 6:30 Bolz HallColumbus, OH 43210\n",
      "Mondays 6:30 None\n",
      "test\n",
      "TEST\n"
     ]
    },
    {
     "name": "stderr",
     "output_type": "stream",
     "text": [
      "C:\\Users\\lando\\AppData\\Local\\Temp\\ipykernel_34800\\3465631864.py:63: FutureWarning: The frame.append method is deprecated and will be removed from pandas in a future version. Use pandas.concat instead.\n",
      "  df = df.append(datarow, ignore_index=True)\n",
      "C:\\Users\\lando\\AppData\\Local\\Temp\\ipykernel_34800\\3465631864.py:63: FutureWarning: The frame.append method is deprecated and will be removed from pandas in a future version. Use pandas.concat instead.\n",
      "  df = df.append(datarow, ignore_index=True)\n"
     ]
    },
    {
     "name": "stdout",
     "output_type": "stream",
     "text": [
      "Meetings announced by email, contact leadership.333 W 10th AveColumbus, OH 43210\n",
      "W 10 None\n",
      "test\n",
      "TEST\n",
      "Various events throughout the yearContact lin.3315@osu.eduColumbus, OH 43210\n",
      "TEST\n"
     ]
    },
    {
     "name": "stderr",
     "output_type": "stream",
     "text": [
      "C:\\Users\\lando\\AppData\\Local\\Temp\\ipykernel_34800\\3465631864.py:63: FutureWarning: The frame.append method is deprecated and will be removed from pandas in a future version. Use pandas.concat instead.\n",
      "  df = df.append(datarow, ignore_index=True)\n",
      "C:\\Users\\lando\\AppData\\Local\\Temp\\ipykernel_34800\\3465631864.py:63: FutureWarning: The frame.append method is deprecated and will be removed from pandas in a future version. Use pandas.concat instead.\n",
      "  df = df.append(datarow, ignore_index=True)\n"
     ]
    },
    {
     "name": "stdout",
     "output_type": "stream",
     "text": [
      "Columbus, OH 43210\n",
      "TEST\n",
      "Mondays and fridays 8:30-10:30pm1813 n high st.Columbus, OH 43210\n",
      "fridays 8:30 None\n"
     ]
    },
    {
     "name": "stderr",
     "output_type": "stream",
     "text": [
      "C:\\Users\\lando\\AppData\\Local\\Temp\\ipykernel_34800\\3465631864.py:63: FutureWarning: The frame.append method is deprecated and will be removed from pandas in a future version. Use pandas.concat instead.\n",
      "  df = df.append(datarow, ignore_index=True)\n"
     ]
    },
    {
     "ename": "UnboundLocalError",
     "evalue": "local variable 'parsed_day' referenced before assignment",
     "output_type": "error",
     "traceback": [
      "\u001b[1;31m---------------------------------------------------------------------------\u001b[0m",
      "\u001b[1;31mUnboundLocalError\u001b[0m                         Traceback (most recent call last)",
      "\u001b[1;32mc:\\Users\\lando\\Desktop\\Outside o Class Coding\\Hackathon2022\\Hackathon2022-Clubbify\\Hackathon-Clubbify\\Web-Scraping\\scrape.ipynb Cell 5\u001b[0m in \u001b[0;36m<cell line: 15>\u001b[1;34m()\u001b[0m\n\u001b[0;32m     <a href='vscode-notebook-cell:/c%3A/Users/lando/Desktop/Outside%20o%20Class%20Coding/Hackathon2022/Hackathon2022-Clubbify/Hackathon-Clubbify/Web-Scraping/scrape.ipynb#W2sZmlsZQ%3D%3D?line=44'>45</a>\u001b[0m             current_time \u001b[39m=\u001b[39m current_row\u001b[39m.\u001b[39mfind_all(\u001b[39m'\u001b[39m\u001b[39mtd\u001b[39m\u001b[39m'\u001b[39m)[\u001b[39m0\u001b[39m]\u001b[39m.\u001b[39mtext\u001b[39m.\u001b[39mstrip()\n\u001b[0;32m     <a href='vscode-notebook-cell:/c%3A/Users/lando/Desktop/Outside%20o%20Class%20Coding/Hackathon2022/Hackathon2022-Clubbify/Hackathon-Clubbify/Web-Scraping/scrape.ipynb#W2sZmlsZQ%3D%3D?line=45'>46</a>\u001b[0m             \u001b[39mprint\u001b[39m(current_time)\n\u001b[1;32m---> <a href='vscode-notebook-cell:/c%3A/Users/lando/Desktop/Outside%20o%20Class%20Coding/Hackathon2022/Hackathon2022-Clubbify/Hackathon-Clubbify/Web-Scraping/scrape.ipynb#W2sZmlsZQ%3D%3D?line=46'>47</a>\u001b[0m             current_day, current_time \u001b[39m=\u001b[39m date_parse(current_time)\n\u001b[0;32m     <a href='vscode-notebook-cell:/c%3A/Users/lando/Desktop/Outside%20o%20Class%20Coding/Hackathon2022/Hackathon2022-Clubbify/Hackathon-Clubbify/Web-Scraping/scrape.ipynb#W2sZmlsZQ%3D%3D?line=47'>48</a>\u001b[0m             \u001b[39mprint\u001b[39m(\u001b[39m\"\u001b[39m\u001b[39mTEST\u001b[39m\u001b[39m\"\u001b[39m)\n\u001b[0;32m     <a href='vscode-notebook-cell:/c%3A/Users/lando/Desktop/Outside%20o%20Class%20Coding/Hackathon2022/Hackathon2022-Clubbify/Hackathon-Clubbify/Web-Scraping/scrape.ipynb#W2sZmlsZQ%3D%3D?line=49'>50</a>\u001b[0m         \u001b[39m# print(property)\u001b[39;00m\n\u001b[0;32m     <a href='vscode-notebook-cell:/c%3A/Users/lando/Desktop/Outside%20o%20Class%20Coding/Hackathon2022/Hackathon2022-Clubbify/Hackathon-Clubbify/Web-Scraping/scrape.ipynb#W2sZmlsZQ%3D%3D?line=50'>51</a>\u001b[0m         \u001b[39m# if current_counter == 14:\u001b[39;00m\n\u001b[0;32m     <a href='vscode-notebook-cell:/c%3A/Users/lando/Desktop/Outside%20o%20Class%20Coding/Hackathon2022/Hackathon2022-Clubbify/Hackathon-Clubbify/Web-Scraping/scrape.ipynb#W2sZmlsZQ%3D%3D?line=51'>52</a>\u001b[0m         \u001b[39m#     current_columns = current_row.find_all('td')\u001b[39;00m\n\u001b[1;32m   (...)\u001b[0m\n\u001b[0;32m     <a href='vscode-notebook-cell:/c%3A/Users/lando/Desktop/Outside%20o%20Class%20Coding/Hackathon2022/Hackathon2022-Clubbify/Hackathon-Clubbify/Web-Scraping/scrape.ipynb#W2sZmlsZQ%3D%3D?line=54'>55</a>\u001b[0m         \u001b[39m# current_counter += 1\u001b[39;00m\n\u001b[0;32m     <a href='vscode-notebook-cell:/c%3A/Users/lando/Desktop/Outside%20o%20Class%20Coding/Hackathon2022/Hackathon2022-Clubbify/Hackathon-Clubbify/Web-Scraping/scrape.ipynb#W2sZmlsZQ%3D%3D?line=55'>56</a>\u001b[0m \u001b[39m#-----------------------------------------------------------------\u001b[39;00m\n",
      "\u001b[1;32mc:\\Users\\lando\\Desktop\\Outside o Class Coding\\Hackathon2022\\Hackathon2022-Clubbify\\Hackathon-Clubbify\\Web-Scraping\\scrape.ipynb Cell 5\u001b[0m in \u001b[0;36mdate_parse\u001b[1;34m(input_str)\u001b[0m\n\u001b[0;32m     <a href='vscode-notebook-cell:/c%3A/Users/lando/Desktop/Outside%20o%20Class%20Coding/Hackathon2022/Hackathon2022-Clubbify/Hackathon-Clubbify/Web-Scraping/scrape.ipynb#W2sZmlsZQ%3D%3D?line=59'>60</a>\u001b[0m             parsed_time \u001b[39m-\u001b[39m\u001b[39m=\u001b[39m \u001b[39m1200\u001b[39m\n\u001b[0;32m     <a href='vscode-notebook-cell:/c%3A/Users/lando/Desktop/Outside%20o%20Class%20Coding/Hackathon2022/Hackathon2022-Clubbify/Hackathon-Clubbify/Web-Scraping/scrape.ipynb#W2sZmlsZQ%3D%3D?line=60'>61</a>\u001b[0m         \u001b[39m# elif time[0:2] == \"12\" and meridian == \"pm\":\u001b[39;00m\n\u001b[0;32m     <a href='vscode-notebook-cell:/c%3A/Users/lando/Desktop/Outside%20o%20Class%20Coding/Hackathon2022/Hackathon2022-Clubbify/Hackathon-Clubbify/Web-Scraping/scrape.ipynb#W2sZmlsZQ%3D%3D?line=61'>62</a>\u001b[0m         \u001b[39m#     parsed_time -= 1200\u001b[39;00m\n\u001b[1;32m---> <a href='vscode-notebook-cell:/c%3A/Users/lando/Desktop/Outside%20o%20Class%20Coding/Hackathon2022/Hackathon2022-Clubbify/Hackathon-Clubbify/Web-Scraping/scrape.ipynb#W2sZmlsZQ%3D%3D?line=63'>64</a>\u001b[0m \u001b[39mreturn\u001b[39;00m parsed_day, parsed_time\n",
      "\u001b[1;31mUnboundLocalError\u001b[0m: local variable 'parsed_day' referenced before assignment"
     ]
    }
   ],
   "source": [
    "\n",
    "soup = BeautifulSoup(data, 'html.parser')\n",
    "\n",
    "# Good tutorial:\n",
    "#https://medium.com/geekculture/web-scraping-tables-in-python-using-beautiful-soup-8bbc31c5803e\n",
    "\n",
    "# Finding the holy table\n",
    "table = soup.find('table', class_='c-table')\n",
    "# print(table)\n",
    "# Collecting Ddata\n",
    "df = pd.DataFrame(columns=[\"name\", \"day\", \"time\", \"statement\", \"topics\"])\n",
    "# df = pd.DataFrame()\n",
    "\n",
    "# Counter is for testing -- takes a long time to make url requests\n",
    "counter = 0\n",
    "for row in table.find_all('tr')[1:]:\n",
    "    # print(f\"Our row is {row}\")\n",
    "    # Find all data for each column\n",
    "    columns = row.find_all('td')\n",
    "    club_name = columns[0].text.strip()\n",
    "    \n",
    "    #-----------------------------EXTRA DATA--------------------------\n",
    "    if counter < 9999: #50:\n",
    "        url = columns[0].find(href=True)['href']\n",
    "        #url = columns[0].find('a').attrs['href'] <-- alternative code\n",
    "        #print(\"Found the URL:\", url)\n",
    "\n",
    "        d2 = requests.get(f\"https://activities.osu.edu/{url}\")\n",
    "        current_data = d2.text\n",
    "        club_site = BeautifulSoup(current_data, 'html.parser')\n",
    "        #print(club_site)\n",
    "\n",
    "        current_table = club_site.find('table', class_='c-table')\n",
    "        #print(current_table)\n",
    "\n",
    "        # current_columns = current_table.find_all('tr')\n",
    "        # current_campus = current_columns[0].text.strip()\n",
    "        # print(current_campus)\n",
    "\n",
    "        current_counter = 0\n",
    "        for current_row in current_table.find_all('tr')[1:]:\n",
    "            property = current_row.th.text.strip()\n",
    "\n",
    "            # Have to do this because the number of properties is not constant\n",
    "            if property == \"Meeting Time and Place:\":\n",
    "                current_time = current_row.find_all('td')[0].text.strip()\n",
    "                print(current_time)\n",
    "                current_day, current_time = date_parse(current_time)\n",
    "                print(\"TEST\")\n",
    "\n",
    "            # print(property)\n",
    "            # if current_counter == 14:\n",
    "            #     current_columns = current_row.find_all('td')\n",
    "            #     current_campus = current_columns[0].text.strip()\n",
    "            #     print(current_campus)\n",
    "            # current_counter += 1\n",
    "    #-----------------------------------------------------------------\n",
    "\n",
    "    statement = columns[1].text.strip()\n",
    "    topics = columns[2].text.strip().split(\",\")\n",
    "    if topics[-1] == '':\n",
    "        topics.pop()\n",
    "    datarow = pd.DataFrame([{\"name\":club_name, \"day\":current_day, \"time\":current_time, \"statement\":statement, \"topics\":set(topics)}])\n",
    "    df = df.append(datarow, ignore_index=True)\n",
    "    counter += 1\n",
    "df"
   ]
  },
  {
   "cell_type": "code",
   "execution_count": null,
   "metadata": {},
   "outputs": [],
   "source": []
  }
 ],
 "metadata": {
  "kernelspec": {
   "display_name": "Python 3.9.8 64-bit",
   "language": "python",
   "name": "python3"
  },
  "language_info": {
   "codemirror_mode": {
    "name": "ipython",
    "version": 3
   },
   "file_extension": ".py",
   "mimetype": "text/x-python",
   "name": "python",
   "nbconvert_exporter": "python",
   "pygments_lexer": "ipython3",
   "version": "3.9.8"
  },
  "orig_nbformat": 4,
  "vscode": {
   "interpreter": {
    "hash": "11938c6bc6919ae2720b4d5011047913343b08a43b18698fd82dedb0d4417594"
   }
  }
 },
 "nbformat": 4,
 "nbformat_minor": 2
}
