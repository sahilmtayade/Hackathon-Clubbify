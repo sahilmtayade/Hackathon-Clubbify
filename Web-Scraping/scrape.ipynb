{
 "cells": [
  {
   "cell_type": "code",
   "execution_count": 21,
   "metadata": {},
   "outputs": [],
   "source": [
    "import pandas as pd\n",
    "import requests\n",
    "from bs4 import BeautifulSoup\n"
   ]
  },
  {
   "cell_type": "code",
   "execution_count": 22,
   "metadata": {},
   "outputs": [],
   "source": [
    "\n",
    "club = \"computer\"\n",
    "campus = \"Columbus\"\n",
    "\n",
    "d = requests.get(\n",
    "    #f'https://activities.osu.edu/involvement/student_organizations/find_a_student_org?v=list&s={club}&c={campus}'\n",
    "    'https://activities.osu.edu/involvement/student_organizations/find_a_student_org?v=list&l=ALL&c=Columbus')\n",
    "data = d.text\n",
    "# print(data)\n"
   ]
  },
  {
   "cell_type": "code",
   "execution_count": 70,
   "metadata": {},
   "outputs": [
    {
     "name": "stdout",
     "output_type": "stream",
     "text": [
      "Sundays at 17002121 Tuttle Park PlaceColumbus, OH 43210\n",
      "Monday @ 7pmColumbus, OH 43210\n"
     ]
    },
    {
     "name": "stderr",
     "output_type": "stream",
     "text": [
      "C:\\Users\\lando\\AppData\\Local\\Temp\\ipykernel_34800\\2238899073.py:61: FutureWarning: The frame.append method is deprecated and will be removed from pandas in a future version. Use pandas.concat instead.\n",
      "  df = df.append(datarow, ignore_index=True)\n",
      "C:\\Users\\lando\\AppData\\Local\\Temp\\ipykernel_34800\\2238899073.py:61: FutureWarning: The frame.append method is deprecated and will be removed from pandas in a future version. Use pandas.concat instead.\n",
      "  df = df.append(datarow, ignore_index=True)\n"
     ]
    },
    {
     "name": "stdout",
     "output_type": "stream",
     "text": [
      "Wednesdays @ 7pm (bi-weekly)Enarson Classroom Building2009 Millikin RdColumbus, OH 43210\n",
      "Columbus, OH 43210\n"
     ]
    },
    {
     "name": "stderr",
     "output_type": "stream",
     "text": [
      "C:\\Users\\lando\\AppData\\Local\\Temp\\ipykernel_34800\\2238899073.py:61: FutureWarning: The frame.append method is deprecated and will be removed from pandas in a future version. Use pandas.concat instead.\n",
      "  df = df.append(datarow, ignore_index=True)\n",
      "C:\\Users\\lando\\AppData\\Local\\Temp\\ipykernel_34800\\2238899073.py:61: FutureWarning: The frame.append method is deprecated and will be removed from pandas in a future version. Use pandas.concat instead.\n",
      "  df = df.append(datarow, ignore_index=True)\n"
     ]
    },
    {
     "name": "stdout",
     "output_type": "stream",
     "text": [
      "Sunday 6pmColumbus, OH 43210\n",
      "Mondays and Thursdays 9-11pmColumbus, OH 43210\n"
     ]
    },
    {
     "name": "stderr",
     "output_type": "stream",
     "text": [
      "C:\\Users\\lando\\AppData\\Local\\Temp\\ipykernel_34800\\2238899073.py:61: FutureWarning: The frame.append method is deprecated and will be removed from pandas in a future version. Use pandas.concat instead.\n",
      "  df = df.append(datarow, ignore_index=True)\n",
      "C:\\Users\\lando\\AppData\\Local\\Temp\\ipykernel_34800\\2238899073.py:61: FutureWarning: The frame.append method is deprecated and will be removed from pandas in a future version. Use pandas.concat instead.\n",
      "  df = df.append(datarow, ignore_index=True)\n"
     ]
    },
    {
     "name": "stdout",
     "output_type": "stream",
     "text": [
      "Thursdays 7pm-8pm1739 N High StColumbus, OH 43210\n",
      "Monday and Thursday 7-9 P.M.337 W. 17th Ave.Columbus, OH 43210\n"
     ]
    },
    {
     "name": "stderr",
     "output_type": "stream",
     "text": [
      "C:\\Users\\lando\\AppData\\Local\\Temp\\ipykernel_34800\\2238899073.py:61: FutureWarning: The frame.append method is deprecated and will be removed from pandas in a future version. Use pandas.concat instead.\n",
      "  df = df.append(datarow, ignore_index=True)\n",
      "C:\\Users\\lando\\AppData\\Local\\Temp\\ipykernel_34800\\2238899073.py:61: FutureWarning: The frame.append method is deprecated and will be removed from pandas in a future version. Use pandas.concat instead.\n",
      "  df = df.append(datarow, ignore_index=True)\n"
     ]
    },
    {
     "name": "stdout",
     "output_type": "stream",
     "text": [
      "Tuesdays at 8pmpassword: CEOColumbus, OH 43210\n",
      "1st Monday of the month at 11:30am370 W Ninth AveColumbus, OH 43210\n"
     ]
    },
    {
     "name": "stderr",
     "output_type": "stream",
     "text": [
      "C:\\Users\\lando\\AppData\\Local\\Temp\\ipykernel_34800\\2238899073.py:61: FutureWarning: The frame.append method is deprecated and will be removed from pandas in a future version. Use pandas.concat instead.\n",
      "  df = df.append(datarow, ignore_index=True)\n",
      "C:\\Users\\lando\\AppData\\Local\\Temp\\ipykernel_34800\\2238899073.py:61: FutureWarning: The frame.append method is deprecated and will be removed from pandas in a future version. Use pandas.concat instead.\n",
      "  df = df.append(datarow, ignore_index=True)\n"
     ]
    },
    {
     "name": "stdout",
     "output_type": "stream",
     "text": [
      "Friday 7:00-10 (you may come late or leave early)Columbus, OH 43210\n",
      "Tuesdays, Thursdays and Sundays at 7pm2070 Neil AveColumbus, OH 43210\n"
     ]
    },
    {
     "name": "stderr",
     "output_type": "stream",
     "text": [
      "C:\\Users\\lando\\AppData\\Local\\Temp\\ipykernel_34800\\2238899073.py:61: FutureWarning: The frame.append method is deprecated and will be removed from pandas in a future version. Use pandas.concat instead.\n",
      "  df = df.append(datarow, ignore_index=True)\n",
      "C:\\Users\\lando\\AppData\\Local\\Temp\\ipykernel_34800\\2238899073.py:61: FutureWarning: The frame.append method is deprecated and will be removed from pandas in a future version. Use pandas.concat instead.\n",
      "  df = df.append(datarow, ignore_index=True)\n"
     ]
    },
    {
     "name": "stdout",
     "output_type": "stream",
     "text": [
      "Varies2009 Millikin Rd Columbus, OH 43210Columbus, OH 43210\n",
      "Thursdays 6pm1739 N High StTanya Rutner Hartman RoomColumbus, OH 43210\n"
     ]
    },
    {
     "name": "stderr",
     "output_type": "stream",
     "text": [
      "C:\\Users\\lando\\AppData\\Local\\Temp\\ipykernel_34800\\2238899073.py:61: FutureWarning: The frame.append method is deprecated and will be removed from pandas in a future version. Use pandas.concat instead.\n",
      "  df = df.append(datarow, ignore_index=True)\n",
      "C:\\Users\\lando\\AppData\\Local\\Temp\\ipykernel_34800\\2238899073.py:61: FutureWarning: The frame.append method is deprecated and will be removed from pandas in a future version. Use pandas.concat instead.\n",
      "  df = df.append(datarow, ignore_index=True)\n"
     ]
    },
    {
     "name": "stdout",
     "output_type": "stream",
     "text": [
      "Columbus, OH 43210\n",
      "Tuesdays and Thursdays, 6 to 9 PM2009 Millikin RdColumbus, OH 43210\n"
     ]
    },
    {
     "name": "stderr",
     "output_type": "stream",
     "text": [
      "C:\\Users\\lando\\AppData\\Local\\Temp\\ipykernel_34800\\2238899073.py:61: FutureWarning: The frame.append method is deprecated and will be removed from pandas in a future version. Use pandas.concat instead.\n",
      "  df = df.append(datarow, ignore_index=True)\n",
      "C:\\Users\\lando\\AppData\\Local\\Temp\\ipykernel_34800\\2238899073.py:61: FutureWarning: The frame.append method is deprecated and will be removed from pandas in a future version. Use pandas.concat instead.\n",
      "  df = df.append(datarow, ignore_index=True)\n"
     ]
    },
    {
     "name": "stdout",
     "output_type": "stream",
     "text": [
      "Weekly Depending of Members SchedulesColumbus, OH 43210\n"
     ]
    },
    {
     "name": "stderr",
     "output_type": "stream",
     "text": [
      "C:\\Users\\lando\\AppData\\Local\\Temp\\ipykernel_34800\\2238899073.py:61: FutureWarning: The frame.append method is deprecated and will be removed from pandas in a future version. Use pandas.concat instead.\n",
      "  df = df.append(datarow, ignore_index=True)\n"
     ]
    },
    {
     "name": "stdout",
     "output_type": "stream",
     "text": [
      "Biweekly - Friday 11:30 AM - 12:30 PM500 W 12th AveColumbus, OH 43201Columbus, OH 43210\n",
      "In-person & zoom (Thursday 7:00 PM - 8:00 PM EST)Columbus, OH 43210\n"
     ]
    },
    {
     "name": "stderr",
     "output_type": "stream",
     "text": [
      "C:\\Users\\lando\\AppData\\Local\\Temp\\ipykernel_34800\\2238899073.py:61: FutureWarning: The frame.append method is deprecated and will be removed from pandas in a future version. Use pandas.concat instead.\n",
      "  df = df.append(datarow, ignore_index=True)\n",
      "C:\\Users\\lando\\AppData\\Local\\Temp\\ipykernel_34800\\2238899073.py:61: FutureWarning: The frame.append method is deprecated and will be removed from pandas in a future version. Use pandas.concat instead.\n",
      "  df = df.append(datarow, ignore_index=True)\n"
     ]
    },
    {
     "name": "stdout",
     "output_type": "stream",
     "text": [
      "Tuesday, 7:05-8:05pmSchoenbaum Hall 215Columbus, OH 43210\n",
      "TBD (based on member schedules)Columbus, OH 43210\n"
     ]
    },
    {
     "name": "stderr",
     "output_type": "stream",
     "text": [
      "C:\\Users\\lando\\AppData\\Local\\Temp\\ipykernel_34800\\2238899073.py:61: FutureWarning: The frame.append method is deprecated and will be removed from pandas in a future version. Use pandas.concat instead.\n",
      "  df = df.append(datarow, ignore_index=True)\n",
      "C:\\Users\\lando\\AppData\\Local\\Temp\\ipykernel_34800\\2238899073.py:61: FutureWarning: The frame.append method is deprecated and will be removed from pandas in a future version. Use pandas.concat instead.\n",
      "  df = df.append(datarow, ignore_index=True)\n"
     ]
    },
    {
     "name": "stdout",
     "output_type": "stream",
     "text": [
      "Email actuarial@osu.edu to receive detailsColumbus, OH 43210\n",
      "Columbus, OH 43210\n"
     ]
    },
    {
     "name": "stderr",
     "output_type": "stream",
     "text": [
      "C:\\Users\\lando\\AppData\\Local\\Temp\\ipykernel_34800\\2238899073.py:61: FutureWarning: The frame.append method is deprecated and will be removed from pandas in a future version. Use pandas.concat instead.\n",
      "  df = df.append(datarow, ignore_index=True)\n",
      "C:\\Users\\lando\\AppData\\Local\\Temp\\ipykernel_34800\\2238899073.py:61: FutureWarning: The frame.append method is deprecated and will be removed from pandas in a future version. Use pandas.concat instead.\n",
      "  df = df.append(datarow, ignore_index=True)\n"
     ]
    },
    {
     "name": "stdout",
     "output_type": "stream",
     "text": [
      "Wednesday 11:45305 w 12th ave Columbus, OH 43210Columbus, OH 43210\n",
      "You schedule your own time slot 1hr/weekStudent UnionColumbus, OH 43210\n"
     ]
    },
    {
     "name": "stderr",
     "output_type": "stream",
     "text": [
      "C:\\Users\\lando\\AppData\\Local\\Temp\\ipykernel_34800\\2238899073.py:61: FutureWarning: The frame.append method is deprecated and will be removed from pandas in a future version. Use pandas.concat instead.\n",
      "  df = df.append(datarow, ignore_index=True)\n",
      "C:\\Users\\lando\\AppData\\Local\\Temp\\ipykernel_34800\\2238899073.py:61: FutureWarning: The frame.append method is deprecated and will be removed from pandas in a future version. Use pandas.concat instead.\n",
      "  df = df.append(datarow, ignore_index=True)\n"
     ]
    },
    {
     "name": "stdout",
     "output_type": "stream",
     "text": [
      "Varies55 W. 12th AvenueColumbus, OH 43210\n",
      "Thursdays, 8:00 p.m. - 9:00p.m.1739 N. High StColumbus, OH 43210\n"
     ]
    },
    {
     "name": "stderr",
     "output_type": "stream",
     "text": [
      "C:\\Users\\lando\\AppData\\Local\\Temp\\ipykernel_34800\\2238899073.py:61: FutureWarning: The frame.append method is deprecated and will be removed from pandas in a future version. Use pandas.concat instead.\n",
      "  df = df.append(datarow, ignore_index=True)\n",
      "C:\\Users\\lando\\AppData\\Local\\Temp\\ipykernel_34800\\2238899073.py:61: FutureWarning: The frame.append method is deprecated and will be removed from pandas in a future version. Use pandas.concat instead.\n",
      "  df = df.append(datarow, ignore_index=True)\n"
     ]
    },
    {
     "name": "stdout",
     "output_type": "stream",
     "text": [
      "Columbus, OH 43210\n",
      "Wednesday 7:30PMColumbus, OH 43210\n"
     ]
    },
    {
     "name": "stderr",
     "output_type": "stream",
     "text": [
      "C:\\Users\\lando\\AppData\\Local\\Temp\\ipykernel_34800\\2238899073.py:61: FutureWarning: The frame.append method is deprecated and will be removed from pandas in a future version. Use pandas.concat instead.\n",
      "  df = df.append(datarow, ignore_index=True)\n",
      "C:\\Users\\lando\\AppData\\Local\\Temp\\ipykernel_34800\\2238899073.py:61: FutureWarning: The frame.append method is deprecated and will be removed from pandas in a future version. Use pandas.concat instead.\n",
      "  df = df.append(datarow, ignore_index=True)\n"
     ]
    },
    {
     "name": "stdout",
     "output_type": "stream",
     "text": [
      "Weekly on Mondays at 6:30pm1739 N High StColumbus, OH 43210Columbus, OH 43210\n"
     ]
    },
    {
     "name": "stderr",
     "output_type": "stream",
     "text": [
      "C:\\Users\\lando\\AppData\\Local\\Temp\\ipykernel_34800\\2238899073.py:61: FutureWarning: The frame.append method is deprecated and will be removed from pandas in a future version. Use pandas.concat instead.\n",
      "  df = df.append(datarow, ignore_index=True)\n"
     ]
    },
    {
     "name": "stdout",
     "output_type": "stream",
     "text": [
      "Wednesdays 7:00-9:00 PM30 W Woodruff AveColumbus, OH 43210Columbus, OH 43210\n"
     ]
    },
    {
     "name": "stderr",
     "output_type": "stream",
     "text": [
      "C:\\Users\\lando\\AppData\\Local\\Temp\\ipykernel_34800\\2238899073.py:61: FutureWarning: The frame.append method is deprecated and will be removed from pandas in a future version. Use pandas.concat instead.\n",
      "  df = df.append(datarow, ignore_index=True)\n"
     ]
    },
    {
     "name": "stdout",
     "output_type": "stream",
     "text": [
      "Wednesdays, 7:00pm - 9:00pm154 W. 12th AvenueColumbus, OH 43210\n",
      "Columbus, OH 43210\n"
     ]
    },
    {
     "name": "stderr",
     "output_type": "stream",
     "text": [
      "C:\\Users\\lando\\AppData\\Local\\Temp\\ipykernel_34800\\2238899073.py:61: FutureWarning: The frame.append method is deprecated and will be removed from pandas in a future version. Use pandas.concat instead.\n",
      "  df = df.append(datarow, ignore_index=True)\n",
      "C:\\Users\\lando\\AppData\\Local\\Temp\\ipykernel_34800\\2238899073.py:61: FutureWarning: The frame.append method is deprecated and will be removed from pandas in a future version. Use pandas.concat instead.\n",
      "  df = df.append(datarow, ignore_index=True)\n"
     ]
    },
    {
     "name": "stdout",
     "output_type": "stream",
     "text": [
      "Every Other Thursday at 7:00PM2021 Coffey Rd. Columbus, OH 43210Columbus, OH 43210\n"
     ]
    },
    {
     "name": "stderr",
     "output_type": "stream",
     "text": [
      "C:\\Users\\lando\\AppData\\Local\\Temp\\ipykernel_34800\\2238899073.py:61: FutureWarning: The frame.append method is deprecated and will be removed from pandas in a future version. Use pandas.concat instead.\n",
      "  df = df.append(datarow, ignore_index=True)\n"
     ]
    },
    {
     "name": "stdout",
     "output_type": "stream",
     "text": [
      "Monthly meetings and periodic socials2120 Fyffe Road, Columbus, OH 43210Columbus, OH 43210\n"
     ]
    },
    {
     "name": "stderr",
     "output_type": "stream",
     "text": [
      "C:\\Users\\lando\\AppData\\Local\\Temp\\ipykernel_34800\\2238899073.py:61: FutureWarning: The frame.append method is deprecated and will be removed from pandas in a future version. Use pandas.concat instead.\n",
      "  df = df.append(datarow, ignore_index=True)\n"
     ]
    },
    {
     "name": "stdout",
     "output_type": "stream",
     "text": [
      "1st & 3rd Wednesday at 7:00 p.m.2120 Ag Admin Fyffe RoadColumbus, OH 43210\n"
     ]
    },
    {
     "name": "stderr",
     "output_type": "stream",
     "text": [
      "C:\\Users\\lando\\AppData\\Local\\Temp\\ipykernel_34800\\2238899073.py:61: FutureWarning: The frame.append method is deprecated and will be removed from pandas in a future version. Use pandas.concat instead.\n",
      "  df = df.append(datarow, ignore_index=True)\n"
     ]
    },
    {
     "name": "stdout",
     "output_type": "stream",
     "text": [
      "2nd and 4th Tuesdays of every month 7:00pm2120 Fyffe Rd.Columbus, OH 43210Columbus, OH 43210\n"
     ]
    },
    {
     "name": "stderr",
     "output_type": "stream",
     "text": [
      "C:\\Users\\lando\\AppData\\Local\\Temp\\ipykernel_34800\\2238899073.py:61: FutureWarning: The frame.append method is deprecated and will be removed from pandas in a future version. Use pandas.concat instead.\n",
      "  df = df.append(datarow, ignore_index=True)\n"
     ]
    },
    {
     "name": "stdout",
     "output_type": "stream",
     "text": [
      "1st, and 3rd Wednesday at 7 pm590 Woody Hayes Drive Columbus Ohio 43210Columbus, OH 43210\n",
      "Virtual meetings2120 Fyffe RoadColumbus, OH 43210\n"
     ]
    },
    {
     "name": "stderr",
     "output_type": "stream",
     "text": [
      "C:\\Users\\lando\\AppData\\Local\\Temp\\ipykernel_34800\\2238899073.py:61: FutureWarning: The frame.append method is deprecated and will be removed from pandas in a future version. Use pandas.concat instead.\n",
      "  df = df.append(datarow, ignore_index=True)\n",
      "C:\\Users\\lando\\AppData\\Local\\Temp\\ipykernel_34800\\2238899073.py:61: FutureWarning: The frame.append method is deprecated and will be removed from pandas in a future version. Use pandas.concat instead.\n",
      "  df = df.append(datarow, ignore_index=True)\n"
     ]
    },
    {
     "name": "stdout",
     "output_type": "stream",
     "text": [
      "Columbus, OH 43210\n",
      "Columbus, OH 43210\n"
     ]
    },
    {
     "name": "stderr",
     "output_type": "stream",
     "text": [
      "C:\\Users\\lando\\AppData\\Local\\Temp\\ipykernel_34800\\2238899073.py:61: FutureWarning: The frame.append method is deprecated and will be removed from pandas in a future version. Use pandas.concat instead.\n",
      "  df = df.append(datarow, ignore_index=True)\n",
      "C:\\Users\\lando\\AppData\\Local\\Temp\\ipykernel_34800\\2238899073.py:61: FutureWarning: The frame.append method is deprecated and will be removed from pandas in a future version. Use pandas.concat instead.\n",
      "  df = df.append(datarow, ignore_index=True)\n"
     ]
    },
    {
     "name": "stdout",
     "output_type": "stream",
     "text": [
      "Wednesdays from 6-7 PM1858 Neil Avenue Columbus, Ohio 43210Columbus, OH 43210\n",
      "Wednesdays at 3:30pmColumbus, OH 43210\n"
     ]
    },
    {
     "name": "stderr",
     "output_type": "stream",
     "text": [
      "C:\\Users\\lando\\AppData\\Local\\Temp\\ipykernel_34800\\2238899073.py:61: FutureWarning: The frame.append method is deprecated and will be removed from pandas in a future version. Use pandas.concat instead.\n",
      "  df = df.append(datarow, ignore_index=True)\n",
      "C:\\Users\\lando\\AppData\\Local\\Temp\\ipykernel_34800\\2238899073.py:61: FutureWarning: The frame.append method is deprecated and will be removed from pandas in a future version. Use pandas.concat instead.\n",
      "  df = df.append(datarow, ignore_index=True)\n"
     ]
    },
    {
     "name": "stdout",
     "output_type": "stream",
     "text": [
      "Columbus, OH 43210\n",
      "Mondays 6 pm - 7 pm2009 Millikin Rd Columbus, OH 43210Columbus, OH 43210\n"
     ]
    },
    {
     "name": "stderr",
     "output_type": "stream",
     "text": [
      "C:\\Users\\lando\\AppData\\Local\\Temp\\ipykernel_34800\\2238899073.py:61: FutureWarning: The frame.append method is deprecated and will be removed from pandas in a future version. Use pandas.concat instead.\n",
      "  df = df.append(datarow, ignore_index=True)\n",
      "C:\\Users\\lando\\AppData\\Local\\Temp\\ipykernel_34800\\2238899073.py:61: FutureWarning: The frame.append method is deprecated and will be removed from pandas in a future version. Use pandas.concat instead.\n",
      "  df = df.append(datarow, ignore_index=True)\n"
     ]
    },
    {
     "name": "stdout",
     "output_type": "stream",
     "text": [
      "Every Monday at 6:00103 E. 15th AveColumbus, OH 43210\n",
      "Wednesday's 7:00PMColumbus, OH 43210\n"
     ]
    },
    {
     "name": "stderr",
     "output_type": "stream",
     "text": [
      "C:\\Users\\lando\\AppData\\Local\\Temp\\ipykernel_34800\\2238899073.py:61: FutureWarning: The frame.append method is deprecated and will be removed from pandas in a future version. Use pandas.concat instead.\n",
      "  df = df.append(datarow, ignore_index=True)\n",
      "C:\\Users\\lando\\AppData\\Local\\Temp\\ipykernel_34800\\2238899073.py:61: FutureWarning: The frame.append method is deprecated and will be removed from pandas in a future version. Use pandas.concat instead.\n",
      "  df = df.append(datarow, ignore_index=True)\n"
     ]
    },
    {
     "name": "stdout",
     "output_type": "stream",
     "text": [
      "Second Tuesday Every Month at 6:00 p.m.590 Woody Hayes DriveColumbus, OH 43210\n",
      "Tuesdays 6pm-7pmColumbus, OH 43210\n"
     ]
    },
    {
     "name": "stderr",
     "output_type": "stream",
     "text": [
      "C:\\Users\\lando\\AppData\\Local\\Temp\\ipykernel_34800\\2238899073.py:61: FutureWarning: The frame.append method is deprecated and will be removed from pandas in a future version. Use pandas.concat instead.\n",
      "  df = df.append(datarow, ignore_index=True)\n",
      "C:\\Users\\lando\\AppData\\Local\\Temp\\ipykernel_34800\\2238899073.py:61: FutureWarning: The frame.append method is deprecated and will be removed from pandas in a future version. Use pandas.concat instead.\n",
      "  df = df.append(datarow, ignore_index=True)\n"
     ]
    },
    {
     "name": "stdout",
     "output_type": "stream",
     "text": [
      "Mondays at 6:30 pm200 E. 17th Ave.Columbus, OH 43210\n"
     ]
    },
    {
     "name": "stderr",
     "output_type": "stream",
     "text": [
      "C:\\Users\\lando\\AppData\\Local\\Temp\\ipykernel_34800\\2238899073.py:61: FutureWarning: The frame.append method is deprecated and will be removed from pandas in a future version. Use pandas.concat instead.\n",
      "  df = df.append(datarow, ignore_index=True)\n"
     ]
    },
    {
     "name": "stdout",
     "output_type": "stream",
     "text": [
      "Wednesdays at 7:00pmBolz HallColumbus, OH 43210Columbus, OH 43210\n",
      "Mondays at 7:00 PM1832 Indianola AveColumbus, OH  43201Columbus, OH 43210\n"
     ]
    },
    {
     "name": "stderr",
     "output_type": "stream",
     "text": [
      "C:\\Users\\lando\\AppData\\Local\\Temp\\ipykernel_34800\\2238899073.py:61: FutureWarning: The frame.append method is deprecated and will be removed from pandas in a future version. Use pandas.concat instead.\n",
      "  df = df.append(datarow, ignore_index=True)\n",
      "C:\\Users\\lando\\AppData\\Local\\Temp\\ipykernel_34800\\2238899073.py:61: FutureWarning: The frame.append method is deprecated and will be removed from pandas in a future version. Use pandas.concat instead.\n",
      "  df = df.append(datarow, ignore_index=True)\n"
     ]
    },
    {
     "name": "stdout",
     "output_type": "stream",
     "text": [
      "Monday 7:15 pm1979 Iuka Ave. Columbus, Ohio 43201Columbus, OH 43210\n",
      "Mondays @ 7p.m.1918 Indianola AveColumbus, OH 43210\n"
     ]
    },
    {
     "name": "stderr",
     "output_type": "stream",
     "text": [
      "C:\\Users\\lando\\AppData\\Local\\Temp\\ipykernel_34800\\2238899073.py:61: FutureWarning: The frame.append method is deprecated and will be removed from pandas in a future version. Use pandas.concat instead.\n",
      "  df = df.append(datarow, ignore_index=True)\n",
      "C:\\Users\\lando\\AppData\\Local\\Temp\\ipykernel_34800\\2238899073.py:61: FutureWarning: The frame.append method is deprecated and will be removed from pandas in a future version. Use pandas.concat instead.\n",
      "  df = df.append(datarow, ignore_index=True)\n"
     ]
    },
    {
     "name": "stdout",
     "output_type": "stream",
     "text": [
      "Saturdays @ 10 am12th aveColumbus, OH 43210\n",
      "Mondays, 8pm164 Annie and John Glenn Ave.Columbus, OH 43210Columbus, OH 43210\n"
     ]
    },
    {
     "name": "stderr",
     "output_type": "stream",
     "text": [
      "C:\\Users\\lando\\AppData\\Local\\Temp\\ipykernel_34800\\2238899073.py:61: FutureWarning: The frame.append method is deprecated and will be removed from pandas in a future version. Use pandas.concat instead.\n",
      "  df = df.append(datarow, ignore_index=True)\n",
      "C:\\Users\\lando\\AppData\\Local\\Temp\\ipykernel_34800\\2238899073.py:61: FutureWarning: The frame.append method is deprecated and will be removed from pandas in a future version. Use pandas.concat instead.\n",
      "  df = df.append(datarow, ignore_index=True)\n"
     ]
    },
    {
     "name": "stdout",
     "output_type": "stream",
     "text": [
      "Once a month, date tbd by member availability.Columbus, OH 43210\n",
      "Monday 4:30 P.M.590 Woody Hayes Dr.Columbus, OH 43210\n"
     ]
    },
    {
     "name": "stderr",
     "output_type": "stream",
     "text": [
      "C:\\Users\\lando\\AppData\\Local\\Temp\\ipykernel_34800\\2238899073.py:61: FutureWarning: The frame.append method is deprecated and will be removed from pandas in a future version. Use pandas.concat instead.\n",
      "  df = df.append(datarow, ignore_index=True)\n",
      "C:\\Users\\lando\\AppData\\Local\\Temp\\ipykernel_34800\\2238899073.py:61: FutureWarning: The frame.append method is deprecated and will be removed from pandas in a future version. Use pandas.concat instead.\n",
      "  df = df.append(datarow, ignore_index=True)\n"
     ]
    },
    {
     "name": "stdout",
     "output_type": "stream",
     "text": [
      "Not regularly scheduled meetings333 West 10th AveColumbus, OH 43210\n",
      "Monday 4:45 pm305 W. 12th Avenue Columbus, OH 43210Columbus, OH 43210\n"
     ]
    },
    {
     "name": "stderr",
     "output_type": "stream",
     "text": [
      "C:\\Users\\lando\\AppData\\Local\\Temp\\ipykernel_34800\\2238899073.py:61: FutureWarning: The frame.append method is deprecated and will be removed from pandas in a future version. Use pandas.concat instead.\n",
      "  df = df.append(datarow, ignore_index=True)\n",
      "C:\\Users\\lando\\AppData\\Local\\Temp\\ipykernel_34800\\2238899073.py:61: FutureWarning: The frame.append method is deprecated and will be removed from pandas in a future version. Use pandas.concat instead.\n",
      "  df = df.append(datarow, ignore_index=True)\n"
     ]
    },
    {
     "name": "stdout",
     "output_type": "stream",
     "text": [
      "Mondays @ 6:30PMAOII House240 E 15th AveColumbus, OH 43210\n",
      "Sundays at 2pm1739 N High StreetColumbus Ohio 43210Columbus, OH 43210\n"
     ]
    },
    {
     "name": "stderr",
     "output_type": "stream",
     "text": [
      "C:\\Users\\lando\\AppData\\Local\\Temp\\ipykernel_34800\\2238899073.py:61: FutureWarning: The frame.append method is deprecated and will be removed from pandas in a future version. Use pandas.concat instead.\n",
      "  df = df.append(datarow, ignore_index=True)\n",
      "C:\\Users\\lando\\AppData\\Local\\Temp\\ipykernel_34800\\2238899073.py:61: FutureWarning: The frame.append method is deprecated and will be removed from pandas in a future version. Use pandas.concat instead.\n",
      "  df = df.append(datarow, ignore_index=True)\n"
     ]
    },
    {
     "name": "stdout",
     "output_type": "stream",
     "text": [
      "Mondays at 7:301787 Neil AveColumbus, OH 43210\n",
      "Mondays at 6:00 PM134 E. 15th AvenueColumbus, OH 43210\n"
     ]
    },
    {
     "name": "stderr",
     "output_type": "stream",
     "text": [
      "C:\\Users\\lando\\AppData\\Local\\Temp\\ipykernel_34800\\2238899073.py:61: FutureWarning: The frame.append method is deprecated and will be removed from pandas in a future version. Use pandas.concat instead.\n",
      "  df = df.append(datarow, ignore_index=True)\n",
      "C:\\Users\\lando\\AppData\\Local\\Temp\\ipykernel_34800\\2238899073.py:61: FutureWarning: The frame.append method is deprecated and will be removed from pandas in a future version. Use pandas.concat instead.\n",
      "  df = df.append(datarow, ignore_index=True)\n"
     ]
    },
    {
     "name": "stdout",
     "output_type": "stream",
     "text": [
      "Varies- Members will be given information1971 Neil AveColumbus, OH 43210\n",
      "Mondays 7pm1739 N. High StreetColumbus,OH,43210Columbus, OH 43210\n"
     ]
    },
    {
     "name": "stderr",
     "output_type": "stream",
     "text": [
      "C:\\Users\\lando\\AppData\\Local\\Temp\\ipykernel_34800\\2238899073.py:61: FutureWarning: The frame.append method is deprecated and will be removed from pandas in a future version. Use pandas.concat instead.\n",
      "  df = df.append(datarow, ignore_index=True)\n",
      "C:\\Users\\lando\\AppData\\Local\\Temp\\ipykernel_34800\\2238899073.py:61: FutureWarning: The frame.append method is deprecated and will be removed from pandas in a future version. Use pandas.concat instead.\n",
      "  df = df.append(datarow, ignore_index=True)\n"
     ]
    },
    {
     "name": "stdout",
     "output_type": "stream",
     "text": [
      "Varies1849 Cannon Dr.Columbus, OH 43210\n",
      "Tuesdays, 7PM275 W Woodruff Ave, Columbus, OH 43210Columbus, OH 43210\n"
     ]
    },
    {
     "name": "stderr",
     "output_type": "stream",
     "text": [
      "C:\\Users\\lando\\AppData\\Local\\Temp\\ipykernel_34800\\2238899073.py:61: FutureWarning: The frame.append method is deprecated and will be removed from pandas in a future version. Use pandas.concat instead.\n",
      "  df = df.append(datarow, ignore_index=True)\n",
      "C:\\Users\\lando\\AppData\\Local\\Temp\\ipykernel_34800\\2238899073.py:61: FutureWarning: The frame.append method is deprecated and will be removed from pandas in a future version. Use pandas.concat instead.\n",
      "  df = df.append(datarow, ignore_index=True)\n"
     ]
    },
    {
     "name": "stdout",
     "output_type": "stream",
     "text": [
      "Sunday, 7:00 PM81 E. 15th AveColumbus, OH 43210\n"
     ]
    },
    {
     "name": "stderr",
     "output_type": "stream",
     "text": [
      "C:\\Users\\lando\\AppData\\Local\\Temp\\ipykernel_34800\\2238899073.py:61: FutureWarning: The frame.append method is deprecated and will be removed from pandas in a future version. Use pandas.concat instead.\n",
      "  df = df.append(datarow, ignore_index=True)\n"
     ]
    },
    {
     "name": "stdout",
     "output_type": "stream",
     "text": [
      "Monday, 7:30 p.m.2001 Fyffe RdN/AColumbus, OH 43210\n",
      "Mondays, 7:30 PM1956 Iuka AveColumbus, OH 43210\n"
     ]
    },
    {
     "name": "stderr",
     "output_type": "stream",
     "text": [
      "C:\\Users\\lando\\AppData\\Local\\Temp\\ipykernel_34800\\2238899073.py:61: FutureWarning: The frame.append method is deprecated and will be removed from pandas in a future version. Use pandas.concat instead.\n",
      "  df = df.append(datarow, ignore_index=True)\n",
      "C:\\Users\\lando\\AppData\\Local\\Temp\\ipykernel_34800\\2238899073.py:61: FutureWarning: The frame.append method is deprecated and will be removed from pandas in a future version. Use pandas.concat instead.\n",
      "  df = df.append(datarow, ignore_index=True)\n"
     ]
    },
    {
     "name": "stdout",
     "output_type": "stream",
     "text": [
      "Every Monday at 6:00pm76 E. 15th Ave.Columbus, OH 43201Columbus, OH 43210\n"
     ]
    },
    {
     "name": "stderr",
     "output_type": "stream",
     "text": [
      "C:\\Users\\lando\\AppData\\Local\\Temp\\ipykernel_34800\\2238899073.py:61: FutureWarning: The frame.append method is deprecated and will be removed from pandas in a future version. Use pandas.concat instead.\n",
      "  df = df.append(datarow, ignore_index=True)\n"
     ]
    },
    {
     "name": "stdout",
     "output_type": "stream",
     "text": [
      "Tuesdays at 7:00 p.m.2120 Fyffe Rd.Columbus, OH 43210Columbus, OH 43210\n",
      "Depends on group availability for the semesterColumbus, OH 43210\n"
     ]
    },
    {
     "name": "stderr",
     "output_type": "stream",
     "text": [
      "C:\\Users\\lando\\AppData\\Local\\Temp\\ipykernel_34800\\2238899073.py:61: FutureWarning: The frame.append method is deprecated and will be removed from pandas in a future version. Use pandas.concat instead.\n",
      "  df = df.append(datarow, ignore_index=True)\n",
      "C:\\Users\\lando\\AppData\\Local\\Temp\\ipykernel_34800\\2238899073.py:61: FutureWarning: The frame.append method is deprecated and will be removed from pandas in a future version. Use pandas.concat instead.\n",
      "  df = df.append(datarow, ignore_index=True)\n",
      "C:\\Users\\lando\\AppData\\Local\\Temp\\ipykernel_34800\\2238899073.py:61: FutureWarning: The frame.append method is deprecated and will be removed from pandas in a future version. Use pandas.concat instead.\n",
      "  df = df.append(datarow, ignore_index=True)\n"
     ]
    },
    {
     "name": "stdout",
     "output_type": "stream",
     "text": [
      "Variable, Check calendar on site2024 Neil AveColumbus, OH 43210\n",
      "Every other Monday at 7:30pm (starting 8/29/22)Columbus, OH 43210\n"
     ]
    },
    {
     "name": "stderr",
     "output_type": "stream",
     "text": [
      "C:\\Users\\lando\\AppData\\Local\\Temp\\ipykernel_34800\\2238899073.py:61: FutureWarning: The frame.append method is deprecated and will be removed from pandas in a future version. Use pandas.concat instead.\n",
      "  df = df.append(datarow, ignore_index=True)\n"
     ]
    },
    {
     "name": "stdout",
     "output_type": "stream",
     "text": [
      "Monthly meetings: first Wednesday of the monthColumbus, OH 43210\n"
     ]
    },
    {
     "name": "stderr",
     "output_type": "stream",
     "text": [
      "C:\\Users\\lando\\AppData\\Local\\Temp\\ipykernel_34800\\2238899073.py:61: FutureWarning: The frame.append method is deprecated and will be removed from pandas in a future version. Use pandas.concat instead.\n",
      "  df = df.append(datarow, ignore_index=True)\n"
     ]
    },
    {
     "name": "stdout",
     "output_type": "stream",
     "text": [
      "Visit http://glenn.osu.edu/aauw/ for events.Columbus, OH 43210\n",
      "variesColumbus, OH 43210\n"
     ]
    },
    {
     "name": "stderr",
     "output_type": "stream",
     "text": [
      "C:\\Users\\lando\\AppData\\Local\\Temp\\ipykernel_34800\\2238899073.py:61: FutureWarning: The frame.append method is deprecated and will be removed from pandas in a future version. Use pandas.concat instead.\n",
      "  df = df.append(datarow, ignore_index=True)\n",
      "C:\\Users\\lando\\AppData\\Local\\Temp\\ipykernel_34800\\2238899073.py:61: FutureWarning: The frame.append method is deprecated and will be removed from pandas in a future version. Use pandas.concat instead.\n",
      "  df = df.append(datarow, ignore_index=True)\n"
     ]
    },
    {
     "name": "stdout",
     "output_type": "stream",
     "text": [
      "Tuesdays 6:30pm (Biweekly)Columbus, OH 43210\n"
     ]
    },
    {
     "name": "stderr",
     "output_type": "stream",
     "text": [
      "C:\\Users\\lando\\AppData\\Local\\Temp\\ipykernel_34800\\2238899073.py:61: FutureWarning: The frame.append method is deprecated and will be removed from pandas in a future version. Use pandas.concat instead.\n",
      "  df = df.append(datarow, ignore_index=True)\n"
     ]
    },
    {
     "name": "stdout",
     "output_type": "stream",
     "text": [
      "Meeting date and time are determined by meeting.1899 College RdColumbus, OH 43210\n",
      "55 West 12th AvenueColumbus, OH 43210\n"
     ]
    },
    {
     "name": "stderr",
     "output_type": "stream",
     "text": [
      "C:\\Users\\lando\\AppData\\Local\\Temp\\ipykernel_34800\\2238899073.py:61: FutureWarning: The frame.append method is deprecated and will be removed from pandas in a future version. Use pandas.concat instead.\n",
      "  df = df.append(datarow, ignore_index=True)\n",
      "C:\\Users\\lando\\AppData\\Local\\Temp\\ipykernel_34800\\2238899073.py:61: FutureWarning: The frame.append method is deprecated and will be removed from pandas in a future version. Use pandas.concat instead.\n",
      "  df = df.append(datarow, ignore_index=True)\n"
     ]
    },
    {
     "name": "stdout",
     "output_type": "stream",
     "text": [
      "Wednesday EveningsDrinko HallColumbus, OH 43210\n",
      "Every Other Monday at 6pmColumbus, OH 43210\n"
     ]
    },
    {
     "name": "stderr",
     "output_type": "stream",
     "text": [
      "C:\\Users\\lando\\AppData\\Local\\Temp\\ipykernel_34800\\2238899073.py:61: FutureWarning: The frame.append method is deprecated and will be removed from pandas in a future version. Use pandas.concat instead.\n",
      "  df = df.append(datarow, ignore_index=True)\n",
      "C:\\Users\\lando\\AppData\\Local\\Temp\\ipykernel_34800\\2238899073.py:61: FutureWarning: The frame.append method is deprecated and will be removed from pandas in a future version. Use pandas.concat instead.\n",
      "  df = df.append(datarow, ignore_index=True)\n"
     ]
    },
    {
     "name": "stdout",
     "output_type": "stream",
     "text": [
      "1314 Kinnear RdColumbus, OH 43212Columbus, OH 43210\n"
     ]
    },
    {
     "name": "stderr",
     "output_type": "stream",
     "text": [
      "C:\\Users\\lando\\AppData\\Local\\Temp\\ipykernel_34800\\2238899073.py:61: FutureWarning: The frame.append method is deprecated and will be removed from pandas in a future version. Use pandas.concat instead.\n",
      "  df = df.append(datarow, ignore_index=True)\n"
     ]
    },
    {
     "name": "stdout",
     "output_type": "stream",
     "text": [
      "Biweekly on Thursdays201 W. 19th Ave.Columbus, OH 43210\n"
     ]
    },
    {
     "name": "stderr",
     "output_type": "stream",
     "text": [
      "C:\\Users\\lando\\AppData\\Local\\Temp\\ipykernel_34800\\2238899073.py:61: FutureWarning: The frame.append method is deprecated and will be removed from pandas in a future version. Use pandas.concat instead.\n",
      "  df = df.append(datarow, ignore_index=True)\n"
     ]
    },
    {
     "name": "stdout",
     "output_type": "stream",
     "text": [
      "Second Monday of each month275 W. Woodruff Ave. Columbus, OH 43201Columbus, OH 43210\n"
     ]
    },
    {
     "name": "stderr",
     "output_type": "stream",
     "text": [
      "C:\\Users\\lando\\AppData\\Local\\Temp\\ipykernel_34800\\2238899073.py:61: FutureWarning: The frame.append method is deprecated and will be removed from pandas in a future version. Use pandas.concat instead.\n",
      "  df = df.append(datarow, ignore_index=True)\n"
     ]
    },
    {
     "name": "stdout",
     "output_type": "stream",
     "text": [
      "Monthly Meetings Updated Regularly151 W Woodruff Ave Columbus, OH 43210Columbus, OH 43210\n",
      "Wednesdays at 7:30PM210 W Woodruff AveColumbus, OH 43210\n"
     ]
    },
    {
     "name": "stderr",
     "output_type": "stream",
     "text": [
      "C:\\Users\\lando\\AppData\\Local\\Temp\\ipykernel_34800\\2238899073.py:61: FutureWarning: The frame.append method is deprecated and will be removed from pandas in a future version. Use pandas.concat instead.\n",
      "  df = df.append(datarow, ignore_index=True)\n",
      "C:\\Users\\lando\\AppData\\Local\\Temp\\ipykernel_34800\\2238899073.py:61: FutureWarning: The frame.append method is deprecated and will be removed from pandas in a future version. Use pandas.concat instead.\n",
      "  df = df.append(datarow, ignore_index=True)\n"
     ]
    },
    {
     "name": "stdout",
     "output_type": "stream",
     "text": [
      "Irregular meeting times - see email370 West Ninth AvenueColumbus, OH 43210\n",
      "As determined by the officers, TBA via email370 West 9th AvenueColumbus, OH 43210\n"
     ]
    },
    {
     "name": "stderr",
     "output_type": "stream",
     "text": [
      "C:\\Users\\lando\\AppData\\Local\\Temp\\ipykernel_34800\\2238899073.py:61: FutureWarning: The frame.append method is deprecated and will be removed from pandas in a future version. Use pandas.concat instead.\n",
      "  df = df.append(datarow, ignore_index=True)\n",
      "C:\\Users\\lando\\AppData\\Local\\Temp\\ipykernel_34800\\2238899073.py:61: FutureWarning: The frame.append method is deprecated and will be removed from pandas in a future version. Use pandas.concat instead.\n",
      "  df = df.append(datarow, ignore_index=True)\n"
     ]
    },
    {
     "name": "stdout",
     "output_type": "stream",
     "text": [
      "Columbus, OH 43210\n",
      "TBD Most likely once a month201 W 19th AveColumbus, OH 43210\n"
     ]
    },
    {
     "name": "stderr",
     "output_type": "stream",
     "text": [
      "C:\\Users\\lando\\AppData\\Local\\Temp\\ipykernel_34800\\2238899073.py:61: FutureWarning: The frame.append method is deprecated and will be removed from pandas in a future version. Use pandas.concat instead.\n",
      "  df = df.append(datarow, ignore_index=True)\n",
      "C:\\Users\\lando\\AppData\\Local\\Temp\\ipykernel_34800\\2238899073.py:61: FutureWarning: The frame.append method is deprecated and will be removed from pandas in a future version. Use pandas.concat instead.\n",
      "  df = df.append(datarow, ignore_index=True)\n"
     ]
    },
    {
     "name": "stdout",
     "output_type": "stream",
     "text": [
      "Once a month at 5:30pm338 W. 10th AvenueColumbus, OH 43210Columbus, OH 43210\n",
      "alternating Thursdays 11:30-12:30Columbus, OH 43210\n"
     ]
    },
    {
     "name": "stderr",
     "output_type": "stream",
     "text": [
      "C:\\Users\\lando\\AppData\\Local\\Temp\\ipykernel_34800\\2238899073.py:61: FutureWarning: The frame.append method is deprecated and will be removed from pandas in a future version. Use pandas.concat instead.\n",
      "  df = df.append(datarow, ignore_index=True)\n",
      "C:\\Users\\lando\\AppData\\Local\\Temp\\ipykernel_34800\\2238899073.py:61: FutureWarning: The frame.append method is deprecated and will be removed from pandas in a future version. Use pandas.concat instead.\n",
      "  df = df.append(datarow, ignore_index=True)\n"
     ]
    },
    {
     "name": "stdout",
     "output_type": "stream",
     "text": [
      "Columbus, OH 43210\n"
     ]
    },
    {
     "name": "stderr",
     "output_type": "stream",
     "text": [
      "C:\\Users\\lando\\AppData\\Local\\Temp\\ipykernel_34800\\2238899073.py:61: FutureWarning: The frame.append method is deprecated and will be removed from pandas in a future version. Use pandas.concat instead.\n",
      "  df = df.append(datarow, ignore_index=True)\n"
     ]
    },
    {
     "name": "stdout",
     "output_type": "stream",
     "text": [
      "variableColumbus, OH 43210\n",
      "Monday 5PMColumbus, OH 43210\n"
     ]
    },
    {
     "name": "stderr",
     "output_type": "stream",
     "text": [
      "C:\\Users\\lando\\AppData\\Local\\Temp\\ipykernel_34800\\2238899073.py:61: FutureWarning: The frame.append method is deprecated and will be removed from pandas in a future version. Use pandas.concat instead.\n",
      "  df = df.append(datarow, ignore_index=True)\n",
      "C:\\Users\\lando\\AppData\\Local\\Temp\\ipykernel_34800\\2238899073.py:61: FutureWarning: The frame.append method is deprecated and will be removed from pandas in a future version. Use pandas.concat instead.\n",
      "  df = df.append(datarow, ignore_index=True)\n"
     ]
    },
    {
     "name": "stdout",
     "output_type": "stream",
     "text": [
      "Columbus, OH 43210\n",
      "Thursday , Biweekly 7-8PMCheck email announcementsColumbus, OH 43210\n"
     ]
    },
    {
     "name": "stderr",
     "output_type": "stream",
     "text": [
      "C:\\Users\\lando\\AppData\\Local\\Temp\\ipykernel_34800\\2238899073.py:61: FutureWarning: The frame.append method is deprecated and will be removed from pandas in a future version. Use pandas.concat instead.\n",
      "  df = df.append(datarow, ignore_index=True)\n",
      "C:\\Users\\lando\\AppData\\Local\\Temp\\ipykernel_34800\\2238899073.py:61: FutureWarning: The frame.append method is deprecated and will be removed from pandas in a future version. Use pandas.concat instead.\n",
      "  df = df.append(datarow, ignore_index=True)\n"
     ]
    },
    {
     "name": "stdout",
     "output_type": "stream",
     "text": [
      "Every Other Tuesday, 6:30pm590 Woody Hayes DrColumbus, OH 43210\n",
      "Various 201 W 19th Ave, Columbus, OH 43210Columbus, OH 43210\n"
     ]
    },
    {
     "name": "stderr",
     "output_type": "stream",
     "text": [
      "C:\\Users\\lando\\AppData\\Local\\Temp\\ipykernel_34800\\2238899073.py:61: FutureWarning: The frame.append method is deprecated and will be removed from pandas in a future version. Use pandas.concat instead.\n",
      "  df = df.append(datarow, ignore_index=True)\n",
      "C:\\Users\\lando\\AppData\\Local\\Temp\\ipykernel_34800\\2238899073.py:61: FutureWarning: The frame.append method is deprecated and will be removed from pandas in a future version. Use pandas.concat instead.\n",
      "  df = df.append(datarow, ignore_index=True)\n"
     ]
    },
    {
     "name": "stdout",
     "output_type": "stream",
     "text": [
      "Wednesday's at 11:30amCollege of Pharmacy500 W. 12th AveColumbus, OH 43210\n"
     ]
    },
    {
     "name": "stderr",
     "output_type": "stream",
     "text": [
      "C:\\Users\\lando\\AppData\\Local\\Temp\\ipykernel_34800\\2238899073.py:61: FutureWarning: The frame.append method is deprecated and will be removed from pandas in a future version. Use pandas.concat instead.\n",
      "  df = df.append(datarow, ignore_index=True)\n"
     ]
    },
    {
     "name": "stdout",
     "output_type": "stream",
     "text": [
      "TBA243 Campbell Hall1787 Neil AvenueColumbus, OH 43210\n",
      "Once-twice a month on Weekdays, 6:30pm201 W. 19th Ave.Columbus, OH 43210Columbus, OH 43210\n"
     ]
    },
    {
     "name": "stderr",
     "output_type": "stream",
     "text": [
      "C:\\Users\\lando\\AppData\\Local\\Temp\\ipykernel_34800\\2238899073.py:61: FutureWarning: The frame.append method is deprecated and will be removed from pandas in a future version. Use pandas.concat instead.\n",
      "  df = df.append(datarow, ignore_index=True)\n",
      "C:\\Users\\lando\\AppData\\Local\\Temp\\ipykernel_34800\\2238899073.py:61: FutureWarning: The frame.append method is deprecated and will be removed from pandas in a future version. Use pandas.concat instead.\n",
      "  df = df.append(datarow, ignore_index=True)\n"
     ]
    },
    {
     "name": "stdout",
     "output_type": "stream",
     "text": [
      "Wednesdays, 4:30pm305 W. 12. Ave.Columbus, OhioColumbus, OH 43210\n",
      "Biweekly on Wednesdays (Start Date: Sept. 2nd)305 W. 12th Avenue Columbus, OH 43210-1267Columbus, OH 43210\n"
     ]
    },
    {
     "name": "stderr",
     "output_type": "stream",
     "text": [
      "C:\\Users\\lando\\AppData\\Local\\Temp\\ipykernel_34800\\2238899073.py:61: FutureWarning: The frame.append method is deprecated and will be removed from pandas in a future version. Use pandas.concat instead.\n",
      "  df = df.append(datarow, ignore_index=True)\n",
      "C:\\Users\\lando\\AppData\\Local\\Temp\\ipykernel_34800\\2238899073.py:61: FutureWarning: The frame.append method is deprecated and will be removed from pandas in a future version. Use pandas.concat instead.\n",
      "  df = df.append(datarow, ignore_index=True)\n"
     ]
    },
    {
     "name": "stdout",
     "output_type": "stream",
     "text": [
      "Monthly1248 Arthur E Adams DriveColumbus, OH 43221Columbus, OH 43210\n"
     ]
    },
    {
     "name": "stderr",
     "output_type": "stream",
     "text": [
      "C:\\Users\\lando\\AppData\\Local\\Temp\\ipykernel_34800\\2238899073.py:61: FutureWarning: The frame.append method is deprecated and will be removed from pandas in a future version. Use pandas.concat instead.\n",
      "  df = df.append(datarow, ignore_index=True)\n"
     ]
    },
    {
     "name": "stdout",
     "output_type": "stream",
     "text": [
      "Thursdays at 6 PMColumbus, OH 43210\n",
      "Columbus, OH 43210\n"
     ]
    },
    {
     "name": "stderr",
     "output_type": "stream",
     "text": [
      "C:\\Users\\lando\\AppData\\Local\\Temp\\ipykernel_34800\\2238899073.py:61: FutureWarning: The frame.append method is deprecated and will be removed from pandas in a future version. Use pandas.concat instead.\n",
      "  df = df.append(datarow, ignore_index=True)\n",
      "C:\\Users\\lando\\AppData\\Local\\Temp\\ipykernel_34800\\2238899073.py:61: FutureWarning: The frame.append method is deprecated and will be removed from pandas in a future version. Use pandas.concat instead.\n",
      "  df = df.append(datarow, ignore_index=True)\n"
     ]
    },
    {
     "name": "stdout",
     "output_type": "stream",
     "text": [
      "Wednesdays 3:00 PMColumbus, OH 43210\n",
      "Varies1645 Neil AveColumbus, OH 43210\n"
     ]
    },
    {
     "name": "stderr",
     "output_type": "stream",
     "text": [
      "C:\\Users\\lando\\AppData\\Local\\Temp\\ipykernel_34800\\2238899073.py:61: FutureWarning: The frame.append method is deprecated and will be removed from pandas in a future version. Use pandas.concat instead.\n",
      "  df = df.append(datarow, ignore_index=True)\n",
      "C:\\Users\\lando\\AppData\\Local\\Temp\\ipykernel_34800\\2238899073.py:61: FutureWarning: The frame.append method is deprecated and will be removed from pandas in a future version. Use pandas.concat instead.\n",
      "  df = df.append(datarow, ignore_index=True)\n"
     ]
    },
    {
     "name": "stdout",
     "output_type": "stream",
     "text": [
      "Meiling LobbyColumbus, OH 43210\n"
     ]
    },
    {
     "name": "stderr",
     "output_type": "stream",
     "text": [
      "C:\\Users\\lando\\AppData\\Local\\Temp\\ipykernel_34800\\2238899073.py:61: FutureWarning: The frame.append method is deprecated and will be removed from pandas in a future version. Use pandas.concat instead.\n",
      "  df = df.append(datarow, ignore_index=True)\n"
     ]
    },
    {
     "name": "stdout",
     "output_type": "stream",
     "text": [
      "370 W 9th Ave, Columbus, OH 43210Columbus, OH 43210\n"
     ]
    },
    {
     "name": "stderr",
     "output_type": "stream",
     "text": [
      "C:\\Users\\lando\\AppData\\Local\\Temp\\ipykernel_34800\\2238899073.py:61: FutureWarning: The frame.append method is deprecated and will be removed from pandas in a future version. Use pandas.concat instead.\n",
      "  df = df.append(datarow, ignore_index=True)\n"
     ]
    },
    {
     "name": "stdout",
     "output_type": "stream",
     "text": [
      "TBD55 W 12th AveColumbus, OH 43210\n"
     ]
    },
    {
     "name": "stderr",
     "output_type": "stream",
     "text": [
      "C:\\Users\\lando\\AppData\\Local\\Temp\\ipykernel_34800\\2238899073.py:61: FutureWarning: The frame.append method is deprecated and will be removed from pandas in a future version. Use pandas.concat instead.\n",
      "  df = df.append(datarow, ignore_index=True)\n"
     ]
    },
    {
     "name": "stdout",
     "output_type": "stream",
     "text": [
      "Wednesdays 7 am2027 Coffey RoadColumbus, OH 43210\n",
      "Once a month (TBA)2029 Fyffe RdColumbus, OH 43210\n"
     ]
    },
    {
     "name": "stderr",
     "output_type": "stream",
     "text": [
      "C:\\Users\\lando\\AppData\\Local\\Temp\\ipykernel_34800\\2238899073.py:61: FutureWarning: The frame.append method is deprecated and will be removed from pandas in a future version. Use pandas.concat instead.\n",
      "  df = df.append(datarow, ignore_index=True)\n",
      "C:\\Users\\lando\\AppData\\Local\\Temp\\ipykernel_34800\\2238899073.py:61: FutureWarning: The frame.append method is deprecated and will be removed from pandas in a future version. Use pandas.concat instead.\n",
      "  df = df.append(datarow, ignore_index=True)\n"
     ]
    },
    {
     "name": "stdout",
     "output_type": "stream",
     "text": [
      "Alternating Mondays, 6-7pmColumbus, OH 43210\n",
      "Mondays at 7:00 PM1813 N High St, Columbus, OH 43210Columbus, OH 43210\n"
     ]
    },
    {
     "name": "stderr",
     "output_type": "stream",
     "text": [
      "C:\\Users\\lando\\AppData\\Local\\Temp\\ipykernel_34800\\2238899073.py:61: FutureWarning: The frame.append method is deprecated and will be removed from pandas in a future version. Use pandas.concat instead.\n",
      "  df = df.append(datarow, ignore_index=True)\n",
      "C:\\Users\\lando\\AppData\\Local\\Temp\\ipykernel_34800\\2238899073.py:61: FutureWarning: The frame.append method is deprecated and will be removed from pandas in a future version. Use pandas.concat instead.\n",
      "  df = df.append(datarow, ignore_index=True)\n"
     ]
    },
    {
     "name": "stdout",
     "output_type": "stream",
     "text": [
      "Monday 7:30pmColumbus, OH 43210\n",
      "Columbus, OH 43210\n"
     ]
    },
    {
     "name": "stderr",
     "output_type": "stream",
     "text": [
      "C:\\Users\\lando\\AppData\\Local\\Temp\\ipykernel_34800\\2238899073.py:61: FutureWarning: The frame.append method is deprecated and will be removed from pandas in a future version. Use pandas.concat instead.\n",
      "  df = df.append(datarow, ignore_index=True)\n",
      "C:\\Users\\lando\\AppData\\Local\\Temp\\ipykernel_34800\\2238899073.py:61: FutureWarning: The frame.append method is deprecated and will be removed from pandas in a future version. Use pandas.concat instead.\n",
      "  df = df.append(datarow, ignore_index=True)\n"
     ]
    },
    {
     "name": "stdout",
     "output_type": "stream",
     "text": [
      "General Body Meetings two times per month.1739 N High Street, Columbus, OHColumbus, OH 43210\n",
      "Columbus, OH 43210\n"
     ]
    },
    {
     "name": "stderr",
     "output_type": "stream",
     "text": [
      "C:\\Users\\lando\\AppData\\Local\\Temp\\ipykernel_34800\\2238899073.py:61: FutureWarning: The frame.append method is deprecated and will be removed from pandas in a future version. Use pandas.concat instead.\n",
      "  df = df.append(datarow, ignore_index=True)\n",
      "C:\\Users\\lando\\AppData\\Local\\Temp\\ipykernel_34800\\2238899073.py:61: FutureWarning: The frame.append method is deprecated and will be removed from pandas in a future version. Use pandas.concat instead.\n",
      "  df = df.append(datarow, ignore_index=True)\n"
     ]
    },
    {
     "name": "stdout",
     "output_type": "stream",
     "text": [
      "Thursdays bi-weekly at 1:00 p.m.tba Knowlton Hall275 W. Woodruff AvenueColumbus, OH 43210\n"
     ]
    },
    {
     "name": "stderr",
     "output_type": "stream",
     "text": [
      "C:\\Users\\lando\\AppData\\Local\\Temp\\ipykernel_34800\\2238899073.py:61: FutureWarning: The frame.append method is deprecated and will be removed from pandas in a future version. Use pandas.concat instead.\n",
      "  df = df.append(datarow, ignore_index=True)\n"
     ]
    },
    {
     "name": "stdout",
     "output_type": "stream",
     "text": [
      "Fridays 7:00 pm to 10:00 pmWomen's Field House, Building 0291790 Cannon DriveColumbus, OH 43210\n",
      "First Monday of the month at 11:45 AM305 West 12th AveColumbus, Ohio 43210Columbus, OH 43210\n"
     ]
    },
    {
     "name": "stderr",
     "output_type": "stream",
     "text": [
      "C:\\Users\\lando\\AppData\\Local\\Temp\\ipykernel_34800\\2238899073.py:61: FutureWarning: The frame.append method is deprecated and will be removed from pandas in a future version. Use pandas.concat instead.\n",
      "  df = df.append(datarow, ignore_index=True)\n",
      "C:\\Users\\lando\\AppData\\Local\\Temp\\ipykernel_34800\\2238899073.py:61: FutureWarning: The frame.append method is deprecated and will be removed from pandas in a future version. Use pandas.concat instead.\n",
      "  df = df.append(datarow, ignore_index=True)\n"
     ]
    },
    {
     "name": "stdout",
     "output_type": "stream",
     "text": [
      "Columbus, OH 43210\n",
      "Subject to change2121 Tuttle Park Pl Columbus, OH 43210Columbus, OH 43210\n"
     ]
    },
    {
     "name": "stderr",
     "output_type": "stream",
     "text": [
      "C:\\Users\\lando\\AppData\\Local\\Temp\\ipykernel_34800\\2238899073.py:61: FutureWarning: The frame.append method is deprecated and will be removed from pandas in a future version. Use pandas.concat instead.\n",
      "  df = df.append(datarow, ignore_index=True)\n",
      "C:\\Users\\lando\\AppData\\Local\\Temp\\ipykernel_34800\\2238899073.py:61: FutureWarning: The frame.append method is deprecated and will be removed from pandas in a future version. Use pandas.concat instead.\n",
      "  df = df.append(datarow, ignore_index=True)\n"
     ]
    },
    {
     "name": "stdout",
     "output_type": "stream",
     "text": [
      "Wednesdays 08002121 Tuttle Park PlaceColumbus, OH 43210\n",
      "Tuesdays 7-8:30 pmColumbus, OH 43210\n"
     ]
    },
    {
     "name": "stderr",
     "output_type": "stream",
     "text": [
      "C:\\Users\\lando\\AppData\\Local\\Temp\\ipykernel_34800\\2238899073.py:61: FutureWarning: The frame.append method is deprecated and will be removed from pandas in a future version. Use pandas.concat instead.\n",
      "  df = df.append(datarow, ignore_index=True)\n",
      "C:\\Users\\lando\\AppData\\Local\\Temp\\ipykernel_34800\\2238899073.py:61: FutureWarning: The frame.append method is deprecated and will be removed from pandas in a future version. Use pandas.concat instead.\n",
      "  df = df.append(datarow, ignore_index=True)\n"
     ]
    },
    {
     "name": "stdout",
     "output_type": "stream",
     "text": [
      "Weekly on Fridays 7-8 pmHopkins Hall Rm 250, 128 North Oval MallColumbus, OH 43210\n",
      "Mondays @ 4pm-5:30pm128 N. Oval MallColumbus, OH 43210\n"
     ]
    },
    {
     "name": "stderr",
     "output_type": "stream",
     "text": [
      "C:\\Users\\lando\\AppData\\Local\\Temp\\ipykernel_34800\\2238899073.py:61: FutureWarning: The frame.append method is deprecated and will be removed from pandas in a future version. Use pandas.concat instead.\n",
      "  df = df.append(datarow, ignore_index=True)\n",
      "C:\\Users\\lando\\AppData\\Local\\Temp\\ipykernel_34800\\2238899073.py:61: FutureWarning: The frame.append method is deprecated and will be removed from pandas in a future version. Use pandas.concat instead.\n",
      "  df = df.append(datarow, ignore_index=True)\n"
     ]
    },
    {
     "name": "stdout",
     "output_type": "stream",
     "text": [
      "1739 N High St, Columbus, OH 43210Columbus, OH 43210\n",
      "Mondays, 5:30 - 6:30 pmFront Lobby Hayes Hall108 N Oval MallColumbus, Ohio 43210Columbus, OH 43210\n"
     ]
    },
    {
     "name": "stderr",
     "output_type": "stream",
     "text": [
      "C:\\Users\\lando\\AppData\\Local\\Temp\\ipykernel_34800\\2238899073.py:61: FutureWarning: The frame.append method is deprecated and will be removed from pandas in a future version. Use pandas.concat instead.\n",
      "  df = df.append(datarow, ignore_index=True)\n",
      "C:\\Users\\lando\\AppData\\Local\\Temp\\ipykernel_34800\\2238899073.py:61: FutureWarning: The frame.append method is deprecated and will be removed from pandas in a future version. Use pandas.concat instead.\n",
      "  df = df.append(datarow, ignore_index=True)\n"
     ]
    },
    {
     "name": "stdout",
     "output_type": "stream",
     "text": [
      "Every Monday 7-8pm @ Hitchcock 0352070 Neil AveColumbus, OH 43210\n",
      "Wednesday 5:301739 N High StreetColumbus, OH 43210\n"
     ]
    },
    {
     "name": "stderr",
     "output_type": "stream",
     "text": [
      "C:\\Users\\lando\\AppData\\Local\\Temp\\ipykernel_34800\\2238899073.py:61: FutureWarning: The frame.append method is deprecated and will be removed from pandas in a future version. Use pandas.concat instead.\n",
      "  df = df.append(datarow, ignore_index=True)\n",
      "C:\\Users\\lando\\AppData\\Local\\Temp\\ipykernel_34800\\2238899073.py:61: FutureWarning: The frame.append method is deprecated and will be removed from pandas in a future version. Use pandas.concat instead.\n",
      "  df = df.append(datarow, ignore_index=True)\n"
     ]
    },
    {
     "name": "stdout",
     "output_type": "stream",
     "text": [
      "TBD1813 N High St Columbus, OH 43210Columbus, OH 43210\n",
      "Tuesdays- 7 pm  (biweekly)Columbus, OH 43210\n"
     ]
    },
    {
     "name": "stderr",
     "output_type": "stream",
     "text": [
      "C:\\Users\\lando\\AppData\\Local\\Temp\\ipykernel_34800\\2238899073.py:61: FutureWarning: The frame.append method is deprecated and will be removed from pandas in a future version. Use pandas.concat instead.\n",
      "  df = df.append(datarow, ignore_index=True)\n",
      "C:\\Users\\lando\\AppData\\Local\\Temp\\ipykernel_34800\\2238899073.py:61: FutureWarning: The frame.append method is deprecated and will be removed from pandas in a future version. Use pandas.concat instead.\n",
      "  df = df.append(datarow, ignore_index=True)\n"
     ]
    },
    {
     "name": "stdout",
     "output_type": "stream",
     "text": [
      "Sunday@12:00 pm250 W Woodruff AveColumbus, OH 43210\n",
      "Wednesday mornings1775 College RoadColumbus, OH 43210\n"
     ]
    },
    {
     "name": "stderr",
     "output_type": "stream",
     "text": [
      "C:\\Users\\lando\\AppData\\Local\\Temp\\ipykernel_34800\\2238899073.py:61: FutureWarning: The frame.append method is deprecated and will be removed from pandas in a future version. Use pandas.concat instead.\n",
      "  df = df.append(datarow, ignore_index=True)\n",
      "C:\\Users\\lando\\AppData\\Local\\Temp\\ipykernel_34800\\2238899073.py:61: FutureWarning: The frame.append method is deprecated and will be removed from pandas in a future version. Use pandas.concat instead.\n",
      "  df = df.append(datarow, ignore_index=True)\n"
     ]
    },
    {
     "name": "stdout",
     "output_type": "stream",
     "text": [
      "Sundays at 1PM1739 N. High St.Columbus, OH 43210\n",
      "Weekly Friday meetings, 7:30 - 9:30pmColumbus, OH 43210\n"
     ]
    },
    {
     "name": "stderr",
     "output_type": "stream",
     "text": [
      "C:\\Users\\lando\\AppData\\Local\\Temp\\ipykernel_34800\\2238899073.py:61: FutureWarning: The frame.append method is deprecated and will be removed from pandas in a future version. Use pandas.concat instead.\n",
      "  df = df.append(datarow, ignore_index=True)\n",
      "C:\\Users\\lando\\AppData\\Local\\Temp\\ipykernel_34800\\2238899073.py:61: FutureWarning: The frame.append method is deprecated and will be removed from pandas in a future version. Use pandas.concat instead.\n",
      "  df = df.append(datarow, ignore_index=True)\n"
     ]
    },
    {
     "name": "stdout",
     "output_type": "stream",
     "text": [
      "First day night for each quarter140 W 19th AveColumbus, OH 43210Columbus, OH 43210\n",
      "Monday, 7:00PM210 West Woodruff AvenueColumbus, OH 43210Columbus, OH 43210\n"
     ]
    },
    {
     "name": "stderr",
     "output_type": "stream",
     "text": [
      "C:\\Users\\lando\\AppData\\Local\\Temp\\ipykernel_34800\\2238899073.py:61: FutureWarning: The frame.append method is deprecated and will be removed from pandas in a future version. Use pandas.concat instead.\n",
      "  df = df.append(datarow, ignore_index=True)\n",
      "C:\\Users\\lando\\AppData\\Local\\Temp\\ipykernel_34800\\2238899073.py:61: FutureWarning: The frame.append method is deprecated and will be removed from pandas in a future version. Use pandas.concat instead.\n",
      "  df = df.append(datarow, ignore_index=True)\n"
     ]
    },
    {
     "name": "stdout",
     "output_type": "stream",
     "text": [
      "AnnuallyOSU Moritz College of Law55 W.12th Avenue, Columbus, Ohio, 43210Columbus, OH 43210\n",
      "333 W 10th AveColumbus, OH 43210Columbus, OH 43210\n"
     ]
    },
    {
     "name": "stderr",
     "output_type": "stream",
     "text": [
      "C:\\Users\\lando\\AppData\\Local\\Temp\\ipykernel_34800\\2238899073.py:61: FutureWarning: The frame.append method is deprecated and will be removed from pandas in a future version. Use pandas.concat instead.\n",
      "  df = df.append(datarow, ignore_index=True)\n",
      "C:\\Users\\lando\\AppData\\Local\\Temp\\ipykernel_34800\\2238899073.py:61: FutureWarning: The frame.append method is deprecated and will be removed from pandas in a future version. Use pandas.concat instead.\n",
      "  df = df.append(datarow, ignore_index=True)\n"
     ]
    },
    {
     "name": "stdout",
     "output_type": "stream",
     "text": [
      "Monday 6pm - 7:30pm1739 N High St, Columbus, OH 43210Columbus, OH 43210\n",
      "305 W. 12th AvenueColumbus, OH 43210Columbus, OH 43210\n"
     ]
    },
    {
     "name": "stderr",
     "output_type": "stream",
     "text": [
      "C:\\Users\\lando\\AppData\\Local\\Temp\\ipykernel_34800\\2238899073.py:61: FutureWarning: The frame.append method is deprecated and will be removed from pandas in a future version. Use pandas.concat instead.\n",
      "  df = df.append(datarow, ignore_index=True)\n",
      "C:\\Users\\lando\\AppData\\Local\\Temp\\ipykernel_34800\\2238899073.py:61: FutureWarning: The frame.append method is deprecated and will be removed from pandas in a future version. Use pandas.concat instead.\n",
      "  df = df.append(datarow, ignore_index=True)\n"
     ]
    },
    {
     "name": "stdout",
     "output_type": "stream",
     "text": [
      "Columbus, OH 43210\n",
      "Columbus, OH 43210\n"
     ]
    },
    {
     "name": "stderr",
     "output_type": "stream",
     "text": [
      "C:\\Users\\lando\\AppData\\Local\\Temp\\ipykernel_34800\\2238899073.py:61: FutureWarning: The frame.append method is deprecated and will be removed from pandas in a future version. Use pandas.concat instead.\n",
      "  df = df.append(datarow, ignore_index=True)\n",
      "C:\\Users\\lando\\AppData\\Local\\Temp\\ipykernel_34800\\2238899073.py:61: FutureWarning: The frame.append method is deprecated and will be removed from pandas in a future version. Use pandas.concat instead.\n",
      "  df = df.append(datarow, ignore_index=True)\n"
     ]
    },
    {
     "name": "stdout",
     "output_type": "stream",
     "text": [
      "Thursdays at 6:30 bi-weekly1739 N High StColumbus, OH 43210\n"
     ]
    },
    {
     "name": "stderr",
     "output_type": "stream",
     "text": [
      "C:\\Users\\lando\\AppData\\Local\\Temp\\ipykernel_34800\\2238899073.py:61: FutureWarning: The frame.append method is deprecated and will be removed from pandas in a future version. Use pandas.concat instead.\n",
      "  df = df.append(datarow, ignore_index=True)\n"
     ]
    },
    {
     "name": "stdout",
     "output_type": "stream",
     "text": [
      "Tuesdays46 E 16th AveColumbus, OH 43210\n",
      "One Monday a Month at 6:00 pmCunz Hall1841 Neil AveColumbus, OH 43210\n"
     ]
    },
    {
     "name": "stderr",
     "output_type": "stream",
     "text": [
      "C:\\Users\\lando\\AppData\\Local\\Temp\\ipykernel_34800\\2238899073.py:61: FutureWarning: The frame.append method is deprecated and will be removed from pandas in a future version. Use pandas.concat instead.\n",
      "  df = df.append(datarow, ignore_index=True)\n",
      "C:\\Users\\lando\\AppData\\Local\\Temp\\ipykernel_34800\\2238899073.py:61: FutureWarning: The frame.append method is deprecated and will be removed from pandas in a future version. Use pandas.concat instead.\n",
      "  df = df.append(datarow, ignore_index=True)\n"
     ]
    },
    {
     "name": "stdout",
     "output_type": "stream",
     "text": [
      "Thursday 6:00PM1827 Neil AveColumbus, OH 43210Columbus, OH 43210\n",
      "every other Friday,3:00 pm398 Hagerty Hall, 1775 College Rd.Columbus, OH, 43210Columbus, OH 43210\n"
     ]
    },
    {
     "name": "stderr",
     "output_type": "stream",
     "text": [
      "C:\\Users\\lando\\AppData\\Local\\Temp\\ipykernel_34800\\2238899073.py:61: FutureWarning: The frame.append method is deprecated and will be removed from pandas in a future version. Use pandas.concat instead.\n",
      "  df = df.append(datarow, ignore_index=True)\n",
      "C:\\Users\\lando\\AppData\\Local\\Temp\\ipykernel_34800\\2238899073.py:61: FutureWarning: The frame.append method is deprecated and will be removed from pandas in a future version. Use pandas.concat instead.\n",
      "  df = df.append(datarow, ignore_index=True)\n"
     ]
    },
    {
     "name": "stdout",
     "output_type": "stream",
     "text": [
      "First Monday of the month at 5:15pmColumbus, OH 43210\n",
      "Wednesday 7 PM2015 Neil AvenueColumbus, OH 43210Columbus, OH 43210\n"
     ]
    },
    {
     "name": "stderr",
     "output_type": "stream",
     "text": [
      "C:\\Users\\lando\\AppData\\Local\\Temp\\ipykernel_34800\\2238899073.py:61: FutureWarning: The frame.append method is deprecated and will be removed from pandas in a future version. Use pandas.concat instead.\n",
      "  df = df.append(datarow, ignore_index=True)\n",
      "C:\\Users\\lando\\AppData\\Local\\Temp\\ipykernel_34800\\2238899073.py:61: FutureWarning: The frame.append method is deprecated and will be removed from pandas in a future version. Use pandas.concat instead.\n",
      "  df = df.append(datarow, ignore_index=True)\n"
     ]
    },
    {
     "name": "stdout",
     "output_type": "stream",
     "text": [
      "Third Fridays, 10:30 am29 W. Woodruff AveColumbus, OH 43210\n"
     ]
    },
    {
     "name": "stderr",
     "output_type": "stream",
     "text": [
      "C:\\Users\\lando\\AppData\\Local\\Temp\\ipykernel_34800\\2238899073.py:61: FutureWarning: The frame.append method is deprecated and will be removed from pandas in a future version. Use pandas.concat instead.\n",
      "  df = df.append(datarow, ignore_index=True)\n"
     ]
    },
    {
     "name": "stdout",
     "output_type": "stream",
     "text": [
      "Columbus, OH 43210\n",
      "Tuesday's 7:05 PMColumbus, OH 43210\n"
     ]
    },
    {
     "name": "stderr",
     "output_type": "stream",
     "text": [
      "C:\\Users\\lando\\AppData\\Local\\Temp\\ipykernel_34800\\2238899073.py:61: FutureWarning: The frame.append method is deprecated and will be removed from pandas in a future version. Use pandas.concat instead.\n",
      "  df = df.append(datarow, ignore_index=True)\n",
      "C:\\Users\\lando\\AppData\\Local\\Temp\\ipykernel_34800\\2238899073.py:61: FutureWarning: The frame.append method is deprecated and will be removed from pandas in a future version. Use pandas.concat instead.\n",
      "  df = df.append(datarow, ignore_index=True)\n"
     ]
    },
    {
     "name": "stdout",
     "output_type": "stream",
     "text": [
      "Monthly evening meetingsColumbus, OH 43210\n",
      "1st Friday of the month at 11:30 am305 W. 12th Ave. Columbus OH 43210Columbus, OH 43210\n"
     ]
    },
    {
     "name": "stderr",
     "output_type": "stream",
     "text": [
      "C:\\Users\\lando\\AppData\\Local\\Temp\\ipykernel_34800\\2238899073.py:61: FutureWarning: The frame.append method is deprecated and will be removed from pandas in a future version. Use pandas.concat instead.\n",
      "  df = df.append(datarow, ignore_index=True)\n",
      "C:\\Users\\lando\\AppData\\Local\\Temp\\ipykernel_34800\\2238899073.py:61: FutureWarning: The frame.append method is deprecated and will be removed from pandas in a future version. Use pandas.concat instead.\n",
      "  df = df.append(datarow, ignore_index=True)\n"
     ]
    },
    {
     "name": "stdout",
     "output_type": "stream",
     "text": [
      "Every Thursday at 4pm590 Woody Hayes Dr Columbus, OH 43210Columbus, OH 43210\n",
      "TBD370 West 9th Ave, Meiling HallColumbus, OH 43210\n"
     ]
    },
    {
     "name": "stderr",
     "output_type": "stream",
     "text": [
      "C:\\Users\\lando\\AppData\\Local\\Temp\\ipykernel_34800\\2238899073.py:61: FutureWarning: The frame.append method is deprecated and will be removed from pandas in a future version. Use pandas.concat instead.\n",
      "  df = df.append(datarow, ignore_index=True)\n",
      "C:\\Users\\lando\\AppData\\Local\\Temp\\ipykernel_34800\\2238899073.py:61: FutureWarning: The frame.append method is deprecated and will be removed from pandas in a future version. Use pandas.concat instead.\n",
      "  df = df.append(datarow, ignore_index=True)\n"
     ]
    },
    {
     "name": "stdout",
     "output_type": "stream",
     "text": [
      "6pm on Thursdays in the Physics Research Building191 W Woodruff AveColumbus, OH 43210\n",
      "Varies453 W 10th Ave, Columbus, OH 43210Columbus, OH 43210\n"
     ]
    },
    {
     "name": "stderr",
     "output_type": "stream",
     "text": [
      "C:\\Users\\lando\\AppData\\Local\\Temp\\ipykernel_34800\\2238899073.py:61: FutureWarning: The frame.append method is deprecated and will be removed from pandas in a future version. Use pandas.concat instead.\n",
      "  df = df.append(datarow, ignore_index=True)\n",
      "C:\\Users\\lando\\AppData\\Local\\Temp\\ipykernel_34800\\2238899073.py:61: FutureWarning: The frame.append method is deprecated and will be removed from pandas in a future version. Use pandas.concat instead.\n",
      "  df = df.append(datarow, ignore_index=True)\n"
     ]
    },
    {
     "name": "stdout",
     "output_type": "stream",
     "text": [
      "Zoom 6:30pmColumbus, OH 43210\n",
      "Columbus, OH 43210\n"
     ]
    },
    {
     "name": "stderr",
     "output_type": "stream",
     "text": [
      "C:\\Users\\lando\\AppData\\Local\\Temp\\ipykernel_34800\\2238899073.py:61: FutureWarning: The frame.append method is deprecated and will be removed from pandas in a future version. Use pandas.concat instead.\n",
      "  df = df.append(datarow, ignore_index=True)\n",
      "C:\\Users\\lando\\AppData\\Local\\Temp\\ipykernel_34800\\2238899073.py:61: FutureWarning: The frame.append method is deprecated and will be removed from pandas in a future version. Use pandas.concat instead.\n",
      "  df = df.append(datarow, ignore_index=True)\n"
     ]
    },
    {
     "name": "stdout",
     "output_type": "stream",
     "text": [
      "Fridays at 4 PM370 W 9th AveColumbus, OH 43210Columbus, OH 43210\n",
      "Columbus, OH 43210\n"
     ]
    },
    {
     "name": "stderr",
     "output_type": "stream",
     "text": [
      "C:\\Users\\lando\\AppData\\Local\\Temp\\ipykernel_34800\\2238899073.py:61: FutureWarning: The frame.append method is deprecated and will be removed from pandas in a future version. Use pandas.concat instead.\n",
      "  df = df.append(datarow, ignore_index=True)\n",
      "C:\\Users\\lando\\AppData\\Local\\Temp\\ipykernel_34800\\2238899073.py:61: FutureWarning: The frame.append method is deprecated and will be removed from pandas in a future version. Use pandas.concat instead.\n",
      "  df = df.append(datarow, ignore_index=True)\n"
     ]
    },
    {
     "name": "stdout",
     "output_type": "stream",
     "text": [
      "1st and 3rd Thursdays at 7:00PMColumbus, OH 43210\n",
      "Wednesday @ 7pmColumbus, OH 43210\n"
     ]
    },
    {
     "name": "stderr",
     "output_type": "stream",
     "text": [
      "C:\\Users\\lando\\AppData\\Local\\Temp\\ipykernel_34800\\2238899073.py:61: FutureWarning: The frame.append method is deprecated and will be removed from pandas in a future version. Use pandas.concat instead.\n",
      "  df = df.append(datarow, ignore_index=True)\n",
      "C:\\Users\\lando\\AppData\\Local\\Temp\\ipykernel_34800\\2238899073.py:61: FutureWarning: The frame.append method is deprecated and will be removed from pandas in a future version. Use pandas.concat instead.\n",
      "  df = df.append(datarow, ignore_index=True)\n"
     ]
    },
    {
     "name": "stdout",
     "output_type": "stream",
     "text": [
      "TBD230 North Oval MallColumbus, OH 43210\n",
      "Tuesday at 7pmBuilding 072 2009 Millikin Rd Columbus, OH 43210Columbus, OH 43210\n"
     ]
    },
    {
     "name": "stderr",
     "output_type": "stream",
     "text": [
      "C:\\Users\\lando\\AppData\\Local\\Temp\\ipykernel_34800\\2238899073.py:61: FutureWarning: The frame.append method is deprecated and will be removed from pandas in a future version. Use pandas.concat instead.\n",
      "  df = df.append(datarow, ignore_index=True)\n",
      "C:\\Users\\lando\\AppData\\Local\\Temp\\ipykernel_34800\\2238899073.py:61: FutureWarning: The frame.append method is deprecated and will be removed from pandas in a future version. Use pandas.concat instead.\n",
      "  df = df.append(datarow, ignore_index=True)\n"
     ]
    },
    {
     "name": "stdout",
     "output_type": "stream",
     "text": [
      "Thursdays, TBDColumbus, OH 43210\n",
      "Every other Thursday at 8:30PM starting 8/25(please email for updated meeting location)Columbus, OH 43210\n"
     ]
    },
    {
     "name": "stderr",
     "output_type": "stream",
     "text": [
      "C:\\Users\\lando\\AppData\\Local\\Temp\\ipykernel_34800\\2238899073.py:61: FutureWarning: The frame.append method is deprecated and will be removed from pandas in a future version. Use pandas.concat instead.\n",
      "  df = df.append(datarow, ignore_index=True)\n",
      "C:\\Users\\lando\\AppData\\Local\\Temp\\ipykernel_34800\\2238899073.py:61: FutureWarning: The frame.append method is deprecated and will be removed from pandas in a future version. Use pandas.concat instead.\n",
      "  df = df.append(datarow, ignore_index=True)\n"
     ]
    },
    {
     "name": "stdout",
     "output_type": "stream",
     "text": [
      "Thurs 7:00pm - 9:00 pm.930 Kinnear RoadColumbus, OH 43210\n",
      "Sunday at 5:00pm129 W 12th AveColumbus, OH 43210\n"
     ]
    },
    {
     "name": "stderr",
     "output_type": "stream",
     "text": [
      "C:\\Users\\lando\\AppData\\Local\\Temp\\ipykernel_34800\\2238899073.py:61: FutureWarning: The frame.append method is deprecated and will be removed from pandas in a future version. Use pandas.concat instead.\n",
      "  df = df.append(datarow, ignore_index=True)\n",
      "C:\\Users\\lando\\AppData\\Local\\Temp\\ipykernel_34800\\2238899073.py:61: FutureWarning: The frame.append method is deprecated and will be removed from pandas in a future version. Use pandas.concat instead.\n",
      "  df = df.append(datarow, ignore_index=True)\n"
     ]
    },
    {
     "name": "stdout",
     "output_type": "stream",
     "text": [
      "Columbus, OH 43210\n"
     ]
    },
    {
     "name": "stderr",
     "output_type": "stream",
     "text": [
      "C:\\Users\\lando\\AppData\\Local\\Temp\\ipykernel_34800\\2238899073.py:61: FutureWarning: The frame.append method is deprecated and will be removed from pandas in a future version. Use pandas.concat instead.\n",
      "  df = df.append(datarow, ignore_index=True)\n"
     ]
    },
    {
     "name": "stdout",
     "output_type": "stream",
     "text": [
      "Tuesday 7:00-8:30 pm153 W. 12th Ave.Columbus, OH 43210\n",
      "VariesVariesColumbus, OH 43210\n"
     ]
    },
    {
     "name": "stderr",
     "output_type": "stream",
     "text": [
      "C:\\Users\\lando\\AppData\\Local\\Temp\\ipykernel_34800\\2238899073.py:61: FutureWarning: The frame.append method is deprecated and will be removed from pandas in a future version. Use pandas.concat instead.\n",
      "  df = df.append(datarow, ignore_index=True)\n",
      "C:\\Users\\lando\\AppData\\Local\\Temp\\ipykernel_34800\\2238899073.py:61: FutureWarning: The frame.append method is deprecated and will be removed from pandas in a future version. Use pandas.concat instead.\n",
      "  df = df.append(datarow, ignore_index=True)\n"
     ]
    },
    {
     "name": "stdout",
     "output_type": "stream",
     "text": [
      "Columbus, OH 43210\n",
      "Mondays and Thursdays from 6:00-8:00 PMColumbus, OH 43210\n"
     ]
    },
    {
     "name": "stderr",
     "output_type": "stream",
     "text": [
      "C:\\Users\\lando\\AppData\\Local\\Temp\\ipykernel_34800\\2238899073.py:61: FutureWarning: The frame.append method is deprecated and will be removed from pandas in a future version. Use pandas.concat instead.\n",
      "  df = df.append(datarow, ignore_index=True)\n",
      "C:\\Users\\lando\\AppData\\Local\\Temp\\ipykernel_34800\\2238899073.py:61: FutureWarning: The frame.append method is deprecated and will be removed from pandas in a future version. Use pandas.concat instead.\n",
      "  df = df.append(datarow, ignore_index=True)\n"
     ]
    },
    {
     "name": "stdout",
     "output_type": "stream",
     "text": [
      "2X a month on Monday(s) at 5:30pmtbdColumbus, OH 43210\n",
      "Varies (email us)Columbus, OH 43210\n"
     ]
    },
    {
     "name": "stderr",
     "output_type": "stream",
     "text": [
      "C:\\Users\\lando\\AppData\\Local\\Temp\\ipykernel_34800\\2238899073.py:61: FutureWarning: The frame.append method is deprecated and will be removed from pandas in a future version. Use pandas.concat instead.\n",
      "  df = df.append(datarow, ignore_index=True)\n",
      "C:\\Users\\lando\\AppData\\Local\\Temp\\ipykernel_34800\\2238899073.py:61: FutureWarning: The frame.append method is deprecated and will be removed from pandas in a future version. Use pandas.concat instead.\n",
      "  df = df.append(datarow, ignore_index=True)\n"
     ]
    },
    {
     "name": "stdout",
     "output_type": "stream",
     "text": [
      "Wednesday 6:00pmThe Ohio State University UnionColumbus, OH 43210\n",
      "Wednesdays at 6pm2021 Coffey Rd, Columbus OH 43210Columbus, OH 43210\n"
     ]
    },
    {
     "name": "stderr",
     "output_type": "stream",
     "text": [
      "C:\\Users\\lando\\AppData\\Local\\Temp\\ipykernel_34800\\2238899073.py:61: FutureWarning: The frame.append method is deprecated and will be removed from pandas in a future version. Use pandas.concat instead.\n",
      "  df = df.append(datarow, ignore_index=True)\n",
      "C:\\Users\\lando\\AppData\\Local\\Temp\\ipykernel_34800\\2238899073.py:61: FutureWarning: The frame.append method is deprecated and will be removed from pandas in a future version. Use pandas.concat instead.\n",
      "  df = df.append(datarow, ignore_index=True)\n"
     ]
    },
    {
     "name": "stdout",
     "output_type": "stream",
     "text": [
      "Saturday 10:00 amColumbus, OH 43210\n",
      "Columbus, OH 43210\n"
     ]
    },
    {
     "name": "stderr",
     "output_type": "stream",
     "text": [
      "C:\\Users\\lando\\AppData\\Local\\Temp\\ipykernel_34800\\2238899073.py:61: FutureWarning: The frame.append method is deprecated and will be removed from pandas in a future version. Use pandas.concat instead.\n",
      "  df = df.append(datarow, ignore_index=True)\n",
      "C:\\Users\\lando\\AppData\\Local\\Temp\\ipykernel_34800\\2238899073.py:61: FutureWarning: The frame.append method is deprecated and will be removed from pandas in a future version. Use pandas.concat instead.\n",
      "  df = df.append(datarow, ignore_index=True)\n"
     ]
    },
    {
     "name": "stdout",
     "output_type": "stream",
     "text": [
      "Tuesdays at 6:30pmColumbus, OH 43210\n",
      "TBAGraves Hall Rm 1190Columbus, OH 43210\n"
     ]
    },
    {
     "name": "stderr",
     "output_type": "stream",
     "text": [
      "C:\\Users\\lando\\AppData\\Local\\Temp\\ipykernel_34800\\2238899073.py:61: FutureWarning: The frame.append method is deprecated and will be removed from pandas in a future version. Use pandas.concat instead.\n",
      "  df = df.append(datarow, ignore_index=True)\n",
      "C:\\Users\\lando\\AppData\\Local\\Temp\\ipykernel_34800\\2238899073.py:61: FutureWarning: The frame.append method is deprecated and will be removed from pandas in a future version. Use pandas.concat instead.\n",
      "  df = df.append(datarow, ignore_index=True)\n"
     ]
    },
    {
     "name": "stdout",
     "output_type": "stream",
     "text": [
      "Beginning and end of each semester.N/AColumbus, OH 43210\n",
      "Monday 7:00 PMColumbus, OH 43210\n"
     ]
    },
    {
     "name": "stderr",
     "output_type": "stream",
     "text": [
      "C:\\Users\\lando\\AppData\\Local\\Temp\\ipykernel_34800\\2238899073.py:61: FutureWarning: The frame.append method is deprecated and will be removed from pandas in a future version. Use pandas.concat instead.\n",
      "  df = df.append(datarow, ignore_index=True)\n",
      "C:\\Users\\lando\\AppData\\Local\\Temp\\ipykernel_34800\\2238899073.py:61: FutureWarning: The frame.append method is deprecated and will be removed from pandas in a future version. Use pandas.concat instead.\n",
      "  df = df.append(datarow, ignore_index=True)\n"
     ]
    },
    {
     "name": "stdout",
     "output_type": "stream",
     "text": [
      "Thursday 7:05pmColumbus, OH 43210\n",
      "Columbus, OH 43210\n"
     ]
    },
    {
     "name": "stderr",
     "output_type": "stream",
     "text": [
      "C:\\Users\\lando\\AppData\\Local\\Temp\\ipykernel_34800\\2238899073.py:61: FutureWarning: The frame.append method is deprecated and will be removed from pandas in a future version. Use pandas.concat instead.\n",
      "  df = df.append(datarow, ignore_index=True)\n",
      "C:\\Users\\lando\\AppData\\Local\\Temp\\ipykernel_34800\\2238899073.py:61: FutureWarning: The frame.append method is deprecated and will be removed from pandas in a future version. Use pandas.concat instead.\n",
      "  df = df.append(datarow, ignore_index=True)\n"
     ]
    },
    {
     "name": "stdout",
     "output_type": "stream",
     "text": [
      "Virtual338 W 10th AveColumbus, OH 43210\n",
      "Tuesday 8:00 pmColumbus, OH 43210\n"
     ]
    },
    {
     "name": "stderr",
     "output_type": "stream",
     "text": [
      "C:\\Users\\lando\\AppData\\Local\\Temp\\ipykernel_34800\\2238899073.py:61: FutureWarning: The frame.append method is deprecated and will be removed from pandas in a future version. Use pandas.concat instead.\n",
      "  df = df.append(datarow, ignore_index=True)\n",
      "C:\\Users\\lando\\AppData\\Local\\Temp\\ipykernel_34800\\2238899073.py:61: FutureWarning: The frame.append method is deprecated and will be removed from pandas in a future version. Use pandas.concat instead.\n",
      "  df = df.append(datarow, ignore_index=True)\n"
     ]
    },
    {
     "name": "stdout",
     "output_type": "stream",
     "text": [
      "Mondays 6:00pm165 E 15th AveColumbus, OH 43210\n",
      "Tuesday 6:30pm-8pmColumbus, OH 43210\n"
     ]
    },
    {
     "name": "stderr",
     "output_type": "stream",
     "text": [
      "C:\\Users\\lando\\AppData\\Local\\Temp\\ipykernel_34800\\2238899073.py:61: FutureWarning: The frame.append method is deprecated and will be removed from pandas in a future version. Use pandas.concat instead.\n",
      "  df = df.append(datarow, ignore_index=True)\n",
      "C:\\Users\\lando\\AppData\\Local\\Temp\\ipykernel_34800\\2238899073.py:61: FutureWarning: The frame.append method is deprecated and will be removed from pandas in a future version. Use pandas.concat instead.\n",
      "  df = df.append(datarow, ignore_index=True)\n"
     ]
    },
    {
     "name": "stdout",
     "output_type": "stream",
     "text": [
      "Thursday, 7pm1787 Neil Ave Columbus, OH 43210Columbus, OH 43210\n",
      "Tuesdays, 6:00 pm - 7:30 pmColumbus, OH 43210\n"
     ]
    },
    {
     "name": "stderr",
     "output_type": "stream",
     "text": [
      "C:\\Users\\lando\\AppData\\Local\\Temp\\ipykernel_34800\\2238899073.py:61: FutureWarning: The frame.append method is deprecated and will be removed from pandas in a future version. Use pandas.concat instead.\n",
      "  df = df.append(datarow, ignore_index=True)\n",
      "C:\\Users\\lando\\AppData\\Local\\Temp\\ipykernel_34800\\2238899073.py:61: FutureWarning: The frame.append method is deprecated and will be removed from pandas in a future version. Use pandas.concat instead.\n",
      "  df = df.append(datarow, ignore_index=True)\n"
     ]
    },
    {
     "name": "stdout",
     "output_type": "stream",
     "text": [
      "One general body meeting at beginning of semester1739 N High St., Columbus, OH 43210Columbus, OH 43210\n",
      "Check out our Slack and Email List: bdaaosu.orgTuesday’s @ 7:30pm**Meeting location subject to change**Columbus, OH 43210\n"
     ]
    },
    {
     "name": "stderr",
     "output_type": "stream",
     "text": [
      "C:\\Users\\lando\\AppData\\Local\\Temp\\ipykernel_34800\\2238899073.py:61: FutureWarning: The frame.append method is deprecated and will be removed from pandas in a future version. Use pandas.concat instead.\n",
      "  df = df.append(datarow, ignore_index=True)\n",
      "C:\\Users\\lando\\AppData\\Local\\Temp\\ipykernel_34800\\2238899073.py:61: FutureWarning: The frame.append method is deprecated and will be removed from pandas in a future version. Use pandas.concat instead.\n",
      "  df = df.append(datarow, ignore_index=True)\n"
     ]
    },
    {
     "name": "stdout",
     "output_type": "stream",
     "text": [
      "Group rides on weeknights and weekends337 Annie & John Glenn AvenueColumbus, OH 43210\n",
      "Columbus, OH 43210\n"
     ]
    },
    {
     "name": "stderr",
     "output_type": "stream",
     "text": [
      "C:\\Users\\lando\\AppData\\Local\\Temp\\ipykernel_34800\\2238899073.py:61: FutureWarning: The frame.append method is deprecated and will be removed from pandas in a future version. Use pandas.concat instead.\n",
      "  df = df.append(datarow, ignore_index=True)\n",
      "C:\\Users\\lando\\AppData\\Local\\Temp\\ipykernel_34800\\2238899073.py:61: FutureWarning: The frame.append method is deprecated and will be removed from pandas in a future version. Use pandas.concat instead.\n",
      "  df = df.append(datarow, ignore_index=True)\n"
     ]
    },
    {
     "name": "stdout",
     "output_type": "stream",
     "text": [
      "Thursday, 7:30pmColumbus, OH 43210\n",
      "Thursday at 4:00 PM116 W 19th AveColumbus, OH 43210\n"
     ]
    },
    {
     "name": "stderr",
     "output_type": "stream",
     "text": [
      "C:\\Users\\lando\\AppData\\Local\\Temp\\ipykernel_34800\\2238899073.py:61: FutureWarning: The frame.append method is deprecated and will be removed from pandas in a future version. Use pandas.concat instead.\n",
      "  df = df.append(datarow, ignore_index=True)\n",
      "C:\\Users\\lando\\AppData\\Local\\Temp\\ipykernel_34800\\2238899073.py:61: FutureWarning: The frame.append method is deprecated and will be removed from pandas in a future version. Use pandas.concat instead.\n",
      "  df = df.append(datarow, ignore_index=True)\n"
     ]
    },
    {
     "name": "stdout",
     "output_type": "stream",
     "text": [
      "Monthly- refer to https://www.osubmes.org/140 W. 19th Avenue, Columbus, OH 43210Columbus, OH 43210\n",
      "Bi-weekly Mondays 5:30-6:30pm333 W. 10th AvenueColumbus, OH 43210\n"
     ]
    },
    {
     "name": "stderr",
     "output_type": "stream",
     "text": [
      "C:\\Users\\lando\\AppData\\Local\\Temp\\ipykernel_34800\\2238899073.py:61: FutureWarning: The frame.append method is deprecated and will be removed from pandas in a future version. Use pandas.concat instead.\n",
      "  df = df.append(datarow, ignore_index=True)\n",
      "C:\\Users\\lando\\AppData\\Local\\Temp\\ipykernel_34800\\2238899073.py:61: FutureWarning: The frame.append method is deprecated and will be removed from pandas in a future version. Use pandas.concat instead.\n",
      "  df = df.append(datarow, ignore_index=True)\n"
     ]
    },
    {
     "name": "stdout",
     "output_type": "stream",
     "text": [
      "First Monday of every monthColumbus, OH 43210\n",
      "as announced333 West 10th AveColumbus, OH 43210\n"
     ]
    },
    {
     "name": "stderr",
     "output_type": "stream",
     "text": [
      "C:\\Users\\lando\\AppData\\Local\\Temp\\ipykernel_34800\\2238899073.py:61: FutureWarning: The frame.append method is deprecated and will be removed from pandas in a future version. Use pandas.concat instead.\n",
      "  df = df.append(datarow, ignore_index=True)\n",
      "C:\\Users\\lando\\AppData\\Local\\Temp\\ipykernel_34800\\2238899073.py:61: FutureWarning: The frame.append method is deprecated and will be removed from pandas in a future version. Use pandas.concat instead.\n",
      "  df = df.append(datarow, ignore_index=True)\n"
     ]
    },
    {
     "name": "stdout",
     "output_type": "stream",
     "text": [
      "Last Tuesday of the Month, 4-5pmColumbus, OH 43210\n",
      "Wednesday 7pm2009 Milikin Rd.Columbus, OH 43210\n"
     ]
    },
    {
     "name": "stderr",
     "output_type": "stream",
     "text": [
      "C:\\Users\\lando\\AppData\\Local\\Temp\\ipykernel_34800\\2238899073.py:61: FutureWarning: The frame.append method is deprecated and will be removed from pandas in a future version. Use pandas.concat instead.\n",
      "  df = df.append(datarow, ignore_index=True)\n",
      "C:\\Users\\lando\\AppData\\Local\\Temp\\ipykernel_34800\\2238899073.py:61: FutureWarning: The frame.append method is deprecated and will be removed from pandas in a future version. Use pandas.concat instead.\n",
      "  df = df.append(datarow, ignore_index=True)\n"
     ]
    },
    {
     "name": "stdout",
     "output_type": "stream",
     "text": [
      "Biweekly Wednesdays at 6 PM242 W. 18th Ave Columbus, OH 43210Columbus, OH 43210\n",
      "Tuesdays at 6PMColumbus, OH 43210\n"
     ]
    },
    {
     "name": "stderr",
     "output_type": "stream",
     "text": [
      "C:\\Users\\lando\\AppData\\Local\\Temp\\ipykernel_34800\\2238899073.py:61: FutureWarning: The frame.append method is deprecated and will be removed from pandas in a future version. Use pandas.concat instead.\n",
      "  df = df.append(datarow, ignore_index=True)\n",
      "C:\\Users\\lando\\AppData\\Local\\Temp\\ipykernel_34800\\2238899073.py:61: FutureWarning: The frame.append method is deprecated and will be removed from pandas in a future version. Use pandas.concat instead.\n",
      "  df = df.append(datarow, ignore_index=True)\n"
     ]
    },
    {
     "name": "stdout",
     "output_type": "stream",
     "text": [
      "Tuesday Nights1813 N High StColumbus, OH 43210\n",
      "The first Friday of each month154 W. 12th AveColumbus, OH 43210\n"
     ]
    },
    {
     "name": "stderr",
     "output_type": "stream",
     "text": [
      "C:\\Users\\lando\\AppData\\Local\\Temp\\ipykernel_34800\\2238899073.py:61: FutureWarning: The frame.append method is deprecated and will be removed from pandas in a future version. Use pandas.concat instead.\n",
      "  df = df.append(datarow, ignore_index=True)\n",
      "C:\\Users\\lando\\AppData\\Local\\Temp\\ipykernel_34800\\2238899073.py:61: FutureWarning: The frame.append method is deprecated and will be removed from pandas in a future version. Use pandas.concat instead.\n",
      "  df = df.append(datarow, ignore_index=True)\n"
     ]
    },
    {
     "name": "stdout",
     "output_type": "stream",
     "text": [
      "Third Tuesday each Month55 W 12th AvenueColumbus, OH 43210Columbus, OH 43210\n",
      "Alternating Mondays at 2PMColumbus, OH 43210\n"
     ]
    },
    {
     "name": "stderr",
     "output_type": "stream",
     "text": [
      "C:\\Users\\lando\\AppData\\Local\\Temp\\ipykernel_34800\\2238899073.py:61: FutureWarning: The frame.append method is deprecated and will be removed from pandas in a future version. Use pandas.concat instead.\n",
      "  df = df.append(datarow, ignore_index=True)\n",
      "C:\\Users\\lando\\AppData\\Local\\Temp\\ipykernel_34800\\2238899073.py:61: FutureWarning: The frame.append method is deprecated and will be removed from pandas in a future version. Use pandas.concat instead.\n",
      "  df = df.append(datarow, ignore_index=True)\n"
     ]
    },
    {
     "name": "stdout",
     "output_type": "stream",
     "text": [
      "First Thursday 12:00-1:002100 Neil AveColumbus, OH 43210\n",
      "Sunday at 4:00pmColumbus, OH 43210\n"
     ]
    },
    {
     "name": "stderr",
     "output_type": "stream",
     "text": [
      "C:\\Users\\lando\\AppData\\Local\\Temp\\ipykernel_34800\\2238899073.py:61: FutureWarning: The frame.append method is deprecated and will be removed from pandas in a future version. Use pandas.concat instead.\n",
      "  df = df.append(datarow, ignore_index=True)\n",
      "C:\\Users\\lando\\AppData\\Local\\Temp\\ipykernel_34800\\2238899073.py:61: FutureWarning: The frame.append method is deprecated and will be removed from pandas in a future version. Use pandas.concat instead.\n",
      "  df = df.append(datarow, ignore_index=True)\n"
     ]
    },
    {
     "name": "stdout",
     "output_type": "stream",
     "text": [
      "Biweekly Tuesday 7-9 PM154 W 12th Ave, Columbus, OH 43210Columbus, OH 43210\n",
      "Columbus, OH 43210\n"
     ]
    },
    {
     "name": "stderr",
     "output_type": "stream",
     "text": [
      "C:\\Users\\lando\\AppData\\Local\\Temp\\ipykernel_34800\\2238899073.py:61: FutureWarning: The frame.append method is deprecated and will be removed from pandas in a future version. Use pandas.concat instead.\n",
      "  df = df.append(datarow, ignore_index=True)\n",
      "C:\\Users\\lando\\AppData\\Local\\Temp\\ipykernel_34800\\2238899073.py:61: FutureWarning: The frame.append method is deprecated and will be removed from pandas in a future version. Use pandas.concat instead.\n",
      "  df = df.append(datarow, ignore_index=True)\n"
     ]
    },
    {
     "name": "stdout",
     "output_type": "stream",
     "text": [
      "Thursdays 7:00 pm154 W. 12th AveColumbus, OH 43210\n",
      "Wednesday’s at 6pmEnarson Building Room 226 2009 Millikan RdColumbus, OH 43210\n"
     ]
    },
    {
     "name": "stderr",
     "output_type": "stream",
     "text": [
      "C:\\Users\\lando\\AppData\\Local\\Temp\\ipykernel_34800\\2238899073.py:61: FutureWarning: The frame.append method is deprecated and will be removed from pandas in a future version. Use pandas.concat instead.\n",
      "  df = df.append(datarow, ignore_index=True)\n",
      "C:\\Users\\lando\\AppData\\Local\\Temp\\ipykernel_34800\\2238899073.py:61: FutureWarning: The frame.append method is deprecated and will be removed from pandas in a future version. Use pandas.concat instead.\n",
      "  df = df.append(datarow, ignore_index=True)\n"
     ]
    },
    {
     "name": "stdout",
     "output_type": "stream",
     "text": [
      "Wednesdays, 5:30-6:30Columbus, OH 43210\n",
      "Columbus, OH 43210\n"
     ]
    },
    {
     "name": "stderr",
     "output_type": "stream",
     "text": [
      "C:\\Users\\lando\\AppData\\Local\\Temp\\ipykernel_34800\\2238899073.py:61: FutureWarning: The frame.append method is deprecated and will be removed from pandas in a future version. Use pandas.concat instead.\n",
      "  df = df.append(datarow, ignore_index=True)\n",
      "C:\\Users\\lando\\AppData\\Local\\Temp\\ipykernel_34800\\2238899073.py:61: FutureWarning: The frame.append method is deprecated and will be removed from pandas in a future version. Use pandas.concat instead.\n",
      "  df = df.append(datarow, ignore_index=True)\n"
     ]
    },
    {
     "name": "stdout",
     "output_type": "stream",
     "text": [
      "Friday 4:30 pm - 6:00 pm2108 Neil AveColumbus, OH 43210\n",
      "Columbus, OH 43210\n"
     ]
    },
    {
     "name": "stderr",
     "output_type": "stream",
     "text": [
      "C:\\Users\\lando\\AppData\\Local\\Temp\\ipykernel_34800\\2238899073.py:61: FutureWarning: The frame.append method is deprecated and will be removed from pandas in a future version. Use pandas.concat instead.\n",
      "  df = df.append(datarow, ignore_index=True)\n",
      "C:\\Users\\lando\\AppData\\Local\\Temp\\ipykernel_34800\\2238899073.py:61: FutureWarning: The frame.append method is deprecated and will be removed from pandas in a future version. Use pandas.concat instead.\n",
      "  df = df.append(datarow, ignore_index=True)\n"
     ]
    },
    {
     "name": "stdout",
     "output_type": "stream",
     "text": [
      "Columbus, OH 43210\n",
      "https://www.blocko.org/officehours1739 N. High St.Columbus, OH 43210\n"
     ]
    },
    {
     "name": "stderr",
     "output_type": "stream",
     "text": [
      "C:\\Users\\lando\\AppData\\Local\\Temp\\ipykernel_34800\\2238899073.py:61: FutureWarning: The frame.append method is deprecated and will be removed from pandas in a future version. Use pandas.concat instead.\n",
      "  df = df.append(datarow, ignore_index=True)\n",
      "C:\\Users\\lando\\AppData\\Local\\Temp\\ipykernel_34800\\2238899073.py:61: FutureWarning: The frame.append method is deprecated and will be removed from pandas in a future version. Use pandas.concat instead.\n",
      "  df = df.append(datarow, ignore_index=True)\n"
     ]
    },
    {
     "name": "stdout",
     "output_type": "stream",
     "text": [
      "Every Tuesday at 8:00pm (Dreese 264)Columbus, OH 43210\n",
      "Columbus, OH 43210\n"
     ]
    },
    {
     "name": "stderr",
     "output_type": "stream",
     "text": [
      "C:\\Users\\lando\\AppData\\Local\\Temp\\ipykernel_34800\\2238899073.py:61: FutureWarning: The frame.append method is deprecated and will be removed from pandas in a future version. Use pandas.concat instead.\n",
      "  df = df.append(datarow, ignore_index=True)\n",
      "C:\\Users\\lando\\AppData\\Local\\Temp\\ipykernel_34800\\2238899073.py:61: FutureWarning: The frame.append method is deprecated and will be removed from pandas in a future version. Use pandas.concat instead.\n",
      "  df = df.append(datarow, ignore_index=True)\n"
     ]
    },
    {
     "name": "stdout",
     "output_type": "stream",
     "text": [
      "Mon/Wed 6 - 8 p.m. (based on your availability)Columbus, OH 43210\n"
     ]
    },
    {
     "name": "stderr",
     "output_type": "stream",
     "text": [
      "C:\\Users\\lando\\AppData\\Local\\Temp\\ipykernel_34800\\2238899073.py:61: FutureWarning: The frame.append method is deprecated and will be removed from pandas in a future version. Use pandas.concat instead.\n",
      "  df = df.append(datarow, ignore_index=True)\n"
     ]
    },
    {
     "name": "stdout",
     "output_type": "stream",
     "text": [
      "Every other Wednesday at 7:05Columbus, OH 43210\n"
     ]
    },
    {
     "name": "stderr",
     "output_type": "stream",
     "text": [
      "C:\\Users\\lando\\AppData\\Local\\Temp\\ipykernel_34800\\2238899073.py:61: FutureWarning: The frame.append method is deprecated and will be removed from pandas in a future version. Use pandas.concat instead.\n",
      "  df = df.append(datarow, ignore_index=True)\n"
     ]
    },
    {
     "name": "stdout",
     "output_type": "stream",
     "text": [
      "First Friday of every Month333 W 10th AveColumbus, OH 43210\n",
      "Thurs. 6:00-10:30 pm2041 College Rd Columbus, OH 43210Columbus, OH 43210\n"
     ]
    },
    {
     "name": "stderr",
     "output_type": "stream",
     "text": [
      "C:\\Users\\lando\\AppData\\Local\\Temp\\ipykernel_34800\\2238899073.py:61: FutureWarning: The frame.append method is deprecated and will be removed from pandas in a future version. Use pandas.concat instead.\n",
      "  df = df.append(datarow, ignore_index=True)\n",
      "C:\\Users\\lando\\AppData\\Local\\Temp\\ipykernel_34800\\2238899073.py:61: FutureWarning: The frame.append method is deprecated and will be removed from pandas in a future version. Use pandas.concat instead.\n",
      "  df = df.append(datarow, ignore_index=True)\n"
     ]
    },
    {
     "name": "stdout",
     "output_type": "stream",
     "text": [
      "Every other Tuesday 6:30pm-7:30pmColumbus, OH 43210\n"
     ]
    },
    {
     "name": "stderr",
     "output_type": "stream",
     "text": [
      "C:\\Users\\lando\\AppData\\Local\\Temp\\ipykernel_34800\\2238899073.py:61: FutureWarning: The frame.append method is deprecated and will be removed from pandas in a future version. Use pandas.concat instead.\n",
      "  df = df.append(datarow, ignore_index=True)\n"
     ]
    },
    {
     "name": "stdout",
     "output_type": "stream",
     "text": [
      "Columbus, OH 43210\n",
      "Tuesday at 8:30pm1787 Neil AveColumbus OH 43210Columbus, OH 43210\n"
     ]
    },
    {
     "name": "stderr",
     "output_type": "stream",
     "text": [
      "C:\\Users\\lando\\AppData\\Local\\Temp\\ipykernel_34800\\2238899073.py:61: FutureWarning: The frame.append method is deprecated and will be removed from pandas in a future version. Use pandas.concat instead.\n",
      "  df = df.append(datarow, ignore_index=True)\n",
      "C:\\Users\\lando\\AppData\\Local\\Temp\\ipykernel_34800\\2238899073.py:61: FutureWarning: The frame.append method is deprecated and will be removed from pandas in a future version. Use pandas.concat instead.\n",
      "  df = df.append(datarow, ignore_index=True)\n"
     ]
    },
    {
     "name": "stdout",
     "output_type": "stream",
     "text": [
      "Twice a month--Columbus, OH 43210\n",
      "Columbus, OH 43210\n"
     ]
    },
    {
     "name": "stderr",
     "output_type": "stream",
     "text": [
      "C:\\Users\\lando\\AppData\\Local\\Temp\\ipykernel_34800\\2238899073.py:61: FutureWarning: The frame.append method is deprecated and will be removed from pandas in a future version. Use pandas.concat instead.\n",
      "  df = df.append(datarow, ignore_index=True)\n",
      "C:\\Users\\lando\\AppData\\Local\\Temp\\ipykernel_34800\\2238899073.py:61: FutureWarning: The frame.append method is deprecated and will be removed from pandas in a future version. Use pandas.concat instead.\n",
      "  df = df.append(datarow, ignore_index=True)\n"
     ]
    },
    {
     "name": "stdout",
     "output_type": "stream",
     "text": [
      "Mondays at 7pmColumbus, OH 43210\n"
     ]
    },
    {
     "name": "stderr",
     "output_type": "stream",
     "text": [
      "C:\\Users\\lando\\AppData\\Local\\Temp\\ipykernel_34800\\2238899073.py:61: FutureWarning: The frame.append method is deprecated and will be removed from pandas in a future version. Use pandas.concat instead.\n",
      "  df = df.append(datarow, ignore_index=True)\n"
     ]
    },
    {
     "name": "stdout",
     "output_type": "stream",
     "text": [
      "Thurs 8-9pm1698 Neil AveColumbus, OH 43210Columbus, OH 43210\n"
     ]
    },
    {
     "name": "stderr",
     "output_type": "stream",
     "text": [
      "C:\\Users\\lando\\AppData\\Local\\Temp\\ipykernel_34800\\2238899073.py:61: FutureWarning: The frame.append method is deprecated and will be removed from pandas in a future version. Use pandas.concat instead.\n",
      "  df = df.append(datarow, ignore_index=True)\n"
     ]
    },
    {
     "name": "stdout",
     "output_type": "stream",
     "text": [
      "Thursday, 7pColumbus, OH 43210\n",
      "Last Friday of every month at 3:00 PM1739 N High St, Columbus, OH 43210Columbus, OH 43210\n"
     ]
    },
    {
     "name": "stderr",
     "output_type": "stream",
     "text": [
      "C:\\Users\\lando\\AppData\\Local\\Temp\\ipykernel_34800\\2238899073.py:61: FutureWarning: The frame.append method is deprecated and will be removed from pandas in a future version. Use pandas.concat instead.\n",
      "  df = df.append(datarow, ignore_index=True)\n",
      "C:\\Users\\lando\\AppData\\Local\\Temp\\ipykernel_34800\\2238899073.py:61: FutureWarning: The frame.append method is deprecated and will be removed from pandas in a future version. Use pandas.concat instead.\n",
      "  df = df.append(datarow, ignore_index=True)\n"
     ]
    },
    {
     "name": "stdout",
     "output_type": "stream",
     "text": [
      "Tuesdays 8:30pm in RPAC demo kitchenColumbus, OH 43210\n",
      "2-3 times a month + extra events, dates/times TBDOhio UnionColumbus, OH 43210\n"
     ]
    },
    {
     "name": "stderr",
     "output_type": "stream",
     "text": [
      "C:\\Users\\lando\\AppData\\Local\\Temp\\ipykernel_34800\\2238899073.py:61: FutureWarning: The frame.append method is deprecated and will be removed from pandas in a future version. Use pandas.concat instead.\n",
      "  df = df.append(datarow, ignore_index=True)\n",
      "C:\\Users\\lando\\AppData\\Local\\Temp\\ipykernel_34800\\2238899073.py:61: FutureWarning: The frame.append method is deprecated and will be removed from pandas in a future version. Use pandas.concat instead.\n",
      "  df = df.append(datarow, ignore_index=True)\n"
     ]
    },
    {
     "name": "stdout",
     "output_type": "stream",
     "text": [
      "Thursdays at 3:30pm337 W.17th Ave.Columbus,OH 43210Columbus, OH 43210\n",
      "Wednesdays at 7:30pm1739 N High St Columbus, OH  43210 United StatesColumbus, OH 43210\n"
     ]
    },
    {
     "name": "stderr",
     "output_type": "stream",
     "text": [
      "C:\\Users\\lando\\AppData\\Local\\Temp\\ipykernel_34800\\2238899073.py:61: FutureWarning: The frame.append method is deprecated and will be removed from pandas in a future version. Use pandas.concat instead.\n",
      "  df = df.append(datarow, ignore_index=True)\n",
      "C:\\Users\\lando\\AppData\\Local\\Temp\\ipykernel_34800\\2238899073.py:61: FutureWarning: The frame.append method is deprecated and will be removed from pandas in a future version. Use pandas.concat instead.\n",
      "  df = df.append(datarow, ignore_index=True)\n",
      "C:\\Users\\lando\\AppData\\Local\\Temp\\ipykernel_34800\\2238899073.py:61: FutureWarning: The frame.append method is deprecated and will be removed from pandas in a future version. Use pandas.concat instead.\n",
      "  df = df.append(datarow, ignore_index=True)\n",
      "C:\\Users\\lando\\AppData\\Local\\Temp\\ipykernel_34800\\2238899073.py:61: FutureWarning: The frame.append method is deprecated and will be removed from pandas in a future version. Use pandas.concat instead.\n",
      "  df = df.append(datarow, ignore_index=True)\n",
      "C:\\Users\\lando\\AppData\\Local\\Temp\\ipykernel_34800\\2238899073.py:61: FutureWarning: The frame.append method is deprecated and will be removed from pandas in a future version. Use pandas.concat instead.\n",
      "  df = df.append(datarow, ignore_index=True)\n",
      "C:\\Users\\lando\\AppData\\Local\\Temp\\ipykernel_34800\\2238899073.py:61: FutureWarning: The frame.append method is deprecated and will be removed from pandas in a future version. Use pandas.concat instead.\n",
      "  df = df.append(datarow, ignore_index=True)\n",
      "C:\\Users\\lando\\AppData\\Local\\Temp\\ipykernel_34800\\2238899073.py:61: FutureWarning: The frame.append method is deprecated and will be removed from pandas in a future version. Use pandas.concat instead.\n",
      "  df = df.append(datarow, ignore_index=True)\n",
      "C:\\Users\\lando\\AppData\\Local\\Temp\\ipykernel_34800\\2238899073.py:61: FutureWarning: The frame.append method is deprecated and will be removed from pandas in a future version. Use pandas.concat instead.\n",
      "  df = df.append(datarow, ignore_index=True)\n",
      "C:\\Users\\lando\\AppData\\Local\\Temp\\ipykernel_34800\\2238899073.py:61: FutureWarning: The frame.append method is deprecated and will be removed from pandas in a future version. Use pandas.concat instead.\n",
      "  df = df.append(datarow, ignore_index=True)\n",
      "C:\\Users\\lando\\AppData\\Local\\Temp\\ipykernel_34800\\2238899073.py:61: FutureWarning: The frame.append method is deprecated and will be removed from pandas in a future version. Use pandas.concat instead.\n",
      "  df = df.append(datarow, ignore_index=True)\n",
      "C:\\Users\\lando\\AppData\\Local\\Temp\\ipykernel_34800\\2238899073.py:61: FutureWarning: The frame.append method is deprecated and will be removed from pandas in a future version. Use pandas.concat instead.\n",
      "  df = df.append(datarow, ignore_index=True)\n",
      "C:\\Users\\lando\\AppData\\Local\\Temp\\ipykernel_34800\\2238899073.py:61: FutureWarning: The frame.append method is deprecated and will be removed from pandas in a future version. Use pandas.concat instead.\n",
      "  df = df.append(datarow, ignore_index=True)\n",
      "C:\\Users\\lando\\AppData\\Local\\Temp\\ipykernel_34800\\2238899073.py:61: FutureWarning: The frame.append method is deprecated and will be removed from pandas in a future version. Use pandas.concat instead.\n",
      "  df = df.append(datarow, ignore_index=True)\n",
      "C:\\Users\\lando\\AppData\\Local\\Temp\\ipykernel_34800\\2238899073.py:61: FutureWarning: The frame.append method is deprecated and will be removed from pandas in a future version. Use pandas.concat instead.\n",
      "  df = df.append(datarow, ignore_index=True)\n",
      "C:\\Users\\lando\\AppData\\Local\\Temp\\ipykernel_34800\\2238899073.py:61: FutureWarning: The frame.append method is deprecated and will be removed from pandas in a future version. Use pandas.concat instead.\n",
      "  df = df.append(datarow, ignore_index=True)\n",
      "C:\\Users\\lando\\AppData\\Local\\Temp\\ipykernel_34800\\2238899073.py:61: FutureWarning: The frame.append method is deprecated and will be removed from pandas in a future version. Use pandas.concat instead.\n",
      "  df = df.append(datarow, ignore_index=True)\n",
      "C:\\Users\\lando\\AppData\\Local\\Temp\\ipykernel_34800\\2238899073.py:61: FutureWarning: The frame.append method is deprecated and will be removed from pandas in a future version. Use pandas.concat instead.\n",
      "  df = df.append(datarow, ignore_index=True)\n",
      "C:\\Users\\lando\\AppData\\Local\\Temp\\ipykernel_34800\\2238899073.py:61: FutureWarning: The frame.append method is deprecated and will be removed from pandas in a future version. Use pandas.concat instead.\n",
      "  df = df.append(datarow, ignore_index=True)\n",
      "C:\\Users\\lando\\AppData\\Local\\Temp\\ipykernel_34800\\2238899073.py:61: FutureWarning: The frame.append method is deprecated and will be removed from pandas in a future version. Use pandas.concat instead.\n",
      "  df = df.append(datarow, ignore_index=True)\n",
      "C:\\Users\\lando\\AppData\\Local\\Temp\\ipykernel_34800\\2238899073.py:61: FutureWarning: The frame.append method is deprecated and will be removed from pandas in a future version. Use pandas.concat instead.\n",
      "  df = df.append(datarow, ignore_index=True)\n",
      "C:\\Users\\lando\\AppData\\Local\\Temp\\ipykernel_34800\\2238899073.py:61: FutureWarning: The frame.append method is deprecated and will be removed from pandas in a future version. Use pandas.concat instead.\n",
      "  df = df.append(datarow, ignore_index=True)\n",
      "C:\\Users\\lando\\AppData\\Local\\Temp\\ipykernel_34800\\2238899073.py:61: FutureWarning: The frame.append method is deprecated and will be removed from pandas in a future version. Use pandas.concat instead.\n",
      "  df = df.append(datarow, ignore_index=True)\n",
      "C:\\Users\\lando\\AppData\\Local\\Temp\\ipykernel_34800\\2238899073.py:61: FutureWarning: The frame.append method is deprecated and will be removed from pandas in a future version. Use pandas.concat instead.\n",
      "  df = df.append(datarow, ignore_index=True)\n",
      "C:\\Users\\lando\\AppData\\Local\\Temp\\ipykernel_34800\\2238899073.py:61: FutureWarning: The frame.append method is deprecated and will be removed from pandas in a future version. Use pandas.concat instead.\n",
      "  df = df.append(datarow, ignore_index=True)\n",
      "C:\\Users\\lando\\AppData\\Local\\Temp\\ipykernel_34800\\2238899073.py:61: FutureWarning: The frame.append method is deprecated and will be removed from pandas in a future version. Use pandas.concat instead.\n",
      "  df = df.append(datarow, ignore_index=True)\n",
      "C:\\Users\\lando\\AppData\\Local\\Temp\\ipykernel_34800\\2238899073.py:61: FutureWarning: The frame.append method is deprecated and will be removed from pandas in a future version. Use pandas.concat instead.\n",
      "  df = df.append(datarow, ignore_index=True)\n",
      "C:\\Users\\lando\\AppData\\Local\\Temp\\ipykernel_34800\\2238899073.py:61: FutureWarning: The frame.append method is deprecated and will be removed from pandas in a future version. Use pandas.concat instead.\n",
      "  df = df.append(datarow, ignore_index=True)\n",
      "C:\\Users\\lando\\AppData\\Local\\Temp\\ipykernel_34800\\2238899073.py:61: FutureWarning: The frame.append method is deprecated and will be removed from pandas in a future version. Use pandas.concat instead.\n",
      "  df = df.append(datarow, ignore_index=True)\n",
      "C:\\Users\\lando\\AppData\\Local\\Temp\\ipykernel_34800\\2238899073.py:61: FutureWarning: The frame.append method is deprecated and will be removed from pandas in a future version. Use pandas.concat instead.\n",
      "  df = df.append(datarow, ignore_index=True)\n",
      "C:\\Users\\lando\\AppData\\Local\\Temp\\ipykernel_34800\\2238899073.py:61: FutureWarning: The frame.append method is deprecated and will be removed from pandas in a future version. Use pandas.concat instead.\n",
      "  df = df.append(datarow, ignore_index=True)\n",
      "C:\\Users\\lando\\AppData\\Local\\Temp\\ipykernel_34800\\2238899073.py:61: FutureWarning: The frame.append method is deprecated and will be removed from pandas in a future version. Use pandas.concat instead.\n",
      "  df = df.append(datarow, ignore_index=True)\n",
      "C:\\Users\\lando\\AppData\\Local\\Temp\\ipykernel_34800\\2238899073.py:61: FutureWarning: The frame.append method is deprecated and will be removed from pandas in a future version. Use pandas.concat instead.\n",
      "  df = df.append(datarow, ignore_index=True)\n",
      "C:\\Users\\lando\\AppData\\Local\\Temp\\ipykernel_34800\\2238899073.py:61: FutureWarning: The frame.append method is deprecated and will be removed from pandas in a future version. Use pandas.concat instead.\n",
      "  df = df.append(datarow, ignore_index=True)\n",
      "C:\\Users\\lando\\AppData\\Local\\Temp\\ipykernel_34800\\2238899073.py:61: FutureWarning: The frame.append method is deprecated and will be removed from pandas in a future version. Use pandas.concat instead.\n",
      "  df = df.append(datarow, ignore_index=True)\n",
      "C:\\Users\\lando\\AppData\\Local\\Temp\\ipykernel_34800\\2238899073.py:61: FutureWarning: The frame.append method is deprecated and will be removed from pandas in a future version. Use pandas.concat instead.\n",
      "  df = df.append(datarow, ignore_index=True)\n",
      "C:\\Users\\lando\\AppData\\Local\\Temp\\ipykernel_34800\\2238899073.py:61: FutureWarning: The frame.append method is deprecated and will be removed from pandas in a future version. Use pandas.concat instead.\n",
      "  df = df.append(datarow, ignore_index=True)\n",
      "C:\\Users\\lando\\AppData\\Local\\Temp\\ipykernel_34800\\2238899073.py:61: FutureWarning: The frame.append method is deprecated and will be removed from pandas in a future version. Use pandas.concat instead.\n",
      "  df = df.append(datarow, ignore_index=True)\n",
      "C:\\Users\\lando\\AppData\\Local\\Temp\\ipykernel_34800\\2238899073.py:61: FutureWarning: The frame.append method is deprecated and will be removed from pandas in a future version. Use pandas.concat instead.\n",
      "  df = df.append(datarow, ignore_index=True)\n",
      "C:\\Users\\lando\\AppData\\Local\\Temp\\ipykernel_34800\\2238899073.py:61: FutureWarning: The frame.append method is deprecated and will be removed from pandas in a future version. Use pandas.concat instead.\n",
      "  df = df.append(datarow, ignore_index=True)\n",
      "C:\\Users\\lando\\AppData\\Local\\Temp\\ipykernel_34800\\2238899073.py:61: FutureWarning: The frame.append method is deprecated and will be removed from pandas in a future version. Use pandas.concat instead.\n",
      "  df = df.append(datarow, ignore_index=True)\n",
      "C:\\Users\\lando\\AppData\\Local\\Temp\\ipykernel_34800\\2238899073.py:61: FutureWarning: The frame.append method is deprecated and will be removed from pandas in a future version. Use pandas.concat instead.\n",
      "  df = df.append(datarow, ignore_index=True)\n",
      "C:\\Users\\lando\\AppData\\Local\\Temp\\ipykernel_34800\\2238899073.py:61: FutureWarning: The frame.append method is deprecated and will be removed from pandas in a future version. Use pandas.concat instead.\n",
      "  df = df.append(datarow, ignore_index=True)\n",
      "C:\\Users\\lando\\AppData\\Local\\Temp\\ipykernel_34800\\2238899073.py:61: FutureWarning: The frame.append method is deprecated and will be removed from pandas in a future version. Use pandas.concat instead.\n",
      "  df = df.append(datarow, ignore_index=True)\n",
      "C:\\Users\\lando\\AppData\\Local\\Temp\\ipykernel_34800\\2238899073.py:61: FutureWarning: The frame.append method is deprecated and will be removed from pandas in a future version. Use pandas.concat instead.\n",
      "  df = df.append(datarow, ignore_index=True)\n",
      "C:\\Users\\lando\\AppData\\Local\\Temp\\ipykernel_34800\\2238899073.py:61: FutureWarning: The frame.append method is deprecated and will be removed from pandas in a future version. Use pandas.concat instead.\n",
      "  df = df.append(datarow, ignore_index=True)\n",
      "C:\\Users\\lando\\AppData\\Local\\Temp\\ipykernel_34800\\2238899073.py:61: FutureWarning: The frame.append method is deprecated and will be removed from pandas in a future version. Use pandas.concat instead.\n",
      "  df = df.append(datarow, ignore_index=True)\n",
      "C:\\Users\\lando\\AppData\\Local\\Temp\\ipykernel_34800\\2238899073.py:61: FutureWarning: The frame.append method is deprecated and will be removed from pandas in a future version. Use pandas.concat instead.\n",
      "  df = df.append(datarow, ignore_index=True)\n",
      "C:\\Users\\lando\\AppData\\Local\\Temp\\ipykernel_34800\\2238899073.py:61: FutureWarning: The frame.append method is deprecated and will be removed from pandas in a future version. Use pandas.concat instead.\n",
      "  df = df.append(datarow, ignore_index=True)\n",
      "C:\\Users\\lando\\AppData\\Local\\Temp\\ipykernel_34800\\2238899073.py:61: FutureWarning: The frame.append method is deprecated and will be removed from pandas in a future version. Use pandas.concat instead.\n",
      "  df = df.append(datarow, ignore_index=True)\n",
      "C:\\Users\\lando\\AppData\\Local\\Temp\\ipykernel_34800\\2238899073.py:61: FutureWarning: The frame.append method is deprecated and will be removed from pandas in a future version. Use pandas.concat instead.\n",
      "  df = df.append(datarow, ignore_index=True)\n",
      "C:\\Users\\lando\\AppData\\Local\\Temp\\ipykernel_34800\\2238899073.py:61: FutureWarning: The frame.append method is deprecated and will be removed from pandas in a future version. Use pandas.concat instead.\n",
      "  df = df.append(datarow, ignore_index=True)\n",
      "C:\\Users\\lando\\AppData\\Local\\Temp\\ipykernel_34800\\2238899073.py:61: FutureWarning: The frame.append method is deprecated and will be removed from pandas in a future version. Use pandas.concat instead.\n",
      "  df = df.append(datarow, ignore_index=True)\n",
      "C:\\Users\\lando\\AppData\\Local\\Temp\\ipykernel_34800\\2238899073.py:61: FutureWarning: The frame.append method is deprecated and will be removed from pandas in a future version. Use pandas.concat instead.\n",
      "  df = df.append(datarow, ignore_index=True)\n",
      "C:\\Users\\lando\\AppData\\Local\\Temp\\ipykernel_34800\\2238899073.py:61: FutureWarning: The frame.append method is deprecated and will be removed from pandas in a future version. Use pandas.concat instead.\n",
      "  df = df.append(datarow, ignore_index=True)\n",
      "C:\\Users\\lando\\AppData\\Local\\Temp\\ipykernel_34800\\2238899073.py:61: FutureWarning: The frame.append method is deprecated and will be removed from pandas in a future version. Use pandas.concat instead.\n",
      "  df = df.append(datarow, ignore_index=True)\n",
      "C:\\Users\\lando\\AppData\\Local\\Temp\\ipykernel_34800\\2238899073.py:61: FutureWarning: The frame.append method is deprecated and will be removed from pandas in a future version. Use pandas.concat instead.\n",
      "  df = df.append(datarow, ignore_index=True)\n",
      "C:\\Users\\lando\\AppData\\Local\\Temp\\ipykernel_34800\\2238899073.py:61: FutureWarning: The frame.append method is deprecated and will be removed from pandas in a future version. Use pandas.concat instead.\n",
      "  df = df.append(datarow, ignore_index=True)\n",
      "C:\\Users\\lando\\AppData\\Local\\Temp\\ipykernel_34800\\2238899073.py:61: FutureWarning: The frame.append method is deprecated and will be removed from pandas in a future version. Use pandas.concat instead.\n",
      "  df = df.append(datarow, ignore_index=True)\n",
      "C:\\Users\\lando\\AppData\\Local\\Temp\\ipykernel_34800\\2238899073.py:61: FutureWarning: The frame.append method is deprecated and will be removed from pandas in a future version. Use pandas.concat instead.\n",
      "  df = df.append(datarow, ignore_index=True)\n",
      "C:\\Users\\lando\\AppData\\Local\\Temp\\ipykernel_34800\\2238899073.py:61: FutureWarning: The frame.append method is deprecated and will be removed from pandas in a future version. Use pandas.concat instead.\n",
      "  df = df.append(datarow, ignore_index=True)\n",
      "C:\\Users\\lando\\AppData\\Local\\Temp\\ipykernel_34800\\2238899073.py:61: FutureWarning: The frame.append method is deprecated and will be removed from pandas in a future version. Use pandas.concat instead.\n",
      "  df = df.append(datarow, ignore_index=True)\n",
      "C:\\Users\\lando\\AppData\\Local\\Temp\\ipykernel_34800\\2238899073.py:61: FutureWarning: The frame.append method is deprecated and will be removed from pandas in a future version. Use pandas.concat instead.\n",
      "  df = df.append(datarow, ignore_index=True)\n",
      "C:\\Users\\lando\\AppData\\Local\\Temp\\ipykernel_34800\\2238899073.py:61: FutureWarning: The frame.append method is deprecated and will be removed from pandas in a future version. Use pandas.concat instead.\n",
      "  df = df.append(datarow, ignore_index=True)\n",
      "C:\\Users\\lando\\AppData\\Local\\Temp\\ipykernel_34800\\2238899073.py:61: FutureWarning: The frame.append method is deprecated and will be removed from pandas in a future version. Use pandas.concat instead.\n",
      "  df = df.append(datarow, ignore_index=True)\n",
      "C:\\Users\\lando\\AppData\\Local\\Temp\\ipykernel_34800\\2238899073.py:61: FutureWarning: The frame.append method is deprecated and will be removed from pandas in a future version. Use pandas.concat instead.\n",
      "  df = df.append(datarow, ignore_index=True)\n",
      "C:\\Users\\lando\\AppData\\Local\\Temp\\ipykernel_34800\\2238899073.py:61: FutureWarning: The frame.append method is deprecated and will be removed from pandas in a future version. Use pandas.concat instead.\n",
      "  df = df.append(datarow, ignore_index=True)\n",
      "C:\\Users\\lando\\AppData\\Local\\Temp\\ipykernel_34800\\2238899073.py:61: FutureWarning: The frame.append method is deprecated and will be removed from pandas in a future version. Use pandas.concat instead.\n",
      "  df = df.append(datarow, ignore_index=True)\n",
      "C:\\Users\\lando\\AppData\\Local\\Temp\\ipykernel_34800\\2238899073.py:61: FutureWarning: The frame.append method is deprecated and will be removed from pandas in a future version. Use pandas.concat instead.\n",
      "  df = df.append(datarow, ignore_index=True)\n",
      "C:\\Users\\lando\\AppData\\Local\\Temp\\ipykernel_34800\\2238899073.py:61: FutureWarning: The frame.append method is deprecated and will be removed from pandas in a future version. Use pandas.concat instead.\n",
      "  df = df.append(datarow, ignore_index=True)\n",
      "C:\\Users\\lando\\AppData\\Local\\Temp\\ipykernel_34800\\2238899073.py:61: FutureWarning: The frame.append method is deprecated and will be removed from pandas in a future version. Use pandas.concat instead.\n",
      "  df = df.append(datarow, ignore_index=True)\n",
      "C:\\Users\\lando\\AppData\\Local\\Temp\\ipykernel_34800\\2238899073.py:61: FutureWarning: The frame.append method is deprecated and will be removed from pandas in a future version. Use pandas.concat instead.\n",
      "  df = df.append(datarow, ignore_index=True)\n",
      "C:\\Users\\lando\\AppData\\Local\\Temp\\ipykernel_34800\\2238899073.py:61: FutureWarning: The frame.append method is deprecated and will be removed from pandas in a future version. Use pandas.concat instead.\n",
      "  df = df.append(datarow, ignore_index=True)\n",
      "C:\\Users\\lando\\AppData\\Local\\Temp\\ipykernel_34800\\2238899073.py:61: FutureWarning: The frame.append method is deprecated and will be removed from pandas in a future version. Use pandas.concat instead.\n",
      "  df = df.append(datarow, ignore_index=True)\n",
      "C:\\Users\\lando\\AppData\\Local\\Temp\\ipykernel_34800\\2238899073.py:61: FutureWarning: The frame.append method is deprecated and will be removed from pandas in a future version. Use pandas.concat instead.\n",
      "  df = df.append(datarow, ignore_index=True)\n",
      "C:\\Users\\lando\\AppData\\Local\\Temp\\ipykernel_34800\\2238899073.py:61: FutureWarning: The frame.append method is deprecated and will be removed from pandas in a future version. Use pandas.concat instead.\n",
      "  df = df.append(datarow, ignore_index=True)\n",
      "C:\\Users\\lando\\AppData\\Local\\Temp\\ipykernel_34800\\2238899073.py:61: FutureWarning: The frame.append method is deprecated and will be removed from pandas in a future version. Use pandas.concat instead.\n",
      "  df = df.append(datarow, ignore_index=True)\n",
      "C:\\Users\\lando\\AppData\\Local\\Temp\\ipykernel_34800\\2238899073.py:61: FutureWarning: The frame.append method is deprecated and will be removed from pandas in a future version. Use pandas.concat instead.\n",
      "  df = df.append(datarow, ignore_index=True)\n",
      "C:\\Users\\lando\\AppData\\Local\\Temp\\ipykernel_34800\\2238899073.py:61: FutureWarning: The frame.append method is deprecated and will be removed from pandas in a future version. Use pandas.concat instead.\n",
      "  df = df.append(datarow, ignore_index=True)\n",
      "C:\\Users\\lando\\AppData\\Local\\Temp\\ipykernel_34800\\2238899073.py:61: FutureWarning: The frame.append method is deprecated and will be removed from pandas in a future version. Use pandas.concat instead.\n",
      "  df = df.append(datarow, ignore_index=True)\n",
      "C:\\Users\\lando\\AppData\\Local\\Temp\\ipykernel_34800\\2238899073.py:61: FutureWarning: The frame.append method is deprecated and will be removed from pandas in a future version. Use pandas.concat instead.\n",
      "  df = df.append(datarow, ignore_index=True)\n",
      "C:\\Users\\lando\\AppData\\Local\\Temp\\ipykernel_34800\\2238899073.py:61: FutureWarning: The frame.append method is deprecated and will be removed from pandas in a future version. Use pandas.concat instead.\n",
      "  df = df.append(datarow, ignore_index=True)\n",
      "C:\\Users\\lando\\AppData\\Local\\Temp\\ipykernel_34800\\2238899073.py:61: FutureWarning: The frame.append method is deprecated and will be removed from pandas in a future version. Use pandas.concat instead.\n",
      "  df = df.append(datarow, ignore_index=True)\n",
      "C:\\Users\\lando\\AppData\\Local\\Temp\\ipykernel_34800\\2238899073.py:61: FutureWarning: The frame.append method is deprecated and will be removed from pandas in a future version. Use pandas.concat instead.\n",
      "  df = df.append(datarow, ignore_index=True)\n",
      "C:\\Users\\lando\\AppData\\Local\\Temp\\ipykernel_34800\\2238899073.py:61: FutureWarning: The frame.append method is deprecated and will be removed from pandas in a future version. Use pandas.concat instead.\n",
      "  df = df.append(datarow, ignore_index=True)\n",
      "C:\\Users\\lando\\AppData\\Local\\Temp\\ipykernel_34800\\2238899073.py:61: FutureWarning: The frame.append method is deprecated and will be removed from pandas in a future version. Use pandas.concat instead.\n",
      "  df = df.append(datarow, ignore_index=True)\n",
      "C:\\Users\\lando\\AppData\\Local\\Temp\\ipykernel_34800\\2238899073.py:61: FutureWarning: The frame.append method is deprecated and will be removed from pandas in a future version. Use pandas.concat instead.\n",
      "  df = df.append(datarow, ignore_index=True)\n",
      "C:\\Users\\lando\\AppData\\Local\\Temp\\ipykernel_34800\\2238899073.py:61: FutureWarning: The frame.append method is deprecated and will be removed from pandas in a future version. Use pandas.concat instead.\n",
      "  df = df.append(datarow, ignore_index=True)\n",
      "C:\\Users\\lando\\AppData\\Local\\Temp\\ipykernel_34800\\2238899073.py:61: FutureWarning: The frame.append method is deprecated and will be removed from pandas in a future version. Use pandas.concat instead.\n",
      "  df = df.append(datarow, ignore_index=True)\n",
      "C:\\Users\\lando\\AppData\\Local\\Temp\\ipykernel_34800\\2238899073.py:61: FutureWarning: The frame.append method is deprecated and will be removed from pandas in a future version. Use pandas.concat instead.\n",
      "  df = df.append(datarow, ignore_index=True)\n",
      "C:\\Users\\lando\\AppData\\Local\\Temp\\ipykernel_34800\\2238899073.py:61: FutureWarning: The frame.append method is deprecated and will be removed from pandas in a future version. Use pandas.concat instead.\n",
      "  df = df.append(datarow, ignore_index=True)\n",
      "C:\\Users\\lando\\AppData\\Local\\Temp\\ipykernel_34800\\2238899073.py:61: FutureWarning: The frame.append method is deprecated and will be removed from pandas in a future version. Use pandas.concat instead.\n",
      "  df = df.append(datarow, ignore_index=True)\n",
      "C:\\Users\\lando\\AppData\\Local\\Temp\\ipykernel_34800\\2238899073.py:61: FutureWarning: The frame.append method is deprecated and will be removed from pandas in a future version. Use pandas.concat instead.\n",
      "  df = df.append(datarow, ignore_index=True)\n",
      "C:\\Users\\lando\\AppData\\Local\\Temp\\ipykernel_34800\\2238899073.py:61: FutureWarning: The frame.append method is deprecated and will be removed from pandas in a future version. Use pandas.concat instead.\n",
      "  df = df.append(datarow, ignore_index=True)\n",
      "C:\\Users\\lando\\AppData\\Local\\Temp\\ipykernel_34800\\2238899073.py:61: FutureWarning: The frame.append method is deprecated and will be removed from pandas in a future version. Use pandas.concat instead.\n",
      "  df = df.append(datarow, ignore_index=True)\n",
      "C:\\Users\\lando\\AppData\\Local\\Temp\\ipykernel_34800\\2238899073.py:61: FutureWarning: The frame.append method is deprecated and will be removed from pandas in a future version. Use pandas.concat instead.\n",
      "  df = df.append(datarow, ignore_index=True)\n",
      "C:\\Users\\lando\\AppData\\Local\\Temp\\ipykernel_34800\\2238899073.py:61: FutureWarning: The frame.append method is deprecated and will be removed from pandas in a future version. Use pandas.concat instead.\n",
      "  df = df.append(datarow, ignore_index=True)\n",
      "C:\\Users\\lando\\AppData\\Local\\Temp\\ipykernel_34800\\2238899073.py:61: FutureWarning: The frame.append method is deprecated and will be removed from pandas in a future version. Use pandas.concat instead.\n",
      "  df = df.append(datarow, ignore_index=True)\n",
      "C:\\Users\\lando\\AppData\\Local\\Temp\\ipykernel_34800\\2238899073.py:61: FutureWarning: The frame.append method is deprecated and will be removed from pandas in a future version. Use pandas.concat instead.\n",
      "  df = df.append(datarow, ignore_index=True)\n",
      "C:\\Users\\lando\\AppData\\Local\\Temp\\ipykernel_34800\\2238899073.py:61: FutureWarning: The frame.append method is deprecated and will be removed from pandas in a future version. Use pandas.concat instead.\n",
      "  df = df.append(datarow, ignore_index=True)\n",
      "C:\\Users\\lando\\AppData\\Local\\Temp\\ipykernel_34800\\2238899073.py:61: FutureWarning: The frame.append method is deprecated and will be removed from pandas in a future version. Use pandas.concat instead.\n",
      "  df = df.append(datarow, ignore_index=True)\n",
      "C:\\Users\\lando\\AppData\\Local\\Temp\\ipykernel_34800\\2238899073.py:61: FutureWarning: The frame.append method is deprecated and will be removed from pandas in a future version. Use pandas.concat instead.\n",
      "  df = df.append(datarow, ignore_index=True)\n",
      "C:\\Users\\lando\\AppData\\Local\\Temp\\ipykernel_34800\\2238899073.py:61: FutureWarning: The frame.append method is deprecated and will be removed from pandas in a future version. Use pandas.concat instead.\n",
      "  df = df.append(datarow, ignore_index=True)\n",
      "C:\\Users\\lando\\AppData\\Local\\Temp\\ipykernel_34800\\2238899073.py:61: FutureWarning: The frame.append method is deprecated and will be removed from pandas in a future version. Use pandas.concat instead.\n",
      "  df = df.append(datarow, ignore_index=True)\n",
      "C:\\Users\\lando\\AppData\\Local\\Temp\\ipykernel_34800\\2238899073.py:61: FutureWarning: The frame.append method is deprecated and will be removed from pandas in a future version. Use pandas.concat instead.\n",
      "  df = df.append(datarow, ignore_index=True)\n",
      "C:\\Users\\lando\\AppData\\Local\\Temp\\ipykernel_34800\\2238899073.py:61: FutureWarning: The frame.append method is deprecated and will be removed from pandas in a future version. Use pandas.concat instead.\n",
      "  df = df.append(datarow, ignore_index=True)\n",
      "C:\\Users\\lando\\AppData\\Local\\Temp\\ipykernel_34800\\2238899073.py:61: FutureWarning: The frame.append method is deprecated and will be removed from pandas in a future version. Use pandas.concat instead.\n",
      "  df = df.append(datarow, ignore_index=True)\n",
      "C:\\Users\\lando\\AppData\\Local\\Temp\\ipykernel_34800\\2238899073.py:61: FutureWarning: The frame.append method is deprecated and will be removed from pandas in a future version. Use pandas.concat instead.\n",
      "  df = df.append(datarow, ignore_index=True)\n",
      "C:\\Users\\lando\\AppData\\Local\\Temp\\ipykernel_34800\\2238899073.py:61: FutureWarning: The frame.append method is deprecated and will be removed from pandas in a future version. Use pandas.concat instead.\n",
      "  df = df.append(datarow, ignore_index=True)\n",
      "C:\\Users\\lando\\AppData\\Local\\Temp\\ipykernel_34800\\2238899073.py:61: FutureWarning: The frame.append method is deprecated and will be removed from pandas in a future version. Use pandas.concat instead.\n",
      "  df = df.append(datarow, ignore_index=True)\n",
      "C:\\Users\\lando\\AppData\\Local\\Temp\\ipykernel_34800\\2238899073.py:61: FutureWarning: The frame.append method is deprecated and will be removed from pandas in a future version. Use pandas.concat instead.\n",
      "  df = df.append(datarow, ignore_index=True)\n",
      "C:\\Users\\lando\\AppData\\Local\\Temp\\ipykernel_34800\\2238899073.py:61: FutureWarning: The frame.append method is deprecated and will be removed from pandas in a future version. Use pandas.concat instead.\n",
      "  df = df.append(datarow, ignore_index=True)\n",
      "C:\\Users\\lando\\AppData\\Local\\Temp\\ipykernel_34800\\2238899073.py:61: FutureWarning: The frame.append method is deprecated and will be removed from pandas in a future version. Use pandas.concat instead.\n",
      "  df = df.append(datarow, ignore_index=True)\n",
      "C:\\Users\\lando\\AppData\\Local\\Temp\\ipykernel_34800\\2238899073.py:61: FutureWarning: The frame.append method is deprecated and will be removed from pandas in a future version. Use pandas.concat instead.\n",
      "  df = df.append(datarow, ignore_index=True)\n",
      "C:\\Users\\lando\\AppData\\Local\\Temp\\ipykernel_34800\\2238899073.py:61: FutureWarning: The frame.append method is deprecated and will be removed from pandas in a future version. Use pandas.concat instead.\n",
      "  df = df.append(datarow, ignore_index=True)\n",
      "C:\\Users\\lando\\AppData\\Local\\Temp\\ipykernel_34800\\2238899073.py:61: FutureWarning: The frame.append method is deprecated and will be removed from pandas in a future version. Use pandas.concat instead.\n",
      "  df = df.append(datarow, ignore_index=True)\n",
      "C:\\Users\\lando\\AppData\\Local\\Temp\\ipykernel_34800\\2238899073.py:61: FutureWarning: The frame.append method is deprecated and will be removed from pandas in a future version. Use pandas.concat instead.\n",
      "  df = df.append(datarow, ignore_index=True)\n",
      "C:\\Users\\lando\\AppData\\Local\\Temp\\ipykernel_34800\\2238899073.py:61: FutureWarning: The frame.append method is deprecated and will be removed from pandas in a future version. Use pandas.concat instead.\n",
      "  df = df.append(datarow, ignore_index=True)\n",
      "C:\\Users\\lando\\AppData\\Local\\Temp\\ipykernel_34800\\2238899073.py:61: FutureWarning: The frame.append method is deprecated and will be removed from pandas in a future version. Use pandas.concat instead.\n",
      "  df = df.append(datarow, ignore_index=True)\n",
      "C:\\Users\\lando\\AppData\\Local\\Temp\\ipykernel_34800\\2238899073.py:61: FutureWarning: The frame.append method is deprecated and will be removed from pandas in a future version. Use pandas.concat instead.\n",
      "  df = df.append(datarow, ignore_index=True)\n",
      "C:\\Users\\lando\\AppData\\Local\\Temp\\ipykernel_34800\\2238899073.py:61: FutureWarning: The frame.append method is deprecated and will be removed from pandas in a future version. Use pandas.concat instead.\n",
      "  df = df.append(datarow, ignore_index=True)\n",
      "C:\\Users\\lando\\AppData\\Local\\Temp\\ipykernel_34800\\2238899073.py:61: FutureWarning: The frame.append method is deprecated and will be removed from pandas in a future version. Use pandas.concat instead.\n",
      "  df = df.append(datarow, ignore_index=True)\n",
      "C:\\Users\\lando\\AppData\\Local\\Temp\\ipykernel_34800\\2238899073.py:61: FutureWarning: The frame.append method is deprecated and will be removed from pandas in a future version. Use pandas.concat instead.\n",
      "  df = df.append(datarow, ignore_index=True)\n",
      "C:\\Users\\lando\\AppData\\Local\\Temp\\ipykernel_34800\\2238899073.py:61: FutureWarning: The frame.append method is deprecated and will be removed from pandas in a future version. Use pandas.concat instead.\n",
      "  df = df.append(datarow, ignore_index=True)\n",
      "C:\\Users\\lando\\AppData\\Local\\Temp\\ipykernel_34800\\2238899073.py:61: FutureWarning: The frame.append method is deprecated and will be removed from pandas in a future version. Use pandas.concat instead.\n",
      "  df = df.append(datarow, ignore_index=True)\n",
      "C:\\Users\\lando\\AppData\\Local\\Temp\\ipykernel_34800\\2238899073.py:61: FutureWarning: The frame.append method is deprecated and will be removed from pandas in a future version. Use pandas.concat instead.\n",
      "  df = df.append(datarow, ignore_index=True)\n",
      "C:\\Users\\lando\\AppData\\Local\\Temp\\ipykernel_34800\\2238899073.py:61: FutureWarning: The frame.append method is deprecated and will be removed from pandas in a future version. Use pandas.concat instead.\n",
      "  df = df.append(datarow, ignore_index=True)\n",
      "C:\\Users\\lando\\AppData\\Local\\Temp\\ipykernel_34800\\2238899073.py:61: FutureWarning: The frame.append method is deprecated and will be removed from pandas in a future version. Use pandas.concat instead.\n",
      "  df = df.append(datarow, ignore_index=True)\n",
      "C:\\Users\\lando\\AppData\\Local\\Temp\\ipykernel_34800\\2238899073.py:61: FutureWarning: The frame.append method is deprecated and will be removed from pandas in a future version. Use pandas.concat instead.\n",
      "  df = df.append(datarow, ignore_index=True)\n",
      "C:\\Users\\lando\\AppData\\Local\\Temp\\ipykernel_34800\\2238899073.py:61: FutureWarning: The frame.append method is deprecated and will be removed from pandas in a future version. Use pandas.concat instead.\n",
      "  df = df.append(datarow, ignore_index=True)\n",
      "C:\\Users\\lando\\AppData\\Local\\Temp\\ipykernel_34800\\2238899073.py:61: FutureWarning: The frame.append method is deprecated and will be removed from pandas in a future version. Use pandas.concat instead.\n",
      "  df = df.append(datarow, ignore_index=True)\n",
      "C:\\Users\\lando\\AppData\\Local\\Temp\\ipykernel_34800\\2238899073.py:61: FutureWarning: The frame.append method is deprecated and will be removed from pandas in a future version. Use pandas.concat instead.\n",
      "  df = df.append(datarow, ignore_index=True)\n",
      "C:\\Users\\lando\\AppData\\Local\\Temp\\ipykernel_34800\\2238899073.py:61: FutureWarning: The frame.append method is deprecated and will be removed from pandas in a future version. Use pandas.concat instead.\n",
      "  df = df.append(datarow, ignore_index=True)\n",
      "C:\\Users\\lando\\AppData\\Local\\Temp\\ipykernel_34800\\2238899073.py:61: FutureWarning: The frame.append method is deprecated and will be removed from pandas in a future version. Use pandas.concat instead.\n",
      "  df = df.append(datarow, ignore_index=True)\n",
      "C:\\Users\\lando\\AppData\\Local\\Temp\\ipykernel_34800\\2238899073.py:61: FutureWarning: The frame.append method is deprecated and will be removed from pandas in a future version. Use pandas.concat instead.\n",
      "  df = df.append(datarow, ignore_index=True)\n",
      "C:\\Users\\lando\\AppData\\Local\\Temp\\ipykernel_34800\\2238899073.py:61: FutureWarning: The frame.append method is deprecated and will be removed from pandas in a future version. Use pandas.concat instead.\n",
      "  df = df.append(datarow, ignore_index=True)\n",
      "C:\\Users\\lando\\AppData\\Local\\Temp\\ipykernel_34800\\2238899073.py:61: FutureWarning: The frame.append method is deprecated and will be removed from pandas in a future version. Use pandas.concat instead.\n",
      "  df = df.append(datarow, ignore_index=True)\n",
      "C:\\Users\\lando\\AppData\\Local\\Temp\\ipykernel_34800\\2238899073.py:61: FutureWarning: The frame.append method is deprecated and will be removed from pandas in a future version. Use pandas.concat instead.\n",
      "  df = df.append(datarow, ignore_index=True)\n",
      "C:\\Users\\lando\\AppData\\Local\\Temp\\ipykernel_34800\\2238899073.py:61: FutureWarning: The frame.append method is deprecated and will be removed from pandas in a future version. Use pandas.concat instead.\n",
      "  df = df.append(datarow, ignore_index=True)\n",
      "C:\\Users\\lando\\AppData\\Local\\Temp\\ipykernel_34800\\2238899073.py:61: FutureWarning: The frame.append method is deprecated and will be removed from pandas in a future version. Use pandas.concat instead.\n",
      "  df = df.append(datarow, ignore_index=True)\n",
      "C:\\Users\\lando\\AppData\\Local\\Temp\\ipykernel_34800\\2238899073.py:61: FutureWarning: The frame.append method is deprecated and will be removed from pandas in a future version. Use pandas.concat instead.\n",
      "  df = df.append(datarow, ignore_index=True)\n",
      "C:\\Users\\lando\\AppData\\Local\\Temp\\ipykernel_34800\\2238899073.py:61: FutureWarning: The frame.append method is deprecated and will be removed from pandas in a future version. Use pandas.concat instead.\n",
      "  df = df.append(datarow, ignore_index=True)\n",
      "C:\\Users\\lando\\AppData\\Local\\Temp\\ipykernel_34800\\2238899073.py:61: FutureWarning: The frame.append method is deprecated and will be removed from pandas in a future version. Use pandas.concat instead.\n",
      "  df = df.append(datarow, ignore_index=True)\n",
      "C:\\Users\\lando\\AppData\\Local\\Temp\\ipykernel_34800\\2238899073.py:61: FutureWarning: The frame.append method is deprecated and will be removed from pandas in a future version. Use pandas.concat instead.\n",
      "  df = df.append(datarow, ignore_index=True)\n",
      "C:\\Users\\lando\\AppData\\Local\\Temp\\ipykernel_34800\\2238899073.py:61: FutureWarning: The frame.append method is deprecated and will be removed from pandas in a future version. Use pandas.concat instead.\n",
      "  df = df.append(datarow, ignore_index=True)\n",
      "C:\\Users\\lando\\AppData\\Local\\Temp\\ipykernel_34800\\2238899073.py:61: FutureWarning: The frame.append method is deprecated and will be removed from pandas in a future version. Use pandas.concat instead.\n",
      "  df = df.append(datarow, ignore_index=True)\n",
      "C:\\Users\\lando\\AppData\\Local\\Temp\\ipykernel_34800\\2238899073.py:61: FutureWarning: The frame.append method is deprecated and will be removed from pandas in a future version. Use pandas.concat instead.\n",
      "  df = df.append(datarow, ignore_index=True)\n",
      "C:\\Users\\lando\\AppData\\Local\\Temp\\ipykernel_34800\\2238899073.py:61: FutureWarning: The frame.append method is deprecated and will be removed from pandas in a future version. Use pandas.concat instead.\n",
      "  df = df.append(datarow, ignore_index=True)\n",
      "C:\\Users\\lando\\AppData\\Local\\Temp\\ipykernel_34800\\2238899073.py:61: FutureWarning: The frame.append method is deprecated and will be removed from pandas in a future version. Use pandas.concat instead.\n",
      "  df = df.append(datarow, ignore_index=True)\n",
      "C:\\Users\\lando\\AppData\\Local\\Temp\\ipykernel_34800\\2238899073.py:61: FutureWarning: The frame.append method is deprecated and will be removed from pandas in a future version. Use pandas.concat instead.\n",
      "  df = df.append(datarow, ignore_index=True)\n",
      "C:\\Users\\lando\\AppData\\Local\\Temp\\ipykernel_34800\\2238899073.py:61: FutureWarning: The frame.append method is deprecated and will be removed from pandas in a future version. Use pandas.concat instead.\n",
      "  df = df.append(datarow, ignore_index=True)\n",
      "C:\\Users\\lando\\AppData\\Local\\Temp\\ipykernel_34800\\2238899073.py:61: FutureWarning: The frame.append method is deprecated and will be removed from pandas in a future version. Use pandas.concat instead.\n",
      "  df = df.append(datarow, ignore_index=True)\n",
      "C:\\Users\\lando\\AppData\\Local\\Temp\\ipykernel_34800\\2238899073.py:61: FutureWarning: The frame.append method is deprecated and will be removed from pandas in a future version. Use pandas.concat instead.\n",
      "  df = df.append(datarow, ignore_index=True)\n",
      "C:\\Users\\lando\\AppData\\Local\\Temp\\ipykernel_34800\\2238899073.py:61: FutureWarning: The frame.append method is deprecated and will be removed from pandas in a future version. Use pandas.concat instead.\n",
      "  df = df.append(datarow, ignore_index=True)\n",
      "C:\\Users\\lando\\AppData\\Local\\Temp\\ipykernel_34800\\2238899073.py:61: FutureWarning: The frame.append method is deprecated and will be removed from pandas in a future version. Use pandas.concat instead.\n",
      "  df = df.append(datarow, ignore_index=True)\n",
      "C:\\Users\\lando\\AppData\\Local\\Temp\\ipykernel_34800\\2238899073.py:61: FutureWarning: The frame.append method is deprecated and will be removed from pandas in a future version. Use pandas.concat instead.\n",
      "  df = df.append(datarow, ignore_index=True)\n",
      "C:\\Users\\lando\\AppData\\Local\\Temp\\ipykernel_34800\\2238899073.py:61: FutureWarning: The frame.append method is deprecated and will be removed from pandas in a future version. Use pandas.concat instead.\n",
      "  df = df.append(datarow, ignore_index=True)\n",
      "C:\\Users\\lando\\AppData\\Local\\Temp\\ipykernel_34800\\2238899073.py:61: FutureWarning: The frame.append method is deprecated and will be removed from pandas in a future version. Use pandas.concat instead.\n",
      "  df = df.append(datarow, ignore_index=True)\n",
      "C:\\Users\\lando\\AppData\\Local\\Temp\\ipykernel_34800\\2238899073.py:61: FutureWarning: The frame.append method is deprecated and will be removed from pandas in a future version. Use pandas.concat instead.\n",
      "  df = df.append(datarow, ignore_index=True)\n",
      "C:\\Users\\lando\\AppData\\Local\\Temp\\ipykernel_34800\\2238899073.py:61: FutureWarning: The frame.append method is deprecated and will be removed from pandas in a future version. Use pandas.concat instead.\n",
      "  df = df.append(datarow, ignore_index=True)\n",
      "C:\\Users\\lando\\AppData\\Local\\Temp\\ipykernel_34800\\2238899073.py:61: FutureWarning: The frame.append method is deprecated and will be removed from pandas in a future version. Use pandas.concat instead.\n",
      "  df = df.append(datarow, ignore_index=True)\n",
      "C:\\Users\\lando\\AppData\\Local\\Temp\\ipykernel_34800\\2238899073.py:61: FutureWarning: The frame.append method is deprecated and will be removed from pandas in a future version. Use pandas.concat instead.\n",
      "  df = df.append(datarow, ignore_index=True)\n",
      "C:\\Users\\lando\\AppData\\Local\\Temp\\ipykernel_34800\\2238899073.py:61: FutureWarning: The frame.append method is deprecated and will be removed from pandas in a future version. Use pandas.concat instead.\n",
      "  df = df.append(datarow, ignore_index=True)\n",
      "C:\\Users\\lando\\AppData\\Local\\Temp\\ipykernel_34800\\2238899073.py:61: FutureWarning: The frame.append method is deprecated and will be removed from pandas in a future version. Use pandas.concat instead.\n",
      "  df = df.append(datarow, ignore_index=True)\n",
      "C:\\Users\\lando\\AppData\\Local\\Temp\\ipykernel_34800\\2238899073.py:61: FutureWarning: The frame.append method is deprecated and will be removed from pandas in a future version. Use pandas.concat instead.\n",
      "  df = df.append(datarow, ignore_index=True)\n",
      "C:\\Users\\lando\\AppData\\Local\\Temp\\ipykernel_34800\\2238899073.py:61: FutureWarning: The frame.append method is deprecated and will be removed from pandas in a future version. Use pandas.concat instead.\n",
      "  df = df.append(datarow, ignore_index=True)\n",
      "C:\\Users\\lando\\AppData\\Local\\Temp\\ipykernel_34800\\2238899073.py:61: FutureWarning: The frame.append method is deprecated and will be removed from pandas in a future version. Use pandas.concat instead.\n",
      "  df = df.append(datarow, ignore_index=True)\n",
      "C:\\Users\\lando\\AppData\\Local\\Temp\\ipykernel_34800\\2238899073.py:61: FutureWarning: The frame.append method is deprecated and will be removed from pandas in a future version. Use pandas.concat instead.\n",
      "  df = df.append(datarow, ignore_index=True)\n",
      "C:\\Users\\lando\\AppData\\Local\\Temp\\ipykernel_34800\\2238899073.py:61: FutureWarning: The frame.append method is deprecated and will be removed from pandas in a future version. Use pandas.concat instead.\n",
      "  df = df.append(datarow, ignore_index=True)\n",
      "C:\\Users\\lando\\AppData\\Local\\Temp\\ipykernel_34800\\2238899073.py:61: FutureWarning: The frame.append method is deprecated and will be removed from pandas in a future version. Use pandas.concat instead.\n",
      "  df = df.append(datarow, ignore_index=True)\n",
      "C:\\Users\\lando\\AppData\\Local\\Temp\\ipykernel_34800\\2238899073.py:61: FutureWarning: The frame.append method is deprecated and will be removed from pandas in a future version. Use pandas.concat instead.\n",
      "  df = df.append(datarow, ignore_index=True)\n",
      "C:\\Users\\lando\\AppData\\Local\\Temp\\ipykernel_34800\\2238899073.py:61: FutureWarning: The frame.append method is deprecated and will be removed from pandas in a future version. Use pandas.concat instead.\n",
      "  df = df.append(datarow, ignore_index=True)\n",
      "C:\\Users\\lando\\AppData\\Local\\Temp\\ipykernel_34800\\2238899073.py:61: FutureWarning: The frame.append method is deprecated and will be removed from pandas in a future version. Use pandas.concat instead.\n",
      "  df = df.append(datarow, ignore_index=True)\n",
      "C:\\Users\\lando\\AppData\\Local\\Temp\\ipykernel_34800\\2238899073.py:61: FutureWarning: The frame.append method is deprecated and will be removed from pandas in a future version. Use pandas.concat instead.\n",
      "  df = df.append(datarow, ignore_index=True)\n",
      "C:\\Users\\lando\\AppData\\Local\\Temp\\ipykernel_34800\\2238899073.py:61: FutureWarning: The frame.append method is deprecated and will be removed from pandas in a future version. Use pandas.concat instead.\n",
      "  df = df.append(datarow, ignore_index=True)\n",
      "C:\\Users\\lando\\AppData\\Local\\Temp\\ipykernel_34800\\2238899073.py:61: FutureWarning: The frame.append method is deprecated and will be removed from pandas in a future version. Use pandas.concat instead.\n",
      "  df = df.append(datarow, ignore_index=True)\n",
      "C:\\Users\\lando\\AppData\\Local\\Temp\\ipykernel_34800\\2238899073.py:61: FutureWarning: The frame.append method is deprecated and will be removed from pandas in a future version. Use pandas.concat instead.\n",
      "  df = df.append(datarow, ignore_index=True)\n",
      "C:\\Users\\lando\\AppData\\Local\\Temp\\ipykernel_34800\\2238899073.py:61: FutureWarning: The frame.append method is deprecated and will be removed from pandas in a future version. Use pandas.concat instead.\n",
      "  df = df.append(datarow, ignore_index=True)\n",
      "C:\\Users\\lando\\AppData\\Local\\Temp\\ipykernel_34800\\2238899073.py:61: FutureWarning: The frame.append method is deprecated and will be removed from pandas in a future version. Use pandas.concat instead.\n",
      "  df = df.append(datarow, ignore_index=True)\n",
      "C:\\Users\\lando\\AppData\\Local\\Temp\\ipykernel_34800\\2238899073.py:61: FutureWarning: The frame.append method is deprecated and will be removed from pandas in a future version. Use pandas.concat instead.\n",
      "  df = df.append(datarow, ignore_index=True)\n",
      "C:\\Users\\lando\\AppData\\Local\\Temp\\ipykernel_34800\\2238899073.py:61: FutureWarning: The frame.append method is deprecated and will be removed from pandas in a future version. Use pandas.concat instead.\n",
      "  df = df.append(datarow, ignore_index=True)\n",
      "C:\\Users\\lando\\AppData\\Local\\Temp\\ipykernel_34800\\2238899073.py:61: FutureWarning: The frame.append method is deprecated and will be removed from pandas in a future version. Use pandas.concat instead.\n",
      "  df = df.append(datarow, ignore_index=True)\n",
      "C:\\Users\\lando\\AppData\\Local\\Temp\\ipykernel_34800\\2238899073.py:61: FutureWarning: The frame.append method is deprecated and will be removed from pandas in a future version. Use pandas.concat instead.\n",
      "  df = df.append(datarow, ignore_index=True)\n",
      "C:\\Users\\lando\\AppData\\Local\\Temp\\ipykernel_34800\\2238899073.py:61: FutureWarning: The frame.append method is deprecated and will be removed from pandas in a future version. Use pandas.concat instead.\n",
      "  df = df.append(datarow, ignore_index=True)\n",
      "C:\\Users\\lando\\AppData\\Local\\Temp\\ipykernel_34800\\2238899073.py:61: FutureWarning: The frame.append method is deprecated and will be removed from pandas in a future version. Use pandas.concat instead.\n",
      "  df = df.append(datarow, ignore_index=True)\n",
      "C:\\Users\\lando\\AppData\\Local\\Temp\\ipykernel_34800\\2238899073.py:61: FutureWarning: The frame.append method is deprecated and will be removed from pandas in a future version. Use pandas.concat instead.\n",
      "  df = df.append(datarow, ignore_index=True)\n",
      "C:\\Users\\lando\\AppData\\Local\\Temp\\ipykernel_34800\\2238899073.py:61: FutureWarning: The frame.append method is deprecated and will be removed from pandas in a future version. Use pandas.concat instead.\n",
      "  df = df.append(datarow, ignore_index=True)\n",
      "C:\\Users\\lando\\AppData\\Local\\Temp\\ipykernel_34800\\2238899073.py:61: FutureWarning: The frame.append method is deprecated and will be removed from pandas in a future version. Use pandas.concat instead.\n",
      "  df = df.append(datarow, ignore_index=True)\n",
      "C:\\Users\\lando\\AppData\\Local\\Temp\\ipykernel_34800\\2238899073.py:61: FutureWarning: The frame.append method is deprecated and will be removed from pandas in a future version. Use pandas.concat instead.\n",
      "  df = df.append(datarow, ignore_index=True)\n",
      "C:\\Users\\lando\\AppData\\Local\\Temp\\ipykernel_34800\\2238899073.py:61: FutureWarning: The frame.append method is deprecated and will be removed from pandas in a future version. Use pandas.concat instead.\n",
      "  df = df.append(datarow, ignore_index=True)\n",
      "C:\\Users\\lando\\AppData\\Local\\Temp\\ipykernel_34800\\2238899073.py:61: FutureWarning: The frame.append method is deprecated and will be removed from pandas in a future version. Use pandas.concat instead.\n",
      "  df = df.append(datarow, ignore_index=True)\n",
      "C:\\Users\\lando\\AppData\\Local\\Temp\\ipykernel_34800\\2238899073.py:61: FutureWarning: The frame.append method is deprecated and will be removed from pandas in a future version. Use pandas.concat instead.\n",
      "  df = df.append(datarow, ignore_index=True)\n",
      "C:\\Users\\lando\\AppData\\Local\\Temp\\ipykernel_34800\\2238899073.py:61: FutureWarning: The frame.append method is deprecated and will be removed from pandas in a future version. Use pandas.concat instead.\n",
      "  df = df.append(datarow, ignore_index=True)\n",
      "C:\\Users\\lando\\AppData\\Local\\Temp\\ipykernel_34800\\2238899073.py:61: FutureWarning: The frame.append method is deprecated and will be removed from pandas in a future version. Use pandas.concat instead.\n",
      "  df = df.append(datarow, ignore_index=True)\n",
      "C:\\Users\\lando\\AppData\\Local\\Temp\\ipykernel_34800\\2238899073.py:61: FutureWarning: The frame.append method is deprecated and will be removed from pandas in a future version. Use pandas.concat instead.\n",
      "  df = df.append(datarow, ignore_index=True)\n",
      "C:\\Users\\lando\\AppData\\Local\\Temp\\ipykernel_34800\\2238899073.py:61: FutureWarning: The frame.append method is deprecated and will be removed from pandas in a future version. Use pandas.concat instead.\n",
      "  df = df.append(datarow, ignore_index=True)\n",
      "C:\\Users\\lando\\AppData\\Local\\Temp\\ipykernel_34800\\2238899073.py:61: FutureWarning: The frame.append method is deprecated and will be removed from pandas in a future version. Use pandas.concat instead.\n",
      "  df = df.append(datarow, ignore_index=True)\n",
      "C:\\Users\\lando\\AppData\\Local\\Temp\\ipykernel_34800\\2238899073.py:61: FutureWarning: The frame.append method is deprecated and will be removed from pandas in a future version. Use pandas.concat instead.\n",
      "  df = df.append(datarow, ignore_index=True)\n",
      "C:\\Users\\lando\\AppData\\Local\\Temp\\ipykernel_34800\\2238899073.py:61: FutureWarning: The frame.append method is deprecated and will be removed from pandas in a future version. Use pandas.concat instead.\n",
      "  df = df.append(datarow, ignore_index=True)\n",
      "C:\\Users\\lando\\AppData\\Local\\Temp\\ipykernel_34800\\2238899073.py:61: FutureWarning: The frame.append method is deprecated and will be removed from pandas in a future version. Use pandas.concat instead.\n",
      "  df = df.append(datarow, ignore_index=True)\n",
      "C:\\Users\\lando\\AppData\\Local\\Temp\\ipykernel_34800\\2238899073.py:61: FutureWarning: The frame.append method is deprecated and will be removed from pandas in a future version. Use pandas.concat instead.\n",
      "  df = df.append(datarow, ignore_index=True)\n",
      "C:\\Users\\lando\\AppData\\Local\\Temp\\ipykernel_34800\\2238899073.py:61: FutureWarning: The frame.append method is deprecated and will be removed from pandas in a future version. Use pandas.concat instead.\n",
      "  df = df.append(datarow, ignore_index=True)\n",
      "C:\\Users\\lando\\AppData\\Local\\Temp\\ipykernel_34800\\2238899073.py:61: FutureWarning: The frame.append method is deprecated and will be removed from pandas in a future version. Use pandas.concat instead.\n",
      "  df = df.append(datarow, ignore_index=True)\n",
      "C:\\Users\\lando\\AppData\\Local\\Temp\\ipykernel_34800\\2238899073.py:61: FutureWarning: The frame.append method is deprecated and will be removed from pandas in a future version. Use pandas.concat instead.\n",
      "  df = df.append(datarow, ignore_index=True)\n",
      "C:\\Users\\lando\\AppData\\Local\\Temp\\ipykernel_34800\\2238899073.py:61: FutureWarning: The frame.append method is deprecated and will be removed from pandas in a future version. Use pandas.concat instead.\n",
      "  df = df.append(datarow, ignore_index=True)\n",
      "C:\\Users\\lando\\AppData\\Local\\Temp\\ipykernel_34800\\2238899073.py:61: FutureWarning: The frame.append method is deprecated and will be removed from pandas in a future version. Use pandas.concat instead.\n",
      "  df = df.append(datarow, ignore_index=True)\n",
      "C:\\Users\\lando\\AppData\\Local\\Temp\\ipykernel_34800\\2238899073.py:61: FutureWarning: The frame.append method is deprecated and will be removed from pandas in a future version. Use pandas.concat instead.\n",
      "  df = df.append(datarow, ignore_index=True)\n",
      "C:\\Users\\lando\\AppData\\Local\\Temp\\ipykernel_34800\\2238899073.py:61: FutureWarning: The frame.append method is deprecated and will be removed from pandas in a future version. Use pandas.concat instead.\n",
      "  df = df.append(datarow, ignore_index=True)\n",
      "C:\\Users\\lando\\AppData\\Local\\Temp\\ipykernel_34800\\2238899073.py:61: FutureWarning: The frame.append method is deprecated and will be removed from pandas in a future version. Use pandas.concat instead.\n",
      "  df = df.append(datarow, ignore_index=True)\n",
      "C:\\Users\\lando\\AppData\\Local\\Temp\\ipykernel_34800\\2238899073.py:61: FutureWarning: The frame.append method is deprecated and will be removed from pandas in a future version. Use pandas.concat instead.\n",
      "  df = df.append(datarow, ignore_index=True)\n",
      "C:\\Users\\lando\\AppData\\Local\\Temp\\ipykernel_34800\\2238899073.py:61: FutureWarning: The frame.append method is deprecated and will be removed from pandas in a future version. Use pandas.concat instead.\n",
      "  df = df.append(datarow, ignore_index=True)\n",
      "C:\\Users\\lando\\AppData\\Local\\Temp\\ipykernel_34800\\2238899073.py:61: FutureWarning: The frame.append method is deprecated and will be removed from pandas in a future version. Use pandas.concat instead.\n",
      "  df = df.append(datarow, ignore_index=True)\n",
      "C:\\Users\\lando\\AppData\\Local\\Temp\\ipykernel_34800\\2238899073.py:61: FutureWarning: The frame.append method is deprecated and will be removed from pandas in a future version. Use pandas.concat instead.\n",
      "  df = df.append(datarow, ignore_index=True)\n",
      "C:\\Users\\lando\\AppData\\Local\\Temp\\ipykernel_34800\\2238899073.py:61: FutureWarning: The frame.append method is deprecated and will be removed from pandas in a future version. Use pandas.concat instead.\n",
      "  df = df.append(datarow, ignore_index=True)\n",
      "C:\\Users\\lando\\AppData\\Local\\Temp\\ipykernel_34800\\2238899073.py:61: FutureWarning: The frame.append method is deprecated and will be removed from pandas in a future version. Use pandas.concat instead.\n",
      "  df = df.append(datarow, ignore_index=True)\n",
      "C:\\Users\\lando\\AppData\\Local\\Temp\\ipykernel_34800\\2238899073.py:61: FutureWarning: The frame.append method is deprecated and will be removed from pandas in a future version. Use pandas.concat instead.\n",
      "  df = df.append(datarow, ignore_index=True)\n",
      "C:\\Users\\lando\\AppData\\Local\\Temp\\ipykernel_34800\\2238899073.py:61: FutureWarning: The frame.append method is deprecated and will be removed from pandas in a future version. Use pandas.concat instead.\n",
      "  df = df.append(datarow, ignore_index=True)\n",
      "C:\\Users\\lando\\AppData\\Local\\Temp\\ipykernel_34800\\2238899073.py:61: FutureWarning: The frame.append method is deprecated and will be removed from pandas in a future version. Use pandas.concat instead.\n",
      "  df = df.append(datarow, ignore_index=True)\n",
      "C:\\Users\\lando\\AppData\\Local\\Temp\\ipykernel_34800\\2238899073.py:61: FutureWarning: The frame.append method is deprecated and will be removed from pandas in a future version. Use pandas.concat instead.\n",
      "  df = df.append(datarow, ignore_index=True)\n",
      "C:\\Users\\lando\\AppData\\Local\\Temp\\ipykernel_34800\\2238899073.py:61: FutureWarning: The frame.append method is deprecated and will be removed from pandas in a future version. Use pandas.concat instead.\n",
      "  df = df.append(datarow, ignore_index=True)\n",
      "C:\\Users\\lando\\AppData\\Local\\Temp\\ipykernel_34800\\2238899073.py:61: FutureWarning: The frame.append method is deprecated and will be removed from pandas in a future version. Use pandas.concat instead.\n",
      "  df = df.append(datarow, ignore_index=True)\n",
      "C:\\Users\\lando\\AppData\\Local\\Temp\\ipykernel_34800\\2238899073.py:61: FutureWarning: The frame.append method is deprecated and will be removed from pandas in a future version. Use pandas.concat instead.\n",
      "  df = df.append(datarow, ignore_index=True)\n",
      "C:\\Users\\lando\\AppData\\Local\\Temp\\ipykernel_34800\\2238899073.py:61: FutureWarning: The frame.append method is deprecated and will be removed from pandas in a future version. Use pandas.concat instead.\n",
      "  df = df.append(datarow, ignore_index=True)\n",
      "C:\\Users\\lando\\AppData\\Local\\Temp\\ipykernel_34800\\2238899073.py:61: FutureWarning: The frame.append method is deprecated and will be removed from pandas in a future version. Use pandas.concat instead.\n",
      "  df = df.append(datarow, ignore_index=True)\n",
      "C:\\Users\\lando\\AppData\\Local\\Temp\\ipykernel_34800\\2238899073.py:61: FutureWarning: The frame.append method is deprecated and will be removed from pandas in a future version. Use pandas.concat instead.\n",
      "  df = df.append(datarow, ignore_index=True)\n",
      "C:\\Users\\lando\\AppData\\Local\\Temp\\ipykernel_34800\\2238899073.py:61: FutureWarning: The frame.append method is deprecated and will be removed from pandas in a future version. Use pandas.concat instead.\n",
      "  df = df.append(datarow, ignore_index=True)\n",
      "C:\\Users\\lando\\AppData\\Local\\Temp\\ipykernel_34800\\2238899073.py:61: FutureWarning: The frame.append method is deprecated and will be removed from pandas in a future version. Use pandas.concat instead.\n",
      "  df = df.append(datarow, ignore_index=True)\n",
      "C:\\Users\\lando\\AppData\\Local\\Temp\\ipykernel_34800\\2238899073.py:61: FutureWarning: The frame.append method is deprecated and will be removed from pandas in a future version. Use pandas.concat instead.\n",
      "  df = df.append(datarow, ignore_index=True)\n",
      "C:\\Users\\lando\\AppData\\Local\\Temp\\ipykernel_34800\\2238899073.py:61: FutureWarning: The frame.append method is deprecated and will be removed from pandas in a future version. Use pandas.concat instead.\n",
      "  df = df.append(datarow, ignore_index=True)\n",
      "C:\\Users\\lando\\AppData\\Local\\Temp\\ipykernel_34800\\2238899073.py:61: FutureWarning: The frame.append method is deprecated and will be removed from pandas in a future version. Use pandas.concat instead.\n",
      "  df = df.append(datarow, ignore_index=True)\n",
      "C:\\Users\\lando\\AppData\\Local\\Temp\\ipykernel_34800\\2238899073.py:61: FutureWarning: The frame.append method is deprecated and will be removed from pandas in a future version. Use pandas.concat instead.\n",
      "  df = df.append(datarow, ignore_index=True)\n",
      "C:\\Users\\lando\\AppData\\Local\\Temp\\ipykernel_34800\\2238899073.py:61: FutureWarning: The frame.append method is deprecated and will be removed from pandas in a future version. Use pandas.concat instead.\n",
      "  df = df.append(datarow, ignore_index=True)\n",
      "C:\\Users\\lando\\AppData\\Local\\Temp\\ipykernel_34800\\2238899073.py:61: FutureWarning: The frame.append method is deprecated and will be removed from pandas in a future version. Use pandas.concat instead.\n",
      "  df = df.append(datarow, ignore_index=True)\n",
      "C:\\Users\\lando\\AppData\\Local\\Temp\\ipykernel_34800\\2238899073.py:61: FutureWarning: The frame.append method is deprecated and will be removed from pandas in a future version. Use pandas.concat instead.\n",
      "  df = df.append(datarow, ignore_index=True)\n",
      "C:\\Users\\lando\\AppData\\Local\\Temp\\ipykernel_34800\\2238899073.py:61: FutureWarning: The frame.append method is deprecated and will be removed from pandas in a future version. Use pandas.concat instead.\n",
      "  df = df.append(datarow, ignore_index=True)\n",
      "C:\\Users\\lando\\AppData\\Local\\Temp\\ipykernel_34800\\2238899073.py:61: FutureWarning: The frame.append method is deprecated and will be removed from pandas in a future version. Use pandas.concat instead.\n",
      "  df = df.append(datarow, ignore_index=True)\n",
      "C:\\Users\\lando\\AppData\\Local\\Temp\\ipykernel_34800\\2238899073.py:61: FutureWarning: The frame.append method is deprecated and will be removed from pandas in a future version. Use pandas.concat instead.\n",
      "  df = df.append(datarow, ignore_index=True)\n",
      "C:\\Users\\lando\\AppData\\Local\\Temp\\ipykernel_34800\\2238899073.py:61: FutureWarning: The frame.append method is deprecated and will be removed from pandas in a future version. Use pandas.concat instead.\n",
      "  df = df.append(datarow, ignore_index=True)\n",
      "C:\\Users\\lando\\AppData\\Local\\Temp\\ipykernel_34800\\2238899073.py:61: FutureWarning: The frame.append method is deprecated and will be removed from pandas in a future version. Use pandas.concat instead.\n",
      "  df = df.append(datarow, ignore_index=True)\n",
      "C:\\Users\\lando\\AppData\\Local\\Temp\\ipykernel_34800\\2238899073.py:61: FutureWarning: The frame.append method is deprecated and will be removed from pandas in a future version. Use pandas.concat instead.\n",
      "  df = df.append(datarow, ignore_index=True)\n",
      "C:\\Users\\lando\\AppData\\Local\\Temp\\ipykernel_34800\\2238899073.py:61: FutureWarning: The frame.append method is deprecated and will be removed from pandas in a future version. Use pandas.concat instead.\n",
      "  df = df.append(datarow, ignore_index=True)\n",
      "C:\\Users\\lando\\AppData\\Local\\Temp\\ipykernel_34800\\2238899073.py:61: FutureWarning: The frame.append method is deprecated and will be removed from pandas in a future version. Use pandas.concat instead.\n",
      "  df = df.append(datarow, ignore_index=True)\n",
      "C:\\Users\\lando\\AppData\\Local\\Temp\\ipykernel_34800\\2238899073.py:61: FutureWarning: The frame.append method is deprecated and will be removed from pandas in a future version. Use pandas.concat instead.\n",
      "  df = df.append(datarow, ignore_index=True)\n",
      "C:\\Users\\lando\\AppData\\Local\\Temp\\ipykernel_34800\\2238899073.py:61: FutureWarning: The frame.append method is deprecated and will be removed from pandas in a future version. Use pandas.concat instead.\n",
      "  df = df.append(datarow, ignore_index=True)\n",
      "C:\\Users\\lando\\AppData\\Local\\Temp\\ipykernel_34800\\2238899073.py:61: FutureWarning: The frame.append method is deprecated and will be removed from pandas in a future version. Use pandas.concat instead.\n",
      "  df = df.append(datarow, ignore_index=True)\n",
      "C:\\Users\\lando\\AppData\\Local\\Temp\\ipykernel_34800\\2238899073.py:61: FutureWarning: The frame.append method is deprecated and will be removed from pandas in a future version. Use pandas.concat instead.\n",
      "  df = df.append(datarow, ignore_index=True)\n",
      "C:\\Users\\lando\\AppData\\Local\\Temp\\ipykernel_34800\\2238899073.py:61: FutureWarning: The frame.append method is deprecated and will be removed from pandas in a future version. Use pandas.concat instead.\n",
      "  df = df.append(datarow, ignore_index=True)\n",
      "C:\\Users\\lando\\AppData\\Local\\Temp\\ipykernel_34800\\2238899073.py:61: FutureWarning: The frame.append method is deprecated and will be removed from pandas in a future version. Use pandas.concat instead.\n",
      "  df = df.append(datarow, ignore_index=True)\n",
      "C:\\Users\\lando\\AppData\\Local\\Temp\\ipykernel_34800\\2238899073.py:61: FutureWarning: The frame.append method is deprecated and will be removed from pandas in a future version. Use pandas.concat instead.\n",
      "  df = df.append(datarow, ignore_index=True)\n",
      "C:\\Users\\lando\\AppData\\Local\\Temp\\ipykernel_34800\\2238899073.py:61: FutureWarning: The frame.append method is deprecated and will be removed from pandas in a future version. Use pandas.concat instead.\n",
      "  df = df.append(datarow, ignore_index=True)\n",
      "C:\\Users\\lando\\AppData\\Local\\Temp\\ipykernel_34800\\2238899073.py:61: FutureWarning: The frame.append method is deprecated and will be removed from pandas in a future version. Use pandas.concat instead.\n",
      "  df = df.append(datarow, ignore_index=True)\n",
      "C:\\Users\\lando\\AppData\\Local\\Temp\\ipykernel_34800\\2238899073.py:61: FutureWarning: The frame.append method is deprecated and will be removed from pandas in a future version. Use pandas.concat instead.\n",
      "  df = df.append(datarow, ignore_index=True)\n",
      "C:\\Users\\lando\\AppData\\Local\\Temp\\ipykernel_34800\\2238899073.py:61: FutureWarning: The frame.append method is deprecated and will be removed from pandas in a future version. Use pandas.concat instead.\n",
      "  df = df.append(datarow, ignore_index=True)\n",
      "C:\\Users\\lando\\AppData\\Local\\Temp\\ipykernel_34800\\2238899073.py:61: FutureWarning: The frame.append method is deprecated and will be removed from pandas in a future version. Use pandas.concat instead.\n",
      "  df = df.append(datarow, ignore_index=True)\n",
      "C:\\Users\\lando\\AppData\\Local\\Temp\\ipykernel_34800\\2238899073.py:61: FutureWarning: The frame.append method is deprecated and will be removed from pandas in a future version. Use pandas.concat instead.\n",
      "  df = df.append(datarow, ignore_index=True)\n",
      "C:\\Users\\lando\\AppData\\Local\\Temp\\ipykernel_34800\\2238899073.py:61: FutureWarning: The frame.append method is deprecated and will be removed from pandas in a future version. Use pandas.concat instead.\n",
      "  df = df.append(datarow, ignore_index=True)\n",
      "C:\\Users\\lando\\AppData\\Local\\Temp\\ipykernel_34800\\2238899073.py:61: FutureWarning: The frame.append method is deprecated and will be removed from pandas in a future version. Use pandas.concat instead.\n",
      "  df = df.append(datarow, ignore_index=True)\n",
      "C:\\Users\\lando\\AppData\\Local\\Temp\\ipykernel_34800\\2238899073.py:61: FutureWarning: The frame.append method is deprecated and will be removed from pandas in a future version. Use pandas.concat instead.\n",
      "  df = df.append(datarow, ignore_index=True)\n",
      "C:\\Users\\lando\\AppData\\Local\\Temp\\ipykernel_34800\\2238899073.py:61: FutureWarning: The frame.append method is deprecated and will be removed from pandas in a future version. Use pandas.concat instead.\n",
      "  df = df.append(datarow, ignore_index=True)\n",
      "C:\\Users\\lando\\AppData\\Local\\Temp\\ipykernel_34800\\2238899073.py:61: FutureWarning: The frame.append method is deprecated and will be removed from pandas in a future version. Use pandas.concat instead.\n",
      "  df = df.append(datarow, ignore_index=True)\n",
      "C:\\Users\\lando\\AppData\\Local\\Temp\\ipykernel_34800\\2238899073.py:61: FutureWarning: The frame.append method is deprecated and will be removed from pandas in a future version. Use pandas.concat instead.\n",
      "  df = df.append(datarow, ignore_index=True)\n",
      "C:\\Users\\lando\\AppData\\Local\\Temp\\ipykernel_34800\\2238899073.py:61: FutureWarning: The frame.append method is deprecated and will be removed from pandas in a future version. Use pandas.concat instead.\n",
      "  df = df.append(datarow, ignore_index=True)\n",
      "C:\\Users\\lando\\AppData\\Local\\Temp\\ipykernel_34800\\2238899073.py:61: FutureWarning: The frame.append method is deprecated and will be removed from pandas in a future version. Use pandas.concat instead.\n",
      "  df = df.append(datarow, ignore_index=True)\n",
      "C:\\Users\\lando\\AppData\\Local\\Temp\\ipykernel_34800\\2238899073.py:61: FutureWarning: The frame.append method is deprecated and will be removed from pandas in a future version. Use pandas.concat instead.\n",
      "  df = df.append(datarow, ignore_index=True)\n",
      "C:\\Users\\lando\\AppData\\Local\\Temp\\ipykernel_34800\\2238899073.py:61: FutureWarning: The frame.append method is deprecated and will be removed from pandas in a future version. Use pandas.concat instead.\n",
      "  df = df.append(datarow, ignore_index=True)\n",
      "C:\\Users\\lando\\AppData\\Local\\Temp\\ipykernel_34800\\2238899073.py:61: FutureWarning: The frame.append method is deprecated and will be removed from pandas in a future version. Use pandas.concat instead.\n",
      "  df = df.append(datarow, ignore_index=True)\n",
      "C:\\Users\\lando\\AppData\\Local\\Temp\\ipykernel_34800\\2238899073.py:61: FutureWarning: The frame.append method is deprecated and will be removed from pandas in a future version. Use pandas.concat instead.\n",
      "  df = df.append(datarow, ignore_index=True)\n",
      "C:\\Users\\lando\\AppData\\Local\\Temp\\ipykernel_34800\\2238899073.py:61: FutureWarning: The frame.append method is deprecated and will be removed from pandas in a future version. Use pandas.concat instead.\n",
      "  df = df.append(datarow, ignore_index=True)\n",
      "C:\\Users\\lando\\AppData\\Local\\Temp\\ipykernel_34800\\2238899073.py:61: FutureWarning: The frame.append method is deprecated and will be removed from pandas in a future version. Use pandas.concat instead.\n",
      "  df = df.append(datarow, ignore_index=True)\n",
      "C:\\Users\\lando\\AppData\\Local\\Temp\\ipykernel_34800\\2238899073.py:61: FutureWarning: The frame.append method is deprecated and will be removed from pandas in a future version. Use pandas.concat instead.\n",
      "  df = df.append(datarow, ignore_index=True)\n",
      "C:\\Users\\lando\\AppData\\Local\\Temp\\ipykernel_34800\\2238899073.py:61: FutureWarning: The frame.append method is deprecated and will be removed from pandas in a future version. Use pandas.concat instead.\n",
      "  df = df.append(datarow, ignore_index=True)\n",
      "C:\\Users\\lando\\AppData\\Local\\Temp\\ipykernel_34800\\2238899073.py:61: FutureWarning: The frame.append method is deprecated and will be removed from pandas in a future version. Use pandas.concat instead.\n",
      "  df = df.append(datarow, ignore_index=True)\n",
      "C:\\Users\\lando\\AppData\\Local\\Temp\\ipykernel_34800\\2238899073.py:61: FutureWarning: The frame.append method is deprecated and will be removed from pandas in a future version. Use pandas.concat instead.\n",
      "  df = df.append(datarow, ignore_index=True)\n",
      "C:\\Users\\lando\\AppData\\Local\\Temp\\ipykernel_34800\\2238899073.py:61: FutureWarning: The frame.append method is deprecated and will be removed from pandas in a future version. Use pandas.concat instead.\n",
      "  df = df.append(datarow, ignore_index=True)\n",
      "C:\\Users\\lando\\AppData\\Local\\Temp\\ipykernel_34800\\2238899073.py:61: FutureWarning: The frame.append method is deprecated and will be removed from pandas in a future version. Use pandas.concat instead.\n",
      "  df = df.append(datarow, ignore_index=True)\n",
      "C:\\Users\\lando\\AppData\\Local\\Temp\\ipykernel_34800\\2238899073.py:61: FutureWarning: The frame.append method is deprecated and will be removed from pandas in a future version. Use pandas.concat instead.\n",
      "  df = df.append(datarow, ignore_index=True)\n",
      "C:\\Users\\lando\\AppData\\Local\\Temp\\ipykernel_34800\\2238899073.py:61: FutureWarning: The frame.append method is deprecated and will be removed from pandas in a future version. Use pandas.concat instead.\n",
      "  df = df.append(datarow, ignore_index=True)\n",
      "C:\\Users\\lando\\AppData\\Local\\Temp\\ipykernel_34800\\2238899073.py:61: FutureWarning: The frame.append method is deprecated and will be removed from pandas in a future version. Use pandas.concat instead.\n",
      "  df = df.append(datarow, ignore_index=True)\n",
      "C:\\Users\\lando\\AppData\\Local\\Temp\\ipykernel_34800\\2238899073.py:61: FutureWarning: The frame.append method is deprecated and will be removed from pandas in a future version. Use pandas.concat instead.\n",
      "  df = df.append(datarow, ignore_index=True)\n",
      "C:\\Users\\lando\\AppData\\Local\\Temp\\ipykernel_34800\\2238899073.py:61: FutureWarning: The frame.append method is deprecated and will be removed from pandas in a future version. Use pandas.concat instead.\n",
      "  df = df.append(datarow, ignore_index=True)\n",
      "C:\\Users\\lando\\AppData\\Local\\Temp\\ipykernel_34800\\2238899073.py:61: FutureWarning: The frame.append method is deprecated and will be removed from pandas in a future version. Use pandas.concat instead.\n",
      "  df = df.append(datarow, ignore_index=True)\n",
      "C:\\Users\\lando\\AppData\\Local\\Temp\\ipykernel_34800\\2238899073.py:61: FutureWarning: The frame.append method is deprecated and will be removed from pandas in a future version. Use pandas.concat instead.\n",
      "  df = df.append(datarow, ignore_index=True)\n",
      "C:\\Users\\lando\\AppData\\Local\\Temp\\ipykernel_34800\\2238899073.py:61: FutureWarning: The frame.append method is deprecated and will be removed from pandas in a future version. Use pandas.concat instead.\n",
      "  df = df.append(datarow, ignore_index=True)\n",
      "C:\\Users\\lando\\AppData\\Local\\Temp\\ipykernel_34800\\2238899073.py:61: FutureWarning: The frame.append method is deprecated and will be removed from pandas in a future version. Use pandas.concat instead.\n",
      "  df = df.append(datarow, ignore_index=True)\n",
      "C:\\Users\\lando\\AppData\\Local\\Temp\\ipykernel_34800\\2238899073.py:61: FutureWarning: The frame.append method is deprecated and will be removed from pandas in a future version. Use pandas.concat instead.\n",
      "  df = df.append(datarow, ignore_index=True)\n",
      "C:\\Users\\lando\\AppData\\Local\\Temp\\ipykernel_34800\\2238899073.py:61: FutureWarning: The frame.append method is deprecated and will be removed from pandas in a future version. Use pandas.concat instead.\n",
      "  df = df.append(datarow, ignore_index=True)\n",
      "C:\\Users\\lando\\AppData\\Local\\Temp\\ipykernel_34800\\2238899073.py:61: FutureWarning: The frame.append method is deprecated and will be removed from pandas in a future version. Use pandas.concat instead.\n",
      "  df = df.append(datarow, ignore_index=True)\n",
      "C:\\Users\\lando\\AppData\\Local\\Temp\\ipykernel_34800\\2238899073.py:61: FutureWarning: The frame.append method is deprecated and will be removed from pandas in a future version. Use pandas.concat instead.\n",
      "  df = df.append(datarow, ignore_index=True)\n",
      "C:\\Users\\lando\\AppData\\Local\\Temp\\ipykernel_34800\\2238899073.py:61: FutureWarning: The frame.append method is deprecated and will be removed from pandas in a future version. Use pandas.concat instead.\n",
      "  df = df.append(datarow, ignore_index=True)\n",
      "C:\\Users\\lando\\AppData\\Local\\Temp\\ipykernel_34800\\2238899073.py:61: FutureWarning: The frame.append method is deprecated and will be removed from pandas in a future version. Use pandas.concat instead.\n",
      "  df = df.append(datarow, ignore_index=True)\n",
      "C:\\Users\\lando\\AppData\\Local\\Temp\\ipykernel_34800\\2238899073.py:61: FutureWarning: The frame.append method is deprecated and will be removed from pandas in a future version. Use pandas.concat instead.\n",
      "  df = df.append(datarow, ignore_index=True)\n",
      "C:\\Users\\lando\\AppData\\Local\\Temp\\ipykernel_34800\\2238899073.py:61: FutureWarning: The frame.append method is deprecated and will be removed from pandas in a future version. Use pandas.concat instead.\n",
      "  df = df.append(datarow, ignore_index=True)\n",
      "C:\\Users\\lando\\AppData\\Local\\Temp\\ipykernel_34800\\2238899073.py:61: FutureWarning: The frame.append method is deprecated and will be removed from pandas in a future version. Use pandas.concat instead.\n",
      "  df = df.append(datarow, ignore_index=True)\n",
      "C:\\Users\\lando\\AppData\\Local\\Temp\\ipykernel_34800\\2238899073.py:61: FutureWarning: The frame.append method is deprecated and will be removed from pandas in a future version. Use pandas.concat instead.\n",
      "  df = df.append(datarow, ignore_index=True)\n",
      "C:\\Users\\lando\\AppData\\Local\\Temp\\ipykernel_34800\\2238899073.py:61: FutureWarning: The frame.append method is deprecated and will be removed from pandas in a future version. Use pandas.concat instead.\n",
      "  df = df.append(datarow, ignore_index=True)\n",
      "C:\\Users\\lando\\AppData\\Local\\Temp\\ipykernel_34800\\2238899073.py:61: FutureWarning: The frame.append method is deprecated and will be removed from pandas in a future version. Use pandas.concat instead.\n",
      "  df = df.append(datarow, ignore_index=True)\n",
      "C:\\Users\\lando\\AppData\\Local\\Temp\\ipykernel_34800\\2238899073.py:61: FutureWarning: The frame.append method is deprecated and will be removed from pandas in a future version. Use pandas.concat instead.\n",
      "  df = df.append(datarow, ignore_index=True)\n",
      "C:\\Users\\lando\\AppData\\Local\\Temp\\ipykernel_34800\\2238899073.py:61: FutureWarning: The frame.append method is deprecated and will be removed from pandas in a future version. Use pandas.concat instead.\n",
      "  df = df.append(datarow, ignore_index=True)\n",
      "C:\\Users\\lando\\AppData\\Local\\Temp\\ipykernel_34800\\2238899073.py:61: FutureWarning: The frame.append method is deprecated and will be removed from pandas in a future version. Use pandas.concat instead.\n",
      "  df = df.append(datarow, ignore_index=True)\n",
      "C:\\Users\\lando\\AppData\\Local\\Temp\\ipykernel_34800\\2238899073.py:61: FutureWarning: The frame.append method is deprecated and will be removed from pandas in a future version. Use pandas.concat instead.\n",
      "  df = df.append(datarow, ignore_index=True)\n",
      "C:\\Users\\lando\\AppData\\Local\\Temp\\ipykernel_34800\\2238899073.py:61: FutureWarning: The frame.append method is deprecated and will be removed from pandas in a future version. Use pandas.concat instead.\n",
      "  df = df.append(datarow, ignore_index=True)\n",
      "C:\\Users\\lando\\AppData\\Local\\Temp\\ipykernel_34800\\2238899073.py:61: FutureWarning: The frame.append method is deprecated and will be removed from pandas in a future version. Use pandas.concat instead.\n",
      "  df = df.append(datarow, ignore_index=True)\n",
      "C:\\Users\\lando\\AppData\\Local\\Temp\\ipykernel_34800\\2238899073.py:61: FutureWarning: The frame.append method is deprecated and will be removed from pandas in a future version. Use pandas.concat instead.\n",
      "  df = df.append(datarow, ignore_index=True)\n",
      "C:\\Users\\lando\\AppData\\Local\\Temp\\ipykernel_34800\\2238899073.py:61: FutureWarning: The frame.append method is deprecated and will be removed from pandas in a future version. Use pandas.concat instead.\n",
      "  df = df.append(datarow, ignore_index=True)\n",
      "C:\\Users\\lando\\AppData\\Local\\Temp\\ipykernel_34800\\2238899073.py:61: FutureWarning: The frame.append method is deprecated and will be removed from pandas in a future version. Use pandas.concat instead.\n",
      "  df = df.append(datarow, ignore_index=True)\n",
      "C:\\Users\\lando\\AppData\\Local\\Temp\\ipykernel_34800\\2238899073.py:61: FutureWarning: The frame.append method is deprecated and will be removed from pandas in a future version. Use pandas.concat instead.\n",
      "  df = df.append(datarow, ignore_index=True)\n",
      "C:\\Users\\lando\\AppData\\Local\\Temp\\ipykernel_34800\\2238899073.py:61: FutureWarning: The frame.append method is deprecated and will be removed from pandas in a future version. Use pandas.concat instead.\n",
      "  df = df.append(datarow, ignore_index=True)\n",
      "C:\\Users\\lando\\AppData\\Local\\Temp\\ipykernel_34800\\2238899073.py:61: FutureWarning: The frame.append method is deprecated and will be removed from pandas in a future version. Use pandas.concat instead.\n",
      "  df = df.append(datarow, ignore_index=True)\n",
      "C:\\Users\\lando\\AppData\\Local\\Temp\\ipykernel_34800\\2238899073.py:61: FutureWarning: The frame.append method is deprecated and will be removed from pandas in a future version. Use pandas.concat instead.\n",
      "  df = df.append(datarow, ignore_index=True)\n",
      "C:\\Users\\lando\\AppData\\Local\\Temp\\ipykernel_34800\\2238899073.py:61: FutureWarning: The frame.append method is deprecated and will be removed from pandas in a future version. Use pandas.concat instead.\n",
      "  df = df.append(datarow, ignore_index=True)\n",
      "C:\\Users\\lando\\AppData\\Local\\Temp\\ipykernel_34800\\2238899073.py:61: FutureWarning: The frame.append method is deprecated and will be removed from pandas in a future version. Use pandas.concat instead.\n",
      "  df = df.append(datarow, ignore_index=True)\n",
      "C:\\Users\\lando\\AppData\\Local\\Temp\\ipykernel_34800\\2238899073.py:61: FutureWarning: The frame.append method is deprecated and will be removed from pandas in a future version. Use pandas.concat instead.\n",
      "  df = df.append(datarow, ignore_index=True)\n",
      "C:\\Users\\lando\\AppData\\Local\\Temp\\ipykernel_34800\\2238899073.py:61: FutureWarning: The frame.append method is deprecated and will be removed from pandas in a future version. Use pandas.concat instead.\n",
      "  df = df.append(datarow, ignore_index=True)\n",
      "C:\\Users\\lando\\AppData\\Local\\Temp\\ipykernel_34800\\2238899073.py:61: FutureWarning: The frame.append method is deprecated and will be removed from pandas in a future version. Use pandas.concat instead.\n",
      "  df = df.append(datarow, ignore_index=True)\n",
      "C:\\Users\\lando\\AppData\\Local\\Temp\\ipykernel_34800\\2238899073.py:61: FutureWarning: The frame.append method is deprecated and will be removed from pandas in a future version. Use pandas.concat instead.\n",
      "  df = df.append(datarow, ignore_index=True)\n",
      "C:\\Users\\lando\\AppData\\Local\\Temp\\ipykernel_34800\\2238899073.py:61: FutureWarning: The frame.append method is deprecated and will be removed from pandas in a future version. Use pandas.concat instead.\n",
      "  df = df.append(datarow, ignore_index=True)\n",
      "C:\\Users\\lando\\AppData\\Local\\Temp\\ipykernel_34800\\2238899073.py:61: FutureWarning: The frame.append method is deprecated and will be removed from pandas in a future version. Use pandas.concat instead.\n",
      "  df = df.append(datarow, ignore_index=True)\n",
      "C:\\Users\\lando\\AppData\\Local\\Temp\\ipykernel_34800\\2238899073.py:61: FutureWarning: The frame.append method is deprecated and will be removed from pandas in a future version. Use pandas.concat instead.\n",
      "  df = df.append(datarow, ignore_index=True)\n",
      "C:\\Users\\lando\\AppData\\Local\\Temp\\ipykernel_34800\\2238899073.py:61: FutureWarning: The frame.append method is deprecated and will be removed from pandas in a future version. Use pandas.concat instead.\n",
      "  df = df.append(datarow, ignore_index=True)\n",
      "C:\\Users\\lando\\AppData\\Local\\Temp\\ipykernel_34800\\2238899073.py:61: FutureWarning: The frame.append method is deprecated and will be removed from pandas in a future version. Use pandas.concat instead.\n",
      "  df = df.append(datarow, ignore_index=True)\n",
      "C:\\Users\\lando\\AppData\\Local\\Temp\\ipykernel_34800\\2238899073.py:61: FutureWarning: The frame.append method is deprecated and will be removed from pandas in a future version. Use pandas.concat instead.\n",
      "  df = df.append(datarow, ignore_index=True)\n",
      "C:\\Users\\lando\\AppData\\Local\\Temp\\ipykernel_34800\\2238899073.py:61: FutureWarning: The frame.append method is deprecated and will be removed from pandas in a future version. Use pandas.concat instead.\n",
      "  df = df.append(datarow, ignore_index=True)\n",
      "C:\\Users\\lando\\AppData\\Local\\Temp\\ipykernel_34800\\2238899073.py:61: FutureWarning: The frame.append method is deprecated and will be removed from pandas in a future version. Use pandas.concat instead.\n",
      "  df = df.append(datarow, ignore_index=True)\n",
      "C:\\Users\\lando\\AppData\\Local\\Temp\\ipykernel_34800\\2238899073.py:61: FutureWarning: The frame.append method is deprecated and will be removed from pandas in a future version. Use pandas.concat instead.\n",
      "  df = df.append(datarow, ignore_index=True)\n",
      "C:\\Users\\lando\\AppData\\Local\\Temp\\ipykernel_34800\\2238899073.py:61: FutureWarning: The frame.append method is deprecated and will be removed from pandas in a future version. Use pandas.concat instead.\n",
      "  df = df.append(datarow, ignore_index=True)\n",
      "C:\\Users\\lando\\AppData\\Local\\Temp\\ipykernel_34800\\2238899073.py:61: FutureWarning: The frame.append method is deprecated and will be removed from pandas in a future version. Use pandas.concat instead.\n",
      "  df = df.append(datarow, ignore_index=True)\n",
      "C:\\Users\\lando\\AppData\\Local\\Temp\\ipykernel_34800\\2238899073.py:61: FutureWarning: The frame.append method is deprecated and will be removed from pandas in a future version. Use pandas.concat instead.\n",
      "  df = df.append(datarow, ignore_index=True)\n",
      "C:\\Users\\lando\\AppData\\Local\\Temp\\ipykernel_34800\\2238899073.py:61: FutureWarning: The frame.append method is deprecated and will be removed from pandas in a future version. Use pandas.concat instead.\n",
      "  df = df.append(datarow, ignore_index=True)\n",
      "C:\\Users\\lando\\AppData\\Local\\Temp\\ipykernel_34800\\2238899073.py:61: FutureWarning: The frame.append method is deprecated and will be removed from pandas in a future version. Use pandas.concat instead.\n",
      "  df = df.append(datarow, ignore_index=True)\n",
      "C:\\Users\\lando\\AppData\\Local\\Temp\\ipykernel_34800\\2238899073.py:61: FutureWarning: The frame.append method is deprecated and will be removed from pandas in a future version. Use pandas.concat instead.\n",
      "  df = df.append(datarow, ignore_index=True)\n",
      "C:\\Users\\lando\\AppData\\Local\\Temp\\ipykernel_34800\\2238899073.py:61: FutureWarning: The frame.append method is deprecated and will be removed from pandas in a future version. Use pandas.concat instead.\n",
      "  df = df.append(datarow, ignore_index=True)\n",
      "C:\\Users\\lando\\AppData\\Local\\Temp\\ipykernel_34800\\2238899073.py:61: FutureWarning: The frame.append method is deprecated and will be removed from pandas in a future version. Use pandas.concat instead.\n",
      "  df = df.append(datarow, ignore_index=True)\n",
      "C:\\Users\\lando\\AppData\\Local\\Temp\\ipykernel_34800\\2238899073.py:61: FutureWarning: The frame.append method is deprecated and will be removed from pandas in a future version. Use pandas.concat instead.\n",
      "  df = df.append(datarow, ignore_index=True)\n",
      "C:\\Users\\lando\\AppData\\Local\\Temp\\ipykernel_34800\\2238899073.py:61: FutureWarning: The frame.append method is deprecated and will be removed from pandas in a future version. Use pandas.concat instead.\n",
      "  df = df.append(datarow, ignore_index=True)\n",
      "C:\\Users\\lando\\AppData\\Local\\Temp\\ipykernel_34800\\2238899073.py:61: FutureWarning: The frame.append method is deprecated and will be removed from pandas in a future version. Use pandas.concat instead.\n",
      "  df = df.append(datarow, ignore_index=True)\n",
      "C:\\Users\\lando\\AppData\\Local\\Temp\\ipykernel_34800\\2238899073.py:61: FutureWarning: The frame.append method is deprecated and will be removed from pandas in a future version. Use pandas.concat instead.\n",
      "  df = df.append(datarow, ignore_index=True)\n",
      "C:\\Users\\lando\\AppData\\Local\\Temp\\ipykernel_34800\\2238899073.py:61: FutureWarning: The frame.append method is deprecated and will be removed from pandas in a future version. Use pandas.concat instead.\n",
      "  df = df.append(datarow, ignore_index=True)\n",
      "C:\\Users\\lando\\AppData\\Local\\Temp\\ipykernel_34800\\2238899073.py:61: FutureWarning: The frame.append method is deprecated and will be removed from pandas in a future version. Use pandas.concat instead.\n",
      "  df = df.append(datarow, ignore_index=True)\n",
      "C:\\Users\\lando\\AppData\\Local\\Temp\\ipykernel_34800\\2238899073.py:61: FutureWarning: The frame.append method is deprecated and will be removed from pandas in a future version. Use pandas.concat instead.\n",
      "  df = df.append(datarow, ignore_index=True)\n",
      "C:\\Users\\lando\\AppData\\Local\\Temp\\ipykernel_34800\\2238899073.py:61: FutureWarning: The frame.append method is deprecated and will be removed from pandas in a future version. Use pandas.concat instead.\n",
      "  df = df.append(datarow, ignore_index=True)\n",
      "C:\\Users\\lando\\AppData\\Local\\Temp\\ipykernel_34800\\2238899073.py:61: FutureWarning: The frame.append method is deprecated and will be removed from pandas in a future version. Use pandas.concat instead.\n",
      "  df = df.append(datarow, ignore_index=True)\n",
      "C:\\Users\\lando\\AppData\\Local\\Temp\\ipykernel_34800\\2238899073.py:61: FutureWarning: The frame.append method is deprecated and will be removed from pandas in a future version. Use pandas.concat instead.\n",
      "  df = df.append(datarow, ignore_index=True)\n",
      "C:\\Users\\lando\\AppData\\Local\\Temp\\ipykernel_34800\\2238899073.py:61: FutureWarning: The frame.append method is deprecated and will be removed from pandas in a future version. Use pandas.concat instead.\n",
      "  df = df.append(datarow, ignore_index=True)\n",
      "C:\\Users\\lando\\AppData\\Local\\Temp\\ipykernel_34800\\2238899073.py:61: FutureWarning: The frame.append method is deprecated and will be removed from pandas in a future version. Use pandas.concat instead.\n",
      "  df = df.append(datarow, ignore_index=True)\n",
      "C:\\Users\\lando\\AppData\\Local\\Temp\\ipykernel_34800\\2238899073.py:61: FutureWarning: The frame.append method is deprecated and will be removed from pandas in a future version. Use pandas.concat instead.\n",
      "  df = df.append(datarow, ignore_index=True)\n",
      "C:\\Users\\lando\\AppData\\Local\\Temp\\ipykernel_34800\\2238899073.py:61: FutureWarning: The frame.append method is deprecated and will be removed from pandas in a future version. Use pandas.concat instead.\n",
      "  df = df.append(datarow, ignore_index=True)\n",
      "C:\\Users\\lando\\AppData\\Local\\Temp\\ipykernel_34800\\2238899073.py:61: FutureWarning: The frame.append method is deprecated and will be removed from pandas in a future version. Use pandas.concat instead.\n",
      "  df = df.append(datarow, ignore_index=True)\n",
      "C:\\Users\\lando\\AppData\\Local\\Temp\\ipykernel_34800\\2238899073.py:61: FutureWarning: The frame.append method is deprecated and will be removed from pandas in a future version. Use pandas.concat instead.\n",
      "  df = df.append(datarow, ignore_index=True)\n",
      "C:\\Users\\lando\\AppData\\Local\\Temp\\ipykernel_34800\\2238899073.py:61: FutureWarning: The frame.append method is deprecated and will be removed from pandas in a future version. Use pandas.concat instead.\n",
      "  df = df.append(datarow, ignore_index=True)\n",
      "C:\\Users\\lando\\AppData\\Local\\Temp\\ipykernel_34800\\2238899073.py:61: FutureWarning: The frame.append method is deprecated and will be removed from pandas in a future version. Use pandas.concat instead.\n",
      "  df = df.append(datarow, ignore_index=True)\n",
      "C:\\Users\\lando\\AppData\\Local\\Temp\\ipykernel_34800\\2238899073.py:61: FutureWarning: The frame.append method is deprecated and will be removed from pandas in a future version. Use pandas.concat instead.\n",
      "  df = df.append(datarow, ignore_index=True)\n",
      "C:\\Users\\lando\\AppData\\Local\\Temp\\ipykernel_34800\\2238899073.py:61: FutureWarning: The frame.append method is deprecated and will be removed from pandas in a future version. Use pandas.concat instead.\n",
      "  df = df.append(datarow, ignore_index=True)\n",
      "C:\\Users\\lando\\AppData\\Local\\Temp\\ipykernel_34800\\2238899073.py:61: FutureWarning: The frame.append method is deprecated and will be removed from pandas in a future version. Use pandas.concat instead.\n",
      "  df = df.append(datarow, ignore_index=True)\n",
      "C:\\Users\\lando\\AppData\\Local\\Temp\\ipykernel_34800\\2238899073.py:61: FutureWarning: The frame.append method is deprecated and will be removed from pandas in a future version. Use pandas.concat instead.\n",
      "  df = df.append(datarow, ignore_index=True)\n",
      "C:\\Users\\lando\\AppData\\Local\\Temp\\ipykernel_34800\\2238899073.py:61: FutureWarning: The frame.append method is deprecated and will be removed from pandas in a future version. Use pandas.concat instead.\n",
      "  df = df.append(datarow, ignore_index=True)\n",
      "C:\\Users\\lando\\AppData\\Local\\Temp\\ipykernel_34800\\2238899073.py:61: FutureWarning: The frame.append method is deprecated and will be removed from pandas in a future version. Use pandas.concat instead.\n",
      "  df = df.append(datarow, ignore_index=True)\n",
      "C:\\Users\\lando\\AppData\\Local\\Temp\\ipykernel_34800\\2238899073.py:61: FutureWarning: The frame.append method is deprecated and will be removed from pandas in a future version. Use pandas.concat instead.\n",
      "  df = df.append(datarow, ignore_index=True)\n",
      "C:\\Users\\lando\\AppData\\Local\\Temp\\ipykernel_34800\\2238899073.py:61: FutureWarning: The frame.append method is deprecated and will be removed from pandas in a future version. Use pandas.concat instead.\n",
      "  df = df.append(datarow, ignore_index=True)\n",
      "C:\\Users\\lando\\AppData\\Local\\Temp\\ipykernel_34800\\2238899073.py:61: FutureWarning: The frame.append method is deprecated and will be removed from pandas in a future version. Use pandas.concat instead.\n",
      "  df = df.append(datarow, ignore_index=True)\n",
      "C:\\Users\\lando\\AppData\\Local\\Temp\\ipykernel_34800\\2238899073.py:61: FutureWarning: The frame.append method is deprecated and will be removed from pandas in a future version. Use pandas.concat instead.\n",
      "  df = df.append(datarow, ignore_index=True)\n",
      "C:\\Users\\lando\\AppData\\Local\\Temp\\ipykernel_34800\\2238899073.py:61: FutureWarning: The frame.append method is deprecated and will be removed from pandas in a future version. Use pandas.concat instead.\n",
      "  df = df.append(datarow, ignore_index=True)\n",
      "C:\\Users\\lando\\AppData\\Local\\Temp\\ipykernel_34800\\2238899073.py:61: FutureWarning: The frame.append method is deprecated and will be removed from pandas in a future version. Use pandas.concat instead.\n",
      "  df = df.append(datarow, ignore_index=True)\n",
      "C:\\Users\\lando\\AppData\\Local\\Temp\\ipykernel_34800\\2238899073.py:61: FutureWarning: The frame.append method is deprecated and will be removed from pandas in a future version. Use pandas.concat instead.\n",
      "  df = df.append(datarow, ignore_index=True)\n",
      "C:\\Users\\lando\\AppData\\Local\\Temp\\ipykernel_34800\\2238899073.py:61: FutureWarning: The frame.append method is deprecated and will be removed from pandas in a future version. Use pandas.concat instead.\n",
      "  df = df.append(datarow, ignore_index=True)\n",
      "C:\\Users\\lando\\AppData\\Local\\Temp\\ipykernel_34800\\2238899073.py:61: FutureWarning: The frame.append method is deprecated and will be removed from pandas in a future version. Use pandas.concat instead.\n",
      "  df = df.append(datarow, ignore_index=True)\n",
      "C:\\Users\\lando\\AppData\\Local\\Temp\\ipykernel_34800\\2238899073.py:61: FutureWarning: The frame.append method is deprecated and will be removed from pandas in a future version. Use pandas.concat instead.\n",
      "  df = df.append(datarow, ignore_index=True)\n",
      "C:\\Users\\lando\\AppData\\Local\\Temp\\ipykernel_34800\\2238899073.py:61: FutureWarning: The frame.append method is deprecated and will be removed from pandas in a future version. Use pandas.concat instead.\n",
      "  df = df.append(datarow, ignore_index=True)\n",
      "C:\\Users\\lando\\AppData\\Local\\Temp\\ipykernel_34800\\2238899073.py:61: FutureWarning: The frame.append method is deprecated and will be removed from pandas in a future version. Use pandas.concat instead.\n",
      "  df = df.append(datarow, ignore_index=True)\n",
      "C:\\Users\\lando\\AppData\\Local\\Temp\\ipykernel_34800\\2238899073.py:61: FutureWarning: The frame.append method is deprecated and will be removed from pandas in a future version. Use pandas.concat instead.\n",
      "  df = df.append(datarow, ignore_index=True)\n",
      "C:\\Users\\lando\\AppData\\Local\\Temp\\ipykernel_34800\\2238899073.py:61: FutureWarning: The frame.append method is deprecated and will be removed from pandas in a future version. Use pandas.concat instead.\n",
      "  df = df.append(datarow, ignore_index=True)\n",
      "C:\\Users\\lando\\AppData\\Local\\Temp\\ipykernel_34800\\2238899073.py:61: FutureWarning: The frame.append method is deprecated and will be removed from pandas in a future version. Use pandas.concat instead.\n",
      "  df = df.append(datarow, ignore_index=True)\n",
      "C:\\Users\\lando\\AppData\\Local\\Temp\\ipykernel_34800\\2238899073.py:61: FutureWarning: The frame.append method is deprecated and will be removed from pandas in a future version. Use pandas.concat instead.\n",
      "  df = df.append(datarow, ignore_index=True)\n",
      "C:\\Users\\lando\\AppData\\Local\\Temp\\ipykernel_34800\\2238899073.py:61: FutureWarning: The frame.append method is deprecated and will be removed from pandas in a future version. Use pandas.concat instead.\n",
      "  df = df.append(datarow, ignore_index=True)\n",
      "C:\\Users\\lando\\AppData\\Local\\Temp\\ipykernel_34800\\2238899073.py:61: FutureWarning: The frame.append method is deprecated and will be removed from pandas in a future version. Use pandas.concat instead.\n",
      "  df = df.append(datarow, ignore_index=True)\n",
      "C:\\Users\\lando\\AppData\\Local\\Temp\\ipykernel_34800\\2238899073.py:61: FutureWarning: The frame.append method is deprecated and will be removed from pandas in a future version. Use pandas.concat instead.\n",
      "  df = df.append(datarow, ignore_index=True)\n",
      "C:\\Users\\lando\\AppData\\Local\\Temp\\ipykernel_34800\\2238899073.py:61: FutureWarning: The frame.append method is deprecated and will be removed from pandas in a future version. Use pandas.concat instead.\n",
      "  df = df.append(datarow, ignore_index=True)\n",
      "C:\\Users\\lando\\AppData\\Local\\Temp\\ipykernel_34800\\2238899073.py:61: FutureWarning: The frame.append method is deprecated and will be removed from pandas in a future version. Use pandas.concat instead.\n",
      "  df = df.append(datarow, ignore_index=True)\n",
      "C:\\Users\\lando\\AppData\\Local\\Temp\\ipykernel_34800\\2238899073.py:61: FutureWarning: The frame.append method is deprecated and will be removed from pandas in a future version. Use pandas.concat instead.\n",
      "  df = df.append(datarow, ignore_index=True)\n",
      "C:\\Users\\lando\\AppData\\Local\\Temp\\ipykernel_34800\\2238899073.py:61: FutureWarning: The frame.append method is deprecated and will be removed from pandas in a future version. Use pandas.concat instead.\n",
      "  df = df.append(datarow, ignore_index=True)\n",
      "C:\\Users\\lando\\AppData\\Local\\Temp\\ipykernel_34800\\2238899073.py:61: FutureWarning: The frame.append method is deprecated and will be removed from pandas in a future version. Use pandas.concat instead.\n",
      "  df = df.append(datarow, ignore_index=True)\n",
      "C:\\Users\\lando\\AppData\\Local\\Temp\\ipykernel_34800\\2238899073.py:61: FutureWarning: The frame.append method is deprecated and will be removed from pandas in a future version. Use pandas.concat instead.\n",
      "  df = df.append(datarow, ignore_index=True)\n",
      "C:\\Users\\lando\\AppData\\Local\\Temp\\ipykernel_34800\\2238899073.py:61: FutureWarning: The frame.append method is deprecated and will be removed from pandas in a future version. Use pandas.concat instead.\n",
      "  df = df.append(datarow, ignore_index=True)\n",
      "C:\\Users\\lando\\AppData\\Local\\Temp\\ipykernel_34800\\2238899073.py:61: FutureWarning: The frame.append method is deprecated and will be removed from pandas in a future version. Use pandas.concat instead.\n",
      "  df = df.append(datarow, ignore_index=True)\n",
      "C:\\Users\\lando\\AppData\\Local\\Temp\\ipykernel_34800\\2238899073.py:61: FutureWarning: The frame.append method is deprecated and will be removed from pandas in a future version. Use pandas.concat instead.\n",
      "  df = df.append(datarow, ignore_index=True)\n",
      "C:\\Users\\lando\\AppData\\Local\\Temp\\ipykernel_34800\\2238899073.py:61: FutureWarning: The frame.append method is deprecated and will be removed from pandas in a future version. Use pandas.concat instead.\n",
      "  df = df.append(datarow, ignore_index=True)\n",
      "C:\\Users\\lando\\AppData\\Local\\Temp\\ipykernel_34800\\2238899073.py:61: FutureWarning: The frame.append method is deprecated and will be removed from pandas in a future version. Use pandas.concat instead.\n",
      "  df = df.append(datarow, ignore_index=True)\n",
      "C:\\Users\\lando\\AppData\\Local\\Temp\\ipykernel_34800\\2238899073.py:61: FutureWarning: The frame.append method is deprecated and will be removed from pandas in a future version. Use pandas.concat instead.\n",
      "  df = df.append(datarow, ignore_index=True)\n",
      "C:\\Users\\lando\\AppData\\Local\\Temp\\ipykernel_34800\\2238899073.py:61: FutureWarning: The frame.append method is deprecated and will be removed from pandas in a future version. Use pandas.concat instead.\n",
      "  df = df.append(datarow, ignore_index=True)\n",
      "C:\\Users\\lando\\AppData\\Local\\Temp\\ipykernel_34800\\2238899073.py:61: FutureWarning: The frame.append method is deprecated and will be removed from pandas in a future version. Use pandas.concat instead.\n",
      "  df = df.append(datarow, ignore_index=True)\n",
      "C:\\Users\\lando\\AppData\\Local\\Temp\\ipykernel_34800\\2238899073.py:61: FutureWarning: The frame.append method is deprecated and will be removed from pandas in a future version. Use pandas.concat instead.\n",
      "  df = df.append(datarow, ignore_index=True)\n",
      "C:\\Users\\lando\\AppData\\Local\\Temp\\ipykernel_34800\\2238899073.py:61: FutureWarning: The frame.append method is deprecated and will be removed from pandas in a future version. Use pandas.concat instead.\n",
      "  df = df.append(datarow, ignore_index=True)\n",
      "C:\\Users\\lando\\AppData\\Local\\Temp\\ipykernel_34800\\2238899073.py:61: FutureWarning: The frame.append method is deprecated and will be removed from pandas in a future version. Use pandas.concat instead.\n",
      "  df = df.append(datarow, ignore_index=True)\n",
      "C:\\Users\\lando\\AppData\\Local\\Temp\\ipykernel_34800\\2238899073.py:61: FutureWarning: The frame.append method is deprecated and will be removed from pandas in a future version. Use pandas.concat instead.\n",
      "  df = df.append(datarow, ignore_index=True)\n",
      "C:\\Users\\lando\\AppData\\Local\\Temp\\ipykernel_34800\\2238899073.py:61: FutureWarning: The frame.append method is deprecated and will be removed from pandas in a future version. Use pandas.concat instead.\n",
      "  df = df.append(datarow, ignore_index=True)\n",
      "C:\\Users\\lando\\AppData\\Local\\Temp\\ipykernel_34800\\2238899073.py:61: FutureWarning: The frame.append method is deprecated and will be removed from pandas in a future version. Use pandas.concat instead.\n",
      "  df = df.append(datarow, ignore_index=True)\n",
      "C:\\Users\\lando\\AppData\\Local\\Temp\\ipykernel_34800\\2238899073.py:61: FutureWarning: The frame.append method is deprecated and will be removed from pandas in a future version. Use pandas.concat instead.\n",
      "  df = df.append(datarow, ignore_index=True)\n",
      "C:\\Users\\lando\\AppData\\Local\\Temp\\ipykernel_34800\\2238899073.py:61: FutureWarning: The frame.append method is deprecated and will be removed from pandas in a future version. Use pandas.concat instead.\n",
      "  df = df.append(datarow, ignore_index=True)\n",
      "C:\\Users\\lando\\AppData\\Local\\Temp\\ipykernel_34800\\2238899073.py:61: FutureWarning: The frame.append method is deprecated and will be removed from pandas in a future version. Use pandas.concat instead.\n",
      "  df = df.append(datarow, ignore_index=True)\n",
      "C:\\Users\\lando\\AppData\\Local\\Temp\\ipykernel_34800\\2238899073.py:61: FutureWarning: The frame.append method is deprecated and will be removed from pandas in a future version. Use pandas.concat instead.\n",
      "  df = df.append(datarow, ignore_index=True)\n",
      "C:\\Users\\lando\\AppData\\Local\\Temp\\ipykernel_34800\\2238899073.py:61: FutureWarning: The frame.append method is deprecated and will be removed from pandas in a future version. Use pandas.concat instead.\n",
      "  df = df.append(datarow, ignore_index=True)\n",
      "C:\\Users\\lando\\AppData\\Local\\Temp\\ipykernel_34800\\2238899073.py:61: FutureWarning: The frame.append method is deprecated and will be removed from pandas in a future version. Use pandas.concat instead.\n",
      "  df = df.append(datarow, ignore_index=True)\n",
      "C:\\Users\\lando\\AppData\\Local\\Temp\\ipykernel_34800\\2238899073.py:61: FutureWarning: The frame.append method is deprecated and will be removed from pandas in a future version. Use pandas.concat instead.\n",
      "  df = df.append(datarow, ignore_index=True)\n",
      "C:\\Users\\lando\\AppData\\Local\\Temp\\ipykernel_34800\\2238899073.py:61: FutureWarning: The frame.append method is deprecated and will be removed from pandas in a future version. Use pandas.concat instead.\n",
      "  df = df.append(datarow, ignore_index=True)\n",
      "C:\\Users\\lando\\AppData\\Local\\Temp\\ipykernel_34800\\2238899073.py:61: FutureWarning: The frame.append method is deprecated and will be removed from pandas in a future version. Use pandas.concat instead.\n",
      "  df = df.append(datarow, ignore_index=True)\n",
      "C:\\Users\\lando\\AppData\\Local\\Temp\\ipykernel_34800\\2238899073.py:61: FutureWarning: The frame.append method is deprecated and will be removed from pandas in a future version. Use pandas.concat instead.\n",
      "  df = df.append(datarow, ignore_index=True)\n",
      "C:\\Users\\lando\\AppData\\Local\\Temp\\ipykernel_34800\\2238899073.py:61: FutureWarning: The frame.append method is deprecated and will be removed from pandas in a future version. Use pandas.concat instead.\n",
      "  df = df.append(datarow, ignore_index=True)\n",
      "C:\\Users\\lando\\AppData\\Local\\Temp\\ipykernel_34800\\2238899073.py:61: FutureWarning: The frame.append method is deprecated and will be removed from pandas in a future version. Use pandas.concat instead.\n",
      "  df = df.append(datarow, ignore_index=True)\n",
      "C:\\Users\\lando\\AppData\\Local\\Temp\\ipykernel_34800\\2238899073.py:61: FutureWarning: The frame.append method is deprecated and will be removed from pandas in a future version. Use pandas.concat instead.\n",
      "  df = df.append(datarow, ignore_index=True)\n",
      "C:\\Users\\lando\\AppData\\Local\\Temp\\ipykernel_34800\\2238899073.py:61: FutureWarning: The frame.append method is deprecated and will be removed from pandas in a future version. Use pandas.concat instead.\n",
      "  df = df.append(datarow, ignore_index=True)\n",
      "C:\\Users\\lando\\AppData\\Local\\Temp\\ipykernel_34800\\2238899073.py:61: FutureWarning: The frame.append method is deprecated and will be removed from pandas in a future version. Use pandas.concat instead.\n",
      "  df = df.append(datarow, ignore_index=True)\n",
      "C:\\Users\\lando\\AppData\\Local\\Temp\\ipykernel_34800\\2238899073.py:61: FutureWarning: The frame.append method is deprecated and will be removed from pandas in a future version. Use pandas.concat instead.\n",
      "  df = df.append(datarow, ignore_index=True)\n",
      "C:\\Users\\lando\\AppData\\Local\\Temp\\ipykernel_34800\\2238899073.py:61: FutureWarning: The frame.append method is deprecated and will be removed from pandas in a future version. Use pandas.concat instead.\n",
      "  df = df.append(datarow, ignore_index=True)\n",
      "C:\\Users\\lando\\AppData\\Local\\Temp\\ipykernel_34800\\2238899073.py:61: FutureWarning: The frame.append method is deprecated and will be removed from pandas in a future version. Use pandas.concat instead.\n",
      "  df = df.append(datarow, ignore_index=True)\n",
      "C:\\Users\\lando\\AppData\\Local\\Temp\\ipykernel_34800\\2238899073.py:61: FutureWarning: The frame.append method is deprecated and will be removed from pandas in a future version. Use pandas.concat instead.\n",
      "  df = df.append(datarow, ignore_index=True)\n",
      "C:\\Users\\lando\\AppData\\Local\\Temp\\ipykernel_34800\\2238899073.py:61: FutureWarning: The frame.append method is deprecated and will be removed from pandas in a future version. Use pandas.concat instead.\n",
      "  df = df.append(datarow, ignore_index=True)\n",
      "C:\\Users\\lando\\AppData\\Local\\Temp\\ipykernel_34800\\2238899073.py:61: FutureWarning: The frame.append method is deprecated and will be removed from pandas in a future version. Use pandas.concat instead.\n",
      "  df = df.append(datarow, ignore_index=True)\n",
      "C:\\Users\\lando\\AppData\\Local\\Temp\\ipykernel_34800\\2238899073.py:61: FutureWarning: The frame.append method is deprecated and will be removed from pandas in a future version. Use pandas.concat instead.\n",
      "  df = df.append(datarow, ignore_index=True)\n",
      "C:\\Users\\lando\\AppData\\Local\\Temp\\ipykernel_34800\\2238899073.py:61: FutureWarning: The frame.append method is deprecated and will be removed from pandas in a future version. Use pandas.concat instead.\n",
      "  df = df.append(datarow, ignore_index=True)\n",
      "C:\\Users\\lando\\AppData\\Local\\Temp\\ipykernel_34800\\2238899073.py:61: FutureWarning: The frame.append method is deprecated and will be removed from pandas in a future version. Use pandas.concat instead.\n",
      "  df = df.append(datarow, ignore_index=True)\n",
      "C:\\Users\\lando\\AppData\\Local\\Temp\\ipykernel_34800\\2238899073.py:61: FutureWarning: The frame.append method is deprecated and will be removed from pandas in a future version. Use pandas.concat instead.\n",
      "  df = df.append(datarow, ignore_index=True)\n",
      "C:\\Users\\lando\\AppData\\Local\\Temp\\ipykernel_34800\\2238899073.py:61: FutureWarning: The frame.append method is deprecated and will be removed from pandas in a future version. Use pandas.concat instead.\n",
      "  df = df.append(datarow, ignore_index=True)\n",
      "C:\\Users\\lando\\AppData\\Local\\Temp\\ipykernel_34800\\2238899073.py:61: FutureWarning: The frame.append method is deprecated and will be removed from pandas in a future version. Use pandas.concat instead.\n",
      "  df = df.append(datarow, ignore_index=True)\n",
      "C:\\Users\\lando\\AppData\\Local\\Temp\\ipykernel_34800\\2238899073.py:61: FutureWarning: The frame.append method is deprecated and will be removed from pandas in a future version. Use pandas.concat instead.\n",
      "  df = df.append(datarow, ignore_index=True)\n",
      "C:\\Users\\lando\\AppData\\Local\\Temp\\ipykernel_34800\\2238899073.py:61: FutureWarning: The frame.append method is deprecated and will be removed from pandas in a future version. Use pandas.concat instead.\n",
      "  df = df.append(datarow, ignore_index=True)\n",
      "C:\\Users\\lando\\AppData\\Local\\Temp\\ipykernel_34800\\2238899073.py:61: FutureWarning: The frame.append method is deprecated and will be removed from pandas in a future version. Use pandas.concat instead.\n",
      "  df = df.append(datarow, ignore_index=True)\n",
      "C:\\Users\\lando\\AppData\\Local\\Temp\\ipykernel_34800\\2238899073.py:61: FutureWarning: The frame.append method is deprecated and will be removed from pandas in a future version. Use pandas.concat instead.\n",
      "  df = df.append(datarow, ignore_index=True)\n",
      "C:\\Users\\lando\\AppData\\Local\\Temp\\ipykernel_34800\\2238899073.py:61: FutureWarning: The frame.append method is deprecated and will be removed from pandas in a future version. Use pandas.concat instead.\n",
      "  df = df.append(datarow, ignore_index=True)\n",
      "C:\\Users\\lando\\AppData\\Local\\Temp\\ipykernel_34800\\2238899073.py:61: FutureWarning: The frame.append method is deprecated and will be removed from pandas in a future version. Use pandas.concat instead.\n",
      "  df = df.append(datarow, ignore_index=True)\n",
      "C:\\Users\\lando\\AppData\\Local\\Temp\\ipykernel_34800\\2238899073.py:61: FutureWarning: The frame.append method is deprecated and will be removed from pandas in a future version. Use pandas.concat instead.\n",
      "  df = df.append(datarow, ignore_index=True)\n",
      "C:\\Users\\lando\\AppData\\Local\\Temp\\ipykernel_34800\\2238899073.py:61: FutureWarning: The frame.append method is deprecated and will be removed from pandas in a future version. Use pandas.concat instead.\n",
      "  df = df.append(datarow, ignore_index=True)\n",
      "C:\\Users\\lando\\AppData\\Local\\Temp\\ipykernel_34800\\2238899073.py:61: FutureWarning: The frame.append method is deprecated and will be removed from pandas in a future version. Use pandas.concat instead.\n",
      "  df = df.append(datarow, ignore_index=True)\n",
      "C:\\Users\\lando\\AppData\\Local\\Temp\\ipykernel_34800\\2238899073.py:61: FutureWarning: The frame.append method is deprecated and will be removed from pandas in a future version. Use pandas.concat instead.\n",
      "  df = df.append(datarow, ignore_index=True)\n",
      "C:\\Users\\lando\\AppData\\Local\\Temp\\ipykernel_34800\\2238899073.py:61: FutureWarning: The frame.append method is deprecated and will be removed from pandas in a future version. Use pandas.concat instead.\n",
      "  df = df.append(datarow, ignore_index=True)\n",
      "C:\\Users\\lando\\AppData\\Local\\Temp\\ipykernel_34800\\2238899073.py:61: FutureWarning: The frame.append method is deprecated and will be removed from pandas in a future version. Use pandas.concat instead.\n",
      "  df = df.append(datarow, ignore_index=True)\n",
      "C:\\Users\\lando\\AppData\\Local\\Temp\\ipykernel_34800\\2238899073.py:61: FutureWarning: The frame.append method is deprecated and will be removed from pandas in a future version. Use pandas.concat instead.\n",
      "  df = df.append(datarow, ignore_index=True)\n",
      "C:\\Users\\lando\\AppData\\Local\\Temp\\ipykernel_34800\\2238899073.py:61: FutureWarning: The frame.append method is deprecated and will be removed from pandas in a future version. Use pandas.concat instead.\n",
      "  df = df.append(datarow, ignore_index=True)\n",
      "C:\\Users\\lando\\AppData\\Local\\Temp\\ipykernel_34800\\2238899073.py:61: FutureWarning: The frame.append method is deprecated and will be removed from pandas in a future version. Use pandas.concat instead.\n",
      "  df = df.append(datarow, ignore_index=True)\n",
      "C:\\Users\\lando\\AppData\\Local\\Temp\\ipykernel_34800\\2238899073.py:61: FutureWarning: The frame.append method is deprecated and will be removed from pandas in a future version. Use pandas.concat instead.\n",
      "  df = df.append(datarow, ignore_index=True)\n",
      "C:\\Users\\lando\\AppData\\Local\\Temp\\ipykernel_34800\\2238899073.py:61: FutureWarning: The frame.append method is deprecated and will be removed from pandas in a future version. Use pandas.concat instead.\n",
      "  df = df.append(datarow, ignore_index=True)\n",
      "C:\\Users\\lando\\AppData\\Local\\Temp\\ipykernel_34800\\2238899073.py:61: FutureWarning: The frame.append method is deprecated and will be removed from pandas in a future version. Use pandas.concat instead.\n",
      "  df = df.append(datarow, ignore_index=True)\n",
      "C:\\Users\\lando\\AppData\\Local\\Temp\\ipykernel_34800\\2238899073.py:61: FutureWarning: The frame.append method is deprecated and will be removed from pandas in a future version. Use pandas.concat instead.\n",
      "  df = df.append(datarow, ignore_index=True)\n",
      "C:\\Users\\lando\\AppData\\Local\\Temp\\ipykernel_34800\\2238899073.py:61: FutureWarning: The frame.append method is deprecated and will be removed from pandas in a future version. Use pandas.concat instead.\n",
      "  df = df.append(datarow, ignore_index=True)\n",
      "C:\\Users\\lando\\AppData\\Local\\Temp\\ipykernel_34800\\2238899073.py:61: FutureWarning: The frame.append method is deprecated and will be removed from pandas in a future version. Use pandas.concat instead.\n",
      "  df = df.append(datarow, ignore_index=True)\n",
      "C:\\Users\\lando\\AppData\\Local\\Temp\\ipykernel_34800\\2238899073.py:61: FutureWarning: The frame.append method is deprecated and will be removed from pandas in a future version. Use pandas.concat instead.\n",
      "  df = df.append(datarow, ignore_index=True)\n",
      "C:\\Users\\lando\\AppData\\Local\\Temp\\ipykernel_34800\\2238899073.py:61: FutureWarning: The frame.append method is deprecated and will be removed from pandas in a future version. Use pandas.concat instead.\n",
      "  df = df.append(datarow, ignore_index=True)\n",
      "C:\\Users\\lando\\AppData\\Local\\Temp\\ipykernel_34800\\2238899073.py:61: FutureWarning: The frame.append method is deprecated and will be removed from pandas in a future version. Use pandas.concat instead.\n",
      "  df = df.append(datarow, ignore_index=True)\n",
      "C:\\Users\\lando\\AppData\\Local\\Temp\\ipykernel_34800\\2238899073.py:61: FutureWarning: The frame.append method is deprecated and will be removed from pandas in a future version. Use pandas.concat instead.\n",
      "  df = df.append(datarow, ignore_index=True)\n",
      "C:\\Users\\lando\\AppData\\Local\\Temp\\ipykernel_34800\\2238899073.py:61: FutureWarning: The frame.append method is deprecated and will be removed from pandas in a future version. Use pandas.concat instead.\n",
      "  df = df.append(datarow, ignore_index=True)\n",
      "C:\\Users\\lando\\AppData\\Local\\Temp\\ipykernel_34800\\2238899073.py:61: FutureWarning: The frame.append method is deprecated and will be removed from pandas in a future version. Use pandas.concat instead.\n",
      "  df = df.append(datarow, ignore_index=True)\n",
      "C:\\Users\\lando\\AppData\\Local\\Temp\\ipykernel_34800\\2238899073.py:61: FutureWarning: The frame.append method is deprecated and will be removed from pandas in a future version. Use pandas.concat instead.\n",
      "  df = df.append(datarow, ignore_index=True)\n",
      "C:\\Users\\lando\\AppData\\Local\\Temp\\ipykernel_34800\\2238899073.py:61: FutureWarning: The frame.append method is deprecated and will be removed from pandas in a future version. Use pandas.concat instead.\n",
      "  df = df.append(datarow, ignore_index=True)\n",
      "C:\\Users\\lando\\AppData\\Local\\Temp\\ipykernel_34800\\2238899073.py:61: FutureWarning: The frame.append method is deprecated and will be removed from pandas in a future version. Use pandas.concat instead.\n",
      "  df = df.append(datarow, ignore_index=True)\n",
      "C:\\Users\\lando\\AppData\\Local\\Temp\\ipykernel_34800\\2238899073.py:61: FutureWarning: The frame.append method is deprecated and will be removed from pandas in a future version. Use pandas.concat instead.\n",
      "  df = df.append(datarow, ignore_index=True)\n",
      "C:\\Users\\lando\\AppData\\Local\\Temp\\ipykernel_34800\\2238899073.py:61: FutureWarning: The frame.append method is deprecated and will be removed from pandas in a future version. Use pandas.concat instead.\n",
      "  df = df.append(datarow, ignore_index=True)\n",
      "C:\\Users\\lando\\AppData\\Local\\Temp\\ipykernel_34800\\2238899073.py:61: FutureWarning: The frame.append method is deprecated and will be removed from pandas in a future version. Use pandas.concat instead.\n",
      "  df = df.append(datarow, ignore_index=True)\n",
      "C:\\Users\\lando\\AppData\\Local\\Temp\\ipykernel_34800\\2238899073.py:61: FutureWarning: The frame.append method is deprecated and will be removed from pandas in a future version. Use pandas.concat instead.\n",
      "  df = df.append(datarow, ignore_index=True)\n",
      "C:\\Users\\lando\\AppData\\Local\\Temp\\ipykernel_34800\\2238899073.py:61: FutureWarning: The frame.append method is deprecated and will be removed from pandas in a future version. Use pandas.concat instead.\n",
      "  df = df.append(datarow, ignore_index=True)\n",
      "C:\\Users\\lando\\AppData\\Local\\Temp\\ipykernel_34800\\2238899073.py:61: FutureWarning: The frame.append method is deprecated and will be removed from pandas in a future version. Use pandas.concat instead.\n",
      "  df = df.append(datarow, ignore_index=True)\n",
      "C:\\Users\\lando\\AppData\\Local\\Temp\\ipykernel_34800\\2238899073.py:61: FutureWarning: The frame.append method is deprecated and will be removed from pandas in a future version. Use pandas.concat instead.\n",
      "  df = df.append(datarow, ignore_index=True)\n",
      "C:\\Users\\lando\\AppData\\Local\\Temp\\ipykernel_34800\\2238899073.py:61: FutureWarning: The frame.append method is deprecated and will be removed from pandas in a future version. Use pandas.concat instead.\n",
      "  df = df.append(datarow, ignore_index=True)\n",
      "C:\\Users\\lando\\AppData\\Local\\Temp\\ipykernel_34800\\2238899073.py:61: FutureWarning: The frame.append method is deprecated and will be removed from pandas in a future version. Use pandas.concat instead.\n",
      "  df = df.append(datarow, ignore_index=True)\n",
      "C:\\Users\\lando\\AppData\\Local\\Temp\\ipykernel_34800\\2238899073.py:61: FutureWarning: The frame.append method is deprecated and will be removed from pandas in a future version. Use pandas.concat instead.\n",
      "  df = df.append(datarow, ignore_index=True)\n",
      "C:\\Users\\lando\\AppData\\Local\\Temp\\ipykernel_34800\\2238899073.py:61: FutureWarning: The frame.append method is deprecated and will be removed from pandas in a future version. Use pandas.concat instead.\n",
      "  df = df.append(datarow, ignore_index=True)\n",
      "C:\\Users\\lando\\AppData\\Local\\Temp\\ipykernel_34800\\2238899073.py:61: FutureWarning: The frame.append method is deprecated and will be removed from pandas in a future version. Use pandas.concat instead.\n",
      "  df = df.append(datarow, ignore_index=True)\n",
      "C:\\Users\\lando\\AppData\\Local\\Temp\\ipykernel_34800\\2238899073.py:61: FutureWarning: The frame.append method is deprecated and will be removed from pandas in a future version. Use pandas.concat instead.\n",
      "  df = df.append(datarow, ignore_index=True)\n",
      "C:\\Users\\lando\\AppData\\Local\\Temp\\ipykernel_34800\\2238899073.py:61: FutureWarning: The frame.append method is deprecated and will be removed from pandas in a future version. Use pandas.concat instead.\n",
      "  df = df.append(datarow, ignore_index=True)\n",
      "C:\\Users\\lando\\AppData\\Local\\Temp\\ipykernel_34800\\2238899073.py:61: FutureWarning: The frame.append method is deprecated and will be removed from pandas in a future version. Use pandas.concat instead.\n",
      "  df = df.append(datarow, ignore_index=True)\n",
      "C:\\Users\\lando\\AppData\\Local\\Temp\\ipykernel_34800\\2238899073.py:61: FutureWarning: The frame.append method is deprecated and will be removed from pandas in a future version. Use pandas.concat instead.\n",
      "  df = df.append(datarow, ignore_index=True)\n",
      "C:\\Users\\lando\\AppData\\Local\\Temp\\ipykernel_34800\\2238899073.py:61: FutureWarning: The frame.append method is deprecated and will be removed from pandas in a future version. Use pandas.concat instead.\n",
      "  df = df.append(datarow, ignore_index=True)\n",
      "C:\\Users\\lando\\AppData\\Local\\Temp\\ipykernel_34800\\2238899073.py:61: FutureWarning: The frame.append method is deprecated and will be removed from pandas in a future version. Use pandas.concat instead.\n",
      "  df = df.append(datarow, ignore_index=True)\n",
      "C:\\Users\\lando\\AppData\\Local\\Temp\\ipykernel_34800\\2238899073.py:61: FutureWarning: The frame.append method is deprecated and will be removed from pandas in a future version. Use pandas.concat instead.\n",
      "  df = df.append(datarow, ignore_index=True)\n",
      "C:\\Users\\lando\\AppData\\Local\\Temp\\ipykernel_34800\\2238899073.py:61: FutureWarning: The frame.append method is deprecated and will be removed from pandas in a future version. Use pandas.concat instead.\n",
      "  df = df.append(datarow, ignore_index=True)\n",
      "C:\\Users\\lando\\AppData\\Local\\Temp\\ipykernel_34800\\2238899073.py:61: FutureWarning: The frame.append method is deprecated and will be removed from pandas in a future version. Use pandas.concat instead.\n",
      "  df = df.append(datarow, ignore_index=True)\n",
      "C:\\Users\\lando\\AppData\\Local\\Temp\\ipykernel_34800\\2238899073.py:61: FutureWarning: The frame.append method is deprecated and will be removed from pandas in a future version. Use pandas.concat instead.\n",
      "  df = df.append(datarow, ignore_index=True)\n",
      "C:\\Users\\lando\\AppData\\Local\\Temp\\ipykernel_34800\\2238899073.py:61: FutureWarning: The frame.append method is deprecated and will be removed from pandas in a future version. Use pandas.concat instead.\n",
      "  df = df.append(datarow, ignore_index=True)\n",
      "C:\\Users\\lando\\AppData\\Local\\Temp\\ipykernel_34800\\2238899073.py:61: FutureWarning: The frame.append method is deprecated and will be removed from pandas in a future version. Use pandas.concat instead.\n",
      "  df = df.append(datarow, ignore_index=True)\n",
      "C:\\Users\\lando\\AppData\\Local\\Temp\\ipykernel_34800\\2238899073.py:61: FutureWarning: The frame.append method is deprecated and will be removed from pandas in a future version. Use pandas.concat instead.\n",
      "  df = df.append(datarow, ignore_index=True)\n",
      "C:\\Users\\lando\\AppData\\Local\\Temp\\ipykernel_34800\\2238899073.py:61: FutureWarning: The frame.append method is deprecated and will be removed from pandas in a future version. Use pandas.concat instead.\n",
      "  df = df.append(datarow, ignore_index=True)\n",
      "C:\\Users\\lando\\AppData\\Local\\Temp\\ipykernel_34800\\2238899073.py:61: FutureWarning: The frame.append method is deprecated and will be removed from pandas in a future version. Use pandas.concat instead.\n",
      "  df = df.append(datarow, ignore_index=True)\n",
      "C:\\Users\\lando\\AppData\\Local\\Temp\\ipykernel_34800\\2238899073.py:61: FutureWarning: The frame.append method is deprecated and will be removed from pandas in a future version. Use pandas.concat instead.\n",
      "  df = df.append(datarow, ignore_index=True)\n",
      "C:\\Users\\lando\\AppData\\Local\\Temp\\ipykernel_34800\\2238899073.py:61: FutureWarning: The frame.append method is deprecated and will be removed from pandas in a future version. Use pandas.concat instead.\n",
      "  df = df.append(datarow, ignore_index=True)\n",
      "C:\\Users\\lando\\AppData\\Local\\Temp\\ipykernel_34800\\2238899073.py:61: FutureWarning: The frame.append method is deprecated and will be removed from pandas in a future version. Use pandas.concat instead.\n",
      "  df = df.append(datarow, ignore_index=True)\n",
      "C:\\Users\\lando\\AppData\\Local\\Temp\\ipykernel_34800\\2238899073.py:61: FutureWarning: The frame.append method is deprecated and will be removed from pandas in a future version. Use pandas.concat instead.\n",
      "  df = df.append(datarow, ignore_index=True)\n",
      "C:\\Users\\lando\\AppData\\Local\\Temp\\ipykernel_34800\\2238899073.py:61: FutureWarning: The frame.append method is deprecated and will be removed from pandas in a future version. Use pandas.concat instead.\n",
      "  df = df.append(datarow, ignore_index=True)\n",
      "C:\\Users\\lando\\AppData\\Local\\Temp\\ipykernel_34800\\2238899073.py:61: FutureWarning: The frame.append method is deprecated and will be removed from pandas in a future version. Use pandas.concat instead.\n",
      "  df = df.append(datarow, ignore_index=True)\n",
      "C:\\Users\\lando\\AppData\\Local\\Temp\\ipykernel_34800\\2238899073.py:61: FutureWarning: The frame.append method is deprecated and will be removed from pandas in a future version. Use pandas.concat instead.\n",
      "  df = df.append(datarow, ignore_index=True)\n",
      "C:\\Users\\lando\\AppData\\Local\\Temp\\ipykernel_34800\\2238899073.py:61: FutureWarning: The frame.append method is deprecated and will be removed from pandas in a future version. Use pandas.concat instead.\n",
      "  df = df.append(datarow, ignore_index=True)\n",
      "C:\\Users\\lando\\AppData\\Local\\Temp\\ipykernel_34800\\2238899073.py:61: FutureWarning: The frame.append method is deprecated and will be removed from pandas in a future version. Use pandas.concat instead.\n",
      "  df = df.append(datarow, ignore_index=True)\n",
      "C:\\Users\\lando\\AppData\\Local\\Temp\\ipykernel_34800\\2238899073.py:61: FutureWarning: The frame.append method is deprecated and will be removed from pandas in a future version. Use pandas.concat instead.\n",
      "  df = df.append(datarow, ignore_index=True)\n",
      "C:\\Users\\lando\\AppData\\Local\\Temp\\ipykernel_34800\\2238899073.py:61: FutureWarning: The frame.append method is deprecated and will be removed from pandas in a future version. Use pandas.concat instead.\n",
      "  df = df.append(datarow, ignore_index=True)\n",
      "C:\\Users\\lando\\AppData\\Local\\Temp\\ipykernel_34800\\2238899073.py:61: FutureWarning: The frame.append method is deprecated and will be removed from pandas in a future version. Use pandas.concat instead.\n",
      "  df = df.append(datarow, ignore_index=True)\n",
      "C:\\Users\\lando\\AppData\\Local\\Temp\\ipykernel_34800\\2238899073.py:61: FutureWarning: The frame.append method is deprecated and will be removed from pandas in a future version. Use pandas.concat instead.\n",
      "  df = df.append(datarow, ignore_index=True)\n",
      "C:\\Users\\lando\\AppData\\Local\\Temp\\ipykernel_34800\\2238899073.py:61: FutureWarning: The frame.append method is deprecated and will be removed from pandas in a future version. Use pandas.concat instead.\n",
      "  df = df.append(datarow, ignore_index=True)\n",
      "C:\\Users\\lando\\AppData\\Local\\Temp\\ipykernel_34800\\2238899073.py:61: FutureWarning: The frame.append method is deprecated and will be removed from pandas in a future version. Use pandas.concat instead.\n",
      "  df = df.append(datarow, ignore_index=True)\n",
      "C:\\Users\\lando\\AppData\\Local\\Temp\\ipykernel_34800\\2238899073.py:61: FutureWarning: The frame.append method is deprecated and will be removed from pandas in a future version. Use pandas.concat instead.\n",
      "  df = df.append(datarow, ignore_index=True)\n",
      "C:\\Users\\lando\\AppData\\Local\\Temp\\ipykernel_34800\\2238899073.py:61: FutureWarning: The frame.append method is deprecated and will be removed from pandas in a future version. Use pandas.concat instead.\n",
      "  df = df.append(datarow, ignore_index=True)\n",
      "C:\\Users\\lando\\AppData\\Local\\Temp\\ipykernel_34800\\2238899073.py:61: FutureWarning: The frame.append method is deprecated and will be removed from pandas in a future version. Use pandas.concat instead.\n",
      "  df = df.append(datarow, ignore_index=True)\n",
      "C:\\Users\\lando\\AppData\\Local\\Temp\\ipykernel_34800\\2238899073.py:61: FutureWarning: The frame.append method is deprecated and will be removed from pandas in a future version. Use pandas.concat instead.\n",
      "  df = df.append(datarow, ignore_index=True)\n",
      "C:\\Users\\lando\\AppData\\Local\\Temp\\ipykernel_34800\\2238899073.py:61: FutureWarning: The frame.append method is deprecated and will be removed from pandas in a future version. Use pandas.concat instead.\n",
      "  df = df.append(datarow, ignore_index=True)\n",
      "C:\\Users\\lando\\AppData\\Local\\Temp\\ipykernel_34800\\2238899073.py:61: FutureWarning: The frame.append method is deprecated and will be removed from pandas in a future version. Use pandas.concat instead.\n",
      "  df = df.append(datarow, ignore_index=True)\n",
      "C:\\Users\\lando\\AppData\\Local\\Temp\\ipykernel_34800\\2238899073.py:61: FutureWarning: The frame.append method is deprecated and will be removed from pandas in a future version. Use pandas.concat instead.\n",
      "  df = df.append(datarow, ignore_index=True)\n",
      "C:\\Users\\lando\\AppData\\Local\\Temp\\ipykernel_34800\\2238899073.py:61: FutureWarning: The frame.append method is deprecated and will be removed from pandas in a future version. Use pandas.concat instead.\n",
      "  df = df.append(datarow, ignore_index=True)\n",
      "C:\\Users\\lando\\AppData\\Local\\Temp\\ipykernel_34800\\2238899073.py:61: FutureWarning: The frame.append method is deprecated and will be removed from pandas in a future version. Use pandas.concat instead.\n",
      "  df = df.append(datarow, ignore_index=True)\n",
      "C:\\Users\\lando\\AppData\\Local\\Temp\\ipykernel_34800\\2238899073.py:61: FutureWarning: The frame.append method is deprecated and will be removed from pandas in a future version. Use pandas.concat instead.\n",
      "  df = df.append(datarow, ignore_index=True)\n",
      "C:\\Users\\lando\\AppData\\Local\\Temp\\ipykernel_34800\\2238899073.py:61: FutureWarning: The frame.append method is deprecated and will be removed from pandas in a future version. Use pandas.concat instead.\n",
      "  df = df.append(datarow, ignore_index=True)\n",
      "C:\\Users\\lando\\AppData\\Local\\Temp\\ipykernel_34800\\2238899073.py:61: FutureWarning: The frame.append method is deprecated and will be removed from pandas in a future version. Use pandas.concat instead.\n",
      "  df = df.append(datarow, ignore_index=True)\n",
      "C:\\Users\\lando\\AppData\\Local\\Temp\\ipykernel_34800\\2238899073.py:61: FutureWarning: The frame.append method is deprecated and will be removed from pandas in a future version. Use pandas.concat instead.\n",
      "  df = df.append(datarow, ignore_index=True)\n",
      "C:\\Users\\lando\\AppData\\Local\\Temp\\ipykernel_34800\\2238899073.py:61: FutureWarning: The frame.append method is deprecated and will be removed from pandas in a future version. Use pandas.concat instead.\n",
      "  df = df.append(datarow, ignore_index=True)\n",
      "C:\\Users\\lando\\AppData\\Local\\Temp\\ipykernel_34800\\2238899073.py:61: FutureWarning: The frame.append method is deprecated and will be removed from pandas in a future version. Use pandas.concat instead.\n",
      "  df = df.append(datarow, ignore_index=True)\n",
      "C:\\Users\\lando\\AppData\\Local\\Temp\\ipykernel_34800\\2238899073.py:61: FutureWarning: The frame.append method is deprecated and will be removed from pandas in a future version. Use pandas.concat instead.\n",
      "  df = df.append(datarow, ignore_index=True)\n",
      "C:\\Users\\lando\\AppData\\Local\\Temp\\ipykernel_34800\\2238899073.py:61: FutureWarning: The frame.append method is deprecated and will be removed from pandas in a future version. Use pandas.concat instead.\n",
      "  df = df.append(datarow, ignore_index=True)\n",
      "C:\\Users\\lando\\AppData\\Local\\Temp\\ipykernel_34800\\2238899073.py:61: FutureWarning: The frame.append method is deprecated and will be removed from pandas in a future version. Use pandas.concat instead.\n",
      "  df = df.append(datarow, ignore_index=True)\n",
      "C:\\Users\\lando\\AppData\\Local\\Temp\\ipykernel_34800\\2238899073.py:61: FutureWarning: The frame.append method is deprecated and will be removed from pandas in a future version. Use pandas.concat instead.\n",
      "  df = df.append(datarow, ignore_index=True)\n",
      "C:\\Users\\lando\\AppData\\Local\\Temp\\ipykernel_34800\\2238899073.py:61: FutureWarning: The frame.append method is deprecated and will be removed from pandas in a future version. Use pandas.concat instead.\n",
      "  df = df.append(datarow, ignore_index=True)\n",
      "C:\\Users\\lando\\AppData\\Local\\Temp\\ipykernel_34800\\2238899073.py:61: FutureWarning: The frame.append method is deprecated and will be removed from pandas in a future version. Use pandas.concat instead.\n",
      "  df = df.append(datarow, ignore_index=True)\n",
      "C:\\Users\\lando\\AppData\\Local\\Temp\\ipykernel_34800\\2238899073.py:61: FutureWarning: The frame.append method is deprecated and will be removed from pandas in a future version. Use pandas.concat instead.\n",
      "  df = df.append(datarow, ignore_index=True)\n",
      "C:\\Users\\lando\\AppData\\Local\\Temp\\ipykernel_34800\\2238899073.py:61: FutureWarning: The frame.append method is deprecated and will be removed from pandas in a future version. Use pandas.concat instead.\n",
      "  df = df.append(datarow, ignore_index=True)\n",
      "C:\\Users\\lando\\AppData\\Local\\Temp\\ipykernel_34800\\2238899073.py:61: FutureWarning: The frame.append method is deprecated and will be removed from pandas in a future version. Use pandas.concat instead.\n",
      "  df = df.append(datarow, ignore_index=True)\n",
      "C:\\Users\\lando\\AppData\\Local\\Temp\\ipykernel_34800\\2238899073.py:61: FutureWarning: The frame.append method is deprecated and will be removed from pandas in a future version. Use pandas.concat instead.\n",
      "  df = df.append(datarow, ignore_index=True)\n",
      "C:\\Users\\lando\\AppData\\Local\\Temp\\ipykernel_34800\\2238899073.py:61: FutureWarning: The frame.append method is deprecated and will be removed from pandas in a future version. Use pandas.concat instead.\n",
      "  df = df.append(datarow, ignore_index=True)\n",
      "C:\\Users\\lando\\AppData\\Local\\Temp\\ipykernel_34800\\2238899073.py:61: FutureWarning: The frame.append method is deprecated and will be removed from pandas in a future version. Use pandas.concat instead.\n",
      "  df = df.append(datarow, ignore_index=True)\n",
      "C:\\Users\\lando\\AppData\\Local\\Temp\\ipykernel_34800\\2238899073.py:61: FutureWarning: The frame.append method is deprecated and will be removed from pandas in a future version. Use pandas.concat instead.\n",
      "  df = df.append(datarow, ignore_index=True)\n",
      "C:\\Users\\lando\\AppData\\Local\\Temp\\ipykernel_34800\\2238899073.py:61: FutureWarning: The frame.append method is deprecated and will be removed from pandas in a future version. Use pandas.concat instead.\n",
      "  df = df.append(datarow, ignore_index=True)\n",
      "C:\\Users\\lando\\AppData\\Local\\Temp\\ipykernel_34800\\2238899073.py:61: FutureWarning: The frame.append method is deprecated and will be removed from pandas in a future version. Use pandas.concat instead.\n",
      "  df = df.append(datarow, ignore_index=True)\n",
      "C:\\Users\\lando\\AppData\\Local\\Temp\\ipykernel_34800\\2238899073.py:61: FutureWarning: The frame.append method is deprecated and will be removed from pandas in a future version. Use pandas.concat instead.\n",
      "  df = df.append(datarow, ignore_index=True)\n",
      "C:\\Users\\lando\\AppData\\Local\\Temp\\ipykernel_34800\\2238899073.py:61: FutureWarning: The frame.append method is deprecated and will be removed from pandas in a future version. Use pandas.concat instead.\n",
      "  df = df.append(datarow, ignore_index=True)\n",
      "C:\\Users\\lando\\AppData\\Local\\Temp\\ipykernel_34800\\2238899073.py:61: FutureWarning: The frame.append method is deprecated and will be removed from pandas in a future version. Use pandas.concat instead.\n",
      "  df = df.append(datarow, ignore_index=True)\n",
      "C:\\Users\\lando\\AppData\\Local\\Temp\\ipykernel_34800\\2238899073.py:61: FutureWarning: The frame.append method is deprecated and will be removed from pandas in a future version. Use pandas.concat instead.\n",
      "  df = df.append(datarow, ignore_index=True)\n",
      "C:\\Users\\lando\\AppData\\Local\\Temp\\ipykernel_34800\\2238899073.py:61: FutureWarning: The frame.append method is deprecated and will be removed from pandas in a future version. Use pandas.concat instead.\n",
      "  df = df.append(datarow, ignore_index=True)\n",
      "C:\\Users\\lando\\AppData\\Local\\Temp\\ipykernel_34800\\2238899073.py:61: FutureWarning: The frame.append method is deprecated and will be removed from pandas in a future version. Use pandas.concat instead.\n",
      "  df = df.append(datarow, ignore_index=True)\n",
      "C:\\Users\\lando\\AppData\\Local\\Temp\\ipykernel_34800\\2238899073.py:61: FutureWarning: The frame.append method is deprecated and will be removed from pandas in a future version. Use pandas.concat instead.\n",
      "  df = df.append(datarow, ignore_index=True)\n",
      "C:\\Users\\lando\\AppData\\Local\\Temp\\ipykernel_34800\\2238899073.py:61: FutureWarning: The frame.append method is deprecated and will be removed from pandas in a future version. Use pandas.concat instead.\n",
      "  df = df.append(datarow, ignore_index=True)\n",
      "C:\\Users\\lando\\AppData\\Local\\Temp\\ipykernel_34800\\2238899073.py:61: FutureWarning: The frame.append method is deprecated and will be removed from pandas in a future version. Use pandas.concat instead.\n",
      "  df = df.append(datarow, ignore_index=True)\n",
      "C:\\Users\\lando\\AppData\\Local\\Temp\\ipykernel_34800\\2238899073.py:61: FutureWarning: The frame.append method is deprecated and will be removed from pandas in a future version. Use pandas.concat instead.\n",
      "  df = df.append(datarow, ignore_index=True)\n",
      "C:\\Users\\lando\\AppData\\Local\\Temp\\ipykernel_34800\\2238899073.py:61: FutureWarning: The frame.append method is deprecated and will be removed from pandas in a future version. Use pandas.concat instead.\n",
      "  df = df.append(datarow, ignore_index=True)\n",
      "C:\\Users\\lando\\AppData\\Local\\Temp\\ipykernel_34800\\2238899073.py:61: FutureWarning: The frame.append method is deprecated and will be removed from pandas in a future version. Use pandas.concat instead.\n",
      "  df = df.append(datarow, ignore_index=True)\n",
      "C:\\Users\\lando\\AppData\\Local\\Temp\\ipykernel_34800\\2238899073.py:61: FutureWarning: The frame.append method is deprecated and will be removed from pandas in a future version. Use pandas.concat instead.\n",
      "  df = df.append(datarow, ignore_index=True)\n",
      "C:\\Users\\lando\\AppData\\Local\\Temp\\ipykernel_34800\\2238899073.py:61: FutureWarning: The frame.append method is deprecated and will be removed from pandas in a future version. Use pandas.concat instead.\n",
      "  df = df.append(datarow, ignore_index=True)\n",
      "C:\\Users\\lando\\AppData\\Local\\Temp\\ipykernel_34800\\2238899073.py:61: FutureWarning: The frame.append method is deprecated and will be removed from pandas in a future version. Use pandas.concat instead.\n",
      "  df = df.append(datarow, ignore_index=True)\n",
      "C:\\Users\\lando\\AppData\\Local\\Temp\\ipykernel_34800\\2238899073.py:61: FutureWarning: The frame.append method is deprecated and will be removed from pandas in a future version. Use pandas.concat instead.\n",
      "  df = df.append(datarow, ignore_index=True)\n",
      "C:\\Users\\lando\\AppData\\Local\\Temp\\ipykernel_34800\\2238899073.py:61: FutureWarning: The frame.append method is deprecated and will be removed from pandas in a future version. Use pandas.concat instead.\n",
      "  df = df.append(datarow, ignore_index=True)\n",
      "C:\\Users\\lando\\AppData\\Local\\Temp\\ipykernel_34800\\2238899073.py:61: FutureWarning: The frame.append method is deprecated and will be removed from pandas in a future version. Use pandas.concat instead.\n",
      "  df = df.append(datarow, ignore_index=True)\n",
      "C:\\Users\\lando\\AppData\\Local\\Temp\\ipykernel_34800\\2238899073.py:61: FutureWarning: The frame.append method is deprecated and will be removed from pandas in a future version. Use pandas.concat instead.\n",
      "  df = df.append(datarow, ignore_index=True)\n",
      "C:\\Users\\lando\\AppData\\Local\\Temp\\ipykernel_34800\\2238899073.py:61: FutureWarning: The frame.append method is deprecated and will be removed from pandas in a future version. Use pandas.concat instead.\n",
      "  df = df.append(datarow, ignore_index=True)\n",
      "C:\\Users\\lando\\AppData\\Local\\Temp\\ipykernel_34800\\2238899073.py:61: FutureWarning: The frame.append method is deprecated and will be removed from pandas in a future version. Use pandas.concat instead.\n",
      "  df = df.append(datarow, ignore_index=True)\n",
      "C:\\Users\\lando\\AppData\\Local\\Temp\\ipykernel_34800\\2238899073.py:61: FutureWarning: The frame.append method is deprecated and will be removed from pandas in a future version. Use pandas.concat instead.\n",
      "  df = df.append(datarow, ignore_index=True)\n",
      "C:\\Users\\lando\\AppData\\Local\\Temp\\ipykernel_34800\\2238899073.py:61: FutureWarning: The frame.append method is deprecated and will be removed from pandas in a future version. Use pandas.concat instead.\n",
      "  df = df.append(datarow, ignore_index=True)\n",
      "C:\\Users\\lando\\AppData\\Local\\Temp\\ipykernel_34800\\2238899073.py:61: FutureWarning: The frame.append method is deprecated and will be removed from pandas in a future version. Use pandas.concat instead.\n",
      "  df = df.append(datarow, ignore_index=True)\n",
      "C:\\Users\\lando\\AppData\\Local\\Temp\\ipykernel_34800\\2238899073.py:61: FutureWarning: The frame.append method is deprecated and will be removed from pandas in a future version. Use pandas.concat instead.\n",
      "  df = df.append(datarow, ignore_index=True)\n",
      "C:\\Users\\lando\\AppData\\Local\\Temp\\ipykernel_34800\\2238899073.py:61: FutureWarning: The frame.append method is deprecated and will be removed from pandas in a future version. Use pandas.concat instead.\n",
      "  df = df.append(datarow, ignore_index=True)\n",
      "C:\\Users\\lando\\AppData\\Local\\Temp\\ipykernel_34800\\2238899073.py:61: FutureWarning: The frame.append method is deprecated and will be removed from pandas in a future version. Use pandas.concat instead.\n",
      "  df = df.append(datarow, ignore_index=True)\n",
      "C:\\Users\\lando\\AppData\\Local\\Temp\\ipykernel_34800\\2238899073.py:61: FutureWarning: The frame.append method is deprecated and will be removed from pandas in a future version. Use pandas.concat instead.\n",
      "  df = df.append(datarow, ignore_index=True)\n",
      "C:\\Users\\lando\\AppData\\Local\\Temp\\ipykernel_34800\\2238899073.py:61: FutureWarning: The frame.append method is deprecated and will be removed from pandas in a future version. Use pandas.concat instead.\n",
      "  df = df.append(datarow, ignore_index=True)\n",
      "C:\\Users\\lando\\AppData\\Local\\Temp\\ipykernel_34800\\2238899073.py:61: FutureWarning: The frame.append method is deprecated and will be removed from pandas in a future version. Use pandas.concat instead.\n",
      "  df = df.append(datarow, ignore_index=True)\n",
      "C:\\Users\\lando\\AppData\\Local\\Temp\\ipykernel_34800\\2238899073.py:61: FutureWarning: The frame.append method is deprecated and will be removed from pandas in a future version. Use pandas.concat instead.\n",
      "  df = df.append(datarow, ignore_index=True)\n",
      "C:\\Users\\lando\\AppData\\Local\\Temp\\ipykernel_34800\\2238899073.py:61: FutureWarning: The frame.append method is deprecated and will be removed from pandas in a future version. Use pandas.concat instead.\n",
      "  df = df.append(datarow, ignore_index=True)\n",
      "C:\\Users\\lando\\AppData\\Local\\Temp\\ipykernel_34800\\2238899073.py:61: FutureWarning: The frame.append method is deprecated and will be removed from pandas in a future version. Use pandas.concat instead.\n",
      "  df = df.append(datarow, ignore_index=True)\n",
      "C:\\Users\\lando\\AppData\\Local\\Temp\\ipykernel_34800\\2238899073.py:61: FutureWarning: The frame.append method is deprecated and will be removed from pandas in a future version. Use pandas.concat instead.\n",
      "  df = df.append(datarow, ignore_index=True)\n",
      "C:\\Users\\lando\\AppData\\Local\\Temp\\ipykernel_34800\\2238899073.py:61: FutureWarning: The frame.append method is deprecated and will be removed from pandas in a future version. Use pandas.concat instead.\n",
      "  df = df.append(datarow, ignore_index=True)\n",
      "C:\\Users\\lando\\AppData\\Local\\Temp\\ipykernel_34800\\2238899073.py:61: FutureWarning: The frame.append method is deprecated and will be removed from pandas in a future version. Use pandas.concat instead.\n",
      "  df = df.append(datarow, ignore_index=True)\n",
      "C:\\Users\\lando\\AppData\\Local\\Temp\\ipykernel_34800\\2238899073.py:61: FutureWarning: The frame.append method is deprecated and will be removed from pandas in a future version. Use pandas.concat instead.\n",
      "  df = df.append(datarow, ignore_index=True)\n",
      "C:\\Users\\lando\\AppData\\Local\\Temp\\ipykernel_34800\\2238899073.py:61: FutureWarning: The frame.append method is deprecated and will be removed from pandas in a future version. Use pandas.concat instead.\n",
      "  df = df.append(datarow, ignore_index=True)\n",
      "C:\\Users\\lando\\AppData\\Local\\Temp\\ipykernel_34800\\2238899073.py:61: FutureWarning: The frame.append method is deprecated and will be removed from pandas in a future version. Use pandas.concat instead.\n",
      "  df = df.append(datarow, ignore_index=True)\n",
      "C:\\Users\\lando\\AppData\\Local\\Temp\\ipykernel_34800\\2238899073.py:61: FutureWarning: The frame.append method is deprecated and will be removed from pandas in a future version. Use pandas.concat instead.\n",
      "  df = df.append(datarow, ignore_index=True)\n",
      "C:\\Users\\lando\\AppData\\Local\\Temp\\ipykernel_34800\\2238899073.py:61: FutureWarning: The frame.append method is deprecated and will be removed from pandas in a future version. Use pandas.concat instead.\n",
      "  df = df.append(datarow, ignore_index=True)\n",
      "C:\\Users\\lando\\AppData\\Local\\Temp\\ipykernel_34800\\2238899073.py:61: FutureWarning: The frame.append method is deprecated and will be removed from pandas in a future version. Use pandas.concat instead.\n",
      "  df = df.append(datarow, ignore_index=True)\n",
      "C:\\Users\\lando\\AppData\\Local\\Temp\\ipykernel_34800\\2238899073.py:61: FutureWarning: The frame.append method is deprecated and will be removed from pandas in a future version. Use pandas.concat instead.\n",
      "  df = df.append(datarow, ignore_index=True)\n",
      "C:\\Users\\lando\\AppData\\Local\\Temp\\ipykernel_34800\\2238899073.py:61: FutureWarning: The frame.append method is deprecated and will be removed from pandas in a future version. Use pandas.concat instead.\n",
      "  df = df.append(datarow, ignore_index=True)\n",
      "C:\\Users\\lando\\AppData\\Local\\Temp\\ipykernel_34800\\2238899073.py:61: FutureWarning: The frame.append method is deprecated and will be removed from pandas in a future version. Use pandas.concat instead.\n",
      "  df = df.append(datarow, ignore_index=True)\n",
      "C:\\Users\\lando\\AppData\\Local\\Temp\\ipykernel_34800\\2238899073.py:61: FutureWarning: The frame.append method is deprecated and will be removed from pandas in a future version. Use pandas.concat instead.\n",
      "  df = df.append(datarow, ignore_index=True)\n",
      "C:\\Users\\lando\\AppData\\Local\\Temp\\ipykernel_34800\\2238899073.py:61: FutureWarning: The frame.append method is deprecated and will be removed from pandas in a future version. Use pandas.concat instead.\n",
      "  df = df.append(datarow, ignore_index=True)\n",
      "C:\\Users\\lando\\AppData\\Local\\Temp\\ipykernel_34800\\2238899073.py:61: FutureWarning: The frame.append method is deprecated and will be removed from pandas in a future version. Use pandas.concat instead.\n",
      "  df = df.append(datarow, ignore_index=True)\n",
      "C:\\Users\\lando\\AppData\\Local\\Temp\\ipykernel_34800\\2238899073.py:61: FutureWarning: The frame.append method is deprecated and will be removed from pandas in a future version. Use pandas.concat instead.\n",
      "  df = df.append(datarow, ignore_index=True)\n",
      "C:\\Users\\lando\\AppData\\Local\\Temp\\ipykernel_34800\\2238899073.py:61: FutureWarning: The frame.append method is deprecated and will be removed from pandas in a future version. Use pandas.concat instead.\n",
      "  df = df.append(datarow, ignore_index=True)\n",
      "C:\\Users\\lando\\AppData\\Local\\Temp\\ipykernel_34800\\2238899073.py:61: FutureWarning: The frame.append method is deprecated and will be removed from pandas in a future version. Use pandas.concat instead.\n",
      "  df = df.append(datarow, ignore_index=True)\n",
      "C:\\Users\\lando\\AppData\\Local\\Temp\\ipykernel_34800\\2238899073.py:61: FutureWarning: The frame.append method is deprecated and will be removed from pandas in a future version. Use pandas.concat instead.\n",
      "  df = df.append(datarow, ignore_index=True)\n",
      "C:\\Users\\lando\\AppData\\Local\\Temp\\ipykernel_34800\\2238899073.py:61: FutureWarning: The frame.append method is deprecated and will be removed from pandas in a future version. Use pandas.concat instead.\n",
      "  df = df.append(datarow, ignore_index=True)\n",
      "C:\\Users\\lando\\AppData\\Local\\Temp\\ipykernel_34800\\2238899073.py:61: FutureWarning: The frame.append method is deprecated and will be removed from pandas in a future version. Use pandas.concat instead.\n",
      "  df = df.append(datarow, ignore_index=True)\n",
      "C:\\Users\\lando\\AppData\\Local\\Temp\\ipykernel_34800\\2238899073.py:61: FutureWarning: The frame.append method is deprecated and will be removed from pandas in a future version. Use pandas.concat instead.\n",
      "  df = df.append(datarow, ignore_index=True)\n",
      "C:\\Users\\lando\\AppData\\Local\\Temp\\ipykernel_34800\\2238899073.py:61: FutureWarning: The frame.append method is deprecated and will be removed from pandas in a future version. Use pandas.concat instead.\n",
      "  df = df.append(datarow, ignore_index=True)\n",
      "C:\\Users\\lando\\AppData\\Local\\Temp\\ipykernel_34800\\2238899073.py:61: FutureWarning: The frame.append method is deprecated and will be removed from pandas in a future version. Use pandas.concat instead.\n",
      "  df = df.append(datarow, ignore_index=True)\n",
      "C:\\Users\\lando\\AppData\\Local\\Temp\\ipykernel_34800\\2238899073.py:61: FutureWarning: The frame.append method is deprecated and will be removed from pandas in a future version. Use pandas.concat instead.\n",
      "  df = df.append(datarow, ignore_index=True)\n",
      "C:\\Users\\lando\\AppData\\Local\\Temp\\ipykernel_34800\\2238899073.py:61: FutureWarning: The frame.append method is deprecated and will be removed from pandas in a future version. Use pandas.concat instead.\n",
      "  df = df.append(datarow, ignore_index=True)\n",
      "C:\\Users\\lando\\AppData\\Local\\Temp\\ipykernel_34800\\2238899073.py:61: FutureWarning: The frame.append method is deprecated and will be removed from pandas in a future version. Use pandas.concat instead.\n",
      "  df = df.append(datarow, ignore_index=True)\n",
      "C:\\Users\\lando\\AppData\\Local\\Temp\\ipykernel_34800\\2238899073.py:61: FutureWarning: The frame.append method is deprecated and will be removed from pandas in a future version. Use pandas.concat instead.\n",
      "  df = df.append(datarow, ignore_index=True)\n",
      "C:\\Users\\lando\\AppData\\Local\\Temp\\ipykernel_34800\\2238899073.py:61: FutureWarning: The frame.append method is deprecated and will be removed from pandas in a future version. Use pandas.concat instead.\n",
      "  df = df.append(datarow, ignore_index=True)\n",
      "C:\\Users\\lando\\AppData\\Local\\Temp\\ipykernel_34800\\2238899073.py:61: FutureWarning: The frame.append method is deprecated and will be removed from pandas in a future version. Use pandas.concat instead.\n",
      "  df = df.append(datarow, ignore_index=True)\n",
      "C:\\Users\\lando\\AppData\\Local\\Temp\\ipykernel_34800\\2238899073.py:61: FutureWarning: The frame.append method is deprecated and will be removed from pandas in a future version. Use pandas.concat instead.\n",
      "  df = df.append(datarow, ignore_index=True)\n",
      "C:\\Users\\lando\\AppData\\Local\\Temp\\ipykernel_34800\\2238899073.py:61: FutureWarning: The frame.append method is deprecated and will be removed from pandas in a future version. Use pandas.concat instead.\n",
      "  df = df.append(datarow, ignore_index=True)\n",
      "C:\\Users\\lando\\AppData\\Local\\Temp\\ipykernel_34800\\2238899073.py:61: FutureWarning: The frame.append method is deprecated and will be removed from pandas in a future version. Use pandas.concat instead.\n",
      "  df = df.append(datarow, ignore_index=True)\n",
      "C:\\Users\\lando\\AppData\\Local\\Temp\\ipykernel_34800\\2238899073.py:61: FutureWarning: The frame.append method is deprecated and will be removed from pandas in a future version. Use pandas.concat instead.\n",
      "  df = df.append(datarow, ignore_index=True)\n",
      "C:\\Users\\lando\\AppData\\Local\\Temp\\ipykernel_34800\\2238899073.py:61: FutureWarning: The frame.append method is deprecated and will be removed from pandas in a future version. Use pandas.concat instead.\n",
      "  df = df.append(datarow, ignore_index=True)\n",
      "C:\\Users\\lando\\AppData\\Local\\Temp\\ipykernel_34800\\2238899073.py:61: FutureWarning: The frame.append method is deprecated and will be removed from pandas in a future version. Use pandas.concat instead.\n",
      "  df = df.append(datarow, ignore_index=True)\n",
      "C:\\Users\\lando\\AppData\\Local\\Temp\\ipykernel_34800\\2238899073.py:61: FutureWarning: The frame.append method is deprecated and will be removed from pandas in a future version. Use pandas.concat instead.\n",
      "  df = df.append(datarow, ignore_index=True)\n",
      "C:\\Users\\lando\\AppData\\Local\\Temp\\ipykernel_34800\\2238899073.py:61: FutureWarning: The frame.append method is deprecated and will be removed from pandas in a future version. Use pandas.concat instead.\n",
      "  df = df.append(datarow, ignore_index=True)\n",
      "C:\\Users\\lando\\AppData\\Local\\Temp\\ipykernel_34800\\2238899073.py:61: FutureWarning: The frame.append method is deprecated and will be removed from pandas in a future version. Use pandas.concat instead.\n",
      "  df = df.append(datarow, ignore_index=True)\n",
      "C:\\Users\\lando\\AppData\\Local\\Temp\\ipykernel_34800\\2238899073.py:61: FutureWarning: The frame.append method is deprecated and will be removed from pandas in a future version. Use pandas.concat instead.\n",
      "  df = df.append(datarow, ignore_index=True)\n",
      "C:\\Users\\lando\\AppData\\Local\\Temp\\ipykernel_34800\\2238899073.py:61: FutureWarning: The frame.append method is deprecated and will be removed from pandas in a future version. Use pandas.concat instead.\n",
      "  df = df.append(datarow, ignore_index=True)\n",
      "C:\\Users\\lando\\AppData\\Local\\Temp\\ipykernel_34800\\2238899073.py:61: FutureWarning: The frame.append method is deprecated and will be removed from pandas in a future version. Use pandas.concat instead.\n",
      "  df = df.append(datarow, ignore_index=True)\n",
      "C:\\Users\\lando\\AppData\\Local\\Temp\\ipykernel_34800\\2238899073.py:61: FutureWarning: The frame.append method is deprecated and will be removed from pandas in a future version. Use pandas.concat instead.\n",
      "  df = df.append(datarow, ignore_index=True)\n",
      "C:\\Users\\lando\\AppData\\Local\\Temp\\ipykernel_34800\\2238899073.py:61: FutureWarning: The frame.append method is deprecated and will be removed from pandas in a future version. Use pandas.concat instead.\n",
      "  df = df.append(datarow, ignore_index=True)\n",
      "C:\\Users\\lando\\AppData\\Local\\Temp\\ipykernel_34800\\2238899073.py:61: FutureWarning: The frame.append method is deprecated and will be removed from pandas in a future version. Use pandas.concat instead.\n",
      "  df = df.append(datarow, ignore_index=True)\n",
      "C:\\Users\\lando\\AppData\\Local\\Temp\\ipykernel_34800\\2238899073.py:61: FutureWarning: The frame.append method is deprecated and will be removed from pandas in a future version. Use pandas.concat instead.\n",
      "  df = df.append(datarow, ignore_index=True)\n",
      "C:\\Users\\lando\\AppData\\Local\\Temp\\ipykernel_34800\\2238899073.py:61: FutureWarning: The frame.append method is deprecated and will be removed from pandas in a future version. Use pandas.concat instead.\n",
      "  df = df.append(datarow, ignore_index=True)\n",
      "C:\\Users\\lando\\AppData\\Local\\Temp\\ipykernel_34800\\2238899073.py:61: FutureWarning: The frame.append method is deprecated and will be removed from pandas in a future version. Use pandas.concat instead.\n",
      "  df = df.append(datarow, ignore_index=True)\n",
      "C:\\Users\\lando\\AppData\\Local\\Temp\\ipykernel_34800\\2238899073.py:61: FutureWarning: The frame.append method is deprecated and will be removed from pandas in a future version. Use pandas.concat instead.\n",
      "  df = df.append(datarow, ignore_index=True)\n",
      "C:\\Users\\lando\\AppData\\Local\\Temp\\ipykernel_34800\\2238899073.py:61: FutureWarning: The frame.append method is deprecated and will be removed from pandas in a future version. Use pandas.concat instead.\n",
      "  df = df.append(datarow, ignore_index=True)\n",
      "C:\\Users\\lando\\AppData\\Local\\Temp\\ipykernel_34800\\2238899073.py:61: FutureWarning: The frame.append method is deprecated and will be removed from pandas in a future version. Use pandas.concat instead.\n",
      "  df = df.append(datarow, ignore_index=True)\n",
      "C:\\Users\\lando\\AppData\\Local\\Temp\\ipykernel_34800\\2238899073.py:61: FutureWarning: The frame.append method is deprecated and will be removed from pandas in a future version. Use pandas.concat instead.\n",
      "  df = df.append(datarow, ignore_index=True)\n",
      "C:\\Users\\lando\\AppData\\Local\\Temp\\ipykernel_34800\\2238899073.py:61: FutureWarning: The frame.append method is deprecated and will be removed from pandas in a future version. Use pandas.concat instead.\n",
      "  df = df.append(datarow, ignore_index=True)\n",
      "C:\\Users\\lando\\AppData\\Local\\Temp\\ipykernel_34800\\2238899073.py:61: FutureWarning: The frame.append method is deprecated and will be removed from pandas in a future version. Use pandas.concat instead.\n",
      "  df = df.append(datarow, ignore_index=True)\n",
      "C:\\Users\\lando\\AppData\\Local\\Temp\\ipykernel_34800\\2238899073.py:61: FutureWarning: The frame.append method is deprecated and will be removed from pandas in a future version. Use pandas.concat instead.\n",
      "  df = df.append(datarow, ignore_index=True)\n",
      "C:\\Users\\lando\\AppData\\Local\\Temp\\ipykernel_34800\\2238899073.py:61: FutureWarning: The frame.append method is deprecated and will be removed from pandas in a future version. Use pandas.concat instead.\n",
      "  df = df.append(datarow, ignore_index=True)\n",
      "C:\\Users\\lando\\AppData\\Local\\Temp\\ipykernel_34800\\2238899073.py:61: FutureWarning: The frame.append method is deprecated and will be removed from pandas in a future version. Use pandas.concat instead.\n",
      "  df = df.append(datarow, ignore_index=True)\n",
      "C:\\Users\\lando\\AppData\\Local\\Temp\\ipykernel_34800\\2238899073.py:61: FutureWarning: The frame.append method is deprecated and will be removed from pandas in a future version. Use pandas.concat instead.\n",
      "  df = df.append(datarow, ignore_index=True)\n",
      "C:\\Users\\lando\\AppData\\Local\\Temp\\ipykernel_34800\\2238899073.py:61: FutureWarning: The frame.append method is deprecated and will be removed from pandas in a future version. Use pandas.concat instead.\n",
      "  df = df.append(datarow, ignore_index=True)\n",
      "C:\\Users\\lando\\AppData\\Local\\Temp\\ipykernel_34800\\2238899073.py:61: FutureWarning: The frame.append method is deprecated and will be removed from pandas in a future version. Use pandas.concat instead.\n",
      "  df = df.append(datarow, ignore_index=True)\n",
      "C:\\Users\\lando\\AppData\\Local\\Temp\\ipykernel_34800\\2238899073.py:61: FutureWarning: The frame.append method is deprecated and will be removed from pandas in a future version. Use pandas.concat instead.\n",
      "  df = df.append(datarow, ignore_index=True)\n",
      "C:\\Users\\lando\\AppData\\Local\\Temp\\ipykernel_34800\\2238899073.py:61: FutureWarning: The frame.append method is deprecated and will be removed from pandas in a future version. Use pandas.concat instead.\n",
      "  df = df.append(datarow, ignore_index=True)\n",
      "C:\\Users\\lando\\AppData\\Local\\Temp\\ipykernel_34800\\2238899073.py:61: FutureWarning: The frame.append method is deprecated and will be removed from pandas in a future version. Use pandas.concat instead.\n",
      "  df = df.append(datarow, ignore_index=True)\n",
      "C:\\Users\\lando\\AppData\\Local\\Temp\\ipykernel_34800\\2238899073.py:61: FutureWarning: The frame.append method is deprecated and will be removed from pandas in a future version. Use pandas.concat instead.\n",
      "  df = df.append(datarow, ignore_index=True)\n",
      "C:\\Users\\lando\\AppData\\Local\\Temp\\ipykernel_34800\\2238899073.py:61: FutureWarning: The frame.append method is deprecated and will be removed from pandas in a future version. Use pandas.concat instead.\n",
      "  df = df.append(datarow, ignore_index=True)\n",
      "C:\\Users\\lando\\AppData\\Local\\Temp\\ipykernel_34800\\2238899073.py:61: FutureWarning: The frame.append method is deprecated and will be removed from pandas in a future version. Use pandas.concat instead.\n",
      "  df = df.append(datarow, ignore_index=True)\n",
      "C:\\Users\\lando\\AppData\\Local\\Temp\\ipykernel_34800\\2238899073.py:61: FutureWarning: The frame.append method is deprecated and will be removed from pandas in a future version. Use pandas.concat instead.\n",
      "  df = df.append(datarow, ignore_index=True)\n",
      "C:\\Users\\lando\\AppData\\Local\\Temp\\ipykernel_34800\\2238899073.py:61: FutureWarning: The frame.append method is deprecated and will be removed from pandas in a future version. Use pandas.concat instead.\n",
      "  df = df.append(datarow, ignore_index=True)\n",
      "C:\\Users\\lando\\AppData\\Local\\Temp\\ipykernel_34800\\2238899073.py:61: FutureWarning: The frame.append method is deprecated and will be removed from pandas in a future version. Use pandas.concat instead.\n",
      "  df = df.append(datarow, ignore_index=True)\n",
      "C:\\Users\\lando\\AppData\\Local\\Temp\\ipykernel_34800\\2238899073.py:61: FutureWarning: The frame.append method is deprecated and will be removed from pandas in a future version. Use pandas.concat instead.\n",
      "  df = df.append(datarow, ignore_index=True)\n",
      "C:\\Users\\lando\\AppData\\Local\\Temp\\ipykernel_34800\\2238899073.py:61: FutureWarning: The frame.append method is deprecated and will be removed from pandas in a future version. Use pandas.concat instead.\n",
      "  df = df.append(datarow, ignore_index=True)\n",
      "C:\\Users\\lando\\AppData\\Local\\Temp\\ipykernel_34800\\2238899073.py:61: FutureWarning: The frame.append method is deprecated and will be removed from pandas in a future version. Use pandas.concat instead.\n",
      "  df = df.append(datarow, ignore_index=True)\n",
      "C:\\Users\\lando\\AppData\\Local\\Temp\\ipykernel_34800\\2238899073.py:61: FutureWarning: The frame.append method is deprecated and will be removed from pandas in a future version. Use pandas.concat instead.\n",
      "  df = df.append(datarow, ignore_index=True)\n",
      "C:\\Users\\lando\\AppData\\Local\\Temp\\ipykernel_34800\\2238899073.py:61: FutureWarning: The frame.append method is deprecated and will be removed from pandas in a future version. Use pandas.concat instead.\n",
      "  df = df.append(datarow, ignore_index=True)\n",
      "C:\\Users\\lando\\AppData\\Local\\Temp\\ipykernel_34800\\2238899073.py:61: FutureWarning: The frame.append method is deprecated and will be removed from pandas in a future version. Use pandas.concat instead.\n",
      "  df = df.append(datarow, ignore_index=True)\n",
      "C:\\Users\\lando\\AppData\\Local\\Temp\\ipykernel_34800\\2238899073.py:61: FutureWarning: The frame.append method is deprecated and will be removed from pandas in a future version. Use pandas.concat instead.\n",
      "  df = df.append(datarow, ignore_index=True)\n",
      "C:\\Users\\lando\\AppData\\Local\\Temp\\ipykernel_34800\\2238899073.py:61: FutureWarning: The frame.append method is deprecated and will be removed from pandas in a future version. Use pandas.concat instead.\n",
      "  df = df.append(datarow, ignore_index=True)\n",
      "C:\\Users\\lando\\AppData\\Local\\Temp\\ipykernel_34800\\2238899073.py:61: FutureWarning: The frame.append method is deprecated and will be removed from pandas in a future version. Use pandas.concat instead.\n",
      "  df = df.append(datarow, ignore_index=True)\n",
      "C:\\Users\\lando\\AppData\\Local\\Temp\\ipykernel_34800\\2238899073.py:61: FutureWarning: The frame.append method is deprecated and will be removed from pandas in a future version. Use pandas.concat instead.\n",
      "  df = df.append(datarow, ignore_index=True)\n",
      "C:\\Users\\lando\\AppData\\Local\\Temp\\ipykernel_34800\\2238899073.py:61: FutureWarning: The frame.append method is deprecated and will be removed from pandas in a future version. Use pandas.concat instead.\n",
      "  df = df.append(datarow, ignore_index=True)\n",
      "C:\\Users\\lando\\AppData\\Local\\Temp\\ipykernel_34800\\2238899073.py:61: FutureWarning: The frame.append method is deprecated and will be removed from pandas in a future version. Use pandas.concat instead.\n",
      "  df = df.append(datarow, ignore_index=True)\n",
      "C:\\Users\\lando\\AppData\\Local\\Temp\\ipykernel_34800\\2238899073.py:61: FutureWarning: The frame.append method is deprecated and will be removed from pandas in a future version. Use pandas.concat instead.\n",
      "  df = df.append(datarow, ignore_index=True)\n",
      "C:\\Users\\lando\\AppData\\Local\\Temp\\ipykernel_34800\\2238899073.py:61: FutureWarning: The frame.append method is deprecated and will be removed from pandas in a future version. Use pandas.concat instead.\n",
      "  df = df.append(datarow, ignore_index=True)\n",
      "C:\\Users\\lando\\AppData\\Local\\Temp\\ipykernel_34800\\2238899073.py:61: FutureWarning: The frame.append method is deprecated and will be removed from pandas in a future version. Use pandas.concat instead.\n",
      "  df = df.append(datarow, ignore_index=True)\n",
      "C:\\Users\\lando\\AppData\\Local\\Temp\\ipykernel_34800\\2238899073.py:61: FutureWarning: The frame.append method is deprecated and will be removed from pandas in a future version. Use pandas.concat instead.\n",
      "  df = df.append(datarow, ignore_index=True)\n",
      "C:\\Users\\lando\\AppData\\Local\\Temp\\ipykernel_34800\\2238899073.py:61: FutureWarning: The frame.append method is deprecated and will be removed from pandas in a future version. Use pandas.concat instead.\n",
      "  df = df.append(datarow, ignore_index=True)\n",
      "C:\\Users\\lando\\AppData\\Local\\Temp\\ipykernel_34800\\2238899073.py:61: FutureWarning: The frame.append method is deprecated and will be removed from pandas in a future version. Use pandas.concat instead.\n",
      "  df = df.append(datarow, ignore_index=True)\n",
      "C:\\Users\\lando\\AppData\\Local\\Temp\\ipykernel_34800\\2238899073.py:61: FutureWarning: The frame.append method is deprecated and will be removed from pandas in a future version. Use pandas.concat instead.\n",
      "  df = df.append(datarow, ignore_index=True)\n",
      "C:\\Users\\lando\\AppData\\Local\\Temp\\ipykernel_34800\\2238899073.py:61: FutureWarning: The frame.append method is deprecated and will be removed from pandas in a future version. Use pandas.concat instead.\n",
      "  df = df.append(datarow, ignore_index=True)\n",
      "C:\\Users\\lando\\AppData\\Local\\Temp\\ipykernel_34800\\2238899073.py:61: FutureWarning: The frame.append method is deprecated and will be removed from pandas in a future version. Use pandas.concat instead.\n",
      "  df = df.append(datarow, ignore_index=True)\n",
      "C:\\Users\\lando\\AppData\\Local\\Temp\\ipykernel_34800\\2238899073.py:61: FutureWarning: The frame.append method is deprecated and will be removed from pandas in a future version. Use pandas.concat instead.\n",
      "  df = df.append(datarow, ignore_index=True)\n",
      "C:\\Users\\lando\\AppData\\Local\\Temp\\ipykernel_34800\\2238899073.py:61: FutureWarning: The frame.append method is deprecated and will be removed from pandas in a future version. Use pandas.concat instead.\n",
      "  df = df.append(datarow, ignore_index=True)\n",
      "C:\\Users\\lando\\AppData\\Local\\Temp\\ipykernel_34800\\2238899073.py:61: FutureWarning: The frame.append method is deprecated and will be removed from pandas in a future version. Use pandas.concat instead.\n",
      "  df = df.append(datarow, ignore_index=True)\n",
      "C:\\Users\\lando\\AppData\\Local\\Temp\\ipykernel_34800\\2238899073.py:61: FutureWarning: The frame.append method is deprecated and will be removed from pandas in a future version. Use pandas.concat instead.\n",
      "  df = df.append(datarow, ignore_index=True)\n",
      "C:\\Users\\lando\\AppData\\Local\\Temp\\ipykernel_34800\\2238899073.py:61: FutureWarning: The frame.append method is deprecated and will be removed from pandas in a future version. Use pandas.concat instead.\n",
      "  df = df.append(datarow, ignore_index=True)\n",
      "C:\\Users\\lando\\AppData\\Local\\Temp\\ipykernel_34800\\2238899073.py:61: FutureWarning: The frame.append method is deprecated and will be removed from pandas in a future version. Use pandas.concat instead.\n",
      "  df = df.append(datarow, ignore_index=True)\n",
      "C:\\Users\\lando\\AppData\\Local\\Temp\\ipykernel_34800\\2238899073.py:61: FutureWarning: The frame.append method is deprecated and will be removed from pandas in a future version. Use pandas.concat instead.\n",
      "  df = df.append(datarow, ignore_index=True)\n",
      "C:\\Users\\lando\\AppData\\Local\\Temp\\ipykernel_34800\\2238899073.py:61: FutureWarning: The frame.append method is deprecated and will be removed from pandas in a future version. Use pandas.concat instead.\n",
      "  df = df.append(datarow, ignore_index=True)\n",
      "C:\\Users\\lando\\AppData\\Local\\Temp\\ipykernel_34800\\2238899073.py:61: FutureWarning: The frame.append method is deprecated and will be removed from pandas in a future version. Use pandas.concat instead.\n",
      "  df = df.append(datarow, ignore_index=True)\n",
      "C:\\Users\\lando\\AppData\\Local\\Temp\\ipykernel_34800\\2238899073.py:61: FutureWarning: The frame.append method is deprecated and will be removed from pandas in a future version. Use pandas.concat instead.\n",
      "  df = df.append(datarow, ignore_index=True)\n",
      "C:\\Users\\lando\\AppData\\Local\\Temp\\ipykernel_34800\\2238899073.py:61: FutureWarning: The frame.append method is deprecated and will be removed from pandas in a future version. Use pandas.concat instead.\n",
      "  df = df.append(datarow, ignore_index=True)\n",
      "C:\\Users\\lando\\AppData\\Local\\Temp\\ipykernel_34800\\2238899073.py:61: FutureWarning: The frame.append method is deprecated and will be removed from pandas in a future version. Use pandas.concat instead.\n",
      "  df = df.append(datarow, ignore_index=True)\n",
      "C:\\Users\\lando\\AppData\\Local\\Temp\\ipykernel_34800\\2238899073.py:61: FutureWarning: The frame.append method is deprecated and will be removed from pandas in a future version. Use pandas.concat instead.\n",
      "  df = df.append(datarow, ignore_index=True)\n",
      "C:\\Users\\lando\\AppData\\Local\\Temp\\ipykernel_34800\\2238899073.py:61: FutureWarning: The frame.append method is deprecated and will be removed from pandas in a future version. Use pandas.concat instead.\n",
      "  df = df.append(datarow, ignore_index=True)\n",
      "C:\\Users\\lando\\AppData\\Local\\Temp\\ipykernel_34800\\2238899073.py:61: FutureWarning: The frame.append method is deprecated and will be removed from pandas in a future version. Use pandas.concat instead.\n",
      "  df = df.append(datarow, ignore_index=True)\n",
      "C:\\Users\\lando\\AppData\\Local\\Temp\\ipykernel_34800\\2238899073.py:61: FutureWarning: The frame.append method is deprecated and will be removed from pandas in a future version. Use pandas.concat instead.\n",
      "  df = df.append(datarow, ignore_index=True)\n",
      "C:\\Users\\lando\\AppData\\Local\\Temp\\ipykernel_34800\\2238899073.py:61: FutureWarning: The frame.append method is deprecated and will be removed from pandas in a future version. Use pandas.concat instead.\n",
      "  df = df.append(datarow, ignore_index=True)\n",
      "C:\\Users\\lando\\AppData\\Local\\Temp\\ipykernel_34800\\2238899073.py:61: FutureWarning: The frame.append method is deprecated and will be removed from pandas in a future version. Use pandas.concat instead.\n",
      "  df = df.append(datarow, ignore_index=True)\n",
      "C:\\Users\\lando\\AppData\\Local\\Temp\\ipykernel_34800\\2238899073.py:61: FutureWarning: The frame.append method is deprecated and will be removed from pandas in a future version. Use pandas.concat instead.\n",
      "  df = df.append(datarow, ignore_index=True)\n",
      "C:\\Users\\lando\\AppData\\Local\\Temp\\ipykernel_34800\\2238899073.py:61: FutureWarning: The frame.append method is deprecated and will be removed from pandas in a future version. Use pandas.concat instead.\n",
      "  df = df.append(datarow, ignore_index=True)\n",
      "C:\\Users\\lando\\AppData\\Local\\Temp\\ipykernel_34800\\2238899073.py:61: FutureWarning: The frame.append method is deprecated and will be removed from pandas in a future version. Use pandas.concat instead.\n",
      "  df = df.append(datarow, ignore_index=True)\n",
      "C:\\Users\\lando\\AppData\\Local\\Temp\\ipykernel_34800\\2238899073.py:61: FutureWarning: The frame.append method is deprecated and will be removed from pandas in a future version. Use pandas.concat instead.\n",
      "  df = df.append(datarow, ignore_index=True)\n",
      "C:\\Users\\lando\\AppData\\Local\\Temp\\ipykernel_34800\\2238899073.py:61: FutureWarning: The frame.append method is deprecated and will be removed from pandas in a future version. Use pandas.concat instead.\n",
      "  df = df.append(datarow, ignore_index=True)\n",
      "C:\\Users\\lando\\AppData\\Local\\Temp\\ipykernel_34800\\2238899073.py:61: FutureWarning: The frame.append method is deprecated and will be removed from pandas in a future version. Use pandas.concat instead.\n",
      "  df = df.append(datarow, ignore_index=True)\n",
      "C:\\Users\\lando\\AppData\\Local\\Temp\\ipykernel_34800\\2238899073.py:61: FutureWarning: The frame.append method is deprecated and will be removed from pandas in a future version. Use pandas.concat instead.\n",
      "  df = df.append(datarow, ignore_index=True)\n",
      "C:\\Users\\lando\\AppData\\Local\\Temp\\ipykernel_34800\\2238899073.py:61: FutureWarning: The frame.append method is deprecated and will be removed from pandas in a future version. Use pandas.concat instead.\n",
      "  df = df.append(datarow, ignore_index=True)\n",
      "C:\\Users\\lando\\AppData\\Local\\Temp\\ipykernel_34800\\2238899073.py:61: FutureWarning: The frame.append method is deprecated and will be removed from pandas in a future version. Use pandas.concat instead.\n",
      "  df = df.append(datarow, ignore_index=True)\n",
      "C:\\Users\\lando\\AppData\\Local\\Temp\\ipykernel_34800\\2238899073.py:61: FutureWarning: The frame.append method is deprecated and will be removed from pandas in a future version. Use pandas.concat instead.\n",
      "  df = df.append(datarow, ignore_index=True)\n",
      "C:\\Users\\lando\\AppData\\Local\\Temp\\ipykernel_34800\\2238899073.py:61: FutureWarning: The frame.append method is deprecated and will be removed from pandas in a future version. Use pandas.concat instead.\n",
      "  df = df.append(datarow, ignore_index=True)\n",
      "C:\\Users\\lando\\AppData\\Local\\Temp\\ipykernel_34800\\2238899073.py:61: FutureWarning: The frame.append method is deprecated and will be removed from pandas in a future version. Use pandas.concat instead.\n",
      "  df = df.append(datarow, ignore_index=True)\n",
      "C:\\Users\\lando\\AppData\\Local\\Temp\\ipykernel_34800\\2238899073.py:61: FutureWarning: The frame.append method is deprecated and will be removed from pandas in a future version. Use pandas.concat instead.\n",
      "  df = df.append(datarow, ignore_index=True)\n",
      "C:\\Users\\lando\\AppData\\Local\\Temp\\ipykernel_34800\\2238899073.py:61: FutureWarning: The frame.append method is deprecated and will be removed from pandas in a future version. Use pandas.concat instead.\n",
      "  df = df.append(datarow, ignore_index=True)\n",
      "C:\\Users\\lando\\AppData\\Local\\Temp\\ipykernel_34800\\2238899073.py:61: FutureWarning: The frame.append method is deprecated and will be removed from pandas in a future version. Use pandas.concat instead.\n",
      "  df = df.append(datarow, ignore_index=True)\n",
      "C:\\Users\\lando\\AppData\\Local\\Temp\\ipykernel_34800\\2238899073.py:61: FutureWarning: The frame.append method is deprecated and will be removed from pandas in a future version. Use pandas.concat instead.\n",
      "  df = df.append(datarow, ignore_index=True)\n",
      "C:\\Users\\lando\\AppData\\Local\\Temp\\ipykernel_34800\\2238899073.py:61: FutureWarning: The frame.append method is deprecated and will be removed from pandas in a future version. Use pandas.concat instead.\n",
      "  df = df.append(datarow, ignore_index=True)\n",
      "C:\\Users\\lando\\AppData\\Local\\Temp\\ipykernel_34800\\2238899073.py:61: FutureWarning: The frame.append method is deprecated and will be removed from pandas in a future version. Use pandas.concat instead.\n",
      "  df = df.append(datarow, ignore_index=True)\n",
      "C:\\Users\\lando\\AppData\\Local\\Temp\\ipykernel_34800\\2238899073.py:61: FutureWarning: The frame.append method is deprecated and will be removed from pandas in a future version. Use pandas.concat instead.\n",
      "  df = df.append(datarow, ignore_index=True)\n",
      "C:\\Users\\lando\\AppData\\Local\\Temp\\ipykernel_34800\\2238899073.py:61: FutureWarning: The frame.append method is deprecated and will be removed from pandas in a future version. Use pandas.concat instead.\n",
      "  df = df.append(datarow, ignore_index=True)\n",
      "C:\\Users\\lando\\AppData\\Local\\Temp\\ipykernel_34800\\2238899073.py:61: FutureWarning: The frame.append method is deprecated and will be removed from pandas in a future version. Use pandas.concat instead.\n",
      "  df = df.append(datarow, ignore_index=True)\n",
      "C:\\Users\\lando\\AppData\\Local\\Temp\\ipykernel_34800\\2238899073.py:61: FutureWarning: The frame.append method is deprecated and will be removed from pandas in a future version. Use pandas.concat instead.\n",
      "  df = df.append(datarow, ignore_index=True)\n",
      "C:\\Users\\lando\\AppData\\Local\\Temp\\ipykernel_34800\\2238899073.py:61: FutureWarning: The frame.append method is deprecated and will be removed from pandas in a future version. Use pandas.concat instead.\n",
      "  df = df.append(datarow, ignore_index=True)\n",
      "C:\\Users\\lando\\AppData\\Local\\Temp\\ipykernel_34800\\2238899073.py:61: FutureWarning: The frame.append method is deprecated and will be removed from pandas in a future version. Use pandas.concat instead.\n",
      "  df = df.append(datarow, ignore_index=True)\n",
      "C:\\Users\\lando\\AppData\\Local\\Temp\\ipykernel_34800\\2238899073.py:61: FutureWarning: The frame.append method is deprecated and will be removed from pandas in a future version. Use pandas.concat instead.\n",
      "  df = df.append(datarow, ignore_index=True)\n",
      "C:\\Users\\lando\\AppData\\Local\\Temp\\ipykernel_34800\\2238899073.py:61: FutureWarning: The frame.append method is deprecated and will be removed from pandas in a future version. Use pandas.concat instead.\n",
      "  df = df.append(datarow, ignore_index=True)\n",
      "C:\\Users\\lando\\AppData\\Local\\Temp\\ipykernel_34800\\2238899073.py:61: FutureWarning: The frame.append method is deprecated and will be removed from pandas in a future version. Use pandas.concat instead.\n",
      "  df = df.append(datarow, ignore_index=True)\n",
      "C:\\Users\\lando\\AppData\\Local\\Temp\\ipykernel_34800\\2238899073.py:61: FutureWarning: The frame.append method is deprecated and will be removed from pandas in a future version. Use pandas.concat instead.\n",
      "  df = df.append(datarow, ignore_index=True)\n",
      "C:\\Users\\lando\\AppData\\Local\\Temp\\ipykernel_34800\\2238899073.py:61: FutureWarning: The frame.append method is deprecated and will be removed from pandas in a future version. Use pandas.concat instead.\n",
      "  df = df.append(datarow, ignore_index=True)\n",
      "C:\\Users\\lando\\AppData\\Local\\Temp\\ipykernel_34800\\2238899073.py:61: FutureWarning: The frame.append method is deprecated and will be removed from pandas in a future version. Use pandas.concat instead.\n",
      "  df = df.append(datarow, ignore_index=True)\n",
      "C:\\Users\\lando\\AppData\\Local\\Temp\\ipykernel_34800\\2238899073.py:61: FutureWarning: The frame.append method is deprecated and will be removed from pandas in a future version. Use pandas.concat instead.\n",
      "  df = df.append(datarow, ignore_index=True)\n",
      "C:\\Users\\lando\\AppData\\Local\\Temp\\ipykernel_34800\\2238899073.py:61: FutureWarning: The frame.append method is deprecated and will be removed from pandas in a future version. Use pandas.concat instead.\n",
      "  df = df.append(datarow, ignore_index=True)\n",
      "C:\\Users\\lando\\AppData\\Local\\Temp\\ipykernel_34800\\2238899073.py:61: FutureWarning: The frame.append method is deprecated and will be removed from pandas in a future version. Use pandas.concat instead.\n",
      "  df = df.append(datarow, ignore_index=True)\n",
      "C:\\Users\\lando\\AppData\\Local\\Temp\\ipykernel_34800\\2238899073.py:61: FutureWarning: The frame.append method is deprecated and will be removed from pandas in a future version. Use pandas.concat instead.\n",
      "  df = df.append(datarow, ignore_index=True)\n",
      "C:\\Users\\lando\\AppData\\Local\\Temp\\ipykernel_34800\\2238899073.py:61: FutureWarning: The frame.append method is deprecated and will be removed from pandas in a future version. Use pandas.concat instead.\n",
      "  df = df.append(datarow, ignore_index=True)\n",
      "C:\\Users\\lando\\AppData\\Local\\Temp\\ipykernel_34800\\2238899073.py:61: FutureWarning: The frame.append method is deprecated and will be removed from pandas in a future version. Use pandas.concat instead.\n",
      "  df = df.append(datarow, ignore_index=True)\n",
      "C:\\Users\\lando\\AppData\\Local\\Temp\\ipykernel_34800\\2238899073.py:61: FutureWarning: The frame.append method is deprecated and will be removed from pandas in a future version. Use pandas.concat instead.\n",
      "  df = df.append(datarow, ignore_index=True)\n",
      "C:\\Users\\lando\\AppData\\Local\\Temp\\ipykernel_34800\\2238899073.py:61: FutureWarning: The frame.append method is deprecated and will be removed from pandas in a future version. Use pandas.concat instead.\n",
      "  df = df.append(datarow, ignore_index=True)\n",
      "C:\\Users\\lando\\AppData\\Local\\Temp\\ipykernel_34800\\2238899073.py:61: FutureWarning: The frame.append method is deprecated and will be removed from pandas in a future version. Use pandas.concat instead.\n",
      "  df = df.append(datarow, ignore_index=True)\n",
      "C:\\Users\\lando\\AppData\\Local\\Temp\\ipykernel_34800\\2238899073.py:61: FutureWarning: The frame.append method is deprecated and will be removed from pandas in a future version. Use pandas.concat instead.\n",
      "  df = df.append(datarow, ignore_index=True)\n",
      "C:\\Users\\lando\\AppData\\Local\\Temp\\ipykernel_34800\\2238899073.py:61: FutureWarning: The frame.append method is deprecated and will be removed from pandas in a future version. Use pandas.concat instead.\n",
      "  df = df.append(datarow, ignore_index=True)\n",
      "C:\\Users\\lando\\AppData\\Local\\Temp\\ipykernel_34800\\2238899073.py:61: FutureWarning: The frame.append method is deprecated and will be removed from pandas in a future version. Use pandas.concat instead.\n",
      "  df = df.append(datarow, ignore_index=True)\n",
      "C:\\Users\\lando\\AppData\\Local\\Temp\\ipykernel_34800\\2238899073.py:61: FutureWarning: The frame.append method is deprecated and will be removed from pandas in a future version. Use pandas.concat instead.\n",
      "  df = df.append(datarow, ignore_index=True)\n",
      "C:\\Users\\lando\\AppData\\Local\\Temp\\ipykernel_34800\\2238899073.py:61: FutureWarning: The frame.append method is deprecated and will be removed from pandas in a future version. Use pandas.concat instead.\n",
      "  df = df.append(datarow, ignore_index=True)\n",
      "C:\\Users\\lando\\AppData\\Local\\Temp\\ipykernel_34800\\2238899073.py:61: FutureWarning: The frame.append method is deprecated and will be removed from pandas in a future version. Use pandas.concat instead.\n",
      "  df = df.append(datarow, ignore_index=True)\n",
      "C:\\Users\\lando\\AppData\\Local\\Temp\\ipykernel_34800\\2238899073.py:61: FutureWarning: The frame.append method is deprecated and will be removed from pandas in a future version. Use pandas.concat instead.\n",
      "  df = df.append(datarow, ignore_index=True)\n",
      "C:\\Users\\lando\\AppData\\Local\\Temp\\ipykernel_34800\\2238899073.py:61: FutureWarning: The frame.append method is deprecated and will be removed from pandas in a future version. Use pandas.concat instead.\n",
      "  df = df.append(datarow, ignore_index=True)\n",
      "C:\\Users\\lando\\AppData\\Local\\Temp\\ipykernel_34800\\2238899073.py:61: FutureWarning: The frame.append method is deprecated and will be removed from pandas in a future version. Use pandas.concat instead.\n",
      "  df = df.append(datarow, ignore_index=True)\n",
      "C:\\Users\\lando\\AppData\\Local\\Temp\\ipykernel_34800\\2238899073.py:61: FutureWarning: The frame.append method is deprecated and will be removed from pandas in a future version. Use pandas.concat instead.\n",
      "  df = df.append(datarow, ignore_index=True)\n",
      "C:\\Users\\lando\\AppData\\Local\\Temp\\ipykernel_34800\\2238899073.py:61: FutureWarning: The frame.append method is deprecated and will be removed from pandas in a future version. Use pandas.concat instead.\n",
      "  df = df.append(datarow, ignore_index=True)\n",
      "C:\\Users\\lando\\AppData\\Local\\Temp\\ipykernel_34800\\2238899073.py:61: FutureWarning: The frame.append method is deprecated and will be removed from pandas in a future version. Use pandas.concat instead.\n",
      "  df = df.append(datarow, ignore_index=True)\n",
      "C:\\Users\\lando\\AppData\\Local\\Temp\\ipykernel_34800\\2238899073.py:61: FutureWarning: The frame.append method is deprecated and will be removed from pandas in a future version. Use pandas.concat instead.\n",
      "  df = df.append(datarow, ignore_index=True)\n",
      "C:\\Users\\lando\\AppData\\Local\\Temp\\ipykernel_34800\\2238899073.py:61: FutureWarning: The frame.append method is deprecated and will be removed from pandas in a future version. Use pandas.concat instead.\n",
      "  df = df.append(datarow, ignore_index=True)\n",
      "C:\\Users\\lando\\AppData\\Local\\Temp\\ipykernel_34800\\2238899073.py:61: FutureWarning: The frame.append method is deprecated and will be removed from pandas in a future version. Use pandas.concat instead.\n",
      "  df = df.append(datarow, ignore_index=True)\n",
      "C:\\Users\\lando\\AppData\\Local\\Temp\\ipykernel_34800\\2238899073.py:61: FutureWarning: The frame.append method is deprecated and will be removed from pandas in a future version. Use pandas.concat instead.\n",
      "  df = df.append(datarow, ignore_index=True)\n",
      "C:\\Users\\lando\\AppData\\Local\\Temp\\ipykernel_34800\\2238899073.py:61: FutureWarning: The frame.append method is deprecated and will be removed from pandas in a future version. Use pandas.concat instead.\n",
      "  df = df.append(datarow, ignore_index=True)\n",
      "C:\\Users\\lando\\AppData\\Local\\Temp\\ipykernel_34800\\2238899073.py:61: FutureWarning: The frame.append method is deprecated and will be removed from pandas in a future version. Use pandas.concat instead.\n",
      "  df = df.append(datarow, ignore_index=True)\n",
      "C:\\Users\\lando\\AppData\\Local\\Temp\\ipykernel_34800\\2238899073.py:61: FutureWarning: The frame.append method is deprecated and will be removed from pandas in a future version. Use pandas.concat instead.\n",
      "  df = df.append(datarow, ignore_index=True)\n",
      "C:\\Users\\lando\\AppData\\Local\\Temp\\ipykernel_34800\\2238899073.py:61: FutureWarning: The frame.append method is deprecated and will be removed from pandas in a future version. Use pandas.concat instead.\n",
      "  df = df.append(datarow, ignore_index=True)\n",
      "C:\\Users\\lando\\AppData\\Local\\Temp\\ipykernel_34800\\2238899073.py:61: FutureWarning: The frame.append method is deprecated and will be removed from pandas in a future version. Use pandas.concat instead.\n",
      "  df = df.append(datarow, ignore_index=True)\n",
      "C:\\Users\\lando\\AppData\\Local\\Temp\\ipykernel_34800\\2238899073.py:61: FutureWarning: The frame.append method is deprecated and will be removed from pandas in a future version. Use pandas.concat instead.\n",
      "  df = df.append(datarow, ignore_index=True)\n",
      "C:\\Users\\lando\\AppData\\Local\\Temp\\ipykernel_34800\\2238899073.py:61: FutureWarning: The frame.append method is deprecated and will be removed from pandas in a future version. Use pandas.concat instead.\n",
      "  df = df.append(datarow, ignore_index=True)\n",
      "C:\\Users\\lando\\AppData\\Local\\Temp\\ipykernel_34800\\2238899073.py:61: FutureWarning: The frame.append method is deprecated and will be removed from pandas in a future version. Use pandas.concat instead.\n",
      "  df = df.append(datarow, ignore_index=True)\n",
      "C:\\Users\\lando\\AppData\\Local\\Temp\\ipykernel_34800\\2238899073.py:61: FutureWarning: The frame.append method is deprecated and will be removed from pandas in a future version. Use pandas.concat instead.\n",
      "  df = df.append(datarow, ignore_index=True)\n",
      "C:\\Users\\lando\\AppData\\Local\\Temp\\ipykernel_34800\\2238899073.py:61: FutureWarning: The frame.append method is deprecated and will be removed from pandas in a future version. Use pandas.concat instead.\n",
      "  df = df.append(datarow, ignore_index=True)\n",
      "C:\\Users\\lando\\AppData\\Local\\Temp\\ipykernel_34800\\2238899073.py:61: FutureWarning: The frame.append method is deprecated and will be removed from pandas in a future version. Use pandas.concat instead.\n",
      "  df = df.append(datarow, ignore_index=True)\n",
      "C:\\Users\\lando\\AppData\\Local\\Temp\\ipykernel_34800\\2238899073.py:61: FutureWarning: The frame.append method is deprecated and will be removed from pandas in a future version. Use pandas.concat instead.\n",
      "  df = df.append(datarow, ignore_index=True)\n",
      "C:\\Users\\lando\\AppData\\Local\\Temp\\ipykernel_34800\\2238899073.py:61: FutureWarning: The frame.append method is deprecated and will be removed from pandas in a future version. Use pandas.concat instead.\n",
      "  df = df.append(datarow, ignore_index=True)\n",
      "C:\\Users\\lando\\AppData\\Local\\Temp\\ipykernel_34800\\2238899073.py:61: FutureWarning: The frame.append method is deprecated and will be removed from pandas in a future version. Use pandas.concat instead.\n",
      "  df = df.append(datarow, ignore_index=True)\n",
      "C:\\Users\\lando\\AppData\\Local\\Temp\\ipykernel_34800\\2238899073.py:61: FutureWarning: The frame.append method is deprecated and will be removed from pandas in a future version. Use pandas.concat instead.\n",
      "  df = df.append(datarow, ignore_index=True)\n",
      "C:\\Users\\lando\\AppData\\Local\\Temp\\ipykernel_34800\\2238899073.py:61: FutureWarning: The frame.append method is deprecated and will be removed from pandas in a future version. Use pandas.concat instead.\n",
      "  df = df.append(datarow, ignore_index=True)\n",
      "C:\\Users\\lando\\AppData\\Local\\Temp\\ipykernel_34800\\2238899073.py:61: FutureWarning: The frame.append method is deprecated and will be removed from pandas in a future version. Use pandas.concat instead.\n",
      "  df = df.append(datarow, ignore_index=True)\n",
      "C:\\Users\\lando\\AppData\\Local\\Temp\\ipykernel_34800\\2238899073.py:61: FutureWarning: The frame.append method is deprecated and will be removed from pandas in a future version. Use pandas.concat instead.\n",
      "  df = df.append(datarow, ignore_index=True)\n",
      "C:\\Users\\lando\\AppData\\Local\\Temp\\ipykernel_34800\\2238899073.py:61: FutureWarning: The frame.append method is deprecated and will be removed from pandas in a future version. Use pandas.concat instead.\n",
      "  df = df.append(datarow, ignore_index=True)\n",
      "C:\\Users\\lando\\AppData\\Local\\Temp\\ipykernel_34800\\2238899073.py:61: FutureWarning: The frame.append method is deprecated and will be removed from pandas in a future version. Use pandas.concat instead.\n",
      "  df = df.append(datarow, ignore_index=True)\n",
      "C:\\Users\\lando\\AppData\\Local\\Temp\\ipykernel_34800\\2238899073.py:61: FutureWarning: The frame.append method is deprecated and will be removed from pandas in a future version. Use pandas.concat instead.\n",
      "  df = df.append(datarow, ignore_index=True)\n",
      "C:\\Users\\lando\\AppData\\Local\\Temp\\ipykernel_34800\\2238899073.py:61: FutureWarning: The frame.append method is deprecated and will be removed from pandas in a future version. Use pandas.concat instead.\n",
      "  df = df.append(datarow, ignore_index=True)\n",
      "C:\\Users\\lando\\AppData\\Local\\Temp\\ipykernel_34800\\2238899073.py:61: FutureWarning: The frame.append method is deprecated and will be removed from pandas in a future version. Use pandas.concat instead.\n",
      "  df = df.append(datarow, ignore_index=True)\n",
      "C:\\Users\\lando\\AppData\\Local\\Temp\\ipykernel_34800\\2238899073.py:61: FutureWarning: The frame.append method is deprecated and will be removed from pandas in a future version. Use pandas.concat instead.\n",
      "  df = df.append(datarow, ignore_index=True)\n",
      "C:\\Users\\lando\\AppData\\Local\\Temp\\ipykernel_34800\\2238899073.py:61: FutureWarning: The frame.append method is deprecated and will be removed from pandas in a future version. Use pandas.concat instead.\n",
      "  df = df.append(datarow, ignore_index=True)\n",
      "C:\\Users\\lando\\AppData\\Local\\Temp\\ipykernel_34800\\2238899073.py:61: FutureWarning: The frame.append method is deprecated and will be removed from pandas in a future version. Use pandas.concat instead.\n",
      "  df = df.append(datarow, ignore_index=True)\n",
      "C:\\Users\\lando\\AppData\\Local\\Temp\\ipykernel_34800\\2238899073.py:61: FutureWarning: The frame.append method is deprecated and will be removed from pandas in a future version. Use pandas.concat instead.\n",
      "  df = df.append(datarow, ignore_index=True)\n",
      "C:\\Users\\lando\\AppData\\Local\\Temp\\ipykernel_34800\\2238899073.py:61: FutureWarning: The frame.append method is deprecated and will be removed from pandas in a future version. Use pandas.concat instead.\n",
      "  df = df.append(datarow, ignore_index=True)\n",
      "C:\\Users\\lando\\AppData\\Local\\Temp\\ipykernel_34800\\2238899073.py:61: FutureWarning: The frame.append method is deprecated and will be removed from pandas in a future version. Use pandas.concat instead.\n",
      "  df = df.append(datarow, ignore_index=True)\n",
      "C:\\Users\\lando\\AppData\\Local\\Temp\\ipykernel_34800\\2238899073.py:61: FutureWarning: The frame.append method is deprecated and will be removed from pandas in a future version. Use pandas.concat instead.\n",
      "  df = df.append(datarow, ignore_index=True)\n",
      "C:\\Users\\lando\\AppData\\Local\\Temp\\ipykernel_34800\\2238899073.py:61: FutureWarning: The frame.append method is deprecated and will be removed from pandas in a future version. Use pandas.concat instead.\n",
      "  df = df.append(datarow, ignore_index=True)\n",
      "C:\\Users\\lando\\AppData\\Local\\Temp\\ipykernel_34800\\2238899073.py:61: FutureWarning: The frame.append method is deprecated and will be removed from pandas in a future version. Use pandas.concat instead.\n",
      "  df = df.append(datarow, ignore_index=True)\n",
      "C:\\Users\\lando\\AppData\\Local\\Temp\\ipykernel_34800\\2238899073.py:61: FutureWarning: The frame.append method is deprecated and will be removed from pandas in a future version. Use pandas.concat instead.\n",
      "  df = df.append(datarow, ignore_index=True)\n",
      "C:\\Users\\lando\\AppData\\Local\\Temp\\ipykernel_34800\\2238899073.py:61: FutureWarning: The frame.append method is deprecated and will be removed from pandas in a future version. Use pandas.concat instead.\n",
      "  df = df.append(datarow, ignore_index=True)\n",
      "C:\\Users\\lando\\AppData\\Local\\Temp\\ipykernel_34800\\2238899073.py:61: FutureWarning: The frame.append method is deprecated and will be removed from pandas in a future version. Use pandas.concat instead.\n",
      "  df = df.append(datarow, ignore_index=True)\n",
      "C:\\Users\\lando\\AppData\\Local\\Temp\\ipykernel_34800\\2238899073.py:61: FutureWarning: The frame.append method is deprecated and will be removed from pandas in a future version. Use pandas.concat instead.\n",
      "  df = df.append(datarow, ignore_index=True)\n",
      "C:\\Users\\lando\\AppData\\Local\\Temp\\ipykernel_34800\\2238899073.py:61: FutureWarning: The frame.append method is deprecated and will be removed from pandas in a future version. Use pandas.concat instead.\n",
      "  df = df.append(datarow, ignore_index=True)\n",
      "C:\\Users\\lando\\AppData\\Local\\Temp\\ipykernel_34800\\2238899073.py:61: FutureWarning: The frame.append method is deprecated and will be removed from pandas in a future version. Use pandas.concat instead.\n",
      "  df = df.append(datarow, ignore_index=True)\n",
      "C:\\Users\\lando\\AppData\\Local\\Temp\\ipykernel_34800\\2238899073.py:61: FutureWarning: The frame.append method is deprecated and will be removed from pandas in a future version. Use pandas.concat instead.\n",
      "  df = df.append(datarow, ignore_index=True)\n",
      "C:\\Users\\lando\\AppData\\Local\\Temp\\ipykernel_34800\\2238899073.py:61: FutureWarning: The frame.append method is deprecated and will be removed from pandas in a future version. Use pandas.concat instead.\n",
      "  df = df.append(datarow, ignore_index=True)\n",
      "C:\\Users\\lando\\AppData\\Local\\Temp\\ipykernel_34800\\2238899073.py:61: FutureWarning: The frame.append method is deprecated and will be removed from pandas in a future version. Use pandas.concat instead.\n",
      "  df = df.append(datarow, ignore_index=True)\n",
      "C:\\Users\\lando\\AppData\\Local\\Temp\\ipykernel_34800\\2238899073.py:61: FutureWarning: The frame.append method is deprecated and will be removed from pandas in a future version. Use pandas.concat instead.\n",
      "  df = df.append(datarow, ignore_index=True)\n",
      "C:\\Users\\lando\\AppData\\Local\\Temp\\ipykernel_34800\\2238899073.py:61: FutureWarning: The frame.append method is deprecated and will be removed from pandas in a future version. Use pandas.concat instead.\n",
      "  df = df.append(datarow, ignore_index=True)\n",
      "C:\\Users\\lando\\AppData\\Local\\Temp\\ipykernel_34800\\2238899073.py:61: FutureWarning: The frame.append method is deprecated and will be removed from pandas in a future version. Use pandas.concat instead.\n",
      "  df = df.append(datarow, ignore_index=True)\n",
      "C:\\Users\\lando\\AppData\\Local\\Temp\\ipykernel_34800\\2238899073.py:61: FutureWarning: The frame.append method is deprecated and will be removed from pandas in a future version. Use pandas.concat instead.\n",
      "  df = df.append(datarow, ignore_index=True)\n",
      "C:\\Users\\lando\\AppData\\Local\\Temp\\ipykernel_34800\\2238899073.py:61: FutureWarning: The frame.append method is deprecated and will be removed from pandas in a future version. Use pandas.concat instead.\n",
      "  df = df.append(datarow, ignore_index=True)\n",
      "C:\\Users\\lando\\AppData\\Local\\Temp\\ipykernel_34800\\2238899073.py:61: FutureWarning: The frame.append method is deprecated and will be removed from pandas in a future version. Use pandas.concat instead.\n",
      "  df = df.append(datarow, ignore_index=True)\n",
      "C:\\Users\\lando\\AppData\\Local\\Temp\\ipykernel_34800\\2238899073.py:61: FutureWarning: The frame.append method is deprecated and will be removed from pandas in a future version. Use pandas.concat instead.\n",
      "  df = df.append(datarow, ignore_index=True)\n",
      "C:\\Users\\lando\\AppData\\Local\\Temp\\ipykernel_34800\\2238899073.py:61: FutureWarning: The frame.append method is deprecated and will be removed from pandas in a future version. Use pandas.concat instead.\n",
      "  df = df.append(datarow, ignore_index=True)\n",
      "C:\\Users\\lando\\AppData\\Local\\Temp\\ipykernel_34800\\2238899073.py:61: FutureWarning: The frame.append method is deprecated and will be removed from pandas in a future version. Use pandas.concat instead.\n",
      "  df = df.append(datarow, ignore_index=True)\n",
      "C:\\Users\\lando\\AppData\\Local\\Temp\\ipykernel_34800\\2238899073.py:61: FutureWarning: The frame.append method is deprecated and will be removed from pandas in a future version. Use pandas.concat instead.\n",
      "  df = df.append(datarow, ignore_index=True)\n",
      "C:\\Users\\lando\\AppData\\Local\\Temp\\ipykernel_34800\\2238899073.py:61: FutureWarning: The frame.append method is deprecated and will be removed from pandas in a future version. Use pandas.concat instead.\n",
      "  df = df.append(datarow, ignore_index=True)\n",
      "C:\\Users\\lando\\AppData\\Local\\Temp\\ipykernel_34800\\2238899073.py:61: FutureWarning: The frame.append method is deprecated and will be removed from pandas in a future version. Use pandas.concat instead.\n",
      "  df = df.append(datarow, ignore_index=True)\n",
      "C:\\Users\\lando\\AppData\\Local\\Temp\\ipykernel_34800\\2238899073.py:61: FutureWarning: The frame.append method is deprecated and will be removed from pandas in a future version. Use pandas.concat instead.\n",
      "  df = df.append(datarow, ignore_index=True)\n",
      "C:\\Users\\lando\\AppData\\Local\\Temp\\ipykernel_34800\\2238899073.py:61: FutureWarning: The frame.append method is deprecated and will be removed from pandas in a future version. Use pandas.concat instead.\n",
      "  df = df.append(datarow, ignore_index=True)\n",
      "C:\\Users\\lando\\AppData\\Local\\Temp\\ipykernel_34800\\2238899073.py:61: FutureWarning: The frame.append method is deprecated and will be removed from pandas in a future version. Use pandas.concat instead.\n",
      "  df = df.append(datarow, ignore_index=True)\n",
      "C:\\Users\\lando\\AppData\\Local\\Temp\\ipykernel_34800\\2238899073.py:61: FutureWarning: The frame.append method is deprecated and will be removed from pandas in a future version. Use pandas.concat instead.\n",
      "  df = df.append(datarow, ignore_index=True)\n",
      "C:\\Users\\lando\\AppData\\Local\\Temp\\ipykernel_34800\\2238899073.py:61: FutureWarning: The frame.append method is deprecated and will be removed from pandas in a future version. Use pandas.concat instead.\n",
      "  df = df.append(datarow, ignore_index=True)\n",
      "C:\\Users\\lando\\AppData\\Local\\Temp\\ipykernel_34800\\2238899073.py:61: FutureWarning: The frame.append method is deprecated and will be removed from pandas in a future version. Use pandas.concat instead.\n",
      "  df = df.append(datarow, ignore_index=True)\n",
      "C:\\Users\\lando\\AppData\\Local\\Temp\\ipykernel_34800\\2238899073.py:61: FutureWarning: The frame.append method is deprecated and will be removed from pandas in a future version. Use pandas.concat instead.\n",
      "  df = df.append(datarow, ignore_index=True)\n",
      "C:\\Users\\lando\\AppData\\Local\\Temp\\ipykernel_34800\\2238899073.py:61: FutureWarning: The frame.append method is deprecated and will be removed from pandas in a future version. Use pandas.concat instead.\n",
      "  df = df.append(datarow, ignore_index=True)\n",
      "C:\\Users\\lando\\AppData\\Local\\Temp\\ipykernel_34800\\2238899073.py:61: FutureWarning: The frame.append method is deprecated and will be removed from pandas in a future version. Use pandas.concat instead.\n",
      "  df = df.append(datarow, ignore_index=True)\n",
      "C:\\Users\\lando\\AppData\\Local\\Temp\\ipykernel_34800\\2238899073.py:61: FutureWarning: The frame.append method is deprecated and will be removed from pandas in a future version. Use pandas.concat instead.\n",
      "  df = df.append(datarow, ignore_index=True)\n",
      "C:\\Users\\lando\\AppData\\Local\\Temp\\ipykernel_34800\\2238899073.py:61: FutureWarning: The frame.append method is deprecated and will be removed from pandas in a future version. Use pandas.concat instead.\n",
      "  df = df.append(datarow, ignore_index=True)\n",
      "C:\\Users\\lando\\AppData\\Local\\Temp\\ipykernel_34800\\2238899073.py:61: FutureWarning: The frame.append method is deprecated and will be removed from pandas in a future version. Use pandas.concat instead.\n",
      "  df = df.append(datarow, ignore_index=True)\n",
      "C:\\Users\\lando\\AppData\\Local\\Temp\\ipykernel_34800\\2238899073.py:61: FutureWarning: The frame.append method is deprecated and will be removed from pandas in a future version. Use pandas.concat instead.\n",
      "  df = df.append(datarow, ignore_index=True)\n",
      "C:\\Users\\lando\\AppData\\Local\\Temp\\ipykernel_34800\\2238899073.py:61: FutureWarning: The frame.append method is deprecated and will be removed from pandas in a future version. Use pandas.concat instead.\n",
      "  df = df.append(datarow, ignore_index=True)\n",
      "C:\\Users\\lando\\AppData\\Local\\Temp\\ipykernel_34800\\2238899073.py:61: FutureWarning: The frame.append method is deprecated and will be removed from pandas in a future version. Use pandas.concat instead.\n",
      "  df = df.append(datarow, ignore_index=True)\n",
      "C:\\Users\\lando\\AppData\\Local\\Temp\\ipykernel_34800\\2238899073.py:61: FutureWarning: The frame.append method is deprecated and will be removed from pandas in a future version. Use pandas.concat instead.\n",
      "  df = df.append(datarow, ignore_index=True)\n",
      "C:\\Users\\lando\\AppData\\Local\\Temp\\ipykernel_34800\\2238899073.py:61: FutureWarning: The frame.append method is deprecated and will be removed from pandas in a future version. Use pandas.concat instead.\n",
      "  df = df.append(datarow, ignore_index=True)\n",
      "C:\\Users\\lando\\AppData\\Local\\Temp\\ipykernel_34800\\2238899073.py:61: FutureWarning: The frame.append method is deprecated and will be removed from pandas in a future version. Use pandas.concat instead.\n",
      "  df = df.append(datarow, ignore_index=True)\n",
      "C:\\Users\\lando\\AppData\\Local\\Temp\\ipykernel_34800\\2238899073.py:61: FutureWarning: The frame.append method is deprecated and will be removed from pandas in a future version. Use pandas.concat instead.\n",
      "  df = df.append(datarow, ignore_index=True)\n",
      "C:\\Users\\lando\\AppData\\Local\\Temp\\ipykernel_34800\\2238899073.py:61: FutureWarning: The frame.append method is deprecated and will be removed from pandas in a future version. Use pandas.concat instead.\n",
      "  df = df.append(datarow, ignore_index=True)\n",
      "C:\\Users\\lando\\AppData\\Local\\Temp\\ipykernel_34800\\2238899073.py:61: FutureWarning: The frame.append method is deprecated and will be removed from pandas in a future version. Use pandas.concat instead.\n",
      "  df = df.append(datarow, ignore_index=True)\n",
      "C:\\Users\\lando\\AppData\\Local\\Temp\\ipykernel_34800\\2238899073.py:61: FutureWarning: The frame.append method is deprecated and will be removed from pandas in a future version. Use pandas.concat instead.\n",
      "  df = df.append(datarow, ignore_index=True)\n",
      "C:\\Users\\lando\\AppData\\Local\\Temp\\ipykernel_34800\\2238899073.py:61: FutureWarning: The frame.append method is deprecated and will be removed from pandas in a future version. Use pandas.concat instead.\n",
      "  df = df.append(datarow, ignore_index=True)\n",
      "C:\\Users\\lando\\AppData\\Local\\Temp\\ipykernel_34800\\2238899073.py:61: FutureWarning: The frame.append method is deprecated and will be removed from pandas in a future version. Use pandas.concat instead.\n",
      "  df = df.append(datarow, ignore_index=True)\n",
      "C:\\Users\\lando\\AppData\\Local\\Temp\\ipykernel_34800\\2238899073.py:61: FutureWarning: The frame.append method is deprecated and will be removed from pandas in a future version. Use pandas.concat instead.\n",
      "  df = df.append(datarow, ignore_index=True)\n",
      "C:\\Users\\lando\\AppData\\Local\\Temp\\ipykernel_34800\\2238899073.py:61: FutureWarning: The frame.append method is deprecated and will be removed from pandas in a future version. Use pandas.concat instead.\n",
      "  df = df.append(datarow, ignore_index=True)\n",
      "C:\\Users\\lando\\AppData\\Local\\Temp\\ipykernel_34800\\2238899073.py:61: FutureWarning: The frame.append method is deprecated and will be removed from pandas in a future version. Use pandas.concat instead.\n",
      "  df = df.append(datarow, ignore_index=True)\n",
      "C:\\Users\\lando\\AppData\\Local\\Temp\\ipykernel_34800\\2238899073.py:61: FutureWarning: The frame.append method is deprecated and will be removed from pandas in a future version. Use pandas.concat instead.\n",
      "  df = df.append(datarow, ignore_index=True)\n",
      "C:\\Users\\lando\\AppData\\Local\\Temp\\ipykernel_34800\\2238899073.py:61: FutureWarning: The frame.append method is deprecated and will be removed from pandas in a future version. Use pandas.concat instead.\n",
      "  df = df.append(datarow, ignore_index=True)\n",
      "C:\\Users\\lando\\AppData\\Local\\Temp\\ipykernel_34800\\2238899073.py:61: FutureWarning: The frame.append method is deprecated and will be removed from pandas in a future version. Use pandas.concat instead.\n",
      "  df = df.append(datarow, ignore_index=True)\n",
      "C:\\Users\\lando\\AppData\\Local\\Temp\\ipykernel_34800\\2238899073.py:61: FutureWarning: The frame.append method is deprecated and will be removed from pandas in a future version. Use pandas.concat instead.\n",
      "  df = df.append(datarow, ignore_index=True)\n",
      "C:\\Users\\lando\\AppData\\Local\\Temp\\ipykernel_34800\\2238899073.py:61: FutureWarning: The frame.append method is deprecated and will be removed from pandas in a future version. Use pandas.concat instead.\n",
      "  df = df.append(datarow, ignore_index=True)\n",
      "C:\\Users\\lando\\AppData\\Local\\Temp\\ipykernel_34800\\2238899073.py:61: FutureWarning: The frame.append method is deprecated and will be removed from pandas in a future version. Use pandas.concat instead.\n",
      "  df = df.append(datarow, ignore_index=True)\n",
      "C:\\Users\\lando\\AppData\\Local\\Temp\\ipykernel_34800\\2238899073.py:61: FutureWarning: The frame.append method is deprecated and will be removed from pandas in a future version. Use pandas.concat instead.\n",
      "  df = df.append(datarow, ignore_index=True)\n",
      "C:\\Users\\lando\\AppData\\Local\\Temp\\ipykernel_34800\\2238899073.py:61: FutureWarning: The frame.append method is deprecated and will be removed from pandas in a future version. Use pandas.concat instead.\n",
      "  df = df.append(datarow, ignore_index=True)\n",
      "C:\\Users\\lando\\AppData\\Local\\Temp\\ipykernel_34800\\2238899073.py:61: FutureWarning: The frame.append method is deprecated and will be removed from pandas in a future version. Use pandas.concat instead.\n",
      "  df = df.append(datarow, ignore_index=True)\n",
      "C:\\Users\\lando\\AppData\\Local\\Temp\\ipykernel_34800\\2238899073.py:61: FutureWarning: The frame.append method is deprecated and will be removed from pandas in a future version. Use pandas.concat instead.\n",
      "  df = df.append(datarow, ignore_index=True)\n",
      "C:\\Users\\lando\\AppData\\Local\\Temp\\ipykernel_34800\\2238899073.py:61: FutureWarning: The frame.append method is deprecated and will be removed from pandas in a future version. Use pandas.concat instead.\n",
      "  df = df.append(datarow, ignore_index=True)\n",
      "C:\\Users\\lando\\AppData\\Local\\Temp\\ipykernel_34800\\2238899073.py:61: FutureWarning: The frame.append method is deprecated and will be removed from pandas in a future version. Use pandas.concat instead.\n",
      "  df = df.append(datarow, ignore_index=True)\n",
      "C:\\Users\\lando\\AppData\\Local\\Temp\\ipykernel_34800\\2238899073.py:61: FutureWarning: The frame.append method is deprecated and will be removed from pandas in a future version. Use pandas.concat instead.\n",
      "  df = df.append(datarow, ignore_index=True)\n",
      "C:\\Users\\lando\\AppData\\Local\\Temp\\ipykernel_34800\\2238899073.py:61: FutureWarning: The frame.append method is deprecated and will be removed from pandas in a future version. Use pandas.concat instead.\n",
      "  df = df.append(datarow, ignore_index=True)\n",
      "C:\\Users\\lando\\AppData\\Local\\Temp\\ipykernel_34800\\2238899073.py:61: FutureWarning: The frame.append method is deprecated and will be removed from pandas in a future version. Use pandas.concat instead.\n",
      "  df = df.append(datarow, ignore_index=True)\n",
      "C:\\Users\\lando\\AppData\\Local\\Temp\\ipykernel_34800\\2238899073.py:61: FutureWarning: The frame.append method is deprecated and will be removed from pandas in a future version. Use pandas.concat instead.\n",
      "  df = df.append(datarow, ignore_index=True)\n",
      "C:\\Users\\lando\\AppData\\Local\\Temp\\ipykernel_34800\\2238899073.py:61: FutureWarning: The frame.append method is deprecated and will be removed from pandas in a future version. Use pandas.concat instead.\n",
      "  df = df.append(datarow, ignore_index=True)\n",
      "C:\\Users\\lando\\AppData\\Local\\Temp\\ipykernel_34800\\2238899073.py:61: FutureWarning: The frame.append method is deprecated and will be removed from pandas in a future version. Use pandas.concat instead.\n",
      "  df = df.append(datarow, ignore_index=True)\n",
      "C:\\Users\\lando\\AppData\\Local\\Temp\\ipykernel_34800\\2238899073.py:61: FutureWarning: The frame.append method is deprecated and will be removed from pandas in a future version. Use pandas.concat instead.\n",
      "  df = df.append(datarow, ignore_index=True)\n",
      "C:\\Users\\lando\\AppData\\Local\\Temp\\ipykernel_34800\\2238899073.py:61: FutureWarning: The frame.append method is deprecated and will be removed from pandas in a future version. Use pandas.concat instead.\n",
      "  df = df.append(datarow, ignore_index=True)\n",
      "C:\\Users\\lando\\AppData\\Local\\Temp\\ipykernel_34800\\2238899073.py:61: FutureWarning: The frame.append method is deprecated and will be removed from pandas in a future version. Use pandas.concat instead.\n",
      "  df = df.append(datarow, ignore_index=True)\n",
      "C:\\Users\\lando\\AppData\\Local\\Temp\\ipykernel_34800\\2238899073.py:61: FutureWarning: The frame.append method is deprecated and will be removed from pandas in a future version. Use pandas.concat instead.\n",
      "  df = df.append(datarow, ignore_index=True)\n",
      "C:\\Users\\lando\\AppData\\Local\\Temp\\ipykernel_34800\\2238899073.py:61: FutureWarning: The frame.append method is deprecated and will be removed from pandas in a future version. Use pandas.concat instead.\n",
      "  df = df.append(datarow, ignore_index=True)\n",
      "C:\\Users\\lando\\AppData\\Local\\Temp\\ipykernel_34800\\2238899073.py:61: FutureWarning: The frame.append method is deprecated and will be removed from pandas in a future version. Use pandas.concat instead.\n",
      "  df = df.append(datarow, ignore_index=True)\n",
      "C:\\Users\\lando\\AppData\\Local\\Temp\\ipykernel_34800\\2238899073.py:61: FutureWarning: The frame.append method is deprecated and will be removed from pandas in a future version. Use pandas.concat instead.\n",
      "  df = df.append(datarow, ignore_index=True)\n",
      "C:\\Users\\lando\\AppData\\Local\\Temp\\ipykernel_34800\\2238899073.py:61: FutureWarning: The frame.append method is deprecated and will be removed from pandas in a future version. Use pandas.concat instead.\n",
      "  df = df.append(datarow, ignore_index=True)\n",
      "C:\\Users\\lando\\AppData\\Local\\Temp\\ipykernel_34800\\2238899073.py:61: FutureWarning: The frame.append method is deprecated and will be removed from pandas in a future version. Use pandas.concat instead.\n",
      "  df = df.append(datarow, ignore_index=True)\n",
      "C:\\Users\\lando\\AppData\\Local\\Temp\\ipykernel_34800\\2238899073.py:61: FutureWarning: The frame.append method is deprecated and will be removed from pandas in a future version. Use pandas.concat instead.\n",
      "  df = df.append(datarow, ignore_index=True)\n",
      "C:\\Users\\lando\\AppData\\Local\\Temp\\ipykernel_34800\\2238899073.py:61: FutureWarning: The frame.append method is deprecated and will be removed from pandas in a future version. Use pandas.concat instead.\n",
      "  df = df.append(datarow, ignore_index=True)\n",
      "C:\\Users\\lando\\AppData\\Local\\Temp\\ipykernel_34800\\2238899073.py:61: FutureWarning: The frame.append method is deprecated and will be removed from pandas in a future version. Use pandas.concat instead.\n",
      "  df = df.append(datarow, ignore_index=True)\n",
      "C:\\Users\\lando\\AppData\\Local\\Temp\\ipykernel_34800\\2238899073.py:61: FutureWarning: The frame.append method is deprecated and will be removed from pandas in a future version. Use pandas.concat instead.\n",
      "  df = df.append(datarow, ignore_index=True)\n",
      "C:\\Users\\lando\\AppData\\Local\\Temp\\ipykernel_34800\\2238899073.py:61: FutureWarning: The frame.append method is deprecated and will be removed from pandas in a future version. Use pandas.concat instead.\n",
      "  df = df.append(datarow, ignore_index=True)\n",
      "C:\\Users\\lando\\AppData\\Local\\Temp\\ipykernel_34800\\2238899073.py:61: FutureWarning: The frame.append method is deprecated and will be removed from pandas in a future version. Use pandas.concat instead.\n",
      "  df = df.append(datarow, ignore_index=True)\n",
      "C:\\Users\\lando\\AppData\\Local\\Temp\\ipykernel_34800\\2238899073.py:61: FutureWarning: The frame.append method is deprecated and will be removed from pandas in a future version. Use pandas.concat instead.\n",
      "  df = df.append(datarow, ignore_index=True)\n",
      "C:\\Users\\lando\\AppData\\Local\\Temp\\ipykernel_34800\\2238899073.py:61: FutureWarning: The frame.append method is deprecated and will be removed from pandas in a future version. Use pandas.concat instead.\n",
      "  df = df.append(datarow, ignore_index=True)\n",
      "C:\\Users\\lando\\AppData\\Local\\Temp\\ipykernel_34800\\2238899073.py:61: FutureWarning: The frame.append method is deprecated and will be removed from pandas in a future version. Use pandas.concat instead.\n",
      "  df = df.append(datarow, ignore_index=True)\n",
      "C:\\Users\\lando\\AppData\\Local\\Temp\\ipykernel_34800\\2238899073.py:61: FutureWarning: The frame.append method is deprecated and will be removed from pandas in a future version. Use pandas.concat instead.\n",
      "  df = df.append(datarow, ignore_index=True)\n",
      "C:\\Users\\lando\\AppData\\Local\\Temp\\ipykernel_34800\\2238899073.py:61: FutureWarning: The frame.append method is deprecated and will be removed from pandas in a future version. Use pandas.concat instead.\n",
      "  df = df.append(datarow, ignore_index=True)\n",
      "C:\\Users\\lando\\AppData\\Local\\Temp\\ipykernel_34800\\2238899073.py:61: FutureWarning: The frame.append method is deprecated and will be removed from pandas in a future version. Use pandas.concat instead.\n",
      "  df = df.append(datarow, ignore_index=True)\n",
      "C:\\Users\\lando\\AppData\\Local\\Temp\\ipykernel_34800\\2238899073.py:61: FutureWarning: The frame.append method is deprecated and will be removed from pandas in a future version. Use pandas.concat instead.\n",
      "  df = df.append(datarow, ignore_index=True)\n",
      "C:\\Users\\lando\\AppData\\Local\\Temp\\ipykernel_34800\\2238899073.py:61: FutureWarning: The frame.append method is deprecated and will be removed from pandas in a future version. Use pandas.concat instead.\n",
      "  df = df.append(datarow, ignore_index=True)\n",
      "C:\\Users\\lando\\AppData\\Local\\Temp\\ipykernel_34800\\2238899073.py:61: FutureWarning: The frame.append method is deprecated and will be removed from pandas in a future version. Use pandas.concat instead.\n",
      "  df = df.append(datarow, ignore_index=True)\n",
      "C:\\Users\\lando\\AppData\\Local\\Temp\\ipykernel_34800\\2238899073.py:61: FutureWarning: The frame.append method is deprecated and will be removed from pandas in a future version. Use pandas.concat instead.\n",
      "  df = df.append(datarow, ignore_index=True)\n",
      "C:\\Users\\lando\\AppData\\Local\\Temp\\ipykernel_34800\\2238899073.py:61: FutureWarning: The frame.append method is deprecated and will be removed from pandas in a future version. Use pandas.concat instead.\n",
      "  df = df.append(datarow, ignore_index=True)\n",
      "C:\\Users\\lando\\AppData\\Local\\Temp\\ipykernel_34800\\2238899073.py:61: FutureWarning: The frame.append method is deprecated and will be removed from pandas in a future version. Use pandas.concat instead.\n",
      "  df = df.append(datarow, ignore_index=True)\n",
      "C:\\Users\\lando\\AppData\\Local\\Temp\\ipykernel_34800\\2238899073.py:61: FutureWarning: The frame.append method is deprecated and will be removed from pandas in a future version. Use pandas.concat instead.\n",
      "  df = df.append(datarow, ignore_index=True)\n",
      "C:\\Users\\lando\\AppData\\Local\\Temp\\ipykernel_34800\\2238899073.py:61: FutureWarning: The frame.append method is deprecated and will be removed from pandas in a future version. Use pandas.concat instead.\n",
      "  df = df.append(datarow, ignore_index=True)\n",
      "C:\\Users\\lando\\AppData\\Local\\Temp\\ipykernel_34800\\2238899073.py:61: FutureWarning: The frame.append method is deprecated and will be removed from pandas in a future version. Use pandas.concat instead.\n",
      "  df = df.append(datarow, ignore_index=True)\n",
      "C:\\Users\\lando\\AppData\\Local\\Temp\\ipykernel_34800\\2238899073.py:61: FutureWarning: The frame.append method is deprecated and will be removed from pandas in a future version. Use pandas.concat instead.\n",
      "  df = df.append(datarow, ignore_index=True)\n",
      "C:\\Users\\lando\\AppData\\Local\\Temp\\ipykernel_34800\\2238899073.py:61: FutureWarning: The frame.append method is deprecated and will be removed from pandas in a future version. Use pandas.concat instead.\n",
      "  df = df.append(datarow, ignore_index=True)\n",
      "C:\\Users\\lando\\AppData\\Local\\Temp\\ipykernel_34800\\2238899073.py:61: FutureWarning: The frame.append method is deprecated and will be removed from pandas in a future version. Use pandas.concat instead.\n",
      "  df = df.append(datarow, ignore_index=True)\n",
      "C:\\Users\\lando\\AppData\\Local\\Temp\\ipykernel_34800\\2238899073.py:61: FutureWarning: The frame.append method is deprecated and will be removed from pandas in a future version. Use pandas.concat instead.\n",
      "  df = df.append(datarow, ignore_index=True)\n",
      "C:\\Users\\lando\\AppData\\Local\\Temp\\ipykernel_34800\\2238899073.py:61: FutureWarning: The frame.append method is deprecated and will be removed from pandas in a future version. Use pandas.concat instead.\n",
      "  df = df.append(datarow, ignore_index=True)\n",
      "C:\\Users\\lando\\AppData\\Local\\Temp\\ipykernel_34800\\2238899073.py:61: FutureWarning: The frame.append method is deprecated and will be removed from pandas in a future version. Use pandas.concat instead.\n",
      "  df = df.append(datarow, ignore_index=True)\n",
      "C:\\Users\\lando\\AppData\\Local\\Temp\\ipykernel_34800\\2238899073.py:61: FutureWarning: The frame.append method is deprecated and will be removed from pandas in a future version. Use pandas.concat instead.\n",
      "  df = df.append(datarow, ignore_index=True)\n",
      "C:\\Users\\lando\\AppData\\Local\\Temp\\ipykernel_34800\\2238899073.py:61: FutureWarning: The frame.append method is deprecated and will be removed from pandas in a future version. Use pandas.concat instead.\n",
      "  df = df.append(datarow, ignore_index=True)\n",
      "C:\\Users\\lando\\AppData\\Local\\Temp\\ipykernel_34800\\2238899073.py:61: FutureWarning: The frame.append method is deprecated and will be removed from pandas in a future version. Use pandas.concat instead.\n",
      "  df = df.append(datarow, ignore_index=True)\n",
      "C:\\Users\\lando\\AppData\\Local\\Temp\\ipykernel_34800\\2238899073.py:61: FutureWarning: The frame.append method is deprecated and will be removed from pandas in a future version. Use pandas.concat instead.\n",
      "  df = df.append(datarow, ignore_index=True)\n",
      "C:\\Users\\lando\\AppData\\Local\\Temp\\ipykernel_34800\\2238899073.py:61: FutureWarning: The frame.append method is deprecated and will be removed from pandas in a future version. Use pandas.concat instead.\n",
      "  df = df.append(datarow, ignore_index=True)\n",
      "C:\\Users\\lando\\AppData\\Local\\Temp\\ipykernel_34800\\2238899073.py:61: FutureWarning: The frame.append method is deprecated and will be removed from pandas in a future version. Use pandas.concat instead.\n",
      "  df = df.append(datarow, ignore_index=True)\n",
      "C:\\Users\\lando\\AppData\\Local\\Temp\\ipykernel_34800\\2238899073.py:61: FutureWarning: The frame.append method is deprecated and will be removed from pandas in a future version. Use pandas.concat instead.\n",
      "  df = df.append(datarow, ignore_index=True)\n",
      "C:\\Users\\lando\\AppData\\Local\\Temp\\ipykernel_34800\\2238899073.py:61: FutureWarning: The frame.append method is deprecated and will be removed from pandas in a future version. Use pandas.concat instead.\n",
      "  df = df.append(datarow, ignore_index=True)\n",
      "C:\\Users\\lando\\AppData\\Local\\Temp\\ipykernel_34800\\2238899073.py:61: FutureWarning: The frame.append method is deprecated and will be removed from pandas in a future version. Use pandas.concat instead.\n",
      "  df = df.append(datarow, ignore_index=True)\n",
      "C:\\Users\\lando\\AppData\\Local\\Temp\\ipykernel_34800\\2238899073.py:61: FutureWarning: The frame.append method is deprecated and will be removed from pandas in a future version. Use pandas.concat instead.\n",
      "  df = df.append(datarow, ignore_index=True)\n",
      "C:\\Users\\lando\\AppData\\Local\\Temp\\ipykernel_34800\\2238899073.py:61: FutureWarning: The frame.append method is deprecated and will be removed from pandas in a future version. Use pandas.concat instead.\n",
      "  df = df.append(datarow, ignore_index=True)\n",
      "C:\\Users\\lando\\AppData\\Local\\Temp\\ipykernel_34800\\2238899073.py:61: FutureWarning: The frame.append method is deprecated and will be removed from pandas in a future version. Use pandas.concat instead.\n",
      "  df = df.append(datarow, ignore_index=True)\n",
      "C:\\Users\\lando\\AppData\\Local\\Temp\\ipykernel_34800\\2238899073.py:61: FutureWarning: The frame.append method is deprecated and will be removed from pandas in a future version. Use pandas.concat instead.\n",
      "  df = df.append(datarow, ignore_index=True)\n",
      "C:\\Users\\lando\\AppData\\Local\\Temp\\ipykernel_34800\\2238899073.py:61: FutureWarning: The frame.append method is deprecated and will be removed from pandas in a future version. Use pandas.concat instead.\n",
      "  df = df.append(datarow, ignore_index=True)\n",
      "C:\\Users\\lando\\AppData\\Local\\Temp\\ipykernel_34800\\2238899073.py:61: FutureWarning: The frame.append method is deprecated and will be removed from pandas in a future version. Use pandas.concat instead.\n",
      "  df = df.append(datarow, ignore_index=True)\n",
      "C:\\Users\\lando\\AppData\\Local\\Temp\\ipykernel_34800\\2238899073.py:61: FutureWarning: The frame.append method is deprecated and will be removed from pandas in a future version. Use pandas.concat instead.\n",
      "  df = df.append(datarow, ignore_index=True)\n",
      "C:\\Users\\lando\\AppData\\Local\\Temp\\ipykernel_34800\\2238899073.py:61: FutureWarning: The frame.append method is deprecated and will be removed from pandas in a future version. Use pandas.concat instead.\n",
      "  df = df.append(datarow, ignore_index=True)\n",
      "C:\\Users\\lando\\AppData\\Local\\Temp\\ipykernel_34800\\2238899073.py:61: FutureWarning: The frame.append method is deprecated and will be removed from pandas in a future version. Use pandas.concat instead.\n",
      "  df = df.append(datarow, ignore_index=True)\n",
      "C:\\Users\\lando\\AppData\\Local\\Temp\\ipykernel_34800\\2238899073.py:61: FutureWarning: The frame.append method is deprecated and will be removed from pandas in a future version. Use pandas.concat instead.\n",
      "  df = df.append(datarow, ignore_index=True)\n",
      "C:\\Users\\lando\\AppData\\Local\\Temp\\ipykernel_34800\\2238899073.py:61: FutureWarning: The frame.append method is deprecated and will be removed from pandas in a future version. Use pandas.concat instead.\n",
      "  df = df.append(datarow, ignore_index=True)\n",
      "C:\\Users\\lando\\AppData\\Local\\Temp\\ipykernel_34800\\2238899073.py:61: FutureWarning: The frame.append method is deprecated and will be removed from pandas in a future version. Use pandas.concat instead.\n",
      "  df = df.append(datarow, ignore_index=True)\n",
      "C:\\Users\\lando\\AppData\\Local\\Temp\\ipykernel_34800\\2238899073.py:61: FutureWarning: The frame.append method is deprecated and will be removed from pandas in a future version. Use pandas.concat instead.\n",
      "  df = df.append(datarow, ignore_index=True)\n",
      "C:\\Users\\lando\\AppData\\Local\\Temp\\ipykernel_34800\\2238899073.py:61: FutureWarning: The frame.append method is deprecated and will be removed from pandas in a future version. Use pandas.concat instead.\n",
      "  df = df.append(datarow, ignore_index=True)\n",
      "C:\\Users\\lando\\AppData\\Local\\Temp\\ipykernel_34800\\2238899073.py:61: FutureWarning: The frame.append method is deprecated and will be removed from pandas in a future version. Use pandas.concat instead.\n",
      "  df = df.append(datarow, ignore_index=True)\n",
      "C:\\Users\\lando\\AppData\\Local\\Temp\\ipykernel_34800\\2238899073.py:61: FutureWarning: The frame.append method is deprecated and will be removed from pandas in a future version. Use pandas.concat instead.\n",
      "  df = df.append(datarow, ignore_index=True)\n",
      "C:\\Users\\lando\\AppData\\Local\\Temp\\ipykernel_34800\\2238899073.py:61: FutureWarning: The frame.append method is deprecated and will be removed from pandas in a future version. Use pandas.concat instead.\n",
      "  df = df.append(datarow, ignore_index=True)\n",
      "C:\\Users\\lando\\AppData\\Local\\Temp\\ipykernel_34800\\2238899073.py:61: FutureWarning: The frame.append method is deprecated and will be removed from pandas in a future version. Use pandas.concat instead.\n",
      "  df = df.append(datarow, ignore_index=True)\n",
      "C:\\Users\\lando\\AppData\\Local\\Temp\\ipykernel_34800\\2238899073.py:61: FutureWarning: The frame.append method is deprecated and will be removed from pandas in a future version. Use pandas.concat instead.\n",
      "  df = df.append(datarow, ignore_index=True)\n",
      "C:\\Users\\lando\\AppData\\Local\\Temp\\ipykernel_34800\\2238899073.py:61: FutureWarning: The frame.append method is deprecated and will be removed from pandas in a future version. Use pandas.concat instead.\n",
      "  df = df.append(datarow, ignore_index=True)\n",
      "C:\\Users\\lando\\AppData\\Local\\Temp\\ipykernel_34800\\2238899073.py:61: FutureWarning: The frame.append method is deprecated and will be removed from pandas in a future version. Use pandas.concat instead.\n",
      "  df = df.append(datarow, ignore_index=True)\n",
      "C:\\Users\\lando\\AppData\\Local\\Temp\\ipykernel_34800\\2238899073.py:61: FutureWarning: The frame.append method is deprecated and will be removed from pandas in a future version. Use pandas.concat instead.\n",
      "  df = df.append(datarow, ignore_index=True)\n",
      "C:\\Users\\lando\\AppData\\Local\\Temp\\ipykernel_34800\\2238899073.py:61: FutureWarning: The frame.append method is deprecated and will be removed from pandas in a future version. Use pandas.concat instead.\n",
      "  df = df.append(datarow, ignore_index=True)\n",
      "C:\\Users\\lando\\AppData\\Local\\Temp\\ipykernel_34800\\2238899073.py:61: FutureWarning: The frame.append method is deprecated and will be removed from pandas in a future version. Use pandas.concat instead.\n",
      "  df = df.append(datarow, ignore_index=True)\n",
      "C:\\Users\\lando\\AppData\\Local\\Temp\\ipykernel_34800\\2238899073.py:61: FutureWarning: The frame.append method is deprecated and will be removed from pandas in a future version. Use pandas.concat instead.\n",
      "  df = df.append(datarow, ignore_index=True)\n",
      "C:\\Users\\lando\\AppData\\Local\\Temp\\ipykernel_34800\\2238899073.py:61: FutureWarning: The frame.append method is deprecated and will be removed from pandas in a future version. Use pandas.concat instead.\n",
      "  df = df.append(datarow, ignore_index=True)\n",
      "C:\\Users\\lando\\AppData\\Local\\Temp\\ipykernel_34800\\2238899073.py:61: FutureWarning: The frame.append method is deprecated and will be removed from pandas in a future version. Use pandas.concat instead.\n",
      "  df = df.append(datarow, ignore_index=True)\n",
      "C:\\Users\\lando\\AppData\\Local\\Temp\\ipykernel_34800\\2238899073.py:61: FutureWarning: The frame.append method is deprecated and will be removed from pandas in a future version. Use pandas.concat instead.\n",
      "  df = df.append(datarow, ignore_index=True)\n",
      "C:\\Users\\lando\\AppData\\Local\\Temp\\ipykernel_34800\\2238899073.py:61: FutureWarning: The frame.append method is deprecated and will be removed from pandas in a future version. Use pandas.concat instead.\n",
      "  df = df.append(datarow, ignore_index=True)\n",
      "C:\\Users\\lando\\AppData\\Local\\Temp\\ipykernel_34800\\2238899073.py:61: FutureWarning: The frame.append method is deprecated and will be removed from pandas in a future version. Use pandas.concat instead.\n",
      "  df = df.append(datarow, ignore_index=True)\n",
      "C:\\Users\\lando\\AppData\\Local\\Temp\\ipykernel_34800\\2238899073.py:61: FutureWarning: The frame.append method is deprecated and will be removed from pandas in a future version. Use pandas.concat instead.\n",
      "  df = df.append(datarow, ignore_index=True)\n",
      "C:\\Users\\lando\\AppData\\Local\\Temp\\ipykernel_34800\\2238899073.py:61: FutureWarning: The frame.append method is deprecated and will be removed from pandas in a future version. Use pandas.concat instead.\n",
      "  df = df.append(datarow, ignore_index=True)\n",
      "C:\\Users\\lando\\AppData\\Local\\Temp\\ipykernel_34800\\2238899073.py:61: FutureWarning: The frame.append method is deprecated and will be removed from pandas in a future version. Use pandas.concat instead.\n",
      "  df = df.append(datarow, ignore_index=True)\n",
      "C:\\Users\\lando\\AppData\\Local\\Temp\\ipykernel_34800\\2238899073.py:61: FutureWarning: The frame.append method is deprecated and will be removed from pandas in a future version. Use pandas.concat instead.\n",
      "  df = df.append(datarow, ignore_index=True)\n",
      "C:\\Users\\lando\\AppData\\Local\\Temp\\ipykernel_34800\\2238899073.py:61: FutureWarning: The frame.append method is deprecated and will be removed from pandas in a future version. Use pandas.concat instead.\n",
      "  df = df.append(datarow, ignore_index=True)\n",
      "C:\\Users\\lando\\AppData\\Local\\Temp\\ipykernel_34800\\2238899073.py:61: FutureWarning: The frame.append method is deprecated and will be removed from pandas in a future version. Use pandas.concat instead.\n",
      "  df = df.append(datarow, ignore_index=True)\n",
      "C:\\Users\\lando\\AppData\\Local\\Temp\\ipykernel_34800\\2238899073.py:61: FutureWarning: The frame.append method is deprecated and will be removed from pandas in a future version. Use pandas.concat instead.\n",
      "  df = df.append(datarow, ignore_index=True)\n",
      "C:\\Users\\lando\\AppData\\Local\\Temp\\ipykernel_34800\\2238899073.py:61: FutureWarning: The frame.append method is deprecated and will be removed from pandas in a future version. Use pandas.concat instead.\n",
      "  df = df.append(datarow, ignore_index=True)\n",
      "C:\\Users\\lando\\AppData\\Local\\Temp\\ipykernel_34800\\2238899073.py:61: FutureWarning: The frame.append method is deprecated and will be removed from pandas in a future version. Use pandas.concat instead.\n",
      "  df = df.append(datarow, ignore_index=True)\n",
      "C:\\Users\\lando\\AppData\\Local\\Temp\\ipykernel_34800\\2238899073.py:61: FutureWarning: The frame.append method is deprecated and will be removed from pandas in a future version. Use pandas.concat instead.\n",
      "  df = df.append(datarow, ignore_index=True)\n",
      "C:\\Users\\lando\\AppData\\Local\\Temp\\ipykernel_34800\\2238899073.py:61: FutureWarning: The frame.append method is deprecated and will be removed from pandas in a future version. Use pandas.concat instead.\n",
      "  df = df.append(datarow, ignore_index=True)\n",
      "C:\\Users\\lando\\AppData\\Local\\Temp\\ipykernel_34800\\2238899073.py:61: FutureWarning: The frame.append method is deprecated and will be removed from pandas in a future version. Use pandas.concat instead.\n",
      "  df = df.append(datarow, ignore_index=True)\n",
      "C:\\Users\\lando\\AppData\\Local\\Temp\\ipykernel_34800\\2238899073.py:61: FutureWarning: The frame.append method is deprecated and will be removed from pandas in a future version. Use pandas.concat instead.\n",
      "  df = df.append(datarow, ignore_index=True)\n",
      "C:\\Users\\lando\\AppData\\Local\\Temp\\ipykernel_34800\\2238899073.py:61: FutureWarning: The frame.append method is deprecated and will be removed from pandas in a future version. Use pandas.concat instead.\n",
      "  df = df.append(datarow, ignore_index=True)\n",
      "C:\\Users\\lando\\AppData\\Local\\Temp\\ipykernel_34800\\2238899073.py:61: FutureWarning: The frame.append method is deprecated and will be removed from pandas in a future version. Use pandas.concat instead.\n",
      "  df = df.append(datarow, ignore_index=True)\n",
      "C:\\Users\\lando\\AppData\\Local\\Temp\\ipykernel_34800\\2238899073.py:61: FutureWarning: The frame.append method is deprecated and will be removed from pandas in a future version. Use pandas.concat instead.\n",
      "  df = df.append(datarow, ignore_index=True)\n",
      "C:\\Users\\lando\\AppData\\Local\\Temp\\ipykernel_34800\\2238899073.py:61: FutureWarning: The frame.append method is deprecated and will be removed from pandas in a future version. Use pandas.concat instead.\n",
      "  df = df.append(datarow, ignore_index=True)\n",
      "C:\\Users\\lando\\AppData\\Local\\Temp\\ipykernel_34800\\2238899073.py:61: FutureWarning: The frame.append method is deprecated and will be removed from pandas in a future version. Use pandas.concat instead.\n",
      "  df = df.append(datarow, ignore_index=True)\n",
      "C:\\Users\\lando\\AppData\\Local\\Temp\\ipykernel_34800\\2238899073.py:61: FutureWarning: The frame.append method is deprecated and will be removed from pandas in a future version. Use pandas.concat instead.\n",
      "  df = df.append(datarow, ignore_index=True)\n",
      "C:\\Users\\lando\\AppData\\Local\\Temp\\ipykernel_34800\\2238899073.py:61: FutureWarning: The frame.append method is deprecated and will be removed from pandas in a future version. Use pandas.concat instead.\n",
      "  df = df.append(datarow, ignore_index=True)\n",
      "C:\\Users\\lando\\AppData\\Local\\Temp\\ipykernel_34800\\2238899073.py:61: FutureWarning: The frame.append method is deprecated and will be removed from pandas in a future version. Use pandas.concat instead.\n",
      "  df = df.append(datarow, ignore_index=True)\n",
      "C:\\Users\\lando\\AppData\\Local\\Temp\\ipykernel_34800\\2238899073.py:61: FutureWarning: The frame.append method is deprecated and will be removed from pandas in a future version. Use pandas.concat instead.\n",
      "  df = df.append(datarow, ignore_index=True)\n",
      "C:\\Users\\lando\\AppData\\Local\\Temp\\ipykernel_34800\\2238899073.py:61: FutureWarning: The frame.append method is deprecated and will be removed from pandas in a future version. Use pandas.concat instead.\n",
      "  df = df.append(datarow, ignore_index=True)\n",
      "C:\\Users\\lando\\AppData\\Local\\Temp\\ipykernel_34800\\2238899073.py:61: FutureWarning: The frame.append method is deprecated and will be removed from pandas in a future version. Use pandas.concat instead.\n",
      "  df = df.append(datarow, ignore_index=True)\n",
      "C:\\Users\\lando\\AppData\\Local\\Temp\\ipykernel_34800\\2238899073.py:61: FutureWarning: The frame.append method is deprecated and will be removed from pandas in a future version. Use pandas.concat instead.\n",
      "  df = df.append(datarow, ignore_index=True)\n",
      "C:\\Users\\lando\\AppData\\Local\\Temp\\ipykernel_34800\\2238899073.py:61: FutureWarning: The frame.append method is deprecated and will be removed from pandas in a future version. Use pandas.concat instead.\n",
      "  df = df.append(datarow, ignore_index=True)\n",
      "C:\\Users\\lando\\AppData\\Local\\Temp\\ipykernel_34800\\2238899073.py:61: FutureWarning: The frame.append method is deprecated and will be removed from pandas in a future version. Use pandas.concat instead.\n",
      "  df = df.append(datarow, ignore_index=True)\n",
      "C:\\Users\\lando\\AppData\\Local\\Temp\\ipykernel_34800\\2238899073.py:61: FutureWarning: The frame.append method is deprecated and will be removed from pandas in a future version. Use pandas.concat instead.\n",
      "  df = df.append(datarow, ignore_index=True)\n",
      "C:\\Users\\lando\\AppData\\Local\\Temp\\ipykernel_34800\\2238899073.py:61: FutureWarning: The frame.append method is deprecated and will be removed from pandas in a future version. Use pandas.concat instead.\n",
      "  df = df.append(datarow, ignore_index=True)\n",
      "C:\\Users\\lando\\AppData\\Local\\Temp\\ipykernel_34800\\2238899073.py:61: FutureWarning: The frame.append method is deprecated and will be removed from pandas in a future version. Use pandas.concat instead.\n",
      "  df = df.append(datarow, ignore_index=True)\n",
      "C:\\Users\\lando\\AppData\\Local\\Temp\\ipykernel_34800\\2238899073.py:61: FutureWarning: The frame.append method is deprecated and will be removed from pandas in a future version. Use pandas.concat instead.\n",
      "  df = df.append(datarow, ignore_index=True)\n",
      "C:\\Users\\lando\\AppData\\Local\\Temp\\ipykernel_34800\\2238899073.py:61: FutureWarning: The frame.append method is deprecated and will be removed from pandas in a future version. Use pandas.concat instead.\n",
      "  df = df.append(datarow, ignore_index=True)\n",
      "C:\\Users\\lando\\AppData\\Local\\Temp\\ipykernel_34800\\2238899073.py:61: FutureWarning: The frame.append method is deprecated and will be removed from pandas in a future version. Use pandas.concat instead.\n",
      "  df = df.append(datarow, ignore_index=True)\n",
      "C:\\Users\\lando\\AppData\\Local\\Temp\\ipykernel_34800\\2238899073.py:61: FutureWarning: The frame.append method is deprecated and will be removed from pandas in a future version. Use pandas.concat instead.\n",
      "  df = df.append(datarow, ignore_index=True)\n",
      "C:\\Users\\lando\\AppData\\Local\\Temp\\ipykernel_34800\\2238899073.py:61: FutureWarning: The frame.append method is deprecated and will be removed from pandas in a future version. Use pandas.concat instead.\n",
      "  df = df.append(datarow, ignore_index=True)\n",
      "C:\\Users\\lando\\AppData\\Local\\Temp\\ipykernel_34800\\2238899073.py:61: FutureWarning: The frame.append method is deprecated and will be removed from pandas in a future version. Use pandas.concat instead.\n",
      "  df = df.append(datarow, ignore_index=True)\n",
      "C:\\Users\\lando\\AppData\\Local\\Temp\\ipykernel_34800\\2238899073.py:61: FutureWarning: The frame.append method is deprecated and will be removed from pandas in a future version. Use pandas.concat instead.\n",
      "  df = df.append(datarow, ignore_index=True)\n",
      "C:\\Users\\lando\\AppData\\Local\\Temp\\ipykernel_34800\\2238899073.py:61: FutureWarning: The frame.append method is deprecated and will be removed from pandas in a future version. Use pandas.concat instead.\n",
      "  df = df.append(datarow, ignore_index=True)\n",
      "C:\\Users\\lando\\AppData\\Local\\Temp\\ipykernel_34800\\2238899073.py:61: FutureWarning: The frame.append method is deprecated and will be removed from pandas in a future version. Use pandas.concat instead.\n",
      "  df = df.append(datarow, ignore_index=True)\n",
      "C:\\Users\\lando\\AppData\\Local\\Temp\\ipykernel_34800\\2238899073.py:61: FutureWarning: The frame.append method is deprecated and will be removed from pandas in a future version. Use pandas.concat instead.\n",
      "  df = df.append(datarow, ignore_index=True)\n",
      "C:\\Users\\lando\\AppData\\Local\\Temp\\ipykernel_34800\\2238899073.py:61: FutureWarning: The frame.append method is deprecated and will be removed from pandas in a future version. Use pandas.concat instead.\n",
      "  df = df.append(datarow, ignore_index=True)\n",
      "C:\\Users\\lando\\AppData\\Local\\Temp\\ipykernel_34800\\2238899073.py:61: FutureWarning: The frame.append method is deprecated and will be removed from pandas in a future version. Use pandas.concat instead.\n",
      "  df = df.append(datarow, ignore_index=True)\n",
      "C:\\Users\\lando\\AppData\\Local\\Temp\\ipykernel_34800\\2238899073.py:61: FutureWarning: The frame.append method is deprecated and will be removed from pandas in a future version. Use pandas.concat instead.\n",
      "  df = df.append(datarow, ignore_index=True)\n",
      "C:\\Users\\lando\\AppData\\Local\\Temp\\ipykernel_34800\\2238899073.py:61: FutureWarning: The frame.append method is deprecated and will be removed from pandas in a future version. Use pandas.concat instead.\n",
      "  df = df.append(datarow, ignore_index=True)\n",
      "C:\\Users\\lando\\AppData\\Local\\Temp\\ipykernel_34800\\2238899073.py:61: FutureWarning: The frame.append method is deprecated and will be removed from pandas in a future version. Use pandas.concat instead.\n",
      "  df = df.append(datarow, ignore_index=True)\n",
      "C:\\Users\\lando\\AppData\\Local\\Temp\\ipykernel_34800\\2238899073.py:61: FutureWarning: The frame.append method is deprecated and will be removed from pandas in a future version. Use pandas.concat instead.\n",
      "  df = df.append(datarow, ignore_index=True)\n",
      "C:\\Users\\lando\\AppData\\Local\\Temp\\ipykernel_34800\\2238899073.py:61: FutureWarning: The frame.append method is deprecated and will be removed from pandas in a future version. Use pandas.concat instead.\n",
      "  df = df.append(datarow, ignore_index=True)\n",
      "C:\\Users\\lando\\AppData\\Local\\Temp\\ipykernel_34800\\2238899073.py:61: FutureWarning: The frame.append method is deprecated and will be removed from pandas in a future version. Use pandas.concat instead.\n",
      "  df = df.append(datarow, ignore_index=True)\n",
      "C:\\Users\\lando\\AppData\\Local\\Temp\\ipykernel_34800\\2238899073.py:61: FutureWarning: The frame.append method is deprecated and will be removed from pandas in a future version. Use pandas.concat instead.\n",
      "  df = df.append(datarow, ignore_index=True)\n",
      "C:\\Users\\lando\\AppData\\Local\\Temp\\ipykernel_34800\\2238899073.py:61: FutureWarning: The frame.append method is deprecated and will be removed from pandas in a future version. Use pandas.concat instead.\n",
      "  df = df.append(datarow, ignore_index=True)\n",
      "C:\\Users\\lando\\AppData\\Local\\Temp\\ipykernel_34800\\2238899073.py:61: FutureWarning: The frame.append method is deprecated and will be removed from pandas in a future version. Use pandas.concat instead.\n",
      "  df = df.append(datarow, ignore_index=True)\n",
      "C:\\Users\\lando\\AppData\\Local\\Temp\\ipykernel_34800\\2238899073.py:61: FutureWarning: The frame.append method is deprecated and will be removed from pandas in a future version. Use pandas.concat instead.\n",
      "  df = df.append(datarow, ignore_index=True)\n",
      "C:\\Users\\lando\\AppData\\Local\\Temp\\ipykernel_34800\\2238899073.py:61: FutureWarning: The frame.append method is deprecated and will be removed from pandas in a future version. Use pandas.concat instead.\n",
      "  df = df.append(datarow, ignore_index=True)\n",
      "C:\\Users\\lando\\AppData\\Local\\Temp\\ipykernel_34800\\2238899073.py:61: FutureWarning: The frame.append method is deprecated and will be removed from pandas in a future version. Use pandas.concat instead.\n",
      "  df = df.append(datarow, ignore_index=True)\n",
      "C:\\Users\\lando\\AppData\\Local\\Temp\\ipykernel_34800\\2238899073.py:61: FutureWarning: The frame.append method is deprecated and will be removed from pandas in a future version. Use pandas.concat instead.\n",
      "  df = df.append(datarow, ignore_index=True)\n",
      "C:\\Users\\lando\\AppData\\Local\\Temp\\ipykernel_34800\\2238899073.py:61: FutureWarning: The frame.append method is deprecated and will be removed from pandas in a future version. Use pandas.concat instead.\n",
      "  df = df.append(datarow, ignore_index=True)\n",
      "C:\\Users\\lando\\AppData\\Local\\Temp\\ipykernel_34800\\2238899073.py:61: FutureWarning: The frame.append method is deprecated and will be removed from pandas in a future version. Use pandas.concat instead.\n",
      "  df = df.append(datarow, ignore_index=True)\n",
      "C:\\Users\\lando\\AppData\\Local\\Temp\\ipykernel_34800\\2238899073.py:61: FutureWarning: The frame.append method is deprecated and will be removed from pandas in a future version. Use pandas.concat instead.\n",
      "  df = df.append(datarow, ignore_index=True)\n",
      "C:\\Users\\lando\\AppData\\Local\\Temp\\ipykernel_34800\\2238899073.py:61: FutureWarning: The frame.append method is deprecated and will be removed from pandas in a future version. Use pandas.concat instead.\n",
      "  df = df.append(datarow, ignore_index=True)\n",
      "C:\\Users\\lando\\AppData\\Local\\Temp\\ipykernel_34800\\2238899073.py:61: FutureWarning: The frame.append method is deprecated and will be removed from pandas in a future version. Use pandas.concat instead.\n",
      "  df = df.append(datarow, ignore_index=True)\n",
      "C:\\Users\\lando\\AppData\\Local\\Temp\\ipykernel_34800\\2238899073.py:61: FutureWarning: The frame.append method is deprecated and will be removed from pandas in a future version. Use pandas.concat instead.\n",
      "  df = df.append(datarow, ignore_index=True)\n",
      "C:\\Users\\lando\\AppData\\Local\\Temp\\ipykernel_34800\\2238899073.py:61: FutureWarning: The frame.append method is deprecated and will be removed from pandas in a future version. Use pandas.concat instead.\n",
      "  df = df.append(datarow, ignore_index=True)\n",
      "C:\\Users\\lando\\AppData\\Local\\Temp\\ipykernel_34800\\2238899073.py:61: FutureWarning: The frame.append method is deprecated and will be removed from pandas in a future version. Use pandas.concat instead.\n",
      "  df = df.append(datarow, ignore_index=True)\n",
      "C:\\Users\\lando\\AppData\\Local\\Temp\\ipykernel_34800\\2238899073.py:61: FutureWarning: The frame.append method is deprecated and will be removed from pandas in a future version. Use pandas.concat instead.\n",
      "  df = df.append(datarow, ignore_index=True)\n",
      "C:\\Users\\lando\\AppData\\Local\\Temp\\ipykernel_34800\\2238899073.py:61: FutureWarning: The frame.append method is deprecated and will be removed from pandas in a future version. Use pandas.concat instead.\n",
      "  df = df.append(datarow, ignore_index=True)\n",
      "C:\\Users\\lando\\AppData\\Local\\Temp\\ipykernel_34800\\2238899073.py:61: FutureWarning: The frame.append method is deprecated and will be removed from pandas in a future version. Use pandas.concat instead.\n",
      "  df = df.append(datarow, ignore_index=True)\n",
      "C:\\Users\\lando\\AppData\\Local\\Temp\\ipykernel_34800\\2238899073.py:61: FutureWarning: The frame.append method is deprecated and will be removed from pandas in a future version. Use pandas.concat instead.\n",
      "  df = df.append(datarow, ignore_index=True)\n",
      "C:\\Users\\lando\\AppData\\Local\\Temp\\ipykernel_34800\\2238899073.py:61: FutureWarning: The frame.append method is deprecated and will be removed from pandas in a future version. Use pandas.concat instead.\n",
      "  df = df.append(datarow, ignore_index=True)\n",
      "C:\\Users\\lando\\AppData\\Local\\Temp\\ipykernel_34800\\2238899073.py:61: FutureWarning: The frame.append method is deprecated and will be removed from pandas in a future version. Use pandas.concat instead.\n",
      "  df = df.append(datarow, ignore_index=True)\n",
      "C:\\Users\\lando\\AppData\\Local\\Temp\\ipykernel_34800\\2238899073.py:61: FutureWarning: The frame.append method is deprecated and will be removed from pandas in a future version. Use pandas.concat instead.\n",
      "  df = df.append(datarow, ignore_index=True)\n",
      "C:\\Users\\lando\\AppData\\Local\\Temp\\ipykernel_34800\\2238899073.py:61: FutureWarning: The frame.append method is deprecated and will be removed from pandas in a future version. Use pandas.concat instead.\n",
      "  df = df.append(datarow, ignore_index=True)\n",
      "C:\\Users\\lando\\AppData\\Local\\Temp\\ipykernel_34800\\2238899073.py:61: FutureWarning: The frame.append method is deprecated and will be removed from pandas in a future version. Use pandas.concat instead.\n",
      "  df = df.append(datarow, ignore_index=True)\n",
      "C:\\Users\\lando\\AppData\\Local\\Temp\\ipykernel_34800\\2238899073.py:61: FutureWarning: The frame.append method is deprecated and will be removed from pandas in a future version. Use pandas.concat instead.\n",
      "  df = df.append(datarow, ignore_index=True)\n",
      "C:\\Users\\lando\\AppData\\Local\\Temp\\ipykernel_34800\\2238899073.py:61: FutureWarning: The frame.append method is deprecated and will be removed from pandas in a future version. Use pandas.concat instead.\n",
      "  df = df.append(datarow, ignore_index=True)\n",
      "C:\\Users\\lando\\AppData\\Local\\Temp\\ipykernel_34800\\2238899073.py:61: FutureWarning: The frame.append method is deprecated and will be removed from pandas in a future version. Use pandas.concat instead.\n",
      "  df = df.append(datarow, ignore_index=True)\n",
      "C:\\Users\\lando\\AppData\\Local\\Temp\\ipykernel_34800\\2238899073.py:61: FutureWarning: The frame.append method is deprecated and will be removed from pandas in a future version. Use pandas.concat instead.\n",
      "  df = df.append(datarow, ignore_index=True)\n",
      "C:\\Users\\lando\\AppData\\Local\\Temp\\ipykernel_34800\\2238899073.py:61: FutureWarning: The frame.append method is deprecated and will be removed from pandas in a future version. Use pandas.concat instead.\n",
      "  df = df.append(datarow, ignore_index=True)\n",
      "C:\\Users\\lando\\AppData\\Local\\Temp\\ipykernel_34800\\2238899073.py:61: FutureWarning: The frame.append method is deprecated and will be removed from pandas in a future version. Use pandas.concat instead.\n",
      "  df = df.append(datarow, ignore_index=True)\n",
      "C:\\Users\\lando\\AppData\\Local\\Temp\\ipykernel_34800\\2238899073.py:61: FutureWarning: The frame.append method is deprecated and will be removed from pandas in a future version. Use pandas.concat instead.\n",
      "  df = df.append(datarow, ignore_index=True)\n",
      "C:\\Users\\lando\\AppData\\Local\\Temp\\ipykernel_34800\\2238899073.py:61: FutureWarning: The frame.append method is deprecated and will be removed from pandas in a future version. Use pandas.concat instead.\n",
      "  df = df.append(datarow, ignore_index=True)\n",
      "C:\\Users\\lando\\AppData\\Local\\Temp\\ipykernel_34800\\2238899073.py:61: FutureWarning: The frame.append method is deprecated and will be removed from pandas in a future version. Use pandas.concat instead.\n",
      "  df = df.append(datarow, ignore_index=True)\n",
      "C:\\Users\\lando\\AppData\\Local\\Temp\\ipykernel_34800\\2238899073.py:61: FutureWarning: The frame.append method is deprecated and will be removed from pandas in a future version. Use pandas.concat instead.\n",
      "  df = df.append(datarow, ignore_index=True)\n",
      "C:\\Users\\lando\\AppData\\Local\\Temp\\ipykernel_34800\\2238899073.py:61: FutureWarning: The frame.append method is deprecated and will be removed from pandas in a future version. Use pandas.concat instead.\n",
      "  df = df.append(datarow, ignore_index=True)\n",
      "C:\\Users\\lando\\AppData\\Local\\Temp\\ipykernel_34800\\2238899073.py:61: FutureWarning: The frame.append method is deprecated and will be removed from pandas in a future version. Use pandas.concat instead.\n",
      "  df = df.append(datarow, ignore_index=True)\n",
      "C:\\Users\\lando\\AppData\\Local\\Temp\\ipykernel_34800\\2238899073.py:61: FutureWarning: The frame.append method is deprecated and will be removed from pandas in a future version. Use pandas.concat instead.\n",
      "  df = df.append(datarow, ignore_index=True)\n",
      "C:\\Users\\lando\\AppData\\Local\\Temp\\ipykernel_34800\\2238899073.py:61: FutureWarning: The frame.append method is deprecated and will be removed from pandas in a future version. Use pandas.concat instead.\n",
      "  df = df.append(datarow, ignore_index=True)\n",
      "C:\\Users\\lando\\AppData\\Local\\Temp\\ipykernel_34800\\2238899073.py:61: FutureWarning: The frame.append method is deprecated and will be removed from pandas in a future version. Use pandas.concat instead.\n",
      "  df = df.append(datarow, ignore_index=True)\n",
      "C:\\Users\\lando\\AppData\\Local\\Temp\\ipykernel_34800\\2238899073.py:61: FutureWarning: The frame.append method is deprecated and will be removed from pandas in a future version. Use pandas.concat instead.\n",
      "  df = df.append(datarow, ignore_index=True)\n",
      "C:\\Users\\lando\\AppData\\Local\\Temp\\ipykernel_34800\\2238899073.py:61: FutureWarning: The frame.append method is deprecated and will be removed from pandas in a future version. Use pandas.concat instead.\n",
      "  df = df.append(datarow, ignore_index=True)\n",
      "C:\\Users\\lando\\AppData\\Local\\Temp\\ipykernel_34800\\2238899073.py:61: FutureWarning: The frame.append method is deprecated and will be removed from pandas in a future version. Use pandas.concat instead.\n",
      "  df = df.append(datarow, ignore_index=True)\n",
      "C:\\Users\\lando\\AppData\\Local\\Temp\\ipykernel_34800\\2238899073.py:61: FutureWarning: The frame.append method is deprecated and will be removed from pandas in a future version. Use pandas.concat instead.\n",
      "  df = df.append(datarow, ignore_index=True)\n",
      "C:\\Users\\lando\\AppData\\Local\\Temp\\ipykernel_34800\\2238899073.py:61: FutureWarning: The frame.append method is deprecated and will be removed from pandas in a future version. Use pandas.concat instead.\n",
      "  df = df.append(datarow, ignore_index=True)\n",
      "C:\\Users\\lando\\AppData\\Local\\Temp\\ipykernel_34800\\2238899073.py:61: FutureWarning: The frame.append method is deprecated and will be removed from pandas in a future version. Use pandas.concat instead.\n",
      "  df = df.append(datarow, ignore_index=True)\n",
      "C:\\Users\\lando\\AppData\\Local\\Temp\\ipykernel_34800\\2238899073.py:61: FutureWarning: The frame.append method is deprecated and will be removed from pandas in a future version. Use pandas.concat instead.\n",
      "  df = df.append(datarow, ignore_index=True)\n",
      "C:\\Users\\lando\\AppData\\Local\\Temp\\ipykernel_34800\\2238899073.py:61: FutureWarning: The frame.append method is deprecated and will be removed from pandas in a future version. Use pandas.concat instead.\n",
      "  df = df.append(datarow, ignore_index=True)\n",
      "C:\\Users\\lando\\AppData\\Local\\Temp\\ipykernel_34800\\2238899073.py:61: FutureWarning: The frame.append method is deprecated and will be removed from pandas in a future version. Use pandas.concat instead.\n",
      "  df = df.append(datarow, ignore_index=True)\n",
      "C:\\Users\\lando\\AppData\\Local\\Temp\\ipykernel_34800\\2238899073.py:61: FutureWarning: The frame.append method is deprecated and will be removed from pandas in a future version. Use pandas.concat instead.\n",
      "  df = df.append(datarow, ignore_index=True)\n",
      "C:\\Users\\lando\\AppData\\Local\\Temp\\ipykernel_34800\\2238899073.py:61: FutureWarning: The frame.append method is deprecated and will be removed from pandas in a future version. Use pandas.concat instead.\n",
      "  df = df.append(datarow, ignore_index=True)\n",
      "C:\\Users\\lando\\AppData\\Local\\Temp\\ipykernel_34800\\2238899073.py:61: FutureWarning: The frame.append method is deprecated and will be removed from pandas in a future version. Use pandas.concat instead.\n",
      "  df = df.append(datarow, ignore_index=True)\n",
      "C:\\Users\\lando\\AppData\\Local\\Temp\\ipykernel_34800\\2238899073.py:61: FutureWarning: The frame.append method is deprecated and will be removed from pandas in a future version. Use pandas.concat instead.\n",
      "  df = df.append(datarow, ignore_index=True)\n",
      "C:\\Users\\lando\\AppData\\Local\\Temp\\ipykernel_34800\\2238899073.py:61: FutureWarning: The frame.append method is deprecated and will be removed from pandas in a future version. Use pandas.concat instead.\n",
      "  df = df.append(datarow, ignore_index=True)\n",
      "C:\\Users\\lando\\AppData\\Local\\Temp\\ipykernel_34800\\2238899073.py:61: FutureWarning: The frame.append method is deprecated and will be removed from pandas in a future version. Use pandas.concat instead.\n",
      "  df = df.append(datarow, ignore_index=True)\n",
      "C:\\Users\\lando\\AppData\\Local\\Temp\\ipykernel_34800\\2238899073.py:61: FutureWarning: The frame.append method is deprecated and will be removed from pandas in a future version. Use pandas.concat instead.\n",
      "  df = df.append(datarow, ignore_index=True)\n",
      "C:\\Users\\lando\\AppData\\Local\\Temp\\ipykernel_34800\\2238899073.py:61: FutureWarning: The frame.append method is deprecated and will be removed from pandas in a future version. Use pandas.concat instead.\n",
      "  df = df.append(datarow, ignore_index=True)\n",
      "C:\\Users\\lando\\AppData\\Local\\Temp\\ipykernel_34800\\2238899073.py:61: FutureWarning: The frame.append method is deprecated and will be removed from pandas in a future version. Use pandas.concat instead.\n",
      "  df = df.append(datarow, ignore_index=True)\n",
      "C:\\Users\\lando\\AppData\\Local\\Temp\\ipykernel_34800\\2238899073.py:61: FutureWarning: The frame.append method is deprecated and will be removed from pandas in a future version. Use pandas.concat instead.\n",
      "  df = df.append(datarow, ignore_index=True)\n",
      "C:\\Users\\lando\\AppData\\Local\\Temp\\ipykernel_34800\\2238899073.py:61: FutureWarning: The frame.append method is deprecated and will be removed from pandas in a future version. Use pandas.concat instead.\n",
      "  df = df.append(datarow, ignore_index=True)\n",
      "C:\\Users\\lando\\AppData\\Local\\Temp\\ipykernel_34800\\2238899073.py:61: FutureWarning: The frame.append method is deprecated and will be removed from pandas in a future version. Use pandas.concat instead.\n",
      "  df = df.append(datarow, ignore_index=True)\n",
      "C:\\Users\\lando\\AppData\\Local\\Temp\\ipykernel_34800\\2238899073.py:61: FutureWarning: The frame.append method is deprecated and will be removed from pandas in a future version. Use pandas.concat instead.\n",
      "  df = df.append(datarow, ignore_index=True)\n",
      "C:\\Users\\lando\\AppData\\Local\\Temp\\ipykernel_34800\\2238899073.py:61: FutureWarning: The frame.append method is deprecated and will be removed from pandas in a future version. Use pandas.concat instead.\n",
      "  df = df.append(datarow, ignore_index=True)\n",
      "C:\\Users\\lando\\AppData\\Local\\Temp\\ipykernel_34800\\2238899073.py:61: FutureWarning: The frame.append method is deprecated and will be removed from pandas in a future version. Use pandas.concat instead.\n",
      "  df = df.append(datarow, ignore_index=True)\n",
      "C:\\Users\\lando\\AppData\\Local\\Temp\\ipykernel_34800\\2238899073.py:61: FutureWarning: The frame.append method is deprecated and will be removed from pandas in a future version. Use pandas.concat instead.\n",
      "  df = df.append(datarow, ignore_index=True)\n",
      "C:\\Users\\lando\\AppData\\Local\\Temp\\ipykernel_34800\\2238899073.py:61: FutureWarning: The frame.append method is deprecated and will be removed from pandas in a future version. Use pandas.concat instead.\n",
      "  df = df.append(datarow, ignore_index=True)\n",
      "C:\\Users\\lando\\AppData\\Local\\Temp\\ipykernel_34800\\2238899073.py:61: FutureWarning: The frame.append method is deprecated and will be removed from pandas in a future version. Use pandas.concat instead.\n",
      "  df = df.append(datarow, ignore_index=True)\n",
      "C:\\Users\\lando\\AppData\\Local\\Temp\\ipykernel_34800\\2238899073.py:61: FutureWarning: The frame.append method is deprecated and will be removed from pandas in a future version. Use pandas.concat instead.\n",
      "  df = df.append(datarow, ignore_index=True)\n",
      "C:\\Users\\lando\\AppData\\Local\\Temp\\ipykernel_34800\\2238899073.py:61: FutureWarning: The frame.append method is deprecated and will be removed from pandas in a future version. Use pandas.concat instead.\n",
      "  df = df.append(datarow, ignore_index=True)\n",
      "C:\\Users\\lando\\AppData\\Local\\Temp\\ipykernel_34800\\2238899073.py:61: FutureWarning: The frame.append method is deprecated and will be removed from pandas in a future version. Use pandas.concat instead.\n",
      "  df = df.append(datarow, ignore_index=True)\n",
      "C:\\Users\\lando\\AppData\\Local\\Temp\\ipykernel_34800\\2238899073.py:61: FutureWarning: The frame.append method is deprecated and will be removed from pandas in a future version. Use pandas.concat instead.\n",
      "  df = df.append(datarow, ignore_index=True)\n",
      "C:\\Users\\lando\\AppData\\Local\\Temp\\ipykernel_34800\\2238899073.py:61: FutureWarning: The frame.append method is deprecated and will be removed from pandas in a future version. Use pandas.concat instead.\n",
      "  df = df.append(datarow, ignore_index=True)\n",
      "C:\\Users\\lando\\AppData\\Local\\Temp\\ipykernel_34800\\2238899073.py:61: FutureWarning: The frame.append method is deprecated and will be removed from pandas in a future version. Use pandas.concat instead.\n",
      "  df = df.append(datarow, ignore_index=True)\n",
      "C:\\Users\\lando\\AppData\\Local\\Temp\\ipykernel_34800\\2238899073.py:61: FutureWarning: The frame.append method is deprecated and will be removed from pandas in a future version. Use pandas.concat instead.\n",
      "  df = df.append(datarow, ignore_index=True)\n",
      "C:\\Users\\lando\\AppData\\Local\\Temp\\ipykernel_34800\\2238899073.py:61: FutureWarning: The frame.append method is deprecated and will be removed from pandas in a future version. Use pandas.concat instead.\n",
      "  df = df.append(datarow, ignore_index=True)\n",
      "C:\\Users\\lando\\AppData\\Local\\Temp\\ipykernel_34800\\2238899073.py:61: FutureWarning: The frame.append method is deprecated and will be removed from pandas in a future version. Use pandas.concat instead.\n",
      "  df = df.append(datarow, ignore_index=True)\n",
      "C:\\Users\\lando\\AppData\\Local\\Temp\\ipykernel_34800\\2238899073.py:61: FutureWarning: The frame.append method is deprecated and will be removed from pandas in a future version. Use pandas.concat instead.\n",
      "  df = df.append(datarow, ignore_index=True)\n",
      "C:\\Users\\lando\\AppData\\Local\\Temp\\ipykernel_34800\\2238899073.py:61: FutureWarning: The frame.append method is deprecated and will be removed from pandas in a future version. Use pandas.concat instead.\n",
      "  df = df.append(datarow, ignore_index=True)\n",
      "C:\\Users\\lando\\AppData\\Local\\Temp\\ipykernel_34800\\2238899073.py:61: FutureWarning: The frame.append method is deprecated and will be removed from pandas in a future version. Use pandas.concat instead.\n",
      "  df = df.append(datarow, ignore_index=True)\n",
      "C:\\Users\\lando\\AppData\\Local\\Temp\\ipykernel_34800\\2238899073.py:61: FutureWarning: The frame.append method is deprecated and will be removed from pandas in a future version. Use pandas.concat instead.\n",
      "  df = df.append(datarow, ignore_index=True)\n",
      "C:\\Users\\lando\\AppData\\Local\\Temp\\ipykernel_34800\\2238899073.py:61: FutureWarning: The frame.append method is deprecated and will be removed from pandas in a future version. Use pandas.concat instead.\n",
      "  df = df.append(datarow, ignore_index=True)\n",
      "C:\\Users\\lando\\AppData\\Local\\Temp\\ipykernel_34800\\2238899073.py:61: FutureWarning: The frame.append method is deprecated and will be removed from pandas in a future version. Use pandas.concat instead.\n",
      "  df = df.append(datarow, ignore_index=True)\n",
      "C:\\Users\\lando\\AppData\\Local\\Temp\\ipykernel_34800\\2238899073.py:61: FutureWarning: The frame.append method is deprecated and will be removed from pandas in a future version. Use pandas.concat instead.\n",
      "  df = df.append(datarow, ignore_index=True)\n",
      "C:\\Users\\lando\\AppData\\Local\\Temp\\ipykernel_34800\\2238899073.py:61: FutureWarning: The frame.append method is deprecated and will be removed from pandas in a future version. Use pandas.concat instead.\n",
      "  df = df.append(datarow, ignore_index=True)\n",
      "C:\\Users\\lando\\AppData\\Local\\Temp\\ipykernel_34800\\2238899073.py:61: FutureWarning: The frame.append method is deprecated and will be removed from pandas in a future version. Use pandas.concat instead.\n",
      "  df = df.append(datarow, ignore_index=True)\n",
      "C:\\Users\\lando\\AppData\\Local\\Temp\\ipykernel_34800\\2238899073.py:61: FutureWarning: The frame.append method is deprecated and will be removed from pandas in a future version. Use pandas.concat instead.\n",
      "  df = df.append(datarow, ignore_index=True)\n",
      "C:\\Users\\lando\\AppData\\Local\\Temp\\ipykernel_34800\\2238899073.py:61: FutureWarning: The frame.append method is deprecated and will be removed from pandas in a future version. Use pandas.concat instead.\n",
      "  df = df.append(datarow, ignore_index=True)\n",
      "C:\\Users\\lando\\AppData\\Local\\Temp\\ipykernel_34800\\2238899073.py:61: FutureWarning: The frame.append method is deprecated and will be removed from pandas in a future version. Use pandas.concat instead.\n",
      "  df = df.append(datarow, ignore_index=True)\n",
      "C:\\Users\\lando\\AppData\\Local\\Temp\\ipykernel_34800\\2238899073.py:61: FutureWarning: The frame.append method is deprecated and will be removed from pandas in a future version. Use pandas.concat instead.\n",
      "  df = df.append(datarow, ignore_index=True)\n",
      "C:\\Users\\lando\\AppData\\Local\\Temp\\ipykernel_34800\\2238899073.py:61: FutureWarning: The frame.append method is deprecated and will be removed from pandas in a future version. Use pandas.concat instead.\n",
      "  df = df.append(datarow, ignore_index=True)\n",
      "C:\\Users\\lando\\AppData\\Local\\Temp\\ipykernel_34800\\2238899073.py:61: FutureWarning: The frame.append method is deprecated and will be removed from pandas in a future version. Use pandas.concat instead.\n",
      "  df = df.append(datarow, ignore_index=True)\n",
      "C:\\Users\\lando\\AppData\\Local\\Temp\\ipykernel_34800\\2238899073.py:61: FutureWarning: The frame.append method is deprecated and will be removed from pandas in a future version. Use pandas.concat instead.\n",
      "  df = df.append(datarow, ignore_index=True)\n",
      "C:\\Users\\lando\\AppData\\Local\\Temp\\ipykernel_34800\\2238899073.py:61: FutureWarning: The frame.append method is deprecated and will be removed from pandas in a future version. Use pandas.concat instead.\n",
      "  df = df.append(datarow, ignore_index=True)\n",
      "C:\\Users\\lando\\AppData\\Local\\Temp\\ipykernel_34800\\2238899073.py:61: FutureWarning: The frame.append method is deprecated and will be removed from pandas in a future version. Use pandas.concat instead.\n",
      "  df = df.append(datarow, ignore_index=True)\n",
      "C:\\Users\\lando\\AppData\\Local\\Temp\\ipykernel_34800\\2238899073.py:61: FutureWarning: The frame.append method is deprecated and will be removed from pandas in a future version. Use pandas.concat instead.\n",
      "  df = df.append(datarow, ignore_index=True)\n",
      "C:\\Users\\lando\\AppData\\Local\\Temp\\ipykernel_34800\\2238899073.py:61: FutureWarning: The frame.append method is deprecated and will be removed from pandas in a future version. Use pandas.concat instead.\n",
      "  df = df.append(datarow, ignore_index=True)\n",
      "C:\\Users\\lando\\AppData\\Local\\Temp\\ipykernel_34800\\2238899073.py:61: FutureWarning: The frame.append method is deprecated and will be removed from pandas in a future version. Use pandas.concat instead.\n",
      "  df = df.append(datarow, ignore_index=True)\n",
      "C:\\Users\\lando\\AppData\\Local\\Temp\\ipykernel_34800\\2238899073.py:61: FutureWarning: The frame.append method is deprecated and will be removed from pandas in a future version. Use pandas.concat instead.\n",
      "  df = df.append(datarow, ignore_index=True)\n",
      "C:\\Users\\lando\\AppData\\Local\\Temp\\ipykernel_34800\\2238899073.py:61: FutureWarning: The frame.append method is deprecated and will be removed from pandas in a future version. Use pandas.concat instead.\n",
      "  df = df.append(datarow, ignore_index=True)\n",
      "C:\\Users\\lando\\AppData\\Local\\Temp\\ipykernel_34800\\2238899073.py:61: FutureWarning: The frame.append method is deprecated and will be removed from pandas in a future version. Use pandas.concat instead.\n",
      "  df = df.append(datarow, ignore_index=True)\n",
      "C:\\Users\\lando\\AppData\\Local\\Temp\\ipykernel_34800\\2238899073.py:61: FutureWarning: The frame.append method is deprecated and will be removed from pandas in a future version. Use pandas.concat instead.\n",
      "  df = df.append(datarow, ignore_index=True)\n",
      "C:\\Users\\lando\\AppData\\Local\\Temp\\ipykernel_34800\\2238899073.py:61: FutureWarning: The frame.append method is deprecated and will be removed from pandas in a future version. Use pandas.concat instead.\n",
      "  df = df.append(datarow, ignore_index=True)\n",
      "C:\\Users\\lando\\AppData\\Local\\Temp\\ipykernel_34800\\2238899073.py:61: FutureWarning: The frame.append method is deprecated and will be removed from pandas in a future version. Use pandas.concat instead.\n",
      "  df = df.append(datarow, ignore_index=True)\n",
      "C:\\Users\\lando\\AppData\\Local\\Temp\\ipykernel_34800\\2238899073.py:61: FutureWarning: The frame.append method is deprecated and will be removed from pandas in a future version. Use pandas.concat instead.\n",
      "  df = df.append(datarow, ignore_index=True)\n",
      "C:\\Users\\lando\\AppData\\Local\\Temp\\ipykernel_34800\\2238899073.py:61: FutureWarning: The frame.append method is deprecated and will be removed from pandas in a future version. Use pandas.concat instead.\n",
      "  df = df.append(datarow, ignore_index=True)\n",
      "C:\\Users\\lando\\AppData\\Local\\Temp\\ipykernel_34800\\2238899073.py:61: FutureWarning: The frame.append method is deprecated and will be removed from pandas in a future version. Use pandas.concat instead.\n",
      "  df = df.append(datarow, ignore_index=True)\n",
      "C:\\Users\\lando\\AppData\\Local\\Temp\\ipykernel_34800\\2238899073.py:61: FutureWarning: The frame.append method is deprecated and will be removed from pandas in a future version. Use pandas.concat instead.\n",
      "  df = df.append(datarow, ignore_index=True)\n",
      "C:\\Users\\lando\\AppData\\Local\\Temp\\ipykernel_34800\\2238899073.py:61: FutureWarning: The frame.append method is deprecated and will be removed from pandas in a future version. Use pandas.concat instead.\n",
      "  df = df.append(datarow, ignore_index=True)\n",
      "C:\\Users\\lando\\AppData\\Local\\Temp\\ipykernel_34800\\2238899073.py:61: FutureWarning: The frame.append method is deprecated and will be removed from pandas in a future version. Use pandas.concat instead.\n",
      "  df = df.append(datarow, ignore_index=True)\n",
      "C:\\Users\\lando\\AppData\\Local\\Temp\\ipykernel_34800\\2238899073.py:61: FutureWarning: The frame.append method is deprecated and will be removed from pandas in a future version. Use pandas.concat instead.\n",
      "  df = df.append(datarow, ignore_index=True)\n",
      "C:\\Users\\lando\\AppData\\Local\\Temp\\ipykernel_34800\\2238899073.py:61: FutureWarning: The frame.append method is deprecated and will be removed from pandas in a future version. Use pandas.concat instead.\n",
      "  df = df.append(datarow, ignore_index=True)\n",
      "C:\\Users\\lando\\AppData\\Local\\Temp\\ipykernel_34800\\2238899073.py:61: FutureWarning: The frame.append method is deprecated and will be removed from pandas in a future version. Use pandas.concat instead.\n",
      "  df = df.append(datarow, ignore_index=True)\n",
      "C:\\Users\\lando\\AppData\\Local\\Temp\\ipykernel_34800\\2238899073.py:61: FutureWarning: The frame.append method is deprecated and will be removed from pandas in a future version. Use pandas.concat instead.\n",
      "  df = df.append(datarow, ignore_index=True)\n",
      "C:\\Users\\lando\\AppData\\Local\\Temp\\ipykernel_34800\\2238899073.py:61: FutureWarning: The frame.append method is deprecated and will be removed from pandas in a future version. Use pandas.concat instead.\n",
      "  df = df.append(datarow, ignore_index=True)\n",
      "C:\\Users\\lando\\AppData\\Local\\Temp\\ipykernel_34800\\2238899073.py:61: FutureWarning: The frame.append method is deprecated and will be removed from pandas in a future version. Use pandas.concat instead.\n",
      "  df = df.append(datarow, ignore_index=True)\n",
      "C:\\Users\\lando\\AppData\\Local\\Temp\\ipykernel_34800\\2238899073.py:61: FutureWarning: The frame.append method is deprecated and will be removed from pandas in a future version. Use pandas.concat instead.\n",
      "  df = df.append(datarow, ignore_index=True)\n",
      "C:\\Users\\lando\\AppData\\Local\\Temp\\ipykernel_34800\\2238899073.py:61: FutureWarning: The frame.append method is deprecated and will be removed from pandas in a future version. Use pandas.concat instead.\n",
      "  df = df.append(datarow, ignore_index=True)\n",
      "C:\\Users\\lando\\AppData\\Local\\Temp\\ipykernel_34800\\2238899073.py:61: FutureWarning: The frame.append method is deprecated and will be removed from pandas in a future version. Use pandas.concat instead.\n",
      "  df = df.append(datarow, ignore_index=True)\n",
      "C:\\Users\\lando\\AppData\\Local\\Temp\\ipykernel_34800\\2238899073.py:61: FutureWarning: The frame.append method is deprecated and will be removed from pandas in a future version. Use pandas.concat instead.\n",
      "  df = df.append(datarow, ignore_index=True)\n",
      "C:\\Users\\lando\\AppData\\Local\\Temp\\ipykernel_34800\\2238899073.py:61: FutureWarning: The frame.append method is deprecated and will be removed from pandas in a future version. Use pandas.concat instead.\n",
      "  df = df.append(datarow, ignore_index=True)\n",
      "C:\\Users\\lando\\AppData\\Local\\Temp\\ipykernel_34800\\2238899073.py:61: FutureWarning: The frame.append method is deprecated and will be removed from pandas in a future version. Use pandas.concat instead.\n",
      "  df = df.append(datarow, ignore_index=True)\n",
      "C:\\Users\\lando\\AppData\\Local\\Temp\\ipykernel_34800\\2238899073.py:61: FutureWarning: The frame.append method is deprecated and will be removed from pandas in a future version. Use pandas.concat instead.\n",
      "  df = df.append(datarow, ignore_index=True)\n",
      "C:\\Users\\lando\\AppData\\Local\\Temp\\ipykernel_34800\\2238899073.py:61: FutureWarning: The frame.append method is deprecated and will be removed from pandas in a future version. Use pandas.concat instead.\n",
      "  df = df.append(datarow, ignore_index=True)\n",
      "C:\\Users\\lando\\AppData\\Local\\Temp\\ipykernel_34800\\2238899073.py:61: FutureWarning: The frame.append method is deprecated and will be removed from pandas in a future version. Use pandas.concat instead.\n",
      "  df = df.append(datarow, ignore_index=True)\n",
      "C:\\Users\\lando\\AppData\\Local\\Temp\\ipykernel_34800\\2238899073.py:61: FutureWarning: The frame.append method is deprecated and will be removed from pandas in a future version. Use pandas.concat instead.\n",
      "  df = df.append(datarow, ignore_index=True)\n",
      "C:\\Users\\lando\\AppData\\Local\\Temp\\ipykernel_34800\\2238899073.py:61: FutureWarning: The frame.append method is deprecated and will be removed from pandas in a future version. Use pandas.concat instead.\n",
      "  df = df.append(datarow, ignore_index=True)\n",
      "C:\\Users\\lando\\AppData\\Local\\Temp\\ipykernel_34800\\2238899073.py:61: FutureWarning: The frame.append method is deprecated and will be removed from pandas in a future version. Use pandas.concat instead.\n",
      "  df = df.append(datarow, ignore_index=True)\n",
      "C:\\Users\\lando\\AppData\\Local\\Temp\\ipykernel_34800\\2238899073.py:61: FutureWarning: The frame.append method is deprecated and will be removed from pandas in a future version. Use pandas.concat instead.\n",
      "  df = df.append(datarow, ignore_index=True)\n",
      "C:\\Users\\lando\\AppData\\Local\\Temp\\ipykernel_34800\\2238899073.py:61: FutureWarning: The frame.append method is deprecated and will be removed from pandas in a future version. Use pandas.concat instead.\n",
      "  df = df.append(datarow, ignore_index=True)\n",
      "C:\\Users\\lando\\AppData\\Local\\Temp\\ipykernel_34800\\2238899073.py:61: FutureWarning: The frame.append method is deprecated and will be removed from pandas in a future version. Use pandas.concat instead.\n",
      "  df = df.append(datarow, ignore_index=True)\n",
      "C:\\Users\\lando\\AppData\\Local\\Temp\\ipykernel_34800\\2238899073.py:61: FutureWarning: The frame.append method is deprecated and will be removed from pandas in a future version. Use pandas.concat instead.\n",
      "  df = df.append(datarow, ignore_index=True)\n",
      "C:\\Users\\lando\\AppData\\Local\\Temp\\ipykernel_34800\\2238899073.py:61: FutureWarning: The frame.append method is deprecated and will be removed from pandas in a future version. Use pandas.concat instead.\n",
      "  df = df.append(datarow, ignore_index=True)\n",
      "C:\\Users\\lando\\AppData\\Local\\Temp\\ipykernel_34800\\2238899073.py:61: FutureWarning: The frame.append method is deprecated and will be removed from pandas in a future version. Use pandas.concat instead.\n",
      "  df = df.append(datarow, ignore_index=True)\n",
      "C:\\Users\\lando\\AppData\\Local\\Temp\\ipykernel_34800\\2238899073.py:61: FutureWarning: The frame.append method is deprecated and will be removed from pandas in a future version. Use pandas.concat instead.\n",
      "  df = df.append(datarow, ignore_index=True)\n",
      "C:\\Users\\lando\\AppData\\Local\\Temp\\ipykernel_34800\\2238899073.py:61: FutureWarning: The frame.append method is deprecated and will be removed from pandas in a future version. Use pandas.concat instead.\n",
      "  df = df.append(datarow, ignore_index=True)\n",
      "C:\\Users\\lando\\AppData\\Local\\Temp\\ipykernel_34800\\2238899073.py:61: FutureWarning: The frame.append method is deprecated and will be removed from pandas in a future version. Use pandas.concat instead.\n",
      "  df = df.append(datarow, ignore_index=True)\n",
      "C:\\Users\\lando\\AppData\\Local\\Temp\\ipykernel_34800\\2238899073.py:61: FutureWarning: The frame.append method is deprecated and will be removed from pandas in a future version. Use pandas.concat instead.\n",
      "  df = df.append(datarow, ignore_index=True)\n",
      "C:\\Users\\lando\\AppData\\Local\\Temp\\ipykernel_34800\\2238899073.py:61: FutureWarning: The frame.append method is deprecated and will be removed from pandas in a future version. Use pandas.concat instead.\n",
      "  df = df.append(datarow, ignore_index=True)\n",
      "C:\\Users\\lando\\AppData\\Local\\Temp\\ipykernel_34800\\2238899073.py:61: FutureWarning: The frame.append method is deprecated and will be removed from pandas in a future version. Use pandas.concat instead.\n",
      "  df = df.append(datarow, ignore_index=True)\n",
      "C:\\Users\\lando\\AppData\\Local\\Temp\\ipykernel_34800\\2238899073.py:61: FutureWarning: The frame.append method is deprecated and will be removed from pandas in a future version. Use pandas.concat instead.\n",
      "  df = df.append(datarow, ignore_index=True)\n",
      "C:\\Users\\lando\\AppData\\Local\\Temp\\ipykernel_34800\\2238899073.py:61: FutureWarning: The frame.append method is deprecated and will be removed from pandas in a future version. Use pandas.concat instead.\n",
      "  df = df.append(datarow, ignore_index=True)\n",
      "C:\\Users\\lando\\AppData\\Local\\Temp\\ipykernel_34800\\2238899073.py:61: FutureWarning: The frame.append method is deprecated and will be removed from pandas in a future version. Use pandas.concat instead.\n",
      "  df = df.append(datarow, ignore_index=True)\n",
      "C:\\Users\\lando\\AppData\\Local\\Temp\\ipykernel_34800\\2238899073.py:61: FutureWarning: The frame.append method is deprecated and will be removed from pandas in a future version. Use pandas.concat instead.\n",
      "  df = df.append(datarow, ignore_index=True)\n",
      "C:\\Users\\lando\\AppData\\Local\\Temp\\ipykernel_34800\\2238899073.py:61: FutureWarning: The frame.append method is deprecated and will be removed from pandas in a future version. Use pandas.concat instead.\n",
      "  df = df.append(datarow, ignore_index=True)\n",
      "C:\\Users\\lando\\AppData\\Local\\Temp\\ipykernel_34800\\2238899073.py:61: FutureWarning: The frame.append method is deprecated and will be removed from pandas in a future version. Use pandas.concat instead.\n",
      "  df = df.append(datarow, ignore_index=True)\n",
      "C:\\Users\\lando\\AppData\\Local\\Temp\\ipykernel_34800\\2238899073.py:61: FutureWarning: The frame.append method is deprecated and will be removed from pandas in a future version. Use pandas.concat instead.\n",
      "  df = df.append(datarow, ignore_index=True)\n",
      "C:\\Users\\lando\\AppData\\Local\\Temp\\ipykernel_34800\\2238899073.py:61: FutureWarning: The frame.append method is deprecated and will be removed from pandas in a future version. Use pandas.concat instead.\n",
      "  df = df.append(datarow, ignore_index=True)\n",
      "C:\\Users\\lando\\AppData\\Local\\Temp\\ipykernel_34800\\2238899073.py:61: FutureWarning: The frame.append method is deprecated and will be removed from pandas in a future version. Use pandas.concat instead.\n",
      "  df = df.append(datarow, ignore_index=True)\n",
      "C:\\Users\\lando\\AppData\\Local\\Temp\\ipykernel_34800\\2238899073.py:61: FutureWarning: The frame.append method is deprecated and will be removed from pandas in a future version. Use pandas.concat instead.\n",
      "  df = df.append(datarow, ignore_index=True)\n",
      "C:\\Users\\lando\\AppData\\Local\\Temp\\ipykernel_34800\\2238899073.py:61: FutureWarning: The frame.append method is deprecated and will be removed from pandas in a future version. Use pandas.concat instead.\n",
      "  df = df.append(datarow, ignore_index=True)\n",
      "C:\\Users\\lando\\AppData\\Local\\Temp\\ipykernel_34800\\2238899073.py:61: FutureWarning: The frame.append method is deprecated and will be removed from pandas in a future version. Use pandas.concat instead.\n",
      "  df = df.append(datarow, ignore_index=True)\n",
      "C:\\Users\\lando\\AppData\\Local\\Temp\\ipykernel_34800\\2238899073.py:61: FutureWarning: The frame.append method is deprecated and will be removed from pandas in a future version. Use pandas.concat instead.\n",
      "  df = df.append(datarow, ignore_index=True)\n",
      "C:\\Users\\lando\\AppData\\Local\\Temp\\ipykernel_34800\\2238899073.py:61: FutureWarning: The frame.append method is deprecated and will be removed from pandas in a future version. Use pandas.concat instead.\n",
      "  df = df.append(datarow, ignore_index=True)\n",
      "C:\\Users\\lando\\AppData\\Local\\Temp\\ipykernel_34800\\2238899073.py:61: FutureWarning: The frame.append method is deprecated and will be removed from pandas in a future version. Use pandas.concat instead.\n",
      "  df = df.append(datarow, ignore_index=True)\n",
      "C:\\Users\\lando\\AppData\\Local\\Temp\\ipykernel_34800\\2238899073.py:61: FutureWarning: The frame.append method is deprecated and will be removed from pandas in a future version. Use pandas.concat instead.\n",
      "  df = df.append(datarow, ignore_index=True)\n",
      "C:\\Users\\lando\\AppData\\Local\\Temp\\ipykernel_34800\\2238899073.py:61: FutureWarning: The frame.append method is deprecated and will be removed from pandas in a future version. Use pandas.concat instead.\n",
      "  df = df.append(datarow, ignore_index=True)\n",
      "C:\\Users\\lando\\AppData\\Local\\Temp\\ipykernel_34800\\2238899073.py:61: FutureWarning: The frame.append method is deprecated and will be removed from pandas in a future version. Use pandas.concat instead.\n",
      "  df = df.append(datarow, ignore_index=True)\n",
      "C:\\Users\\lando\\AppData\\Local\\Temp\\ipykernel_34800\\2238899073.py:61: FutureWarning: The frame.append method is deprecated and will be removed from pandas in a future version. Use pandas.concat instead.\n",
      "  df = df.append(datarow, ignore_index=True)\n",
      "C:\\Users\\lando\\AppData\\Local\\Temp\\ipykernel_34800\\2238899073.py:61: FutureWarning: The frame.append method is deprecated and will be removed from pandas in a future version. Use pandas.concat instead.\n",
      "  df = df.append(datarow, ignore_index=True)\n",
      "C:\\Users\\lando\\AppData\\Local\\Temp\\ipykernel_34800\\2238899073.py:61: FutureWarning: The frame.append method is deprecated and will be removed from pandas in a future version. Use pandas.concat instead.\n",
      "  df = df.append(datarow, ignore_index=True)\n",
      "C:\\Users\\lando\\AppData\\Local\\Temp\\ipykernel_34800\\2238899073.py:61: FutureWarning: The frame.append method is deprecated and will be removed from pandas in a future version. Use pandas.concat instead.\n",
      "  df = df.append(datarow, ignore_index=True)\n",
      "C:\\Users\\lando\\AppData\\Local\\Temp\\ipykernel_34800\\2238899073.py:61: FutureWarning: The frame.append method is deprecated and will be removed from pandas in a future version. Use pandas.concat instead.\n",
      "  df = df.append(datarow, ignore_index=True)\n",
      "C:\\Users\\lando\\AppData\\Local\\Temp\\ipykernel_34800\\2238899073.py:61: FutureWarning: The frame.append method is deprecated and will be removed from pandas in a future version. Use pandas.concat instead.\n",
      "  df = df.append(datarow, ignore_index=True)\n",
      "C:\\Users\\lando\\AppData\\Local\\Temp\\ipykernel_34800\\2238899073.py:61: FutureWarning: The frame.append method is deprecated and will be removed from pandas in a future version. Use pandas.concat instead.\n",
      "  df = df.append(datarow, ignore_index=True)\n",
      "C:\\Users\\lando\\AppData\\Local\\Temp\\ipykernel_34800\\2238899073.py:61: FutureWarning: The frame.append method is deprecated and will be removed from pandas in a future version. Use pandas.concat instead.\n",
      "  df = df.append(datarow, ignore_index=True)\n",
      "C:\\Users\\lando\\AppData\\Local\\Temp\\ipykernel_34800\\2238899073.py:61: FutureWarning: The frame.append method is deprecated and will be removed from pandas in a future version. Use pandas.concat instead.\n",
      "  df = df.append(datarow, ignore_index=True)\n",
      "C:\\Users\\lando\\AppData\\Local\\Temp\\ipykernel_34800\\2238899073.py:61: FutureWarning: The frame.append method is deprecated and will be removed from pandas in a future version. Use pandas.concat instead.\n",
      "  df = df.append(datarow, ignore_index=True)\n",
      "C:\\Users\\lando\\AppData\\Local\\Temp\\ipykernel_34800\\2238899073.py:61: FutureWarning: The frame.append method is deprecated and will be removed from pandas in a future version. Use pandas.concat instead.\n",
      "  df = df.append(datarow, ignore_index=True)\n",
      "C:\\Users\\lando\\AppData\\Local\\Temp\\ipykernel_34800\\2238899073.py:61: FutureWarning: The frame.append method is deprecated and will be removed from pandas in a future version. Use pandas.concat instead.\n",
      "  df = df.append(datarow, ignore_index=True)\n",
      "C:\\Users\\lando\\AppData\\Local\\Temp\\ipykernel_34800\\2238899073.py:61: FutureWarning: The frame.append method is deprecated and will be removed from pandas in a future version. Use pandas.concat instead.\n",
      "  df = df.append(datarow, ignore_index=True)\n",
      "C:\\Users\\lando\\AppData\\Local\\Temp\\ipykernel_34800\\2238899073.py:61: FutureWarning: The frame.append method is deprecated and will be removed from pandas in a future version. Use pandas.concat instead.\n",
      "  df = df.append(datarow, ignore_index=True)\n",
      "C:\\Users\\lando\\AppData\\Local\\Temp\\ipykernel_34800\\2238899073.py:61: FutureWarning: The frame.append method is deprecated and will be removed from pandas in a future version. Use pandas.concat instead.\n",
      "  df = df.append(datarow, ignore_index=True)\n",
      "C:\\Users\\lando\\AppData\\Local\\Temp\\ipykernel_34800\\2238899073.py:61: FutureWarning: The frame.append method is deprecated and will be removed from pandas in a future version. Use pandas.concat instead.\n",
      "  df = df.append(datarow, ignore_index=True)\n",
      "C:\\Users\\lando\\AppData\\Local\\Temp\\ipykernel_34800\\2238899073.py:61: FutureWarning: The frame.append method is deprecated and will be removed from pandas in a future version. Use pandas.concat instead.\n",
      "  df = df.append(datarow, ignore_index=True)\n",
      "C:\\Users\\lando\\AppData\\Local\\Temp\\ipykernel_34800\\2238899073.py:61: FutureWarning: The frame.append method is deprecated and will be removed from pandas in a future version. Use pandas.concat instead.\n",
      "  df = df.append(datarow, ignore_index=True)\n",
      "C:\\Users\\lando\\AppData\\Local\\Temp\\ipykernel_34800\\2238899073.py:61: FutureWarning: The frame.append method is deprecated and will be removed from pandas in a future version. Use pandas.concat instead.\n",
      "  df = df.append(datarow, ignore_index=True)\n",
      "C:\\Users\\lando\\AppData\\Local\\Temp\\ipykernel_34800\\2238899073.py:61: FutureWarning: The frame.append method is deprecated and will be removed from pandas in a future version. Use pandas.concat instead.\n",
      "  df = df.append(datarow, ignore_index=True)\n",
      "C:\\Users\\lando\\AppData\\Local\\Temp\\ipykernel_34800\\2238899073.py:61: FutureWarning: The frame.append method is deprecated and will be removed from pandas in a future version. Use pandas.concat instead.\n",
      "  df = df.append(datarow, ignore_index=True)\n",
      "C:\\Users\\lando\\AppData\\Local\\Temp\\ipykernel_34800\\2238899073.py:61: FutureWarning: The frame.append method is deprecated and will be removed from pandas in a future version. Use pandas.concat instead.\n",
      "  df = df.append(datarow, ignore_index=True)\n",
      "C:\\Users\\lando\\AppData\\Local\\Temp\\ipykernel_34800\\2238899073.py:61: FutureWarning: The frame.append method is deprecated and will be removed from pandas in a future version. Use pandas.concat instead.\n",
      "  df = df.append(datarow, ignore_index=True)\n",
      "C:\\Users\\lando\\AppData\\Local\\Temp\\ipykernel_34800\\2238899073.py:61: FutureWarning: The frame.append method is deprecated and will be removed from pandas in a future version. Use pandas.concat instead.\n",
      "  df = df.append(datarow, ignore_index=True)\n",
      "C:\\Users\\lando\\AppData\\Local\\Temp\\ipykernel_34800\\2238899073.py:61: FutureWarning: The frame.append method is deprecated and will be removed from pandas in a future version. Use pandas.concat instead.\n",
      "  df = df.append(datarow, ignore_index=True)\n",
      "C:\\Users\\lando\\AppData\\Local\\Temp\\ipykernel_34800\\2238899073.py:61: FutureWarning: The frame.append method is deprecated and will be removed from pandas in a future version. Use pandas.concat instead.\n",
      "  df = df.append(datarow, ignore_index=True)\n",
      "C:\\Users\\lando\\AppData\\Local\\Temp\\ipykernel_34800\\2238899073.py:61: FutureWarning: The frame.append method is deprecated and will be removed from pandas in a future version. Use pandas.concat instead.\n",
      "  df = df.append(datarow, ignore_index=True)\n",
      "C:\\Users\\lando\\AppData\\Local\\Temp\\ipykernel_34800\\2238899073.py:61: FutureWarning: The frame.append method is deprecated and will be removed from pandas in a future version. Use pandas.concat instead.\n",
      "  df = df.append(datarow, ignore_index=True)\n",
      "C:\\Users\\lando\\AppData\\Local\\Temp\\ipykernel_34800\\2238899073.py:61: FutureWarning: The frame.append method is deprecated and will be removed from pandas in a future version. Use pandas.concat instead.\n",
      "  df = df.append(datarow, ignore_index=True)\n",
      "C:\\Users\\lando\\AppData\\Local\\Temp\\ipykernel_34800\\2238899073.py:61: FutureWarning: The frame.append method is deprecated and will be removed from pandas in a future version. Use pandas.concat instead.\n",
      "  df = df.append(datarow, ignore_index=True)\n",
      "C:\\Users\\lando\\AppData\\Local\\Temp\\ipykernel_34800\\2238899073.py:61: FutureWarning: The frame.append method is deprecated and will be removed from pandas in a future version. Use pandas.concat instead.\n",
      "  df = df.append(datarow, ignore_index=True)\n",
      "C:\\Users\\lando\\AppData\\Local\\Temp\\ipykernel_34800\\2238899073.py:61: FutureWarning: The frame.append method is deprecated and will be removed from pandas in a future version. Use pandas.concat instead.\n",
      "  df = df.append(datarow, ignore_index=True)\n",
      "C:\\Users\\lando\\AppData\\Local\\Temp\\ipykernel_34800\\2238899073.py:61: FutureWarning: The frame.append method is deprecated and will be removed from pandas in a future version. Use pandas.concat instead.\n",
      "  df = df.append(datarow, ignore_index=True)\n",
      "C:\\Users\\lando\\AppData\\Local\\Temp\\ipykernel_34800\\2238899073.py:61: FutureWarning: The frame.append method is deprecated and will be removed from pandas in a future version. Use pandas.concat instead.\n",
      "  df = df.append(datarow, ignore_index=True)\n",
      "C:\\Users\\lando\\AppData\\Local\\Temp\\ipykernel_34800\\2238899073.py:61: FutureWarning: The frame.append method is deprecated and will be removed from pandas in a future version. Use pandas.concat instead.\n",
      "  df = df.append(datarow, ignore_index=True)\n",
      "C:\\Users\\lando\\AppData\\Local\\Temp\\ipykernel_34800\\2238899073.py:61: FutureWarning: The frame.append method is deprecated and will be removed from pandas in a future version. Use pandas.concat instead.\n",
      "  df = df.append(datarow, ignore_index=True)\n",
      "C:\\Users\\lando\\AppData\\Local\\Temp\\ipykernel_34800\\2238899073.py:61: FutureWarning: The frame.append method is deprecated and will be removed from pandas in a future version. Use pandas.concat instead.\n",
      "  df = df.append(datarow, ignore_index=True)\n",
      "C:\\Users\\lando\\AppData\\Local\\Temp\\ipykernel_34800\\2238899073.py:61: FutureWarning: The frame.append method is deprecated and will be removed from pandas in a future version. Use pandas.concat instead.\n",
      "  df = df.append(datarow, ignore_index=True)\n",
      "C:\\Users\\lando\\AppData\\Local\\Temp\\ipykernel_34800\\2238899073.py:61: FutureWarning: The frame.append method is deprecated and will be removed from pandas in a future version. Use pandas.concat instead.\n",
      "  df = df.append(datarow, ignore_index=True)\n",
      "C:\\Users\\lando\\AppData\\Local\\Temp\\ipykernel_34800\\2238899073.py:61: FutureWarning: The frame.append method is deprecated and will be removed from pandas in a future version. Use pandas.concat instead.\n",
      "  df = df.append(datarow, ignore_index=True)\n",
      "C:\\Users\\lando\\AppData\\Local\\Temp\\ipykernel_34800\\2238899073.py:61: FutureWarning: The frame.append method is deprecated and will be removed from pandas in a future version. Use pandas.concat instead.\n",
      "  df = df.append(datarow, ignore_index=True)\n",
      "C:\\Users\\lando\\AppData\\Local\\Temp\\ipykernel_34800\\2238899073.py:61: FutureWarning: The frame.append method is deprecated and will be removed from pandas in a future version. Use pandas.concat instead.\n",
      "  df = df.append(datarow, ignore_index=True)\n",
      "C:\\Users\\lando\\AppData\\Local\\Temp\\ipykernel_34800\\2238899073.py:61: FutureWarning: The frame.append method is deprecated and will be removed from pandas in a future version. Use pandas.concat instead.\n",
      "  df = df.append(datarow, ignore_index=True)\n",
      "C:\\Users\\lando\\AppData\\Local\\Temp\\ipykernel_34800\\2238899073.py:61: FutureWarning: The frame.append method is deprecated and will be removed from pandas in a future version. Use pandas.concat instead.\n",
      "  df = df.append(datarow, ignore_index=True)\n",
      "C:\\Users\\lando\\AppData\\Local\\Temp\\ipykernel_34800\\2238899073.py:61: FutureWarning: The frame.append method is deprecated and will be removed from pandas in a future version. Use pandas.concat instead.\n",
      "  df = df.append(datarow, ignore_index=True)\n",
      "C:\\Users\\lando\\AppData\\Local\\Temp\\ipykernel_34800\\2238899073.py:61: FutureWarning: The frame.append method is deprecated and will be removed from pandas in a future version. Use pandas.concat instead.\n",
      "  df = df.append(datarow, ignore_index=True)\n",
      "C:\\Users\\lando\\AppData\\Local\\Temp\\ipykernel_34800\\2238899073.py:61: FutureWarning: The frame.append method is deprecated and will be removed from pandas in a future version. Use pandas.concat instead.\n",
      "  df = df.append(datarow, ignore_index=True)\n",
      "C:\\Users\\lando\\AppData\\Local\\Temp\\ipykernel_34800\\2238899073.py:61: FutureWarning: The frame.append method is deprecated and will be removed from pandas in a future version. Use pandas.concat instead.\n",
      "  df = df.append(datarow, ignore_index=True)\n",
      "C:\\Users\\lando\\AppData\\Local\\Temp\\ipykernel_34800\\2238899073.py:61: FutureWarning: The frame.append method is deprecated and will be removed from pandas in a future version. Use pandas.concat instead.\n",
      "  df = df.append(datarow, ignore_index=True)\n",
      "C:\\Users\\lando\\AppData\\Local\\Temp\\ipykernel_34800\\2238899073.py:61: FutureWarning: The frame.append method is deprecated and will be removed from pandas in a future version. Use pandas.concat instead.\n",
      "  df = df.append(datarow, ignore_index=True)\n",
      "C:\\Users\\lando\\AppData\\Local\\Temp\\ipykernel_34800\\2238899073.py:61: FutureWarning: The frame.append method is deprecated and will be removed from pandas in a future version. Use pandas.concat instead.\n",
      "  df = df.append(datarow, ignore_index=True)\n",
      "C:\\Users\\lando\\AppData\\Local\\Temp\\ipykernel_34800\\2238899073.py:61: FutureWarning: The frame.append method is deprecated and will be removed from pandas in a future version. Use pandas.concat instead.\n",
      "  df = df.append(datarow, ignore_index=True)\n",
      "C:\\Users\\lando\\AppData\\Local\\Temp\\ipykernel_34800\\2238899073.py:61: FutureWarning: The frame.append method is deprecated and will be removed from pandas in a future version. Use pandas.concat instead.\n",
      "  df = df.append(datarow, ignore_index=True)\n",
      "C:\\Users\\lando\\AppData\\Local\\Temp\\ipykernel_34800\\2238899073.py:61: FutureWarning: The frame.append method is deprecated and will be removed from pandas in a future version. Use pandas.concat instead.\n",
      "  df = df.append(datarow, ignore_index=True)\n",
      "C:\\Users\\lando\\AppData\\Local\\Temp\\ipykernel_34800\\2238899073.py:61: FutureWarning: The frame.append method is deprecated and will be removed from pandas in a future version. Use pandas.concat instead.\n",
      "  df = df.append(datarow, ignore_index=True)\n",
      "C:\\Users\\lando\\AppData\\Local\\Temp\\ipykernel_34800\\2238899073.py:61: FutureWarning: The frame.append method is deprecated and will be removed from pandas in a future version. Use pandas.concat instead.\n",
      "  df = df.append(datarow, ignore_index=True)\n",
      "C:\\Users\\lando\\AppData\\Local\\Temp\\ipykernel_34800\\2238899073.py:61: FutureWarning: The frame.append method is deprecated and will be removed from pandas in a future version. Use pandas.concat instead.\n",
      "  df = df.append(datarow, ignore_index=True)\n",
      "C:\\Users\\lando\\AppData\\Local\\Temp\\ipykernel_34800\\2238899073.py:61: FutureWarning: The frame.append method is deprecated and will be removed from pandas in a future version. Use pandas.concat instead.\n",
      "  df = df.append(datarow, ignore_index=True)\n",
      "C:\\Users\\lando\\AppData\\Local\\Temp\\ipykernel_34800\\2238899073.py:61: FutureWarning: The frame.append method is deprecated and will be removed from pandas in a future version. Use pandas.concat instead.\n",
      "  df = df.append(datarow, ignore_index=True)\n",
      "C:\\Users\\lando\\AppData\\Local\\Temp\\ipykernel_34800\\2238899073.py:61: FutureWarning: The frame.append method is deprecated and will be removed from pandas in a future version. Use pandas.concat instead.\n",
      "  df = df.append(datarow, ignore_index=True)\n",
      "C:\\Users\\lando\\AppData\\Local\\Temp\\ipykernel_34800\\2238899073.py:61: FutureWarning: The frame.append method is deprecated and will be removed from pandas in a future version. Use pandas.concat instead.\n",
      "  df = df.append(datarow, ignore_index=True)\n",
      "C:\\Users\\lando\\AppData\\Local\\Temp\\ipykernel_34800\\2238899073.py:61: FutureWarning: The frame.append method is deprecated and will be removed from pandas in a future version. Use pandas.concat instead.\n",
      "  df = df.append(datarow, ignore_index=True)\n",
      "C:\\Users\\lando\\AppData\\Local\\Temp\\ipykernel_34800\\2238899073.py:61: FutureWarning: The frame.append method is deprecated and will be removed from pandas in a future version. Use pandas.concat instead.\n",
      "  df = df.append(datarow, ignore_index=True)\n",
      "C:\\Users\\lando\\AppData\\Local\\Temp\\ipykernel_34800\\2238899073.py:61: FutureWarning: The frame.append method is deprecated and will be removed from pandas in a future version. Use pandas.concat instead.\n",
      "  df = df.append(datarow, ignore_index=True)\n",
      "C:\\Users\\lando\\AppData\\Local\\Temp\\ipykernel_34800\\2238899073.py:61: FutureWarning: The frame.append method is deprecated and will be removed from pandas in a future version. Use pandas.concat instead.\n",
      "  df = df.append(datarow, ignore_index=True)\n",
      "C:\\Users\\lando\\AppData\\Local\\Temp\\ipykernel_34800\\2238899073.py:61: FutureWarning: The frame.append method is deprecated and will be removed from pandas in a future version. Use pandas.concat instead.\n",
      "  df = df.append(datarow, ignore_index=True)\n",
      "C:\\Users\\lando\\AppData\\Local\\Temp\\ipykernel_34800\\2238899073.py:61: FutureWarning: The frame.append method is deprecated and will be removed from pandas in a future version. Use pandas.concat instead.\n",
      "  df = df.append(datarow, ignore_index=True)\n",
      "C:\\Users\\lando\\AppData\\Local\\Temp\\ipykernel_34800\\2238899073.py:61: FutureWarning: The frame.append method is deprecated and will be removed from pandas in a future version. Use pandas.concat instead.\n",
      "  df = df.append(datarow, ignore_index=True)\n",
      "C:\\Users\\lando\\AppData\\Local\\Temp\\ipykernel_34800\\2238899073.py:61: FutureWarning: The frame.append method is deprecated and will be removed from pandas in a future version. Use pandas.concat instead.\n",
      "  df = df.append(datarow, ignore_index=True)\n",
      "C:\\Users\\lando\\AppData\\Local\\Temp\\ipykernel_34800\\2238899073.py:61: FutureWarning: The frame.append method is deprecated and will be removed from pandas in a future version. Use pandas.concat instead.\n",
      "  df = df.append(datarow, ignore_index=True)\n",
      "C:\\Users\\lando\\AppData\\Local\\Temp\\ipykernel_34800\\2238899073.py:61: FutureWarning: The frame.append method is deprecated and will be removed from pandas in a future version. Use pandas.concat instead.\n",
      "  df = df.append(datarow, ignore_index=True)\n",
      "C:\\Users\\lando\\AppData\\Local\\Temp\\ipykernel_34800\\2238899073.py:61: FutureWarning: The frame.append method is deprecated and will be removed from pandas in a future version. Use pandas.concat instead.\n",
      "  df = df.append(datarow, ignore_index=True)\n",
      "C:\\Users\\lando\\AppData\\Local\\Temp\\ipykernel_34800\\2238899073.py:61: FutureWarning: The frame.append method is deprecated and will be removed from pandas in a future version. Use pandas.concat instead.\n",
      "  df = df.append(datarow, ignore_index=True)\n",
      "C:\\Users\\lando\\AppData\\Local\\Temp\\ipykernel_34800\\2238899073.py:61: FutureWarning: The frame.append method is deprecated and will be removed from pandas in a future version. Use pandas.concat instead.\n",
      "  df = df.append(datarow, ignore_index=True)\n",
      "C:\\Users\\lando\\AppData\\Local\\Temp\\ipykernel_34800\\2238899073.py:61: FutureWarning: The frame.append method is deprecated and will be removed from pandas in a future version. Use pandas.concat instead.\n",
      "  df = df.append(datarow, ignore_index=True)\n",
      "C:\\Users\\lando\\AppData\\Local\\Temp\\ipykernel_34800\\2238899073.py:61: FutureWarning: The frame.append method is deprecated and will be removed from pandas in a future version. Use pandas.concat instead.\n",
      "  df = df.append(datarow, ignore_index=True)\n",
      "C:\\Users\\lando\\AppData\\Local\\Temp\\ipykernel_34800\\2238899073.py:61: FutureWarning: The frame.append method is deprecated and will be removed from pandas in a future version. Use pandas.concat instead.\n",
      "  df = df.append(datarow, ignore_index=True)\n",
      "C:\\Users\\lando\\AppData\\Local\\Temp\\ipykernel_34800\\2238899073.py:61: FutureWarning: The frame.append method is deprecated and will be removed from pandas in a future version. Use pandas.concat instead.\n",
      "  df = df.append(datarow, ignore_index=True)\n",
      "C:\\Users\\lando\\AppData\\Local\\Temp\\ipykernel_34800\\2238899073.py:61: FutureWarning: The frame.append method is deprecated and will be removed from pandas in a future version. Use pandas.concat instead.\n",
      "  df = df.append(datarow, ignore_index=True)\n",
      "C:\\Users\\lando\\AppData\\Local\\Temp\\ipykernel_34800\\2238899073.py:61: FutureWarning: The frame.append method is deprecated and will be removed from pandas in a future version. Use pandas.concat instead.\n",
      "  df = df.append(datarow, ignore_index=True)\n",
      "C:\\Users\\lando\\AppData\\Local\\Temp\\ipykernel_34800\\2238899073.py:61: FutureWarning: The frame.append method is deprecated and will be removed from pandas in a future version. Use pandas.concat instead.\n",
      "  df = df.append(datarow, ignore_index=True)\n",
      "C:\\Users\\lando\\AppData\\Local\\Temp\\ipykernel_34800\\2238899073.py:61: FutureWarning: The frame.append method is deprecated and will be removed from pandas in a future version. Use pandas.concat instead.\n",
      "  df = df.append(datarow, ignore_index=True)\n",
      "C:\\Users\\lando\\AppData\\Local\\Temp\\ipykernel_34800\\2238899073.py:61: FutureWarning: The frame.append method is deprecated and will be removed from pandas in a future version. Use pandas.concat instead.\n",
      "  df = df.append(datarow, ignore_index=True)\n",
      "C:\\Users\\lando\\AppData\\Local\\Temp\\ipykernel_34800\\2238899073.py:61: FutureWarning: The frame.append method is deprecated and will be removed from pandas in a future version. Use pandas.concat instead.\n",
      "  df = df.append(datarow, ignore_index=True)\n",
      "C:\\Users\\lando\\AppData\\Local\\Temp\\ipykernel_34800\\2238899073.py:61: FutureWarning: The frame.append method is deprecated and will be removed from pandas in a future version. Use pandas.concat instead.\n",
      "  df = df.append(datarow, ignore_index=True)\n",
      "C:\\Users\\lando\\AppData\\Local\\Temp\\ipykernel_34800\\2238899073.py:61: FutureWarning: The frame.append method is deprecated and will be removed from pandas in a future version. Use pandas.concat instead.\n",
      "  df = df.append(datarow, ignore_index=True)\n",
      "C:\\Users\\lando\\AppData\\Local\\Temp\\ipykernel_34800\\2238899073.py:61: FutureWarning: The frame.append method is deprecated and will be removed from pandas in a future version. Use pandas.concat instead.\n",
      "  df = df.append(datarow, ignore_index=True)\n",
      "C:\\Users\\lando\\AppData\\Local\\Temp\\ipykernel_34800\\2238899073.py:61: FutureWarning: The frame.append method is deprecated and will be removed from pandas in a future version. Use pandas.concat instead.\n",
      "  df = df.append(datarow, ignore_index=True)\n",
      "C:\\Users\\lando\\AppData\\Local\\Temp\\ipykernel_34800\\2238899073.py:61: FutureWarning: The frame.append method is deprecated and will be removed from pandas in a future version. Use pandas.concat instead.\n",
      "  df = df.append(datarow, ignore_index=True)\n",
      "C:\\Users\\lando\\AppData\\Local\\Temp\\ipykernel_34800\\2238899073.py:61: FutureWarning: The frame.append method is deprecated and will be removed from pandas in a future version. Use pandas.concat instead.\n",
      "  df = df.append(datarow, ignore_index=True)\n",
      "C:\\Users\\lando\\AppData\\Local\\Temp\\ipykernel_34800\\2238899073.py:61: FutureWarning: The frame.append method is deprecated and will be removed from pandas in a future version. Use pandas.concat instead.\n",
      "  df = df.append(datarow, ignore_index=True)\n",
      "C:\\Users\\lando\\AppData\\Local\\Temp\\ipykernel_34800\\2238899073.py:61: FutureWarning: The frame.append method is deprecated and will be removed from pandas in a future version. Use pandas.concat instead.\n",
      "  df = df.append(datarow, ignore_index=True)\n",
      "C:\\Users\\lando\\AppData\\Local\\Temp\\ipykernel_34800\\2238899073.py:61: FutureWarning: The frame.append method is deprecated and will be removed from pandas in a future version. Use pandas.concat instead.\n",
      "  df = df.append(datarow, ignore_index=True)\n",
      "C:\\Users\\lando\\AppData\\Local\\Temp\\ipykernel_34800\\2238899073.py:61: FutureWarning: The frame.append method is deprecated and will be removed from pandas in a future version. Use pandas.concat instead.\n",
      "  df = df.append(datarow, ignore_index=True)\n",
      "C:\\Users\\lando\\AppData\\Local\\Temp\\ipykernel_34800\\2238899073.py:61: FutureWarning: The frame.append method is deprecated and will be removed from pandas in a future version. Use pandas.concat instead.\n",
      "  df = df.append(datarow, ignore_index=True)\n",
      "C:\\Users\\lando\\AppData\\Local\\Temp\\ipykernel_34800\\2238899073.py:61: FutureWarning: The frame.append method is deprecated and will be removed from pandas in a future version. Use pandas.concat instead.\n",
      "  df = df.append(datarow, ignore_index=True)\n",
      "C:\\Users\\lando\\AppData\\Local\\Temp\\ipykernel_34800\\2238899073.py:61: FutureWarning: The frame.append method is deprecated and will be removed from pandas in a future version. Use pandas.concat instead.\n",
      "  df = df.append(datarow, ignore_index=True)\n",
      "C:\\Users\\lando\\AppData\\Local\\Temp\\ipykernel_34800\\2238899073.py:61: FutureWarning: The frame.append method is deprecated and will be removed from pandas in a future version. Use pandas.concat instead.\n",
      "  df = df.append(datarow, ignore_index=True)\n",
      "C:\\Users\\lando\\AppData\\Local\\Temp\\ipykernel_34800\\2238899073.py:61: FutureWarning: The frame.append method is deprecated and will be removed from pandas in a future version. Use pandas.concat instead.\n",
      "  df = df.append(datarow, ignore_index=True)\n",
      "C:\\Users\\lando\\AppData\\Local\\Temp\\ipykernel_34800\\2238899073.py:61: FutureWarning: The frame.append method is deprecated and will be removed from pandas in a future version. Use pandas.concat instead.\n",
      "  df = df.append(datarow, ignore_index=True)\n",
      "C:\\Users\\lando\\AppData\\Local\\Temp\\ipykernel_34800\\2238899073.py:61: FutureWarning: The frame.append method is deprecated and will be removed from pandas in a future version. Use pandas.concat instead.\n",
      "  df = df.append(datarow, ignore_index=True)\n",
      "C:\\Users\\lando\\AppData\\Local\\Temp\\ipykernel_34800\\2238899073.py:61: FutureWarning: The frame.append method is deprecated and will be removed from pandas in a future version. Use pandas.concat instead.\n",
      "  df = df.append(datarow, ignore_index=True)\n",
      "C:\\Users\\lando\\AppData\\Local\\Temp\\ipykernel_34800\\2238899073.py:61: FutureWarning: The frame.append method is deprecated and will be removed from pandas in a future version. Use pandas.concat instead.\n",
      "  df = df.append(datarow, ignore_index=True)\n",
      "C:\\Users\\lando\\AppData\\Local\\Temp\\ipykernel_34800\\2238899073.py:61: FutureWarning: The frame.append method is deprecated and will be removed from pandas in a future version. Use pandas.concat instead.\n",
      "  df = df.append(datarow, ignore_index=True)\n",
      "C:\\Users\\lando\\AppData\\Local\\Temp\\ipykernel_34800\\2238899073.py:61: FutureWarning: The frame.append method is deprecated and will be removed from pandas in a future version. Use pandas.concat instead.\n",
      "  df = df.append(datarow, ignore_index=True)\n",
      "C:\\Users\\lando\\AppData\\Local\\Temp\\ipykernel_34800\\2238899073.py:61: FutureWarning: The frame.append method is deprecated and will be removed from pandas in a future version. Use pandas.concat instead.\n",
      "  df = df.append(datarow, ignore_index=True)\n",
      "C:\\Users\\lando\\AppData\\Local\\Temp\\ipykernel_34800\\2238899073.py:61: FutureWarning: The frame.append method is deprecated and will be removed from pandas in a future version. Use pandas.concat instead.\n",
      "  df = df.append(datarow, ignore_index=True)\n",
      "C:\\Users\\lando\\AppData\\Local\\Temp\\ipykernel_34800\\2238899073.py:61: FutureWarning: The frame.append method is deprecated and will be removed from pandas in a future version. Use pandas.concat instead.\n",
      "  df = df.append(datarow, ignore_index=True)\n",
      "C:\\Users\\lando\\AppData\\Local\\Temp\\ipykernel_34800\\2238899073.py:61: FutureWarning: The frame.append method is deprecated and will be removed from pandas in a future version. Use pandas.concat instead.\n",
      "  df = df.append(datarow, ignore_index=True)\n",
      "C:\\Users\\lando\\AppData\\Local\\Temp\\ipykernel_34800\\2238899073.py:61: FutureWarning: The frame.append method is deprecated and will be removed from pandas in a future version. Use pandas.concat instead.\n",
      "  df = df.append(datarow, ignore_index=True)\n",
      "C:\\Users\\lando\\AppData\\Local\\Temp\\ipykernel_34800\\2238899073.py:61: FutureWarning: The frame.append method is deprecated and will be removed from pandas in a future version. Use pandas.concat instead.\n",
      "  df = df.append(datarow, ignore_index=True)\n",
      "C:\\Users\\lando\\AppData\\Local\\Temp\\ipykernel_34800\\2238899073.py:61: FutureWarning: The frame.append method is deprecated and will be removed from pandas in a future version. Use pandas.concat instead.\n",
      "  df = df.append(datarow, ignore_index=True)\n",
      "C:\\Users\\lando\\AppData\\Local\\Temp\\ipykernel_34800\\2238899073.py:61: FutureWarning: The frame.append method is deprecated and will be removed from pandas in a future version. Use pandas.concat instead.\n",
      "  df = df.append(datarow, ignore_index=True)\n",
      "C:\\Users\\lando\\AppData\\Local\\Temp\\ipykernel_34800\\2238899073.py:61: FutureWarning: The frame.append method is deprecated and will be removed from pandas in a future version. Use pandas.concat instead.\n",
      "  df = df.append(datarow, ignore_index=True)\n",
      "C:\\Users\\lando\\AppData\\Local\\Temp\\ipykernel_34800\\2238899073.py:61: FutureWarning: The frame.append method is deprecated and will be removed from pandas in a future version. Use pandas.concat instead.\n",
      "  df = df.append(datarow, ignore_index=True)\n",
      "C:\\Users\\lando\\AppData\\Local\\Temp\\ipykernel_34800\\2238899073.py:61: FutureWarning: The frame.append method is deprecated and will be removed from pandas in a future version. Use pandas.concat instead.\n",
      "  df = df.append(datarow, ignore_index=True)\n",
      "C:\\Users\\lando\\AppData\\Local\\Temp\\ipykernel_34800\\2238899073.py:61: FutureWarning: The frame.append method is deprecated and will be removed from pandas in a future version. Use pandas.concat instead.\n",
      "  df = df.append(datarow, ignore_index=True)\n",
      "C:\\Users\\lando\\AppData\\Local\\Temp\\ipykernel_34800\\2238899073.py:61: FutureWarning: The frame.append method is deprecated and will be removed from pandas in a future version. Use pandas.concat instead.\n",
      "  df = df.append(datarow, ignore_index=True)\n",
      "C:\\Users\\lando\\AppData\\Local\\Temp\\ipykernel_34800\\2238899073.py:61: FutureWarning: The frame.append method is deprecated and will be removed from pandas in a future version. Use pandas.concat instead.\n",
      "  df = df.append(datarow, ignore_index=True)\n",
      "C:\\Users\\lando\\AppData\\Local\\Temp\\ipykernel_34800\\2238899073.py:61: FutureWarning: The frame.append method is deprecated and will be removed from pandas in a future version. Use pandas.concat instead.\n",
      "  df = df.append(datarow, ignore_index=True)\n",
      "C:\\Users\\lando\\AppData\\Local\\Temp\\ipykernel_34800\\2238899073.py:61: FutureWarning: The frame.append method is deprecated and will be removed from pandas in a future version. Use pandas.concat instead.\n",
      "  df = df.append(datarow, ignore_index=True)\n",
      "C:\\Users\\lando\\AppData\\Local\\Temp\\ipykernel_34800\\2238899073.py:61: FutureWarning: The frame.append method is deprecated and will be removed from pandas in a future version. Use pandas.concat instead.\n",
      "  df = df.append(datarow, ignore_index=True)\n",
      "C:\\Users\\lando\\AppData\\Local\\Temp\\ipykernel_34800\\2238899073.py:61: FutureWarning: The frame.append method is deprecated and will be removed from pandas in a future version. Use pandas.concat instead.\n",
      "  df = df.append(datarow, ignore_index=True)\n",
      "C:\\Users\\lando\\AppData\\Local\\Temp\\ipykernel_34800\\2238899073.py:61: FutureWarning: The frame.append method is deprecated and will be removed from pandas in a future version. Use pandas.concat instead.\n",
      "  df = df.append(datarow, ignore_index=True)\n",
      "C:\\Users\\lando\\AppData\\Local\\Temp\\ipykernel_34800\\2238899073.py:61: FutureWarning: The frame.append method is deprecated and will be removed from pandas in a future version. Use pandas.concat instead.\n",
      "  df = df.append(datarow, ignore_index=True)\n",
      "C:\\Users\\lando\\AppData\\Local\\Temp\\ipykernel_34800\\2238899073.py:61: FutureWarning: The frame.append method is deprecated and will be removed from pandas in a future version. Use pandas.concat instead.\n",
      "  df = df.append(datarow, ignore_index=True)\n",
      "C:\\Users\\lando\\AppData\\Local\\Temp\\ipykernel_34800\\2238899073.py:61: FutureWarning: The frame.append method is deprecated and will be removed from pandas in a future version. Use pandas.concat instead.\n",
      "  df = df.append(datarow, ignore_index=True)\n",
      "C:\\Users\\lando\\AppData\\Local\\Temp\\ipykernel_34800\\2238899073.py:61: FutureWarning: The frame.append method is deprecated and will be removed from pandas in a future version. Use pandas.concat instead.\n",
      "  df = df.append(datarow, ignore_index=True)\n",
      "C:\\Users\\lando\\AppData\\Local\\Temp\\ipykernel_34800\\2238899073.py:61: FutureWarning: The frame.append method is deprecated and will be removed from pandas in a future version. Use pandas.concat instead.\n",
      "  df = df.append(datarow, ignore_index=True)\n",
      "C:\\Users\\lando\\AppData\\Local\\Temp\\ipykernel_34800\\2238899073.py:61: FutureWarning: The frame.append method is deprecated and will be removed from pandas in a future version. Use pandas.concat instead.\n",
      "  df = df.append(datarow, ignore_index=True)\n",
      "C:\\Users\\lando\\AppData\\Local\\Temp\\ipykernel_34800\\2238899073.py:61: FutureWarning: The frame.append method is deprecated and will be removed from pandas in a future version. Use pandas.concat instead.\n",
      "  df = df.append(datarow, ignore_index=True)\n",
      "C:\\Users\\lando\\AppData\\Local\\Temp\\ipykernel_34800\\2238899073.py:61: FutureWarning: The frame.append method is deprecated and will be removed from pandas in a future version. Use pandas.concat instead.\n",
      "  df = df.append(datarow, ignore_index=True)\n",
      "C:\\Users\\lando\\AppData\\Local\\Temp\\ipykernel_34800\\2238899073.py:61: FutureWarning: The frame.append method is deprecated and will be removed from pandas in a future version. Use pandas.concat instead.\n",
      "  df = df.append(datarow, ignore_index=True)\n",
      "C:\\Users\\lando\\AppData\\Local\\Temp\\ipykernel_34800\\2238899073.py:61: FutureWarning: The frame.append method is deprecated and will be removed from pandas in a future version. Use pandas.concat instead.\n",
      "  df = df.append(datarow, ignore_index=True)\n",
      "C:\\Users\\lando\\AppData\\Local\\Temp\\ipykernel_34800\\2238899073.py:61: FutureWarning: The frame.append method is deprecated and will be removed from pandas in a future version. Use pandas.concat instead.\n",
      "  df = df.append(datarow, ignore_index=True)\n",
      "C:\\Users\\lando\\AppData\\Local\\Temp\\ipykernel_34800\\2238899073.py:61: FutureWarning: The frame.append method is deprecated and will be removed from pandas in a future version. Use pandas.concat instead.\n",
      "  df = df.append(datarow, ignore_index=True)\n",
      "C:\\Users\\lando\\AppData\\Local\\Temp\\ipykernel_34800\\2238899073.py:61: FutureWarning: The frame.append method is deprecated and will be removed from pandas in a future version. Use pandas.concat instead.\n",
      "  df = df.append(datarow, ignore_index=True)\n",
      "C:\\Users\\lando\\AppData\\Local\\Temp\\ipykernel_34800\\2238899073.py:61: FutureWarning: The frame.append method is deprecated and will be removed from pandas in a future version. Use pandas.concat instead.\n",
      "  df = df.append(datarow, ignore_index=True)\n",
      "C:\\Users\\lando\\AppData\\Local\\Temp\\ipykernel_34800\\2238899073.py:61: FutureWarning: The frame.append method is deprecated and will be removed from pandas in a future version. Use pandas.concat instead.\n",
      "  df = df.append(datarow, ignore_index=True)\n",
      "C:\\Users\\lando\\AppData\\Local\\Temp\\ipykernel_34800\\2238899073.py:61: FutureWarning: The frame.append method is deprecated and will be removed from pandas in a future version. Use pandas.concat instead.\n",
      "  df = df.append(datarow, ignore_index=True)\n",
      "C:\\Users\\lando\\AppData\\Local\\Temp\\ipykernel_34800\\2238899073.py:61: FutureWarning: The frame.append method is deprecated and will be removed from pandas in a future version. Use pandas.concat instead.\n",
      "  df = df.append(datarow, ignore_index=True)\n",
      "C:\\Users\\lando\\AppData\\Local\\Temp\\ipykernel_34800\\2238899073.py:61: FutureWarning: The frame.append method is deprecated and will be removed from pandas in a future version. Use pandas.concat instead.\n",
      "  df = df.append(datarow, ignore_index=True)\n",
      "C:\\Users\\lando\\AppData\\Local\\Temp\\ipykernel_34800\\2238899073.py:61: FutureWarning: The frame.append method is deprecated and will be removed from pandas in a future version. Use pandas.concat instead.\n",
      "  df = df.append(datarow, ignore_index=True)\n",
      "C:\\Users\\lando\\AppData\\Local\\Temp\\ipykernel_34800\\2238899073.py:61: FutureWarning: The frame.append method is deprecated and will be removed from pandas in a future version. Use pandas.concat instead.\n",
      "  df = df.append(datarow, ignore_index=True)\n",
      "C:\\Users\\lando\\AppData\\Local\\Temp\\ipykernel_34800\\2238899073.py:61: FutureWarning: The frame.append method is deprecated and will be removed from pandas in a future version. Use pandas.concat instead.\n",
      "  df = df.append(datarow, ignore_index=True)\n",
      "C:\\Users\\lando\\AppData\\Local\\Temp\\ipykernel_34800\\2238899073.py:61: FutureWarning: The frame.append method is deprecated and will be removed from pandas in a future version. Use pandas.concat instead.\n",
      "  df = df.append(datarow, ignore_index=True)\n",
      "C:\\Users\\lando\\AppData\\Local\\Temp\\ipykernel_34800\\2238899073.py:61: FutureWarning: The frame.append method is deprecated and will be removed from pandas in a future version. Use pandas.concat instead.\n",
      "  df = df.append(datarow, ignore_index=True)\n",
      "C:\\Users\\lando\\AppData\\Local\\Temp\\ipykernel_34800\\2238899073.py:61: FutureWarning: The frame.append method is deprecated and will be removed from pandas in a future version. Use pandas.concat instead.\n",
      "  df = df.append(datarow, ignore_index=True)\n",
      "C:\\Users\\lando\\AppData\\Local\\Temp\\ipykernel_34800\\2238899073.py:61: FutureWarning: The frame.append method is deprecated and will be removed from pandas in a future version. Use pandas.concat instead.\n",
      "  df = df.append(datarow, ignore_index=True)\n",
      "C:\\Users\\lando\\AppData\\Local\\Temp\\ipykernel_34800\\2238899073.py:61: FutureWarning: The frame.append method is deprecated and will be removed from pandas in a future version. Use pandas.concat instead.\n",
      "  df = df.append(datarow, ignore_index=True)\n",
      "C:\\Users\\lando\\AppData\\Local\\Temp\\ipykernel_34800\\2238899073.py:61: FutureWarning: The frame.append method is deprecated and will be removed from pandas in a future version. Use pandas.concat instead.\n",
      "  df = df.append(datarow, ignore_index=True)\n",
      "C:\\Users\\lando\\AppData\\Local\\Temp\\ipykernel_34800\\2238899073.py:61: FutureWarning: The frame.append method is deprecated and will be removed from pandas in a future version. Use pandas.concat instead.\n",
      "  df = df.append(datarow, ignore_index=True)\n",
      "C:\\Users\\lando\\AppData\\Local\\Temp\\ipykernel_34800\\2238899073.py:61: FutureWarning: The frame.append method is deprecated and will be removed from pandas in a future version. Use pandas.concat instead.\n",
      "  df = df.append(datarow, ignore_index=True)\n",
      "C:\\Users\\lando\\AppData\\Local\\Temp\\ipykernel_34800\\2238899073.py:61: FutureWarning: The frame.append method is deprecated and will be removed from pandas in a future version. Use pandas.concat instead.\n",
      "  df = df.append(datarow, ignore_index=True)\n",
      "C:\\Users\\lando\\AppData\\Local\\Temp\\ipykernel_34800\\2238899073.py:61: FutureWarning: The frame.append method is deprecated and will be removed from pandas in a future version. Use pandas.concat instead.\n",
      "  df = df.append(datarow, ignore_index=True)\n",
      "C:\\Users\\lando\\AppData\\Local\\Temp\\ipykernel_34800\\2238899073.py:61: FutureWarning: The frame.append method is deprecated and will be removed from pandas in a future version. Use pandas.concat instead.\n",
      "  df = df.append(datarow, ignore_index=True)\n",
      "C:\\Users\\lando\\AppData\\Local\\Temp\\ipykernel_34800\\2238899073.py:61: FutureWarning: The frame.append method is deprecated and will be removed from pandas in a future version. Use pandas.concat instead.\n",
      "  df = df.append(datarow, ignore_index=True)\n",
      "C:\\Users\\lando\\AppData\\Local\\Temp\\ipykernel_34800\\2238899073.py:61: FutureWarning: The frame.append method is deprecated and will be removed from pandas in a future version. Use pandas.concat instead.\n",
      "  df = df.append(datarow, ignore_index=True)\n",
      "C:\\Users\\lando\\AppData\\Local\\Temp\\ipykernel_34800\\2238899073.py:61: FutureWarning: The frame.append method is deprecated and will be removed from pandas in a future version. Use pandas.concat instead.\n",
      "  df = df.append(datarow, ignore_index=True)\n",
      "C:\\Users\\lando\\AppData\\Local\\Temp\\ipykernel_34800\\2238899073.py:61: FutureWarning: The frame.append method is deprecated and will be removed from pandas in a future version. Use pandas.concat instead.\n",
      "  df = df.append(datarow, ignore_index=True)\n",
      "C:\\Users\\lando\\AppData\\Local\\Temp\\ipykernel_34800\\2238899073.py:61: FutureWarning: The frame.append method is deprecated and will be removed from pandas in a future version. Use pandas.concat instead.\n",
      "  df = df.append(datarow, ignore_index=True)\n",
      "C:\\Users\\lando\\AppData\\Local\\Temp\\ipykernel_34800\\2238899073.py:61: FutureWarning: The frame.append method is deprecated and will be removed from pandas in a future version. Use pandas.concat instead.\n",
      "  df = df.append(datarow, ignore_index=True)\n",
      "C:\\Users\\lando\\AppData\\Local\\Temp\\ipykernel_34800\\2238899073.py:61: FutureWarning: The frame.append method is deprecated and will be removed from pandas in a future version. Use pandas.concat instead.\n",
      "  df = df.append(datarow, ignore_index=True)\n",
      "C:\\Users\\lando\\AppData\\Local\\Temp\\ipykernel_34800\\2238899073.py:61: FutureWarning: The frame.append method is deprecated and will be removed from pandas in a future version. Use pandas.concat instead.\n",
      "  df = df.append(datarow, ignore_index=True)\n",
      "C:\\Users\\lando\\AppData\\Local\\Temp\\ipykernel_34800\\2238899073.py:61: FutureWarning: The frame.append method is deprecated and will be removed from pandas in a future version. Use pandas.concat instead.\n",
      "  df = df.append(datarow, ignore_index=True)\n",
      "C:\\Users\\lando\\AppData\\Local\\Temp\\ipykernel_34800\\2238899073.py:61: FutureWarning: The frame.append method is deprecated and will be removed from pandas in a future version. Use pandas.concat instead.\n",
      "  df = df.append(datarow, ignore_index=True)\n",
      "C:\\Users\\lando\\AppData\\Local\\Temp\\ipykernel_34800\\2238899073.py:61: FutureWarning: The frame.append method is deprecated and will be removed from pandas in a future version. Use pandas.concat instead.\n",
      "  df = df.append(datarow, ignore_index=True)\n",
      "C:\\Users\\lando\\AppData\\Local\\Temp\\ipykernel_34800\\2238899073.py:61: FutureWarning: The frame.append method is deprecated and will be removed from pandas in a future version. Use pandas.concat instead.\n",
      "  df = df.append(datarow, ignore_index=True)\n",
      "C:\\Users\\lando\\AppData\\Local\\Temp\\ipykernel_34800\\2238899073.py:61: FutureWarning: The frame.append method is deprecated and will be removed from pandas in a future version. Use pandas.concat instead.\n",
      "  df = df.append(datarow, ignore_index=True)\n",
      "C:\\Users\\lando\\AppData\\Local\\Temp\\ipykernel_34800\\2238899073.py:61: FutureWarning: The frame.append method is deprecated and will be removed from pandas in a future version. Use pandas.concat instead.\n",
      "  df = df.append(datarow, ignore_index=True)\n",
      "C:\\Users\\lando\\AppData\\Local\\Temp\\ipykernel_34800\\2238899073.py:61: FutureWarning: The frame.append method is deprecated and will be removed from pandas in a future version. Use pandas.concat instead.\n",
      "  df = df.append(datarow, ignore_index=True)\n",
      "C:\\Users\\lando\\AppData\\Local\\Temp\\ipykernel_34800\\2238899073.py:61: FutureWarning: The frame.append method is deprecated and will be removed from pandas in a future version. Use pandas.concat instead.\n",
      "  df = df.append(datarow, ignore_index=True)\n",
      "C:\\Users\\lando\\AppData\\Local\\Temp\\ipykernel_34800\\2238899073.py:61: FutureWarning: The frame.append method is deprecated and will be removed from pandas in a future version. Use pandas.concat instead.\n",
      "  df = df.append(datarow, ignore_index=True)\n",
      "C:\\Users\\lando\\AppData\\Local\\Temp\\ipykernel_34800\\2238899073.py:61: FutureWarning: The frame.append method is deprecated and will be removed from pandas in a future version. Use pandas.concat instead.\n",
      "  df = df.append(datarow, ignore_index=True)\n",
      "C:\\Users\\lando\\AppData\\Local\\Temp\\ipykernel_34800\\2238899073.py:61: FutureWarning: The frame.append method is deprecated and will be removed from pandas in a future version. Use pandas.concat instead.\n",
      "  df = df.append(datarow, ignore_index=True)\n",
      "C:\\Users\\lando\\AppData\\Local\\Temp\\ipykernel_34800\\2238899073.py:61: FutureWarning: The frame.append method is deprecated and will be removed from pandas in a future version. Use pandas.concat instead.\n",
      "  df = df.append(datarow, ignore_index=True)\n",
      "C:\\Users\\lando\\AppData\\Local\\Temp\\ipykernel_34800\\2238899073.py:61: FutureWarning: The frame.append method is deprecated and will be removed from pandas in a future version. Use pandas.concat instead.\n",
      "  df = df.append(datarow, ignore_index=True)\n",
      "C:\\Users\\lando\\AppData\\Local\\Temp\\ipykernel_34800\\2238899073.py:61: FutureWarning: The frame.append method is deprecated and will be removed from pandas in a future version. Use pandas.concat instead.\n",
      "  df = df.append(datarow, ignore_index=True)\n",
      "C:\\Users\\lando\\AppData\\Local\\Temp\\ipykernel_34800\\2238899073.py:61: FutureWarning: The frame.append method is deprecated and will be removed from pandas in a future version. Use pandas.concat instead.\n",
      "  df = df.append(datarow, ignore_index=True)\n",
      "C:\\Users\\lando\\AppData\\Local\\Temp\\ipykernel_34800\\2238899073.py:61: FutureWarning: The frame.append method is deprecated and will be removed from pandas in a future version. Use pandas.concat instead.\n",
      "  df = df.append(datarow, ignore_index=True)\n",
      "C:\\Users\\lando\\AppData\\Local\\Temp\\ipykernel_34800\\2238899073.py:61: FutureWarning: The frame.append method is deprecated and will be removed from pandas in a future version. Use pandas.concat instead.\n",
      "  df = df.append(datarow, ignore_index=True)\n",
      "C:\\Users\\lando\\AppData\\Local\\Temp\\ipykernel_34800\\2238899073.py:61: FutureWarning: The frame.append method is deprecated and will be removed from pandas in a future version. Use pandas.concat instead.\n",
      "  df = df.append(datarow, ignore_index=True)\n",
      "C:\\Users\\lando\\AppData\\Local\\Temp\\ipykernel_34800\\2238899073.py:61: FutureWarning: The frame.append method is deprecated and will be removed from pandas in a future version. Use pandas.concat instead.\n",
      "  df = df.append(datarow, ignore_index=True)\n",
      "C:\\Users\\lando\\AppData\\Local\\Temp\\ipykernel_34800\\2238899073.py:61: FutureWarning: The frame.append method is deprecated and will be removed from pandas in a future version. Use pandas.concat instead.\n",
      "  df = df.append(datarow, ignore_index=True)\n",
      "C:\\Users\\lando\\AppData\\Local\\Temp\\ipykernel_34800\\2238899073.py:61: FutureWarning: The frame.append method is deprecated and will be removed from pandas in a future version. Use pandas.concat instead.\n",
      "  df = df.append(datarow, ignore_index=True)\n",
      "C:\\Users\\lando\\AppData\\Local\\Temp\\ipykernel_34800\\2238899073.py:61: FutureWarning: The frame.append method is deprecated and will be removed from pandas in a future version. Use pandas.concat instead.\n",
      "  df = df.append(datarow, ignore_index=True)\n",
      "C:\\Users\\lando\\AppData\\Local\\Temp\\ipykernel_34800\\2238899073.py:61: FutureWarning: The frame.append method is deprecated and will be removed from pandas in a future version. Use pandas.concat instead.\n",
      "  df = df.append(datarow, ignore_index=True)\n",
      "C:\\Users\\lando\\AppData\\Local\\Temp\\ipykernel_34800\\2238899073.py:61: FutureWarning: The frame.append method is deprecated and will be removed from pandas in a future version. Use pandas.concat instead.\n",
      "  df = df.append(datarow, ignore_index=True)\n",
      "C:\\Users\\lando\\AppData\\Local\\Temp\\ipykernel_34800\\2238899073.py:61: FutureWarning: The frame.append method is deprecated and will be removed from pandas in a future version. Use pandas.concat instead.\n",
      "  df = df.append(datarow, ignore_index=True)\n",
      "C:\\Users\\lando\\AppData\\Local\\Temp\\ipykernel_34800\\2238899073.py:61: FutureWarning: The frame.append method is deprecated and will be removed from pandas in a future version. Use pandas.concat instead.\n",
      "  df = df.append(datarow, ignore_index=True)\n",
      "C:\\Users\\lando\\AppData\\Local\\Temp\\ipykernel_34800\\2238899073.py:61: FutureWarning: The frame.append method is deprecated and will be removed from pandas in a future version. Use pandas.concat instead.\n",
      "  df = df.append(datarow, ignore_index=True)\n",
      "C:\\Users\\lando\\AppData\\Local\\Temp\\ipykernel_34800\\2238899073.py:61: FutureWarning: The frame.append method is deprecated and will be removed from pandas in a future version. Use pandas.concat instead.\n",
      "  df = df.append(datarow, ignore_index=True)\n",
      "C:\\Users\\lando\\AppData\\Local\\Temp\\ipykernel_34800\\2238899073.py:61: FutureWarning: The frame.append method is deprecated and will be removed from pandas in a future version. Use pandas.concat instead.\n",
      "  df = df.append(datarow, ignore_index=True)\n",
      "C:\\Users\\lando\\AppData\\Local\\Temp\\ipykernel_34800\\2238899073.py:61: FutureWarning: The frame.append method is deprecated and will be removed from pandas in a future version. Use pandas.concat instead.\n",
      "  df = df.append(datarow, ignore_index=True)\n",
      "C:\\Users\\lando\\AppData\\Local\\Temp\\ipykernel_34800\\2238899073.py:61: FutureWarning: The frame.append method is deprecated and will be removed from pandas in a future version. Use pandas.concat instead.\n",
      "  df = df.append(datarow, ignore_index=True)\n",
      "C:\\Users\\lando\\AppData\\Local\\Temp\\ipykernel_34800\\2238899073.py:61: FutureWarning: The frame.append method is deprecated and will be removed from pandas in a future version. Use pandas.concat instead.\n",
      "  df = df.append(datarow, ignore_index=True)\n",
      "C:\\Users\\lando\\AppData\\Local\\Temp\\ipykernel_34800\\2238899073.py:61: FutureWarning: The frame.append method is deprecated and will be removed from pandas in a future version. Use pandas.concat instead.\n",
      "  df = df.append(datarow, ignore_index=True)\n",
      "C:\\Users\\lando\\AppData\\Local\\Temp\\ipykernel_34800\\2238899073.py:61: FutureWarning: The frame.append method is deprecated and will be removed from pandas in a future version. Use pandas.concat instead.\n",
      "  df = df.append(datarow, ignore_index=True)\n",
      "C:\\Users\\lando\\AppData\\Local\\Temp\\ipykernel_34800\\2238899073.py:61: FutureWarning: The frame.append method is deprecated and will be removed from pandas in a future version. Use pandas.concat instead.\n",
      "  df = df.append(datarow, ignore_index=True)\n",
      "C:\\Users\\lando\\AppData\\Local\\Temp\\ipykernel_34800\\2238899073.py:61: FutureWarning: The frame.append method is deprecated and will be removed from pandas in a future version. Use pandas.concat instead.\n",
      "  df = df.append(datarow, ignore_index=True)\n",
      "C:\\Users\\lando\\AppData\\Local\\Temp\\ipykernel_34800\\2238899073.py:61: FutureWarning: The frame.append method is deprecated and will be removed from pandas in a future version. Use pandas.concat instead.\n",
      "  df = df.append(datarow, ignore_index=True)\n",
      "C:\\Users\\lando\\AppData\\Local\\Temp\\ipykernel_34800\\2238899073.py:61: FutureWarning: The frame.append method is deprecated and will be removed from pandas in a future version. Use pandas.concat instead.\n",
      "  df = df.append(datarow, ignore_index=True)\n",
      "C:\\Users\\lando\\AppData\\Local\\Temp\\ipykernel_34800\\2238899073.py:61: FutureWarning: The frame.append method is deprecated and will be removed from pandas in a future version. Use pandas.concat instead.\n",
      "  df = df.append(datarow, ignore_index=True)\n",
      "C:\\Users\\lando\\AppData\\Local\\Temp\\ipykernel_34800\\2238899073.py:61: FutureWarning: The frame.append method is deprecated and will be removed from pandas in a future version. Use pandas.concat instead.\n",
      "  df = df.append(datarow, ignore_index=True)\n",
      "C:\\Users\\lando\\AppData\\Local\\Temp\\ipykernel_34800\\2238899073.py:61: FutureWarning: The frame.append method is deprecated and will be removed from pandas in a future version. Use pandas.concat instead.\n",
      "  df = df.append(datarow, ignore_index=True)\n",
      "C:\\Users\\lando\\AppData\\Local\\Temp\\ipykernel_34800\\2238899073.py:61: FutureWarning: The frame.append method is deprecated and will be removed from pandas in a future version. Use pandas.concat instead.\n",
      "  df = df.append(datarow, ignore_index=True)\n",
      "C:\\Users\\lando\\AppData\\Local\\Temp\\ipykernel_34800\\2238899073.py:61: FutureWarning: The frame.append method is deprecated and will be removed from pandas in a future version. Use pandas.concat instead.\n",
      "  df = df.append(datarow, ignore_index=True)\n",
      "C:\\Users\\lando\\AppData\\Local\\Temp\\ipykernel_34800\\2238899073.py:61: FutureWarning: The frame.append method is deprecated and will be removed from pandas in a future version. Use pandas.concat instead.\n",
      "  df = df.append(datarow, ignore_index=True)\n",
      "C:\\Users\\lando\\AppData\\Local\\Temp\\ipykernel_34800\\2238899073.py:61: FutureWarning: The frame.append method is deprecated and will be removed from pandas in a future version. Use pandas.concat instead.\n",
      "  df = df.append(datarow, ignore_index=True)\n",
      "C:\\Users\\lando\\AppData\\Local\\Temp\\ipykernel_34800\\2238899073.py:61: FutureWarning: The frame.append method is deprecated and will be removed from pandas in a future version. Use pandas.concat instead.\n",
      "  df = df.append(datarow, ignore_index=True)\n",
      "C:\\Users\\lando\\AppData\\Local\\Temp\\ipykernel_34800\\2238899073.py:61: FutureWarning: The frame.append method is deprecated and will be removed from pandas in a future version. Use pandas.concat instead.\n",
      "  df = df.append(datarow, ignore_index=True)\n",
      "C:\\Users\\lando\\AppData\\Local\\Temp\\ipykernel_34800\\2238899073.py:61: FutureWarning: The frame.append method is deprecated and will be removed from pandas in a future version. Use pandas.concat instead.\n",
      "  df = df.append(datarow, ignore_index=True)\n",
      "C:\\Users\\lando\\AppData\\Local\\Temp\\ipykernel_34800\\2238899073.py:61: FutureWarning: The frame.append method is deprecated and will be removed from pandas in a future version. Use pandas.concat instead.\n",
      "  df = df.append(datarow, ignore_index=True)\n",
      "C:\\Users\\lando\\AppData\\Local\\Temp\\ipykernel_34800\\2238899073.py:61: FutureWarning: The frame.append method is deprecated and will be removed from pandas in a future version. Use pandas.concat instead.\n",
      "  df = df.append(datarow, ignore_index=True)\n",
      "C:\\Users\\lando\\AppData\\Local\\Temp\\ipykernel_34800\\2238899073.py:61: FutureWarning: The frame.append method is deprecated and will be removed from pandas in a future version. Use pandas.concat instead.\n",
      "  df = df.append(datarow, ignore_index=True)\n",
      "C:\\Users\\lando\\AppData\\Local\\Temp\\ipykernel_34800\\2238899073.py:61: FutureWarning: The frame.append method is deprecated and will be removed from pandas in a future version. Use pandas.concat instead.\n",
      "  df = df.append(datarow, ignore_index=True)\n",
      "C:\\Users\\lando\\AppData\\Local\\Temp\\ipykernel_34800\\2238899073.py:61: FutureWarning: The frame.append method is deprecated and will be removed from pandas in a future version. Use pandas.concat instead.\n",
      "  df = df.append(datarow, ignore_index=True)\n",
      "C:\\Users\\lando\\AppData\\Local\\Temp\\ipykernel_34800\\2238899073.py:61: FutureWarning: The frame.append method is deprecated and will be removed from pandas in a future version. Use pandas.concat instead.\n",
      "  df = df.append(datarow, ignore_index=True)\n",
      "C:\\Users\\lando\\AppData\\Local\\Temp\\ipykernel_34800\\2238899073.py:61: FutureWarning: The frame.append method is deprecated and will be removed from pandas in a future version. Use pandas.concat instead.\n",
      "  df = df.append(datarow, ignore_index=True)\n",
      "C:\\Users\\lando\\AppData\\Local\\Temp\\ipykernel_34800\\2238899073.py:61: FutureWarning: The frame.append method is deprecated and will be removed from pandas in a future version. Use pandas.concat instead.\n",
      "  df = df.append(datarow, ignore_index=True)\n",
      "C:\\Users\\lando\\AppData\\Local\\Temp\\ipykernel_34800\\2238899073.py:61: FutureWarning: The frame.append method is deprecated and will be removed from pandas in a future version. Use pandas.concat instead.\n",
      "  df = df.append(datarow, ignore_index=True)\n",
      "C:\\Users\\lando\\AppData\\Local\\Temp\\ipykernel_34800\\2238899073.py:61: FutureWarning: The frame.append method is deprecated and will be removed from pandas in a future version. Use pandas.concat instead.\n",
      "  df = df.append(datarow, ignore_index=True)\n",
      "C:\\Users\\lando\\AppData\\Local\\Temp\\ipykernel_34800\\2238899073.py:61: FutureWarning: The frame.append method is deprecated and will be removed from pandas in a future version. Use pandas.concat instead.\n",
      "  df = df.append(datarow, ignore_index=True)\n",
      "C:\\Users\\lando\\AppData\\Local\\Temp\\ipykernel_34800\\2238899073.py:61: FutureWarning: The frame.append method is deprecated and will be removed from pandas in a future version. Use pandas.concat instead.\n",
      "  df = df.append(datarow, ignore_index=True)\n",
      "C:\\Users\\lando\\AppData\\Local\\Temp\\ipykernel_34800\\2238899073.py:61: FutureWarning: The frame.append method is deprecated and will be removed from pandas in a future version. Use pandas.concat instead.\n",
      "  df = df.append(datarow, ignore_index=True)\n",
      "C:\\Users\\lando\\AppData\\Local\\Temp\\ipykernel_34800\\2238899073.py:61: FutureWarning: The frame.append method is deprecated and will be removed from pandas in a future version. Use pandas.concat instead.\n",
      "  df = df.append(datarow, ignore_index=True)\n",
      "C:\\Users\\lando\\AppData\\Local\\Temp\\ipykernel_34800\\2238899073.py:61: FutureWarning: The frame.append method is deprecated and will be removed from pandas in a future version. Use pandas.concat instead.\n",
      "  df = df.append(datarow, ignore_index=True)\n",
      "C:\\Users\\lando\\AppData\\Local\\Temp\\ipykernel_34800\\2238899073.py:61: FutureWarning: The frame.append method is deprecated and will be removed from pandas in a future version. Use pandas.concat instead.\n",
      "  df = df.append(datarow, ignore_index=True)\n",
      "C:\\Users\\lando\\AppData\\Local\\Temp\\ipykernel_34800\\2238899073.py:61: FutureWarning: The frame.append method is deprecated and will be removed from pandas in a future version. Use pandas.concat instead.\n",
      "  df = df.append(datarow, ignore_index=True)\n",
      "C:\\Users\\lando\\AppData\\Local\\Temp\\ipykernel_34800\\2238899073.py:61: FutureWarning: The frame.append method is deprecated and will be removed from pandas in a future version. Use pandas.concat instead.\n",
      "  df = df.append(datarow, ignore_index=True)\n",
      "C:\\Users\\lando\\AppData\\Local\\Temp\\ipykernel_34800\\2238899073.py:61: FutureWarning: The frame.append method is deprecated and will be removed from pandas in a future version. Use pandas.concat instead.\n",
      "  df = df.append(datarow, ignore_index=True)\n",
      "C:\\Users\\lando\\AppData\\Local\\Temp\\ipykernel_34800\\2238899073.py:61: FutureWarning: The frame.append method is deprecated and will be removed from pandas in a future version. Use pandas.concat instead.\n",
      "  df = df.append(datarow, ignore_index=True)\n",
      "C:\\Users\\lando\\AppData\\Local\\Temp\\ipykernel_34800\\2238899073.py:61: FutureWarning: The frame.append method is deprecated and will be removed from pandas in a future version. Use pandas.concat instead.\n",
      "  df = df.append(datarow, ignore_index=True)\n",
      "C:\\Users\\lando\\AppData\\Local\\Temp\\ipykernel_34800\\2238899073.py:61: FutureWarning: The frame.append method is deprecated and will be removed from pandas in a future version. Use pandas.concat instead.\n",
      "  df = df.append(datarow, ignore_index=True)\n",
      "C:\\Users\\lando\\AppData\\Local\\Temp\\ipykernel_34800\\2238899073.py:61: FutureWarning: The frame.append method is deprecated and will be removed from pandas in a future version. Use pandas.concat instead.\n",
      "  df = df.append(datarow, ignore_index=True)\n",
      "C:\\Users\\lando\\AppData\\Local\\Temp\\ipykernel_34800\\2238899073.py:61: FutureWarning: The frame.append method is deprecated and will be removed from pandas in a future version. Use pandas.concat instead.\n",
      "  df = df.append(datarow, ignore_index=True)\n",
      "C:\\Users\\lando\\AppData\\Local\\Temp\\ipykernel_34800\\2238899073.py:61: FutureWarning: The frame.append method is deprecated and will be removed from pandas in a future version. Use pandas.concat instead.\n",
      "  df = df.append(datarow, ignore_index=True)\n",
      "C:\\Users\\lando\\AppData\\Local\\Temp\\ipykernel_34800\\2238899073.py:61: FutureWarning: The frame.append method is deprecated and will be removed from pandas in a future version. Use pandas.concat instead.\n",
      "  df = df.append(datarow, ignore_index=True)\n",
      "C:\\Users\\lando\\AppData\\Local\\Temp\\ipykernel_34800\\2238899073.py:61: FutureWarning: The frame.append method is deprecated and will be removed from pandas in a future version. Use pandas.concat instead.\n",
      "  df = df.append(datarow, ignore_index=True)\n",
      "C:\\Users\\lando\\AppData\\Local\\Temp\\ipykernel_34800\\2238899073.py:61: FutureWarning: The frame.append method is deprecated and will be removed from pandas in a future version. Use pandas.concat instead.\n",
      "  df = df.append(datarow, ignore_index=True)\n",
      "C:\\Users\\lando\\AppData\\Local\\Temp\\ipykernel_34800\\2238899073.py:61: FutureWarning: The frame.append method is deprecated and will be removed from pandas in a future version. Use pandas.concat instead.\n",
      "  df = df.append(datarow, ignore_index=True)\n",
      "C:\\Users\\lando\\AppData\\Local\\Temp\\ipykernel_34800\\2238899073.py:61: FutureWarning: The frame.append method is deprecated and will be removed from pandas in a future version. Use pandas.concat instead.\n",
      "  df = df.append(datarow, ignore_index=True)\n",
      "C:\\Users\\lando\\AppData\\Local\\Temp\\ipykernel_34800\\2238899073.py:61: FutureWarning: The frame.append method is deprecated and will be removed from pandas in a future version. Use pandas.concat instead.\n",
      "  df = df.append(datarow, ignore_index=True)\n",
      "C:\\Users\\lando\\AppData\\Local\\Temp\\ipykernel_34800\\2238899073.py:61: FutureWarning: The frame.append method is deprecated and will be removed from pandas in a future version. Use pandas.concat instead.\n",
      "  df = df.append(datarow, ignore_index=True)\n",
      "C:\\Users\\lando\\AppData\\Local\\Temp\\ipykernel_34800\\2238899073.py:61: FutureWarning: The frame.append method is deprecated and will be removed from pandas in a future version. Use pandas.concat instead.\n",
      "  df = df.append(datarow, ignore_index=True)\n",
      "C:\\Users\\lando\\AppData\\Local\\Temp\\ipykernel_34800\\2238899073.py:61: FutureWarning: The frame.append method is deprecated and will be removed from pandas in a future version. Use pandas.concat instead.\n",
      "  df = df.append(datarow, ignore_index=True)\n",
      "C:\\Users\\lando\\AppData\\Local\\Temp\\ipykernel_34800\\2238899073.py:61: FutureWarning: The frame.append method is deprecated and will be removed from pandas in a future version. Use pandas.concat instead.\n",
      "  df = df.append(datarow, ignore_index=True)\n",
      "C:\\Users\\lando\\AppData\\Local\\Temp\\ipykernel_34800\\2238899073.py:61: FutureWarning: The frame.append method is deprecated and will be removed from pandas in a future version. Use pandas.concat instead.\n",
      "  df = df.append(datarow, ignore_index=True)\n",
      "C:\\Users\\lando\\AppData\\Local\\Temp\\ipykernel_34800\\2238899073.py:61: FutureWarning: The frame.append method is deprecated and will be removed from pandas in a future version. Use pandas.concat instead.\n",
      "  df = df.append(datarow, ignore_index=True)\n",
      "C:\\Users\\lando\\AppData\\Local\\Temp\\ipykernel_34800\\2238899073.py:61: FutureWarning: The frame.append method is deprecated and will be removed from pandas in a future version. Use pandas.concat instead.\n",
      "  df = df.append(datarow, ignore_index=True)\n",
      "C:\\Users\\lando\\AppData\\Local\\Temp\\ipykernel_34800\\2238899073.py:61: FutureWarning: The frame.append method is deprecated and will be removed from pandas in a future version. Use pandas.concat instead.\n",
      "  df = df.append(datarow, ignore_index=True)\n",
      "C:\\Users\\lando\\AppData\\Local\\Temp\\ipykernel_34800\\2238899073.py:61: FutureWarning: The frame.append method is deprecated and will be removed from pandas in a future version. Use pandas.concat instead.\n",
      "  df = df.append(datarow, ignore_index=True)\n",
      "C:\\Users\\lando\\AppData\\Local\\Temp\\ipykernel_34800\\2238899073.py:61: FutureWarning: The frame.append method is deprecated and will be removed from pandas in a future version. Use pandas.concat instead.\n",
      "  df = df.append(datarow, ignore_index=True)\n",
      "C:\\Users\\lando\\AppData\\Local\\Temp\\ipykernel_34800\\2238899073.py:61: FutureWarning: The frame.append method is deprecated and will be removed from pandas in a future version. Use pandas.concat instead.\n",
      "  df = df.append(datarow, ignore_index=True)\n",
      "C:\\Users\\lando\\AppData\\Local\\Temp\\ipykernel_34800\\2238899073.py:61: FutureWarning: The frame.append method is deprecated and will be removed from pandas in a future version. Use pandas.concat instead.\n",
      "  df = df.append(datarow, ignore_index=True)\n",
      "C:\\Users\\lando\\AppData\\Local\\Temp\\ipykernel_34800\\2238899073.py:61: FutureWarning: The frame.append method is deprecated and will be removed from pandas in a future version. Use pandas.concat instead.\n",
      "  df = df.append(datarow, ignore_index=True)\n",
      "C:\\Users\\lando\\AppData\\Local\\Temp\\ipykernel_34800\\2238899073.py:61: FutureWarning: The frame.append method is deprecated and will be removed from pandas in a future version. Use pandas.concat instead.\n",
      "  df = df.append(datarow, ignore_index=True)\n",
      "C:\\Users\\lando\\AppData\\Local\\Temp\\ipykernel_34800\\2238899073.py:61: FutureWarning: The frame.append method is deprecated and will be removed from pandas in a future version. Use pandas.concat instead.\n",
      "  df = df.append(datarow, ignore_index=True)\n",
      "C:\\Users\\lando\\AppData\\Local\\Temp\\ipykernel_34800\\2238899073.py:61: FutureWarning: The frame.append method is deprecated and will be removed from pandas in a future version. Use pandas.concat instead.\n",
      "  df = df.append(datarow, ignore_index=True)\n",
      "C:\\Users\\lando\\AppData\\Local\\Temp\\ipykernel_34800\\2238899073.py:61: FutureWarning: The frame.append method is deprecated and will be removed from pandas in a future version. Use pandas.concat instead.\n",
      "  df = df.append(datarow, ignore_index=True)\n",
      "C:\\Users\\lando\\AppData\\Local\\Temp\\ipykernel_34800\\2238899073.py:61: FutureWarning: The frame.append method is deprecated and will be removed from pandas in a future version. Use pandas.concat instead.\n",
      "  df = df.append(datarow, ignore_index=True)\n",
      "C:\\Users\\lando\\AppData\\Local\\Temp\\ipykernel_34800\\2238899073.py:61: FutureWarning: The frame.append method is deprecated and will be removed from pandas in a future version. Use pandas.concat instead.\n",
      "  df = df.append(datarow, ignore_index=True)\n",
      "C:\\Users\\lando\\AppData\\Local\\Temp\\ipykernel_34800\\2238899073.py:61: FutureWarning: The frame.append method is deprecated and will be removed from pandas in a future version. Use pandas.concat instead.\n",
      "  df = df.append(datarow, ignore_index=True)\n",
      "C:\\Users\\lando\\AppData\\Local\\Temp\\ipykernel_34800\\2238899073.py:61: FutureWarning: The frame.append method is deprecated and will be removed from pandas in a future version. Use pandas.concat instead.\n",
      "  df = df.append(datarow, ignore_index=True)\n",
      "C:\\Users\\lando\\AppData\\Local\\Temp\\ipykernel_34800\\2238899073.py:61: FutureWarning: The frame.append method is deprecated and will be removed from pandas in a future version. Use pandas.concat instead.\n",
      "  df = df.append(datarow, ignore_index=True)\n",
      "C:\\Users\\lando\\AppData\\Local\\Temp\\ipykernel_34800\\2238899073.py:61: FutureWarning: The frame.append method is deprecated and will be removed from pandas in a future version. Use pandas.concat instead.\n",
      "  df = df.append(datarow, ignore_index=True)\n",
      "C:\\Users\\lando\\AppData\\Local\\Temp\\ipykernel_34800\\2238899073.py:61: FutureWarning: The frame.append method is deprecated and will be removed from pandas in a future version. Use pandas.concat instead.\n",
      "  df = df.append(datarow, ignore_index=True)\n",
      "C:\\Users\\lando\\AppData\\Local\\Temp\\ipykernel_34800\\2238899073.py:61: FutureWarning: The frame.append method is deprecated and will be removed from pandas in a future version. Use pandas.concat instead.\n",
      "  df = df.append(datarow, ignore_index=True)\n",
      "C:\\Users\\lando\\AppData\\Local\\Temp\\ipykernel_34800\\2238899073.py:61: FutureWarning: The frame.append method is deprecated and will be removed from pandas in a future version. Use pandas.concat instead.\n",
      "  df = df.append(datarow, ignore_index=True)\n",
      "C:\\Users\\lando\\AppData\\Local\\Temp\\ipykernel_34800\\2238899073.py:61: FutureWarning: The frame.append method is deprecated and will be removed from pandas in a future version. Use pandas.concat instead.\n",
      "  df = df.append(datarow, ignore_index=True)\n",
      "C:\\Users\\lando\\AppData\\Local\\Temp\\ipykernel_34800\\2238899073.py:61: FutureWarning: The frame.append method is deprecated and will be removed from pandas in a future version. Use pandas.concat instead.\n",
      "  df = df.append(datarow, ignore_index=True)\n",
      "C:\\Users\\lando\\AppData\\Local\\Temp\\ipykernel_34800\\2238899073.py:61: FutureWarning: The frame.append method is deprecated and will be removed from pandas in a future version. Use pandas.concat instead.\n",
      "  df = df.append(datarow, ignore_index=True)\n",
      "C:\\Users\\lando\\AppData\\Local\\Temp\\ipykernel_34800\\2238899073.py:61: FutureWarning: The frame.append method is deprecated and will be removed from pandas in a future version. Use pandas.concat instead.\n",
      "  df = df.append(datarow, ignore_index=True)\n",
      "C:\\Users\\lando\\AppData\\Local\\Temp\\ipykernel_34800\\2238899073.py:61: FutureWarning: The frame.append method is deprecated and will be removed from pandas in a future version. Use pandas.concat instead.\n",
      "  df = df.append(datarow, ignore_index=True)\n",
      "C:\\Users\\lando\\AppData\\Local\\Temp\\ipykernel_34800\\2238899073.py:61: FutureWarning: The frame.append method is deprecated and will be removed from pandas in a future version. Use pandas.concat instead.\n",
      "  df = df.append(datarow, ignore_index=True)\n",
      "C:\\Users\\lando\\AppData\\Local\\Temp\\ipykernel_34800\\2238899073.py:61: FutureWarning: The frame.append method is deprecated and will be removed from pandas in a future version. Use pandas.concat instead.\n",
      "  df = df.append(datarow, ignore_index=True)\n",
      "C:\\Users\\lando\\AppData\\Local\\Temp\\ipykernel_34800\\2238899073.py:61: FutureWarning: The frame.append method is deprecated and will be removed from pandas in a future version. Use pandas.concat instead.\n",
      "  df = df.append(datarow, ignore_index=True)\n",
      "C:\\Users\\lando\\AppData\\Local\\Temp\\ipykernel_34800\\2238899073.py:61: FutureWarning: The frame.append method is deprecated and will be removed from pandas in a future version. Use pandas.concat instead.\n",
      "  df = df.append(datarow, ignore_index=True)\n",
      "C:\\Users\\lando\\AppData\\Local\\Temp\\ipykernel_34800\\2238899073.py:61: FutureWarning: The frame.append method is deprecated and will be removed from pandas in a future version. Use pandas.concat instead.\n",
      "  df = df.append(datarow, ignore_index=True)\n",
      "C:\\Users\\lando\\AppData\\Local\\Temp\\ipykernel_34800\\2238899073.py:61: FutureWarning: The frame.append method is deprecated and will be removed from pandas in a future version. Use pandas.concat instead.\n",
      "  df = df.append(datarow, ignore_index=True)\n",
      "C:\\Users\\lando\\AppData\\Local\\Temp\\ipykernel_34800\\2238899073.py:61: FutureWarning: The frame.append method is deprecated and will be removed from pandas in a future version. Use pandas.concat instead.\n",
      "  df = df.append(datarow, ignore_index=True)\n",
      "C:\\Users\\lando\\AppData\\Local\\Temp\\ipykernel_34800\\2238899073.py:61: FutureWarning: The frame.append method is deprecated and will be removed from pandas in a future version. Use pandas.concat instead.\n",
      "  df = df.append(datarow, ignore_index=True)\n",
      "C:\\Users\\lando\\AppData\\Local\\Temp\\ipykernel_34800\\2238899073.py:61: FutureWarning: The frame.append method is deprecated and will be removed from pandas in a future version. Use pandas.concat instead.\n",
      "  df = df.append(datarow, ignore_index=True)\n",
      "C:\\Users\\lando\\AppData\\Local\\Temp\\ipykernel_34800\\2238899073.py:61: FutureWarning: The frame.append method is deprecated and will be removed from pandas in a future version. Use pandas.concat instead.\n",
      "  df = df.append(datarow, ignore_index=True)\n",
      "C:\\Users\\lando\\AppData\\Local\\Temp\\ipykernel_34800\\2238899073.py:61: FutureWarning: The frame.append method is deprecated and will be removed from pandas in a future version. Use pandas.concat instead.\n",
      "  df = df.append(datarow, ignore_index=True)\n",
      "C:\\Users\\lando\\AppData\\Local\\Temp\\ipykernel_34800\\2238899073.py:61: FutureWarning: The frame.append method is deprecated and will be removed from pandas in a future version. Use pandas.concat instead.\n",
      "  df = df.append(datarow, ignore_index=True)\n",
      "C:\\Users\\lando\\AppData\\Local\\Temp\\ipykernel_34800\\2238899073.py:61: FutureWarning: The frame.append method is deprecated and will be removed from pandas in a future version. Use pandas.concat instead.\n",
      "  df = df.append(datarow, ignore_index=True)\n",
      "C:\\Users\\lando\\AppData\\Local\\Temp\\ipykernel_34800\\2238899073.py:61: FutureWarning: The frame.append method is deprecated and will be removed from pandas in a future version. Use pandas.concat instead.\n",
      "  df = df.append(datarow, ignore_index=True)\n",
      "C:\\Users\\lando\\AppData\\Local\\Temp\\ipykernel_34800\\2238899073.py:61: FutureWarning: The frame.append method is deprecated and will be removed from pandas in a future version. Use pandas.concat instead.\n",
      "  df = df.append(datarow, ignore_index=True)\n",
      "C:\\Users\\lando\\AppData\\Local\\Temp\\ipykernel_34800\\2238899073.py:61: FutureWarning: The frame.append method is deprecated and will be removed from pandas in a future version. Use pandas.concat instead.\n",
      "  df = df.append(datarow, ignore_index=True)\n",
      "C:\\Users\\lando\\AppData\\Local\\Temp\\ipykernel_34800\\2238899073.py:61: FutureWarning: The frame.append method is deprecated and will be removed from pandas in a future version. Use pandas.concat instead.\n",
      "  df = df.append(datarow, ignore_index=True)\n",
      "C:\\Users\\lando\\AppData\\Local\\Temp\\ipykernel_34800\\2238899073.py:61: FutureWarning: The frame.append method is deprecated and will be removed from pandas in a future version. Use pandas.concat instead.\n",
      "  df = df.append(datarow, ignore_index=True)\n",
      "C:\\Users\\lando\\AppData\\Local\\Temp\\ipykernel_34800\\2238899073.py:61: FutureWarning: The frame.append method is deprecated and will be removed from pandas in a future version. Use pandas.concat instead.\n",
      "  df = df.append(datarow, ignore_index=True)\n",
      "C:\\Users\\lando\\AppData\\Local\\Temp\\ipykernel_34800\\2238899073.py:61: FutureWarning: The frame.append method is deprecated and will be removed from pandas in a future version. Use pandas.concat instead.\n",
      "  df = df.append(datarow, ignore_index=True)\n",
      "C:\\Users\\lando\\AppData\\Local\\Temp\\ipykernel_34800\\2238899073.py:61: FutureWarning: The frame.append method is deprecated and will be removed from pandas in a future version. Use pandas.concat instead.\n",
      "  df = df.append(datarow, ignore_index=True)\n",
      "C:\\Users\\lando\\AppData\\Local\\Temp\\ipykernel_34800\\2238899073.py:61: FutureWarning: The frame.append method is deprecated and will be removed from pandas in a future version. Use pandas.concat instead.\n",
      "  df = df.append(datarow, ignore_index=True)\n",
      "C:\\Users\\lando\\AppData\\Local\\Temp\\ipykernel_34800\\2238899073.py:61: FutureWarning: The frame.append method is deprecated and will be removed from pandas in a future version. Use pandas.concat instead.\n",
      "  df = df.append(datarow, ignore_index=True)\n",
      "C:\\Users\\lando\\AppData\\Local\\Temp\\ipykernel_34800\\2238899073.py:61: FutureWarning: The frame.append method is deprecated and will be removed from pandas in a future version. Use pandas.concat instead.\n",
      "  df = df.append(datarow, ignore_index=True)\n",
      "C:\\Users\\lando\\AppData\\Local\\Temp\\ipykernel_34800\\2238899073.py:61: FutureWarning: The frame.append method is deprecated and will be removed from pandas in a future version. Use pandas.concat instead.\n",
      "  df = df.append(datarow, ignore_index=True)\n",
      "C:\\Users\\lando\\AppData\\Local\\Temp\\ipykernel_34800\\2238899073.py:61: FutureWarning: The frame.append method is deprecated and will be removed from pandas in a future version. Use pandas.concat instead.\n",
      "  df = df.append(datarow, ignore_index=True)\n",
      "C:\\Users\\lando\\AppData\\Local\\Temp\\ipykernel_34800\\2238899073.py:61: FutureWarning: The frame.append method is deprecated and will be removed from pandas in a future version. Use pandas.concat instead.\n",
      "  df = df.append(datarow, ignore_index=True)\n",
      "C:\\Users\\lando\\AppData\\Local\\Temp\\ipykernel_34800\\2238899073.py:61: FutureWarning: The frame.append method is deprecated and will be removed from pandas in a future version. Use pandas.concat instead.\n",
      "  df = df.append(datarow, ignore_index=True)\n",
      "C:\\Users\\lando\\AppData\\Local\\Temp\\ipykernel_34800\\2238899073.py:61: FutureWarning: The frame.append method is deprecated and will be removed from pandas in a future version. Use pandas.concat instead.\n",
      "  df = df.append(datarow, ignore_index=True)\n",
      "C:\\Users\\lando\\AppData\\Local\\Temp\\ipykernel_34800\\2238899073.py:61: FutureWarning: The frame.append method is deprecated and will be removed from pandas in a future version. Use pandas.concat instead.\n",
      "  df = df.append(datarow, ignore_index=True)\n",
      "C:\\Users\\lando\\AppData\\Local\\Temp\\ipykernel_34800\\2238899073.py:61: FutureWarning: The frame.append method is deprecated and will be removed from pandas in a future version. Use pandas.concat instead.\n",
      "  df = df.append(datarow, ignore_index=True)\n",
      "C:\\Users\\lando\\AppData\\Local\\Temp\\ipykernel_34800\\2238899073.py:61: FutureWarning: The frame.append method is deprecated and will be removed from pandas in a future version. Use pandas.concat instead.\n",
      "  df = df.append(datarow, ignore_index=True)\n",
      "C:\\Users\\lando\\AppData\\Local\\Temp\\ipykernel_34800\\2238899073.py:61: FutureWarning: The frame.append method is deprecated and will be removed from pandas in a future version. Use pandas.concat instead.\n",
      "  df = df.append(datarow, ignore_index=True)\n",
      "C:\\Users\\lando\\AppData\\Local\\Temp\\ipykernel_34800\\2238899073.py:61: FutureWarning: The frame.append method is deprecated and will be removed from pandas in a future version. Use pandas.concat instead.\n",
      "  df = df.append(datarow, ignore_index=True)\n",
      "C:\\Users\\lando\\AppData\\Local\\Temp\\ipykernel_34800\\2238899073.py:61: FutureWarning: The frame.append method is deprecated and will be removed from pandas in a future version. Use pandas.concat instead.\n",
      "  df = df.append(datarow, ignore_index=True)\n",
      "C:\\Users\\lando\\AppData\\Local\\Temp\\ipykernel_34800\\2238899073.py:61: FutureWarning: The frame.append method is deprecated and will be removed from pandas in a future version. Use pandas.concat instead.\n",
      "  df = df.append(datarow, ignore_index=True)\n",
      "C:\\Users\\lando\\AppData\\Local\\Temp\\ipykernel_34800\\2238899073.py:61: FutureWarning: The frame.append method is deprecated and will be removed from pandas in a future version. Use pandas.concat instead.\n",
      "  df = df.append(datarow, ignore_index=True)\n",
      "C:\\Users\\lando\\AppData\\Local\\Temp\\ipykernel_34800\\2238899073.py:61: FutureWarning: The frame.append method is deprecated and will be removed from pandas in a future version. Use pandas.concat instead.\n",
      "  df = df.append(datarow, ignore_index=True)\n",
      "C:\\Users\\lando\\AppData\\Local\\Temp\\ipykernel_34800\\2238899073.py:61: FutureWarning: The frame.append method is deprecated and will be removed from pandas in a future version. Use pandas.concat instead.\n",
      "  df = df.append(datarow, ignore_index=True)\n",
      "C:\\Users\\lando\\AppData\\Local\\Temp\\ipykernel_34800\\2238899073.py:61: FutureWarning: The frame.append method is deprecated and will be removed from pandas in a future version. Use pandas.concat instead.\n",
      "  df = df.append(datarow, ignore_index=True)\n",
      "C:\\Users\\lando\\AppData\\Local\\Temp\\ipykernel_34800\\2238899073.py:61: FutureWarning: The frame.append method is deprecated and will be removed from pandas in a future version. Use pandas.concat instead.\n",
      "  df = df.append(datarow, ignore_index=True)\n",
      "C:\\Users\\lando\\AppData\\Local\\Temp\\ipykernel_34800\\2238899073.py:61: FutureWarning: The frame.append method is deprecated and will be removed from pandas in a future version. Use pandas.concat instead.\n",
      "  df = df.append(datarow, ignore_index=True)\n",
      "C:\\Users\\lando\\AppData\\Local\\Temp\\ipykernel_34800\\2238899073.py:61: FutureWarning: The frame.append method is deprecated and will be removed from pandas in a future version. Use pandas.concat instead.\n",
      "  df = df.append(datarow, ignore_index=True)\n",
      "C:\\Users\\lando\\AppData\\Local\\Temp\\ipykernel_34800\\2238899073.py:61: FutureWarning: The frame.append method is deprecated and will be removed from pandas in a future version. Use pandas.concat instead.\n",
      "  df = df.append(datarow, ignore_index=True)\n",
      "C:\\Users\\lando\\AppData\\Local\\Temp\\ipykernel_34800\\2238899073.py:61: FutureWarning: The frame.append method is deprecated and will be removed from pandas in a future version. Use pandas.concat instead.\n",
      "  df = df.append(datarow, ignore_index=True)\n",
      "C:\\Users\\lando\\AppData\\Local\\Temp\\ipykernel_34800\\2238899073.py:61: FutureWarning: The frame.append method is deprecated and will be removed from pandas in a future version. Use pandas.concat instead.\n",
      "  df = df.append(datarow, ignore_index=True)\n",
      "C:\\Users\\lando\\AppData\\Local\\Temp\\ipykernel_34800\\2238899073.py:61: FutureWarning: The frame.append method is deprecated and will be removed from pandas in a future version. Use pandas.concat instead.\n",
      "  df = df.append(datarow, ignore_index=True)\n",
      "C:\\Users\\lando\\AppData\\Local\\Temp\\ipykernel_34800\\2238899073.py:61: FutureWarning: The frame.append method is deprecated and will be removed from pandas in a future version. Use pandas.concat instead.\n",
      "  df = df.append(datarow, ignore_index=True)\n",
      "C:\\Users\\lando\\AppData\\Local\\Temp\\ipykernel_34800\\2238899073.py:61: FutureWarning: The frame.append method is deprecated and will be removed from pandas in a future version. Use pandas.concat instead.\n",
      "  df = df.append(datarow, ignore_index=True)\n",
      "C:\\Users\\lando\\AppData\\Local\\Temp\\ipykernel_34800\\2238899073.py:61: FutureWarning: The frame.append method is deprecated and will be removed from pandas in a future version. Use pandas.concat instead.\n",
      "  df = df.append(datarow, ignore_index=True)\n",
      "C:\\Users\\lando\\AppData\\Local\\Temp\\ipykernel_34800\\2238899073.py:61: FutureWarning: The frame.append method is deprecated and will be removed from pandas in a future version. Use pandas.concat instead.\n",
      "  df = df.append(datarow, ignore_index=True)\n",
      "C:\\Users\\lando\\AppData\\Local\\Temp\\ipykernel_34800\\2238899073.py:61: FutureWarning: The frame.append method is deprecated and will be removed from pandas in a future version. Use pandas.concat instead.\n",
      "  df = df.append(datarow, ignore_index=True)\n",
      "C:\\Users\\lando\\AppData\\Local\\Temp\\ipykernel_34800\\2238899073.py:61: FutureWarning: The frame.append method is deprecated and will be removed from pandas in a future version. Use pandas.concat instead.\n",
      "  df = df.append(datarow, ignore_index=True)\n",
      "C:\\Users\\lando\\AppData\\Local\\Temp\\ipykernel_34800\\2238899073.py:61: FutureWarning: The frame.append method is deprecated and will be removed from pandas in a future version. Use pandas.concat instead.\n",
      "  df = df.append(datarow, ignore_index=True)\n",
      "C:\\Users\\lando\\AppData\\Local\\Temp\\ipykernel_34800\\2238899073.py:61: FutureWarning: The frame.append method is deprecated and will be removed from pandas in a future version. Use pandas.concat instead.\n",
      "  df = df.append(datarow, ignore_index=True)\n",
      "C:\\Users\\lando\\AppData\\Local\\Temp\\ipykernel_34800\\2238899073.py:61: FutureWarning: The frame.append method is deprecated and will be removed from pandas in a future version. Use pandas.concat instead.\n",
      "  df = df.append(datarow, ignore_index=True)\n",
      "C:\\Users\\lando\\AppData\\Local\\Temp\\ipykernel_34800\\2238899073.py:61: FutureWarning: The frame.append method is deprecated and will be removed from pandas in a future version. Use pandas.concat instead.\n",
      "  df = df.append(datarow, ignore_index=True)\n",
      "C:\\Users\\lando\\AppData\\Local\\Temp\\ipykernel_34800\\2238899073.py:61: FutureWarning: The frame.append method is deprecated and will be removed from pandas in a future version. Use pandas.concat instead.\n",
      "  df = df.append(datarow, ignore_index=True)\n",
      "C:\\Users\\lando\\AppData\\Local\\Temp\\ipykernel_34800\\2238899073.py:61: FutureWarning: The frame.append method is deprecated and will be removed from pandas in a future version. Use pandas.concat instead.\n",
      "  df = df.append(datarow, ignore_index=True)\n",
      "C:\\Users\\lando\\AppData\\Local\\Temp\\ipykernel_34800\\2238899073.py:61: FutureWarning: The frame.append method is deprecated and will be removed from pandas in a future version. Use pandas.concat instead.\n",
      "  df = df.append(datarow, ignore_index=True)\n",
      "C:\\Users\\lando\\AppData\\Local\\Temp\\ipykernel_34800\\2238899073.py:61: FutureWarning: The frame.append method is deprecated and will be removed from pandas in a future version. Use pandas.concat instead.\n",
      "  df = df.append(datarow, ignore_index=True)\n",
      "C:\\Users\\lando\\AppData\\Local\\Temp\\ipykernel_34800\\2238899073.py:61: FutureWarning: The frame.append method is deprecated and will be removed from pandas in a future version. Use pandas.concat instead.\n",
      "  df = df.append(datarow, ignore_index=True)\n",
      "C:\\Users\\lando\\AppData\\Local\\Temp\\ipykernel_34800\\2238899073.py:61: FutureWarning: The frame.append method is deprecated and will be removed from pandas in a future version. Use pandas.concat instead.\n",
      "  df = df.append(datarow, ignore_index=True)\n",
      "C:\\Users\\lando\\AppData\\Local\\Temp\\ipykernel_34800\\2238899073.py:61: FutureWarning: The frame.append method is deprecated and will be removed from pandas in a future version. Use pandas.concat instead.\n",
      "  df = df.append(datarow, ignore_index=True)\n",
      "C:\\Users\\lando\\AppData\\Local\\Temp\\ipykernel_34800\\2238899073.py:61: FutureWarning: The frame.append method is deprecated and will be removed from pandas in a future version. Use pandas.concat instead.\n",
      "  df = df.append(datarow, ignore_index=True)\n",
      "C:\\Users\\lando\\AppData\\Local\\Temp\\ipykernel_34800\\2238899073.py:61: FutureWarning: The frame.append method is deprecated and will be removed from pandas in a future version. Use pandas.concat instead.\n",
      "  df = df.append(datarow, ignore_index=True)\n",
      "C:\\Users\\lando\\AppData\\Local\\Temp\\ipykernel_34800\\2238899073.py:61: FutureWarning: The frame.append method is deprecated and will be removed from pandas in a future version. Use pandas.concat instead.\n",
      "  df = df.append(datarow, ignore_index=True)\n",
      "C:\\Users\\lando\\AppData\\Local\\Temp\\ipykernel_34800\\2238899073.py:61: FutureWarning: The frame.append method is deprecated and will be removed from pandas in a future version. Use pandas.concat instead.\n",
      "  df = df.append(datarow, ignore_index=True)\n",
      "C:\\Users\\lando\\AppData\\Local\\Temp\\ipykernel_34800\\2238899073.py:61: FutureWarning: The frame.append method is deprecated and will be removed from pandas in a future version. Use pandas.concat instead.\n",
      "  df = df.append(datarow, ignore_index=True)\n",
      "C:\\Users\\lando\\AppData\\Local\\Temp\\ipykernel_34800\\2238899073.py:61: FutureWarning: The frame.append method is deprecated and will be removed from pandas in a future version. Use pandas.concat instead.\n",
      "  df = df.append(datarow, ignore_index=True)\n",
      "C:\\Users\\lando\\AppData\\Local\\Temp\\ipykernel_34800\\2238899073.py:61: FutureWarning: The frame.append method is deprecated and will be removed from pandas in a future version. Use pandas.concat instead.\n",
      "  df = df.append(datarow, ignore_index=True)\n",
      "C:\\Users\\lando\\AppData\\Local\\Temp\\ipykernel_34800\\2238899073.py:61: FutureWarning: The frame.append method is deprecated and will be removed from pandas in a future version. Use pandas.concat instead.\n",
      "  df = df.append(datarow, ignore_index=True)\n",
      "C:\\Users\\lando\\AppData\\Local\\Temp\\ipykernel_34800\\2238899073.py:61: FutureWarning: The frame.append method is deprecated and will be removed from pandas in a future version. Use pandas.concat instead.\n",
      "  df = df.append(datarow, ignore_index=True)\n",
      "C:\\Users\\lando\\AppData\\Local\\Temp\\ipykernel_34800\\2238899073.py:61: FutureWarning: The frame.append method is deprecated and will be removed from pandas in a future version. Use pandas.concat instead.\n",
      "  df = df.append(datarow, ignore_index=True)\n",
      "C:\\Users\\lando\\AppData\\Local\\Temp\\ipykernel_34800\\2238899073.py:61: FutureWarning: The frame.append method is deprecated and will be removed from pandas in a future version. Use pandas.concat instead.\n",
      "  df = df.append(datarow, ignore_index=True)\n",
      "C:\\Users\\lando\\AppData\\Local\\Temp\\ipykernel_34800\\2238899073.py:61: FutureWarning: The frame.append method is deprecated and will be removed from pandas in a future version. Use pandas.concat instead.\n",
      "  df = df.append(datarow, ignore_index=True)\n",
      "C:\\Users\\lando\\AppData\\Local\\Temp\\ipykernel_34800\\2238899073.py:61: FutureWarning: The frame.append method is deprecated and will be removed from pandas in a future version. Use pandas.concat instead.\n",
      "  df = df.append(datarow, ignore_index=True)\n",
      "C:\\Users\\lando\\AppData\\Local\\Temp\\ipykernel_34800\\2238899073.py:61: FutureWarning: The frame.append method is deprecated and will be removed from pandas in a future version. Use pandas.concat instead.\n",
      "  df = df.append(datarow, ignore_index=True)\n",
      "C:\\Users\\lando\\AppData\\Local\\Temp\\ipykernel_34800\\2238899073.py:61: FutureWarning: The frame.append method is deprecated and will be removed from pandas in a future version. Use pandas.concat instead.\n",
      "  df = df.append(datarow, ignore_index=True)\n",
      "C:\\Users\\lando\\AppData\\Local\\Temp\\ipykernel_34800\\2238899073.py:61: FutureWarning: The frame.append method is deprecated and will be removed from pandas in a future version. Use pandas.concat instead.\n",
      "  df = df.append(datarow, ignore_index=True)\n",
      "C:\\Users\\lando\\AppData\\Local\\Temp\\ipykernel_34800\\2238899073.py:61: FutureWarning: The frame.append method is deprecated and will be removed from pandas in a future version. Use pandas.concat instead.\n",
      "  df = df.append(datarow, ignore_index=True)\n",
      "C:\\Users\\lando\\AppData\\Local\\Temp\\ipykernel_34800\\2238899073.py:61: FutureWarning: The frame.append method is deprecated and will be removed from pandas in a future version. Use pandas.concat instead.\n",
      "  df = df.append(datarow, ignore_index=True)\n",
      "C:\\Users\\lando\\AppData\\Local\\Temp\\ipykernel_34800\\2238899073.py:61: FutureWarning: The frame.append method is deprecated and will be removed from pandas in a future version. Use pandas.concat instead.\n",
      "  df = df.append(datarow, ignore_index=True)\n",
      "C:\\Users\\lando\\AppData\\Local\\Temp\\ipykernel_34800\\2238899073.py:61: FutureWarning: The frame.append method is deprecated and will be removed from pandas in a future version. Use pandas.concat instead.\n",
      "  df = df.append(datarow, ignore_index=True)\n",
      "C:\\Users\\lando\\AppData\\Local\\Temp\\ipykernel_34800\\2238899073.py:61: FutureWarning: The frame.append method is deprecated and will be removed from pandas in a future version. Use pandas.concat instead.\n",
      "  df = df.append(datarow, ignore_index=True)\n",
      "C:\\Users\\lando\\AppData\\Local\\Temp\\ipykernel_34800\\2238899073.py:61: FutureWarning: The frame.append method is deprecated and will be removed from pandas in a future version. Use pandas.concat instead.\n",
      "  df = df.append(datarow, ignore_index=True)\n",
      "C:\\Users\\lando\\AppData\\Local\\Temp\\ipykernel_34800\\2238899073.py:61: FutureWarning: The frame.append method is deprecated and will be removed from pandas in a future version. Use pandas.concat instead.\n",
      "  df = df.append(datarow, ignore_index=True)\n",
      "C:\\Users\\lando\\AppData\\Local\\Temp\\ipykernel_34800\\2238899073.py:61: FutureWarning: The frame.append method is deprecated and will be removed from pandas in a future version. Use pandas.concat instead.\n",
      "  df = df.append(datarow, ignore_index=True)\n",
      "C:\\Users\\lando\\AppData\\Local\\Temp\\ipykernel_34800\\2238899073.py:61: FutureWarning: The frame.append method is deprecated and will be removed from pandas in a future version. Use pandas.concat instead.\n",
      "  df = df.append(datarow, ignore_index=True)\n",
      "C:\\Users\\lando\\AppData\\Local\\Temp\\ipykernel_34800\\2238899073.py:61: FutureWarning: The frame.append method is deprecated and will be removed from pandas in a future version. Use pandas.concat instead.\n",
      "  df = df.append(datarow, ignore_index=True)\n",
      "C:\\Users\\lando\\AppData\\Local\\Temp\\ipykernel_34800\\2238899073.py:61: FutureWarning: The frame.append method is deprecated and will be removed from pandas in a future version. Use pandas.concat instead.\n",
      "  df = df.append(datarow, ignore_index=True)\n",
      "C:\\Users\\lando\\AppData\\Local\\Temp\\ipykernel_34800\\2238899073.py:61: FutureWarning: The frame.append method is deprecated and will be removed from pandas in a future version. Use pandas.concat instead.\n",
      "  df = df.append(datarow, ignore_index=True)\n",
      "C:\\Users\\lando\\AppData\\Local\\Temp\\ipykernel_34800\\2238899073.py:61: FutureWarning: The frame.append method is deprecated and will be removed from pandas in a future version. Use pandas.concat instead.\n",
      "  df = df.append(datarow, ignore_index=True)\n",
      "C:\\Users\\lando\\AppData\\Local\\Temp\\ipykernel_34800\\2238899073.py:61: FutureWarning: The frame.append method is deprecated and will be removed from pandas in a future version. Use pandas.concat instead.\n",
      "  df = df.append(datarow, ignore_index=True)\n",
      "C:\\Users\\lando\\AppData\\Local\\Temp\\ipykernel_34800\\2238899073.py:61: FutureWarning: The frame.append method is deprecated and will be removed from pandas in a future version. Use pandas.concat instead.\n",
      "  df = df.append(datarow, ignore_index=True)\n",
      "C:\\Users\\lando\\AppData\\Local\\Temp\\ipykernel_34800\\2238899073.py:61: FutureWarning: The frame.append method is deprecated and will be removed from pandas in a future version. Use pandas.concat instead.\n",
      "  df = df.append(datarow, ignore_index=True)\n",
      "C:\\Users\\lando\\AppData\\Local\\Temp\\ipykernel_34800\\2238899073.py:61: FutureWarning: The frame.append method is deprecated and will be removed from pandas in a future version. Use pandas.concat instead.\n",
      "  df = df.append(datarow, ignore_index=True)\n",
      "C:\\Users\\lando\\AppData\\Local\\Temp\\ipykernel_34800\\2238899073.py:61: FutureWarning: The frame.append method is deprecated and will be removed from pandas in a future version. Use pandas.concat instead.\n",
      "  df = df.append(datarow, ignore_index=True)\n",
      "C:\\Users\\lando\\AppData\\Local\\Temp\\ipykernel_34800\\2238899073.py:61: FutureWarning: The frame.append method is deprecated and will be removed from pandas in a future version. Use pandas.concat instead.\n",
      "  df = df.append(datarow, ignore_index=True)\n",
      "C:\\Users\\lando\\AppData\\Local\\Temp\\ipykernel_34800\\2238899073.py:61: FutureWarning: The frame.append method is deprecated and will be removed from pandas in a future version. Use pandas.concat instead.\n",
      "  df = df.append(datarow, ignore_index=True)\n",
      "C:\\Users\\lando\\AppData\\Local\\Temp\\ipykernel_34800\\2238899073.py:61: FutureWarning: The frame.append method is deprecated and will be removed from pandas in a future version. Use pandas.concat instead.\n",
      "  df = df.append(datarow, ignore_index=True)\n",
      "C:\\Users\\lando\\AppData\\Local\\Temp\\ipykernel_34800\\2238899073.py:61: FutureWarning: The frame.append method is deprecated and will be removed from pandas in a future version. Use pandas.concat instead.\n",
      "  df = df.append(datarow, ignore_index=True)\n",
      "C:\\Users\\lando\\AppData\\Local\\Temp\\ipykernel_34800\\2238899073.py:61: FutureWarning: The frame.append method is deprecated and will be removed from pandas in a future version. Use pandas.concat instead.\n",
      "  df = df.append(datarow, ignore_index=True)\n",
      "C:\\Users\\lando\\AppData\\Local\\Temp\\ipykernel_34800\\2238899073.py:61: FutureWarning: The frame.append method is deprecated and will be removed from pandas in a future version. Use pandas.concat instead.\n",
      "  df = df.append(datarow, ignore_index=True)\n",
      "C:\\Users\\lando\\AppData\\Local\\Temp\\ipykernel_34800\\2238899073.py:61: FutureWarning: The frame.append method is deprecated and will be removed from pandas in a future version. Use pandas.concat instead.\n",
      "  df = df.append(datarow, ignore_index=True)\n",
      "C:\\Users\\lando\\AppData\\Local\\Temp\\ipykernel_34800\\2238899073.py:61: FutureWarning: The frame.append method is deprecated and will be removed from pandas in a future version. Use pandas.concat instead.\n",
      "  df = df.append(datarow, ignore_index=True)\n",
      "C:\\Users\\lando\\AppData\\Local\\Temp\\ipykernel_34800\\2238899073.py:61: FutureWarning: The frame.append method is deprecated and will be removed from pandas in a future version. Use pandas.concat instead.\n",
      "  df = df.append(datarow, ignore_index=True)\n",
      "C:\\Users\\lando\\AppData\\Local\\Temp\\ipykernel_34800\\2238899073.py:61: FutureWarning: The frame.append method is deprecated and will be removed from pandas in a future version. Use pandas.concat instead.\n",
      "  df = df.append(datarow, ignore_index=True)\n",
      "C:\\Users\\lando\\AppData\\Local\\Temp\\ipykernel_34800\\2238899073.py:61: FutureWarning: The frame.append method is deprecated and will be removed from pandas in a future version. Use pandas.concat instead.\n",
      "  df = df.append(datarow, ignore_index=True)\n",
      "C:\\Users\\lando\\AppData\\Local\\Temp\\ipykernel_34800\\2238899073.py:61: FutureWarning: The frame.append method is deprecated and will be removed from pandas in a future version. Use pandas.concat instead.\n",
      "  df = df.append(datarow, ignore_index=True)\n",
      "C:\\Users\\lando\\AppData\\Local\\Temp\\ipykernel_34800\\2238899073.py:61: FutureWarning: The frame.append method is deprecated and will be removed from pandas in a future version. Use pandas.concat instead.\n",
      "  df = df.append(datarow, ignore_index=True)\n",
      "C:\\Users\\lando\\AppData\\Local\\Temp\\ipykernel_34800\\2238899073.py:61: FutureWarning: The frame.append method is deprecated and will be removed from pandas in a future version. Use pandas.concat instead.\n",
      "  df = df.append(datarow, ignore_index=True)\n",
      "C:\\Users\\lando\\AppData\\Local\\Temp\\ipykernel_34800\\2238899073.py:61: FutureWarning: The frame.append method is deprecated and will be removed from pandas in a future version. Use pandas.concat instead.\n",
      "  df = df.append(datarow, ignore_index=True)\n",
      "C:\\Users\\lando\\AppData\\Local\\Temp\\ipykernel_34800\\2238899073.py:61: FutureWarning: The frame.append method is deprecated and will be removed from pandas in a future version. Use pandas.concat instead.\n",
      "  df = df.append(datarow, ignore_index=True)\n",
      "C:\\Users\\lando\\AppData\\Local\\Temp\\ipykernel_34800\\2238899073.py:61: FutureWarning: The frame.append method is deprecated and will be removed from pandas in a future version. Use pandas.concat instead.\n",
      "  df = df.append(datarow, ignore_index=True)\n",
      "C:\\Users\\lando\\AppData\\Local\\Temp\\ipykernel_34800\\2238899073.py:61: FutureWarning: The frame.append method is deprecated and will be removed from pandas in a future version. Use pandas.concat instead.\n",
      "  df = df.append(datarow, ignore_index=True)\n",
      "C:\\Users\\lando\\AppData\\Local\\Temp\\ipykernel_34800\\2238899073.py:61: FutureWarning: The frame.append method is deprecated and will be removed from pandas in a future version. Use pandas.concat instead.\n",
      "  df = df.append(datarow, ignore_index=True)\n",
      "C:\\Users\\lando\\AppData\\Local\\Temp\\ipykernel_34800\\2238899073.py:61: FutureWarning: The frame.append method is deprecated and will be removed from pandas in a future version. Use pandas.concat instead.\n",
      "  df = df.append(datarow, ignore_index=True)\n",
      "C:\\Users\\lando\\AppData\\Local\\Temp\\ipykernel_34800\\2238899073.py:61: FutureWarning: The frame.append method is deprecated and will be removed from pandas in a future version. Use pandas.concat instead.\n",
      "  df = df.append(datarow, ignore_index=True)\n",
      "C:\\Users\\lando\\AppData\\Local\\Temp\\ipykernel_34800\\2238899073.py:61: FutureWarning: The frame.append method is deprecated and will be removed from pandas in a future version. Use pandas.concat instead.\n",
      "  df = df.append(datarow, ignore_index=True)\n",
      "C:\\Users\\lando\\AppData\\Local\\Temp\\ipykernel_34800\\2238899073.py:61: FutureWarning: The frame.append method is deprecated and will be removed from pandas in a future version. Use pandas.concat instead.\n",
      "  df = df.append(datarow, ignore_index=True)\n",
      "C:\\Users\\lando\\AppData\\Local\\Temp\\ipykernel_34800\\2238899073.py:61: FutureWarning: The frame.append method is deprecated and will be removed from pandas in a future version. Use pandas.concat instead.\n",
      "  df = df.append(datarow, ignore_index=True)\n",
      "C:\\Users\\lando\\AppData\\Local\\Temp\\ipykernel_34800\\2238899073.py:61: FutureWarning: The frame.append method is deprecated and will be removed from pandas in a future version. Use pandas.concat instead.\n",
      "  df = df.append(datarow, ignore_index=True)\n",
      "C:\\Users\\lando\\AppData\\Local\\Temp\\ipykernel_34800\\2238899073.py:61: FutureWarning: The frame.append method is deprecated and will be removed from pandas in a future version. Use pandas.concat instead.\n",
      "  df = df.append(datarow, ignore_index=True)\n",
      "C:\\Users\\lando\\AppData\\Local\\Temp\\ipykernel_34800\\2238899073.py:61: FutureWarning: The frame.append method is deprecated and will be removed from pandas in a future version. Use pandas.concat instead.\n",
      "  df = df.append(datarow, ignore_index=True)\n",
      "C:\\Users\\lando\\AppData\\Local\\Temp\\ipykernel_34800\\2238899073.py:61: FutureWarning: The frame.append method is deprecated and will be removed from pandas in a future version. Use pandas.concat instead.\n",
      "  df = df.append(datarow, ignore_index=True)\n",
      "C:\\Users\\lando\\AppData\\Local\\Temp\\ipykernel_34800\\2238899073.py:61: FutureWarning: The frame.append method is deprecated and will be removed from pandas in a future version. Use pandas.concat instead.\n",
      "  df = df.append(datarow, ignore_index=True)\n",
      "C:\\Users\\lando\\AppData\\Local\\Temp\\ipykernel_34800\\2238899073.py:61: FutureWarning: The frame.append method is deprecated and will be removed from pandas in a future version. Use pandas.concat instead.\n",
      "  df = df.append(datarow, ignore_index=True)\n",
      "C:\\Users\\lando\\AppData\\Local\\Temp\\ipykernel_34800\\2238899073.py:61: FutureWarning: The frame.append method is deprecated and will be removed from pandas in a future version. Use pandas.concat instead.\n",
      "  df = df.append(datarow, ignore_index=True)\n",
      "C:\\Users\\lando\\AppData\\Local\\Temp\\ipykernel_34800\\2238899073.py:61: FutureWarning: The frame.append method is deprecated and will be removed from pandas in a future version. Use pandas.concat instead.\n",
      "  df = df.append(datarow, ignore_index=True)\n",
      "C:\\Users\\lando\\AppData\\Local\\Temp\\ipykernel_34800\\2238899073.py:61: FutureWarning: The frame.append method is deprecated and will be removed from pandas in a future version. Use pandas.concat instead.\n",
      "  df = df.append(datarow, ignore_index=True)\n",
      "C:\\Users\\lando\\AppData\\Local\\Temp\\ipykernel_34800\\2238899073.py:61: FutureWarning: The frame.append method is deprecated and will be removed from pandas in a future version. Use pandas.concat instead.\n",
      "  df = df.append(datarow, ignore_index=True)\n",
      "C:\\Users\\lando\\AppData\\Local\\Temp\\ipykernel_34800\\2238899073.py:61: FutureWarning: The frame.append method is deprecated and will be removed from pandas in a future version. Use pandas.concat instead.\n",
      "  df = df.append(datarow, ignore_index=True)\n",
      "C:\\Users\\lando\\AppData\\Local\\Temp\\ipykernel_34800\\2238899073.py:61: FutureWarning: The frame.append method is deprecated and will be removed from pandas in a future version. Use pandas.concat instead.\n",
      "  df = df.append(datarow, ignore_index=True)\n",
      "C:\\Users\\lando\\AppData\\Local\\Temp\\ipykernel_34800\\2238899073.py:61: FutureWarning: The frame.append method is deprecated and will be removed from pandas in a future version. Use pandas.concat instead.\n",
      "  df = df.append(datarow, ignore_index=True)\n",
      "C:\\Users\\lando\\AppData\\Local\\Temp\\ipykernel_34800\\2238899073.py:61: FutureWarning: The frame.append method is deprecated and will be removed from pandas in a future version. Use pandas.concat instead.\n",
      "  df = df.append(datarow, ignore_index=True)\n",
      "C:\\Users\\lando\\AppData\\Local\\Temp\\ipykernel_34800\\2238899073.py:61: FutureWarning: The frame.append method is deprecated and will be removed from pandas in a future version. Use pandas.concat instead.\n",
      "  df = df.append(datarow, ignore_index=True)\n",
      "C:\\Users\\lando\\AppData\\Local\\Temp\\ipykernel_34800\\2238899073.py:61: FutureWarning: The frame.append method is deprecated and will be removed from pandas in a future version. Use pandas.concat instead.\n",
      "  df = df.append(datarow, ignore_index=True)\n",
      "C:\\Users\\lando\\AppData\\Local\\Temp\\ipykernel_34800\\2238899073.py:61: FutureWarning: The frame.append method is deprecated and will be removed from pandas in a future version. Use pandas.concat instead.\n",
      "  df = df.append(datarow, ignore_index=True)\n",
      "C:\\Users\\lando\\AppData\\Local\\Temp\\ipykernel_34800\\2238899073.py:61: FutureWarning: The frame.append method is deprecated and will be removed from pandas in a future version. Use pandas.concat instead.\n",
      "  df = df.append(datarow, ignore_index=True)\n",
      "C:\\Users\\lando\\AppData\\Local\\Temp\\ipykernel_34800\\2238899073.py:61: FutureWarning: The frame.append method is deprecated and will be removed from pandas in a future version. Use pandas.concat instead.\n",
      "  df = df.append(datarow, ignore_index=True)\n",
      "C:\\Users\\lando\\AppData\\Local\\Temp\\ipykernel_34800\\2238899073.py:61: FutureWarning: The frame.append method is deprecated and will be removed from pandas in a future version. Use pandas.concat instead.\n",
      "  df = df.append(datarow, ignore_index=True)\n",
      "C:\\Users\\lando\\AppData\\Local\\Temp\\ipykernel_34800\\2238899073.py:61: FutureWarning: The frame.append method is deprecated and will be removed from pandas in a future version. Use pandas.concat instead.\n",
      "  df = df.append(datarow, ignore_index=True)\n",
      "C:\\Users\\lando\\AppData\\Local\\Temp\\ipykernel_34800\\2238899073.py:61: FutureWarning: The frame.append method is deprecated and will be removed from pandas in a future version. Use pandas.concat instead.\n",
      "  df = df.append(datarow, ignore_index=True)\n",
      "C:\\Users\\lando\\AppData\\Local\\Temp\\ipykernel_34800\\2238899073.py:61: FutureWarning: The frame.append method is deprecated and will be removed from pandas in a future version. Use pandas.concat instead.\n",
      "  df = df.append(datarow, ignore_index=True)\n",
      "C:\\Users\\lando\\AppData\\Local\\Temp\\ipykernel_34800\\2238899073.py:61: FutureWarning: The frame.append method is deprecated and will be removed from pandas in a future version. Use pandas.concat instead.\n",
      "  df = df.append(datarow, ignore_index=True)\n",
      "C:\\Users\\lando\\AppData\\Local\\Temp\\ipykernel_34800\\2238899073.py:61: FutureWarning: The frame.append method is deprecated and will be removed from pandas in a future version. Use pandas.concat instead.\n",
      "  df = df.append(datarow, ignore_index=True)\n",
      "C:\\Users\\lando\\AppData\\Local\\Temp\\ipykernel_34800\\2238899073.py:61: FutureWarning: The frame.append method is deprecated and will be removed from pandas in a future version. Use pandas.concat instead.\n",
      "  df = df.append(datarow, ignore_index=True)\n",
      "C:\\Users\\lando\\AppData\\Local\\Temp\\ipykernel_34800\\2238899073.py:61: FutureWarning: The frame.append method is deprecated and will be removed from pandas in a future version. Use pandas.concat instead.\n",
      "  df = df.append(datarow, ignore_index=True)\n",
      "C:\\Users\\lando\\AppData\\Local\\Temp\\ipykernel_34800\\2238899073.py:61: FutureWarning: The frame.append method is deprecated and will be removed from pandas in a future version. Use pandas.concat instead.\n",
      "  df = df.append(datarow, ignore_index=True)\n",
      "C:\\Users\\lando\\AppData\\Local\\Temp\\ipykernel_34800\\2238899073.py:61: FutureWarning: The frame.append method is deprecated and will be removed from pandas in a future version. Use pandas.concat instead.\n",
      "  df = df.append(datarow, ignore_index=True)\n"
     ]
    },
    {
     "data": {
      "text/html": [
       "<div>\n",
       "<style scoped>\n",
       "    .dataframe tbody tr th:only-of-type {\n",
       "        vertical-align: middle;\n",
       "    }\n",
       "\n",
       "    .dataframe tbody tr th {\n",
       "        vertical-align: top;\n",
       "    }\n",
       "\n",
       "    .dataframe thead th {\n",
       "        text-align: right;\n",
       "    }\n",
       "</style>\n",
       "<table border=\"1\" class=\"dataframe\">\n",
       "  <thead>\n",
       "    <tr style=\"text-align: right;\">\n",
       "      <th></th>\n",
       "      <th>name</th>\n",
       "      <th>time</th>\n",
       "      <th>statement</th>\n",
       "      <th>topics</th>\n",
       "    </tr>\n",
       "  </thead>\n",
       "  <tbody>\n",
       "    <tr>\n",
       "      <th>0</th>\n",
       "      <td>1 Day For The K.I.A., Inc.</td>\n",
       "      <td>Sundays at 17002121 Tuttle Park PlaceColumbus,...</td>\n",
       "      <td>1 Day for the K.I.A.’s purpose is to raise awa...</td>\n",
       "      <td>[Columbus,  Awareness/Activism,  Community Ser...</td>\n",
       "    </tr>\n",
       "    <tr>\n",
       "      <th>1</th>\n",
       "      <td>1825 at Ohio State</td>\n",
       "      <td>Monday @ 7pmColumbus, OH 43210</td>\n",
       "      <td>To help students at The Ohio State University ...</td>\n",
       "      <td>[Columbus,  Religious/Spiritual,  Awareness/Ac...</td>\n",
       "    </tr>\n",
       "    <tr>\n",
       "      <th>2</th>\n",
       "      <td>1girl</td>\n",
       "      <td>Wednesdays @ 7pm (bi-weekly)Enarson Classroom ...</td>\n",
       "      <td>We strive to provide girls and nonbinary stude...</td>\n",
       "      <td>[Columbus,  Community Service/Service Learning...</td>\n",
       "    </tr>\n",
       "    <tr>\n",
       "      <th>3</th>\n",
       "      <td>2022 Intercollegiate Taiwanese American Studen...</td>\n",
       "      <td>Columbus, OH 43210</td>\n",
       "      <td>The purpose of this organization is to unite O...</td>\n",
       "      <td>[Columbus,  Ethnic/Cultural]</td>\n",
       "    </tr>\n",
       "    <tr>\n",
       "      <th>4</th>\n",
       "      <td>The 2nd and 7 Foundation Medical Branch</td>\n",
       "      <td>Sunday 6pmColumbus, OH 43210</td>\n",
       "      <td>The mission of the 2nd and 7 Foundation Medica...</td>\n",
       "      <td>[Columbus,  Community Service/Service Learning...</td>\n",
       "    </tr>\n",
       "    <tr>\n",
       "      <th>...</th>\n",
       "      <td>...</td>\n",
       "      <td>...</td>\n",
       "      <td>...</td>\n",
       "      <td>...</td>\n",
       "    </tr>\n",
       "    <tr>\n",
       "      <th>1764</th>\n",
       "      <td>Zeta Phi Beta Sorority, Incorporated</td>\n",
       "      <td>Wednesdays at 7:30pm1739 N High St Columbus, O...</td>\n",
       "      <td>To foster the ideas of service, charity, schol...</td>\n",
       "      <td>[Columbus,  Social Fraternities/Sororities,  E...</td>\n",
       "    </tr>\n",
       "    <tr>\n",
       "      <th>1765</th>\n",
       "      <td>Zeta Tau Alpha</td>\n",
       "      <td>Wednesdays at 7:30pm1739 N High St Columbus, O...</td>\n",
       "      <td>The purpose of Zeta Tau Alpha is the intensify...</td>\n",
       "      <td>[Columbus,  Social Fraternities/Sororities,  A...</td>\n",
       "    </tr>\n",
       "    <tr>\n",
       "      <th>1766</th>\n",
       "      <td>Zoo, Wildlife, and Conservation Medicine Club</td>\n",
       "      <td>Wednesdays at 7:30pm1739 N High St Columbus, O...</td>\n",
       "      <td>The purpose of the OSU CVM Zoo, Wildlife, and ...</td>\n",
       "      <td>[Columbus,  Academic/College,  Special Interest]</td>\n",
       "    </tr>\n",
       "    <tr>\n",
       "      <th>1767</th>\n",
       "      <td>Zoology Club at The Ohio State University</td>\n",
       "      <td>Wednesdays at 7:30pm1739 N High St Columbus, O...</td>\n",
       "      <td>The purpose of Zoology Club is to enhance the ...</td>\n",
       "      <td>[Columbus,  Academic/College,  Special Interest]</td>\n",
       "    </tr>\n",
       "    <tr>\n",
       "      <th>1768</th>\n",
       "      <td>Zuvaa Afro-Caribbean Dancers</td>\n",
       "      <td>Wednesdays at 7:30pm1739 N High St Columbus, O...</td>\n",
       "      <td>Through a range of different dances from diffe...</td>\n",
       "      <td>[Columbus,  Ethnic/Cultural,  Creative and Per...</td>\n",
       "    </tr>\n",
       "  </tbody>\n",
       "</table>\n",
       "<p>1769 rows × 4 columns</p>\n",
       "</div>"
      ],
      "text/plain": [
       "                                                   name  \\\n",
       "0                            1 Day For The K.I.A., Inc.   \n",
       "1                                    1825 at Ohio State   \n",
       "2                                                 1girl   \n",
       "3     2022 Intercollegiate Taiwanese American Studen...   \n",
       "4               The 2nd and 7 Foundation Medical Branch   \n",
       "...                                                 ...   \n",
       "1764               Zeta Phi Beta Sorority, Incorporated   \n",
       "1765                                     Zeta Tau Alpha   \n",
       "1766      Zoo, Wildlife, and Conservation Medicine Club   \n",
       "1767          Zoology Club at The Ohio State University   \n",
       "1768                       Zuvaa Afro-Caribbean Dancers   \n",
       "\n",
       "                                                   time  \\\n",
       "0     Sundays at 17002121 Tuttle Park PlaceColumbus,...   \n",
       "1                        Monday @ 7pmColumbus, OH 43210   \n",
       "2     Wednesdays @ 7pm (bi-weekly)Enarson Classroom ...   \n",
       "3                                    Columbus, OH 43210   \n",
       "4                          Sunday 6pmColumbus, OH 43210   \n",
       "...                                                 ...   \n",
       "1764  Wednesdays at 7:30pm1739 N High St Columbus, O...   \n",
       "1765  Wednesdays at 7:30pm1739 N High St Columbus, O...   \n",
       "1766  Wednesdays at 7:30pm1739 N High St Columbus, O...   \n",
       "1767  Wednesdays at 7:30pm1739 N High St Columbus, O...   \n",
       "1768  Wednesdays at 7:30pm1739 N High St Columbus, O...   \n",
       "\n",
       "                                              statement  \\\n",
       "0     1 Day for the K.I.A.’s purpose is to raise awa...   \n",
       "1     To help students at The Ohio State University ...   \n",
       "2     We strive to provide girls and nonbinary stude...   \n",
       "3     The purpose of this organization is to unite O...   \n",
       "4     The mission of the 2nd and 7 Foundation Medica...   \n",
       "...                                                 ...   \n",
       "1764  To foster the ideas of service, charity, schol...   \n",
       "1765  The purpose of Zeta Tau Alpha is the intensify...   \n",
       "1766  The purpose of the OSU CVM Zoo, Wildlife, and ...   \n",
       "1767  The purpose of Zoology Club is to enhance the ...   \n",
       "1768  Through a range of different dances from diffe...   \n",
       "\n",
       "                                                 topics  \n",
       "0     [Columbus,  Awareness/Activism,  Community Ser...  \n",
       "1     [Columbus,  Religious/Spiritual,  Awareness/Ac...  \n",
       "2     [Columbus,  Community Service/Service Learning...  \n",
       "3                          [Columbus,  Ethnic/Cultural]  \n",
       "4     [Columbus,  Community Service/Service Learning...  \n",
       "...                                                 ...  \n",
       "1764  [Columbus,  Social Fraternities/Sororities,  E...  \n",
       "1765  [Columbus,  Social Fraternities/Sororities,  A...  \n",
       "1766   [Columbus,  Academic/College,  Special Interest]  \n",
       "1767   [Columbus,  Academic/College,  Special Interest]  \n",
       "1768  [Columbus,  Ethnic/Cultural,  Creative and Per...  \n",
       "\n",
       "[1769 rows x 4 columns]"
      ]
     },
     "execution_count": 70,
     "metadata": {},
     "output_type": "execute_result"
    }
   ],
   "source": [
    "\n",
    "soup = BeautifulSoup(data, 'html.parser')\n",
    "\n",
    "# Good tutorial:\n",
    "#https://medium.com/geekculture/web-scraping-tables-in-python-using-beautiful-soup-8bbc31c5803e\n",
    "\n",
    "# Finding the holy table\n",
    "table = soup.find('table', class_='c-table')\n",
    "# print(table)\n",
    "# Collecting Ddata\n",
    "df = pd.DataFrame(columns=[\"name\", \"time\", \"statement\", \"topics\"])\n",
    "# df = pd.DataFrame()\n",
    "\n",
    "# Counter is for testing -- takes a long time to make url requests\n",
    "counter = 0\n",
    "for row in table.find_all('tr')[1:]:\n",
    "    # print(f\"Our row is {row}\")\n",
    "    # Find all data for each column\n",
    "    columns = row.find_all('td')\n",
    "    club_name = columns[0].text.strip()\n",
    "    \n",
    "    #-----------------------------EXTRA DATA--------------------------\n",
    "    if counter < 250:\n",
    "        url = columns[0].find(href=True)['href']\n",
    "        #url = columns[0].find('a').attrs['href'] <-- alternative code\n",
    "        #print(\"Found the URL:\", url)\n",
    "\n",
    "        d2 = requests.get(f\"https://activities.osu.edu/{url}\")\n",
    "        current_data = d2.text\n",
    "        club_site = BeautifulSoup(current_data, 'html.parser')\n",
    "        #print(club_site)\n",
    "\n",
    "        current_table = club_site.find('table', class_='c-table')\n",
    "        #print(current_table)\n",
    "\n",
    "        # current_columns = current_table.find_all('tr')\n",
    "        # current_campus = current_columns[0].text.strip()\n",
    "        # print(current_campus)\n",
    "\n",
    "        current_counter = 0\n",
    "        for current_row in current_table.find_all('tr')[1:]:\n",
    "            property = current_row.th.text.strip()\n",
    "\n",
    "            # Have to do this because the number of properties is not constant\n",
    "            if property == \"Meeting Time and Place:\":\n",
    "                current_time = current_row.find_all('td')[0].text.strip()\n",
    "                print(current_time)\n",
    "\n",
    "            # print(property)\n",
    "            # if current_counter == 14:\n",
    "            #     current_columns = current_row.find_all('td')\n",
    "            #     current_campus = current_columns[0].text.strip()\n",
    "            #     print(current_campus)\n",
    "            # current_counter += 1\n",
    "    #-----------------------------------------------------------------\n",
    "\n",
    "    statement = columns[1].text.strip()\n",
    "    topics = columns[2].text.strip().split(\",\")\n",
    "    if topics[-1] == '':\n",
    "        topics.pop()\n",
    "    datarow = pd.DataFrame([{\"name\":club_name, \"time\":current_time, \"statement\":statement, \"topics\": topics}])\n",
    "    df = df.append(datarow, ignore_index=True)\n",
    "    counter += 1\n",
    "df"
   ]
  },
  {
   "cell_type": "code",
   "execution_count": null,
   "metadata": {},
   "outputs": [],
   "source": []
  }
 ],
 "metadata": {
  "kernelspec": {
   "display_name": "Python 3.9.8 64-bit",
   "language": "python",
   "name": "python3"
  },
  "language_info": {
   "codemirror_mode": {
    "name": "ipython",
    "version": 3
   },
   "file_extension": ".py",
   "mimetype": "text/x-python",
   "name": "python",
   "nbconvert_exporter": "python",
   "pygments_lexer": "ipython3",
   "version": "3.9.8"
  },
  "orig_nbformat": 4,
  "vscode": {
   "interpreter": {
    "hash": "11938c6bc6919ae2720b4d5011047913343b08a43b18698fd82dedb0d4417594"
   }
  }
 },
 "nbformat": 4,
 "nbformat_minor": 2
}
